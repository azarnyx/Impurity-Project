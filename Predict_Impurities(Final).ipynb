{
 "cells": [
  {
   "cell_type": "markdown",
   "metadata": {
    "toc": true
   },
   "source": [
    "<h1>Table of Contents<span class=\"tocSkip\"></span></h1>\n",
    "<div class=\"toc\"><ul class=\"toc-item\"><li><span><a href=\"#Codebase\" data-toc-modified-id=\"Codebase-1\"><span class=\"toc-item-num\">1&nbsp;&nbsp;</span>Codebase</a></span><ul class=\"toc-item\"><li><span><a href=\"#FindFunctionalGroups.py\" data-toc-modified-id=\"FindFunctionalGroups.py-1.1\"><span class=\"toc-item-num\">1.1&nbsp;&nbsp;</span>FindFunctionalGroups.py</a></span></li><li><span><a href=\"#MainFunctions.py\" data-toc-modified-id=\"MainFunctions.py-1.2\"><span class=\"toc-item-num\">1.2&nbsp;&nbsp;</span>MainFunctions.py</a></span></li><li><span><a href=\"#FunctionsDB.py\" data-toc-modified-id=\"FunctionsDB.py-1.3\"><span class=\"toc-item-num\">1.3&nbsp;&nbsp;</span>FunctionsDB.py</a></span></li><li><span><a href=\"#AnalgCompds.py\" data-toc-modified-id=\"AnalgCompds.py-1.4\"><span class=\"toc-item-num\">1.4&nbsp;&nbsp;</span>AnalgCompds.py</a></span></li><li><span><a href=\"#CandiRxns.py\" data-toc-modified-id=\"CandiRxns.py-1.5\"><span class=\"toc-item-num\">1.5&nbsp;&nbsp;</span>CandiRxns.py</a></span></li><li><span><a href=\"#helpCompound.py\" data-toc-modified-id=\"helpCompound.py-1.6\"><span class=\"toc-item-num\">1.6&nbsp;&nbsp;</span>helpCompound.py</a></span></li><li><span><a href=\"#BalanceRxns.py\" data-toc-modified-id=\"BalanceRxns.py-1.7\"><span class=\"toc-item-num\">1.7&nbsp;&nbsp;</span>BalanceRxns.py</a></span></li><li><span><a href=\"#CheckRxns.py\" data-toc-modified-id=\"CheckRxns.py-1.8\"><span class=\"toc-item-num\">1.8&nbsp;&nbsp;</span>CheckRxns.py</a></span></li><li><span><a href=\"#RxnCenter.py\" data-toc-modified-id=\"RxnCenter.py-1.9\"><span class=\"toc-item-num\">1.9&nbsp;&nbsp;</span>RxnCenter.py</a></span></li><li><span><a href=\"#GenApplyTempl.py\" data-toc-modified-id=\"GenApplyTempl.py-1.10\"><span class=\"toc-item-num\">1.10&nbsp;&nbsp;</span>GenApplyTempl.py</a></span></li><li><span><a href=\"#RankImp.py\" data-toc-modified-id=\"RankImp.py-1.11\"><span class=\"toc-item-num\">1.11&nbsp;&nbsp;</span>RankImp.py</a></span></li></ul></li><li><span><a href=\"#Workflow\" data-toc-modified-id=\"Workflow-2\"><span class=\"toc-item-num\">2&nbsp;&nbsp;</span>Workflow</a></span><ul class=\"toc-item\"><li><span><a href=\"#Result-location\" data-toc-modified-id=\"Result-location-2.1\"><span class=\"toc-item-num\">2.1&nbsp;&nbsp;</span>Result location</a></span></li><li><span><a href=\"#Setting-up-parallel-environment\" data-toc-modified-id=\"Setting-up-parallel-environment-2.2\"><span class=\"toc-item-num\">2.2&nbsp;&nbsp;</span>Setting up parallel environment</a></span></li><li><span><a href=\"#SQL-connections\" data-toc-modified-id=\"SQL-connections-2.3\"><span class=\"toc-item-num\">2.3&nbsp;&nbsp;</span>SQL connections</a></span></li><li><span><a href=\"#Analogue-compounds\" data-toc-modified-id=\"Analogue-compounds-2.4\"><span class=\"toc-item-num\">2.4&nbsp;&nbsp;</span>Analogue compounds</a></span><ul class=\"toc-item\"><li><span><a href=\"#Analysis\" data-toc-modified-id=\"Analysis-2.4.1\"><span class=\"toc-item-num\">2.4.1&nbsp;&nbsp;</span>Analysis</a></span></li></ul></li><li><span><a href=\"#Candidate-reactions\" data-toc-modified-id=\"Candidate-reactions-2.5\"><span class=\"toc-item-num\">2.5&nbsp;&nbsp;</span>Candidate reactions</a></span><ul class=\"toc-item\"><li><span><a href=\"#Combined-analogue-pool-and-further-filtering\" data-toc-modified-id=\"Combined-analogue-pool-and-further-filtering-2.5.1\"><span class=\"toc-item-num\">2.5.1&nbsp;&nbsp;</span>Combined analogue pool and further filtering</a></span></li><li><span><a href=\"#Loading-reaction-dataframe\" data-toc-modified-id=\"Loading-reaction-dataframe-2.5.2\"><span class=\"toc-item-num\">2.5.2&nbsp;&nbsp;</span>Loading reaction dataframe</a></span></li><li><span><a href=\"#Retrieving-candidate-reactions-and-reaction-data\" data-toc-modified-id=\"Retrieving-candidate-reactions-and-reaction-data-2.5.3\"><span class=\"toc-item-num\">2.5.3&nbsp;&nbsp;</span>Retrieving candidate reactions and reaction data</a></span></li></ul></li><li><span><a href=\"#Balancing-reactions\" data-toc-modified-id=\"Balancing-reactions-2.6\"><span class=\"toc-item-num\">2.6&nbsp;&nbsp;</span>Balancing reactions</a></span></li><li><span><a href=\"#Candidate-reaction-filtering-(I)\" data-toc-modified-id=\"Candidate-reaction-filtering-(I)-2.7\"><span class=\"toc-item-num\">2.7&nbsp;&nbsp;</span>Candidate reaction filtering (I)</a></span></li><li><span><a href=\"#Mapping-reactions\" data-toc-modified-id=\"Mapping-reactions-2.8\"><span class=\"toc-item-num\">2.8&nbsp;&nbsp;</span>Mapping reactions</a></span></li><li><span><a href=\"#Candidate-reaction-filtering-(II)\" data-toc-modified-id=\"Candidate-reaction-filtering-(II)-2.9\"><span class=\"toc-item-num\">2.9&nbsp;&nbsp;</span>Candidate reaction filtering (II)</a></span></li><li><span><a href=\"#Checking-reactions\" data-toc-modified-id=\"Checking-reactions-2.10\"><span class=\"toc-item-num\">2.10&nbsp;&nbsp;</span>Checking reactions</a></span></li><li><span><a href=\"#Candidate-reaction-filtering-(III)\" data-toc-modified-id=\"Candidate-reaction-filtering-(III)-2.11\"><span class=\"toc-item-num\">2.11&nbsp;&nbsp;</span>Candidate reaction filtering (III)</a></span></li><li><span><a href=\"#Assigning-fragments-and-query-species\" data-toc-modified-id=\"Assigning-fragments-and-query-species-2.12\"><span class=\"toc-item-num\">2.12&nbsp;&nbsp;</span>Assigning fragments and query species</a></span></li><li><span><a href=\"#Candidate-reaction-filtering-(IV)\" data-toc-modified-id=\"Candidate-reaction-filtering-(IV)-2.13\"><span class=\"toc-item-num\">2.13&nbsp;&nbsp;</span>Candidate reaction filtering (IV)</a></span></li><li><span><a href=\"#Extracting-reaction-center\" data-toc-modified-id=\"Extracting-reaction-center-2.14\"><span class=\"toc-item-num\">2.14&nbsp;&nbsp;</span>Extracting reaction center</a></span></li><li><span><a href=\"#Candidate-reaction-filtering-(V)\" data-toc-modified-id=\"Candidate-reaction-filtering-(V)-2.15\"><span class=\"toc-item-num\">2.15&nbsp;&nbsp;</span>Candidate reaction filtering (V)</a></span></li><li><span><a href=\"#Valid-reaction-center\" data-toc-modified-id=\"Valid-reaction-center-2.16\"><span class=\"toc-item-num\">2.16&nbsp;&nbsp;</span>Valid reaction center</a></span></li><li><span><a href=\"#Candidate-reaction-filtering-(VI)\" data-toc-modified-id=\"Candidate-reaction-filtering-(VI)-2.17\"><span class=\"toc-item-num\">2.17&nbsp;&nbsp;</span>Candidate reaction filtering (VI)</a></span></li><li><span><a href=\"#Template-generation\" data-toc-modified-id=\"Template-generation-2.18\"><span class=\"toc-item-num\">2.18&nbsp;&nbsp;</span>Template generation</a></span></li><li><span><a href=\"#Candidate-reaction-filtering-(VII)\" data-toc-modified-id=\"Candidate-reaction-filtering-(VII)-2.19\"><span class=\"toc-item-num\">2.19&nbsp;&nbsp;</span>Candidate reaction filtering (VII)</a></span></li><li><span><a href=\"#Template-application-and-impurity-generation\" data-toc-modified-id=\"Template-application-and-impurity-generation-2.20\"><span class=\"toc-item-num\">2.20&nbsp;&nbsp;</span>Template application and impurity generation</a></span></li><li><span><a href=\"#Candidate-reaction-filtering-(VIII)\" data-toc-modified-id=\"Candidate-reaction-filtering-(VIII)-2.21\"><span class=\"toc-item-num\">2.21&nbsp;&nbsp;</span>Candidate reaction filtering (VIII)</a></span></li><li><span><a href=\"#Visualize-impurities\" data-toc-modified-id=\"Visualize-impurities-2.22\"><span class=\"toc-item-num\">2.22&nbsp;&nbsp;</span>Visualize impurities</a></span></li><li><span><a href=\"#Impurity-filtering\" data-toc-modified-id=\"Impurity-filtering-2.23\"><span class=\"toc-item-num\">2.23&nbsp;&nbsp;</span>Impurity filtering</a></span></li></ul></li></ul></div>"
   ]
  },
  {
   "cell_type": "code",
   "execution_count": 4,
   "metadata": {
    "ExecuteTime": {
     "end_time": "2021-04-20T16:04:40.247146Z",
     "start_time": "2021-04-20T16:04:39.600501Z"
    }
   },
   "outputs": [
    {
     "name": "stdout",
     "output_type": "stream",
     "text": [
      "\r\n",
      "     active environment : impurityproject\r\n",
      "    active env location : /home/aa2133/miniconda3/envs/impurityproject\r\n",
      "            shell level : 2\r\n",
      "       user config file : /home/aa2133/.condarc\r\n",
      " populated config files : \r\n",
      "          conda version : 4.8.5\r\n",
      "    conda-build version : not installed\r\n",
      "         python version : 3.8.3.final.0\r\n",
      "       virtual packages : __glibc=2.23\r\n",
      "       base environment : /home/aa2133/miniconda3  (writable)\r\n",
      "           channel URLs : https://repo.anaconda.com/pkgs/main/linux-64\r\n",
      "                          https://repo.anaconda.com/pkgs/main/noarch\r\n",
      "                          https://repo.anaconda.com/pkgs/r/linux-64\r\n",
      "                          https://repo.anaconda.com/pkgs/r/noarch\r\n",
      "          package cache : /home/aa2133/miniconda3/pkgs\r\n",
      "                          /home/aa2133/.conda/pkgs\r\n",
      "       envs directories : /home/aa2133/miniconda3/envs\r\n",
      "                          /home/aa2133/.conda/envs\r\n",
      "               platform : linux-64\r\n",
      "             user-agent : conda/4.8.5 requests/2.24.0 CPython/3.8.3 Linux/4.4.0-87-generic ubuntu/16.04.6 glibc/2.23\r\n",
      "                UID:GID : 1020:10003\r\n",
      "             netrc file : None\r\n",
      "           offline mode : False\r\n",
      "\r\n"
     ]
    }
   ],
   "source": [
    "from IPython.core.interactiveshell import InteractiveShell #Allow more than one output\n",
    "InteractiveShell.ast_node_interactivity = \"all\"\n",
    "!conda info"
   ]
  },
  {
   "cell_type": "markdown",
   "metadata": {},
   "source": [
    "# Codebase"
   ]
  },
  {
   "cell_type": "markdown",
   "metadata": {},
   "source": [
    "## FindFunctionalGroups.py"
   ]
  },
  {
   "cell_type": "markdown",
   "metadata": {},
   "source": [
    "FindFunctionalGroups.py contains code to extract functional groups from molecules. Note that this does not include aromatic carbons, straight chain alkanes or dihydrogen."
   ]
  },
  {
   "cell_type": "code",
   "execution_count": 5,
   "metadata": {
    "ExecuteTime": {
     "end_time": "2021-04-20T16:04:42.899192Z",
     "start_time": "2021-04-20T16:04:42.550304Z"
    }
   },
   "outputs": [
    {
     "data": {
      "text/plain": [
       "'\\nCreated on Fri Oct  2 14:35:18 2020\\n\\n@author: AADA01\\n'"
      ]
     },
     "execution_count": 5,
     "metadata": {},
     "output_type": "execute_result"
    },
    {
     "name": "stdout",
     "output_type": "stream",
     "text": [
      " 1: 4 fgs [IFG(atomIds=(2,), atoms='n', type='cnc'), IFG(atomIds=(4, 5, 6, 7), atoms='NS(=O)=O', type='cNS(c)(=O)=O'), IFG(atomIds=(12,), atoms='N', type='cN'), IFG(atomIds=(15,), atoms='n', type='cnc')]\n",
      " 2: 4 fgs [IFG(atomIds=(0, 1, 2), atoms='N=CN', type='cC(=N)N'), IFG(atomIds=(8, 7), atoms='C=C', type='cC=Cc'), IFG(atomIds=(15,), atoms='O', type='cO'), IFG(atomIds=(16, 17, 18), atoms='N=CN', type='cC(=N)N')]\n",
      " 3: 4 fgs [IFG(atomIds=(1, 2, 3), atoms='NC=O', type='cNC(C)=O'), IFG(atomIds=(5, 6), atoms='nn', type='cnnc'), IFG(atomIds=(8,), atoms='s', type='csc'), IFG(atomIds=(9, 10, 11, 12), atoms='NS(=O)=O', type='cS(N)(=O)=O')]\n",
      " 4: 3 fgs [IFG(atomIds=(0, 1, 2, 3), atoms='NS(=O)=O', type='cS(N)(=O)=O'), IFG(atomIds=(8, 9, 10, 11, 12, 13), atoms='NCNS(=O)=O', type='O=S1(=O)ccNCN1'), IFG(atomIds=(16,), atoms='Cl', type='cCl')]\n",
      " 5: 3 fgs [IFG(atomIds=(1, 2, 3), atoms='N=CN', type='cN=C(C)NC'), IFG(atomIds=(8,), atoms='Cl', type='cCl'), IFG(atomIds=(11, 12, 13), atoms='C=[N+][O-]', type='cC(c)=[N+](C)[O-]')]\n",
      " 6: 4 fgs [IFG(atomIds=(2, 3), atoms='no', type='cnoc'), IFG(atomIds=(8, 6, 7), atoms='NC=O', type='cC(=O)NC'), IFG(atomIds=(16, 17, 18, 10, 11), atoms='O=CNCS', type='O=C1CC2SCCN12'), IFG(atomIds=(19, 20, 21), atoms='O=CO', type='CC(=O)O')]\n",
      " 7: 4 fgs [IFG(atomIds=(0,), atoms='Cl', type='cCl'), IFG(atomIds=(8, 7), atoms='C=N', type='cC(c)=NC'), IFG(atomIds=(10, 11, 12), atoms='NC=O', type='cNC(C)=O'), IFG(atomIds=(19, 20, 21), atoms='O=[N+][O-]', type='c[N+](=O)[O-]')]\n",
      " 8: 6 fgs [IFG(atomIds=(1,), atoms='O', type='cOC'), IFG(atomIds=(8, 9, 7), atoms='NC=O', type='cC(=O)NC'), IFG(atomIds=(15,), atoms='N', type='CN(C)C'), IFG(atomIds=(17, 18), atoms='C=C', type='C=CC'), IFG(atomIds=(20,), atoms='O', type='cOC'), IFG(atomIds=(24, 25, 22, 23), atoms='NS(=O)=O', type='cS(N)(=O)=O')]\n",
      " 9: 4 fgs [IFG(atomIds=(5,), atoms='Cl', type='cCl'), IFG(atomIds=(7,), atoms='N', type='cNc'), IFG(atomIds=(16, 14, 15), atoms='O=CO', type='cC(=O)O'), IFG(atomIds=(18,), atoms='Cl', type='cCl')]\n",
      "10: 4 fgs [IFG(atomIds=(0,), atoms='Cl', type='cCl'), IFG(atomIds=(5,), atoms='O', type='cOc'), IFG(atomIds=(12, 13, 14), atoms='N=CN', type='cN=C(c)N(C)C'), IFG(atomIds=(17,), atoms='N', type='CNC')]\n",
      "11: 6 fgs [IFG(atomIds=(0,), atoms='F', type='CF'), IFG(atomIds=(2,), atoms='F', type='CF'), IFG(atomIds=(3,), atoms='F', type='CF'), IFG(atomIds=(5, 6, 7), atoms='NC=O', type='cN(C)C(C)=O'), IFG(atomIds=(9, 10), atoms='C=N', type='cC(c)=NC'), IFG(atomIds=(20,), atoms='Cl', type='cCl')]\n",
      "12: 7 fgs [IFG(atomIds=(0,), atoms='O', type='CO'), IFG(atomIds=(3,), atoms='O', type='COC'), IFG(atomIds=(7,), atoms='O', type='CO'), IFG(atomIds=(8,), atoms='n', type='cn(c)C'), IFG(atomIds=(10,), atoms='n', type='cnc'), IFG(atomIds=(13,), atoms='O', type='CO'), IFG(atomIds=(16, 17, 15), atoms='N=CN', type='cN=CNC')]\n",
      "13: 4 fgs [IFG(atomIds=(2,), atoms='N', type='CNC'), IFG(atomIds=(8, 9, 7), atoms='O=S=O', type='cS(C)(=O)=O'), IFG(atomIds=(11,), atoms='s', type='csc'), IFG(atomIds=(16, 17, 18, 15), atoms='NS(=O)=O', type='cS(N)(=O)=O')]\n",
      "14: 4 fgs [IFG(atomIds=(2,), atoms='O', type='CO'), IFG(atomIds=(7, 8, 9, 10, 11, 12, 13, 14, 15), atoms='O=CNC(=CS)C(=O)O', type='CSC1=C(C(=O)O)N2C(=O)CC2C1'), IFG(atomIds=(18,), atoms='N', type='CNC'), IFG(atomIds=(21, 22, 23), atoms='NC=O', type='CC(=O)N(C)C')]\n",
      "15: 8 fgs [IFG(atomIds=(3,), atoms='N', type='cN(C)C'), IFG(atomIds=(7,), atoms='N', type='CNC'), IFG(atomIds=(10,), atoms='F', type='cF'), IFG(atomIds=(12,), atoms='N', type='cN'), IFG(atomIds=(15,), atoms='O', type='c=O'), IFG(atomIds=(18,), atoms='n', type='cn(c)C'), IFG(atomIds=(24,), atoms='F', type='cF'), IFG(atomIds=(25, 26, 27), atoms='O=CO', type='cC(=O)O')]\n",
      "16: 2 fgs [IFG(atomIds=(1, 2), atoms='C=C', type='CC=C(C)C'), IFG(atomIds=(5, 6, 7, 8, 9, 10), atoms='O=CNNC=O', type='cN1C(=O)CC(=O)N1c')]\n",
      "17: 3 fgs [IFG(atomIds=(0,), atoms='Cl', type='cCl'), IFG(atomIds=(5, 6, 7, 8, 9, 11), atoms='N=C(N)NC=O', type='cN=C1NC(=O)CN1C'), IFG(atomIds=(15,), atoms='Cl', type='cCl')]\n",
      "18: 6 fgs [IFG(atomIds=(1, 2, 3), atoms='NC=O', type='CNC(C)=O'), IFG(atomIds=(8, 9, 6, 7), atoms='N=C(N)N', type='CNC(=N)N'), IFG(atomIds=(20, 21, 22, 10, 11, 12), atoms='C=C(O)C(=O)O', type='CC=C(OC)C(=O)O'), IFG(atomIds=(15,), atoms='O', type='CO'), IFG(atomIds=(17,), atoms='O', type='CO'), IFG(atomIds=(19,), atoms='O', type='CO')]\n",
      "19: 8 fgs [IFG(atomIds=(2,), atoms='O', type='CO'), IFG(atomIds=(4,), atoms='O', type='CO'), IFG(atomIds=(7,), atoms='N', type='cNC'), IFG(atomIds=(9,), atoms='n', type='cnc'), IFG(atomIds=(11,), atoms='N', type='cN'), IFG(atomIds=(12,), atoms='n', type='cnc'), IFG(atomIds=(14,), atoms='O', type='cO'), IFG(atomIds=(16,), atoms='N', type='cNC')]\n",
      "20: 7 fgs [IFG(atomIds=(0,), atoms='N', type='CN'), IFG(atomIds=(6,), atoms='N', type='cN(C)C'), IFG(atomIds=(10,), atoms='Cl', type='cCl'), IFG(atomIds=(14,), atoms='O', type='c=O'), IFG(atomIds=(17,), atoms='n', type='cn(c)C'), IFG(atomIds=(23,), atoms='Cl', type='cCl'), IFG(atomIds=(24, 25, 26), atoms='O=CO', type='cC(=O)O')]\n"
     ]
    }
   ],
   "source": [
    "# %%writefile FindFunctionalGroups.py\n",
    "# %load ./FindFunctionalGroups.py\n",
    "\"\"\"\n",
    "Created on Fri Oct  2 14:35:18 2020\n",
    "\n",
    "@author: AADA01\n",
    "\"\"\"\n",
    "\n",
    "#\n",
    "#  Original authors: Richard Hall and Guillaume Godin\n",
    "#  This file is part of the RDKit.\n",
    "#  The contents are covered by the terms of the BSD license\n",
    "#  which is included in the file license.txt, found at the root\n",
    "#  of the RDKit source tree.\n",
    "\n",
    "#\n",
    "#\n",
    "# Richard hall 2017\n",
    "# IFG main code\n",
    "# Guillaume Godin 2017\n",
    "# refine output function\n",
    "# astex_ifg: identify functional groups a la Ertl, J. Cheminform (2017) 9:36\n",
    "\n",
    "from rdkit import Chem\n",
    "from collections import namedtuple\n",
    "\n",
    "def merge(mol, marked, aset):\n",
    "    bset = set()\n",
    "    for idx in aset:\n",
    "        atom = mol.GetAtomWithIdx(idx)\n",
    "        for nbr in atom.GetNeighbors():\n",
    "            jdx = nbr.GetIdx()\n",
    "            if jdx in marked:\n",
    "                marked.remove(jdx)\n",
    "                bset.add(jdx)\n",
    "    if not bset:\n",
    "        return\n",
    "    merge(mol, marked, bset)\n",
    "    aset.update(bset)\n",
    "\n",
    "# atoms connected by non-aromatic double or triple bond to any heteroatom\n",
    "# c=O should not match (see fig1, box 15).  I think using A instead of * should sort that out?\n",
    "PATT_DOUBLE_TRIPLE = Chem.MolFromSmarts('A=,#[!#6]')\n",
    "# atoms in non aromatic carbon-carbon double or triple bonds\n",
    "PATT_CC_DOUBLE_TRIPLE = Chem.MolFromSmarts('C=,#C')\n",
    "# acetal carbons, i.e. sp3 carbons connected to tow or more oxygens, nitrogens or sulfurs; these O, N or S atoms must have only single bonds\n",
    "PATT_ACETAL = Chem.MolFromSmarts('[CX4](-[O,N,S])-[O,N,S]')\n",
    "# all atoms in oxirane, aziridine and thiirane rings\n",
    "PATT_OXIRANE_ETC = Chem.MolFromSmarts('[O,N,S]1CC1')\n",
    "\n",
    "PATT_TUPLE = (PATT_DOUBLE_TRIPLE, PATT_CC_DOUBLE_TRIPLE, PATT_ACETAL, PATT_OXIRANE_ETC)\n",
    "\n",
    "def identify_functional_groups(mol):\n",
    "    marked = set()\n",
    "#mark all heteroatoms in a molecule, including halogens\n",
    "    for atom in mol.GetAtoms():\n",
    "        if atom.GetAtomicNum() not in (6,1): # would we ever have hydrogen?\n",
    "            marked.add(atom.GetIdx())\n",
    "\n",
    "#mark the four specific types of carbon atom\n",
    "    for patt in PATT_TUPLE:\n",
    "        for path in mol.GetSubstructMatches(patt):\n",
    "            for atomindex in path:\n",
    "                marked.add(atomindex)\n",
    "\n",
    "#merge all connected marked atoms to a single FG\n",
    "    groups = []\n",
    "    while marked:\n",
    "        grp = set([marked.pop()])\n",
    "        merge(mol, marked, grp)\n",
    "        groups.append(grp)\n",
    "\n",
    "#extract also connected unmarked carbon atoms\n",
    "    ifg = namedtuple('IFG', ['atomIds', 'atoms', 'type'])\n",
    "    ifgs = []\n",
    "    for g in groups:\n",
    "        uca = set()\n",
    "        for atomidx in g:\n",
    "            for n in mol.GetAtomWithIdx(atomidx).GetNeighbors():\n",
    "                if n.GetAtomicNum() == 6:\n",
    "                    uca.add(n.GetIdx())\n",
    "        ifgs.append(ifg(atomIds=tuple(list(g)), atoms=Chem.MolFragmentToSmiles(mol, g, canonical=True), type=Chem.MolFragmentToSmiles(mol, g.union(uca),canonical=True)))\n",
    "    return ifgs\n",
    "\n",
    "def main():\n",
    "    for ix, smiles in enumerate([\n",
    "        'Cc1nc(NS(=O)(=O)c2ccc(N)cc2)nc(C)c1', # fig1, 1\n",
    "        'NC(=N)c1ccc(C=Cc2ccc(cc2O)C(=N)N)cc1', # 2\n",
    "        'CC(=O)Nc1nnc(s1)S(=O)(=O)N', # 3\n",
    "        'NS(=O)(=O)c1cc2c(NCNS2(=O)=O)cc1Cl', # 4\n",
    "        'CNC1=Nc2ccc(Cl)cc2C(=N(=O)C1)c3ccccc3', # 5\n",
    "        'Cc1onc(c1C(=O)NC2C3SC(C)(C)C(N3C2=O)C(=O)O)c4ccccc4', # 6\n",
    "        'Clc1ccccc1C2=NCC(=O)Nc3ccc(cc23)N(=O)=O', # 7\n",
    "        'COc1cc(cc(C(=O)NCC2CCCN2CC=C)c1OC)S(=O)(=O)N', # 8\n",
    "        'Cc1ccc(Cl)c(Nc2ccccc2C(=O)O)c1Cl', # 9\n",
    "        'Clc1ccc2Oc3ccccc3N=C(N4CCNCC4)c2c1', # 10 - there is a discrepancy with the paper here!  I wonder if Peter has the ring as aromatic?\n",
    "        'FC(F)(F)CN1C(=O)CN=C(c2ccccc2)c3cc(Cl)ccc13', # 11\n",
    "        'OCC1OC(CC1O)n2cnc3C(O)CNC=Nc32', # 12\n",
    "        'CCNC1CC(C)S(=O)(=O)c2sc(cc12)S(=O)(=O)N', # 13\n",
    "        'CC(O)C1C2C(C)C(=C(N2C1=O)C(=O)O)SC3CNC(C3)C(=O)N(C)C', # 14\n",
    "        'CC1CN(CC(C)N1)c2c(F)c(N)c3c(=O)c(cn(C4CC4)c3c2F)C(=O)O', # 15\n",
    "        'CC(=CCC1C(=O)N(N(C1=O)c2ccccc2)c3ccccc3)C', # 16\n",
    "        'Clc1ccc2N=C3NC(=O)CN3Cc2c1Cl', # 17\n",
    "        'CC(=O)NC1C(NC(=N)N)C=C(OC1C(O)C(O)CO)C(=O)O', # 18\n",
    "        'CC(O)C(O)C1CNc2nc(N)nc(O)c2N1', # 19\n",
    "        'NC1CCCCN(C1)c2c(Cl)cc3c(=O)c(cn(C4CC4)c3c2Cl)C(=O)O', # 20\n",
    "    ]):\n",
    "        m = Chem.MolFromSmiles(smiles)\n",
    "        fgs = identify_functional_groups(m)\n",
    "        print('%2d: %d fgs'%(ix+1, len(fgs)), fgs)\n",
    "\n",
    "\n",
    "if __name__ == \"__main__\":\n",
    "    main()"
   ]
  },
  {
   "cell_type": "markdown",
   "metadata": {},
   "source": [
    "## MainFunctions.py"
   ]
  },
  {
   "cell_type": "markdown",
   "metadata": {},
   "source": [
    "MainFunctions.py contains baseline dependencies, and utility code that other sections of the workflow need"
   ]
  },
  {
   "cell_type": "code",
   "execution_count": 6,
   "metadata": {
    "ExecuteTime": {
     "end_time": "2021-04-20T16:04:48.781001Z",
     "start_time": "2021-04-20T16:04:47.062812Z"
    }
   },
   "outputs": [],
   "source": [
    "# %%writefile MainFunctions.py\n",
    "from rdkit import Chem #Importing RDKit\n",
    "from rdkit.Chem import Draw #For drawing molecules/reactions\n",
    "from rdkit.Chem import rdChemReactions #Reaction processing\n",
    "from rdkit.Chem.Draw import rdMolDraw2D #Drawing 2D molecules/reactions\n",
    "from IPython.display import SVG  #For SVG support\n",
    "from PIL import Image #Working with images\n",
    "import io\n",
    "import os #Working with the OS\n",
    "try:\n",
    "    import pickle5 as pickle #Only if pickle doesn't work\n",
    "except Exception:\n",
    "    import pickle\n",
    "import cairosvg\n",
    "import shutil\n",
    "from rxnmapper import RXNMapper #Importing RXNMapper for unsupervised atom mapping\n",
    "from rdkit.Chem import PeriodicTable, GetPeriodicTable\n",
    "\n",
    "#%% Generating mol files\n",
    "\n",
    "def molfromsmiles(SMILES):\n",
    "    '''\n",
    "    Converts a smiles string into a mol object for RDKit use. Also graphically\n",
    "    represents molecule using matplotlib.\n",
    "\n",
    "    Parameters\n",
    "    ----------\n",
    "    SMILES : String\n",
    "        Smiles string of molecule\n",
    "\n",
    "    Returns\n",
    "    -------\n",
    "    mol: RDKit mol object\n",
    "\n",
    "    '''\n",
    "\n",
    "    mol=Chem.MolFromSmiles(SMILES)\n",
    "    Chem.SanitizeMol(mol)\n",
    "    mol.UpdatePropertyCache(strict=False)\n",
    "    return mol\n",
    "\n",
    "#%% Drawing reactions/mols\n",
    "\n",
    "\n",
    "def mol_with_atom_index(mol):\n",
    "    '''\n",
    "    Draw a molecule with atom index numbers (set by RDKit)\n",
    "\n",
    "    Parameters\n",
    "    ----------\n",
    "    mol : RDKit mol\n",
    "        RDKit mol plain\n",
    "\n",
    "    Returns\n",
    "    -------\n",
    "    mol : RDkit mol\n",
    "        RDKit mol with atom indices\n",
    "\n",
    "    '''\n",
    "    for atom in mol.GetAtoms():\n",
    "        atom.SetAtomMapNum(atom.GetIdx())\n",
    "    return mol\n",
    "\n",
    "\n",
    "def moveAtomMapsToNotes(m):\n",
    "    '''\n",
    "    Make note of the atom mapping\n",
    "\n",
    "    Parameters\n",
    "    ----------\n",
    "    m : RDKit mol\n",
    "      Mapped RDKit mol\n",
    "\n",
    "    Returns\n",
    "    -------\n",
    "    RDKit mol with map numbers set as notes\n",
    "\n",
    "    '''\n",
    "    for at in m.GetAtoms():\n",
    "        if at.GetAtomMapNum():\n",
    "            at.SetProp(\"atomNote\",str(at.GetAtomMapNum()))\n",
    "            #at.SetAtomMapNum(0)\n",
    "\n",
    "def drawReaction(rxn):\n",
    "    '''\n",
    "    Produces an SVG of a mapped reaction\n",
    "\n",
    "    Parameters\n",
    "    ----------\n",
    "    rxn : String\n",
    "        Reaction SMARTS string\n",
    "\n",
    "    Returns\n",
    "    -------\n",
    "    SVG image\n",
    "\n",
    "    '''\n",
    "    trxn = rdChemReactions.ChemicalReaction(rxn)\n",
    "    for m in trxn.GetReactants():\n",
    "        moveAtomMapsToNotes(m)\n",
    "    for m in trxn.GetProducts():\n",
    "        moveAtomMapsToNotes(m)\n",
    "    # if filetype=='svg':\n",
    "#     d2d = rdMolDraw2D.MolDraw2DSVG(4000,500)\n",
    "    d2d=rdMolDraw2D.MolDraw2DSVG(1000,500)\n",
    "    # else:\n",
    "    #     d2d=rdMolDraw2D.MolDraw2DCairo(4000,500)\n",
    "\n",
    "    d2d.DrawReaction(trxn,highlightByReactant=True)\n",
    "    d2d.FinishDrawing()\n",
    "    img=d2d.GetDrawingText()\n",
    "\n",
    "    # if filetype=='svg':\n",
    "\n",
    "    return SVG(img)\n",
    "    # else:\n",
    "    #     im=Image.open(io.BytesIO(img))\n",
    "    #     return im\n",
    "        # d2d.WriteDrawingText('text.png') #Only works with cairo, plus atom notes not included\n",
    "\n",
    "def drawMol(m,filetype):\n",
    "    '''\n",
    "    Produces an SVG of RDKit mol\n",
    "    \n",
    "    Parameters\n",
    "    ----------\n",
    "    m : RDKit mol\n",
    "\n",
    "    Returns\n",
    "    -------\n",
    "    SVG image\n",
    "\n",
    "    '''\n",
    "    if filetype=='svg':\n",
    "        d=rdMolDraw2D.MolDraw2DSVG(400,300)\n",
    "    else:\n",
    "        d=rdMolDraw2D.MolDraw2DCairo(400,300)\n",
    "\n",
    "    Draw.PrepareAndDrawMolecule(d,m)\n",
    "    d.FinishDrawing()\n",
    "    img=d.GetDrawingText()\n",
    "\n",
    "    if filetype=='svg':\n",
    "        return SVG(img)\n",
    "    else:\n",
    "        im=Image.open(io.BytesIO(img))\n",
    "        return im\n",
    "\n",
    "\n",
    "#%% Utility Functions\n",
    "class CustomError(Exception):\n",
    "    '''\n",
    "    For error handling\n",
    "    '''\n",
    "    pass\n",
    "\n",
    "def openpickle(filename):\n",
    "    '''\n",
    "    Takes a pickled file and loads it\n",
    "\n",
    "    Parameters\n",
    "    ----------\n",
    "    filename : str\n",
    "        File path of .pickle file\n",
    "\n",
    "    Returns\n",
    "    -------\n",
    "    loadfile : Python object\n",
    "        \n",
    "\n",
    "    '''\n",
    "    infile=open(filename,'rb')\n",
    "    infile.seek(0)\n",
    "    loadfile=pickle.load(infile)\n",
    "    infile.close()\n",
    "    return loadfile\n",
    "    # with open('filename', 'rb') as handle: #Faster way\n",
    "    # return pickle.load(handle)\n",
    "\n",
    "def writepickle(pkl,directory,filename):\n",
    "    '''\n",
    "    Parameters\n",
    "    ----------\n",
    "    pkl : Python object\n",
    "    \n",
    "    filename : String\n",
    "        Directory to save in (exclude extension)\n",
    "\n",
    "    Returns\n",
    "    -------\n",
    "    None.\n",
    "\n",
    "    '''\n",
    "    if not os.path.exists(directory):\n",
    "        os.makedirs(directory)\n",
    "    with open(directory+filename+'.pickle', 'wb') as handle:\n",
    "        pickle.dump(pkl, handle, protocol=pickle.HIGHEST_PROTOCOL)\n",
    "\n",
    "\n",
    "def getlist(refdict,key):\n",
    "    '''\n",
    "    Gets list from a reference dictionary, given a key.\n",
    "    Assumes refdict is a dictionary within a dictionary.\n",
    "    \n",
    "    Parameters\n",
    "    ----------\n",
    "    refdict : Dictionary\n",
    "        Reference dictionary with keys as Reaxys ID\n",
    "    key : String\n",
    "        The reaction property that need to be retrieved\n",
    "\n",
    "    Returns\n",
    "    -------\n",
    "    list: List of elements\n",
    "\n",
    "    '''\n",
    "    return [rxn[key] for rxn in refdict.values() if key in rxn.keys()]\n",
    "\n",
    "\n",
    "def writetofile(rxnimg,directory):\n",
    "    '''\n",
    "    Takes a reaction image and saves it to a specified directory (usually after calling drawReaction)\n",
    "\n",
    "    Parameters\n",
    "    ----------\n",
    "    rxnimg : Reaction sketch\n",
    "    \n",
    "    directory : String\n",
    "        File path to write the image to\n",
    "\n",
    "    Returns\n",
    "    -------\n",
    "    None.\n",
    "\n",
    "    '''\n",
    "    open(directory,'w').write(rxnimg.data)\n",
    "\n",
    "def delcontents(directory):\n",
    "    '''\n",
    "    Deletes contents of a directory\n",
    "    \n",
    "    Parameters\n",
    "    ----------\n",
    "    directory : String\n",
    "        Directory to delete\n",
    "\n",
    "    Returns\n",
    "    -------\n",
    "    None.\n",
    "    \n",
    "    '''\n",
    "    for filename in os.listdir(directory):\n",
    "        file_path = os.path.join(directory, filename)\n",
    "        try:\n",
    "            if os.path.isfile(file_path) or os.path.islink(file_path):\n",
    "                os.unlink(file_path)\n",
    "            elif os.path.isdir(file_path):\n",
    "                shutil.rmtree(file_path)\n",
    "        except Exception as e:\n",
    "            print('Failed to delete %s. Reason: %s' % (file_path, e))\n",
    "\n",
    "\n",
    "\n",
    "def convSVGtoPNG(filename, filenameout):\n",
    "    '''\n",
    "    Converts SVG images to PNG images for easier copy pasting (eg./ to Word)\n",
    "\n",
    "    Parameters\n",
    "    ----------\n",
    "    filename : String\n",
    "        File name of SVG image \n",
    "        \n",
    "    filenameout : String\n",
    "        File name of PNG image\n",
    "\n",
    "    Returns\n",
    "    -------\n",
    "    None.\n",
    "\n",
    "    '''\n",
    "    cairosvg.svg2png(url=filename+\".svg\", write_to=filenameout+\".png\")\n",
    "\n",
    "#%% Reaction Mapping\n",
    "\n",
    "def maprxn(rxns):\n",
    "    \"\"\"\n",
    "    For a given list of reactions, rxns, returns mapped reactions with confidence scores.\n",
    "    Uses IBM transformer model.\n",
    "\n",
    "    Parameters\n",
    "    ----------\n",
    "    rxns : list\n",
    "        List of reaction SMILES (no reactant/reagent split)\n",
    "\n",
    "    Returns\n",
    "    -------\n",
    "    Output : list\n",
    "        Mapped reactions with confidence scores\n",
    "           \n",
    "           mapped_rxn: str\n",
    "               Mapped reaction SMARTS\n",
    "             \n",
    "           confidence: str\n",
    "               Model confidence in the mapping rxn\n",
    "                   \n",
    "    ['Error']: list\n",
    "        If code doesn't run or mapper doesn't work\n",
    "    \"\"\"\n",
    "\n",
    "    rxn_mapper=RXNMapper()\n",
    "    try:\n",
    "        return rxn_mapper.get_attention_guided_atom_maps(rxns)\n",
    "    except Exception:\n",
    "        return ['Error']\n",
    "    \n",
    "    \n",
    "    \n",
    "\n",
    "\n",
    "#%% Analyzing mol files\n",
    "\n",
    "def atomtypes(mol):\n",
    "    \"\"\"\n",
    "    Generates an atom type dictionary with counts for a given mol file. Also\n",
    "    returns overall change of mol\n",
    "\n",
    "    Parameters\n",
    "    ----------\n",
    "    mol : RDKit mol\n",
    "\n",
    "    Returns\n",
    "    -------\n",
    "    typedict : dict\n",
    "        Dictionary with keys as atom element and value as count\n",
    "    charge : int\n",
    "        Overall charge of supplied molecule\n",
    "\n",
    "    \"\"\"\n",
    "\n",
    "    typedict={}\n",
    "    mol2=Chem.AddHs(mol) #Assumes hydrogens are added\n",
    "    charge=0\n",
    "    for atom in mol2.GetAtoms():\n",
    "        elem=PeriodicTable.GetElementSymbol(GetPeriodicTable(),atom.GetAtomicNum())\n",
    "        charge+=atom.GetFormalCharge()\n",
    "        if elem not in typedict.keys():\n",
    "            typedict[elem]=1\n",
    "        else:\n",
    "            typedict[elem]+=1\n",
    "    return typedict, charge\n",
    "\n",
    "\n",
    "\n",
    "def getcompdict(ID=1,mol=None,smiles=None,formula=None,FragDB=None):\n",
    "    '''\n",
    "    Wrapper for atomtypes. ID must be input whether Reaxys ID or random number. Default is 1. \n",
    "    Smiles and mol can also be specified. Can be converted to an object instance if intended.\n",
    "\n",
    "    Parameters\n",
    "    ----------\n",
    "    ID : int, optional\n",
    "        ID of compound/mol. The default is 1.\n",
    "    mol : RDKit mol, optional\n",
    "        RDKit mol. The default is None.\n",
    "    smiles : str, optional\n",
    "        mol smiles. The default is None.\n",
    "    formula : str, optional\n",
    "        mol formula. The default is None.\n",
    "    FragDB : Pandas dataframe, optional\n",
    "        Pandas dataframe to find smiles of ID. The default is None.\n",
    "\n",
    "    Raises\n",
    "    ------\n",
    "    CustomError\n",
    "        Raises error if smiles/mol not specified, only ID specified\n",
    "        without reference fragment dataframe. Also if anything specified\n",
    "        is not valid/cannot be processed.\n",
    "\n",
    "    Returns\n",
    "    -------\n",
    "    compddict : dict\n",
    "        Compound dictionary with ID as key and another dictionary with the\n",
    "        following keys: 'atomdict' (Output of atomtypes, dictionary with atom\n",
    "        elements and count), 'charge' (Overall charge of mol),'smiles'\n",
    "        (smiles of mol),'formula' (chemical formula),'count' (instance number, always 1)\n",
    "\n",
    "    '''\n",
    "\n",
    "    if smiles is None and mol is None:\n",
    "        if FragDB is None:\n",
    "            raise CustomError(\"Please provide a reference fragment database\")\n",
    "        try:\n",
    "            smiles=locrecord(ID,FragDB,smiles=True)\n",
    "        except Exception as e:\n",
    "            raise CustomError(\"Compound \"+str(ID)+\" isn't in dataframe\")\n",
    "        try:\n",
    "            mol=molfromsmiles(smiles)\n",
    "        except Exception as e:\n",
    "            raise CustomError(\"Compound \"+str(ID)+\" smiles is invalid\")\n",
    "    elif smiles:\n",
    "        try:\n",
    "            mol=molfromsmiles(smiles)\n",
    "        except Exception as e:\n",
    "            raise CustomError(\"Compound \"+str(ID)+\" smiles is invalid\")\n",
    "    if formula is None:\n",
    "        formula=Chem.rdMolDescriptors.CalcMolFormula(mol)\n",
    "    atomdata=atomtypes(mol)\n",
    "    compddict={ID:{'atomdict':atomdata[0],'charge':atomdata[1],'smiles':smiles,'formula':formula,'count':1}}\n",
    "    return compddict\n",
    "\n",
    "#%% Database functions\n",
    "\n",
    "def locrecord(ID,DB,smiles=False,fragsmarts=False,fragsmiles=False,mixture=False):\n",
    "    '''\n",
    "    Returns desired information by searching fragment database by ID\n",
    "\n",
    "    Parameters\n",
    "    ----------\n",
    "    ID : int\n",
    "        Substance ID to search for\n",
    "    DB : pandas dataframe\n",
    "        Fragment database with primary index as fragment smiles and secondary index as substance ID\n",
    "    smiles : bool, optional\n",
    "        Specify True if only smiles needs to be returned. The default is False.\n",
    "    fragsmarts : bool, optional\n",
    "        Specify True if only fragment smarts need to be returned. The default is False.\n",
    "    fragsmiles : bool, optional\n",
    "        Specify True if only fragment smiles needs to be returned . The default is False.\n",
    "    mixture : bool, optional\n",
    "        Specify True if only mixture presence needs to be returned. The default is False.\n",
    "\n",
    "    Returns\n",
    "    -------\n",
    "    Output : pandas row or str depending on input preference. If everything is False, row will be returned\n",
    "\n",
    "    '''\n",
    "\n",
    "    record=DB.xs(ID,level=1)\n",
    "    if smiles:\n",
    "        return record.Smiles.unique()[0]\n",
    "    if fragsmarts:\n",
    "        return record.FragmentSmarts.values\n",
    "    if fragsmiles:\n",
    "        return record.index.values\n",
    "    if mixture:\n",
    "        return record['>1 Compound'].unique()[0]\n",
    "    return record\n",
    "\n",
    "#%% Joining smiles\n",
    "\n",
    "def getfragments(chemlist,smiles=False,ref=None):\n",
    "    '''\n",
    "    Concatenates smiles strings in a list separated by '.' If ID's are given instead,\n",
    "    looks up IDs in reference dictionary or database.\n",
    "\n",
    "    Parameters\n",
    "    ----------\n",
    "    chemlist : list\n",
    "        List of smiles strings OR substance IDs\n",
    "    ref : dict/database (Optional if list of smiles, mandatory if list of IDs)\n",
    "        If database provided should be multiindexed with smiles string attached to the ID as key. \n",
    "        At the moment only fragment database allowed.\n",
    "    smiles: bool\n",
    "        Indicate if chemlist is smiles or not\n",
    "\n",
    "    Returns\n",
    "    -------\n",
    "    frag : str\n",
    "        String joining all smiles given in/calculated from chemlist with '.' operator\n",
    "\n",
    "    '''\n",
    "    if chemlist==[]:\n",
    "        raise CustomError('ERROR: NO CHEMICALS IN LIST PROVIDED')\n",
    "    if smiles: #List of smiles provided\n",
    "        return '.'.join(chemlist)\n",
    "    else: #List of IDs given\n",
    "        if ref is None:\n",
    "            raise CustomError(\"Please supply reference (fragment) database multiindexed with ID as second level and containing a Smiles column\")\n",
    "        try:\n",
    "            frag='.'.join([locrecord(ID,ref,smiles=True) for ID in chemlist])\n",
    "        except Exception:\n",
    "            raise CustomError('One or more compounds missing from database')\n",
    "        else:\n",
    "            return frag\n",
    "        "
   ]
  },
  {
   "cell_type": "markdown",
   "metadata": {},
   "source": [
    "## FunctionsDB.py"
   ]
  },
  {
   "cell_type": "markdown",
   "metadata": {},
   "source": [
    "FunctionsDB.py includes functions related to database processing and database creation (substance and fragment). `getCarrierFragments` is the most important function here which builds fragments by expanding from functional groups identified in `identify_functional_groups` in FindFunctionalGroups.py."
   ]
  },
  {
   "cell_type": "code",
   "execution_count": 41,
   "metadata": {
    "ExecuteTime": {
     "end_time": "2021-04-21T05:01:22.279967Z",
     "start_time": "2021-04-21T05:01:22.161269Z"
    }
   },
   "outputs": [],
   "source": [
    "#%%writefile FunctionsDB.py\n",
    "# %load ./FunctionsDB.py\n",
    "\n",
    "import shutil\n",
    "import itertools\n",
    "import copy\n",
    "from MainFunctions import writepickle, openpickle\n",
    "from collections import Counter, namedtuple\n",
    "\n",
    "from rdkit import Chem  # Importing RDKit\n",
    "from rdkit.Chem.Draw import rdMolDraw2D  # Drawing 2D molecules/reactions\n",
    "from rdkit.Chem import rdChemReactions  # Reaction processing\n",
    "from rdkit.Chem import Draw  # For drawing molecules/reactions\n",
    "from rdkit.Chem import AllChem  # Overall support\n",
    "from FindFunctionalGroups import identify_functional_groups as IFG\n",
    "\n",
    "import sqlite3\n",
    "import os\n",
    "import dask.delayed as delayed\n",
    "import dask.dataframe as dd\n",
    "import dask.array as da\n",
    "import dask.bag as db\n",
    "import numpy as np\n",
    "import pandas as pd\n",
    "\n",
    "#%% Building basic substance database\n",
    "\n",
    "def info(molfile):\n",
    "    mol = Chem.MolFromMolFile(molfile)\n",
    "    if mol:\n",
    "        Chem.SanitizeMol(mol)\n",
    "        mol.UpdatePropertyCache(strict=False)\n",
    "        smils = Chem.MolToSmiles(mol)\n",
    "        return mol, smils\n",
    "    else:\n",
    "        return molfile\n",
    "\n",
    "\n",
    "def basic(ID, folder):\n",
    "    if str.isdecimal(ID):\n",
    "        molfileaddress = folder+os.sep+ID\n",
    "        try:\n",
    "            res = info(molfileaddress)\n",
    "        except Exception as e:\n",
    "            error = e\n",
    "            compaddrs = {'SubstanceID': int(\n",
    "                ID), 'MolFileAddress': molfileaddress, 'Error': error}\n",
    "        else:\n",
    "            if type(res) == tuple:\n",
    "                smiles = res[1]\n",
    "                compaddrs = {'SubstanceID': int(\n",
    "                    ID), 'MolFileAddress': molfileaddress, 'Smiles': smiles}\n",
    "            else:\n",
    "                error = 'Valence error'\n",
    "                compaddrs = {'SubstanceID': int(\n",
    "                    ID), 'MolFileAddress': molfileaddress, 'Error': error}\n",
    "    else:\n",
    "        compaddrs = {}\n",
    "    return compaddrs\n",
    "\n",
    "\n",
    "def basicgroup(molfilelist, folder):\n",
    "    return [basic(ID, folder) for ID in molfilelist]\n",
    "\n",
    "\n",
    "def substancedblist(folderName, partitions):\n",
    "    dem = os.listdir(folderName)\n",
    "    b = db.from_sequence(dem, npartitions=partitions)\n",
    "    dflist = b.map_partitions(basicgroup, folderName).compute()\n",
    "    return dflist\n",
    "\n",
    "\n",
    "#%% Fragment detection\n",
    "\n",
    "def getCarrierFrags(smi, size, resFormat='smarts', addHs=True):\n",
    "    \"\"\"\n",
    "    str (smiles), int -> list (str_smiles/smarts) \n",
    "    smi: str, smiles of a compound\n",
    "    size: size of carrier fragments, number atoms\n",
    "    resFormat: 'smiles' or 'smarts'\n",
    "    addHs: bool, if True H will be consider for generation of substructure, recommend True\n",
    "            otherwise terminal atoms of a molecule are not differentiated with other atoms\n",
    "    this function return list of strings of smarts representing carrier frags with miniSize of size\n",
    "    a carrier frag carries a functional group defined by using Ertl's method\n",
    "    find out the bonds to cut define a cutter to cut out the target fragments based on bonds to cut\n",
    "    1) get a list of function groups using IFG\n",
    "    2) if IFG list empty meaning no functional groups, directly return compound smiles\n",
    "    3) evaluate the size of current fragment,  \n",
    "       if frag_size >= size, directly return the comp smile\n",
    "       if frag_size < miniSizeFrag, expand the fragment by searching for neighors, only use terminal atoms to search\n",
    "       repeat expansion till frag_size >= size\n",
    "    \"\"\"\n",
    "    mol = Chem.MolFromSmiles(smi)\n",
    "    Chem.SanitizeMol(mol)\n",
    "    mol.UpdatePropertyCache(strict=False)\n",
    "    if addHs:\n",
    "        mol = Chem.AddHs(mol)\n",
    "    # -- get the list of functional groups FG\n",
    "    # e.g., [IFG(atomIds=(1, 4, 7), atoms='NC=O', type='cNC(C)=O'), IFG(atomIds=(10,), atoms='O', type='cO')]\n",
    "    IFG_ls = IFG(mol)\n",
    "    # if IFG_ls is empty, directly return this compounds\n",
    "    if len(IFG_ls) == 0:\n",
    "        if resFormat == 'smiles':\n",
    "            return smi\n",
    "        elif resFormat == 'smarts':\n",
    "            return Chem.MolToSmarts(Chem.MolFromSmiles(smi))\n",
    "    # -- get atomIDs (FGs_atomIDs_expan) and terminalAtomIDs (FGs_terminal_atomIDs) for all frags\n",
    "    FGs_atomIDs = [_.atomIds for _ in IFG_ls]  # e.g., [(1, 4, 7), ...]\n",
    "    n_FGs = len(FGs_atomIDs)\n",
    "    # expan all FGs that < size # e.g., [[1, 4, 7, 8, 9], ...]\n",
    "    FGs_atomIDs_expan = [None]*n_FGs\n",
    "    # terminal atoms: atoms on which bonds to cut will be searched\n",
    "    # [[2, 3, 8], ...] or [[], [], ...], note [2, 3, 8] are terminal of comp not frag\n",
    "    FGs_terminal_atomIDs = [None]*n_FGs\n",
    "    for i in range(n_FGs):\n",
    "        # initialization before search and expand fragments\n",
    "        FG_atomIDs = list(FGs_atomIDs[i])  # e.g., [1, 4, 7]\n",
    "        FG_size = len(FG_atomIDs)\n",
    "        # find initial terminal atoms\n",
    "        # terminal atoms: atoms with neis that not belong to FG_atomIDs\n",
    "        # note terminal atoms here are terminal of fragments not comp\n",
    "        # C=O has no fragment terminal, but both C and O are comp terminals\n",
    "        # there are 3 cases that no fragment terminal ie, FG_terminal_atomIDs = [] one case FG_terminal_atomIDs not empty\n",
    "        # case 1: FG_size < size, and FG_terminal_atomIDs = [], ie., comp too small, no chane to expand e.g., C=O, HCl, HNO3\n",
    "        # case 2: FG_size < size, and FG_terminal_atomIDs = [2,3,8],\n",
    "        #         got chane to expand, but after expand still cannot reach size, e.g., OCC=O\n",
    "        #         eventually FG_terminal_atomIDs = []\n",
    "        # case 3: FG_size >= size, and FG_terminal_atomIDs = [], cos the whole big comp is a functional group\n",
    "        # for all above cases the original comp will be return\n",
    "        # two case FG_terminal_atomIDs is not empty, cutting will performed based on FG_terminal_atomIDs\n",
    "        # case 4: FG_size >= size, and FG_terminal_atomIDs = [2,3,8], just cut using FG_terminal_atomIDs\n",
    "        # case 5: FG_size < size, and FG_terminal_atomIDs = [2,3,8], after expand, size reached and FG_terminal_atomIDs changed\n",
    "        FG_terminal_atomIDs = []  # e.g., [2, 3, 8] or [], HNO3 or C=O -> []\n",
    "        for atomID in FG_atomIDs:\n",
    "            neis_IDs = [_.GetIdx() for _ in mol.GetAtomWithIdx(atomID).GetNeighbors()]\n",
    "            if len(set(neis_IDs) - set(FG_atomIDs)) != 0:\n",
    "                FG_terminal_atomIDs = FG_terminal_atomIDs + [atomID]\n",
    "        # perform search / expand fragments\n",
    "        # [],  case 1 cannot expand, although FG_size < size\n",
    "        if (FG_size >= size) | (len(FG_terminal_atomIDs) == 0):\n",
    "            # make sure all elements in FGs_atomIDs_expan are lists\n",
    "            FGs_atomIDs_expan[i] = FG_atomIDs\n",
    "            FGs_terminal_atomIDs[i] = FG_terminal_atomIDs\n",
    "            # case 3 still could be [] even if FG_size >= size, though less likely\n",
    "        else:\n",
    "            # init FG to be expand\n",
    "            FG_expan_atomIDs = copy.deepcopy(FG_atomIDs)  # e.g., [1, 4, 7]\n",
    "            # max repeat size times, since repeat size should reach the size\n",
    "            for rep in range(size):\n",
    "                FG_expan_atomIDs_old = copy.deepcopy(FG_expan_atomIDs)\n",
    "                # not all atoms need be searched for neis, only ones not in FG_expan_atomIDs for each epoch\n",
    "                for atomID in FG_terminal_atomIDs:\n",
    "                    neis_IDs = [_.GetIdx() for _ in mol.GetAtomWithIdx(atomID).GetNeighbors()]\n",
    "                    FG_expan_atomIDs = FG_expan_atomIDs + neis_IDs\n",
    "                FG_expan_atomIDs = list(set(FG_expan_atomIDs))\n",
    "                FG_terminal_atomIDs = list(set(FG_expan_atomIDs)-set(FG_expan_atomIDs_old))\n",
    "                if len(FG_terminal_atomIDs) == 0:  # cannot expand due to small comp size\n",
    "                    FGs_atomIDs_expan[i] = FG_expan_atomIDs\n",
    "                    FGs_terminal_atomIDs[i] = FG_terminal_atomIDs  # [] case 2\n",
    "                    break  # for expan of next FG\n",
    "                if len(FG_expan_atomIDs) >= size:  # reach the desired size\n",
    "                    FGs_atomIDs_expan[i] = FG_expan_atomIDs\n",
    "                    FGs_terminal_atomIDs[i] = FG_terminal_atomIDs\n",
    "                    break\n",
    "    # it seems not possible that [[2, 3, 8], [], ...], if there one [] then all should be [],\n",
    "    # either [[]] or [[], [], ...] (i.e., small comp with single or multiple FGs)\n",
    "    # sum([len(_) for _ in FGs_terminal_atomIDs]) == 0:\n",
    "    if len(FGs_terminal_atomIDs[0]) == 0:\n",
    "        if resFormat == 'smiles':\n",
    "            return smi\n",
    "        elif resFormat == 'smarts':\n",
    "            return Chem.MolToSmarts(Chem.MolFromSmiles(smi))\n",
    "    else:\n",
    "        FGs_strs = []  # smiles or smarts\n",
    "        for FG_atomIDs in FGs_atomIDs_expan:\n",
    "            if resFormat == 'smiles':\n",
    "                FGs_str = Chem.MolFragmentToSmiles(mol, FG_atomIDs, canonical=True)\n",
    "                FGs_strs = FGs_strs + [FGs_str]\n",
    "            elif resFormat == 'smarts':\n",
    "                FGs_str = Chem.MolFragmentToSmarts(mol, FG_atomIDs, isomericSmarts=False)\n",
    "                FGs_strs = FGs_strs + [FGs_str]\n",
    "        return FGs_strs\n",
    "    \n",
    "#%% Adding fragment smarts column accounting for mixtures\n",
    "def getfrags(series,natoms):\n",
    "#     smiles=series['Smiles']\n",
    "#     if smiles=='Error':\n",
    "#         return pd.DataFrame({'FragmentSmarts':['Error'],'FragmentSmiles':['Error']})\n",
    "#     if series['>1 Compound']==True: #This compound is a mixture. Need to split and apply getcarrierfrags to each smiles\n",
    "#         fragsmarts=getmixturefrags(smiles,natoms)\n",
    "#     else:\n",
    "#         try:\n",
    "#             fragsmarts=getCarrierFrags(smiles,natoms)\n",
    "#         except Exception:\n",
    "#             return pd.DataFrame({'FragmentSmarts':['Error'],'FragmentSmiles':['Error']})\n",
    "#     if type(fragsmarts)==list:\n",
    "#         fragsmiles=[getfragsmiles(fragsmart) for fragsmart in fragsmarts]\n",
    "#     else:\n",
    "#         fragsmiles=getfragsmiles(fragsmarts)\n",
    "#     return pd.DataFrame({'FragmentSmarts':[fragsmarts],'FragmentSmiles':[fragsmiles]})\n",
    "\n",
    "    smiles=series['Smiles']\n",
    "    if smiles=='Error':\n",
    "        return 'Error'\n",
    "    if series['>1 Compound']==True: #This compound is a mixture. Need to split and apply getcarrierfrags to each smiles\n",
    "        fragsmarts=getmixturefrags(smiles,natoms)\n",
    "    else:\n",
    "        try:\n",
    "            fragsmarts=getCarrierFrags(smiles,natoms)\n",
    "        except Exception:\n",
    "            return 'Error'\n",
    "    return fragsmarts\n",
    "        \n",
    "    \n",
    "def getfragpartition(partition,natoms):\n",
    "    return partition.apply(getfrags,natoms=natoms,axis=1)\n",
    "\n",
    "\n",
    "#%% Adding fragment smiles column\n",
    "def getfragsmiles(fragsmarts):\n",
    "    if type(fragsmarts)==list:\n",
    "        fragsmiles=[Chem.MolToSmiles(Chem.MolFromSmarts(fragsmart)) for fragsmart in fragsmarts]    \n",
    "    elif fragsmarts=='Error':\n",
    "        return 'Error'\n",
    "    else:\n",
    "         fragsmiles=Chem.MolToSmiles(Chem.MolFromSmarts(fragsmarts))\n",
    "    return fragsmiles\n",
    "\n",
    "def getsmiles(series):\n",
    "    fragsmarts=series['FragmentSmarts']\n",
    "    return getfragsmiles(fragsmarts)\n",
    "\n",
    "def getsmilespartition(partition):\n",
    "    return partition.apply(getsmiles,axis=1)\n",
    "\n",
    "#%% Creating mixture column (True if mixture, False if not mixture, Error if smiles not present)\n",
    "\n",
    "def mixtures(smiles):\n",
    "    if smiles=='Error':\n",
    "        return 'Error'\n",
    "    elif len(smiles.split('.'))>1:\n",
    "        return True\n",
    "    else:\n",
    "        return False\n",
    "\n",
    "def findMixtures(series):\n",
    "    smiles=series['Smiles']\n",
    "    return mixtures(smiles)\n",
    "    \n",
    "def findMixturespartition(partition):\n",
    "       return partition.apply(findMixtures,axis=1)\n",
    "\n",
    "#%% Changing fragment entries in mixture rows\n",
    "\n",
    "def getmixturefrags(mixsmiles,natoms,resFormat='smarts', addHs=True): \n",
    "    try:\n",
    "        res=[]\n",
    "        for smiles in mixsmiles.split('.'):\n",
    "            reslist=getCarrierFrags(smiles,natoms,resFormat=resFormat,addHs=addHs)\n",
    "            if type(reslist)!=list:\n",
    "                res+=[reslist]\n",
    "            else:\n",
    "                res+=reslist\n",
    "    except Exception:\n",
    "        return 'Error'\n",
    "    else:\n",
    "        return res    \n",
    "\n",
    "def getMixturefrags(series,natoms):\n",
    "    mixsmiles=series['Smiles'] # add .values[0] if column is a multiindex, otherwise droplevel = 1 to remove list\n",
    "    return getmixturefrags(mixsmiles,natoms)  \n",
    "\n",
    "def getMixturefragspartition(partition,natoms):\n",
    "    return partition.apply(getMixturefrags,natoms=natoms,axis=1)\n",
    "\n",
    "# def collapsepartition(partition): #Doesn't work yet. Once exploded it is extremely time-consuming to collapse the dataframe\n",
    "#     temp=partition.groupby(['Smiles']).agg([list])\n",
    "#     return temp\n",
    "\n",
    "    \n",
    "#%% Joining columns to a dataframe\n",
    "\n",
    "def joindf(seriesdf,DB,explodeDB=None):\n",
    "    if seriesdf.index.name!=DB.index.name or seriesdf.index.names!=DB.index.names:\n",
    "        if DB.index.name or DB.index.names:\n",
    "            DB.reset_index(inplace=True)\n",
    "        if seriesdf.index.name or seriesdf.index.names:\n",
    "            seriesdf.reset_index(inplace=True)        \n",
    "    DB=DB.join(seriesdf)\n",
    "    if explodeDB:\n",
    "        DB=DB.explode(explodeDB)\n",
    "    return DB\n",
    "\n",
    "\n",
    "\n",
    "\n",
    "def buildfragdb(sdb=None,sdbd=None,writesdbd=False, \\\n",
    "                sdbdc=None,fragseries=None,natoms=None, \\\n",
    "                writefragseries=False, fdbm=None, fdb=None, dfdb=None, \\\n",
    "                fragsmiles=False, mixtures=False, mixturefrags=False, \\\n",
    "                index=None, writefdb=False,writedfdb=False):\n",
    "    \n",
    "    # Note: cluster and client must be initiated for this function to work. Substance database, either dask or pandas\n",
    "    # should also be loaded. It is advised to avoid loading dask dataframes due to high memory usage. It is recommended to\n",
    "    #persist and create dask dataframes outside this function, otherwise overheads may be added. Never reset dask dataframe\n",
    "    #index or else it will reindex all partitions...always start with pandas, reindex and then convert to dask when large computations\n",
    "    #need to be done.\n",
    "    \n",
    "    # sdb = substance database, sdbd = substance database dask, sdbdc = substance database dask cleaned \n",
    "    #(remove smile errors), # fragseries = series containing fragment information, natoms =  size of fragment, \n",
    "    # writefragseries = True if write to file false otherwise, fdbm = fragment database master, pandas version of sdbdc,\n",
    "    # fdb = final fragment database exploded and unindexed pfdb = final pandas fragment dataframe, multiindexed, \n",
    "    # dfdb = final dask fragment dataframe\n",
    "   \n",
    "    # Step 1: Create dask dataframe from pandas substance database (output: sdbd)\n",
    "    \n",
    "    if sdb and not type(sdbd)==dd.core.DataFrame:\n",
    "        sdbd = dd.from_pandas(sdb, npartitions=16)\n",
    "        sdbd = client.persist(sdbd)\n",
    "        print('Dask substance dataframe created and persisted')\n",
    "        if writesdbd:\n",
    "            sdbd.to_parquet(writesdbd)\n",
    "            print('Dask substance dataframe written to file: ' + writesdb)\n",
    "        if not natoms and not fragseries:\n",
    "            print(\"Please specify size of fragments that should be retrieved\")\n",
    "            return sdbd\n",
    "        \n",
    "   # Step 2: Clean dask data frame and select only substance ID and smiles column, removing errors (output: sdbdc).\n",
    "\n",
    "    if sdbd and not type(sdbdc)==dd.core.DataFrame:\n",
    "        sdbd = client.persist(sdbd)\n",
    "        sdbdc = sdbd.reset_index()[['SubstanceID', 'Smiles','>1 Compound']]\n",
    "        sdbdc= sdbdc[sdbdc.Smiles!='Error']\n",
    "        sdbdc=client.persist(sdbdc)\n",
    "        print('Cleaned dask substance dataframe created and persisted')\n",
    "        if not natoms and not type(fragseries)==pd.core.series.Series:\n",
    "            print(\"Please specify size of fragments that should be retrieved\")\n",
    "            return sdbdc      \n",
    "        \n",
    "    # Step 3: Scrape 16 million compounds, and extract series of active fragments for each (output: fragseries)\n",
    "    \n",
    "    if not type(fragseries)==pd.core.series.Series and not type(fdb)==pd.core.frame.DataFrame:\n",
    "        if not type(sdbdc)==dd.core.DataFrame:\n",
    "            return \"Please include a cleaned dask substance dataframe for fragment retrieval\"\n",
    "        if not natoms:\n",
    "            return \"Please specify size of fragments retrieved\"\n",
    "        sdbdc=client.persist(sdbdc)\n",
    "#         if natoms==0:\n",
    "#             name='ActiveFragmentSmarts'\n",
    "#         else:\n",
    "#            filename='CarrierFragments'+'(n='+str(natoms)+')'\n",
    "        name='FragmentSmarts'\n",
    "        fragseries=sdbdc.map_partitions(getfragpartition,natoms=natoms,meta=(name,'O')).compute()\n",
    "        print('fragseries retrieved')\n",
    "    \n",
    "    if writefragseries:\n",
    "        if not type(fragseries)==pd.core.series.Series:\n",
    "            return \"Supply fragment series to write to file\"\n",
    "        writepickle(fragseries,writefragseries)\n",
    "        print('fragseries writted to file: '+ writefragseries)\n",
    "      \n",
    "     # Step 4: Prepare cleaned pandas dataframe for fragment series attachment (output: fdbm)  \n",
    "        \n",
    "    if not type(fdbm)==pd.core.frame.DataFrame and not type(fdb)==pd.core.frame.DataFrame:\n",
    "        if not type(sdbdc)==dd.core.DataFrame:\n",
    "            return \"Please include a cleaned dask substance dataframe to which fragment information can be attached\"\n",
    "        fdbm=sdbdc.compute()\n",
    "#         fdbm.reset_index(inplace=True)\n",
    "#         fdbm.drop('index',axis=1,inplace=True)\n",
    "        \n",
    "    # Step 5: Attaching fragment series, generating an exploded fragment database (output: fdb)\n",
    "    \n",
    "    if type(fdbm)==pd.core.frame.DataFrame:\n",
    "        if not type(fragseries)==pd.core.series.Series:\n",
    "            return \"Please include the fragment series that should be attached\"\n",
    "        fragdf=pd.DataFrame(fragseries)\n",
    "        fdb=joindf(fragdf,fdbm,explodeDB=fragdf.columns[0])\n",
    "        print(\"Unindexed fragment database completed\")\n",
    "    \n",
    "    # Step 6: Adding additional columns, formatting, indexing and writing fragment database to file\n",
    "\n",
    "    if fragsmiles:\n",
    "        if not type(fdb)==pd.core.frame.DataFrame:\n",
    "            return \"Please supply fragment database to analyze\"\n",
    "        if not type(dfdb)==dd.core.DataFrame:\n",
    "            if fdb.index.name or fdb.index.names:\n",
    "                fdb.reset_index(inplace=True)\n",
    "            dfdb=dd.from_pandas(fdb,npartitions=181)\n",
    "            dfdb=client.persist(dfdb)\n",
    "        fragseries=dfdb.map_partitions(getsmilespartition,meta=('FragmentSmiles','O')).compute()\n",
    "        if writefragseries:\n",
    "            if not type(fragseries)==pd.core.series.Series:\n",
    "                return \"Supply fragment series to write to file\"\n",
    "            writepickle(fragseries,writefragseries)\n",
    "            print('fragseries writted to file: '+ writefragseries)    \n",
    "        smilesdf=pd.DataFrame(fragseries)\n",
    "        fdb=joindf(smilesdf,fdb)\n",
    "        \n",
    "        \n",
    "    if mixtures:\n",
    "        if not type(fdb)==pd.core.frame.DataFrame:\n",
    "            return \"Please supply fragment database to analyze\"\n",
    "        if not type(dfdb)==dd.core.DataFrame:\n",
    "            if fdb.index.name or fdb.index.names:\n",
    "                fdb.reset_index(inplace=True)\n",
    "            dfdb=dd.from_pandas(fdb,npartitions=181)\n",
    "            dfdb=client.persist(dfdb)\n",
    "        fragseries=dfdb.map_partitions(findMixturespartition,meta=('>1 Compound','boolean'))\n",
    "        if writefragseries:\n",
    "            if not type(fragseries)==pd.core.series.Series:\n",
    "                return \"Supply fragment series to write to file\"\n",
    "            writepickle(fragseries,writefragseries)\n",
    "            print('fragseries writted to file: '+ writefragseries) \n",
    "        mixturedf=pd.DataFrame(fragseries)\n",
    "        fdb=joindf(mixturedf,fdb)\n",
    "    \n",
    "    if mixturefrags:\n",
    "        #NOTE: If exploded, fragment database should be aggregated by Smiles/Smarts\n",
    "        if not type(fdb)==pd.core.frame.DataFrame or '> 1 Compound' not in fdb.columns:\n",
    "            return \"Please supply fragment database to analyze, with mixture indication (specify mixtures=True)\"\n",
    "        if not natoms:\n",
    "            return \"Please specify size of fragments retrieved\"\n",
    "        if not type(dfdb)==dd.core.DataFrame:\n",
    "            dfdb=dd.from_pandas(fdb,npartitions=16)\n",
    "            dfdb=client.persist(dfdb)\n",
    "        fragseries=dfdb.map_partitions(getMixturefragspartition,natoms=natoms,meta=('FragmentSmarts','O'))\n",
    "        if writefragseries:\n",
    "            if not type(fragseries)==pd.core.series.Series:\n",
    "                return \"Supply fragment series to write to file\"\n",
    "            writepickle(fragseries,writefragseries)\n",
    "            print('fragseries writted to file: '+ writefragseries) \n",
    "        mixturesmarts=pd.DataFrame(fragseries)\n",
    "        fdb=joindf(mixturesmarts,fdb)\n",
    "        \n",
    "        \n",
    "    \n",
    "# Deprecated..Dask dataframes take up too much memory when read from file\n",
    "\n",
    "#     if dfdb:\n",
    "#         if fdb.index.name:\n",
    "#             fdb.reset_index(inplace=True)\n",
    "#         fdb.set_index('SubstanceID',inplace=True)\n",
    "#         dfdb=dd.from_pandas(fdb,npartitions=64)\n",
    "# #         dfdb=dfdb.reset_index()\n",
    "# #         dfdb=dfdb.set_index(dfdb.columns[dfdb.columns.str.contains('ragment')][0])\n",
    "#         print('Dask fragment database created')\n",
    "#     if writedfdb:\n",
    "#         dfdb.to_parquet(writedfdb)\n",
    "#         print('Dask fragment database written to file: ' + writedfdb)\n",
    "\n",
    "        \n",
    "    #%% Indexing dataframe\n",
    "    \n",
    "    if index:\n",
    "        if not type(fdb)==pd.core.frame.DataFrame:\n",
    "             return \"Please supply fragment database to index\"\n",
    "        if fdb.index.name==index or fdb.index.names==index:\n",
    "            print(\"Database is already indexed.\") \n",
    "        elif fdb.index.name or fdb.index.names:\n",
    "            fdb.reset_index(inplace=True)\n",
    "            fdb.set_index([index],inplace=True)\n",
    "        else:\n",
    "            fdb.set_index([index],inplace=True)\n",
    "        print('Pandas fragment database indexed')\n",
    "    if writefdb:\n",
    "        writepickle(fdb,writefdb)\n",
    "        print('Pandas fragment database written to file: ' + writefdb)\n",
    "    \n",
    "    return fdb\n",
    "    \n"
   ]
  },
  {
   "cell_type": "markdown",
   "metadata": {},
   "source": [
    "## AnalgCompds.py"
   ]
  },
  {
   "cell_type": "markdown",
   "metadata": {},
   "source": [
    "AnalgCompds.py contains classes and objects pertaining to analogue compound retrieval given an input reaction smarts string. "
   ]
  },
  {
   "cell_type": "code",
   "execution_count": 12,
   "metadata": {
    "ExecuteTime": {
     "end_time": "2021-04-20T16:12:01.397344Z",
     "start_time": "2021-04-20T16:12:00.490262Z"
    }
   },
   "outputs": [
    {
     "name": "stderr",
     "output_type": "stream",
     "text": [
      "UserWarning: The pandas version installed 1.2.4 does not match the supported pandas version in Modin 1.2.3. This may cause undesired side effects!\n"
     ]
    }
   ],
   "source": [
    "# %%writefile AnalgCompds.py\n",
    "# %load ./AnalgCompds.py\n",
    "\n",
    "#%% This section is to define classes (In progress --for now focusing on getting the workflow to work..Note none of the\n",
    "# classes defined auto-update attributes when any are changed. The instance must be reinitialized. Refer to \n",
    "# https://gist.github.com/jessicald/2861038 for a comparison of dicts and classes\n",
    "\n",
    "from rdkit import Chem\n",
    "from rdkit.Chem.Descriptors import MolWt\n",
    "from MainFunctions import molfromsmiles,CustomError,mol_with_atom_index\n",
    "import sqlite3\n",
    "import pandas as pd\n",
    "from FunctionsDB import getmixturefrags,getCarrierFrags,mixtures,joindf,getfragsmiles\n",
    "from rdkit.Chem.Fingerprints import FingerprintMols\n",
    "from rdkit import DataStructs\n",
    "import ray\n",
    "import modin.pandas as mpd\n",
    "import dask.dataframe as dd\n",
    "\n",
    "#%% Parallel functions\n",
    "\n",
    "def getCompPool(DB,fragmentsmiles,SQL=False): #For sql to work, must specify db connection under DB. SQL can be very fast or very slow (no consistency)\n",
    "    if not SQL:\n",
    "        return DB.xs(fragmentsmiles)\n",
    "    else:\n",
    "        sql3='''SELECT SubstanceID,Smiles,\">1 Compound\",FragmentSmarts from FragmentDB Where FragmentSmiles= \"'''+ fragmentsmiles + '''\"'''\n",
    "        dat=pd.read_sql_query(sql3,DB)\n",
    "        dat.set_index('SubstanceID',inplace=True)\n",
    "        return dat \n",
    "def MWCompd(series,rows=True, Mol=False,Smiles=False):\n",
    "    if rows:\n",
    "        try:\n",
    "            return MolWt(molfromsmiles(series['Smiles']))\n",
    "        except Exception:\n",
    "            return 'Error'\n",
    "    elif Smiles:\n",
    "        return MolWt(molfromsmiles(series))\n",
    "    elif Mol:\n",
    "        return MolWt(series)\n",
    "        \n",
    "def MW(partition):\n",
    "    return partition.apply(MWCompd,axis=1)\n",
    "\n",
    "def getSimilarity(series,target,rows=True, CompdMol=False, CompdSmiles=False, CompdFingerprint=False, \n",
    "                  TargetFingerprint=True, TargetSmiles=False,\n",
    "                  TargetMol=False, UseCompID=False,DB=None):\n",
    "    # list of IDs, str ID, thresh, type of targetComp-> list of IDs\n",
    "    # get similar compounds of target compound based on tanimoto\n",
    "    # compPool: list of compounds to compare with targetComp\n",
    "    # targetComp: str ID of the targetComp\n",
    "    # UseCompID: bool, True -> targetComp is a reaxys ID, False will be smiles str\n",
    "    if not TargetFingerprint:\n",
    "        if UseCompID:\n",
    "            if DB is None:\n",
    "                return \"Please include a fragment database\"\n",
    "            targetMol = molfromsmiles(DB.xs(target,level=1)['Smiles'].unique()[0])\n",
    "        elif TargetSmiles: # should be a smiles str\n",
    "            targetMol = molfromsmiles(target)\n",
    "        else:\n",
    "            targetMol=target\n",
    "        target_fp = FingerprintMols.FingerprintMol(targetMol)\n",
    "    else:\n",
    "        target_fp=target\n",
    "    \n",
    "    if rows:\n",
    "        try:\n",
    "            return DataStructs.FingerprintSimilarity(target_fp,FingerprintMols.FingerprintMol(molfromsmiles(series['Smiles'])))\n",
    "        except Exception:\n",
    "            return 'Error'\n",
    "    elif CompdSmiles:\n",
    "        return DataStructs.FingerprintSimilarity(target_fp,FingerprintMols.FingerprintMol(molfromsmiles(series)))\n",
    "    elif CompdMol:\n",
    "        return DataStructs.FingerprintSimilarity(target_fp,FingerprintMols.FingerprintMol(series))\n",
    "    elif CompdFingerprint:\n",
    "        return DataStructs.FingerprintSimilarity(target_fp,series)\n",
    "    \n",
    "\n",
    "def getSim(partition,target):\n",
    "    return partition.apply(getSimilarity,target=target,axis=1)\n",
    "        \n",
    "        \n",
    "        \n",
    "#%% Classes\n",
    "        \n",
    "class queryrxn:\n",
    "    def __init__(self,inputsmiles=None,species=None,fragsize=6,client=None,FragDB=None,SQL=False,modinray=True,MWThresh=300,SimThresh=0.5):\n",
    "        '''\n",
    "        input smiles: Smiles of reaction\n",
    "        species: All species involved in the reaction (should be either compound or querycompd class)\n",
    "        fragsize: Only fragsize=6 works at the moment as FragDB has fragments of this size\n",
    "        client: Distributed client for parallel procesing. If defined, analogue compound lists will be further filtered\n",
    "        based on molecular weight and similarity\n",
    "        FragDB: Fragment database for grouping analogue compounds containing the same fragment\n",
    "        MWThresh: Molecular weight threshold for filtering analogue compound lists\n",
    "        SimThresh: Similarity threshold for filtering analogue compound lists\n",
    "\n",
    "        Parameters\n",
    "        ----------\n",
    "        inputsmiles : TYPE, optional\n",
    "            DESCRIPTION. The default is None.\n",
    "        species : TYPE, optional\n",
    "            DESCRIPTION. The default is None.\n",
    "        fragsize : TYPE, optional\n",
    "            DESCRIPTION. The default is 6.\n",
    "        client : TYPE, optional\n",
    "            DESCRIPTION. The default is None.\n",
    "        FragDB : TYPE, optional\n",
    "            DESCRIPTION. The default is None.\n",
    "        SQL : TYPE, optional\n",
    "            DESCRIPTION. The default is False.\n",
    "        modinray : TYPE, optional\n",
    "            DESCRIPTION. The default is True.\n",
    "        MWThresh : TYPE, optional\n",
    "            DESCRIPTION. The default is 300.\n",
    "        SimThresh : TYPE, optional\n",
    "            DESCRIPTION. The default is 0.5.\n",
    "\n",
    "        Raises\n",
    "        ------\n",
    "        CustomError\n",
    "            DESCRIPTION.\n",
    "\n",
    "        Returns\n",
    "        -------\n",
    "        None.\n",
    "\n",
    "        '''\n",
    "\n",
    "        if inputsmiles is not None:\n",
    "            self.smiles=inputsmiles\n",
    "            if not type(inputsmiles)==str:\n",
    "                raise CustomError(\"Please input a reaction smiles string. Include '>>' even if no products are inputted\")\n",
    "            self.species=self.SpeciesList(fragsize=fragsize,client=client,FragDB=FragDB,SQL=SQL,modinray=modinray,MWThresh=MWThresh,SimThresh=SimThresh)\n",
    "        elif species is not None:\n",
    "            self.species=species\n",
    "        self.speciesdict=self.SpeciesDict(self.species)\n",
    "            \n",
    "    def SpeciesList(self,fragsize=6,client=None,FragDB=None,SQL=False,modinray=True,MWThresh=300,SimThresh=0.5):\n",
    "        specieslist=[]\n",
    "        splitrxn=self.smiles.split('>>')\n",
    "        if len(splitrxn)==1: #Only reactants specified\n",
    "            rcts=splitrxn[0].split('.')\n",
    "            prods=[]\n",
    "        else:\n",
    "            rcts=set(splitrxn[0].split('.'))\n",
    "            prods=set(splitrxn[1].split('.'))\n",
    "        specieslist+=[querycompd(Type='rct',smiles=rct,verifysmiles=True,fragsize=fragsize,client=client,FragDB=FragDB,SQL=SQL,\n",
    "                    modinray=modinray,MWThresh=MWThresh,SimThresh=SimThresh) for rct in rcts]\n",
    "        specieslist+=[querycompd(Type='prod',smiles=prod,verifysmiles=True,fragsize=fragsize,client=client,FragDB=FragDB,SQL=SQL,\n",
    "                    modinray=modinray,MWThresh=MWThresh,SimThresh=SimThresh) for prod in prods]\n",
    "        return specieslist\n",
    "\n",
    "    def SpeciesDict(self,specieslist):\n",
    "        return {species.smiles:species for species in specieslist}\n",
    "        \n",
    "\n",
    "class compound:\n",
    "    '''\n",
    "    General compound class to store important information such as smiles, smarts, mol, fingerprint, type\n",
    "    (reactant, reagent or product)\n",
    "    \n",
    "    '''\n",
    "    def __init__(self,Type=None,smiles=None,smarts=None,verifysmiles=False,verifysmarts=False, fingerprint=None,\n",
    "                formula=None):\n",
    "        if Type:\n",
    "            self.type=Type\n",
    "        if smiles:\n",
    "            if verifysmiles:\n",
    "                self.smiles=Chem.MolToSmiles(molfromsmiles(smiles))\n",
    "            else:\n",
    "                self.smiles=smiles\n",
    "            self.mol=self.MolFromSmiles()\n",
    "            self.smarts=Chem.MolToSmarts(self.mol)\n",
    "        if smarts:\n",
    "            if verifysmarts:\n",
    "                self.smarts=Chem.MolToSmarts(Chem.MolFromSmarts(smarts))\n",
    "            else:\n",
    "                self.smarts=smarts\n",
    "            self.mol=self.MolFromSmarts()\n",
    "            self.smiles=Chem.MolToSmiles(self.mol)\n",
    "\n",
    "        if fingerprint:\n",
    "            self.fingerprint=fingerprint\n",
    "        else:\n",
    "            self.fingerprint=self.set_fingerprint()\n",
    "        \n",
    "        if formula:\n",
    "            self.formula=formula\n",
    "        else:\n",
    "            self.formula=self.Formula()\n",
    "    \n",
    "    def MolFromSmiles(self):\n",
    "        '''\n",
    "        Converts a smiles string into a mol object for RDKit use. Sanitizes and makes sure \n",
    "        molecule is valid. This is not stored as an attribute as it will take up excessive\n",
    "        memory especially given there are 16 million compounds stored in Reaxys.\n",
    "\n",
    "        '''\n",
    "        return molfromsmiles(self.smiles)\n",
    "    \n",
    "    def MolFromSmarts(self):\n",
    "        '''\n",
    "        Converts smarts string into a mol object for RDKit use. Sanitizes and makes sure \n",
    "        molecule is valid.\n",
    "        \n",
    "        '''\n",
    "        mol=Chem.MolFromSmarts(self.smarts)\n",
    "        try:\n",
    "            Chem.SanitizeMol(mol)\n",
    "        except Exception:\n",
    "            pass\n",
    "        mol.UpdatePropertyCache(strict=False)        \n",
    "        return mol\n",
    "    \n",
    "    def atom_index(self):\n",
    "        '''\n",
    "        Draw a molecule with atom index numbers (set by RDKit)\n",
    "\n",
    "        '''\n",
    "        return mol_with_atom_index(self.mol)\n",
    "    \n",
    "    def set_fingerprint(self):\n",
    "        \n",
    "        return FingerprintMols.FingerprintMol(self.mol)\n",
    "    \n",
    "    def loc_record(self,FragDB):\n",
    "        '''\n",
    "        Locates and returns record of compound in the Reaxys database (stored on the server)\n",
    "        No point in retrieving record for one compound (takes around 4 seconds). Might as well\n",
    "        recompute everything in less than a second\n",
    "        '''\n",
    "        if FragDB.index.name=='Smiles':\n",
    "            return FragDB.loc[self.smiles]\n",
    "        else:\n",
    "            return FragDB.loc[FragDB['Smiles']==self.smiles]\n",
    "        \n",
    "    def Mixtures(self):\n",
    "        '''\n",
    "        Returns True if the compound is a mixture and False if not\n",
    "        '''\n",
    "        return mixtures(self.smiles)\n",
    "    \n",
    "    def MolWt(self):\n",
    "        return MWCompd(self.mol,rows=False,Mol=True)\n",
    "    \n",
    "    def Formula(self):\n",
    "        return Chem.rdMolDescriptors.CalcMolFormula(self.mol)\n",
    "    \n",
    "\n",
    "class querycompd(compound):\n",
    "    '''\n",
    "    Query compound class built from user input. Has all attributes of the compound class, and also contains relevant\n",
    "    fragment information.\n",
    "    \n",
    "    '''\n",
    "    def __init__(self,count=1,fragments=None,fragsize=6,client=None,FragDB=None,SQL=False,modinray=True,MWThresh=300,SimThresh=0.5,**kwargs):\n",
    "        super(querycompd,self).__init__(**kwargs)\n",
    "        self.count=count\n",
    "        if fragments is not None:\n",
    "            self.frags=fragments\n",
    "        else:\n",
    "            self.frags=self.FragsList(fragsize,FragDB=FragDB,SQL=SQL,client=client,modinray=modinray,MWThresh=MWThresh,SimThresh=SimThresh)\n",
    "        self.fragsdict=self.FragsDict(self.frags)\n",
    "            \n",
    "    def Frags(self, fragsize, resFormat='smarts', addHs=True):\n",
    "        '''\n",
    "        Returns fragments of a specified size\n",
    "        '''\n",
    "        if self.Mixtures():\n",
    "            return getmixturefrags(self.smiles,fragsize,resFormat=resFormat,addHs=addHs)\n",
    "        else:\n",
    "            return getCarrierFrags(self.smiles,fragsize,resFormat=resFormat,addHs=addHs)\n",
    "    \n",
    "    def FragsList(self,fragsize,FragDB=None,SQL=False,client=None,modinray=True,MWThresh=300,SimThresh=0.5):\n",
    "        '''\n",
    "        Builds a list of fragment objects. If there are repeated fragments, keeps a count\n",
    "        \n",
    "        '''\n",
    "        fragdict={}\n",
    "        frags=self.Frags(fragsize)\n",
    "        if type(frags)!=list:\n",
    "            frags=[frags]\n",
    "        for frag in frags:\n",
    "            fragsmiles=getfragsmiles(frag)\n",
    "            if fragsmiles in fragdict.keys():\n",
    "                fragdict[fragsmiles][1]+=1\n",
    "            else:\n",
    "                fragdict.update({fragsmiles:[frag,1]})\n",
    "        return [fragment(parent_instance=self,count=fragdict[fragsmiles][1],smarts=fragdict[fragsmiles][0],FragDB=FragDB,SQL=SQL,\n",
    "                         client=client,modinray=modinray,MWThresh=MWThresh,SimThresh=SimThresh) for fragsmiles in fragdict]\n",
    "        \n",
    "    def FragsDict(self,fragslist):\n",
    "        return {frag.smiles:frag for frag in fragslist}\n",
    "\n",
    "class fragment(compound):\n",
    "    '''\n",
    "    Fragment class. Objects/instances are fragments containing all attributes of the compound class. Important\n",
    "    attributes include CompPool, which reflects all compounds in Reaxys containing the fragment.\n",
    "    \n",
    "    __init__:\n",
    "    \n",
    "    FragDB: Fragment database, which needs to be correct with relation to size of fragment belonging to query compound.\n",
    "    \n",
    "    parent_instance: Query compound (querycompd class) to which the fragment originally belongs\n",
    "    \n",
    "    parent_smiles: Query compound smiles. Either above or this can be specified, thus allowing\n",
    "    the user to decide how the fragment instance should be initialized (In the latter case, the smiles should be valid)\n",
    "    \n",
    "    MWThresh:\n",
    "    \n",
    "    SimThresh:\n",
    "    \n",
    "    client: If the user specifies a client (cluster), parallel computing can be used. Otherwise sequential will be used\n",
    "    (not advisable as this is much slower). Refer to dask section to specify.\n",
    "    \n",
    "    **kwargs: \n",
    "    \n",
    "    Attributes:\n",
    "    \n",
    "    '''\n",
    "    def __init__(self,count=1,parent_instance=None,parent_smiles=None,FragDB=None,SQL=False,client=None,modinray=True,\n",
    "                 MWThresh=300,SimThresh=0.5,**kwargs):\n",
    "        \n",
    "        super(fragment,self).__init__(**kwargs)\n",
    "        self.count=count\n",
    "        if parent_smiles and parent_instance is None:\n",
    "            parent_instance=querycompd(smiles=parent_smiles)\n",
    "        if parent_instance is not None:\n",
    "            self.parent=parent_instance\n",
    "        if FragDB is not None:\n",
    "            self.comppool=self.CompPool(FragDB,SQL=SQL,parent_instance=parent_instance,client=client,modinray=modinray)\n",
    "            self.filteredpoolMW=self.FilterPool(MWThresh=MWThresh)\n",
    "            if parent_instance is not None:\n",
    "                self.filteredpoolSim=self.FilterPool(SimThresh=SimThresh)\n",
    "                self.filteredpool=self.FilterPool(MWThresh=MWThresh,SimThresh=SimThresh)\n",
    "        \n",
    "        \n",
    "    def CompPool(self,FragDB,SQL=False,parent_instance=None,client=None,modinray=True):\n",
    "        '''\n",
    "        Retrieves general analogue compound pool containing all compounds that contain the fragment\n",
    "        \n",
    "        '''\n",
    "\n",
    "        comppool=getCompPool(FragDB,self.smiles,SQL=SQL) #Database needs to be multiindexed at fragment smiles and substance ID\n",
    "        comppool['Count']=comppool.groupby([comppool.index])['Smiles'].transform('count')\n",
    "        comppool=comppool[~comppool.index.duplicated(keep='first')]\n",
    "        if modinray: #This means modin+ ray is chosen\n",
    "            pool=mpd.DataFrame(comppool)\n",
    "            molwt=pool.apply(MWCompd,axis=1,result_type='reduce')\n",
    "            comppool=joindf(pd.DataFrame(data=molwt.values,index=molwt.index,columns=['MolWt']),comppool)\n",
    "            if parent_instance:\n",
    "                fp_similarity=pool.apply(getSimilarity,target=parent_instance.fingerprint,axis=1,result_type='reduce')\n",
    "                comppool=joindf(pd.DataFrame(data=fp_similarity.values,index=fp_similarity.index,columns=['Similarity']),comppool)\n",
    "            comppool=comppool[comppool.MolWt!='Error']\n",
    "        elif client is not None: #This means parallel processing dask is chosen\n",
    "            DaskPool=client.persist(dd.from_pandas(comppool,npartitions=16))\n",
    "            molwt=DaskPool.map_partitions(MW,meta=('MolWt','int64')).compute()\n",
    "            comppool=joindf(pd.DataFrame(molwt),comppool)\n",
    "            if parent_instance:\n",
    "                fp_similarity=DaskPool.map_partitions(getSim,target=parent_instance.fingerprint,\n",
    "                                                      meta=('Similarity','int64')).compute()\n",
    "                comppool=joindf(pd.DataFrame(fp_similarity),comppool)\n",
    "            comppool=comppool[comppool.MolWt!='Error']\n",
    "            del DaskPool\n",
    "\n",
    "        return comppool\n",
    "                \n",
    "            \n",
    "    \n",
    "    def FilterPool(self,MWThresh=None,SimThresh=None):\n",
    "        if MWThresh and not SimThresh:\n",
    "            return self.comppool.loc[self.comppool['MolWt']<=MWThresh]\n",
    "        elif SimThresh and not MWThresh:\n",
    "            return self.comppool.loc[self.comppool['Similarity']>=SimThresh]\n",
    "        elif MWThresh and SimThresh:\n",
    "            return self.comppool.loc[(self.comppool['Similarity']>=SimThresh) & (self.comppool['MolWt']<=MWThresh)] \n",
    "        \n",
    "\n",
    "\n",
    "            "
   ]
  },
  {
   "cell_type": "markdown",
   "metadata": {},
   "source": [
    "## CandiRxns.py"
   ]
  },
  {
   "cell_type": "markdown",
   "metadata": {},
   "source": [
    "CandiRxns.py includes functions that allow for further filtering of analogue compound pools by fingerprint similarity, molecular weight, and mixture presence (eg./species1.species2). It also includes filtering of reactions in the core subset to only identify those that contain analogue compounds, as well as retrieval of reaction data for these reactions."
   ]
  },
  {
   "cell_type": "code",
   "execution_count": 154,
   "metadata": {
    "ExecuteTime": {
     "end_time": "2021-04-21T09:46:31.614746Z",
     "start_time": "2021-04-21T09:46:31.566794Z"
    }
   },
   "outputs": [],
   "source": [
    "# %%writefile CandiRxns.py\n",
    "# %load ./CandiRxns.py \n",
    "\n",
    "def addfilters(queryrxn,ST=None,MWT=None,nomixtures=True):\n",
    "    '''\n",
    "    Adds additional filters on filtered pool. Results stored as filtered pool\n",
    "    Specify nomixtures as True if mixtures need to be filtered out\n",
    "    Specify similarity and molecular weight threshold udner ST and MWT respectively\n",
    "    \n",
    "    '''\n",
    "    if ST is not None:\n",
    "        for species in queryrxn.species:\n",
    "            for frag in species.frags:\n",
    "                frag.filteredpoolSim=frag.FilterPool(SimThresh=ST)\n",
    "                if nomixtures:\n",
    "                    frag.filteredpoolSim=frag.filteredpoolSim.loc[frag.filteredpoolSim['>1 Compound']==False]\n",
    "                    \n",
    "    if MWT is not None:\n",
    "        for species in queryrxn.species:\n",
    "            for frag in species.frags:\n",
    "                frag.filteredpoolMW=frag.FilterPool(MWThresh=MWT)\n",
    "                if nomixtures:\n",
    "                    frag.filteredpoolMW=frag.filteredpoolMW.loc[frag.filteredpoolMW['>1 Compound']==False]\n",
    "               \n",
    "                \n",
    "    if ST is not None and MWT is not None:\n",
    "        for species in queryrxn.species:\n",
    "            for frag in species.frags:\n",
    "                frag.filteredpool=frag.FilterPool(SimThresh=ST,MWThresh=MWT)\n",
    "                if nomixtures:\n",
    "                    frag.filteredpool=frag.filteredpool.loc[frag.filteredpool['>1 Compound']==False]\n",
    "    if ST is None and MWT is None and nomixtures:\n",
    "        for species in queryrxn.species:\n",
    "            for frag in species.frags:\n",
    "                frag.filteredpoolSim=frag.filteredpoolSim.loc[frag.filteredpoolSim['>1 Compound']==False]\n",
    "                frag.filteredpoolMW=frag.filteredpoolMW.loc[frag.filteredpoolMW['>1 Compound']==False]\n",
    "                frag.filteredpool=frag.filteredpool.loc[frag.filteredpool['>1 Compound']==False]\n",
    "                \n",
    "        \n",
    "                \n",
    "def checkrxts(row,combinedpool,rctonly=True,relevance='loose'):\n",
    "    '''\n",
    "    Given a row, checks if either rcts, or rcts and reagents are analogue\n",
    "    Specify rcctonly as True if only reactant IDs need to be checked, otherwise reagent IDs will also be checked\n",
    "    Specify relevance as 'loose' if any reagent analogue is acceptable, and more refs included by reactant basis;\n",
    "    as 'strictest' if all record reagents need to be analogue, including morerefs; \n",
    "    as 'balanced' if algorithm is used to check if sufficient analogues are present\n",
    "    \n",
    "    '''\n",
    "    rct=set()\n",
    "    rct=set(row['ReactantID'])    \n",
    "    if not rctonly:\n",
    "        if row['ReagentID']!='NaN':\n",
    "            matches=[val in combinedpool for val in set(row['ReagentID'])]\n",
    "            if relevance=='balanced':\n",
    "                idealanaloguenum=round((1/row['NumRefs'])*(len(row['ReagentID'])))\n",
    "                if sum(matches)>=idealanaloguenum and rct.issubset(combinedpool):\n",
    "                    return True\n",
    "                else:\n",
    "                    return False\n",
    "            elif relevance=='strictest': \n",
    "                if all(matches) and rct.issubset(combinedpool):\n",
    "                    return True\n",
    "                else:\n",
    "                    return False\n",
    "            else:\n",
    "                if any(matches) and rct.issubset(combinedpool):\n",
    "                    return True\n",
    "                elif relevance=='loose':\n",
    "                    if row['NumRefs']==1: #Line was added as reactions with more than one reference are removed if reagents not in analogue compd pool (even if reagents aren't involved)\n",
    "                                       # This adds more candirxns 15230 to 25347\n",
    "                        return False \n",
    "                else:\n",
    "                    return False\n",
    "#             if row['NumRefs']>1:\n",
    "#                 rct=rct.union(set(row['ReagentID'][0]))\n",
    "#             else:\n",
    "#                 rct=rct.union(set(row['ReagentID']))\n",
    "    if rct.issubset(combinedpool):\n",
    "        return True\n",
    "    else:\n",
    "        return False\n",
    "\n",
    "def rxp(partition,db):\n",
    "    partition.apply(rx,db=db,axis=1)\n",
    "def rx(row,db,Rdata=True,Pdata=False,Rgtdata=False):\n",
    "#     Rdata={ID:getcompdict(ID=ID,FragDB=FragDB)[ID] for ID in copy.copy(row.ReactantID)} #Stores atom count, type, smiles for each LHS species keyed to ID\n",
    "    if Rdata:\n",
    "        col='ReactantID'\n",
    "    elif Pdata:\n",
    "        col='ProductID'\n",
    "    elif Rgtdata:\n",
    "        dat={}\n",
    "        col='ReagentID'\n",
    "        if row[col]=='NaN' or row[col] is None:\n",
    "            return {}\n",
    "        for ID in set(copy.copy(row[col])):\n",
    "            try:\n",
    "                dat.update(getcompdict(ID=ID,smiles=pd.read_sql_query('''SELECT Smiles from SubstanceDB Where SubstanceID=  \"'''+ str(ID) + '''\"''',db).Smiles[0]))  \n",
    "            except Exception:\n",
    "                continue\n",
    "        return dat\n",
    "                \n",
    "    try:\n",
    "#         smiles=[pd.read_sql_query('''SELECT Smiles from SubstanceDB Where SubstanceID=  \"'''+ str(ID) + '''\"''',db).Smiles[0] for ID in copy.copy(row['ReactantID'])]\n",
    "        dat={ID:getcompdict(ID=ID,smiles=pd.read_sql_query('''SELECT Smiles from SubstanceDB Where SubstanceID=  \"'''+ str(ID) + '''\"''',db).Smiles[0])[ID] for ID in set(copy.copy(row[col]))}\n",
    "#         Pdata={ID:getcompdict(ID=ID,smiles=pd.read_sql_query('''SELECT Smiles from SubstanceDB Where SubstanceID=  \"'''+ str(ID) + '''\"''',db).Smiles[0])[ID] for ID in copy.copy(row['ProductID'])}\n",
    "    except Exception as e:\n",
    "        return str(e)\n",
    "    else:\n",
    "        return dat\n"
   ]
  },
  {
   "cell_type": "markdown",
   "metadata": {},
   "source": [
    "## helpCompound.py"
   ]
  },
  {
   "cell_type": "markdown",
   "metadata": {},
   "source": [
    "helpCompound.py contains help compound dictionaries for balancing reactions. hc_Dict is a dictionary of help products with atom types and counts, charge, smiles, formula and Reaxys IDs, while hc_rct is a dictionary of help reactants with the same information"
   ]
  },
  {
   "cell_type": "code",
   "execution_count": 7,
   "metadata": {
    "ExecuteTime": {
     "end_time": "2021-04-20T16:05:01.239940Z",
     "start_time": "2021-04-20T16:05:01.135774Z"
    }
   },
   "outputs": [],
   "source": [
    "# %%writefile helpCompound.py\n",
    "# %load ./helpCompound.py\n",
    "\n",
    "from rdkit import Chem\n",
    "from MainFunctions import getcompdict\n",
    "\n",
    "# help compounds\n",
    "# website to draw structure and compute SMILES:\n",
    "# http://www.cheminfo.org/flavor/malaria/Utilities/SMILES_generator___checker/index.html\n",
    "# or ChemDraw\n",
    "hc_smilesDict = {\n",
    "    'H2O': 'O',\n",
    "    'H2': '[H][H]',\n",
    "    'O2': 'O=O',\n",
    "    'N2': 'N#N',\n",
    "\n",
    "    'Na+': '[Na+]',\n",
    "    'K+': '[K+]',\n",
    "    'NO2+': 'O=[N+]=O',\n",
    "    'SO3-': 'O=S(O)[O-]',\n",
    "\n",
    "    'CH4': 'C', #H2O was after this\n",
    "    'HCl': 'Cl',\n",
    "    'HBr': 'Br',\n",
    "    'HI': 'I',\n",
    "    'HF': 'F',\n",
    "    'PH3': 'P',\n",
    "    'NH3': 'N',\n",
    "    'H2S': 'S',\n",
    "\n",
    "    'H3PO3': 'O=P(O)O',\n",
    "    'H2SO4': 'O=S(=O)(O)O',\n",
    "    'HNO3': 'O=N(=O)O',\n",
    "    'HClO3': 'O=Cl(=O)O',\n",
    "\n",
    "    'CH3OH': 'CO',\n",
    "    'CH3CH2OH': 'CCO',  # ethanol\n",
    "    'CH3CH2CH2OH': 'CCCO',\n",
    "    'CH3CH2CH2CH2OH': 'CCCCO',\n",
    "\n",
    "    'CH3COOH': 'CC(=O)O',\n",
    "    'CH3CH2COOH': 'CCC(=O)O',\n",
    "    'CH3CH2CH2COOH': 'CCCC(=O)O',\n",
    "\n",
    "    'CH3OCH2COOH': 'COCC(=O)O',\n",
    "\n",
    "    'C6H6': 'c1ccccc1',  # benzene\n",
    "    'C6H5CH3': 'Cc1ccccc1',  # toluene\n",
    "    'C6H5OH': 'Oc1ccccc1',  # phenol\n",
    "    'C6H5Cl': 'Clc1ccccc1'\n",
    "}\n",
    "\n",
    "rxs_ids= {\n",
    "    0: [16478368,\n",
    "      18259376,\n",
    "      16999929,\n",
    "      17669282,\n",
    "      16532872,\n",
    "      28692842,\n",
    "      15936966,\n",
    "      3587155,\n",
    "      16490171,\n",
    "      16289331,\n",
    "      16835842,\n",
    "      16503633,\n",
    "      17718728,\n",
    "      6133474,\n",
    "      16262803,\n",
    "      16474573,\n",
    "      3902901,\n",
    "      16475737,\n",
    "      28983178,\n",
    "      15994867,\n",
    "      17669283,\n",
    "      15937459,\n",
    "      16953050,\n",
    "      15994744,\n",
    "      15994743,\n",
    "      14405424,\n",
    "      16485385,\n",
    "      16484106,\n",
    "      16733579],\n",
    "    1: [28182329, 16514685, 23163263, 27944166, 3587189, 16818691],\n",
    "    2: [16770786,\n",
    "      3587218,\n",
    "      31585248,\n",
    "      22989299,\n",
    "      27987247,\n",
    "      16504248,\n",
    "      16514885,\n",
    "      11335911,\n",
    "      26591375,\n",
    "      4950925,\n",
    "      30719131,\n",
    "      16855942,\n",
    "      16868313],\n",
    "    3: [18239691, 23131181, 16825577, 3535119],\n",
    "    4: [],\n",
    "    5: [],\n",
    "    6: [],\n",
    "    7: [],\n",
    "    8: [24624233,\n",
    "      16418587,\n",
    "      23479886,\n",
    "      15997356,\n",
    "      16819140,\n",
    "      27580429,\n",
    "      16707704,\n",
    "      16707699,\n",
    "      16504514,\n",
    "      23044551,\n",
    "      16733525,\n",
    "      16609798,\n",
    "      5489265,\n",
    "      16305234,\n",
    "      1718732,\n",
    "      17199598,\n",
    "      30914243,\n",
    "      22919006,\n",
    "      16290583,\n",
    "      17121186,\n",
    "      17606888,\n",
    "      8253279,\n",
    "      16512586,\n",
    "      16210409,\n",
    "      18183425,\n",
    "      8137357,\n",
    "      31767133,\n",
    "      16488242,\n",
    "      19714291,\n",
    "      16708305,\n",
    "      16021303,\n",
    "      16515430,\n",
    "      23009402,\n",
    "      6378772,\n",
    "      31939934,\n",
    "      16030247,\n",
    "      15900809,\n",
    "      22939136,\n",
    "      4360473,\n",
    "      16014509,\n",
    "      17182792,\n",
    "      27904106,\n",
    "      27027367,\n",
    "      18162417,\n",
    "      22923218,\n",
    "      22966207,\n",
    "      18162513,\n",
    "      16704909,\n",
    "      16504771,\n",
    "      16770476,\n",
    "      23124799,\n",
    "      23669189],\n",
    "    9: [24608586,\n",
    "      16836402,\n",
    "      14681183,\n",
    "      3587171,\n",
    "      15913435,\n",
    "      16501060,\n",
    "      7801727,\n",
    "      16270663,\n",
    "      19834398,\n",
    "      1098214,\n",
    "      16475562,\n",
    "      16502419,\n",
    "      3587163],\n",
    "    10: [19231194,\n",
    "      3587158,\n",
    "      16767870,\n",
    "      16953049,\n",
    "      32435652,\n",
    "      8137367,\n",
    "      16350067,\n",
    "      17252122,\n",
    "      3587179,\n",
    "      7801728,\n",
    "      3587164],\n",
    "    11: [19235722,\n",
    "      4857092,\n",
    "      3587159,\n",
    "      7801729,\n",
    "      13260132,\n",
    "      3924806,\n",
    "      15654752,\n",
    "      13191432,\n",
    "      3587184,\n",
    "      14314981,\n",
    "      7183122],\n",
    "    12: [17804308,\n",
    "      9189014,\n",
    "      16845862,\n",
    "      22706559,\n",
    "      30535914,\n",
    "      29920556,\n",
    "      31535339,\n",
    "      27914016,\n",
    "      15346168,\n",
    "      3535002,\n",
    "      31364145,\n",
    "      7631393,\n",
    "      16484530,\n",
    "      12273154,\n",
    "      31497443,\n",
    "      31990450,\n",
    "      3587168],\n",
    "    13: [3600171,\n",
    "      16637179,\n",
    "      16124019,\n",
    "      28173516,\n",
    "      11342918,\n",
    "      16700864,\n",
    "      16124280,\n",
    "      17038085,\n",
    "      16477580,\n",
    "      23024892,\n",
    "      16537462,\n",
    "      16079940,\n",
    "      16835703,\n",
    "      16818083,\n",
    "      16819540,\n",
    "      16085506,\n",
    "      22927825,\n",
    "      16844873,\n",
    "      16840622,\n",
    "      16823091],\n",
    "    14: [14975703,\n",
    "      3587154,\n",
    "      16481245,\n",
    "      14680594,\n",
    "      16513264,\n",
    "      16051411,\n",
    "      16752555,\n",
    "      16497709,\n",
    "      17464070,\n",
    "      9757005,\n",
    "      16853108,\n",
    "      16645898,\n",
    "      16344183,\n",
    "      16480090,\n",
    "      16504355],\n",
    "    15: [16502675,\n",
    "      21096201,\n",
    "      18146804,\n",
    "      16882310,\n",
    "      18081525,\n",
    "      16756646,\n",
    "      16756647,\n",
    "      16482190,\n",
    "      15993707,\n",
    "      16812026,\n",
    "      16744421,\n",
    "      16506507,\n",
    "      16860251,\n",
    "      16866405,\n",
    "      18088677,\n",
    "      16023721,\n",
    "      16479810,\n",
    "      29006369,\n",
    "      16856368,\n",
    "      16708589,\n",
    "      16733544,\n",
    "      16833861,\n",
    "      16742934,\n",
    "      16771669,\n",
    "      4921294,\n",
    "      16815166,\n",
    "      16505834,\n",
    "      16866223,\n",
    "      3902903,\n",
    "      16514169,\n",
    "      16861985,\n",
    "      16510798,\n",
    "      16862395,\n",
    "      15917942,\n",
    "      16509361,\n",
    "      3535004,\n",
    "      16863400],\n",
    "    16: [1209272],\n",
    "    17: [18778845, 27746102, 19242250, 2037554],\n",
    "    18: [3587310],\n",
    "    19: [3903350],\n",
    "    20: [5725793, 1098229, 6378986],\n",
    "    21: [1718733, 7125196, 6379086],\n",
    "    22: [1098242],\n",
    "    23: [6184745, 969148, 5725719],\n",
    "    24: [506007],\n",
    "    25: [30634768, 506071],\n",
    "    26: [906770],\n",
    "    27: [635800],\n",
    "    28: [4921477, 969212, 4124568, 3648202],\n",
    "    29: [3928623, 28376744, 5242344, 635760, 4952623],\n",
    "    30: [5805786, 969616, 4244235],\n",
    "    31: [3603072, 605632, 6190543]}\n",
    "\n",
    "hc_smilesDict={hcid:Chem.MolToSmiles(Chem.MolFromSmiles(hcsmiles)) for hcid,hcsmiles in hc_smilesDict.items()}\n",
    "# rxs_ids={i:list(pd.read_sql_query('''SELECT SubstanceID from SubstanceDB Where Smiles= \"'''+hcsmiles+ '''\"'''+'''AND \">1 Compound\"=0''',db).SubstanceID) for i,hcsmiles in enumerate(hc_smilesDict.values())}\n",
    "\n",
    "hc_molDict = {hc: Chem.AddHs(Chem.MolFromSmiles(\n",
    "    hc_smilesDict[hc])) for hc in hc_smilesDict}\n",
    "hc_Dict={i:getcompdict(ID=i,smiles=hcsmiles)[i] for i,hcsmiles in enumerate(hc_smilesDict.values())}\n",
    "for i in hc_Dict.keys():\n",
    "    hc_Dict[i].update({'rxs_ids':rxs_ids[i]})\n",
    "hc_rct={hcid:hc_Dict[hcid] for hcid in [0,1,2,8,9,10,11,12]} #Small compounds to add to LHS "
   ]
  },
  {
   "cell_type": "code",
   "execution_count": 10,
   "metadata": {
    "ExecuteTime": {
     "end_time": "2021-04-20T16:07:22.206533Z",
     "start_time": "2021-04-20T16:07:22.162561Z"
    }
   },
   "outputs": [
    {
     "data": {
      "text/plain": [
       "{0: {'atomdict': {'O': 1, 'H': 2},\n",
       "  'charge': 0,\n",
       "  'smiles': 'O',\n",
       "  'formula': 'H2O',\n",
       "  'count': 1,\n",
       "  'rxs_ids': [16478368,\n",
       "   18259376,\n",
       "   16999929,\n",
       "   17669282,\n",
       "   16532872,\n",
       "   28692842,\n",
       "   15936966,\n",
       "   3587155,\n",
       "   16490171,\n",
       "   16289331,\n",
       "   16835842,\n",
       "   16503633,\n",
       "   17718728,\n",
       "   6133474,\n",
       "   16262803,\n",
       "   16474573,\n",
       "   3902901,\n",
       "   16475737,\n",
       "   28983178,\n",
       "   15994867,\n",
       "   17669283,\n",
       "   15937459,\n",
       "   16953050,\n",
       "   15994744,\n",
       "   15994743,\n",
       "   14405424,\n",
       "   16485385,\n",
       "   16484106,\n",
       "   16733579]},\n",
       " 1: {'atomdict': {'H': 2},\n",
       "  'charge': 0,\n",
       "  'smiles': '[H][H]',\n",
       "  'formula': 'H2',\n",
       "  'count': 1,\n",
       "  'rxs_ids': [28182329, 16514685, 23163263, 27944166, 3587189, 16818691]},\n",
       " 2: {'atomdict': {'O': 2},\n",
       "  'charge': 0,\n",
       "  'smiles': 'O=O',\n",
       "  'formula': 'O2',\n",
       "  'count': 1,\n",
       "  'rxs_ids': [16770786,\n",
       "   3587218,\n",
       "   31585248,\n",
       "   22989299,\n",
       "   27987247,\n",
       "   16504248,\n",
       "   16514885,\n",
       "   11335911,\n",
       "   26591375,\n",
       "   4950925,\n",
       "   30719131,\n",
       "   16855942,\n",
       "   16868313]},\n",
       " 3: {'atomdict': {'N': 2},\n",
       "  'charge': 0,\n",
       "  'smiles': 'N#N',\n",
       "  'formula': 'N2',\n",
       "  'count': 1,\n",
       "  'rxs_ids': [18239691, 23131181, 16825577, 3535119]},\n",
       " 4: {'atomdict': {'Na': 1},\n",
       "  'charge': 1,\n",
       "  'smiles': '[Na+]',\n",
       "  'formula': 'Na+',\n",
       "  'count': 1,\n",
       "  'rxs_ids': []},\n",
       " 5: {'atomdict': {'K': 1},\n",
       "  'charge': 1,\n",
       "  'smiles': '[K+]',\n",
       "  'formula': 'K+',\n",
       "  'count': 1,\n",
       "  'rxs_ids': []},\n",
       " 6: {'atomdict': {'O': 2, 'N': 1},\n",
       "  'charge': 1,\n",
       "  'smiles': 'O=[N+]=O',\n",
       "  'formula': 'NO2+',\n",
       "  'count': 1,\n",
       "  'rxs_ids': []},\n",
       " 7: {'atomdict': {'O': 3, 'S': 1, 'H': 1},\n",
       "  'charge': -1,\n",
       "  'smiles': 'O=S([O-])O',\n",
       "  'formula': 'HO3S-',\n",
       "  'count': 1,\n",
       "  'rxs_ids': []},\n",
       " 8: {'atomdict': {'C': 1, 'H': 4},\n",
       "  'charge': 0,\n",
       "  'smiles': 'C',\n",
       "  'formula': 'CH4',\n",
       "  'count': 1,\n",
       "  'rxs_ids': [24624233,\n",
       "   16418587,\n",
       "   23479886,\n",
       "   15997356,\n",
       "   16819140,\n",
       "   27580429,\n",
       "   16707704,\n",
       "   16707699,\n",
       "   16504514,\n",
       "   23044551,\n",
       "   16733525,\n",
       "   16609798,\n",
       "   5489265,\n",
       "   16305234,\n",
       "   1718732,\n",
       "   17199598,\n",
       "   30914243,\n",
       "   22919006,\n",
       "   16290583,\n",
       "   17121186,\n",
       "   17606888,\n",
       "   8253279,\n",
       "   16512586,\n",
       "   16210409,\n",
       "   18183425,\n",
       "   8137357,\n",
       "   31767133,\n",
       "   16488242,\n",
       "   19714291,\n",
       "   16708305,\n",
       "   16021303,\n",
       "   16515430,\n",
       "   23009402,\n",
       "   6378772,\n",
       "   31939934,\n",
       "   16030247,\n",
       "   15900809,\n",
       "   22939136,\n",
       "   4360473,\n",
       "   16014509,\n",
       "   17182792,\n",
       "   27904106,\n",
       "   27027367,\n",
       "   18162417,\n",
       "   22923218,\n",
       "   22966207,\n",
       "   18162513,\n",
       "   16704909,\n",
       "   16504771,\n",
       "   16770476,\n",
       "   23124799,\n",
       "   23669189]},\n",
       " 9: {'atomdict': {'Cl': 1, 'H': 1},\n",
       "  'charge': 0,\n",
       "  'smiles': 'Cl',\n",
       "  'formula': 'HCl',\n",
       "  'count': 1,\n",
       "  'rxs_ids': [24608586,\n",
       "   16836402,\n",
       "   14681183,\n",
       "   3587171,\n",
       "   15913435,\n",
       "   16501060,\n",
       "   7801727,\n",
       "   16270663,\n",
       "   19834398,\n",
       "   1098214,\n",
       "   16475562,\n",
       "   16502419,\n",
       "   3587163]},\n",
       " 10: {'atomdict': {'Br': 1, 'H': 1},\n",
       "  'charge': 0,\n",
       "  'smiles': 'Br',\n",
       "  'formula': 'HBr',\n",
       "  'count': 1,\n",
       "  'rxs_ids': [19231194,\n",
       "   3587158,\n",
       "   16767870,\n",
       "   16953049,\n",
       "   32435652,\n",
       "   8137367,\n",
       "   16350067,\n",
       "   17252122,\n",
       "   3587179,\n",
       "   7801728,\n",
       "   3587164]},\n",
       " 11: {'atomdict': {'I': 1, 'H': 1},\n",
       "  'charge': 0,\n",
       "  'smiles': 'I',\n",
       "  'formula': 'HI',\n",
       "  'count': 1,\n",
       "  'rxs_ids': [19235722,\n",
       "   4857092,\n",
       "   3587159,\n",
       "   7801729,\n",
       "   13260132,\n",
       "   3924806,\n",
       "   15654752,\n",
       "   13191432,\n",
       "   3587184,\n",
       "   14314981,\n",
       "   7183122]},\n",
       " 12: {'atomdict': {'F': 1, 'H': 1},\n",
       "  'charge': 0,\n",
       "  'smiles': 'F',\n",
       "  'formula': 'HF',\n",
       "  'count': 1,\n",
       "  'rxs_ids': [17804308,\n",
       "   9189014,\n",
       "   16845862,\n",
       "   22706559,\n",
       "   30535914,\n",
       "   29920556,\n",
       "   31535339,\n",
       "   27914016,\n",
       "   15346168,\n",
       "   3535002,\n",
       "   31364145,\n",
       "   7631393,\n",
       "   16484530,\n",
       "   12273154,\n",
       "   31497443,\n",
       "   31990450,\n",
       "   3587168]},\n",
       " 13: {'atomdict': {'P': 1, 'H': 3},\n",
       "  'charge': 0,\n",
       "  'smiles': 'P',\n",
       "  'formula': 'H3P',\n",
       "  'count': 1,\n",
       "  'rxs_ids': [3600171,\n",
       "   16637179,\n",
       "   16124019,\n",
       "   28173516,\n",
       "   11342918,\n",
       "   16700864,\n",
       "   16124280,\n",
       "   17038085,\n",
       "   16477580,\n",
       "   23024892,\n",
       "   16537462,\n",
       "   16079940,\n",
       "   16835703,\n",
       "   16818083,\n",
       "   16819540,\n",
       "   16085506,\n",
       "   22927825,\n",
       "   16844873,\n",
       "   16840622,\n",
       "   16823091]},\n",
       " 14: {'atomdict': {'N': 1, 'H': 3},\n",
       "  'charge': 0,\n",
       "  'smiles': 'N',\n",
       "  'formula': 'H3N',\n",
       "  'count': 1,\n",
       "  'rxs_ids': [14975703,\n",
       "   3587154,\n",
       "   16481245,\n",
       "   14680594,\n",
       "   16513264,\n",
       "   16051411,\n",
       "   16752555,\n",
       "   16497709,\n",
       "   17464070,\n",
       "   9757005,\n",
       "   16853108,\n",
       "   16645898,\n",
       "   16344183,\n",
       "   16480090,\n",
       "   16504355]},\n",
       " 15: {'atomdict': {'S': 1, 'H': 2},\n",
       "  'charge': 0,\n",
       "  'smiles': 'S',\n",
       "  'formula': 'H2S',\n",
       "  'count': 1,\n",
       "  'rxs_ids': [16502675,\n",
       "   21096201,\n",
       "   18146804,\n",
       "   16882310,\n",
       "   18081525,\n",
       "   16756646,\n",
       "   16756647,\n",
       "   16482190,\n",
       "   15993707,\n",
       "   16812026,\n",
       "   16744421,\n",
       "   16506507,\n",
       "   16860251,\n",
       "   16866405,\n",
       "   18088677,\n",
       "   16023721,\n",
       "   16479810,\n",
       "   29006369,\n",
       "   16856368,\n",
       "   16708589,\n",
       "   16733544,\n",
       "   16833861,\n",
       "   16742934,\n",
       "   16771669,\n",
       "   4921294,\n",
       "   16815166,\n",
       "   16505834,\n",
       "   16866223,\n",
       "   3902903,\n",
       "   16514169,\n",
       "   16861985,\n",
       "   16510798,\n",
       "   16862395,\n",
       "   15917942,\n",
       "   16509361,\n",
       "   3535004,\n",
       "   16863400]},\n",
       " 16: {'atomdict': {'O': 3, 'P': 1, 'H': 3},\n",
       "  'charge': 0,\n",
       "  'smiles': 'O=[PH](O)O',\n",
       "  'formula': 'H3O3P',\n",
       "  'count': 1,\n",
       "  'rxs_ids': [1209272]},\n",
       " 17: {'atomdict': {'O': 4, 'S': 1, 'H': 2},\n",
       "  'charge': 0,\n",
       "  'smiles': 'O=S(=O)(O)O',\n",
       "  'formula': 'H2O4S',\n",
       "  'count': 1,\n",
       "  'rxs_ids': [18778845, 27746102, 19242250, 2037554]},\n",
       " 18: {'atomdict': {'O': 3, 'N': 1, 'H': 1},\n",
       "  'charge': 0,\n",
       "  'smiles': 'O=[N+]([O-])O',\n",
       "  'formula': 'HNO3',\n",
       "  'count': 1,\n",
       "  'rxs_ids': [3587310]},\n",
       " 19: {'atomdict': {'O': 3, 'Cl': 1, 'H': 1},\n",
       "  'charge': 0,\n",
       "  'smiles': '[O-][Cl+2]([O-])O',\n",
       "  'formula': 'HClO3',\n",
       "  'count': 1,\n",
       "  'rxs_ids': [3903350]},\n",
       " 20: {'atomdict': {'C': 1, 'O': 1, 'H': 4},\n",
       "  'charge': 0,\n",
       "  'smiles': 'CO',\n",
       "  'formula': 'CH4O',\n",
       "  'count': 1,\n",
       "  'rxs_ids': [5725793, 1098229, 6378986]},\n",
       " 21: {'atomdict': {'C': 2, 'O': 1, 'H': 6},\n",
       "  'charge': 0,\n",
       "  'smiles': 'CCO',\n",
       "  'formula': 'C2H6O',\n",
       "  'count': 1,\n",
       "  'rxs_ids': [1718733, 7125196, 6379086]},\n",
       " 22: {'atomdict': {'C': 3, 'O': 1, 'H': 8},\n",
       "  'charge': 0,\n",
       "  'smiles': 'CCCO',\n",
       "  'formula': 'C3H8O',\n",
       "  'count': 1,\n",
       "  'rxs_ids': [1098242]},\n",
       " 23: {'atomdict': {'C': 4, 'O': 1, 'H': 10},\n",
       "  'charge': 0,\n",
       "  'smiles': 'CCCCO',\n",
       "  'formula': 'C4H10O',\n",
       "  'count': 1,\n",
       "  'rxs_ids': [6184745, 969148, 5725719]},\n",
       " 24: {'atomdict': {'C': 2, 'O': 2, 'H': 4},\n",
       "  'charge': 0,\n",
       "  'smiles': 'CC(=O)O',\n",
       "  'formula': 'C2H4O2',\n",
       "  'count': 1,\n",
       "  'rxs_ids': [506007]},\n",
       " 25: {'atomdict': {'C': 3, 'O': 2, 'H': 6},\n",
       "  'charge': 0,\n",
       "  'smiles': 'CCC(=O)O',\n",
       "  'formula': 'C3H6O2',\n",
       "  'count': 1,\n",
       "  'rxs_ids': [30634768, 506071]},\n",
       " 26: {'atomdict': {'C': 4, 'O': 2, 'H': 8},\n",
       "  'charge': 0,\n",
       "  'smiles': 'CCCC(=O)O',\n",
       "  'formula': 'C4H8O2',\n",
       "  'count': 1,\n",
       "  'rxs_ids': [906770]},\n",
       " 27: {'atomdict': {'C': 3, 'O': 3, 'H': 6},\n",
       "  'charge': 0,\n",
       "  'smiles': 'COCC(=O)O',\n",
       "  'formula': 'C3H6O3',\n",
       "  'count': 1,\n",
       "  'rxs_ids': [635800]},\n",
       " 28: {'atomdict': {'C': 6, 'H': 6},\n",
       "  'charge': 0,\n",
       "  'smiles': 'c1ccccc1',\n",
       "  'formula': 'C6H6',\n",
       "  'count': 1,\n",
       "  'rxs_ids': [4921477, 969212, 4124568, 3648202]},\n",
       " 29: {'atomdict': {'C': 7, 'H': 8},\n",
       "  'charge': 0,\n",
       "  'smiles': 'Cc1ccccc1',\n",
       "  'formula': 'C7H8',\n",
       "  'count': 1,\n",
       "  'rxs_ids': [3928623, 28376744, 5242344, 635760, 4952623]},\n",
       " 30: {'atomdict': {'O': 1, 'C': 6, 'H': 6},\n",
       "  'charge': 0,\n",
       "  'smiles': 'Oc1ccccc1',\n",
       "  'formula': 'C6H6O',\n",
       "  'count': 1,\n",
       "  'rxs_ids': [5805786, 969616, 4244235]},\n",
       " 31: {'atomdict': {'Cl': 1, 'C': 6, 'H': 5},\n",
       "  'charge': 0,\n",
       "  'smiles': 'Clc1ccccc1',\n",
       "  'formula': 'C6H5Cl',\n",
       "  'count': 1,\n",
       "  'rxs_ids': [3603072, 605632, 6190543]}}"
      ]
     },
     "execution_count": 10,
     "metadata": {},
     "output_type": "execute_result"
    }
   ],
   "source": [
    "hc_Dict"
   ]
  },
  {
   "cell_type": "markdown",
   "metadata": {},
   "source": [
    "## BalanceRxns.py"
   ]
  },
  {
   "cell_type": "markdown",
   "metadata": {},
   "source": [
    "BalanceRxns.py contains functions for building, representing and balancing reactions from Reaxys. Reagents from the reaction record and help compounds from helpCompound.py are added when appropriate to balance reactions. However, limitations include inability to try more than one type of help compound at the same time, and inability (at the moment) to balance reactions using solvents. Also false positives may emerge where reactions balance with just the reactants even though other species are involved (eg./ oxidizing agents for self reactions). Species with same molecular formulae but different structural formulae are conditionally addressed (if stoich coefficient < number of same species this does not work yet)"
   ]
  },
  {
   "cell_type": "code",
   "execution_count": 265,
   "metadata": {
    "ExecuteTime": {
     "end_time": "2021-04-22T05:31:14.559965Z",
     "start_time": "2021-04-22T05:31:14.404209Z"
    }
   },
   "outputs": [],
   "source": [
    "# %%writefile BalanceRxns.py\n",
    "# %load ./BalanceRxns.py\n",
    "\n",
    "from MainFunctions import CustomError,getfragments\n",
    "from chempy import balance_stoichiometry\n",
    "import copy\n",
    "from collections import Counter\n",
    "\n",
    "def buildrxn(Rdata,Pdata):\n",
    "    '''\n",
    "    Takes reaction and product data, and concatenates smiles strings, forming\n",
    "    reaction smiles/smarts\n",
    "\n",
    "    Parameters\n",
    "    ----------\n",
    "    Rdata : dict\n",
    "        Reaction data, formatted as output of getcompdict()\n",
    "    Pdata : dict\n",
    "        Product data, formatted as output of getcompdict()\n",
    "\n",
    "    Returns\n",
    "    -------\n",
    "    Output: str\n",
    "        Reaction smiles/smarts string\n",
    "\n",
    "    '''\n",
    "    LHS=[Rdata[ID]['smiles'] for ID in Rdata for _ in range(Rdata[ID]['count'])]\n",
    "    RHS=[Pdata[ID]['smiles'] for ID in Pdata for _ in range(Pdata[ID]['count'])]\n",
    "    return '>>'.join([getfragments(LHS,smiles=True), getfragments(RHS,smiles=True)])\n",
    "\n",
    "\n",
    "def update_stoich(stoich,compdict,hcID=None,hc_Dict=None):\n",
    "    '''\n",
    "    \n",
    "\n",
    "    Parameters\n",
    "    ----------\n",
    "    stoich : TYPE\n",
    "        DESCRIPTION.\n",
    "    compdict : TYPE\n",
    "        DESCRIPTION.\n",
    "    hcID : TYPE, optional\n",
    "        DESCRIPTION. The default is None.\n",
    "    hc_Dict : TYPE, optional\n",
    "        DESCRIPTION. The default is None.\n",
    "\n",
    "    Raises\n",
    "    ------\n",
    "    CustomError\n",
    "        DESCRIPTION.\n",
    "\n",
    "    Returns\n",
    "    -------\n",
    "    compdict : TYPE\n",
    "        DESCRIPTION.\n",
    "    msg : TYPE\n",
    "        DESCRIPTION.\n",
    "\n",
    "    '''\n",
    "    usedid=[]\n",
    "    formdict={}\n",
    "    msg=''   \n",
    "    for ID in compdict:\n",
    "        form=compdict[ID]['formula']\n",
    "        if form not in formdict:\n",
    "            formdict.update({form:[ID]})\n",
    "        else:\n",
    "            formdict[form].extend([ID])\n",
    "    if hcID:\n",
    "        if hc_Dict is None:\n",
    "            raise CustomError(\"Please supply help compound reference dictionary/dataframe\")\n",
    "        for hcid in hcID:\n",
    "            form=hc_Dict[hcid]['formula']\n",
    "            if form not in formdict:\n",
    "                formdict.update({form:[hcid]})\n",
    "            else:\n",
    "                formdict[form].extend([hcid])\n",
    "\n",
    "    for formula,coeff in stoich.items():\n",
    "        if formula in formdict:\n",
    "            if len(formdict[formula])>1: #Duplicate molecular formula\n",
    "                if coeff%len(formdict[formula])==0:\n",
    "                    coeff=int(coeff/len(formdict[formula]))\n",
    "                else:\n",
    "                    msg='Invalid balancing. Duplicate molecular formulae cannot be resolved'\n",
    "                    break\n",
    "            for ID in formdict[formula]:\n",
    "                if ID not in compdict:\n",
    "                    compdict.update({ID:hc_Dict[ID]})\n",
    "                compdict[ID]['count']=coeff\n",
    "                usedid+=[ID]\n",
    "        else:\n",
    "            msg='Invalid balancing. Formula indicated in stoich outside compound dictionary'\n",
    "            break\n",
    "    if msg:\n",
    "        return 'Error',msg\n",
    "    else:\n",
    "        valid=True\n",
    "        unusedid=set(compdict.keys())-set(usedid)\n",
    "        if unusedid:\n",
    "            for ID in unusedid:\n",
    "                if 'rxs_ids' not in compdict[ID]:\n",
    "                    valid=False\n",
    "                    break\n",
    "            if valid:\n",
    "                for ID in unusedid:\n",
    "                    del compdict[ID]\n",
    "        if valid:\n",
    "            msg='Valid'\n",
    "            return compdict,msg\n",
    "        else:\n",
    "            msg='Invalid balancing. Species missing'\n",
    "            return 'Error',msg\n",
    "        \n",
    "            \n",
    "            \n",
    "        \n",
    "            \n",
    "        \n",
    "            \n",
    "#     for formula,coeff in stoich.items():\n",
    "#         assigned=False\n",
    "#         for ID in compdict:\n",
    "#             if compdict[ID]['formula']==formula:\n",
    "#                 compdict[ID]['count']=coeff\n",
    "#                 assigned=True\n",
    "#                 usedid+=[ID] #added\n",
    "#                 break\n",
    "#         if assigned:\n",
    "#             continue\n",
    "#         elif hcID:\n",
    "#             if hc_Dict is None:\n",
    "#                 raise CustomError(\"Please supply help compound reference dictionary/dataframe\")\n",
    "#             for hcid in hcID:\n",
    "#                 if formula==hc_Dict[hcid]['formula']: \n",
    "#                     if hcid not in compdict.keys():\n",
    "#                         compdict.update({hcid:hc_Dict[hcid]})\n",
    "#                         compdict[hcid]['count']=coeff\n",
    "#                         assigned=True\n",
    "#                         usedid+=[hcid] #added\n",
    "#                         break\n",
    "#                     else: #added\n",
    "#                         compdict[hcid]['count']=coeff\n",
    "#                         assigned=True\n",
    "#                         usedid+=[hcid]\n",
    "#                         break\n",
    "#         if not assigned:\n",
    "#             raise CustomError(\"Formula indicated in stoich outside compound dictionary\")\n",
    "#     valid=True\n",
    "#     unusedid=set(compdict.keys())-set(usedid) #added\n",
    "#     if unusedid:\n",
    "#         for ID in unusedid:\n",
    "#             if 'rxs_ids' not in compdict[ID]:\n",
    "#                 valid=False\n",
    "#                 break\n",
    "#         if valid:\n",
    "#             for ID in unusedid:\n",
    "#                 del compdict[ID]\n",
    "#     if valid:\n",
    "#         msg='Valid'\n",
    "#     else:\n",
    "#         msg='Invalid balancing. Species missing'\n",
    "#     return compdict,msg\n",
    "\n",
    "def update_rxn(Rdata,Pdata,reac=None,prod=None,hc_prod=None,hcprod=[],hcrct=[],rxnsmiles0=None,msg=None):\n",
    "    stoichupdated=False\n",
    "    if reac is not None:#Switched order\n",
    "        stoichupdated=True\n",
    "        Rdata1,addmsgr=update_stoich(reac,Rdata)\n",
    "        if addmsgr!='Valid':\n",
    "            if msg is not None:\n",
    "                msg=addmsgr+' from LHS'+', '+msg\n",
    "            else:\n",
    "                msg=addmsgr+' from LHS'\n",
    "    if prod is not None:\n",
    "        stoichupdated=True\n",
    "        Pdata1,addmsgp=update_stoich(prod,Pdata,hcID=hcprod,hc_Dict=hc_prod)\n",
    "        if addmsgp!='Valid':\n",
    "            if msg is not None:\n",
    "                msg=addmsgp+' from RHS'+', '+msg\n",
    "            else:\n",
    "                msg=addmsgp+' from RHS'\n",
    "    if stoichupdated:\n",
    "        if Rdata1!='Error' and Pdata1!='Error':\n",
    "            Rdata=Rdata1\n",
    "            Pdata=Pdata1\n",
    "            balrxnsmiles=buildrxn(Rdata,Pdata)\n",
    "        else:\n",
    "            balrxnsmiles='Error'\n",
    "    else:\n",
    "        balrxnsmiles=buildrxn(Rdata,Pdata)\n",
    "                \n",
    "    if hcrct:\n",
    "        LHSids=[ID for ID in Rdata if ID not in hcrct for _ in range(Rdata[ID]['count'])]\n",
    "    else:\n",
    "        LHSids=[ID for ID in Rdata for _ in range(Rdata[ID]['count'])]\n",
    "    if hcprod:\n",
    "        RHSids=[ID for ID in Pdata if ID not in hcprod for _ in range(Pdata[ID]['count'])]\n",
    "    else:\n",
    "        RHSids=[ID for ID in Pdata for _ in range(int(Pdata[ID]['count']))]\n",
    "      \n",
    "    if rxnsmiles0 is not None:\n",
    "        return rxnsmiles0,balrxnsmiles,msg,LHSids,RHSids,hcrct,hcprod,Rdata,Pdata  #Same number and type of atoms reactant and product side and same charge ie. perfectly balanced reaction. Pretty much impossible.\n",
    "    else:\n",
    "        return balrxnsmiles,msg,LHSids,RHSids,hcrct,hcprod,Rdata,Pdata\n",
    "    \n",
    "                \n",
    "def tryhelp(hc_atomtype,chempyr,chempyp,coefflim=5):\n",
    "    '''\n",
    "    Attempts to balance reaction with addition of help compounds in helpCompounds.py\n",
    "\n",
    "    Parameters\n",
    "    ----------\n",
    "    hc_atomtype : Dict/List\n",
    "        Dictionary/list of help compounds\n",
    "    chempyr : Set\n",
    "        Set of LHS species formulae\n",
    "    chempyp : Set\n",
    "        Set of RHS species formulae\n",
    "\n",
    "    Returns\n",
    "    -------\n",
    "    TRUE, reac, prod if reaction can be balanced and stoichiometric coefficient not 1. \n",
    "    Reac and prod are dictionaries of reactants and products with respective stoichiometric coefficients\n",
    "\n",
    "    False, errormsg if reaction cannot be balanced. Errormsg is the error message or reason for failure\n",
    "\n",
    "    '''\n",
    "    reac={}\n",
    "    prod={}\n",
    "    hcid=None\n",
    "    lim=len(hc_atomtype)\n",
    "    keylist=[hcid for hcid in hc_atomtype]\n",
    "    counter=0\n",
    "    while any([idx>=coefflim for tup in zip(reac.values(),prod.values()) for idx in tup]) or not reac:\n",
    "        if counter>lim-1:\n",
    "            print('Help compounds did not help. Extra reactant atoms')\n",
    "            raise CustomError(\"Help compounds unable to balance\") \n",
    "        if hcid is not None:\n",
    "            chempyp.remove(hc_atomtype[hcid]['formula'])\n",
    "        hcid=keylist[counter]\n",
    "        chempyp.add(hc_atomtype[hcid]['formula'])\n",
    "        try:\n",
    "            reac, prod = balance_stoichiometry(chempyr, chempyp,underdetermined=None,allow_duplicates=True)\n",
    "            if any(idx<0 for idx in reac.values()) or any(idx<0 for idx in prod.values()): #Don't want negative stoich coefficients\n",
    "                raise Exception\n",
    "            else:\n",
    "                counter+=1\n",
    "                continue\n",
    "        except Exception:\n",
    "            counter+=1\n",
    "            continue\n",
    "    print('Reaction successfully balanced')\n",
    "    return reac,prod,[hcid]    \n",
    "\n",
    "def balance(Rdata,Pdata,hc_prod=None,balbefore=True,coefflim=5,addedspecies=None,addedhc=None,hc_react=None):\n",
    "    chempyr={Rdata[ID]['formula'] for ID in Rdata for _ in range(Rdata[ID]['count'])}\n",
    "    chempyp={Pdata[ID]['formula'] for ID in Pdata for _ in range(Pdata[ID]['count'])} \n",
    "    highcoeff=False\n",
    "    reac0={}\n",
    "    prod0={}\n",
    "    msg='Balanced'\n",
    "    addedstr=''\n",
    "    if addedspecies:\n",
    "        addedstr=' with species: '+(','.join([str(species) for species in addedspecies]))\n",
    "    if addedhc:\n",
    "        addedstr2=' with help reactant(s): '+(','.join([hc_react[species]['formula'] for species in addedhc]))\n",
    "        if addedstr:\n",
    "            addedstr+', '+addedstr2\n",
    "        else:\n",
    "            addedstr=addedstr2\n",
    "    msg+=addedstr\n",
    "    \n",
    "    if balbefore or hc_prod is None: #Either user has indicated that first pass at balancing needs to be done or fails to specify help compounds\n",
    "        try:\n",
    "            reac, prod = balance_stoichiometry(chempyr, chempyp,underdetermined=None,allow_duplicates=True) #Try balancing once without adding compounds\n",
    "            if any([idx>=coefflim for tup in zip(reac.values(),prod.values()) for idx in tup]):\n",
    "                reac0=copy.copy(reac)\n",
    "                prod0=copy.copy(prod)\n",
    "                highcoeff=True\n",
    "                raise Exception\n",
    "            elif any(idx<0 for idx in reac.values()) or any(idx<0 for idx in prod.values()): #Don't want negative stoich coefficients\n",
    "                raise Exception\n",
    "        except Exception as e:\n",
    "            if hc_prod is None: #User has not supplied help compounds\n",
    "                if highcoeff:\n",
    "                    return reac0,prod0,None,'Warning. Coeffs high'\n",
    "                else:\n",
    "                    raise CustomError('Reaction does not balance. Help compounds not provided')\n",
    "            pass\n",
    "        else: #Reaction successfully balanced\n",
    "            return reac,prod,None,msg\n",
    "            \n",
    "    if hc_prod is not None: #Can try help compounds\n",
    "        try:\n",
    "            reac,prod,hcid=tryhelp(hc_prod,chempyr,chempyp,coefflim=coefflim)\n",
    "        except Exception as e:\n",
    "            if highcoeff:\n",
    "                return reac0,prod0,None,'Warning. Coeffs high'\n",
    "            else:\n",
    "                raise CustomError('Reaction does not balance even with help compounds')\n",
    "        else:\n",
    "            hclist=','.join([hc_prod[hc]['formula'] for hc in hcid])\n",
    "            return reac,prod,hcid,msg+' with help product(s): '+hclist\n",
    "    \n",
    "\n",
    "def findmatch(postype,atomdict):\n",
    "    '''\n",
    "    Calculates proportion of atoms mapped\n",
    "    \n",
    "    '''\n",
    "    rem2=Counter()\n",
    "    rem2.update(atomdict)\n",
    "    rem2.subtract(Counter(postype))\n",
    "    if any([val<0 for val in rem2.values()]):\n",
    "        return False\n",
    "    mapprop=1-(sum(rem2.values())/sum(atomdict.values()))\n",
    "    return round(mapprop,1)\n",
    "\n",
    "def balancerxn(Rdata,Pdata,Rgtdata={},rxnsmiles0=None,numrefs=None,first=True,\n",
    "               addedspecies=[],addedhc=[],hc_prod=None,hc_react=None,coefflim=5):\n",
    "    \n",
    "    #%% Initialize added species/addedhc\n",
    "    if first:\n",
    "        addedspecies=[]\n",
    "        addedhc=[]\n",
    "    #%% Settle diatomic species (H2,O2 and H2O if present add them as they are probably involved)\n",
    "    if first and Rgtdata:\n",
    "        ds=[did for did in Rgtdata if Rgtdata[did]['smiles'] in [hc_react[hcid]['smiles'] for hcid in [1,2]]]\n",
    "#         ds=[did for did in Rgtdata if Rgtdata[did]['smiles'] in [hc_react[hcid]['smiles'] for hcid in [0,1,2]]]\n",
    "        if ds:\n",
    "            Rdata.update({did:Rgtdata[did] for did in ds})\n",
    "            addedspecies+=ds\n",
    "        \n",
    "    Rcount=sum([Counter(Rdata[ID]['atomdict']) for ID in Rdata for _ in range(Rdata[ID]['count'])],start=Counter()) #Sum of atom counts/types on LHS\n",
    "    Rcharge=sum([Rdata[ID]['charge'] for ID in Rdata for _ in range(Rdata[ID]['count'])])\n",
    "    Pcount=sum([Counter(Pdata[ID]['atomdict']) for ID in Pdata for _ in range(Pdata[ID]['count'])],start=Counter()) #Sum of atom counts/types on RHS\n",
    "    Pcharge=sum([Pdata[ID]['charge'] for ID in Pdata for _ in range(Pdata[ID]['count'])])\n",
    "\n",
    "    #%% String output handling\n",
    "    addedstr=''\n",
    "    if addedspecies:\n",
    "        addedstr=' with species: '+(','.join([str(species) for species in addedspecies]))\n",
    "    if addedhc:\n",
    "        addedstr2=' with help reactant(s): '+(','.join([hc_react[species]['formula'] for species in addedhc]))\n",
    "        if addedstr:\n",
    "            addedstr+', '+addedstr2\n",
    "        else:\n",
    "            addedstr=addedstr2\n",
    "            \n",
    "    #%% If reaction is balanced already\n",
    "    if Rcount==Pcount and Rcharge==Pcharge:\n",
    "        print('Reaction is fully balanced')\n",
    "        if first:\n",
    "            if rxnsmiles0 is not None:\n",
    "                balrxnsmiles=rxnsmiles0\n",
    "            else:\n",
    "                balrxnsmiles=buildrxn(Rdata,Pdata)\n",
    "            msg='Already balanced'\n",
    "        else:\n",
    "            balrxnsmiles=buildrxn(Rdata,Pdata)\n",
    "            msg='Balanced'\n",
    "        if addedstr:\n",
    "            msg+=addedstr\n",
    "        return update_rxn(Rdata,Pdata,hcrct=addedhc,rxnsmiles0=rxnsmiles0,msg=msg)\n",
    "        \n",
    "    \n",
    "#%% Testing for stoichiometric multipliers (If compounds have same molecular formulae but different structural formulae)\n",
    "    multrhs=True\n",
    "    multlhs=False\n",
    "    balcharge=True\n",
    "    if Rcount.keys()==Pcount.keys():\n",
    "        try:\n",
    "            multset={Rcount[key]/Pcount[key] for key in Rcount} #Is there a common stoichiometric multiplier\n",
    "            if len(multset)>1:\n",
    "                raise Exception\n",
    "        except Exception as e:\n",
    "            pass\n",
    "        else:\n",
    "            mult=list(multset)[0]\n",
    "            if mult<1:\n",
    "                mult=1/mult\n",
    "                multlhs=True\n",
    "                multrhs=False\n",
    "                if Pcharge!=mult*Rcharge:\n",
    "                    balcharge=False\n",
    "            elif Rcharge!=mult*Pcharge:\n",
    "                balcharge=False\n",
    "            if mult.is_integer() and balcharge:\n",
    "                if multrhs:\n",
    "                    for ID in Pdata:\n",
    "                        Pdata[ID]['count']=int(mult)\n",
    "                else:\n",
    "                    for ID in Rdata:\n",
    "                        Rdata[ID]['count']=int(mult)\n",
    "                msg='Balanced'\n",
    "                if addedstr:\n",
    "                    msg+=addedstr\n",
    "                return update_rxn(Rdata,Pdata,hcrct=addedhc,rxnsmiles0=rxnsmiles0,msg=msg)\n",
    "\n",
    "\n",
    "#%% Otherwise take difference between atom type/count RHS and LHS\n",
    "\n",
    "    rem=Counter() # Rem contains difference between product and reactant counters\n",
    "    rem.update(Pcount)  #If atoms not balanced and same charge, attempt to balance. Can try if different charge but more tricky\n",
    "    rem.subtract(Rcount) #Subtracting reactant atom type index from product atom type index\n",
    "    postype={key:rem[key] for key in rem.keys() if rem[key]>0} #Finding only positive keys. Note that if counter is positive this means extra molecules need to be added on LHS (eg. reagent).\n",
    "    negtype={key:abs(rem[key]) for key in rem.keys() if rem[key]<0} #Finding only negative keys. If counter is negative this means extra molecules need to be added on RHS (eg. help compounds)\n",
    "\n",
    "#     breakpoint()\n",
    "    \n",
    "    if postype: #Reactants, Reagents may be needed (postype or (postype and negtype))\n",
    "        if hc_prod is not None:\n",
    "            if Rcharge==Pcharge:\n",
    "                hc_prod={hcid:hc_prod[hcid] for hcid in hc_prod if hc_prod[hcid]['charge']==0} #Atom type for help compounds\n",
    "        #%% Initializing variables\n",
    "        candirxt=[]\n",
    "        candirgt=[]\n",
    "        candihc=[]\n",
    "        matches=[]\n",
    "        #%% Get reactant match first\n",
    "        candirxt=[rctid for rctid in Rdata if set(postype.keys()).issubset(set(Rdata[rctid]['atomdict'].keys()))]\n",
    "        #%% Get reagent match\n",
    "        candirgt=[rgtid for rgtid in Rgtdata if set(postype.keys()).issubset(set(Rgtdata[rgtid]['atomdict'].keys()))]\n",
    "        if candirgt and numrefs is not None and numrefs>1: #Too many references can lead to many reagents being added at the same time (limitation of our method)\n",
    "            candihc=[ID for ID in candirgt if Rgtdata[ID]['smiles'] in [hc_react[hcid]['smiles'] for hcid in [0]]] #H2O\n",
    "#             candihc=[ID for ID in candirgt if Rgtdata[ID]['smiles'] in [hc_react[hcid]['smiles'] for hcid in [0,1,2]]] #H2, O2, H2O\n",
    "            if candihc:\n",
    "                candirgt=list(set(candihc+[candirgt[0]]))\n",
    "            else:\n",
    "                candirgt=[candirgt[0]]\n",
    "        #%% Get help compound match\n",
    "        if hc_react is not None:\n",
    "            candihc=[hcid for hcid in hc_react if set(postype.keys()).issubset(set(hc_react[hcid]['atomdict'].keys()))]\n",
    "            \n",
    "#         breakpoint() \n",
    "        \n",
    "        if candirxt and not candirgt: #Only reactant matches\n",
    "            if len(candirxt)>1:\n",
    "                matches=[findmatch(postype,Rdata[candi]['atomdict']) for candi in candirxt]\n",
    "                if all([match for match in matches]) and len(set(matches))==len(matches): #Means deficit can be made up by all matches and no duplicates  \n",
    "                    index_max = max(range(len(matches)), key=matches.__getitem__) #Species with maximum atoms mappable\n",
    "                    candirxt=[candirxt[index_max]]\n",
    "            try:\n",
    "                if set(candirxt).issubset(set(addedspecies)): #If reactant has been added before, don't bother balancing\n",
    "                    raise Exception\n",
    "                reac,prod,hcid,msg=balance(Rdata,Pdata,hc_prod=hc_prod,coefflim=coefflim,\n",
    "                                           addedspecies=addedspecies,addedhc=addedhc,hc_react=hc_react)\n",
    "            except Exception:\n",
    "                first=False\n",
    "                for candi in candirxt:\n",
    "                    Rdata[candi]['count']+=1\n",
    "                return balancerxn(Rdata,Pdata,Rgtdata=Rgtdata,rxnsmiles0=rxnsmiles0,numrefs=numrefs,\n",
    "                        first=first,addedspecies=addedspecies+candirxt,addedhc=addedhc,hc_prod=hc_prod,hc_react=hc_react) #Recursion\n",
    "            else:\n",
    "                return update_rxn(Rdata,Pdata,reac=reac,prod=prod,hcprod=hcid,hc_prod=hc_prod,rxnsmiles0=rxnsmiles0,msg=msg)\n",
    "            \n",
    "        elif candirgt and not candirxt:\n",
    "            if len(candirgt)>1:\n",
    "                matches=[findmatch(postype,Rgtdata[candi]['atomdict']) for candi in candirgt]\n",
    "                if all([match for match in matches]) and len(set(matches))==len(matches): #Means deficit can be made up by all matches and no duplicates  \n",
    "                    index_max = max(range(len(matches)), key=matches.__getitem__) #Species with maximum atoms mappable\n",
    "                    candirgt=[candirgt[index_max]]\n",
    "                \n",
    "            for candi in candirgt:\n",
    "                if candi in Rdata.keys():\n",
    "                    Rdata[candi]['count']+=1\n",
    "                else:\n",
    "                    Rdata.update({candi:Rgtdata[candi]})\n",
    "                AddedSpecies=candirgt\n",
    "            try:\n",
    "                if set(AddedSpecies).issubset(set(addedspecies)):\n",
    "                    raise Exception\n",
    "                reac,prod,hcid,msg=balance(Rdata,Pdata,hc_prod=hc_prod,coefflim=coefflim,\n",
    "                                          addedspecies=addedspecies+AddedSpecies,addedhc=addedhc,hc_react=hc_react)\n",
    "            except Exception:\n",
    "                first=False\n",
    "                return balancerxn(Rdata,Pdata,Rgtdata=Rgtdata,rxnsmiles0=rxnsmiles0,numrefs=numrefs,\n",
    "                        first=first,addedspecies=addedspecies+AddedSpecies,addedhc=addedhc,hc_prod=hc_prod,\n",
    "                        hc_react=hc_react) #Recursion\n",
    "            else:\n",
    "                return update_rxn(Rdata,Pdata,reac=reac,prod=prod,hcprod=hcid,hc_prod=hc_prod,rxnsmiles0=rxnsmiles0,msg=msg)\n",
    "        \n",
    "        elif candirxt and candirgt: #Choice presents issues..mapper may be incorrect in selecting proper reactant\n",
    "            finalrt={}\n",
    "            finmatch={}\n",
    "            finalrt.update({candir:Rdata[candir] for candir in set(candirxt)})\n",
    "            finalrt.update({candirg:Rgtdata[candirg] for candirg in set(candirgt)})\n",
    "            matches=[findmatch(postype,finalrt[candi]['atomdict']) for candi in finalrt]\n",
    "            if all([match for match in matches]) and len(set(matches))==len(matches): #Means deficit can be made up by all matches and no duplicates  \n",
    "                index_max = max(range(len(matches)), key=matches.__getitem__) #Species with maximum atoms mappable\n",
    "                finmatch=[list(finalrt.keys())[index_max]]\n",
    "            else:\n",
    "                finmatch=list(finalrt.keys())\n",
    "            for candi in finmatch:\n",
    "                if candi in Rdata.keys():\n",
    "                    Rdata[candi]['count']+=1\n",
    "                else:\n",
    "                    Rdata.update({candi:Rgtdata[candi]})\n",
    "            try:\n",
    "                if set(finmatch).issubset(set(addedspecies)):\n",
    "                    raise Exception\n",
    "                reac,prod,hcid,msg=balance(Rdata,Pdata,hc_prod=hc_prod,coefflim=coefflim,\n",
    "                                          addedspecies=addedspecies+list(finmatch),addedhc=addedhc,hc_react=hc_react)\n",
    "            except Exception:\n",
    "                first=False\n",
    "                return balancerxn(Rdata,Pdata,Rgtdata=Rgtdata,rxnsmiles0=rxnsmiles0,numrefs=numrefs,\n",
    "                                first=first,addedspecies=addedspecies+list(finmatch),addedhc=addedhc,hc_prod=hc_prod,\n",
    "                                hc_react=hc_react) #Recursion\n",
    "            else:\n",
    "                return update_rxn(Rdata,Pdata,reac=reac,prod=prod,hcprod=hcid,hc_prod=hc_prod,rxnsmiles0=rxnsmiles0,msg=msg)\n",
    "                \n",
    "        elif candihc and not candirxt and not candirgt:\n",
    "            for candi in candihc:\n",
    "                if candi in Rdata.keys():\n",
    "                    Rdata[candi]['count']+=1\n",
    "                else:\n",
    "                    Rdata.update({candi:hc_react[candi]})\n",
    "            try:\n",
    "                if set(candihc).issubset(set(addedhc)):\n",
    "                    raise Exception\n",
    "                reac,prod,hcid,msg=balance(Rdata,Pdata,hc_prod=hc_prod,coefflim=coefflim,\n",
    "                                           addedspecies=addedspecies,addedhc=addedhc+candihc,hc_react=hc_react)\n",
    "            except Exception:\n",
    "                first=False\n",
    "                return balancerxn(Rdata,Pdata,Rgtdata=Rgtdata,rxnsmiles0=rxnsmiles0,numrefs=numrefs,\n",
    "                        first=first,addedspecies=addedspecies,addedhc=addedhc+candihc,hc_prod=hc_prod,\n",
    "                        hc_react=hc_react) #Recursion\n",
    "            else:\n",
    "                return update_rxn(Rdata,Pdata,reac=reac,prod=prod,hcprod=hcid,hc_prod=hc_prod,hcrct=addedhc+candihc,\n",
    "                                  rxnsmiles0=rxnsmiles0,msg=msg)\n",
    "        \n",
    "        else: #No matches\n",
    "            if rxnsmiles0 is not None:\n",
    "                return rxnsmiles0,'Error','Reactants/reagents/help compounds insufficient',list(Rdata.keys()),list(Pdata.keys()),[],[],Rdata,Pdata\n",
    "            else:\n",
    "                return 'Error','Reactants/reagents/help reactants insufficient',list(Rdata.keys()),list(Pdata.keys()),[],[],Rdata,Pdata\n",
    "    elif negtype and not postype:\n",
    "        hc_list=[]\n",
    "        hc_prod2={}\n",
    "#         breakpoint()\n",
    "        if first:\n",
    "            try:\n",
    "                hc_list=[hc for hc in hc_prod if hc_prod[hc]['atomdict']==negtype]\n",
    "                if not hc_list:\n",
    "                    hc_list=[hc for hc in hc_prod if hc_prod[hc]['atomdict'].keys()==negtype.keys()]\n",
    "                if not hc_list: #No match\n",
    "                    raise Exception\n",
    "                hc_prod2={hc:hc_prod[hc] for hc in hc_list} #Narrow down list of help compounds\n",
    "                reac,prod,hcid,msg=balance(Rdata,Pdata,hc_prod=hc_prod2,coefflim=coefflim,addedspecies=addedspecies,\n",
    "                                          addedhc=addedhc,hc_react=hc_react)\n",
    "            except Exception:\n",
    "                return update_rxn(Rdata,Pdata,hcrct=addedhc,rxnsmiles0=rxnsmiles0,msg='Imbalanced'+addedstr) \n",
    "            \n",
    "            else:\n",
    "                return update_rxn(Rdata,Pdata,reac=reac,prod=prod,hcprod=hcid,hc_prod=hc_prod2,hcrct=addedhc,rxnsmiles0=rxnsmiles0,\n",
    "                                 msg=msg)\n",
    "        else:\n",
    "            return update_rxn(Rdata,Pdata,hcrct=addedhc,rxnsmiles0=rxnsmiles0,msg='Imbalanced'+addedstr) \n",
    "\n",
    "def balance_analogue(row,basic=True,balance=True,coefflim=5): #More reliable\n",
    "    Rdata={}\n",
    "    Pdata={}\n",
    "    Rgtdata={}\n",
    "    hc_prod={}\n",
    "    hc_react={}\n",
    "    Rdata=copy.deepcopy(row['Rdata'])\n",
    "    Pdata=copy.deepcopy(row['Pdata'])\n",
    "    Rgtdata=copy.deepcopy(row['Rgtdata'])\n",
    "    hc_prod=copy.deepcopy(row['hc_prod'])\n",
    "    hc_react=copy.deepcopy(row['hc_react'])\n",
    "    numrefs=row['NumRefs']\n",
    "    if type(Rdata)!=dict: #Error or compound invalid\n",
    "        if basic and balance:\n",
    "            return 'Error','Error',Rdata,'NaN','NaN',[],[],'NaN','NaN'\n",
    "        else:\n",
    "            return 'Error',Rdata,'NaN','NaN',[],[],'NaN','NaN' \n",
    "    elif type(Pdata)!=dict: #Error or compound invalid\n",
    "        if basic and balance:\n",
    "            return 'Error','Error',Pdata,'NaN','NaN',[],[],'NaN','NaN'\n",
    "        else:\n",
    "            return 'Error',Pdata,'NaN','NaN',[],[],'NaN','NaN' \n",
    "    rxnsmiles0='>>'.join([getfragments([Rdata[r]['smiles'] for r in Rdata],smiles=True),\n",
    "                          getfragments([Pdata[p]['smiles'] for p in Pdata],smiles=True)])\n",
    "    if basic and not balance:\n",
    "        return rxnsmiles0,list(Rdata.keys()),list(Pdata.keys())\n",
    "    else:\n",
    "        return balancerxn(Rdata,Pdata,Rgtdata=Rgtdata,rxnsmiles0=rxnsmiles0,numrefs=numrefs,coefflim=coefflim,\n",
    "                      hc_prod=hc_prod,hc_react=hc_react)\n",
    "                     "
   ]
  },
  {
   "cell_type": "markdown",
   "metadata": {},
   "source": [
    "## CheckRxns.py"
   ]
  },
  {
   "cell_type": "markdown",
   "metadata": {},
   "source": [
    "Mapping of the reactions is done in the main script as it is quite straightforward. CheckRxns.py includes functions that checks mapped reactions, and updates the reactants and products (preserving order) with mapped smiles. It also assigns fragments and query species to the analogue reactants in the reaction, allowing for easier template generation and extraction later."
   ]
  },
  {
   "cell_type": "code",
   "execution_count": 19,
   "metadata": {
    "ExecuteTime": {
     "end_time": "2021-04-20T17:30:41.630440Z",
     "start_time": "2021-04-20T17:30:41.589294Z"
    }
   },
   "outputs": [],
   "source": [
    "# %%writefile CheckRxns.py\n",
    "#%load ./CheckRnxs.py\n",
    "\n",
    "from collections import OrderedDict #Preserve order of keys relative to reaction from left to right\n",
    "from rdkit import Chem\n",
    "from rdkit.Chem import rdChemReactions #Reaction processing\n",
    "import copy\n",
    "from FunctionsDB import getCarrierFrags\n",
    "\n",
    "def checkrxnrow(row):\n",
    "    return checkrxn(mappedrxn=row['mapped_rxn'],Rdata=row['LHSdata'],Pdata=row['RHSdata'])\n",
    "\n",
    "\n",
    "def checkrxn(mappedrxn,LHSdata=OrderedDict({}),RHSdata=OrderedDict({}),Rdata=None,Pdata=None): #Assume same rxn smiles stored next to each other\n",
    "    LHSdata=OrderedDict({})\n",
    "    RHSdata=OrderedDict({})\n",
    "    rdrxn=rdChemReactions.ReactionFromSmarts(mappedrxn,useSmiles=True)\n",
    "    cleanrxn=copy.copy(rdrxn)\n",
    "    rdChemReactions.RemoveMappingNumbersFromReactions(cleanrxn)\n",
    "    rmixtures=[ID for ID in Rdata if len(Rdata[ID]['smiles'].split('.'))>1]\n",
    "    pmixtures=[ID for ID in Pdata if len(Pdata[ID]['smiles'].split('.'))>1]\n",
    "    msg=''\n",
    "    if rmixtures:\n",
    "        msg+='LHS species '+', '.join([str(ID) for ID in rmixtures])+' is a mixture'\n",
    "    if pmixtures:\n",
    "        if msg:\n",
    "            msg=msg+', '+'RHS species '+', '.join([str(ID) for ID in pmixtures])+' is a mixture'\n",
    "        else:\n",
    "            msg+='RHS species '+', '.join([str(ID) for ID in pmixtures])+' is a mixture'\n",
    "    if msg:\n",
    "        return LHSdata,RHSdata,msg\n",
    "    else:\n",
    "        msg+='Valid'\n",
    "\n",
    "    for ID,rct in enumerate(cleanrxn.GetReactants()):\n",
    "        rctsmiles=Chem.MolToSmiles(rct)\n",
    "        for ID0 in Rdata:\n",
    "            if Rdata[ID0]['smiles']==rctsmiles:\n",
    "                if ID0 in LHSdata.keys():\n",
    "                    LHSdata[ID0]['mappedsmiles'].extend([Chem.MolToSmiles(rdrxn.GetReactants()[ID])])\n",
    "                    LHSdata[ID0]['cleanmol'].extend([rct])\n",
    "                else:\n",
    "                    LHSdata.update({ID0:Rdata[ID0]})\n",
    "                    LHSdata[ID0].update({'mappedsmiles':[Chem.MolToSmiles(rdrxn.GetReactants()[ID])]})\n",
    "                    LHSdata[ID0].update({'cleanmol':[rct]})\n",
    "                break\n",
    "    for ID,prod in enumerate(cleanrxn.GetProducts()):\n",
    "        prodsmiles=Chem.MolToSmiles(prod)\n",
    "        for ID0 in Pdata:\n",
    "            if Pdata[ID0]['smiles']==prodsmiles:\n",
    "                if ID0 in RHSdata.keys():\n",
    "                    RHSdata[ID0]['mappedsmiles'].extend([Chem.MolToSmiles(rdrxn.GetProducts()[ID])])\n",
    "                    RHSdata[ID0]['cleanmol'].extend([prod])\n",
    "                else:\n",
    "                    RHSdata.update({ID0:Pdata[ID0]})\n",
    "                    RHSdata[ID0].update({'mappedsmiles':[Chem.MolToSmiles(rdrxn.GetProducts()[ID])]})\n",
    "                    RHSdata[ID0].update({'cleanmol':[prod]})\n",
    "                break\n",
    "    return LHSdata,RHSdata,msg\n",
    "\n",
    "\n",
    "def assignfragsrow(row,querydict,natoms):\n",
    "    LHSdata=row.LHSdata\n",
    "    return assignfrags(LHSdata,querydict,natoms)\n",
    "def assignfrags(LHSdata,querydict,natoms):\n",
    "    fragdata=copy.deepcopy(LHSdata)\n",
    "    nonanalogue=[]\n",
    "    for rctid in LHSdata:\n",
    "        analgfrags=getCarrierFrags(fragdata[rctid]['smiles'],natoms)\n",
    "        if type(analgfrags)==str:\n",
    "            analgfrags=[analgfrags]\n",
    "        commonfrags=set([Chem.MolToSmiles(Chem.MolFromSmarts(fragsmarts)) for fragsmarts in analgfrags]).intersection(set(querydict.keys()))\n",
    "        if not commonfrags:    \n",
    "            nonanalogue+=[rctid]\n",
    "            continue\n",
    "        fragdata[rctid]['querycompds']={}\n",
    "        fragdata[rctid]['querycompds'].update({fragsmiles:querydict[fragsmiles] for fragsmiles in commonfrags})\n",
    "    if nonanalogue:\n",
    "        msg='Species '+', '.join([str(rctid) for rctid in nonanalogue])+' not analogue'\n",
    "    else:\n",
    "        msg='Valid'\n",
    "    return fragdata,msg\n",
    "    \n",
    "        "
   ]
  },
  {
   "cell_type": "markdown",
   "metadata": {},
   "source": [
    "## RxnCenter.py"
   ]
  },
  {
   "cell_type": "markdown",
   "metadata": {},
   "source": [
    "RxnCenter.py includes functions that parses mapped atoms to include owning species information, extracts the reaction center from the reaction (atoms and bonds that change), finds correct fragment matches with the analogue reactants, and validates the reaction by ensuring that the reaction center lies within the correct fragment matches."
   ]
  },
  {
   "cell_type": "code",
   "execution_count": 23,
   "metadata": {
    "ExecuteTime": {
     "end_time": "2021-04-20T17:36:29.779765Z",
     "start_time": "2021-04-20T17:36:29.695672Z"
    }
   },
   "outputs": [],
   "source": [
    "# %%writefile RxnCenter.py\n",
    "#%load ./RxnCenter.py\n",
    "\n",
    "from MainFunctions import molfromsmiles\n",
    "from FindFunctionalGroups import identify_functional_groups as IFG\n",
    "import copy\n",
    "from rdkit import Chem #Importing RDKit\n",
    "\n",
    "#%% Reaction center identification\n",
    "\n",
    "def bond_to_label(bond):\n",
    "    '''\n",
    "    This function takes an RDKit bond and creates a label describing\n",
    "    the beginning atom (atomic number and atom map number) and ending atom\n",
    "    (atomic number and atom map number)\n",
    "\n",
    "    Parameters\n",
    "    ----------\n",
    "    bond : RDKit bond\n",
    "\n",
    "    Returns\n",
    "    -------\n",
    "    output: str\n",
    "        String label containing information about beginning and end atom linked\n",
    "        by bond\n",
    "        \n",
    "\n",
    "    '''\n",
    "    a1_label = str(bond.GetBeginAtom().GetAtomicNum())\n",
    "    a2_label = str(bond.GetEndAtom().GetAtomicNum())\n",
    "    if bond.GetBeginAtom().HasProp('molAtomMapNumber'):\n",
    "        a1_label += bond.GetBeginAtom().GetProp('molAtomMapNumber')\n",
    "    if bond.GetEndAtom().HasProp('molAtomMapNumber'):\n",
    "        a2_label += bond.GetEndAtom().GetProp('molAtomMapNumber')\n",
    "    atoms = sorted([a1_label, a2_label])\n",
    "\n",
    "    # return '{}{}{}'.format(atoms[0], bond.GetSmarts(), atoms[1])\n",
    "    return '{}{}'.format(atoms[0], atoms[1])\n",
    "\n",
    "\n",
    "\n",
    "def atoms_are_different(atom1, atom2, level = 1,usesmarts=True):\n",
    "    '''\n",
    "    Compares two RDKit atoms based on common properties (Smarts, number of\n",
    "    bonded hydrogens, charge, degree, radical electrons, neighbors etc.).\n",
    "    From rdchiral.\n",
    "\n",
    "    Parameters\n",
    "    ----------\n",
    "    atom1 : RDKit atom\n",
    "    atom2 : RDKit atom\n",
    "    level : Optional\n",
    "            The default is 1.\n",
    "    usesmarts : Optional (boolean)\n",
    "                Option to use or ignore differences in atom smarts\n",
    "\n",
    "    Returns\n",
    "    -------\n",
    "    True if the two atoms are different and False if they are similar.\n",
    "\n",
    "    '''\n",
    "    # import pdb; pdb.set_trace()\n",
    "    if usesmarts:\n",
    "        if atom1.GetSmarts() != atom2.GetSmarts(): return True # should be very general\n",
    "    if atom1.GetAtomicNum() != atom2.GetAtomicNum(): return True # must be true for atom mapping\n",
    "    if atom1.GetTotalNumHs() != atom2.GetTotalNumHs(): return True\n",
    "    if atom1.GetFormalCharge() != atom2.GetFormalCharge(): return True\n",
    "    if atom1.GetDegree() != atom2.GetDegree(): return True\n",
    "    if atom1.GetIsAromatic() != atom2.GetIsAromatic(): return True\n",
    "    #if atom1.IsInRing() != atom2.IsInRing(): return True\n",
    "    if atom1.GetNumRadicalElectrons() != atom2.GetNumRadicalElectrons(): return True\n",
    "    # TODO: add # pi electrons like ICSynth? Account for chirality\n",
    "    # Check bonds and nearest neighbor identity\n",
    "    if level >= 1:\n",
    "        bonds1 = sorted([bond_to_label(bond) for bond in atom1.GetBonds()])\n",
    "        bonds2 = sorted([bond_to_label(bond) for bond in atom2.GetBonds()])\n",
    "        if bonds1 != bonds2: return True\n",
    "    return False\n",
    "\n",
    "\n",
    "\n",
    "def getrxncenterrow(row):\n",
    "    '''\n",
    "    Applies getrxncenter to each row of a dataframe\n",
    "\n",
    "    '''\n",
    "    LHSdata=row.LHSdata\n",
    "    RHSdata=row.RHSdata\n",
    "    res=parsemap(LHSdata,RHSdata)\n",
    "    rxncenter,msg=getrxncenter(res,LHSdata,RHSdata)\n",
    "    return res,rxncenter,msg\n",
    "                \n",
    "def parsemap(LHSdata,RHSdata):\n",
    "    '''\n",
    "    Takes reaction and product data, analyzes mapped smiles\n",
    "    and generates a dictionary with keys as atom map numbers, and values as a tuple \n",
    "    containing the reactant ID, reactant instance, reactant atom index, product ID,\n",
    "    product instance,and product atom index\n",
    "\n",
    "    Parameters\n",
    "    ----------\n",
    "    LHSdata : dict\n",
    "        Reactant data formatted as output of getcompdict with 'mappedsmiles' key under\n",
    "        each reactant ID with value as mapped smiles string\n",
    "    RHSdata : dict\n",
    "        Product data formatted as output of getcompdict with 'mappedsmiles' key under\n",
    "        each product ID with value as mapped smiles string\n",
    "\n",
    "    Returns\n",
    "    -------\n",
    "    res : dict\n",
    "        Dictionary with keys as atom map numbers, and values as tuples \n",
    "        containing the owning reactant ID, reactant instance, reactant atom index, product ID,\n",
    "        product instance,and product atom index\n",
    "\n",
    "    '''\n",
    "    res = {}\n",
    "    reactantMap = {}\n",
    "    for rctid in LHSdata:\n",
    "        for ridx,mappedsmiles in enumerate(LHSdata[rctid]['mappedsmiles']):\n",
    "            rtempl=molfromsmiles(mappedsmiles) #Add hydrogens to keep index constant for later substructure search (no need)\n",
    "            for atom in rtempl.GetAtoms():\n",
    "                if atom.HasProp('molAtomMapNumber'):\n",
    "                    mnum = atom.GetAtomMapNum()\n",
    "                    reactantMap[mnum] = (rctid,ridx,atom.GetIdx())\n",
    "                else:\n",
    "                    continue      \n",
    "    for prodid in RHSdata:\n",
    "        for pidx,mappedsmiles in enumerate(RHSdata[prodid]['mappedsmiles']):\n",
    "            ptempl=molfromsmiles(mappedsmiles)\n",
    "            for atom in ptempl.GetAtoms():\n",
    "                if atom.HasProp('molAtomMapNumber'):\n",
    "                    mnum = atom.GetAtomMapNum()\n",
    "                    if mnum in reactantMap:\n",
    "                        rctid,ridx,idxr = reactantMap[mnum]\n",
    "                        res[mnum] = (rctid,ridx,idxr,prodid,pidx,atom.GetIdx())\n",
    "                else:\n",
    "                    continue         \n",
    "    return res\n",
    "\n",
    "def getrxncenter(res,LHSdata,RHSdata):\n",
    "    '''\n",
    "    Takes res (mapdict), reactant data, product data, and returns a set of\n",
    "    changed atoms, as well as a message indicating if reaction center exists\n",
    "    Note reaction center will ignore hydrogen reactants as these aren't mapped in products\n",
    "\n",
    "    Parameters\n",
    "    ----------\n",
    "    res : dict\n",
    "        Output of parsemap() function. Dictionary with keys as atom map numbers, and values as tuples \n",
    "        containing the owning reactant ID, reactant instance, reactant atom index, product ID,\n",
    "        product instance,and product atom index\n",
    "    LHSdata : dict\n",
    "        DESCRIPTION.\n",
    "    RHSdata : dict\n",
    "        DESCRIPTION.\n",
    "\n",
    "    Returns\n",
    "    -------\n",
    "    TYPE\n",
    "        DESCRIPTION.\n",
    "    msg : TYPE\n",
    "        DESCRIPTION.\n",
    "\n",
    "    '''\n",
    "    \n",
    "    changed_atoms=[]\n",
    "    changed_mapidx=[]\n",
    "    msg=True\n",
    "\n",
    "    for mapidx,val in res.items():\n",
    "        rctid=val[0]\n",
    "        ridx=val[1]\n",
    "        idxr=val[2]\n",
    "        prodid=val[3]\n",
    "        pidx=val[4]\n",
    "        idxp=val[5]\n",
    "\n",
    "        rtempl=molfromsmiles(LHSdata[rctid]['mappedsmiles'][ridx])\n",
    "        ptempl=molfromsmiles(RHSdata[prodid]['mappedsmiles'][pidx])\n",
    "\n",
    "        ratom=rtempl.GetAtomWithIdx(idxr)\n",
    "        patom=ptempl.GetAtomWithIdx(idxp)\n",
    "        if mapidx not in changed_mapidx:\n",
    "            if atoms_are_different(patom,ratom):\n",
    "                changed_atoms.append(ratom)\n",
    "                changed_mapidx.append(mapidx)\n",
    "    if not changed_mapidx:\n",
    "        msg=False\n",
    "    return set(changed_mapidx),msg \n",
    "\n",
    "\n",
    "#%% Substructure matching\n",
    "        \n",
    "def get_matches(mol,patt,checkresults=True):\n",
    "    '''\n",
    "    Returns atom indices for substructure matches of a pattern in a molecule\n",
    "    \n",
    "        Parameters\n",
    "        ----------\n",
    "        mol : RDKit mol\n",
    "            Molecule to check pattern\n",
    "        patt : RDKit mol\n",
    "            Pattern fragment\n",
    "        checkresults: bool\n",
    "            Optional, True if strict match with the pattern is needed including hydrogens\n",
    "\n",
    "        Returns\n",
    "        -------\n",
    "       corr_matches: Set\n",
    "           Set of tuples containing atom indices for every pattern match, after verification\n",
    "           that correct functional group is present. Returned only if checkresults is True. \n",
    "       \n",
    "       funcgroupids: List\n",
    "           List of atom ids corresponding to functional groups in each correct pattern match\n",
    "           \n",
    "        matches: Set\n",
    "            Set of tuples containing atom indices for every pattern match. Returned only if checkresults is False.\n",
    "    '''\n",
    "    # import pdb; pdb.set_trace()\n",
    "    matches=mol.GetSubstructMatches(patt)\n",
    "    if not matches:\n",
    "        return False,False\n",
    "    elif checkresults:\n",
    "        funcgroupmol=IFG(mol) #Functional groups of RDKit reactant\n",
    "        funcgrouppatt=IFG(patt) #Functional groups of carrier fragment\n",
    "        funcids=set() #Store functional groups that are of the same type as the carrier fragment\n",
    "        for funcgroup in funcgrouppatt:\n",
    "            matchtype=[molgroup for molgroup in funcgroupmol if molgroup.atoms==funcgroup.atoms]\n",
    "            for molgroup in matchtype:\n",
    "                if not any([atoms_are_different(mol.GetAtomWithIdx(atomid),patt.GetAtomWithIdx(pattid),usesmarts=False) \n",
    "                            for atomid,pattid in zip(molgroup.atomIds,funcgroup.atomIds)]): #BUGGY\n",
    "                    funcids.update({atomid for atomid in molgroup.atomIds})\n",
    "\n",
    "        corr_matches=[match for match in matches if set(match).intersection(funcids)]\n",
    "        # funcgroupids={atomid for match in corr_matches for atomid in set(match).intersection(funcids)}\n",
    "        funcgroupids=[set(match).intersection(funcids) for match in corr_matches]\n",
    "        return corr_matches,funcgroupids\n",
    "    else:\n",
    "        return matches\n",
    "\n",
    "#%% Valid reaction center\n",
    "\n",
    "def validrxncenterrow(row,fragdict):\n",
    "    res=row.mapdict\n",
    "    rxncenter=row.rxncentermapnum\n",
    "    LHSdata=copy.deepcopy(row.LHSdata)\n",
    "    print(row.index)\n",
    "    return validrxncenter(res,rxncenter,LHSdata,fragdict) \n",
    "\n",
    "def validrxncenter(res,rxncenter,LHSdata,fragdict):\n",
    "    RC=copy.copy(rxncenter)\n",
    "    nofg=[] #Species with no functional groups\n",
    "    noanalogue=[] #Species that don't have correct/desired functional group\n",
    "    outfrag=[] #Species not directly involved in the reaction at carrier fragments\n",
    "    outfg={} #Species not directly involved in the reaction at functional group\n",
    "#     unused=[] #Species not directly involved in the reaction\n",
    "#     extratom=[] #Species involved at functional group but reacts at other atoms outside as well\n",
    "    for analoguecompd in LHSdata:\n",
    "        fragloc={}\n",
    "        for idx,cleanmol0 in enumerate(LHSdata[analoguecompd]['cleanmol']):\n",
    "#         cleanmol=Chem.AddHs(LHSdata[analoguecompd]['cleanmol'])#molfromsmiles(LHSdata[analoguecompd]['smiles']))\n",
    "            cleanmol=Chem.AddHs(cleanmol0)\n",
    "            if not IFG(cleanmol): #Compound has no active fragment/functional group (including dihydrogen)\n",
    "                nofg+=[analoguecompd]\n",
    "#             continue\n",
    "            matched=False\n",
    "            for carrierfrag in LHSdata[analoguecompd]['querycompds']:\n",
    "                patt=fragdict[carrierfrag][0].mol\n",
    "                if analoguecompd in nofg: #Compound has no active fragment/functional group (including dihydrogen)\n",
    "                    corr_matches=get_matches(cleanmol,patt,checkresults=False)\n",
    "                    corr_matches=[match for match in corr_matches]\n",
    "                    funcgroupids=[{elem for elem in match} for match in corr_matches]\n",
    "                else:\n",
    "                    corr_matches,funcgroupids=get_matches(cleanmol,patt) #funcgroupids refers to active fragment\n",
    "                if not corr_matches:\n",
    "                    fragloc.update({idx:{}})\n",
    "                    continue\n",
    "                corr_matches=[tuple((idx for idx in co if idx<len(molfromsmiles(LHSdata[analoguecompd]['smiles']).GetAtoms()))) for co in corr_matches]\n",
    "                matched=True\n",
    "                if idx not in fragloc.keys():\n",
    "                    fragloc.update({idx:{carrierfrag:{'corrmatches':corr_matches,'funcgroupids':funcgroupids}}})\n",
    "                else:\n",
    "                    fragloc[idx].update({carrierfrag:{'corrmatches':corr_matches,'funcgroupids':funcgroupids}})\n",
    "        if not matched:\n",
    "            noanalogue+=[analoguecompd] #Species not analogue\n",
    "        LHSdata[analoguecompd]['fragloc']=fragloc\n",
    "        LHSdata[analoguecompd]['reacfrag']={}\n",
    "#     return LHSdata,fragloc,matched\n",
    "        \n",
    "    unusedanalogue={analoguecompd for analoguecompd in LHSdata}\n",
    "    for changemapnum in RC:\n",
    "        assigned=False\n",
    "#         reacfrag={}\n",
    "        fg=False\n",
    "        rctid=res[changemapnum][0]\n",
    "        ridx=res[changemapnum][1]\n",
    "        idxr=res[changemapnum][2]\n",
    "        reacfrag=LHSdata[rctid]['reacfrag']\n",
    "        \n",
    "        for carrierfrag,loc in LHSdata[rctid]['fragloc'][ridx].items():\n",
    "            for matchidx,corrmatch in enumerate(loc['corrmatches']):\n",
    "                if {idxr}.issubset(corrmatch):\n",
    "                    if {idxr}.issubset(loc['funcgroupids'][matchidx]):\n",
    "                        fg=True #changed atom lies within functional group\n",
    "                    if rctid in unusedanalogue:\n",
    "                        unusedanalogue-={rctid}\n",
    "                        reacfrag.update({ridx:{carrierfrag:[matchidx]}})\n",
    "                    else: #already initialized\n",
    "                        if ridx in reacfrag:\n",
    "                            if carrierfrag in reacfrag[ridx]:\n",
    "                                if matchidx not in reacfrag[ridx][carrierfrag]:\n",
    "                                    reacfrag[ridx][carrierfrag].extend([matchidx])\n",
    "                            else:\n",
    "                                reacfrag[ridx].update({carrierfrag:[matchidx]})\n",
    "                        else:\n",
    "                            reacfrag.update({ridx:{carrierfrag:[matchidx]}})\n",
    "                    assigned=True\n",
    "        if not assigned and (rctid not in noanalogue) and (rctid not in nofg): #changed atom not in any fragments\n",
    "            if rctid not in outfrag:\n",
    "                outfrag+=[rctid]\n",
    "            \n",
    "        if not fg and (rctid not in noanalogue) and (rctid not in nofg): #changed atom not in any functional groups\n",
    "            if rctid not in outfg:\n",
    "                outfg.update({rctid:[changemapnum]})\n",
    "            else:\n",
    "                outfg[rctid].extend([changemapnum])\n",
    "   \n",
    "    addstr=[]\n",
    "    if nofg:\n",
    "        addstr.append(\"No functional groups in \"+'species '+', '.join([str(ID) for ID in nofg]))\n",
    "    if noanalogue:\n",
    "        addstr.append('Species '+', '.join([str(ID) for ID in noanalogue])+' not analogue')\n",
    "    if outfrag:\n",
    "        addstr.append('Species '+', '.join([str(ID) for ID in outfrag])+' not reacting at carrier fragment')\n",
    "    if outfg:\n",
    "        addstr.append('Species '+', '.join([str(ID) for ID in outfg])+' not reacting at functional group')\n",
    "    if not addstr:\n",
    "        msg='Valid'\n",
    "    else:\n",
    "        msg=', '.join(addstr)\n",
    "    return LHSdata,msg,nofg,noanalogue,outfrag,outfg\n",
    "        \n",
    "\n",
    "          \n",
    "# =============================================================================\n",
    "#FROM COLEY (OPTIONAL)\n",
    "# def get_special_groups(mol):\n",
    "#     '''\n",
    "#     This retrieves special groups from input molecules that should be part of\n",
    "#     the final template fragments. Only for specific templates. If general templates are\n",
    "#     preferred, then don't call this function. NOT IN USE AT THE MOMENT.\n",
    "# \n",
    "#     Parameters\n",
    "#     ----------\n",
    "#     mol : TYPE\n",
    "#         DESCRIPTION.\n",
    "# \n",
    "#     Returns\n",
    "#     -------\n",
    "#     None.\n",
    "# \n",
    "#     '''\n",
    "# \n",
    "# # Define templates\n",
    "#     group_templates = [\n",
    "#         'C(=O)Cl', # acid chloride\n",
    "#         'C(=O)[O;H,-]', # carboxylic acid\n",
    "#         '[$(S-!@[#6])](=O)(=O)(Cl)', # sulfonyl chloride\n",
    "#         '[$(B-!@[#6])](O)(O)', # boronic acid\n",
    "#         '[$(N-!@[#6])](=!@C=!@O)', # isocyanate\n",
    "#         '[N;H0;$(N-[#6]);D2]=[N;D2]=[N;D1]', # azide\n",
    "#         'O=C1N(Br)C(=O)CC1', # NBS brominating agent\n",
    "#         'C=O', # carbonyl\n",
    "#         'ClS(Cl)=O', # thionyl chloride\n",
    "#         '[Mg][Br,Cl]', # grinard (non-disassociated)\n",
    "#         '[#6]S(=O)(=O)[O]', # RSO3 leaving group\n",
    "#         '[O]S(=O)(=O)[O]', # SO4 group\n",
    "#         '[N-]=[N+]=[C]', # diazo-alkyl\n",
    "#         ]\n",
    "#     # Build list\n",
    "#     groups = []\n",
    "#     for template in group_templates:\n",
    "#         matches = mol.GetSubstructMatches(Chem.MolFromSmarts(template))\n",
    "#         groups.extend(list(matches))\n",
    "#     return groups\n",
    "# \n",
    "#     # group_templates = [\n",
    "#     #     (range(3), '[OH0,SH0]=C[O,Cl,I,Br,F]',), # carboxylic acid / halogen\n",
    "#     #     (range(3), '[OH0,SH0]=CN',), # amide/sulfamide\n",
    "#     #     (range(4), 'S(O)(O)[Cl]',), # sulfonyl chloride\n",
    "#     #     (range(3), 'B(O)O',), # boronic acid/ester\n",
    "#     #     ((0,), '[Si](C)(C)C'), # trialkyl silane\n",
    "#     #     ((0,), '[Si](OC)(OC)(OC)'), # trialkoxy silane, default to methyl\n",
    "#     #     (range(3), '[N;H0;$(N-[#6]);D2]-,=[N;D2]-,=[N;D1]',), # azide\n",
    "#     #     (range(8), 'O=C1N([Br,I,F,Cl])C(=O)CC1',), # NBS brominating agent\n",
    "#     #     (range(11), 'Cc1ccc(S(=O)(=O)O)cc1'), # Tosyl\n",
    "#     #     ((7,), 'CC(C)(C)OC(=O)[N]'), # N(boc)\n",
    "#     #     ((4,), '[CH3][CH0]([CH3])([CH3])O'), #\n",
    "#     #     (range(2), '[C,N]=[C,N]',), # alkene/imine\n",
    "#     #     (range(2), '[C,N]#[C,N]',), # alkyne/nitrile\n",
    "#     #     ((2,), 'C=C-[*]',), # adj to alkene\n",
    "#     #     ((2,), 'C#C-[*]',), # adj to alkyne\n",
    "#     #     ((2,), 'O=C-[*]',), # adj to carbonyl\n",
    "#     #     ((3,), 'O=C([CH3])-[*]'), # adj to methyl ketone\n",
    "#     #     ((3,), 'O=C([O,N])-[*]',), # adj to carboxylic acid/amide/ester\n",
    "#     #     (range(4), 'ClS(Cl)=O',), # thionyl chloride\n",
    "#     #     (range(2), '[Mg,Li,Zn,Sn][Br,Cl,I,F]',), # grinard/metal (non-disassociated)\n",
    "#     #     (range(3), 'S(O)(O)',), # SO2 group\n",
    "#     #     (range(2), 'N~N',), # diazo\n",
    "#     #     ((1,), '[!#6;R]@[#6;R]',), # adjacency to heteroatom in ring\n",
    "#     #     ((2,), '[a!c]:a:a',), # two-steps away from heteroatom in aromatic ring\n",
    "#     #     #((1,), 'c(-,=[*]):c([Cl,I,Br,F])',), # ortho to halogen on ring - too specific?\n",
    "#     #     #((1,), 'c(-,=[*]):c:c([Cl,I,Br,F])',), # meta to halogen on ring - too specific?\n",
    "#     #     ((0,), '[B,C](F)(F)F'), # CF3, BF3 should have the F3 included\n",
    "#     # ]\n",
    "#     # # Build list\n",
    "#     # groups = []\n",
    "#     # for (add_if_match, template) in group_templates:\n",
    "#     #     matches = mol.GetSubstructMatches(Chem.MolFromSmarts(template), useChirality=False)\n",
    "#     #     for match in matches:\n",
    "#     #         add_if = []\n",
    "#     #         for pattern_idx, atom_idx in enumerate(match):\n",
    "#     #             if pattern_idx in add_if_match:\n",
    "#     #                 add_if.append(atom_idx)\n",
    "#     #         groups.append((add_if, match))\n",
    "#     # return groups\n",
    "# \n",
    "# \n",
    "# \n",
    "# def get_fragments_for_changed_atoms(mapdict,changed_mapidx, category, radius = 0):\n",
    "#     \"\"\"\n",
    "#     This builds fragments around changed atoms. NOT IN USE AT THE MOMENT.  \n",
    "#     \n",
    "#     Parameters\n",
    "#     ----------\n",
    "#     mapdict : TYPE\n",
    "#         DESCRIPTION.\n",
    "#     changed_mapidx : TYPE\n",
    "#         DESCRIPTION.\n",
    "#     category : Specify either reactant or product\n",
    "#         Category to generate fragments for template smarts\n",
    "#     radius : TYPE, optional\n",
    "#         DESCRIPTION. The default is 0.\n",
    "# \n",
    "#     Returns\n",
    "#     -------\n",
    "#     None.\n",
    "# \n",
    "#     \"\"\"\n",
    "#     fragments=''\n",
    "#     mol_done=[]\n",
    "#     atoms_to_use=[] #List for fragment construction\n",
    "#     symbols=[]\n",
    "# \n",
    "#     for mapidx in changed_mapidx:\n",
    "#         val=mapdict[mapidx]\n",
    "#         prod=val[0]\n",
    "#         react=val[1]\n",
    "#         idxp=val[2]\n",
    "#         idxr=val[3]\n",
    "#         if category=='reactants':\n",
    "#             mol=react\n",
    "#             idx=idxr\n",
    "#         else:\n",
    "#             mol=prod\n",
    "#             idx=idxp\n",
    "# \n",
    "#         atoms_to_use.append(idx) #Adding changed atom to atoms list for fragment construction\n",
    "# \n",
    "#         if mol not in mol_done:\n",
    "#             for atom in mol.GetAtoms():\n",
    "#                 symbol=atom.GetSmarts()\n",
    "#                 if atom.GetTotalNumHs() == 0:\n",
    "#                 # Be explicit when there are no hydrogens\n",
    "#                     if ':' in symbol: # stick H0 before label\n",
    "#                         symbol = symbol.replace(':', ';H0:')\n",
    "#                     else: # stick before end\n",
    "#                         symbol = symbol.replace(']', ';H0]')\n",
    "#                     # print('Being explicit about H0!!!!')\n",
    "#         if atom.GetFormalCharge() == 0:\n",
    "#                 # Also be explicit when there is no charge\n",
    "#             if ':' in symbol:\n",
    "#                 symbol = symbol.replace(':', ';+0:')\n",
    "#             else:\n",
    "#                 symbol = symbol.replace(']', ';+0]')\n",
    "#         if symbol !=atom.GetSmarts():\n",
    "#                 symbol_replacements.append()\n",
    "#                 symbols=[atom.GetSmarts() for atom in mol.GetAtoms()]\n",
    "# \n",
    "#         mol_done.append(mol)\n",
    "# \n",
    "#             # CUSTOM SYMBOL CHANGES\n",
    "#         if atom.GetTotalNumHs() == 0:\n",
    "#                 # Be explicit when there are no hydrogens\n",
    "#             if ':' in symbol: # stick H0 before label\n",
    "#                 symbol = symbol.replace(':', ';H0:')\n",
    "#             else: # stick before end\n",
    "#                 symbol = symbol.replace(']', ';H0]')\n",
    "#                     # print('Being explicit about H0!!!!')\n",
    "#         if atom.GetFormalCharge() == 0:\n",
    "#                 # Also be explicit when there is no charge\n",
    "#             if ':' in symbol:\n",
    "#                 symbol = symbol.replace(':', ';+0:')\n",
    "#             else:\n",
    "#                 symbol = symbol.replace(']', ';+0]')\n",
    "#         if symbol !=atom.GetSmarts():\n",
    "#                 symbol_replacements.append()\n",
    "# \n",
    "# ============================================================================="
   ]
  },
  {
   "cell_type": "markdown",
   "metadata": {},
   "source": [
    "## GenApplyTempl.py"
   ]
  },
  {
   "cell_type": "markdown",
   "metadata": {},
   "source": [
    "GenApplyTempl.py contains functions to generate templates from reactions and apply these templates to query species to generate impurities. Also indicates if impurities are valid or not."
   ]
  },
  {
   "cell_type": "code",
   "execution_count": 27,
   "metadata": {
    "ExecuteTime": {
     "end_time": "2021-04-21T03:35:57.118488Z",
     "start_time": "2021-04-21T03:35:56.912078Z"
    }
   },
   "outputs": [],
   "source": [
    "# %%writefile GenApplyTempl.py\n",
    "# %load ./GenApplyTempl.py\n",
    "import copy,itertools\n",
    "from rdkit import Chem\n",
    "from MainFunctions import molfromsmiles\n",
    "from rdkit.Chem import rdChemReactions\n",
    "\n",
    "def gen_template_row(row):\n",
    "    LHSdata=copy.deepcopy(row.LHSdata)\n",
    "    RHSdata=copy.deepcopy(row.RHSdata)\n",
    "    res=copy.deepcopy(row.mapdict)\n",
    "    nofg=row.nofg\n",
    "    return gen_template(LHSdata,RHSdata,res,nofg=nofg)\n",
    "\n",
    "def gen_template(LHSdata,RHSdata,res,nofg=[]): #Don't add invalid reactions here\n",
    "    reacfrag=[]\n",
    "    prodfrag=[]\n",
    "    farfg=[]\n",
    "    for analoguecompd in LHSdata:\n",
    "        if analoguecompd in nofg and not LHSdata[analoguecompd]['reacfrag'] : #Hydrogen will not be mapped and won't show up in reaction center \n",
    "            reacfrag+=[Chem.MolToSmarts(molfromsmiles(mappedsmiles)) for mappedsmiles in LHSdata[analoguecompd]['mappedsmiles']]\n",
    "            continue\n",
    "        for inst,fraginf in LHSdata[analoguecompd]['reacfrag'].items():\n",
    "            fragatomidx=set()\n",
    "            for frag,matchidx in fraginf.items():\n",
    "                fragatomidx=fragatomidx.union({atomidx for match in matchidx for atomidx in list(LHSdata[analoguecompd]['fragloc'][inst][frag]['corrmatches'])[match]})\n",
    "            reacfragcurr=[Chem.MolFragmentToSmarts(molfromsmiles(LHSdata[analoguecompd]['mappedsmiles'][inst]),fragatomidx)]\n",
    "            if len(reacfragcurr[0].split('.'))>1 and analoguecompd not in farfg: # Fragments involved in the reaction are too far away, and are decomposed into more than 1 species. Invalid template.\n",
    "                farfg+=[analoguecompd]\n",
    "            reacfrag+=reacfragcurr\n",
    "            for atomidx in fragatomidx:\n",
    "#                 breakpoint()\n",
    "                assigned=False\n",
    "                for val in res.values():\n",
    "                    if val[0]==analoguecompd and val[1]==inst and val[2]==atomidx:\n",
    "#                         breakpoint()\n",
    "                        assigned=True\n",
    "                        prodid=val[3]\n",
    "                        prodinst=val[4]\n",
    "                        prodatomidx=val[5]\n",
    "                        if 'rxnatomidx' not in RHSdata[prodid].keys():\n",
    "                            RHSdata[prodid]['rxnatomidx']={prodinst:{prodatomidx}}\n",
    "                            assigned=True\n",
    "                            break\n",
    "                        elif prodinst in RHSdata[prodid]['rxnatomidx']:\n",
    "                            RHSdata[prodid]['rxnatomidx'][prodinst].add(prodatomidx)\n",
    "                            assigned=True\n",
    "                            break\n",
    "                        else:\n",
    "                            RHSdata[prodid]['rxnatomidx'].update({prodinst:{prodatomidx}})\n",
    "                            assigned=True\n",
    "                            break\n",
    "        \n",
    "    for prodid in RHSdata:\n",
    "        if 'rxnatomidx' not in RHSdata[prodid].keys(): #H2 product\n",
    "            prodfrag+=[Chem.MolToSmarts(molfromsmiles(mappedsmiles)) for mappedsmiles in RHSdata[prodid]['mappedsmiles']]\n",
    "            continue\n",
    "        for inst,prodatomidx in RHSdata[prodid]['rxnatomidx'].items():\n",
    "            prodfrag+=[Chem.MolFragmentToSmarts(molfromsmiles(RHSdata[prodid]['mappedsmiles'][inst]),prodatomidx)]\n",
    "    if farfg:\n",
    "        msg4='Reacting functional groups are too far away in '+'species '+', '.join([str(rctid) for rctid in farfg])\n",
    "    else:\n",
    "        msg4='Valid'\n",
    "    \n",
    "    return '>>'.join(['.'.join(reacfrag),'.'.join(prodfrag)]),LHSdata,RHSdata,msg4,farfg\n",
    "\n",
    "def apply_template_row(row,inputquery):\n",
    "    LHSdata=copy.deepcopy(row.LHSdata)\n",
    "    templt=copy.deepcopy(row.template)\n",
    "    nofg=row.nofg\n",
    "    return apply_template(LHSdata,templt,inputquery=inputquery,nofg=nofg) \n",
    "\n",
    "\n",
    "def apply_template(LHSdata,templt,inputquery,nofg=[]):\n",
    "    combs=[]\n",
    "    imp_raw=[]\n",
    "    imp_smles=[]\n",
    "    imp_mol=[]\n",
    "    imp_Rsmiles=[]\n",
    "    msg5=''\n",
    "    \n",
    "    template_rxn=rdChemReactions.ReactionFromSmarts(templt,useSmiles=True)\n",
    "    querycompdbin=[]\n",
    "    for analoguecompd in LHSdata:\n",
    "        if analoguecompd in nofg and not LHSdata[analoguecompd]['reacfrag'] : #Hydrogen will not be mapped and won't show up in reaction center \n",
    "            querycompdbin+=[{LHSdata[analoguecompd]['smiles']} for i in range(LHSdata[analoguecompd]['count'])]\n",
    "            continue\n",
    "        for inst,fraginf in LHSdata[analoguecompd]['reacfrag'].items():\n",
    "#             breakpoint()\n",
    "            querycompdset=set()\n",
    "            for frag,matchidx in fraginf.items():\n",
    "                for querycompd in LHSdata[analoguecompd]['querycompds'][frag]:\n",
    "                    if inputquery.speciesdict[querycompd].fragsdict[frag].count<len(matchidx):\n",
    "                        return [],[],[],'Species '+str(analoguecompd)+' has too many reacting functional groups' #Invalid templates as one/more reactants have more functional groups reacting relative to query\n",
    "                if not querycompdset:\n",
    "                    querycompdset=set(LHSdata[analoguecompd]['querycompds'][frag])\n",
    "                else:\n",
    "                    querycompdset=querycompdset.intersection(set(LHSdata[analoguecompd]['querycompds'][frag])) #There may be more than one query compound with match\n",
    "            if querycompdset:\n",
    "                querycompdbin+=[querycompdset]\n",
    "        if not querycompdbin:\n",
    "            return [],[],[],'Species '+str(analoguecompd)+' reacts at fragments from different query compounds'\n",
    "    combs=list(itertools.product(*querycompdbin))\n",
    "    try:\n",
    "        imp_raw=[template_rxn.RunReactants([Chem.MolFromSmiles(query_reactant) for query_reactant in comb]) for comb in combs]\n",
    "    except Exception as e:\n",
    "        msg5='Template cannot be applied to reactants'\n",
    "        return combs,'Error','Error',msg5\n",
    "    if not imp_raw[0]:\n",
    "        msg5='Template cannot be applied to reactants'\n",
    "        return combs,'Error','Error',msg5\n",
    "#     breakpoint()\n",
    "    imp_smles=[tuple(tuple(Chem.MolToSmiles(imp) for imp in imp_prod) for imp_prod in comb) for comb in imp_raw]\n",
    "    imp_smles=[{imp_prod for imp_prod in comb} for comb in imp_smles] # Remove duplicates\n",
    "    try:\n",
    "        imp_mol=[{tuple(molfromsmiles(impsmles) for impsmles in impset) for impset in comb} for comb in imp_smles]\n",
    "    except Exception as e:\n",
    "        msg5='Impurities not chemically valid'\n",
    "        return combs,imp_smles,'Error',msg5\n",
    "    imp_Rsmiles=[set('>>'.join(['.'.join(combs[idx]),'.'.join(impprod)]) for impprod in imp_smles[idx]) for idx in range(len(imp_smles))]\n",
    "    msg5='Valid'\n",
    "    return combs,imp_smles,imp_Rsmiles,msg5\n",
    "\n",
    "def removeduplicates(row):\n",
    "    rejidx=[]\n",
    "    querycompds=copy.deepcopy(row.querycompds)\n",
    "    impurities=copy.deepcopy(row.impurities)\n",
    "    impurityrxns=copy.deepcopy(row.impurityrxn)\n",
    "    collset=copy.deepcopy(set(tuple(sorted(t)) for t in querycompds))\n",
    "    for idx,comb in enumerate(querycompds):\n",
    "        norm=tuple(sorted(comb))\n",
    "        if norm in collset:\n",
    "            collset=collset-{norm}   \n",
    "        else:\n",
    "            rejidx+=[idx]\n",
    "    if not rejidx: #No duplicates\n",
    "        return querycompds,impurities,impurityrxns\n",
    "    rejidx2=[]\n",
    "    for idx in rejidx:\n",
    "        compareset=set(tuple(sorted(t)) for t in impurities[idx])\n",
    "        otheridx=[i for i in range(len(impurities)) if i!=idx]\n",
    "        otherset=set(tuple(sorted(t)) for oidx in otheridx for t in impurities[oidx])\n",
    "        if compareset.issubset(otherset): #Duplicate entry is present in other query compound combinations\n",
    "            rejidx2+=[idx]\n",
    "    querycompds=[comb for idx,comb in enumerate(querycompds) if idx not in rejidx2]\n",
    "    impurities=[comb for idx,comb in enumerate(impurities) if idx not in rejidx2]\n",
    "    impurityrxns=[comb for idx,comb in enumerate(impurityrxns) if idx not in rejidx2]\n",
    "\n",
    "    return querycompds,impurities,impurityrxns\n",
    "\n",
    "# Removing unrealistic impurities (atoms and query compounds)\n",
    "def validimpurities(row,candirxnsimpfinal,analoguerxns,hc_prod,querycompds):\n",
    "    impset=copy.deepcopy(set(row.impurities))\n",
    "    ID=row.name\n",
    "    if candirxnsimpfinal.loc[ID].hcprod:\n",
    "        impset=impset-set([hc_prod[hcid]['smiles'] for hcid in candirxnsimpfinal.loc[ID].hcprod])\n",
    "    if all([imp in row.querycompds for imp in impset]):\n",
    "        return 'No transformation of interest'\n",
    "    if all([imp in querycompds for imp in impset]):\n",
    "        return 'Query compounds suggested as impurities'\n",
    "    elif all(['[' in imp[0] and ']' in imp[-1] for imp in impset]):\n",
    "        return 'Impurities are atoms/radicals'\n",
    "    elif (len(set(row.querycompds))==1 and (analoguerxns.loc[ID].ReagentID=='NaN' or analoguerxns.loc[ID].ReagentID is None)) or (len(set(candirxnsimpfinal.loc[ID].LHS))==1 and (analoguerxns.loc[ID].ReagentID=='NaN' or analoguerxns.loc[ID].ReagentID is None)):\n",
    "        return 'Self-reaction/single reactant detected with no reagents. Check reaction record to verify plausibility.'\n",
    "    else:\n",
    "        return 'Valid'"
   ]
  },
  {
   "cell_type": "markdown",
   "metadata": {},
   "source": [
    "## RankImp.py"
   ]
  },
  {
   "cell_type": "markdown",
   "metadata": {},
   "source": [
    "RankImp.py contains functions to standardize reactions, score impurity reactions and impurities based on popularity (hits) and relevance"
   ]
  },
  {
   "cell_type": "code",
   "execution_count": 436,
   "metadata": {
    "ExecuteTime": {
     "end_time": "2021-04-23T06:03:42.945955Z",
     "start_time": "2021-04-23T06:03:42.934216Z"
    }
   },
   "outputs": [],
   "source": [
    "def relevancescore(row,candirxnsimpfinal,inputquery):\n",
    "    ID=row.name\n",
    "    LHSids=[compd for compd in candirxnsimpfinal.loc[ID].LHSdata for _ in range(candirxnsimpfinal.loc[ID].LHSdata[compd]['count'])]\n",
    "    querycompds=copy.deepcopy(row.querycompds)\n",
    "    pos=0\n",
    "    globalsim=1\n",
    "    while pos<=len(querycompds)-1:\n",
    "        query=querycompds[pos]\n",
    "        analgcompd=LHSids[pos]\n",
    "        fragloc=candirxnsimpfinal.loc[ID].LHSdata[analgcompd]['fragloc']\n",
    "        fragref=list(set(inputquery.speciesdict[query].fragsdict.keys()).intersection(set(fragloc[0].keys())))[0]\n",
    "        localsim=inputquery.speciesdict[query].fragsdict[fragref].comppool.loc[analgcompd].Similarity  \n",
    "        globalsim=globalsim*localsim\n",
    "        pos+=candirxnsimpfinal.loc[ID].LHSdata[analgcompd]['count']\n",
    "    return globalsim\n",
    "\n",
    "    \n",
    "def standardizerxns(row):\n",
    "    querycompds=copy.deepcopy(row.querycompds)\n",
    "    impurities=copy.deepcopy(row.impurities)\n",
    "    querycompds=tuple(sorted(querycompds))\n",
    "    impurities=tuple(sorted(impurities))\n",
    "    impurityrxn='>>'.join([getfragments(querycompds,smiles=True),getfragments(impurities,smiles=True)])\n",
    "    return querycompds,impurities,impurityrxn\n",
    "\n"
   ]
  },
  {
   "cell_type": "markdown",
   "metadata": {},
   "source": [
    "# Workflow"
   ]
  },
  {
   "cell_type": "markdown",
   "metadata": {},
   "source": [
    "The default run uses a core subset of Reaxys expanded around paracetamol. A substance database has been created which contains all species in this Reaxys subset along with smiles, and molfiles. A fragment database has been created using the `identify_functional_groups` function (`IFG`) in `FindFunctionalGroups.py` applied to each species in the core subset. A fragment size of n=6 has been used for the time being, which will generate molecule fragments 6 atoms long expanded from each functional group of the species. Note that dihydrogen, benzene, and alkanes are not identified as having functional groups, so the entire molecule is taken as a fragment."
   ]
  },
  {
   "cell_type": "markdown",
   "metadata": {},
   "source": [
    "## Result location"
   ]
  },
  {
   "cell_type": "markdown",
   "metadata": {},
   "source": [
    "The first step involves specifying directories where results need to be stored. `casename` refers to the unique number assigned to the case study. `querycase` reflects the size of fragments specified. `analoguecase` reflects the type of filtering applied to the analogue pool (similarity and molecular weight threshold). `assigncase` refers to basis of  assignment of fragments to each analogue compound (filteredpool or original comppool). `rxncenterscreen` refers to basis of reaction filtering by reaction center location (carrier fragment or functional group). Directories will be created as per how the previous variables are specified."
   ]
  },
  {
   "cell_type": "code",
   "execution_count": 28,
   "metadata": {
    "ExecuteTime": {
     "end_time": "2021-04-21T03:57:23.289483Z",
     "start_time": "2021-04-21T03:57:23.279365Z"
    }
   },
   "outputs": [],
   "source": [
    "casename='Case4.1'\n",
    "querycase='QR6' #QR6 refers to default state (n=6)\n",
    "analoguecase='ST0MWT0' #DEFAULT refers to ST 0.5, MWT 300; ST0MWT0 refers to no thresholds applied\n",
    "assigncase='CP' #FP refers to default state (Assign frags based on filtered pool), CP (Assign frags based on comp pool)\n",
    "rxncenterscreen='FRAG'\n",
    "casedir='/home/aa2133/Impurity-Project/Input/'+casename+'/'\n",
    "querydir=casedir+querycase+'/'\n",
    "analoguedir=querydir+analoguecase+'/'\n",
    "assigndir=analoguedir+assigncase+'/'\n",
    "rxncenterscreendir=assigndir+rxncenterscreen+'/'\n",
    "\n",
    "for fdir in [casedir,querydir,analoguedir,assigndir,rxncenterscreendir]:\n",
    "    if not os.path.exists(fdir):\n",
    "        os.makedirs(fdir)"
   ]
  },
  {
   "cell_type": "markdown",
   "metadata": {},
   "source": [
    "## Setting up parallel environment"
   ]
  },
  {
   "cell_type": "markdown",
   "metadata": {},
   "source": [
    "Next, the parallel environment of choice needs to be set up. Modin and Ray are the easiest packages to use as they allow for usage of native pandas (apply) in a parallel fashion. The `initray` function is there to easily restart the parallel cluster if memory usage is too high. `ray.shutdown()` if the cluster needs to be permanently shut down."
   ]
  },
  {
   "cell_type": "code",
   "execution_count": 32,
   "metadata": {
    "ExecuteTime": {
     "end_time": "2021-04-21T04:17:18.829844Z",
     "start_time": "2021-04-21T04:17:16.073839Z"
    }
   },
   "outputs": [
    {
     "name": "stderr",
     "output_type": "stream",
     "text": [
      "2021-04-21 05:17:16,914\tINFO services.py:1171 -- View the Ray dashboard at \u001b[1m\u001b[32mhttp://127.0.0.1:8265\u001b[39m\u001b[22m\n"
     ]
    },
    {
     "data": {
      "text/plain": [
       "{'node_ip_address': '172.24.144.187',\n",
       " 'raylet_ip_address': '172.24.144.187',\n",
       " 'redis_address': '172.24.144.187:6379',\n",
       " 'object_store_address': '/tmp/ray/session_2021-04-21_05-17-16_080812_11659/sockets/plasma_store',\n",
       " 'raylet_socket_name': '/tmp/ray/session_2021-04-21_05-17-16_080812_11659/sockets/raylet',\n",
       " 'webui_url': '127.0.0.1:8265',\n",
       " 'session_dir': '/tmp/ray/session_2021-04-21_05-17-16_080812_11659',\n",
       " 'metrics_export_port': 56399,\n",
       " 'node_id': '995a51be05ab3e225809f3840ddbc93a7c00a0a5'}"
      ]
     },
     "execution_count": 32,
     "metadata": {},
     "output_type": "execute_result"
    }
   ],
   "source": [
    "import ray\n",
    "ray.init(num_cpus=16,log_to_driver=False)\n",
    "# ray.init(address=<address>)\n",
    "# import modin.pandas as mpd\n",
    "#{'node_ip_address': '172.24.144.187',\n",
    "#  'raylet_ip_address': '172.24.144.187',\n",
    "#  'redis_address': '172.24.144.187:6379',\n",
    "#  'object_store_address': '/tmp/ray/session_2021-03-17_08-06-30_976889_20598/sockets/plasma_store',\n",
    "#  'raylet_socket_name': '/tmp/ray/session_2021-03-17_08-06-30_976889_20598/sockets/raylet',\n",
    "#  'webui_url': '127.0.0.1:8265',\n",
    "#  'session_dir': '/tmp/ray/session_2021-03-17_08-06-30_976889_20598',\n",
    "#  'metrics_export_port': 62625,\n",
    "#  'node_id': '614e0285af16d747aad7f68221d8e1670dca25a1'}\n",
    "import modin.pandas as mpd"
   ]
  },
  {
   "cell_type": "code",
   "execution_count": 33,
   "metadata": {
    "ExecuteTime": {
     "end_time": "2021-04-21T04:17:27.899627Z",
     "start_time": "2021-04-21T04:17:27.892720Z"
    }
   },
   "outputs": [],
   "source": [
    "import ray\n",
    "def initray(restart=True,num_cpus=16,log_to_driver=False):\n",
    "    if restart:\n",
    "        ray.shutdown()\n",
    "    ray.init(num_cpus=num_cpus,log_to_driver=log_to_driver)\n",
    "    import modin.pandas as mpd"
   ]
  },
  {
   "cell_type": "code",
   "execution_count": null,
   "metadata": {},
   "outputs": [],
   "source": [
    "# ray.shutdown()"
   ]
  },
  {
   "cell_type": "markdown",
   "metadata": {},
   "source": [
    "## SQL connections"
   ]
  },
  {
   "cell_type": "markdown",
   "metadata": {},
   "source": [
    "Next, SQL connections need to be initiated (to avoid excessive memory usage) to the substance database, which is an SQLite file. Due to hard disk speeds of the present server, SQL is slower than in-memory data processing, but speeds are still acceptable. Using the pandas API (`pd.read_sql_query()`) we can read data from the SQLite database as a pandas dataframe via SQL statements. We can go from Reaxys ID to smiles, smiles to Reaxys ID etc. Examples are shown below, where execution times are on the order of milliseconds."
   ]
  },
  {
   "cell_type": "code",
   "execution_count": 34,
   "metadata": {
    "ExecuteTime": {
     "end_time": "2021-04-21T04:27:41.102486Z",
     "start_time": "2021-04-21T04:27:41.093345Z"
    }
   },
   "outputs": [],
   "source": [
    "import sqlite3\n",
    "import os\n",
    "\n",
    "db=sqlite3.connect(\"/home/aa2133/Impurity-Project/Reaxys_Data/SQL/Reaxys_Data.db\")"
   ]
  },
  {
   "cell_type": "code",
   "execution_count": 38,
   "metadata": {
    "ExecuteTime": {
     "end_time": "2021-04-21T04:30:43.176471Z",
     "start_time": "2021-04-21T04:30:43.149683Z"
    }
   },
   "outputs": [
    {
     "data": {
      "text/html": [
       "<div>\n",
       "<style scoped>\n",
       "    .dataframe tbody tr th:only-of-type {\n",
       "        vertical-align: middle;\n",
       "    }\n",
       "\n",
       "    .dataframe tbody tr th {\n",
       "        vertical-align: top;\n",
       "    }\n",
       "\n",
       "    .dataframe thead th {\n",
       "        text-align: right;\n",
       "    }\n",
       "</style>\n",
       "<table border=\"1\" class=\"dataframe\">\n",
       "  <thead>\n",
       "    <tr style=\"text-align: right;\">\n",
       "      <th></th>\n",
       "      <th>Smiles</th>\n",
       "      <th>SubstanceID</th>\n",
       "      <th>MolFileAddress</th>\n",
       "      <th>Error</th>\n",
       "      <th>&gt;1 Compound</th>\n",
       "    </tr>\n",
       "  </thead>\n",
       "  <tbody>\n",
       "    <tr>\n",
       "      <th>0</th>\n",
       "      <td>Cc1cc(-c2nc3cc(F)ccc3c3cc4c(cc23)OCO4)ccc1F</td>\n",
       "      <td>27615522</td>\n",
       "      <td>/home/projects/graph/data/batch_6500000/27615522</td>\n",
       "      <td>No</td>\n",
       "      <td>0</td>\n",
       "    </tr>\n",
       "  </tbody>\n",
       "</table>\n",
       "</div>"
      ],
      "text/plain": [
       "                                        Smiles  SubstanceID  \\\n",
       "0  Cc1cc(-c2nc3cc(F)ccc3c3cc4c(cc23)OCO4)ccc1F     27615522   \n",
       "\n",
       "                                     MolFileAddress Error >1 Compound  \n",
       "0  /home/projects/graph/data/batch_6500000/27615522    No           0  "
      ]
     },
     "execution_count": 38,
     "metadata": {},
     "output_type": "execute_result"
    }
   ],
   "source": [
    "pd.read_sql_query(\"SELECT * from SubstanceDB Where SubstanceID=27615522\",db)"
   ]
  },
  {
   "cell_type": "code",
   "execution_count": 36,
   "metadata": {
    "ExecuteTime": {
     "end_time": "2021-04-21T04:29:15.333677Z",
     "start_time": "2021-04-21T04:29:15.298992Z"
    }
   },
   "outputs": [
    {
     "data": {
      "text/html": [
       "<div>\n",
       "<style scoped>\n",
       "    .dataframe tbody tr th:only-of-type {\n",
       "        vertical-align: middle;\n",
       "    }\n",
       "\n",
       "    .dataframe tbody tr th {\n",
       "        vertical-align: top;\n",
       "    }\n",
       "\n",
       "    .dataframe thead th {\n",
       "        text-align: right;\n",
       "    }\n",
       "</style>\n",
       "<table border=\"1\" class=\"dataframe\">\n",
       "  <thead>\n",
       "    <tr style=\"text-align: right;\">\n",
       "      <th></th>\n",
       "      <th>Smiles</th>\n",
       "    </tr>\n",
       "  </thead>\n",
       "  <tbody>\n",
       "    <tr>\n",
       "      <th>0</th>\n",
       "      <td>Cc1cc(-c2nc3cc(F)ccc3c3cc4c(cc23)OCO4)ccc1F</td>\n",
       "    </tr>\n",
       "  </tbody>\n",
       "</table>\n",
       "</div>"
      ],
      "text/plain": [
       "                                        Smiles\n",
       "0  Cc1cc(-c2nc3cc(F)ccc3c3cc4c(cc23)OCO4)ccc1F"
      ]
     },
     "execution_count": 36,
     "metadata": {},
     "output_type": "execute_result"
    }
   ],
   "source": [
    "pd.read_sql_query(\"SELECT Smiles from SubstanceDB Where SubstanceID=27615522\",db)"
   ]
  },
  {
   "cell_type": "code",
   "execution_count": 37,
   "metadata": {
    "ExecuteTime": {
     "end_time": "2021-04-21T04:30:07.682339Z",
     "start_time": "2021-04-21T04:30:07.548026Z"
    }
   },
   "outputs": [
    {
     "data": {
      "text/html": [
       "<div>\n",
       "<style scoped>\n",
       "    .dataframe tbody tr th:only-of-type {\n",
       "        vertical-align: middle;\n",
       "    }\n",
       "\n",
       "    .dataframe tbody tr th {\n",
       "        vertical-align: top;\n",
       "    }\n",
       "\n",
       "    .dataframe thead th {\n",
       "        text-align: right;\n",
       "    }\n",
       "</style>\n",
       "<table border=\"1\" class=\"dataframe\">\n",
       "  <thead>\n",
       "    <tr style=\"text-align: right;\">\n",
       "      <th></th>\n",
       "      <th>SubstanceID</th>\n",
       "    </tr>\n",
       "  </thead>\n",
       "  <tbody>\n",
       "    <tr>\n",
       "      <th>0</th>\n",
       "      <td>27615522</td>\n",
       "    </tr>\n",
       "  </tbody>\n",
       "</table>\n",
       "</div>"
      ],
      "text/plain": [
       "   SubstanceID\n",
       "0     27615522"
      ]
     },
     "execution_count": 37,
     "metadata": {},
     "output_type": "execute_result"
    }
   ],
   "source": [
    "pd.read_sql_query('''SELECT SubstanceID from SubstanceDB Where Smiles= \"Cc1cc(-c2nc3cc(F)ccc3c3cc4c(cc23)OCO4)ccc1F\"''',db)"
   ]
  },
  {
   "cell_type": "code",
   "execution_count": 39,
   "metadata": {
    "ExecuteTime": {
     "end_time": "2021-04-21T04:32:48.286169Z",
     "start_time": "2021-04-21T04:32:48.279226Z"
    }
   },
   "outputs": [],
   "source": [
    "# db.close() #Closing database connection"
   ]
  },
  {
   "cell_type": "markdown",
   "metadata": {},
   "source": [
    "## Analogue compounds"
   ]
  },
  {
   "cell_type": "markdown",
   "metadata": {},
   "source": [
    "The user needs to specify an input reaction smiles string (products are not compulsory), `inputsmiles`. THE USER IS EXPECTED TO INPUT A BALANCED REACTION, AS THERE IS NO ATTEMPT TO BALANCE WHAT THE USER INPUTS. THIS IS IMPORTANT SINCE IMPURITIES FROM BYPRODUCTS WILL NOT BE PREDICTED IF BYPRODUCTS ARE NOT SPECIFIED BY USER.\n",
    "\n",
    "The reaction string is split, and parsed through the `queryrxn` class in 1.4. Each query species is processed under the `querycompd` class, which applies the `getCarrierFrags` function in 1.3 to generate fragments under the `fragment` class. Each fragment has a comppool attribute which includes all analogue compounds in the substance database that have that exact fragment. Each fragment also has a filteredpool attribute which applies a similarity filter (>0.5) and molecular weight filter(<300) to the comppool, drastically reducing the comppool (By a factor of 100). Whilst this significantly reduces computation time, this also reduces number of impurities suggested. Therefore, the workflow adopted here is to include all analogue compounds and use similarity as a relevance score to rank them at the end of the workflow. This does slow down the process, with the main bottleneck being similarity calculations.\n",
    "\n",
    "The workflow is modularized so there is an option to read a complete `queryrxn` from a directory instead, and customize it (ie. add products). It is recommended to do this as much as possible to avoid computing fragments from scratch. The completed `queryrxn` object is stored as a dill file in `{{querydir+'queryrxn'}}`. Attributes of the `queryrxn` object are shown below."
   ]
  },
  {
   "cell_type": "code",
   "execution_count": null,
   "metadata": {},
   "outputs": [],
   "source": [
    "# inputsmiles='Nc1ccc(O)cc1.CC(=O)OC(C)=O' #Case 2.1 (Paracetamol reactants)\n",
    "# inputsmiles='Nc1ccc(O)cc1.CC(=O)OC(C)=O>>CC(=O)Nc1ccc(O)cc1.CC(=O)O' #Case 2.2 (Paracetamol reactants + products)\n",
    "# inputsmiles='COc2ccc1cccc(CC#N)c1c2.[H][H].N.CCO' #Case 3 (Agomelatine reactants)\n",
    "# inputsmiles='COc2ccc1cccc(CC#N)c1c2.[H][H].N.CCO>>COc1ccc2cccc(CCN)c2c1' #Case 3.1 (Agomelatine reactants and products)\n",
    "inputsmiles='CCC(=O)C(Oc1cc(C#N)cc(C#N)c1)C(=O)CC.NNCCO.CC(=O)O' #Case 4 (Lersivirine reactants)\n",
    "# inputsmiles='CCC(=O)C(Oc1cc(C#N)cc(C#N)c1)C(=O)CC.NNCCO.CC(=O)O>>CCc1nn(CCO)c(CC)c1Oc1cc(C#N)cc(C#N)c1' #Case 4.1 (Lersivirine reactants and products)\n"
   ]
  },
  {
   "cell_type": "code",
   "execution_count": null,
   "metadata": {},
   "outputs": [],
   "source": [
    "import dill\n",
    "inputquery=dill.load(open(querydir+'queryrxn','rb'))"
   ]
  },
  {
   "cell_type": "code",
   "execution_count": 133,
   "metadata": {
    "ExecuteTime": {
     "end_time": "2021-04-21T08:25:31.717579Z",
     "start_time": "2021-04-21T08:25:31.710387Z"
    }
   },
   "outputs": [],
   "source": [
    "# inputquery=queryrxn(inputsmiles=inputsmiles,FragDB=db,SQL=True)\n",
    "# addsmiles='CCc1nn(CCO)c(CC)c1Oc1cc(C#N)cc(C#N)c1'\n",
    "# Type='prod'\n",
    "# mainprod=[querycompd(Type=Type,smiles=addsmiles,verifysmiles=True,FragDB=db,SQL=True)] #Case 4.1\n",
    "# inputquery.species+=mainprod\n",
    "# inputquery.speciesdict=inputquery.SpeciesDict(inputquery.species)\n",
    "# if Type=='prod':\n",
    "#     inputquery.smiles=inputquery.smiles+'>>'+addsmiles\n",
    "# else:\n",
    "#     inputquery.smiles=inputquery.smiles+addsmiles\n",
    "# dill.dump(inputquery,open(querydir+'queryrxn','wb')) #Dill can store dynamically created classes/objects"
   ]
  },
  {
   "cell_type": "markdown",
   "metadata": {},
   "source": [
    "### Analysis"
   ]
  },
  {
   "cell_type": "code",
   "execution_count": 53,
   "metadata": {
    "ExecuteTime": {
     "end_time": "2021-04-21T07:13:09.351637Z",
     "start_time": "2021-04-21T07:13:09.340892Z"
    }
   },
   "outputs": [
    {
     "data": {
      "text/plain": [
       "{'smiles': 'CCC(=O)C(Oc1cc(C#N)cc(C#N)c1)C(=O)CC.NNCCO.CC(=O)O>>CCc1nn(CCO)c(CC)c1Oc1cc(C#N)cc(C#N)c1',\n",
       " 'species': [<__main__.querycompd at 0x7f8f18169be0>,\n",
       "  <__main__.querycompd at 0x7f8ef24cd6d0>,\n",
       "  <__main__.querycompd at 0x7f8ee1a711c0>,\n",
       "  <__main__.querycompd at 0x7f8ede1309a0>],\n",
       " 'speciesdict': {'CCC(=O)C(Oc1cc(C#N)cc(C#N)c1)C(=O)CC': <__main__.querycompd at 0x7f8f18169be0>,\n",
       "  'NNCCO': <__main__.querycompd at 0x7f8ef24cd6d0>,\n",
       "  'CC(=O)O': <__main__.querycompd at 0x7f8ee1a711c0>,\n",
       "  'CCc1nn(CCO)c(CC)c1Oc1cc(C#N)cc(C#N)c1': <__main__.querycompd at 0x7f8ede1309a0>}}"
      ]
     },
     "execution_count": 53,
     "metadata": {},
     "output_type": "execute_result"
    }
   ],
   "source": [
    "inputquery.__dict__"
   ]
  },
  {
   "cell_type": "code",
   "execution_count": 57,
   "metadata": {
    "ExecuteTime": {
     "end_time": "2021-04-21T07:14:07.971219Z",
     "start_time": "2021-04-21T07:14:07.925801Z"
    }
   },
   "outputs": [
    {
     "data": {
      "image/png": "[encoded data removed]",
      "text/plain": [
       "<rdkit.Chem.rdChemReactions.ChemicalReaction at 0x7f8ec637fac0>"
      ]
     },
     "execution_count": 57,
     "metadata": {},
     "output_type": "execute_result"
    }
   ],
   "source": [
    "rdChemReactions.ReactionFromSmarts(inputquery.smiles,useSmiles=True)"
   ]
  },
  {
   "cell_type": "code",
   "execution_count": 90,
   "metadata": {
    "ExecuteTime": {
     "end_time": "2021-04-21T08:01:51.563593Z",
     "start_time": "2021-04-21T08:01:51.476893Z"
    }
   },
   "outputs": [
    {
     "data": {
      "image/png": "[encoded data removed]",
      "text/plain": [
       "<rdkit.Chem.rdchem.Mol at 0x7f8ee1a6ab30>"
      ]
     },
     "execution_count": 90,
     "metadata": {},
     "output_type": "execute_result"
    },
    {
     "data": {
      "text/plain": [
       "{'type': 'prod',\n",
       " 'smiles': 'CCc1nn(CCO)c(CC)c1Oc1cc(C#N)cc(C#N)c1',\n",
       " 'mol': <rdkit.Chem.rdchem.Mol at 0x7f8ee1a6ab30>,\n",
       " 'smarts': '[#6]-[#6]-[#6]1:[#7]:[#7](-[#6]-[#6]-[#8]):[#6](-[#6]-[#6]):[#6]:1-[#8]-[#6]1:[#6]:[#6](-[#6]#[#7]):[#6]:[#6](-[#6]#[#7]):[#6]:1',\n",
       " 'fingerprint': <rdkit.DataStructs.cDataStructs.ExplicitBitVect at 0x7f8ede131c70>,\n",
       " 'formula': 'C17H18N4O2',\n",
       " 'count': 1,\n",
       " 'frags': [<__main__.fragment at 0x7f8ede1309d0>,\n",
       "  <__main__.fragment at 0x7f8eddda81c0>,\n",
       "  <__main__.fragment at 0x7f8ec9075430>,\n",
       "  <__main__.fragment at 0x7f8ec6e9db80>],\n",
       " 'fragsdict': {'[H]C([H])(C)N1:N:C(C):C:C:1C': <__main__.fragment at 0x7f8ede1309d0>,\n",
       "  '[H]OC([H])([H])C': <__main__.fragment at 0x7f8eddda81c0>,\n",
       "  'C:C(:C)OC(:C):C': <__main__.fragment at 0x7f8ec9075430>,\n",
       "  '[H]C(:C):C(C#N):C([H]):C': <__main__.fragment at 0x7f8ec6e9db80>}}"
      ]
     },
     "execution_count": 90,
     "metadata": {},
     "output_type": "execute_result"
    },
    {
     "data": {
      "image/png": "[encoded data removed]",
      "text/plain": [
       "<rdkit.Chem.rdchem.Mol at 0x7f8ede131d10>"
      ]
     },
     "execution_count": 90,
     "metadata": {},
     "output_type": "execute_result"
    },
    {
     "data": {
      "image/png": "[encoded data removed]",
      "text/plain": [
       "<rdkit.Chem.rdchem.Mol at 0x7f8ede131e00>"
      ]
     },
     "execution_count": 90,
     "metadata": {},
     "output_type": "execute_result"
    },
    {
     "data": {
      "image/png": "[encoded data removed]",
      "text/plain": [
       "<rdkit.Chem.rdchem.Mol at 0x7f8eddda77c0>"
      ]
     },
     "execution_count": 90,
     "metadata": {},
     "output_type": "execute_result"
    },
    {
     "data": {
      "image/png": "[encoded data removed]",
      "text/plain": [
       "<rdkit.Chem.rdchem.Mol at 0x7f8ec9074810>"
      ]
     },
     "execution_count": 90,
     "metadata": {},
     "output_type": "execute_result"
    }
   ],
   "source": [
    "#Analysis\n",
    "spec=3\n",
    "inputquery.species[spec].mol\n",
    "inputquery.species[spec].__dict__\n",
    "for frag in inputquery.species[spec].frags:\n",
    "    frag.mol"
   ]
  },
  {
   "cell_type": "code",
   "execution_count": 141,
   "metadata": {
    "ExecuteTime": {
     "end_time": "2021-04-21T08:29:28.778773Z",
     "start_time": "2021-04-21T08:29:28.690535Z"
    }
   },
   "outputs": [
    {
     "data": {
      "image/png": "[encoded data removed]",
      "text/plain": [
       "<rdkit.Chem.rdchem.Mol at 0x7f8ede131e00>"
      ]
     },
     "execution_count": 141,
     "metadata": {},
     "output_type": "execute_result"
    },
    {
     "data": {
      "text/html": [
       "<div>\n",
       "<style scoped>\n",
       "    .dataframe tbody tr th:only-of-type {\n",
       "        vertical-align: middle;\n",
       "    }\n",
       "\n",
       "    .dataframe tbody tr th {\n",
       "        vertical-align: top;\n",
       "    }\n",
       "\n",
       "    .dataframe thead th {\n",
       "        text-align: right;\n",
       "    }\n",
       "</style>\n",
       "<table border=\"1\" class=\"dataframe\">\n",
       "  <thead>\n",
       "    <tr style=\"text-align: right;\">\n",
       "      <th></th>\n",
       "      <th>Smiles</th>\n",
       "      <th>&gt;1 Compound</th>\n",
       "      <th>FragmentSmarts</th>\n",
       "      <th>Count</th>\n",
       "      <th>MolWt</th>\n",
       "      <th>Similarity</th>\n",
       "    </tr>\n",
       "    <tr>\n",
       "      <th>SubstanceID</th>\n",
       "      <th></th>\n",
       "      <th></th>\n",
       "      <th></th>\n",
       "      <th></th>\n",
       "      <th></th>\n",
       "      <th></th>\n",
       "    </tr>\n",
       "  </thead>\n",
       "  <tbody>\n",
       "    <tr>\n",
       "      <th>9180820</th>\n",
       "      <td>C=CCCCO[C@@H]1O[C@H](CO)[C@@H](OCc2ccccc2)[C@H...</td>\n",
       "      <td>0</td>\n",
       "      <td>[#6](-[#6])(-[#8]-[H])(-[H])-[H]</td>\n",
       "      <td>1</td>\n",
       "      <td>903.078</td>\n",
       "      <td>0.215686</td>\n",
       "    </tr>\n",
       "    <tr>\n",
       "      <th>6960287</th>\n",
       "      <td>C=C(CO)C(C(O)c1ccccc1)S(=O)(=O)c1ccc(C)cc1</td>\n",
       "      <td>0</td>\n",
       "      <td>[#6]-[#6](-[#8]-[H])(-[H])-[H]</td>\n",
       "      <td>1</td>\n",
       "      <td>332.421</td>\n",
       "      <td>0.262911</td>\n",
       "    </tr>\n",
       "    <tr>\n",
       "      <th>31174120</th>\n",
       "      <td>OCCCn1cc(-c2ccccc2)c(-c2ccc3c(c2)OCCO3)c1</td>\n",
       "      <td>0</td>\n",
       "      <td>[#8](-[#6](-[#6])(-[H])-[H])-[H]</td>\n",
       "      <td>1</td>\n",
       "      <td>335.403</td>\n",
       "      <td>0.407497</td>\n",
       "    </tr>\n",
       "    <tr>\n",
       "      <th>7699575</th>\n",
       "      <td>C[C@@H](CO)CN=[N+]=[N-]</td>\n",
       "      <td>0</td>\n",
       "      <td>[#6](-[#6])(-[#8]-[H])(-[H])-[H]</td>\n",
       "      <td>1</td>\n",
       "      <td>115.136</td>\n",
       "      <td>0.359375</td>\n",
       "    </tr>\n",
       "    <tr>\n",
       "      <th>6090610</th>\n",
       "      <td>OCC(O)CBr</td>\n",
       "      <td>0</td>\n",
       "      <td>[#8](-[#6](-[#6])(-[H])-[H])-[H]</td>\n",
       "      <td>1</td>\n",
       "      <td>154.991</td>\n",
       "      <td>0.40625</td>\n",
       "    </tr>\n",
       "    <tr>\n",
       "      <th>...</th>\n",
       "      <td>...</td>\n",
       "      <td>...</td>\n",
       "      <td>...</td>\n",
       "      <td>...</td>\n",
       "      <td>...</td>\n",
       "      <td>...</td>\n",
       "    </tr>\n",
       "    <tr>\n",
       "      <th>8767782</th>\n",
       "      <td>C=C(C)[C@@]1(CCO)CC(=O)C[C@@H]1C</td>\n",
       "      <td>0</td>\n",
       "      <td>[#6]-[#6](-[#8]-[H])(-[H])-[H]</td>\n",
       "      <td>1</td>\n",
       "      <td>182.263</td>\n",
       "      <td>0.390041</td>\n",
       "    </tr>\n",
       "    <tr>\n",
       "      <th>6970638</th>\n",
       "      <td>Cc1ccc2c(c1)O[C@@]1(CO)[C@@H](C)CC[C@@]21C</td>\n",
       "      <td>0</td>\n",
       "      <td>[#6](-[#6])(-[#8]-[H])(-[H])-[H]</td>\n",
       "      <td>1</td>\n",
       "      <td>232.323</td>\n",
       "      <td>0.296703</td>\n",
       "    </tr>\n",
       "    <tr>\n",
       "      <th>1758051</th>\n",
       "      <td>C=C(C)C(=O)OCC(C)(C)CO</td>\n",
       "      <td>0</td>\n",
       "      <td>[#6]-[#6](-[#8]-[H])(-[H])-[H]</td>\n",
       "      <td>1</td>\n",
       "      <td>172.224</td>\n",
       "      <td>0.427451</td>\n",
       "    </tr>\n",
       "    <tr>\n",
       "      <th>10262073</th>\n",
       "      <td>C/C(=C\\CO)c1ccc2c(c1)Cc1ccccc1-2</td>\n",
       "      <td>0</td>\n",
       "      <td>[#6]-[#6](-[#8]-[H])(-[H])-[H]</td>\n",
       "      <td>1</td>\n",
       "      <td>236.314</td>\n",
       "      <td>0.361006</td>\n",
       "    </tr>\n",
       "    <tr>\n",
       "      <th>9247450</th>\n",
       "      <td>B.COP(OC[C@H]1O[C@@H](n2cc(C)c(=O)[nH]c2=O)C[C...</td>\n",
       "      <td>1</td>\n",
       "      <td>[#6](-[#6])(-[#8]-[H])(-[H])-[H]</td>\n",
       "      <td>1</td>\n",
       "      <td>662.398</td>\n",
       "      <td>0.336728</td>\n",
       "    </tr>\n",
       "  </tbody>\n",
       "</table>\n",
       "<p>768326 rows × 6 columns</p>\n",
       "</div>"
      ],
      "text/plain": [
       "                                                        Smiles  >1 Compound  \\\n",
       "SubstanceID                                                                   \n",
       "9180820      C=CCCCO[C@@H]1O[C@H](CO)[C@@H](OCc2ccccc2)[C@H...            0   \n",
       "6960287             C=C(CO)C(C(O)c1ccccc1)S(=O)(=O)c1ccc(C)cc1            0   \n",
       "31174120             OCCCn1cc(-c2ccccc2)c(-c2ccc3c(c2)OCCO3)c1            0   \n",
       "7699575                                C[C@@H](CO)CN=[N+]=[N-]            0   \n",
       "6090610                                              OCC(O)CBr            0   \n",
       "...                                                        ...          ...   \n",
       "8767782                       C=C(C)[C@@]1(CCO)CC(=O)C[C@@H]1C            0   \n",
       "6970638             Cc1ccc2c(c1)O[C@@]1(CO)[C@@H](C)CC[C@@]21C            0   \n",
       "1758051                                 C=C(C)C(=O)OCC(C)(C)CO            0   \n",
       "10262073                      C/C(=C\\CO)c1ccc2c(c1)Cc1ccccc1-2            0   \n",
       "9247450      B.COP(OC[C@H]1O[C@@H](n2cc(C)c(=O)[nH]c2=O)C[C...            1   \n",
       "\n",
       "                               FragmentSmarts  Count    MolWt Similarity  \n",
       "SubstanceID                                                               \n",
       "9180820      [#6](-[#6])(-[#8]-[H])(-[H])-[H]      1  903.078   0.215686  \n",
       "6960287        [#6]-[#6](-[#8]-[H])(-[H])-[H]      1  332.421   0.262911  \n",
       "31174120     [#8](-[#6](-[#6])(-[H])-[H])-[H]      1  335.403   0.407497  \n",
       "7699575      [#6](-[#6])(-[#8]-[H])(-[H])-[H]      1  115.136   0.359375  \n",
       "6090610      [#8](-[#6](-[#6])(-[H])-[H])-[H]      1  154.991    0.40625  \n",
       "...                                       ...    ...      ...        ...  \n",
       "8767782        [#6]-[#6](-[#8]-[H])(-[H])-[H]      1  182.263   0.390041  \n",
       "6970638      [#6](-[#6])(-[#8]-[H])(-[H])-[H]      1  232.323   0.296703  \n",
       "1758051        [#6]-[#6](-[#8]-[H])(-[H])-[H]      1  172.224   0.427451  \n",
       "10262073       [#6]-[#6](-[#8]-[H])(-[H])-[H]      1  236.314   0.361006  \n",
       "9247450      [#6](-[#6])(-[#8]-[H])(-[H])-[H]      1  662.398   0.336728  \n",
       "\n",
       "[768326 rows x 6 columns]"
      ]
     },
     "execution_count": 141,
     "metadata": {},
     "output_type": "execute_result"
    },
    {
     "data": {
      "text/html": [
       "<div>\n",
       "<style scoped>\n",
       "    .dataframe tbody tr th:only-of-type {\n",
       "        vertical-align: middle;\n",
       "    }\n",
       "\n",
       "    .dataframe tbody tr th {\n",
       "        vertical-align: top;\n",
       "    }\n",
       "\n",
       "    .dataframe thead th {\n",
       "        text-align: right;\n",
       "    }\n",
       "</style>\n",
       "<table border=\"1\" class=\"dataframe\">\n",
       "  <thead>\n",
       "    <tr style=\"text-align: right;\">\n",
       "      <th></th>\n",
       "      <th>Smiles</th>\n",
       "      <th>&gt;1 Compound</th>\n",
       "      <th>FragmentSmarts</th>\n",
       "      <th>Count</th>\n",
       "      <th>MolWt</th>\n",
       "      <th>Similarity</th>\n",
       "    </tr>\n",
       "    <tr>\n",
       "      <th>SubstanceID</th>\n",
       "      <th></th>\n",
       "      <th></th>\n",
       "      <th></th>\n",
       "      <th></th>\n",
       "      <th></th>\n",
       "      <th></th>\n",
       "    </tr>\n",
       "  </thead>\n",
       "  <tbody>\n",
       "    <tr>\n",
       "      <th>9180820</th>\n",
       "      <td>C=CCCCO[C@@H]1O[C@H](CO)[C@@H](OCc2ccccc2)[C@H...</td>\n",
       "      <td>0</td>\n",
       "      <td>[#6](-[#6])(-[#8]-[H])(-[H])-[H]</td>\n",
       "      <td>1</td>\n",
       "      <td>903.078</td>\n",
       "      <td>0.215686</td>\n",
       "    </tr>\n",
       "    <tr>\n",
       "      <th>6960287</th>\n",
       "      <td>C=C(CO)C(C(O)c1ccccc1)S(=O)(=O)c1ccc(C)cc1</td>\n",
       "      <td>0</td>\n",
       "      <td>[#6]-[#6](-[#8]-[H])(-[H])-[H]</td>\n",
       "      <td>1</td>\n",
       "      <td>332.421</td>\n",
       "      <td>0.262911</td>\n",
       "    </tr>\n",
       "    <tr>\n",
       "      <th>31174120</th>\n",
       "      <td>OCCCn1cc(-c2ccccc2)c(-c2ccc3c(c2)OCCO3)c1</td>\n",
       "      <td>0</td>\n",
       "      <td>[#8](-[#6](-[#6])(-[H])-[H])-[H]</td>\n",
       "      <td>1</td>\n",
       "      <td>335.403</td>\n",
       "      <td>0.407497</td>\n",
       "    </tr>\n",
       "    <tr>\n",
       "      <th>7699575</th>\n",
       "      <td>C[C@@H](CO)CN=[N+]=[N-]</td>\n",
       "      <td>0</td>\n",
       "      <td>[#6](-[#6])(-[#8]-[H])(-[H])-[H]</td>\n",
       "      <td>1</td>\n",
       "      <td>115.136</td>\n",
       "      <td>0.359375</td>\n",
       "    </tr>\n",
       "    <tr>\n",
       "      <th>6090610</th>\n",
       "      <td>OCC(O)CBr</td>\n",
       "      <td>0</td>\n",
       "      <td>[#8](-[#6](-[#6])(-[H])-[H])-[H]</td>\n",
       "      <td>1</td>\n",
       "      <td>154.991</td>\n",
       "      <td>0.40625</td>\n",
       "    </tr>\n",
       "    <tr>\n",
       "      <th>...</th>\n",
       "      <td>...</td>\n",
       "      <td>...</td>\n",
       "      <td>...</td>\n",
       "      <td>...</td>\n",
       "      <td>...</td>\n",
       "      <td>...</td>\n",
       "    </tr>\n",
       "    <tr>\n",
       "      <th>11143975</th>\n",
       "      <td>C[C@H](NCCO)[C@H](O[Si](C)(C)C(C)(C)C)c1ccccc1</td>\n",
       "      <td>0</td>\n",
       "      <td>[#6]-[#6](-[#8]-[H])(-[H])-[H]</td>\n",
       "      <td>1</td>\n",
       "      <td>309.526</td>\n",
       "      <td>0.35635</td>\n",
       "    </tr>\n",
       "    <tr>\n",
       "      <th>8767782</th>\n",
       "      <td>C=C(C)[C@@]1(CCO)CC(=O)C[C@@H]1C</td>\n",
       "      <td>0</td>\n",
       "      <td>[#6]-[#6](-[#8]-[H])(-[H])-[H]</td>\n",
       "      <td>1</td>\n",
       "      <td>182.263</td>\n",
       "      <td>0.390041</td>\n",
       "    </tr>\n",
       "    <tr>\n",
       "      <th>6970638</th>\n",
       "      <td>Cc1ccc2c(c1)O[C@@]1(CO)[C@@H](C)CC[C@@]21C</td>\n",
       "      <td>0</td>\n",
       "      <td>[#6](-[#6])(-[#8]-[H])(-[H])-[H]</td>\n",
       "      <td>1</td>\n",
       "      <td>232.323</td>\n",
       "      <td>0.296703</td>\n",
       "    </tr>\n",
       "    <tr>\n",
       "      <th>1758051</th>\n",
       "      <td>C=C(C)C(=O)OCC(C)(C)CO</td>\n",
       "      <td>0</td>\n",
       "      <td>[#6]-[#6](-[#8]-[H])(-[H])-[H]</td>\n",
       "      <td>1</td>\n",
       "      <td>172.224</td>\n",
       "      <td>0.427451</td>\n",
       "    </tr>\n",
       "    <tr>\n",
       "      <th>10262073</th>\n",
       "      <td>C/C(=C\\CO)c1ccc2c(c1)Cc1ccccc1-2</td>\n",
       "      <td>0</td>\n",
       "      <td>[#6]-[#6](-[#8]-[H])(-[H])-[H]</td>\n",
       "      <td>1</td>\n",
       "      <td>236.314</td>\n",
       "      <td>0.361006</td>\n",
       "    </tr>\n",
       "  </tbody>\n",
       "</table>\n",
       "<p>719466 rows × 6 columns</p>\n",
       "</div>"
      ],
      "text/plain": [
       "                                                        Smiles  >1 Compound  \\\n",
       "SubstanceID                                                                   \n",
       "9180820      C=CCCCO[C@@H]1O[C@H](CO)[C@@H](OCc2ccccc2)[C@H...            0   \n",
       "6960287             C=C(CO)C(C(O)c1ccccc1)S(=O)(=O)c1ccc(C)cc1            0   \n",
       "31174120             OCCCn1cc(-c2ccccc2)c(-c2ccc3c(c2)OCCO3)c1            0   \n",
       "7699575                                C[C@@H](CO)CN=[N+]=[N-]            0   \n",
       "6090610                                              OCC(O)CBr            0   \n",
       "...                                                        ...          ...   \n",
       "11143975        C[C@H](NCCO)[C@H](O[Si](C)(C)C(C)(C)C)c1ccccc1            0   \n",
       "8767782                       C=C(C)[C@@]1(CCO)CC(=O)C[C@@H]1C            0   \n",
       "6970638             Cc1ccc2c(c1)O[C@@]1(CO)[C@@H](C)CC[C@@]21C            0   \n",
       "1758051                                 C=C(C)C(=O)OCC(C)(C)CO            0   \n",
       "10262073                      C/C(=C\\CO)c1ccc2c(c1)Cc1ccccc1-2            0   \n",
       "\n",
       "                               FragmentSmarts  Count    MolWt Similarity  \n",
       "SubstanceID                                                               \n",
       "9180820      [#6](-[#6])(-[#8]-[H])(-[H])-[H]      1  903.078   0.215686  \n",
       "6960287        [#6]-[#6](-[#8]-[H])(-[H])-[H]      1  332.421   0.262911  \n",
       "31174120     [#8](-[#6](-[#6])(-[H])-[H])-[H]      1  335.403   0.407497  \n",
       "7699575      [#6](-[#6])(-[#8]-[H])(-[H])-[H]      1  115.136   0.359375  \n",
       "6090610      [#8](-[#6](-[#6])(-[H])-[H])-[H]      1  154.991    0.40625  \n",
       "...                                       ...    ...      ...        ...  \n",
       "11143975       [#6]-[#6](-[#8]-[H])(-[H])-[H]      1  309.526    0.35635  \n",
       "8767782        [#6]-[#6](-[#8]-[H])(-[H])-[H]      1  182.263   0.390041  \n",
       "6970638      [#6](-[#6])(-[#8]-[H])(-[H])-[H]      1  232.323   0.296703  \n",
       "1758051        [#6]-[#6](-[#8]-[H])(-[H])-[H]      1  172.224   0.427451  \n",
       "10262073       [#6]-[#6](-[#8]-[H])(-[H])-[H]      1  236.314   0.361006  \n",
       "\n",
       "[719466 rows x 6 columns]"
      ]
     },
     "execution_count": 141,
     "metadata": {},
     "output_type": "execute_result"
    }
   ],
   "source": [
    "specfrag=1\n",
    "inputquery.species[spec].frags[specfrag].mol\n",
    "comp=inputquery.species[spec].frags[specfrag].comppool\n",
    "filt=inputquery.species[spec].frags[specfrag].filteredpool\n",
    "comp\n",
    "filt"
   ]
  },
  {
   "cell_type": "code",
   "execution_count": 146,
   "metadata": {
    "ExecuteTime": {
     "end_time": "2021-04-21T08:31:25.371811Z",
     "start_time": "2021-04-21T08:31:25.331541Z"
    }
   },
   "outputs": [
    {
     "data": {
      "text/plain": [
       "Smiles             object\n",
       ">1 Compound         int64\n",
       "FragmentSmarts     object\n",
       "Count               int64\n",
       "MolWt             float64\n",
       "Similarity        float64\n",
       "dtype: object"
      ]
     },
     "execution_count": 146,
     "metadata": {},
     "output_type": "execute_result"
    }
   ],
   "source": [
    "comp[[\"Similarity\", \"MolWt\"]] = comp[[\"Similarity\", \"MolWt\"]].apply(pd.to_numeric)\n",
    "comp.dtypes"
   ]
  },
  {
   "cell_type": "code",
   "execution_count": 143,
   "metadata": {
    "ExecuteTime": {
     "end_time": "2021-04-21T08:30:32.563383Z",
     "start_time": "2021-04-21T08:30:32.114648Z"
    }
   },
   "outputs": [
    {
     "data": {
      "text/plain": [
       "Text(0.5, 0, 'Fingerprint similarity')"
      ]
     },
     "execution_count": 143,
     "metadata": {},
     "output_type": "execute_result"
    },
    {
     "data": {
      "text/plain": [
       "Text(0, 0.5, 'Count')"
      ]
     },
     "execution_count": 143,
     "metadata": {},
     "output_type": "execute_result"
    },
    {
     "data": {
      "text/plain": [
       "array([[<AxesSubplot:title={'center':'Similarity'}, xlabel='Fingerprint similarity', ylabel='Count'>]],\n",
       "      dtype=object)"
      ]
     },
     "execution_count": 143,
     "metadata": {},
     "output_type": "execute_result"
    },
    {
     "data": {
      "text/plain": [
       "count    768326.000000\n",
       "mean          0.326989\n",
       "std           0.066833\n",
       "min           0.093750\n",
       "25%           0.278137\n",
       "50%           0.320831\n",
       "75%           0.367188\n",
       "max           1.000000\n",
       "Name: Similarity, dtype: float64"
      ]
     },
     "execution_count": 143,
     "metadata": {},
     "output_type": "execute_result"
    },
    {
     "data": {
      "image/png": "[encoded data removed]",
      "text/plain": [
       "<Figure size 432x288 with 1 Axes>"
      ]
     },
     "metadata": {
      "needs_background": "light"
     },
     "output_type": "display_data"
    }
   ],
   "source": [
    "\n",
    "figsim=comp.hist(bins=50,column='Similarity')\n",
    "for ax in figsim.flatten():\n",
    "    ax.set_xlabel(\"Fingerprint similarity\")\n",
    "    ax.set_ylabel(\"Count\")\n",
    "figsim\n",
    "comp.Similarity.describe()"
   ]
  },
  {
   "cell_type": "code",
   "execution_count": 144,
   "metadata": {
    "ExecuteTime": {
     "end_time": "2021-04-21T08:31:01.585605Z",
     "start_time": "2021-04-21T08:31:00.811971Z"
    },
    "scrolled": false
   },
   "outputs": [
    {
     "data": {
      "text/plain": [
       "Text(0.5, 0, 'Molecular weight')"
      ]
     },
     "execution_count": 144,
     "metadata": {},
     "output_type": "execute_result"
    },
    {
     "data": {
      "text/plain": [
       "Text(0, 0.5, 'Count')"
      ]
     },
     "execution_count": 144,
     "metadata": {},
     "output_type": "execute_result"
    },
    {
     "data": {
      "text/plain": [
       "count    768326.000000\n",
       "mean        450.255156\n",
       "std         361.351932\n",
       "min          43.045000\n",
       "25%         256.386000\n",
       "50%         350.829000\n",
       "75%         494.661750\n",
       "max        9378.320000\n",
       "Name: MolWt, dtype: float64"
      ]
     },
     "execution_count": 144,
     "metadata": {},
     "output_type": "execute_result"
    },
    {
     "data": {
      "image/png": "[encoded data removed]",
      "text/plain": [
       "<Figure size 432x288 with 1 Axes>"
      ]
     },
     "metadata": {
      "needs_background": "light"
     },
     "output_type": "display_data"
    }
   ],
   "source": [
    "figmw=comp.hist(column='MolWt',bins=50)\n",
    "for ax in figmw.flatten():\n",
    "    ax.set_xlabel(\"Molecular weight\")\n",
    "    ax.set_ylabel(\"Count\")\n",
    "comp.MolWt.describe()"
   ]
  },
  {
   "cell_type": "markdown",
   "metadata": {},
   "source": [
    "## Candidate reactions"
   ]
  },
  {
   "cell_type": "markdown",
   "metadata": {},
   "source": [
    "### Combined analogue pool and further filtering"
   ]
  },
  {
   "cell_type": "markdown",
   "metadata": {},
   "source": [
    "Having found the list of analogue compounds, we can choose to prune it as we see fit using the `addfilters` function. We can either choose to keep the default set-up of filtering by similarity threshold of 0.5 and molecular weight threshold of 300, but this can be misleading especially if the 75th percentile for the data do not correspond to these thresholds. Alternatively, we need not apply any filters, choosing only to remove mixtures (mixtures can mess up balancing algorithms and processing..this will need to be remedied). We also create `fragdict` which contains a dictionary of fragments with keys as fragment smiles, `querydict` which contains a dictionary of query species with keys as fragment smiles, and `combinedpool` which is the aggregate of filtered analogue pools across all fragments. "
   ]
  },
  {
   "cell_type": "code",
   "execution_count": 147,
   "metadata": {
    "ExecuteTime": {
     "end_time": "2021-04-21T08:31:48.784087Z",
     "start_time": "2021-04-21T08:31:46.234102Z"
    }
   },
   "outputs": [],
   "source": [
    "addfilters(inputquery,ST=0.001,MWT=10000)\n",
    "\n",
    "fragdict={}\n",
    "combinedpool=set()\n",
    "fraglist=[frag for species in inputquery.species for frag in species.frags]\n",
    "for frag in fraglist:\n",
    "    if frag.smiles not in fragdict.keys():\n",
    "        fragdict.update({frag.smiles:[frag]})\n",
    "        continue\n",
    "    fragdict[frag.smiles].extend([frag])\n",
    "querydict={fragsmiles:[fragobj.parent.smiles for fragobj in fragdict[fragsmiles]] for fragsmiles in fragdict}\n",
    "for frag in fraglist:\n",
    "    combinedpool=combinedpool.union(set(frag.filteredpool.index))"
   ]
  },
  {
   "cell_type": "code",
   "execution_count": 148,
   "metadata": {
    "ExecuteTime": {
     "end_time": "2021-04-21T08:31:53.535603Z",
     "start_time": "2021-04-21T08:31:53.516766Z"
    }
   },
   "outputs": [
    {
     "data": {
      "text/plain": [
       "{'[H]C([H])(C)C(=O)C([H])(C)O': [<__main__.fragment at 0x7f8f18169f40>],\n",
       " '[H]C(C)(C)OC(:C):C': [<__main__.fragment at 0x7f8f0a5f3790>],\n",
       " '[H]C(:C):C(C#N):C([H]):C': [<__main__.fragment at 0x7f8f0804df10>,\n",
       "  <__main__.fragment at 0x7f8ec6e9db80>],\n",
       " '[H]N([H])N([H])C': [<__main__.fragment at 0x7f8ef24cd700>],\n",
       " '[H]OC([H])([H])C': [<__main__.fragment at 0x7f8ef232eeb0>,\n",
       "  <__main__.fragment at 0x7f8eddda81c0>],\n",
       " '[H]OC(=O)C([H])([H])[H]': [<__main__.fragment at 0x7f8ee1a71220>],\n",
       " '[H]C([H])(C)N1:N:C(C):C:C:1C': [<__main__.fragment at 0x7f8ede1309d0>],\n",
       " 'C:C(:C)OC(:C):C': [<__main__.fragment at 0x7f8ec9075430>]}"
      ]
     },
     "execution_count": 148,
     "metadata": {},
     "output_type": "execute_result"
    },
    {
     "data": {
      "text/plain": [
       "{'[H]C([H])(C)C(=O)C([H])(C)O': ['CCC(=O)C(Oc1cc(C#N)cc(C#N)c1)C(=O)CC'],\n",
       " '[H]C(C)(C)OC(:C):C': ['CCC(=O)C(Oc1cc(C#N)cc(C#N)c1)C(=O)CC'],\n",
       " '[H]C(:C):C(C#N):C([H]):C': ['CCC(=O)C(Oc1cc(C#N)cc(C#N)c1)C(=O)CC',\n",
       "  'CCc1nn(CCO)c(CC)c1Oc1cc(C#N)cc(C#N)c1'],\n",
       " '[H]N([H])N([H])C': ['NNCCO'],\n",
       " '[H]OC([H])([H])C': ['NNCCO', 'CCc1nn(CCO)c(CC)c1Oc1cc(C#N)cc(C#N)c1'],\n",
       " '[H]OC(=O)C([H])([H])[H]': ['CC(=O)O'],\n",
       " '[H]C([H])(C)N1:N:C(C):C:C:1C': ['CCc1nn(CCO)c(CC)c1Oc1cc(C#N)cc(C#N)c1'],\n",
       " 'C:C(:C)OC(:C):C': ['CCc1nn(CCO)c(CC)c1Oc1cc(C#N)cc(C#N)c1']}"
      ]
     },
     "execution_count": 148,
     "metadata": {},
     "output_type": "execute_result"
    },
    {
     "data": {
      "text/plain": [
       "'Total number of analogue compounds: 1128173'"
      ]
     },
     "execution_count": 148,
     "metadata": {},
     "output_type": "execute_result"
    }
   ],
   "source": [
    "fragdict\n",
    "querydict\n",
    "'Total number of analogue compounds: ' + str(len(combinedpool))"
   ]
  },
  {
   "cell_type": "markdown",
   "metadata": {},
   "source": [
    "### Loading reaction dataframe"
   ]
  },
  {
   "cell_type": "markdown",
   "metadata": {},
   "source": [
    "Now, we need to load the reaction dataframe so we can apply the `checkrxts` function in CandiRxns.py in parallel. The reaction dataframe has already been processed and saved as a pickle file, so it can be loaded. Keep in mind the memory footprint of this is ~18 gb and it takes roughly 1 minute to load so ensure that ample RAM is available."
   ]
  },
  {
   "cell_type": "code",
   "execution_count": 149,
   "metadata": {
    "ExecuteTime": {
     "end_time": "2021-04-21T08:38:00.891969Z",
     "start_time": "2021-04-21T08:36:49.302144Z"
    }
   },
   "outputs": [
    {
     "data": {
      "text/html": [
       "<div>\n",
       "<style scoped>\n",
       "    .dataframe tbody tr th:only-of-type {\n",
       "        vertical-align: middle;\n",
       "    }\n",
       "\n",
       "    .dataframe tbody tr th {\n",
       "        vertical-align: top;\n",
       "    }\n",
       "\n",
       "    .dataframe thead th {\n",
       "        text-align: right;\n",
       "    }\n",
       "</style>\n",
       "<table border=\"1\" class=\"dataframe\">\n",
       "  <thead>\n",
       "    <tr style=\"text-align: right;\">\n",
       "      <th></th>\n",
       "      <th>ReactantID</th>\n",
       "      <th>ProductID</th>\n",
       "      <th>NumRefs</th>\n",
       "      <th>NumSteps</th>\n",
       "      <th>SolventID</th>\n",
       "      <th>ReagentID</th>\n",
       "      <th>CatalystID</th>\n",
       "    </tr>\n",
       "    <tr>\n",
       "      <th>ReactionID</th>\n",
       "      <th></th>\n",
       "      <th></th>\n",
       "      <th></th>\n",
       "      <th></th>\n",
       "      <th></th>\n",
       "      <th></th>\n",
       "      <th></th>\n",
       "    </tr>\n",
       "  </thead>\n",
       "  <tbody>\n",
       "    <tr>\n",
       "      <th>9338524</th>\n",
       "      <td>[2206190, 638342, 9469404]</td>\n",
       "      <td>[9471480]</td>\n",
       "      <td>1</td>\n",
       "      <td>[1]</td>\n",
       "      <td>[1731042]</td>\n",
       "      <td>[605283]</td>\n",
       "      <td>NaN</td>\n",
       "    </tr>\n",
       "    <tr>\n",
       "      <th>25983699</th>\n",
       "      <td>[2208086, 531597]</td>\n",
       "      <td>[15810597]</td>\n",
       "      <td>1</td>\n",
       "      <td>[1]</td>\n",
       "      <td>[106420]</td>\n",
       "      <td>[4267587]</td>\n",
       "      <td>NaN</td>\n",
       "    </tr>\n",
       "    <tr>\n",
       "      <th>36297537</th>\n",
       "      <td>[3530413, 605259]</td>\n",
       "      <td>[12631839]</td>\n",
       "      <td>1</td>\n",
       "      <td>[1]</td>\n",
       "      <td>[102391]</td>\n",
       "      <td>[1209273]</td>\n",
       "      <td>NaN</td>\n",
       "    </tr>\n",
       "    <tr>\n",
       "      <th>43486591</th>\n",
       "      <td>[2238689, 30065685]</td>\n",
       "      <td>[30065603]</td>\n",
       "      <td>1</td>\n",
       "      <td>[1]</td>\n",
       "      <td>[635760]</td>\n",
       "      <td>[26652065]</td>\n",
       "      <td>NaN</td>\n",
       "    </tr>\n",
       "    <tr>\n",
       "      <th>26266068</th>\n",
       "      <td>[11323698, 11342951, 4122948]</td>\n",
       "      <td>[16682893]</td>\n",
       "      <td>1</td>\n",
       "      <td>[1]</td>\n",
       "      <td>NaN</td>\n",
       "      <td>NaN</td>\n",
       "      <td>NaN</td>\n",
       "    </tr>\n",
       "    <tr>\n",
       "      <th>...</th>\n",
       "      <td>...</td>\n",
       "      <td>...</td>\n",
       "      <td>...</td>\n",
       "      <td>...</td>\n",
       "      <td>...</td>\n",
       "      <td>...</td>\n",
       "      <td>...</td>\n",
       "    </tr>\n",
       "    <tr>\n",
       "      <th>3496420</th>\n",
       "      <td>[6265578]</td>\n",
       "      <td>[6260891]</td>\n",
       "      <td>1</td>\n",
       "      <td>[1]</td>\n",
       "      <td>NaN</td>\n",
       "      <td>[1446024]</td>\n",
       "      <td>NaN</td>\n",
       "    </tr>\n",
       "    <tr>\n",
       "      <th>28332966</th>\n",
       "      <td>[16771945, 1908447]</td>\n",
       "      <td>[19025030]</td>\n",
       "      <td>1</td>\n",
       "      <td>[1]</td>\n",
       "      <td>[1730800]</td>\n",
       "      <td>NaN</td>\n",
       "      <td>NaN</td>\n",
       "    </tr>\n",
       "    <tr>\n",
       "      <th>25346578</th>\n",
       "      <td>[15273722, 463688]</td>\n",
       "      <td>[458014]</td>\n",
       "      <td>1</td>\n",
       "      <td>[1]</td>\n",
       "      <td>[3587155, 635680]</td>\n",
       "      <td>NaN</td>\n",
       "      <td>NaN</td>\n",
       "    </tr>\n",
       "    <tr>\n",
       "      <th>3426553</th>\n",
       "      <td>[6077197, 6078168]</td>\n",
       "      <td>[6081072]</td>\n",
       "      <td>1</td>\n",
       "      <td>[1]</td>\n",
       "      <td>NaN</td>\n",
       "      <td>[102719]</td>\n",
       "      <td>NaN</td>\n",
       "    </tr>\n",
       "    <tr>\n",
       "      <th>25929271</th>\n",
       "      <td>[15752734]</td>\n",
       "      <td>[5742244]</td>\n",
       "      <td>2</td>\n",
       "      <td>[1, 1]</td>\n",
       "      <td>[1098229, 1098229]</td>\n",
       "      <td>[11342940, 11342940]</td>\n",
       "      <td>NaN</td>\n",
       "    </tr>\n",
       "  </tbody>\n",
       "</table>\n",
       "<p>17637470 rows × 7 columns</p>\n",
       "</div>"
      ],
      "text/plain": [
       "                               ReactantID   ProductID  NumRefs NumSteps  \\\n",
       "ReactionID                                                                \n",
       "9338524        [2206190, 638342, 9469404]   [9471480]        1      [1]   \n",
       "25983699                [2208086, 531597]  [15810597]        1      [1]   \n",
       "36297537                [3530413, 605259]  [12631839]        1      [1]   \n",
       "43486591              [2238689, 30065685]  [30065603]        1      [1]   \n",
       "26266068    [11323698, 11342951, 4122948]  [16682893]        1      [1]   \n",
       "...                                   ...         ...      ...      ...   \n",
       "3496420                         [6265578]   [6260891]        1      [1]   \n",
       "28332966              [16771945, 1908447]  [19025030]        1      [1]   \n",
       "25346578               [15273722, 463688]    [458014]        1      [1]   \n",
       "3426553                [6077197, 6078168]   [6081072]        1      [1]   \n",
       "25929271                       [15752734]   [5742244]        2   [1, 1]   \n",
       "\n",
       "                     SolventID             ReagentID CatalystID  \n",
       "ReactionID                                                       \n",
       "9338524              [1731042]              [605283]        NaN  \n",
       "25983699              [106420]             [4267587]        NaN  \n",
       "36297537              [102391]             [1209273]        NaN  \n",
       "43486591              [635760]            [26652065]        NaN  \n",
       "26266068                   NaN                   NaN        NaN  \n",
       "...                        ...                   ...        ...  \n",
       "3496420                    NaN             [1446024]        NaN  \n",
       "28332966             [1730800]                   NaN        NaN  \n",
       "25346578     [3587155, 635680]                   NaN        NaN  \n",
       "3426553                    NaN              [102719]        NaN  \n",
       "25929271    [1098229, 1098229]  [11342940, 11342940]        NaN  \n",
       "\n",
       "[17637470 rows x 7 columns]"
      ]
     },
     "execution_count": 149,
     "metadata": {},
     "output_type": "execute_result"
    }
   ],
   "source": [
    "test=pd.read_pickle('/home/aa2133/Impurity-Project/Reaxys_Data/ReactionDB.pickle')\n",
    "test"
   ]
  },
  {
   "cell_type": "code",
   "execution_count": null,
   "metadata": {},
   "outputs": [],
   "source": [
    "\n",
    "# test=pd.read_table(rxnSource,sep='\\t',header=1,usecols=['RX.ID','RX.RXRN','RX.PXRN','RXD.RGTXRN','RX.NUMREF','RXD.SOLXRN','RXD.CATXRN','RXD.STP'],converters={'RX.RXRN': lambda x:list(map(int,x.split(','))) if x else 'NaN',\n",
    "#                                                                                       'RX.PXRN':lambda x:list(map(int,x.split(','))) if x else 'NaN',\n",
    "#                                                                                     'RXD.RGTXRN':lambda x:list(map(int,x.split(','))) if x else 'NaN',\n",
    "#                                                                                     'RX.NUMREF':lambda x:int(float(x)),\n",
    "#                                                                                     'RXD.SOLXRN':lambda x:list(map(int,x.split(','))) if x else 'NaN',\n",
    "#                                                                                     'RXD.CATXRN':lambda x:list(map(int,x.split(','))) if x else 'NaN',\n",
    "#                                                                                     'RXD.STP':lambda x:list(map(int,x.split(','))) if x else 'NaN'})\n",
    "\n",
    "# test.columns=['ReactionID','ReactantID','ProductID','NumRefs','NumSteps','SolventID','ReagentID','CatalystID']\n",
    "\n",
    "# test.index.names=['ReactionID']\n",
    "\n",
    "# columns={'RX.RXRN':'ReactantID','RX.PXRN':'ProductID','RX.NUMREF':'NumRefs',\n",
    "#         'RXD.NYD':'Yield','RXD.T':'Temperature','RXD.P':'Pressure','RXD.PH':'pH',\n",
    "#         'RXD.TIM':'ResidenceTime','RXD.STP':'NumSteps','RXD.SOLXRN':'SolventID',\n",
    "#         'RXD.RGTXRN':'ReagentID','RXD.CATXRN':'CatalystID','RXD.TYP':'ReactionType',\n",
    "#         'CIT.PREPY':'PublicationYear'},index={'RX.ID':'ReactionID'}\n",
    "\n",
    "# test.to_pickle('/home/aa2133/Impurity-Project/Reaxys_Data/ReactionDB.pickle')"
   ]
  },
  {
   "cell_type": "markdown",
   "metadata": {},
   "source": [
    "### Retrieving candidate reactions and reaction data"
   ]
  },
  {
   "cell_type": "markdown",
   "metadata": {},
   "source": [
    "The reaction dataframe is distributed via modin and the ray cluster. The `checkrxts` function will give a mask of boolean values, where 'True' values correspond to reactions where reactants and reagents are present in the aggregated `combinedpool` if `rctonly` is specified as False. `rctonly` is specified as False by default, and is recommended to include reagents in the search, otherwise only reactants will be included, which may lead to unrealistic reactions. \n",
    "\n",
    "The relevance dictates how records with more than one reference are treated, as reagents are imported as one aggregated list. 'loose' keeps records where reactants are analogue,'strictest' keeps records where reactants and ALL reagents are analogue, and 'balanced' calculates roughly how many analogue reagents should be present (1/number of references * total number of reagents) and only keeps records with this number. This leads to 3 possible masks: `candilist`, `candiliststrictest`, and `candilistalgo` corresponding to 'loose', 'strictest' and 'balanced' workflows respectively.\n",
    "\n",
    "The final candidate reaction dataframe, `analoguerxns` is therefore created by applying any of the masks to the reaction dataframe.By default, `candilist` is used as the mask but the other two masks are subsets of this and so can be applied at any stage.\n",
    "\n",
    "Each record has a list of reactant and (maybe) reagent IDs which need to be used to search the substance database for corresponding smiles. These are used as inputs to the `getcompdict` function generating dictionaries containing information on reactants (`Rdata`), reagents (`Rgtdata`) and products (`Pdata`). These are joined with `analoguerxns` together with help products (`hc_Dict`) and help reactant (`hc_rct`) dictionaries for each row, completing the final `analoguerxns` dataframe.\n",
    "\n",
    "Like previous steps, the masks and/or `analoguerxns` can be loaded from directory, avoiding rerunning these steps "
   ]
  },
  {
   "cell_type": "code",
   "execution_count": 151,
   "metadata": {
    "ExecuteTime": {
     "end_time": "2021-04-21T09:35:49.370580Z",
     "start_time": "2021-04-21T09:35:49.084733Z"
    }
   },
   "outputs": [],
   "source": [
    "candilist=openpickle(analoguedir+'candilist.pickle')\n",
    "candiliststrictest=openpickle(analoguedir+'candiliststrictest.pickle')\n",
    "candilistalgo=openpickle(analoguedir+'candilistalgo.pickle')"
   ]
  },
  {
   "cell_type": "code",
   "execution_count": 152,
   "metadata": {
    "ExecuteTime": {
     "end_time": "2021-04-21T09:35:53.262703Z",
     "start_time": "2021-04-21T09:35:51.602220Z"
    }
   },
   "outputs": [],
   "source": [
    "analoguerxns=pd.read_pickle(analoguedir+'analogue_rxns.pickle') #In case step is already complete"
   ]
  },
  {
   "cell_type": "code",
   "execution_count": 150,
   "metadata": {
    "ExecuteTime": {
     "end_time": "2021-04-21T08:52:34.279632Z",
     "start_time": "2021-04-21T08:51:57.889266Z"
    }
   },
   "outputs": [
    {
     "name": "stderr",
     "output_type": "stream",
     "text": [
      "UserWarning: Distributing <class 'pandas.core.frame.DataFrame'> object. This may take some time.\n"
     ]
    }
   ],
   "source": [
    "testdask=mpd.DataFrame(test)"
   ]
  },
  {
   "cell_type": "code",
   "execution_count": null,
   "metadata": {},
   "outputs": [],
   "source": [
    "candi=testdask.apply(checkrxts,combinedpool=combinedpool,rctonly=False,axis=1,result_type='reduce')\n",
    "candistrictest=testdask.apply(checkrxts,combinedpool=combinedpool,rctonly=False,relevance='strictest',axis=1,result_type='reduce')\n",
    "candialgo=testdask.apply(checkrxts,combinedpool=combinedpool,rctonly=False,relevance='balanced',axis=1,result_type='reduce')\n",
    "candi=pd.Series(data=candi.values,index=candi.index) #Remove this if want to use modin/distributed throughout\n",
    "candistrictest=pd.Series(data=candistrictest.values,index=candistrictest.index) #Remove this if want to use modin/distributed throughout\n",
    "candialgo=pd.Series(data=candialgo.values,index=candialgo.index) #Remove this if want to use modin/distributed throughout"
   ]
  },
  {
   "cell_type": "code",
   "execution_count": null,
   "metadata": {},
   "outputs": [],
   "source": [
    "candilist=candi[candi.values==True].index #loose\n",
    "candiliststrictest=candistrictest[candistrictest.values==True].index\n",
    "candilistalgo=candialgo[candialgo.values==True].index"
   ]
  },
  {
   "cell_type": "code",
   "execution_count": null,
   "metadata": {},
   "outputs": [],
   "source": [
    "writepickle(candilist,analoguedir,'candilist')\n",
    "writepickle(candiliststrictest,analoguedir,'candiliststrictest')\n",
    "writepickle(candilistalgo,analoguedir,'candilistalgo')"
   ]
  },
  {
   "cell_type": "code",
   "execution_count": null,
   "metadata": {},
   "outputs": [],
   "source": [
    "analoguerxns=test[test.index.isin(candilist)]"
   ]
  },
  {
   "cell_type": "code",
   "execution_count": null,
   "metadata": {},
   "outputs": [],
   "source": [
    "Rdata=analoguerxns.apply(rx,db=db,axis=1)\n",
    "Pdata=analoguerxns.apply(rx,db=db,Rdata=False,Pdata=True,axis=1)\n",
    "Rgtdata=analoguerxns.apply(rx,db=db,Rdata=False,Pdata=False,Rgtdata=True,axis=1)"
   ]
  },
  {
   "cell_type": "code",
   "execution_count": null,
   "metadata": {},
   "outputs": [],
   "source": [
    "analoguerxns=joindf(pd.DataFrame(Rdata,columns=['Rdata']),analoguerxns)\n",
    "analoguerxns=joindf(pd.DataFrame(Pdata,columns=['Pdata']),analoguerxns)\n",
    "analoguerxns=joindf(pd.DataFrame(Rgtdata,columns=['Rgtdata']),analoguerxns)\n",
    "analoguerxns['hc_prod']=[hc_Dict]*len(analoguerxns)\n",
    "analoguerxns['hc_react']=[hc_rct]*len(analoguerxns)"
   ]
  },
  {
   "cell_type": "code",
   "execution_count": 155,
   "metadata": {
    "ExecuteTime": {
     "end_time": "2021-04-21T09:49:05.676058Z",
     "start_time": "2021-04-21T09:49:05.040686Z"
    }
   },
   "outputs": [
    {
     "data": {
      "text/html": [
       "<div>\n",
       "<style scoped>\n",
       "    .dataframe tbody tr th:only-of-type {\n",
       "        vertical-align: middle;\n",
       "    }\n",
       "\n",
       "    .dataframe tbody tr th {\n",
       "        vertical-align: top;\n",
       "    }\n",
       "\n",
       "    .dataframe thead th {\n",
       "        text-align: right;\n",
       "    }\n",
       "</style>\n",
       "<table border=\"1\" class=\"dataframe\">\n",
       "  <thead>\n",
       "    <tr style=\"text-align: right;\">\n",
       "      <th></th>\n",
       "      <th>ReactantID</th>\n",
       "      <th>ProductID</th>\n",
       "      <th>NumRefs</th>\n",
       "      <th>NumSteps</th>\n",
       "      <th>SolventID</th>\n",
       "      <th>ReagentID</th>\n",
       "      <th>CatalystID</th>\n",
       "      <th>Rdata</th>\n",
       "      <th>Pdata</th>\n",
       "      <th>Rgtdata</th>\n",
       "      <th>hc_prod</th>\n",
       "      <th>hc_react</th>\n",
       "    </tr>\n",
       "    <tr>\n",
       "      <th>ReactionID</th>\n",
       "      <th></th>\n",
       "      <th></th>\n",
       "      <th></th>\n",
       "      <th></th>\n",
       "      <th></th>\n",
       "      <th></th>\n",
       "      <th></th>\n",
       "      <th></th>\n",
       "      <th></th>\n",
       "      <th></th>\n",
       "      <th></th>\n",
       "      <th></th>\n",
       "    </tr>\n",
       "  </thead>\n",
       "  <tbody>\n",
       "    <tr>\n",
       "      <th>919383</th>\n",
       "      <td>[1112850]</td>\n",
       "      <td>[1122996, 1123137]</td>\n",
       "      <td>1</td>\n",
       "      <td>[1]</td>\n",
       "      <td>NaN</td>\n",
       "      <td>[3587191, 506007]</td>\n",
       "      <td>NaN</td>\n",
       "      <td>{1112850: {'atomdict': {'C': 15, 'N': 1, 'O': ...</td>\n",
       "      <td>{1123137: {'atomdict': {'C': 15, 'N': 1, 'O': ...</td>\n",
       "      <td>{506007: {'atomdict': {'C': 2, 'O': 2, 'H': 4}...</td>\n",
       "      <td>{0: {'atomdict': {'O': 1, 'H': 2}, 'charge': 0...</td>\n",
       "      <td>{0: {'atomdict': {'O': 1, 'H': 2}, 'charge': 0...</td>\n",
       "    </tr>\n",
       "    <tr>\n",
       "      <th>22978480</th>\n",
       "      <td>[11875039]</td>\n",
       "      <td>[11874805]</td>\n",
       "      <td>1</td>\n",
       "      <td>[1]</td>\n",
       "      <td>[742035]</td>\n",
       "      <td>NaN</td>\n",
       "      <td>NaN</td>\n",
       "      <td>{11875039: {'atomdict': {'C': 29, 'O': 4, 'N':...</td>\n",
       "      <td>{11874805: {'atomdict': {'C': 24, 'O': 2, 'N':...</td>\n",
       "      <td>{}</td>\n",
       "      <td>{0: {'atomdict': {'O': 1, 'H': 2}, 'charge': 0...</td>\n",
       "      <td>{0: {'atomdict': {'O': 1, 'H': 2}, 'charge': 0...</td>\n",
       "    </tr>\n",
       "    <tr>\n",
       "      <th>37907065</th>\n",
       "      <td>[2516323]</td>\n",
       "      <td>[3088396]</td>\n",
       "      <td>2</td>\n",
       "      <td>[1, 1]</td>\n",
       "      <td>[1730800, 1730800]</td>\n",
       "      <td>[11591389, 11323289]</td>\n",
       "      <td>NaN</td>\n",
       "      <td>{2516323: {'atomdict': {'H': 10, 'C': 9, 'O': ...</td>\n",
       "      <td>{3088396: {'atomdict': {'H': 8, 'C': 9, 'O': 1...</td>\n",
       "      <td>{11323289: {'atomdict': {'O': 2, 'Mn': 1, 'H':...</td>\n",
       "      <td>{0: {'atomdict': {'O': 1, 'H': 2}, 'charge': 0...</td>\n",
       "      <td>{0: {'atomdict': {'O': 1, 'H': 2}, 'charge': 0...</td>\n",
       "    </tr>\n",
       "    <tr>\n",
       "      <th>2787424</th>\n",
       "      <td>[1294692]</td>\n",
       "      <td>[1283233]</td>\n",
       "      <td>2</td>\n",
       "      <td>[1, 4]</td>\n",
       "      <td>[1098229, 1730800, 1098229, 605264, 605365]</td>\n",
       "      <td>[4267587, 103493, 103853, 3592982, 3764305]</td>\n",
       "      <td>[472690]</td>\n",
       "      <td>{1294692: {'atomdict': {'O': 5, 'C': 21, 'H': ...</td>\n",
       "      <td>{1283233: {'atomdict': {'O': 4, 'C': 8, 'H': 1...</td>\n",
       "      <td>{4267587: {'atomdict': {'O': 3, 'C': 1, 'K': 1...</td>\n",
       "      <td>{0: {'atomdict': {'O': 1, 'H': 2}, 'charge': 0...</td>\n",
       "      <td>{0: {'atomdict': {'O': 1, 'H': 2}, 'charge': 0...</td>\n",
       "    </tr>\n",
       "    <tr>\n",
       "      <th>9433284</th>\n",
       "      <td>[9519516]</td>\n",
       "      <td>[116595]</td>\n",
       "      <td>2</td>\n",
       "      <td>[1, 2]</td>\n",
       "      <td>[3587155, 3587155, 3587155]</td>\n",
       "      <td>[1098214, 11342940, 1098214, 3587218]</td>\n",
       "      <td>NaN</td>\n",
       "      <td>{9519516: {'atomdict': {'C': 18, 'N': 2, 'O': ...</td>\n",
       "      <td>{116595: {'atomdict': {'C': 9, 'N': 2, 'H': 10...</td>\n",
       "      <td>{3587218: {'atomdict': {'O': 2}, 'charge': 0, ...</td>\n",
       "      <td>{0: {'atomdict': {'O': 1, 'H': 2}, 'charge': 0...</td>\n",
       "      <td>{0: {'atomdict': {'O': 1, 'H': 2}, 'charge': 0...</td>\n",
       "    </tr>\n",
       "    <tr>\n",
       "      <th>...</th>\n",
       "      <td>...</td>\n",
       "      <td>...</td>\n",
       "      <td>...</td>\n",
       "      <td>...</td>\n",
       "      <td>...</td>\n",
       "      <td>...</td>\n",
       "      <td>...</td>\n",
       "      <td>...</td>\n",
       "      <td>...</td>\n",
       "      <td>...</td>\n",
       "      <td>...</td>\n",
       "      <td>...</td>\n",
       "    </tr>\n",
       "    <tr>\n",
       "      <th>10138488</th>\n",
       "      <td>[5808676]</td>\n",
       "      <td>[10248056]</td>\n",
       "      <td>2</td>\n",
       "      <td>[1, 1]</td>\n",
       "      <td>[1718733]</td>\n",
       "      <td>[4933273, 4933273]</td>\n",
       "      <td>NaN</td>\n",
       "      <td>{5808676: {'atomdict': {'C': 7, 'O': 4, 'N': 1...</td>\n",
       "      <td>{10248056: {'atomdict': {'N': 3, 'C': 5, 'O': ...</td>\n",
       "      <td>{4933273: {'atomdict': {'N': 2, 'O': 1, 'H': 6...</td>\n",
       "      <td>{0: {'atomdict': {'O': 1, 'H': 2}, 'charge': 0...</td>\n",
       "      <td>{0: {'atomdict': {'O': 1, 'H': 2}, 'charge': 0...</td>\n",
       "    </tr>\n",
       "    <tr>\n",
       "      <th>30238245</th>\n",
       "      <td>[21161020]</td>\n",
       "      <td>[9784271]</td>\n",
       "      <td>1</td>\n",
       "      <td>[1]</td>\n",
       "      <td>NaN</td>\n",
       "      <td>NaN</td>\n",
       "      <td>NaN</td>\n",
       "      <td>{21161020: {'atomdict': {'C': 17, 'O': 3, 'H':...</td>\n",
       "      <td>{9784271: {'atomdict': {'C': 17, 'O': 2, 'H': ...</td>\n",
       "      <td>{}</td>\n",
       "      <td>{0: {'atomdict': {'O': 1, 'H': 2}, 'charge': 0...</td>\n",
       "      <td>{0: {'atomdict': {'O': 1, 'H': 2}, 'charge': 0...</td>\n",
       "    </tr>\n",
       "    <tr>\n",
       "      <th>40488364</th>\n",
       "      <td>[144323, 1790157]</td>\n",
       "      <td>[28382467]</td>\n",
       "      <td>1</td>\n",
       "      <td>[1]</td>\n",
       "      <td>[3587155]</td>\n",
       "      <td>NaN</td>\n",
       "      <td>NaN</td>\n",
       "      <td>{144323: {'atomdict': {'N': 4, 'C': 4, 'O': 2,...</td>\n",
       "      <td>{28382467: {'atomdict': {'O': 8, 'N': 7, 'C': ...</td>\n",
       "      <td>{}</td>\n",
       "      <td>{0: {'atomdict': {'O': 1, 'H': 2}, 'charge': 0...</td>\n",
       "      <td>{0: {'atomdict': {'O': 1, 'H': 2}, 'charge': 0...</td>\n",
       "    </tr>\n",
       "    <tr>\n",
       "      <th>341372</th>\n",
       "      <td>[2251461]</td>\n",
       "      <td>[2360631]</td>\n",
       "      <td>2</td>\n",
       "      <td>[1, 1]</td>\n",
       "      <td>[1730800]</td>\n",
       "      <td>[1098295, 3903060, 113916, 610776]</td>\n",
       "      <td>NaN</td>\n",
       "      <td>{2251461: {'atomdict': {'C': 10, 'O': 2, 'H': ...</td>\n",
       "      <td>{2360631: {'atomdict': {'C': 10, 'O': 1, 'Br':...</td>\n",
       "      <td>{113916: {'atomdict': {'O': 2, 'C': 4, 'N': 1,...</td>\n",
       "      <td>{0: {'atomdict': {'O': 1, 'H': 2}, 'charge': 0...</td>\n",
       "      <td>{0: {'atomdict': {'O': 1, 'H': 2}, 'charge': 0...</td>\n",
       "    </tr>\n",
       "    <tr>\n",
       "      <th>23509800</th>\n",
       "      <td>[10717662]</td>\n",
       "      <td>[12328192]</td>\n",
       "      <td>2</td>\n",
       "      <td>[1, 1]</td>\n",
       "      <td>[1696894, 1696894]</td>\n",
       "      <td>[1098214, 1098214]</td>\n",
       "      <td>NaN</td>\n",
       "      <td>{10717662: {'atomdict': {'C': 22, 'O': 3, 'N':...</td>\n",
       "      <td>{12328192: {'atomdict': {'C': 22, 'O': 3, 'N':...</td>\n",
       "      <td>{1098214: {'atomdict': {'Cl': 1, 'H': 1}, 'cha...</td>\n",
       "      <td>{0: {'atomdict': {'O': 1, 'H': 2}, 'charge': 0...</td>\n",
       "      <td>{0: {'atomdict': {'O': 1, 'H': 2}, 'charge': 0...</td>\n",
       "    </tr>\n",
       "  </tbody>\n",
       "</table>\n",
       "<p>123644 rows × 12 columns</p>\n",
       "</div>"
      ],
      "text/plain": [
       "                   ReactantID           ProductID  NumRefs NumSteps  \\\n",
       "ReactionID                                                            \n",
       "919383              [1112850]  [1122996, 1123137]        1      [1]   \n",
       "22978480           [11875039]          [11874805]        1      [1]   \n",
       "37907065            [2516323]           [3088396]        2   [1, 1]   \n",
       "2787424             [1294692]           [1283233]        2   [1, 4]   \n",
       "9433284             [9519516]            [116595]        2   [1, 2]   \n",
       "...                       ...                 ...      ...      ...   \n",
       "10138488            [5808676]          [10248056]        2   [1, 1]   \n",
       "30238245           [21161020]           [9784271]        1      [1]   \n",
       "40488364    [144323, 1790157]          [28382467]        1      [1]   \n",
       "341372              [2251461]           [2360631]        2   [1, 1]   \n",
       "23509800           [10717662]          [12328192]        2   [1, 1]   \n",
       "\n",
       "                                              SolventID  \\\n",
       "ReactionID                                                \n",
       "919383                                              NaN   \n",
       "22978480                                       [742035]   \n",
       "37907065                             [1730800, 1730800]   \n",
       "2787424     [1098229, 1730800, 1098229, 605264, 605365]   \n",
       "9433284                     [3587155, 3587155, 3587155]   \n",
       "...                                                 ...   \n",
       "10138488                                      [1718733]   \n",
       "30238245                                            NaN   \n",
       "40488364                                      [3587155]   \n",
       "341372                                        [1730800]   \n",
       "23509800                             [1696894, 1696894]   \n",
       "\n",
       "                                              ReagentID CatalystID  \\\n",
       "ReactionID                                                           \n",
       "919383                                [3587191, 506007]        NaN   \n",
       "22978480                                            NaN        NaN   \n",
       "37907065                           [11591389, 11323289]        NaN   \n",
       "2787424     [4267587, 103493, 103853, 3592982, 3764305]   [472690]   \n",
       "9433284           [1098214, 11342940, 1098214, 3587218]        NaN   \n",
       "...                                                 ...        ...   \n",
       "10138488                             [4933273, 4933273]        NaN   \n",
       "30238245                                            NaN        NaN   \n",
       "40488364                                            NaN        NaN   \n",
       "341372               [1098295, 3903060, 113916, 610776]        NaN   \n",
       "23509800                             [1098214, 1098214]        NaN   \n",
       "\n",
       "                                                        Rdata  \\\n",
       "ReactionID                                                      \n",
       "919383      {1112850: {'atomdict': {'C': 15, 'N': 1, 'O': ...   \n",
       "22978480    {11875039: {'atomdict': {'C': 29, 'O': 4, 'N':...   \n",
       "37907065    {2516323: {'atomdict': {'H': 10, 'C': 9, 'O': ...   \n",
       "2787424     {1294692: {'atomdict': {'O': 5, 'C': 21, 'H': ...   \n",
       "9433284     {9519516: {'atomdict': {'C': 18, 'N': 2, 'O': ...   \n",
       "...                                                       ...   \n",
       "10138488    {5808676: {'atomdict': {'C': 7, 'O': 4, 'N': 1...   \n",
       "30238245    {21161020: {'atomdict': {'C': 17, 'O': 3, 'H':...   \n",
       "40488364    {144323: {'atomdict': {'N': 4, 'C': 4, 'O': 2,...   \n",
       "341372      {2251461: {'atomdict': {'C': 10, 'O': 2, 'H': ...   \n",
       "23509800    {10717662: {'atomdict': {'C': 22, 'O': 3, 'N':...   \n",
       "\n",
       "                                                        Pdata  \\\n",
       "ReactionID                                                      \n",
       "919383      {1123137: {'atomdict': {'C': 15, 'N': 1, 'O': ...   \n",
       "22978480    {11874805: {'atomdict': {'C': 24, 'O': 2, 'N':...   \n",
       "37907065    {3088396: {'atomdict': {'H': 8, 'C': 9, 'O': 1...   \n",
       "2787424     {1283233: {'atomdict': {'O': 4, 'C': 8, 'H': 1...   \n",
       "9433284     {116595: {'atomdict': {'C': 9, 'N': 2, 'H': 10...   \n",
       "...                                                       ...   \n",
       "10138488    {10248056: {'atomdict': {'N': 3, 'C': 5, 'O': ...   \n",
       "30238245    {9784271: {'atomdict': {'C': 17, 'O': 2, 'H': ...   \n",
       "40488364    {28382467: {'atomdict': {'O': 8, 'N': 7, 'C': ...   \n",
       "341372      {2360631: {'atomdict': {'C': 10, 'O': 1, 'Br':...   \n",
       "23509800    {12328192: {'atomdict': {'C': 22, 'O': 3, 'N':...   \n",
       "\n",
       "                                                      Rgtdata  \\\n",
       "ReactionID                                                      \n",
       "919383      {506007: {'atomdict': {'C': 2, 'O': 2, 'H': 4}...   \n",
       "22978480                                                   {}   \n",
       "37907065    {11323289: {'atomdict': {'O': 2, 'Mn': 1, 'H':...   \n",
       "2787424     {4267587: {'atomdict': {'O': 3, 'C': 1, 'K': 1...   \n",
       "9433284     {3587218: {'atomdict': {'O': 2}, 'charge': 0, ...   \n",
       "...                                                       ...   \n",
       "10138488    {4933273: {'atomdict': {'N': 2, 'O': 1, 'H': 6...   \n",
       "30238245                                                   {}   \n",
       "40488364                                                   {}   \n",
       "341372      {113916: {'atomdict': {'O': 2, 'C': 4, 'N': 1,...   \n",
       "23509800    {1098214: {'atomdict': {'Cl': 1, 'H': 1}, 'cha...   \n",
       "\n",
       "                                                      hc_prod  \\\n",
       "ReactionID                                                      \n",
       "919383      {0: {'atomdict': {'O': 1, 'H': 2}, 'charge': 0...   \n",
       "22978480    {0: {'atomdict': {'O': 1, 'H': 2}, 'charge': 0...   \n",
       "37907065    {0: {'atomdict': {'O': 1, 'H': 2}, 'charge': 0...   \n",
       "2787424     {0: {'atomdict': {'O': 1, 'H': 2}, 'charge': 0...   \n",
       "9433284     {0: {'atomdict': {'O': 1, 'H': 2}, 'charge': 0...   \n",
       "...                                                       ...   \n",
       "10138488    {0: {'atomdict': {'O': 1, 'H': 2}, 'charge': 0...   \n",
       "30238245    {0: {'atomdict': {'O': 1, 'H': 2}, 'charge': 0...   \n",
       "40488364    {0: {'atomdict': {'O': 1, 'H': 2}, 'charge': 0...   \n",
       "341372      {0: {'atomdict': {'O': 1, 'H': 2}, 'charge': 0...   \n",
       "23509800    {0: {'atomdict': {'O': 1, 'H': 2}, 'charge': 0...   \n",
       "\n",
       "                                                     hc_react  \n",
       "ReactionID                                                     \n",
       "919383      {0: {'atomdict': {'O': 1, 'H': 2}, 'charge': 0...  \n",
       "22978480    {0: {'atomdict': {'O': 1, 'H': 2}, 'charge': 0...  \n",
       "37907065    {0: {'atomdict': {'O': 1, 'H': 2}, 'charge': 0...  \n",
       "2787424     {0: {'atomdict': {'O': 1, 'H': 2}, 'charge': 0...  \n",
       "9433284     {0: {'atomdict': {'O': 1, 'H': 2}, 'charge': 0...  \n",
       "...                                                       ...  \n",
       "10138488    {0: {'atomdict': {'O': 1, 'H': 2}, 'charge': 0...  \n",
       "30238245    {0: {'atomdict': {'O': 1, 'H': 2}, 'charge': 0...  \n",
       "40488364    {0: {'atomdict': {'O': 1, 'H': 2}, 'charge': 0...  \n",
       "341372      {0: {'atomdict': {'O': 1, 'H': 2}, 'charge': 0...  \n",
       "23509800    {0: {'atomdict': {'O': 1, 'H': 2}, 'charge': 0...  \n",
       "\n",
       "[123644 rows x 12 columns]"
      ]
     },
     "execution_count": 155,
     "metadata": {},
     "output_type": "execute_result"
    }
   ],
   "source": [
    "analoguerxns"
   ]
  },
  {
   "cell_type": "code",
   "execution_count": null,
   "metadata": {},
   "outputs": [],
   "source": [
    "pd.to_pickle(analoguerxns,analoguedir+'analogue_rxns.pickle') #analoguerxns"
   ]
  },
  {
   "cell_type": "markdown",
   "metadata": {},
   "source": [
    "## Balancing reactions"
   ]
  },
  {
   "cell_type": "markdown",
   "metadata": {},
   "source": [
    "All data for balancing reactions is already within `analoguerxns` so all that remains is distributing `analoguerxns` using modin and ray, and applying `balance_analogue` in 1.7 to each row. This will represent the reaction (reactants only), and use the `balance_stoichiometry` function in chempy to balance the reaction. If this fails, atom types and count differences are taken between the products and reactants to determine which side of the reaction has a deficit of atoms. If the deficit is positive, reagents that match the deficit and added to the LHS. If there are none, help reactants are added. If the deficit is negative, help products that match the deficit are added to the RHS. If the reaction can be balanced, the balances string is outputted, and reaction/product data is updated. If there are errors, or the reaction cannot be balanced, the output message will reflect this."
   ]
  },
  {
   "cell_type": "code",
   "execution_count": 199,
   "metadata": {
    "ExecuteTime": {
     "end_time": "2021-04-22T02:19:12.532414Z",
     "start_time": "2021-04-22T02:19:11.499304Z"
    }
   },
   "outputs": [],
   "source": [
    "balrxns=pd.read_pickle(analoguedir+'balanced_rxns.pickle') #In case step is already complete"
   ]
  },
  {
   "cell_type": "code",
   "execution_count": 194,
   "metadata": {
    "ExecuteTime": {
     "end_time": "2021-04-21T18:46:42.897785Z",
     "start_time": "2021-04-21T18:46:42.127504Z"
    },
    "scrolled": true
   },
   "outputs": [
    {
     "name": "stdout",
     "output_type": "stream",
     "text": [
      "Reaction successfully balanced\n"
     ]
    },
    {
     "data": {
      "text/plain": [
       "('C[C@@H](CO)CCC[C@@H](C)[C@H]1CC[C@H]2[C@@H]3CC=C4C[C@@H](O[Si](C)(C)C(C)(C)C)CC[C@]4(C)[C@H]3CC[C@@]21C>>C[C@@H](C=O)CCC[C@@H](C)[C@H]1CC[C@H]2[C@@H]3CC=C4C[C@@H](O[Si](C)(C)C(C)(C)C)CC[C@]4(C)[C@H]3CC[C@@]21C',\n",
       " 'C[C@@H](CO)CCC[C@@H](C)[C@H]1CC[C@H]2[C@@H]3CC=C4C[C@@H](O[Si](C)(C)C(C)(C)C)CC[C@]4(C)[C@H]3CC[C@@]21C>>C[C@@H](C=O)CCC[C@@H](C)[C@H]1CC[C@H]2[C@@H]3CC=C4C[C@@H](O[Si](C)(C)C(C)(C)C)CC[C@]4(C)[C@H]3CC[C@@]21C.[H][H]',\n",
       " 'Balanced with help product(s): H2',\n",
       " [7725168],\n",
       " [18892436],\n",
       " [],\n",
       " [1],\n",
       " {7725168: {'atomdict': {'C': 33, 'O': 2, 'Si': 1, 'H': 60},\n",
       "   'charge': 0,\n",
       "   'smiles': 'C[C@@H](CO)CCC[C@@H](C)[C@H]1CC[C@H]2[C@@H]3CC=C4C[C@@H](O[Si](C)(C)C(C)(C)C)CC[C@]4(C)[C@H]3CC[C@@]21C',\n",
       "   'formula': 'C33H60O2Si',\n",
       "   'count': 1}},\n",
       " {18892436: {'atomdict': {'C': 33, 'O': 2, 'Si': 1, 'H': 58},\n",
       "   'charge': 0,\n",
       "   'smiles': 'C[C@@H](C=O)CCC[C@@H](C)[C@H]1CC[C@H]2[C@@H]3CC=C4C[C@@H](O[Si](C)(C)C(C)(C)C)CC[C@]4(C)[C@H]3CC[C@@]21C',\n",
       "   'formula': 'C33H58O2Si',\n",
       "   'count': 1},\n",
       "  1: {'atomdict': {'H': 2},\n",
       "   'charge': 0,\n",
       "   'smiles': '[H][H]',\n",
       "   'formula': 'H2',\n",
       "   'count': 1,\n",
       "   'rxs_ids': [28182329, 16514685, 23163263, 27944166, 3587189, 16818691]}})"
      ]
     },
     "execution_count": 194,
     "metadata": {},
     "output_type": "execute_result"
    }
   ],
   "source": [
    "balance_analogue(analoguerxns.iloc[200])"
   ]
  },
  {
   "cell_type": "code",
   "execution_count": 195,
   "metadata": {
    "ExecuteTime": {
     "end_time": "2021-04-21T19:45:54.850548Z",
     "start_time": "2021-04-21T18:47:12.695448Z"
    }
   },
   "outputs": [
    {
     "name": "stderr",
     "output_type": "stream",
     "text": [
      "UserWarning: Distributing <class 'pandas.core.frame.DataFrame'> object. This may take some time.\n",
      "UserWarning: User-defined function verification is still under development in Modin. The function provided is not verified.\n"
     ]
    }
   ],
   "source": [
    "import modin.pandas as mpd\n",
    "analoguerxns2=mpd.DataFrame(analoguerxns)\n",
    "balrxns=analoguerxns2.apply(balance_analogue,axis=1,result_type='reduce')"
   ]
  },
  {
   "cell_type": "code",
   "execution_count": 205,
   "metadata": {
    "ExecuteTime": {
     "end_time": "2021-04-22T02:23:04.386915Z",
     "start_time": "2021-04-22T02:23:01.705616Z"
    }
   },
   "outputs": [],
   "source": [
    "balrxns=pd.Series(data=balrxns.values,index=balrxns.index) #Optional convert modin back to pandas"
   ]
  },
  {
   "cell_type": "code",
   "execution_count": 262,
   "metadata": {
    "ExecuteTime": {
     "end_time": "2021-04-22T05:20:32.160116Z",
     "start_time": "2021-04-22T05:20:30.689316Z"
    }
   },
   "outputs": [],
   "source": [
    "pd.to_pickle(balrxns,analoguedir+'balanced_rxns.pickle') #analoguerxns"
   ]
  },
  {
   "cell_type": "markdown",
   "metadata": {},
   "source": [
    "The balanced reactions can be visualized as shown below"
   ]
  },
  {
   "cell_type": "code",
   "execution_count": 263,
   "metadata": {
    "ExecuteTime": {
     "end_time": "2021-04-22T05:22:29.303074Z",
     "start_time": "2021-04-22T05:22:29.264903Z"
    }
   },
   "outputs": [],
   "source": [
    "import ipywidgets as widgets\n",
    "def visoutput(res):\n",
    "    a = widgets.IntSlider(min=0,max=len(res)-1,description='Row Number')\n",
    "# b = widgets.IntSlider(description='b')\n",
    "# c = widgets.IntSlider(description='c')\n",
    "    def f(a):\n",
    "        print(res.index[a])\n",
    "        print(res.iloc[a])\n",
    "        print(test.loc[res.index[a]])\n",
    "        if res.iloc[a][1]!='Error':\n",
    "            display(drawReaction(rdChemReactions.ReactionFromSmarts(res.iloc[a][0],useSmiles=True)))\n",
    "            display(drawReaction(rdChemReactions.ReactionFromSmarts(res.iloc[a][1],useSmiles=True)))\n",
    "            mappedrxn=maprxn([res.iloc[a][1]])\n",
    "            display(drawReaction(rdChemReactions.ReactionFromSmarts(mappedrxn[0]['mapped_rxn'],useSmiles=True)))\n",
    "            print(mappedrxn[0]['mapped_rxn'])\n",
    "            print('Confidence Score is '+str(mappedrxn[0]['confidence']))\n",
    "        \n",
    "        else:\n",
    "            print('Error')\n",
    "            display(drawReaction(rdChemReactions.ReactionFromSmarts(res.iloc[a][0],useSmiles=True)))\n",
    "\n",
    "        \n",
    "        \n",
    "    out = widgets.interactive_output(f, {'a': a})\n",
    "    display(a)\n",
    "    display(out)\n",
    "# widgets.HBox([widgets.VBox([a]), out])"
   ]
  },
  {
   "cell_type": "code",
   "execution_count": 264,
   "metadata": {
    "ExecuteTime": {
     "end_time": "2021-04-22T05:22:44.923842Z",
     "start_time": "2021-04-22T05:22:39.980560Z"
    }
   },
   "outputs": [
    {
     "data": {
      "application/vnd.jupyter.widget-view+json": {
       "model_id": "9b04667ade5f41028c0813400576936f",
       "version_major": 2,
       "version_minor": 0
      },
      "text/plain": [
       "IntSlider(value=0, description='Row Number', max=123643)"
      ]
     },
     "metadata": {},
     "output_type": "display_data"
    },
    {
     "data": {
      "application/vnd.jupyter.widget-view+json": {
       "model_id": "a27ab9c2ac4a48cbb65db59d5180f8b6",
       "version_major": 2,
       "version_minor": 0
      },
      "text/plain": [
       "Output()"
      ]
     },
     "metadata": {},
     "output_type": "display_data"
    }
   ],
   "source": [
    "visoutput(balrxns)"
   ]
  },
  {
   "cell_type": "markdown",
   "metadata": {},
   "source": [
    "## Candidate reaction filtering (I)"
   ]
  },
  {
   "cell_type": "markdown",
   "metadata": {},
   "source": [
    "Having balanced the candidate reactions as best as possible, we can create a dataframe, `candirxns` with the updated reactions. The `msg` column includes information on the status of the balancing. There are four main types of errors. The first is inabiity to balance reactions despite adding relevant help compounds and reagents ('Imbalanced'). The second is invalid balancing where important species were removed in the balancing ('Invalid'). This includes unresolved species with duplicate molecular formulae. The third is inability to resolve or retrieve smiles of one/more reactants and/or products ('Compound'). The last is inability to balance as there is no match for atom deficits within reactants, reagents, help reactants or help products ('Insufficient'). Usually this is because some other species (eg./ solvent) is required or missing.\n",
    "\n",
    "Subsequently, the first filtering stage involves removing all these error-prone records. An argument can be made for keeping imbalanced reactions ('Imbalanced') but valuable byproducts may be missed as the reaction is not entirely complete. With this being said, there are plans to include them in the future."
   ]
  },
  {
   "cell_type": "code",
   "execution_count": null,
   "metadata": {},
   "outputs": [],
   "source": [
    "candirxns=pd.read_pickle(analoguedir+'candidate_rxns.pickle') #In case step is already complete"
   ]
  },
  {
   "cell_type": "code",
   "execution_count": null,
   "metadata": {},
   "outputs": [],
   "source": [
    "candirxnsfilt=pd.read_pickle(analoguedir+'candidate_rxns_filt.pickle') #In case step is already complete"
   ]
  },
  {
   "cell_type": "code",
   "execution_count": 266,
   "metadata": {
    "ExecuteTime": {
     "end_time": "2021-04-22T05:38:38.885402Z",
     "start_time": "2021-04-22T05:38:38.412983Z"
    }
   },
   "outputs": [],
   "source": [
    "candirxns=pd.DataFrame(balrxns,columns=['rxnsmiles'])\n",
    "candirxns[['rxnsmiles0', 'balrxnsmiles','msg','LHS','RHS','hcrct','hcprod','LHSdata','RHSdata']] = pd.DataFrame(candirxns['rxnsmiles'].tolist(), index=candirxns.index)\n",
    "candirxns[['NumRefs','NumSteps','SolventID','CatalystID']]=analoguerxns[['NumRefs','NumSteps','SolventID','CatalystID']]\n",
    "candirxns.drop(columns=['rxnsmiles'],inplace=True)"
   ]
  },
  {
   "cell_type": "code",
   "execution_count": 286,
   "metadata": {
    "ExecuteTime": {
     "end_time": "2021-04-22T06:22:33.719883Z",
     "start_time": "2021-04-22T06:22:33.239764Z"
    }
   },
   "outputs": [],
   "source": [
    "ec0=candirxns.loc[candirxns.msg.str.contains('Imbalanced',na=False)]\n",
    "ec1=candirxns.loc[candirxns.msg.str.contains('Invalid',na=False)]\n",
    "ec2=candirxns.loc[candirxns.msg.str.contains('Compound',na=False) | candirxns.msg.str.contains('index',na=False)]\n",
    "ec3=candirxns.loc[candirxns.msg.str.contains('insufficient',na=False)]"
   ]
  },
  {
   "cell_type": "markdown",
   "metadata": {},
   "source": [
    "Removing records with errors"
   ]
  },
  {
   "cell_type": "code",
   "execution_count": 294,
   "metadata": {
    "ExecuteTime": {
     "end_time": "2021-04-22T13:45:43.889560Z",
     "start_time": "2021-04-22T13:45:43.318670Z"
    }
   },
   "outputs": [],
   "source": [
    "candirxnsfilt=candirxns.loc[candirxns['balrxnsmiles']!='Error']\n",
    "candirxnsfilt=candirxnsfilt[~candirxnsfilt['msg'].str.contains('Imbalanced',na=False)] # Only keep balanced reactions\n",
    "candirxnsfilt=candirxnsfilt[~candirxnsfilt['msg'].str.contains('Invalid',na=False)]"
   ]
  },
  {
   "cell_type": "code",
   "execution_count": 296,
   "metadata": {
    "ExecuteTime": {
     "end_time": "2021-04-22T13:47:11.630955Z",
     "start_time": "2021-04-22T13:47:10.692596Z"
    }
   },
   "outputs": [],
   "source": [
    "pd.to_pickle(candirxnsfilt,analoguedir+'candidate_rxns_filt.pickle') #ONLY BALANCED REACTIONS - change if less results obtained"
   ]
  },
  {
   "cell_type": "code",
   "execution_count": 295,
   "metadata": {
    "ExecuteTime": {
     "end_time": "2021-04-22T13:46:46.802860Z",
     "start_time": "2021-04-22T13:46:46.521589Z"
    }
   },
   "outputs": [
    {
     "data": {
      "text/plain": [
       "'Percentage of balanced reactions: 42.13'"
      ]
     },
     "execution_count": 295,
     "metadata": {},
     "output_type": "execute_result"
    },
    {
     "data": {
      "text/plain": [
       "'Percentage of imbalanced reactions: 48.38'"
      ]
     },
     "execution_count": 295,
     "metadata": {},
     "output_type": "execute_result"
    },
    {
     "data": {
      "text/plain": [
       "'Percentage of invalid balanced reactions: 1.16'"
      ]
     },
     "execution_count": 295,
     "metadata": {},
     "output_type": "execute_result"
    },
    {
     "data": {
      "text/plain": [
       "'Percentage of invalid compound reactions: 0.5'"
      ]
     },
     "execution_count": 295,
     "metadata": {},
     "output_type": "execute_result"
    },
    {
     "data": {
      "text/plain": [
       "'Percentage of insufficient compound reactions: 7.84'"
      ]
     },
     "execution_count": 295,
     "metadata": {},
     "output_type": "execute_result"
    }
   ],
   "source": [
    "'Percentage of balanced reactions: '+str(round(len(candirxnsfilt.index)/len(candirxns.index)*100,2))\n",
    "'Percentage of imbalanced reactions: '+str(round(len(ec0.index)/len(candirxns.index)*100,2))\n",
    "'Percentage of invalid balanced reactions: '+str(round(len(ec1.index)/len(candirxns.index)*100,2))\n",
    "'Percentage of invalid compound reactions: '+str(round(len(ec2.index)/len(candirxns.index)*100,2))\n",
    "'Percentage of insufficient compound reactions: '+str(round(len(ec3.index)/len(candirxns.index)*100,2))\n",
    "\n"
   ]
  },
  {
   "cell_type": "code",
   "execution_count": 297,
   "metadata": {
    "ExecuteTime": {
     "end_time": "2021-04-22T13:47:35.334592Z",
     "start_time": "2021-04-22T13:47:35.140837Z"
    }
   },
   "outputs": [
    {
     "data": {
      "text/html": [
       "<div>\n",
       "<style scoped>\n",
       "    .dataframe tbody tr th:only-of-type {\n",
       "        vertical-align: middle;\n",
       "    }\n",
       "\n",
       "    .dataframe tbody tr th {\n",
       "        vertical-align: top;\n",
       "    }\n",
       "\n",
       "    .dataframe thead th {\n",
       "        text-align: right;\n",
       "    }\n",
       "</style>\n",
       "<table border=\"1\" class=\"dataframe\">\n",
       "  <thead>\n",
       "    <tr style=\"text-align: right;\">\n",
       "      <th></th>\n",
       "      <th>rxnsmiles0</th>\n",
       "      <th>balrxnsmiles</th>\n",
       "      <th>msg</th>\n",
       "      <th>LHS</th>\n",
       "      <th>RHS</th>\n",
       "      <th>hcrct</th>\n",
       "      <th>hcprod</th>\n",
       "      <th>LHSdata</th>\n",
       "      <th>RHSdata</th>\n",
       "      <th>NumRefs</th>\n",
       "      <th>NumSteps</th>\n",
       "      <th>SolventID</th>\n",
       "      <th>CatalystID</th>\n",
       "    </tr>\n",
       "    <tr>\n",
       "      <th>ReactionID</th>\n",
       "      <th></th>\n",
       "      <th></th>\n",
       "      <th></th>\n",
       "      <th></th>\n",
       "      <th></th>\n",
       "      <th></th>\n",
       "      <th></th>\n",
       "      <th></th>\n",
       "      <th></th>\n",
       "      <th></th>\n",
       "      <th></th>\n",
       "      <th></th>\n",
       "      <th></th>\n",
       "    </tr>\n",
       "  </thead>\n",
       "  <tbody>\n",
       "    <tr>\n",
       "      <th>919383</th>\n",
       "      <td>Cc1ccc(C)c2c1C=Nc1ccccc1O2&gt;&gt;Cc1ccc(C)c(-c2nc3c...</td>\n",
       "      <td>Cc1ccc(C)c2c1C=Nc1ccccc1O2.Cc1ccc(C)c2c1C=Nc1c...</td>\n",
       "      <td>Balanced with species: 1112850,1112850,3587191...</td>\n",
       "      <td>[1112850, 1112850, 1112850, 1112850, 3587191, ...</td>\n",
       "      <td>[1123137, 1123137, 1122996, 1122996]</td>\n",
       "      <td>[]</td>\n",
       "      <td>[20]</td>\n",
       "      <td>{1112850: {'atomdict': {'C': 15, 'N': 1, 'O': ...</td>\n",
       "      <td>{1123137: {'atomdict': {'C': 15, 'N': 1, 'O': ...</td>\n",
       "      <td>1</td>\n",
       "      <td>[1]</td>\n",
       "      <td>NaN</td>\n",
       "      <td>NaN</td>\n",
       "    </tr>\n",
       "    <tr>\n",
       "      <th>37907065</th>\n",
       "      <td>[2H]/C(=C\\CO)c1ccccc1&gt;&gt;[2H]/C(=C\\C=O)c1ccccc1</td>\n",
       "      <td>[2H]/C(=C\\CO)c1ccccc1&gt;&gt;[2H]/C(=C\\C=O)c1ccccc1....</td>\n",
       "      <td>Balanced with help product(s): H2</td>\n",
       "      <td>[2516323]</td>\n",
       "      <td>[3088396]</td>\n",
       "      <td>[]</td>\n",
       "      <td>[1]</td>\n",
       "      <td>{2516323: {'atomdict': {'H': 10, 'C': 9, 'O': ...</td>\n",
       "      <td>{3088396: {'atomdict': {'H': 8, 'C': 9, 'O': 1...</td>\n",
       "      <td>2</td>\n",
       "      <td>[1, 1]</td>\n",
       "      <td>[1730800, 1730800]</td>\n",
       "      <td>NaN</td>\n",
       "    </tr>\n",
       "    <tr>\n",
       "      <th>3001280</th>\n",
       "      <td>COc1ccc([C@@H]2CCc3cc(OC(C)C)c(OC)cc3[C@@H]2N(...</td>\n",
       "      <td>COc1ccc([C@@H]2CCc3cc(OC(C)C)c(OC)cc3[C@@H]2N(...</td>\n",
       "      <td>Balanced with help product(s): H2</td>\n",
       "      <td>[5161373]</td>\n",
       "      <td>[5147858]</td>\n",
       "      <td>[]</td>\n",
       "      <td>[1]</td>\n",
       "      <td>{5161373: {'atomdict': {'C': 24, 'O': 5, 'N': ...</td>\n",
       "      <td>{5147858: {'atomdict': {'C': 24, 'O': 5, 'N': ...</td>\n",
       "      <td>2</td>\n",
       "      <td>[1, 1]</td>\n",
       "      <td>[969212, 969212]</td>\n",
       "      <td>NaN</td>\n",
       "    </tr>\n",
       "    <tr>\n",
       "      <th>740372</th>\n",
       "      <td>NNc1ccc([N+](=O)[O-])cc1[N+](=O)[O-].Cc1cc(I)c...</td>\n",
       "      <td>NNc1ccc([N+](=O)[O-])cc1[N+](=O)[O-].Cc1cc(I)c...</td>\n",
       "      <td>Balanced with help product(s): H2O</td>\n",
       "      <td>[615586, 3342010]</td>\n",
       "      <td>[3513644]</td>\n",
       "      <td>[]</td>\n",
       "      <td>[0]</td>\n",
       "      <td>{615586: {'atomdict': {'N': 4, 'C': 6, 'O': 4,...</td>\n",
       "      <td>{3513644: {'atomdict': {'C': 19, 'I': 2, 'O': ...</td>\n",
       "      <td>1</td>\n",
       "      <td>[1]</td>\n",
       "      <td>NaN</td>\n",
       "      <td>NaN</td>\n",
       "    </tr>\n",
       "    <tr>\n",
       "      <th>6045869</th>\n",
       "      <td>OCC(O)CO&gt;&gt;C=CC=O</td>\n",
       "      <td>OCC(O)CO&gt;&gt;C=CC=O.O.O</td>\n",
       "      <td>Balanced with help product(s): H2O</td>\n",
       "      <td>[635685]</td>\n",
       "      <td>[741856]</td>\n",
       "      <td>[]</td>\n",
       "      <td>[0]</td>\n",
       "      <td>{635685: {'atomdict': {'O': 3, 'C': 3, 'H': 8}...</td>\n",
       "      <td>{741856: {'atomdict': {'C': 3, 'O': 1, 'H': 4}...</td>\n",
       "      <td>1</td>\n",
       "      <td>[1]</td>\n",
       "      <td>NaN</td>\n",
       "      <td>NaN</td>\n",
       "    </tr>\n",
       "    <tr>\n",
       "      <th>...</th>\n",
       "      <td>...</td>\n",
       "      <td>...</td>\n",
       "      <td>...</td>\n",
       "      <td>...</td>\n",
       "      <td>...</td>\n",
       "      <td>...</td>\n",
       "      <td>...</td>\n",
       "      <td>...</td>\n",
       "      <td>...</td>\n",
       "      <td>...</td>\n",
       "      <td>...</td>\n",
       "      <td>...</td>\n",
       "      <td>...</td>\n",
       "    </tr>\n",
       "    <tr>\n",
       "      <th>9492013</th>\n",
       "      <td>CC(C)[C@@H](O)[C@@H]1CC[C@H]2C(C)(C)CCC[C@]2(C...</td>\n",
       "      <td>CC(C)[C@@H](O)[C@@H]1CC[C@H]2C(C)(C)CCC[C@]2(C...</td>\n",
       "      <td>Balanced with help product(s): H2</td>\n",
       "      <td>[9578069]</td>\n",
       "      <td>[9575632]</td>\n",
       "      <td>[]</td>\n",
       "      <td>[1]</td>\n",
       "      <td>{9578069: {'atomdict': {'C': 20, 'O': 2, 'H': ...</td>\n",
       "      <td>{9575632: {'atomdict': {'C': 20, 'O': 2, 'H': ...</td>\n",
       "      <td>2</td>\n",
       "      <td>[1, 1]</td>\n",
       "      <td>[1730800]</td>\n",
       "      <td>[13168949]</td>\n",
       "    </tr>\n",
       "    <tr>\n",
       "      <th>10138488</th>\n",
       "      <td>CCOC(=O)c1cc(CO)on1&gt;&gt;NNC(=O)c1cc(CO)on1</td>\n",
       "      <td>CCOC(=O)c1cc(CO)on1.NN.O&gt;&gt;NNC(=O)c1cc(CO)on1.C...</td>\n",
       "      <td>Balanced with species: 5808676,4933273 with he...</td>\n",
       "      <td>[5808676, 4933273]</td>\n",
       "      <td>[10248056]</td>\n",
       "      <td>[]</td>\n",
       "      <td>[20]</td>\n",
       "      <td>{5808676: {'atomdict': {'C': 7, 'O': 4, 'N': 1...</td>\n",
       "      <td>{10248056: {'atomdict': {'N': 3, 'C': 5, 'O': ...</td>\n",
       "      <td>2</td>\n",
       "      <td>[1, 1]</td>\n",
       "      <td>[1718733]</td>\n",
       "      <td>NaN</td>\n",
       "    </tr>\n",
       "    <tr>\n",
       "      <th>30238245</th>\n",
       "      <td>COc1ccc2c(c1)CC[C@@]13OC[C@@H](CC[C@H]21)[C@@H...</td>\n",
       "      <td>COc1ccc2c(c1)CC[C@@]13OC[C@@H](CC[C@H]21)[C@@H...</td>\n",
       "      <td>Balanced with help product(s): H2O</td>\n",
       "      <td>[21161020]</td>\n",
       "      <td>[9784271]</td>\n",
       "      <td>[]</td>\n",
       "      <td>[0]</td>\n",
       "      <td>{21161020: {'atomdict': {'C': 17, 'O': 3, 'H':...</td>\n",
       "      <td>{9784271: {'atomdict': {'C': 17, 'O': 2, 'H': ...</td>\n",
       "      <td>1</td>\n",
       "      <td>[1]</td>\n",
       "      <td>NaN</td>\n",
       "      <td>NaN</td>\n",
       "    </tr>\n",
       "    <tr>\n",
       "      <th>40488364</th>\n",
       "      <td>Nn1c(CO)nnc1CO.O=[N+]([O-])C(CO)([N+](=O)[O-])...</td>\n",
       "      <td>Nn1c(CO)nnc1CO.O=[N+]([O-])C(CO)([N+](=O)[O-])...</td>\n",
       "      <td>Balanced with help product(s): H2O</td>\n",
       "      <td>[144323, 1790157]</td>\n",
       "      <td>[28382467]</td>\n",
       "      <td>[]</td>\n",
       "      <td>[0]</td>\n",
       "      <td>{144323: {'atomdict': {'N': 4, 'C': 4, 'O': 2,...</td>\n",
       "      <td>{28382467: {'atomdict': {'O': 8, 'N': 7, 'C': ...</td>\n",
       "      <td>1</td>\n",
       "      <td>[1]</td>\n",
       "      <td>[3587155]</td>\n",
       "      <td>NaN</td>\n",
       "    </tr>\n",
       "    <tr>\n",
       "      <th>23509800</th>\n",
       "      <td>COc1ccc2c(Oc3ccc(OCCN4CCCCC4)cc3)c(Br)sc2c1&gt;&gt;C...</td>\n",
       "      <td>COc1ccc2c(Oc3ccc(OCCN4CCCCC4)cc3)c(Br)sc2c1.Cl...</td>\n",
       "      <td>Balanced with species: 1098214</td>\n",
       "      <td>[10717662, 1098214]</td>\n",
       "      <td>[12328192]</td>\n",
       "      <td>[]</td>\n",
       "      <td>None</td>\n",
       "      <td>{10717662: {'atomdict': {'C': 22, 'O': 3, 'N':...</td>\n",
       "      <td>{12328192: {'atomdict': {'C': 22, 'O': 3, 'N':...</td>\n",
       "      <td>2</td>\n",
       "      <td>[1, 1]</td>\n",
       "      <td>[1696894, 1696894]</td>\n",
       "      <td>NaN</td>\n",
       "    </tr>\n",
       "  </tbody>\n",
       "</table>\n",
       "<p>52089 rows × 13 columns</p>\n",
       "</div>"
      ],
      "text/plain": [
       "                                                   rxnsmiles0  \\\n",
       "ReactionID                                                      \n",
       "919383      Cc1ccc(C)c2c1C=Nc1ccccc1O2>>Cc1ccc(C)c(-c2nc3c...   \n",
       "37907065        [2H]/C(=C\\CO)c1ccccc1>>[2H]/C(=C\\C=O)c1ccccc1   \n",
       "3001280     COc1ccc([C@@H]2CCc3cc(OC(C)C)c(OC)cc3[C@@H]2N(...   \n",
       "740372      NNc1ccc([N+](=O)[O-])cc1[N+](=O)[O-].Cc1cc(I)c...   \n",
       "6045869                                      OCC(O)CO>>C=CC=O   \n",
       "...                                                       ...   \n",
       "9492013     CC(C)[C@@H](O)[C@@H]1CC[C@H]2C(C)(C)CCC[C@]2(C...   \n",
       "10138488              CCOC(=O)c1cc(CO)on1>>NNC(=O)c1cc(CO)on1   \n",
       "30238245    COc1ccc2c(c1)CC[C@@]13OC[C@@H](CC[C@H]21)[C@@H...   \n",
       "40488364    Nn1c(CO)nnc1CO.O=[N+]([O-])C(CO)([N+](=O)[O-])...   \n",
       "23509800    COc1ccc2c(Oc3ccc(OCCN4CCCCC4)cc3)c(Br)sc2c1>>C...   \n",
       "\n",
       "                                                 balrxnsmiles  \\\n",
       "ReactionID                                                      \n",
       "919383      Cc1ccc(C)c2c1C=Nc1ccccc1O2.Cc1ccc(C)c2c1C=Nc1c...   \n",
       "37907065    [2H]/C(=C\\CO)c1ccccc1>>[2H]/C(=C\\C=O)c1ccccc1....   \n",
       "3001280     COc1ccc([C@@H]2CCc3cc(OC(C)C)c(OC)cc3[C@@H]2N(...   \n",
       "740372      NNc1ccc([N+](=O)[O-])cc1[N+](=O)[O-].Cc1cc(I)c...   \n",
       "6045869                                  OCC(O)CO>>C=CC=O.O.O   \n",
       "...                                                       ...   \n",
       "9492013     CC(C)[C@@H](O)[C@@H]1CC[C@H]2C(C)(C)CCC[C@]2(C...   \n",
       "10138488    CCOC(=O)c1cc(CO)on1.NN.O>>NNC(=O)c1cc(CO)on1.C...   \n",
       "30238245    COc1ccc2c(c1)CC[C@@]13OC[C@@H](CC[C@H]21)[C@@H...   \n",
       "40488364    Nn1c(CO)nnc1CO.O=[N+]([O-])C(CO)([N+](=O)[O-])...   \n",
       "23509800    COc1ccc2c(Oc3ccc(OCCN4CCCCC4)cc3)c(Br)sc2c1.Cl...   \n",
       "\n",
       "                                                          msg  \\\n",
       "ReactionID                                                      \n",
       "919383      Balanced with species: 1112850,1112850,3587191...   \n",
       "37907065                    Balanced with help product(s): H2   \n",
       "3001280                     Balanced with help product(s): H2   \n",
       "740372                     Balanced with help product(s): H2O   \n",
       "6045869                    Balanced with help product(s): H2O   \n",
       "...                                                       ...   \n",
       "9492013                     Balanced with help product(s): H2   \n",
       "10138488    Balanced with species: 5808676,4933273 with he...   \n",
       "30238245                   Balanced with help product(s): H2O   \n",
       "40488364                   Balanced with help product(s): H2O   \n",
       "23509800                       Balanced with species: 1098214   \n",
       "\n",
       "                                                          LHS  \\\n",
       "ReactionID                                                      \n",
       "919383      [1112850, 1112850, 1112850, 1112850, 3587191, ...   \n",
       "37907065                                            [2516323]   \n",
       "3001280                                             [5161373]   \n",
       "740372                                      [615586, 3342010]   \n",
       "6045869                                              [635685]   \n",
       "...                                                       ...   \n",
       "9492013                                             [9578069]   \n",
       "10138488                                   [5808676, 4933273]   \n",
       "30238245                                           [21161020]   \n",
       "40488364                                    [144323, 1790157]   \n",
       "23509800                                  [10717662, 1098214]   \n",
       "\n",
       "                                             RHS hcrct hcprod  \\\n",
       "ReactionID                                                      \n",
       "919383      [1123137, 1123137, 1122996, 1122996]    []   [20]   \n",
       "37907065                               [3088396]    []    [1]   \n",
       "3001280                                [5147858]    []    [1]   \n",
       "740372                                 [3513644]    []    [0]   \n",
       "6045869                                 [741856]    []    [0]   \n",
       "...                                          ...   ...    ...   \n",
       "9492013                                [9575632]    []    [1]   \n",
       "10138488                              [10248056]    []   [20]   \n",
       "30238245                               [9784271]    []    [0]   \n",
       "40488364                              [28382467]    []    [0]   \n",
       "23509800                              [12328192]    []   None   \n",
       "\n",
       "                                                      LHSdata  \\\n",
       "ReactionID                                                      \n",
       "919383      {1112850: {'atomdict': {'C': 15, 'N': 1, 'O': ...   \n",
       "37907065    {2516323: {'atomdict': {'H': 10, 'C': 9, 'O': ...   \n",
       "3001280     {5161373: {'atomdict': {'C': 24, 'O': 5, 'N': ...   \n",
       "740372      {615586: {'atomdict': {'N': 4, 'C': 6, 'O': 4,...   \n",
       "6045869     {635685: {'atomdict': {'O': 3, 'C': 3, 'H': 8}...   \n",
       "...                                                       ...   \n",
       "9492013     {9578069: {'atomdict': {'C': 20, 'O': 2, 'H': ...   \n",
       "10138488    {5808676: {'atomdict': {'C': 7, 'O': 4, 'N': 1...   \n",
       "30238245    {21161020: {'atomdict': {'C': 17, 'O': 3, 'H':...   \n",
       "40488364    {144323: {'atomdict': {'N': 4, 'C': 4, 'O': 2,...   \n",
       "23509800    {10717662: {'atomdict': {'C': 22, 'O': 3, 'N':...   \n",
       "\n",
       "                                                      RHSdata  NumRefs  \\\n",
       "ReactionID                                                               \n",
       "919383      {1123137: {'atomdict': {'C': 15, 'N': 1, 'O': ...        1   \n",
       "37907065    {3088396: {'atomdict': {'H': 8, 'C': 9, 'O': 1...        2   \n",
       "3001280     {5147858: {'atomdict': {'C': 24, 'O': 5, 'N': ...        2   \n",
       "740372      {3513644: {'atomdict': {'C': 19, 'I': 2, 'O': ...        1   \n",
       "6045869     {741856: {'atomdict': {'C': 3, 'O': 1, 'H': 4}...        1   \n",
       "...                                                       ...      ...   \n",
       "9492013     {9575632: {'atomdict': {'C': 20, 'O': 2, 'H': ...        2   \n",
       "10138488    {10248056: {'atomdict': {'N': 3, 'C': 5, 'O': ...        2   \n",
       "30238245    {9784271: {'atomdict': {'C': 17, 'O': 2, 'H': ...        1   \n",
       "40488364    {28382467: {'atomdict': {'O': 8, 'N': 7, 'C': ...        1   \n",
       "23509800    {12328192: {'atomdict': {'C': 22, 'O': 3, 'N':...        2   \n",
       "\n",
       "           NumSteps           SolventID  CatalystID  \n",
       "ReactionID                                           \n",
       "919383          [1]                 NaN         NaN  \n",
       "37907065     [1, 1]  [1730800, 1730800]         NaN  \n",
       "3001280      [1, 1]    [969212, 969212]         NaN  \n",
       "740372          [1]                 NaN         NaN  \n",
       "6045869         [1]                 NaN         NaN  \n",
       "...             ...                 ...         ...  \n",
       "9492013      [1, 1]           [1730800]  [13168949]  \n",
       "10138488     [1, 1]           [1718733]         NaN  \n",
       "30238245        [1]                 NaN         NaN  \n",
       "40488364        [1]           [3587155]         NaN  \n",
       "23509800     [1, 1]  [1696894, 1696894]         NaN  \n",
       "\n",
       "[52089 rows x 13 columns]"
      ]
     },
     "execution_count": 297,
     "metadata": {},
     "output_type": "execute_result"
    }
   ],
   "source": [
    "candirxnsfilt"
   ]
  },
  {
   "cell_type": "markdown",
   "metadata": {},
   "source": [
    "## Mapping reactions"
   ]
  },
  {
   "cell_type": "markdown",
   "metadata": {},
   "source": [
    "Now, the balanced candidate reactions remaining are mapped using the IBM RXN mapper, which is a head of the IBM RXN transformer model. This is important to track atoms from reactants to products to determine which atoms change (reaction center)."
   ]
  },
  {
   "cell_type": "code",
   "execution_count": null,
   "metadata": {},
   "outputs": [],
   "source": [
    "candirxnsmapped=pd.read_pickle(analoguedir+'candidate_rxns_mapped.pickle') #In case step is already complete"
   ]
  },
  {
   "cell_type": "code",
   "execution_count": 298,
   "metadata": {
    "ExecuteTime": {
     "end_time": "2021-04-22T13:50:30.386751Z",
     "start_time": "2021-04-22T13:50:29.430686Z"
    }
   },
   "outputs": [
    {
     "name": "stderr",
     "output_type": "stream",
     "text": [
      "UserWarning: Distributing <class 'pandas.core.frame.DataFrame'> object. This may take some time.\n"
     ]
    }
   ],
   "source": [
    "candirxnsfiltd=mpd.DataFrame(candirxnsfilt)"
   ]
  },
  {
   "cell_type": "code",
   "execution_count": 299,
   "metadata": {
    "ExecuteTime": {
     "end_time": "2021-04-22T13:58:28.630296Z",
     "start_time": "2021-04-22T13:50:46.573489Z"
    }
   },
   "outputs": [
    {
     "name": "stderr",
     "output_type": "stream",
     "text": [
      "FutureWarning: The `max_len` attribute has been deprecated and will be removed in a future version, use `model_max_length` instead.\n",
      "Setting 'max_len_single_sentence' is now deprecated. This value is automatically set up.\n",
      "Setting 'max_len_sentences_pair' is now deprecated. This value is automatically set up.\n"
     ]
    }
   ],
   "source": [
    "candirxnsfiltd['mappedrxn']=candirxnsfiltd['balrxnsmiles'].apply(lambda x: maprxn([x])[0],axis=1)\n",
    "candirxnsfiltd['mapped_rxn']=candirxnsfiltd['mappedrxn'].apply(lambda x: x.get('mapped_rxn') if x!='Error' else 'Error',axis=1)\n",
    "candirxnsfiltd['mapped_conf']=candirxnsfiltd['mappedrxn'].apply(lambda x: x.get('confidence') if x!='Error' else 'Error',axis=1)\n",
    "candirxnsmapped=pd.DataFrame(data=candirxnsfiltd.values,index=candirxnsfiltd.index,columns=candirxnsfiltd.columns)\n",
    "candirxnsmapped.drop(columns=['mappedrxn'],inplace=True)"
   ]
  },
  {
   "cell_type": "code",
   "execution_count": 300,
   "metadata": {
    "ExecuteTime": {
     "end_time": "2021-04-22T13:59:15.100616Z",
     "start_time": "2021-04-22T13:59:13.660663Z"
    }
   },
   "outputs": [],
   "source": [
    "pd.to_pickle(candirxnsmapped,analoguedir+'candidate_rxns_mapped.pickle') # Mapped candidate rxns"
   ]
  },
  {
   "cell_type": "markdown",
   "metadata": {},
   "source": [
    "## Candidate reaction filtering (II)"
   ]
  },
  {
   "cell_type": "markdown",
   "metadata": {},
   "source": [
    "Now, records with errors in mapped reactions need to be filtered out. There are two main types of errors. The first is an error in the mapping (usually due to length of strings). The second is optional and involves records with low mapping confidence scores (<0.1) which can be removed to be safe, as false positives can be present due to the balancing algorithm."
   ]
  },
  {
   "cell_type": "code",
   "execution_count": null,
   "metadata": {},
   "outputs": [],
   "source": [
    "candirxnsmappedfilt=pd.read_pickle(analoguedir+'candidate_rxns_mapped_filt.pickle') #In case step is already complete"
   ]
  },
  {
   "cell_type": "code",
   "execution_count": 304,
   "metadata": {
    "ExecuteTime": {
     "end_time": "2021-04-22T14:12:10.342818Z",
     "start_time": "2021-04-22T14:12:10.229833Z"
    }
   },
   "outputs": [],
   "source": [
    "candirxnsmappedfilt=candirxnsmapped[candirxnsmapped.mapped_rxn!='Error']"
   ]
  },
  {
   "cell_type": "code",
   "execution_count": 302,
   "metadata": {
    "ExecuteTime": {
     "end_time": "2021-04-22T14:09:59.051749Z",
     "start_time": "2021-04-22T14:09:59.027623Z"
    }
   },
   "outputs": [
    {
     "data": {
      "text/plain": [
       "'Percentage of mapping errors: 0.71'"
      ]
     },
     "execution_count": 302,
     "metadata": {},
     "output_type": "execute_result"
    }
   ],
   "source": [
    "ec4=candirxnsmapped[candirxnsmapped.mapped_rxn=='Error']\n",
    "'Percentage of mapping errors: '+str(round(len(ec4.index)/len(candirxnsmapped.index)*100,2))"
   ]
  },
  {
   "cell_type": "code",
   "execution_count": 306,
   "metadata": {
    "ExecuteTime": {
     "end_time": "2021-04-22T14:14:44.669432Z",
     "start_time": "2021-04-22T14:14:43.709748Z"
    }
   },
   "outputs": [
    {
     "name": "stderr",
     "output_type": "stream",
     "text": [
      "SettingWithCopyWarning: \n",
      "A value is trying to be set on a copy of a slice from a DataFrame.\n",
      "Try using .loc[row_indexer,col_indexer] = value instead\n",
      "\n",
      "See the caveats in the documentation: https://pandas.pydata.org/pandas-docs/stable/user_guide/indexing.html#returning-a-view-versus-a-copy\n"
     ]
    },
    {
     "data": {
      "text/plain": [
       "Text(0.5, 0, 'Mapping confidence')"
      ]
     },
     "execution_count": 306,
     "metadata": {},
     "output_type": "execute_result"
    },
    {
     "data": {
      "text/plain": [
       "Text(0, 0.5, 'Count')"
      ]
     },
     "execution_count": 306,
     "metadata": {},
     "output_type": "execute_result"
    },
    {
     "data": {
      "text/plain": [
       "array([[<AxesSubplot:title={'center':'mapped_conf'}, xlabel='Mapping confidence', ylabel='Count'>]],\n",
       "      dtype=object)"
      ]
     },
     "execution_count": 306,
     "metadata": {},
     "output_type": "execute_result"
    },
    {
     "data": {
      "text/plain": [
       "count    5.171800e+04\n",
       "mean     5.861009e-01\n",
       "std      3.344252e-01\n",
       "min      1.067637e-60\n",
       "25%      2.916460e-01\n",
       "50%      6.428949e-01\n",
       "75%      9.110645e-01\n",
       "max      9.999941e-01\n",
       "Name: mapped_conf, dtype: float64"
      ]
     },
     "execution_count": 306,
     "metadata": {},
     "output_type": "execute_result"
    },
    {
     "data": {
      "image/png": "[encoded data removed]",
      "text/plain": [
       "<Figure size 432x288 with 1 Axes>"
      ]
     },
     "metadata": {
      "needs_background": "light"
     },
     "output_type": "display_data"
    }
   ],
   "source": [
    "candirxnsmappedfilt['mapped_conf'] = candirxnsmappedfilt['mapped_conf'].apply(pd.to_numeric)\n",
    "figconf=candirxnsmappedfilt.hist(bins=50,column='mapped_conf')\n",
    "for ax in figconf.flatten():\n",
    "    ax.set_xlabel(\"Mapping confidence\")\n",
    "    ax.set_ylabel(\"Count\")\n",
    "figconf\n",
    "candirxnsmappedfilt.mapped_conf.describe()"
   ]
  },
  {
   "cell_type": "code",
   "execution_count": 308,
   "metadata": {
    "ExecuteTime": {
     "end_time": "2021-04-22T14:18:33.635297Z",
     "start_time": "2021-04-22T14:18:33.296970Z"
    }
   },
   "outputs": [],
   "source": [
    "candirxnsmappedfilt=candirxnsmappedfilt[candirxnsmappedfilt.mapped_conf>0.1] #Remove mapped smiles errors and low confidence scores"
   ]
  },
  {
   "cell_type": "code",
   "execution_count": 311,
   "metadata": {
    "ExecuteTime": {
     "end_time": "2021-04-22T14:24:37.878888Z",
     "start_time": "2021-04-22T14:24:37.573431Z"
    }
   },
   "outputs": [
    {
     "data": {
      "text/html": [
       "<div>\n",
       "<style scoped>\n",
       "    .dataframe tbody tr th:only-of-type {\n",
       "        vertical-align: middle;\n",
       "    }\n",
       "\n",
       "    .dataframe tbody tr th {\n",
       "        vertical-align: top;\n",
       "    }\n",
       "\n",
       "    .dataframe thead th {\n",
       "        text-align: right;\n",
       "    }\n",
       "</style>\n",
       "<table border=\"1\" class=\"dataframe\">\n",
       "  <thead>\n",
       "    <tr style=\"text-align: right;\">\n",
       "      <th></th>\n",
       "      <th>rxnsmiles0</th>\n",
       "      <th>balrxnsmiles</th>\n",
       "      <th>msg</th>\n",
       "      <th>LHS</th>\n",
       "      <th>RHS</th>\n",
       "      <th>hcrct</th>\n",
       "      <th>hcprod</th>\n",
       "      <th>LHSdata</th>\n",
       "      <th>RHSdata</th>\n",
       "      <th>NumRefs</th>\n",
       "      <th>NumSteps</th>\n",
       "      <th>SolventID</th>\n",
       "      <th>CatalystID</th>\n",
       "      <th>mapped_rxn</th>\n",
       "      <th>mapped_conf</th>\n",
       "    </tr>\n",
       "    <tr>\n",
       "      <th>ReactionID</th>\n",
       "      <th></th>\n",
       "      <th></th>\n",
       "      <th></th>\n",
       "      <th></th>\n",
       "      <th></th>\n",
       "      <th></th>\n",
       "      <th></th>\n",
       "      <th></th>\n",
       "      <th></th>\n",
       "      <th></th>\n",
       "      <th></th>\n",
       "      <th></th>\n",
       "      <th></th>\n",
       "      <th></th>\n",
       "      <th></th>\n",
       "    </tr>\n",
       "  </thead>\n",
       "  <tbody>\n",
       "    <tr>\n",
       "      <th>37907065</th>\n",
       "      <td>[2H]/C(=C\\CO)c1ccccc1&gt;&gt;[2H]/C(=C\\C=O)c1ccccc1</td>\n",
       "      <td>[2H]/C(=C\\CO)c1ccccc1&gt;&gt;[2H]/C(=C\\C=O)c1ccccc1....</td>\n",
       "      <td>Balanced with help product(s): H2</td>\n",
       "      <td>[2516323]</td>\n",
       "      <td>[3088396]</td>\n",
       "      <td>[]</td>\n",
       "      <td>[1]</td>\n",
       "      <td>{2516323: {'atomdict': {'H': 10, 'C': 9, 'O': ...</td>\n",
       "      <td>{3088396: {'atomdict': {'H': 8, 'C': 9, 'O': 1...</td>\n",
       "      <td>2</td>\n",
       "      <td>[1, 1]</td>\n",
       "      <td>[1730800, 1730800]</td>\n",
       "      <td>NaN</td>\n",
       "      <td>[2H:1]/[C:2](=[CH:3]\\[CH2:4][OH:5])[c:6]1[cH:7...</td>\n",
       "      <td>0.971759</td>\n",
       "    </tr>\n",
       "    <tr>\n",
       "      <th>3001280</th>\n",
       "      <td>COc1ccc([C@@H]2CCc3cc(OC(C)C)c(OC)cc3[C@@H]2N(...</td>\n",
       "      <td>COc1ccc([C@@H]2CCc3cc(OC(C)C)c(OC)cc3[C@@H]2N(...</td>\n",
       "      <td>Balanced with help product(s): H2</td>\n",
       "      <td>[5161373]</td>\n",
       "      <td>[5147858]</td>\n",
       "      <td>[]</td>\n",
       "      <td>[1]</td>\n",
       "      <td>{5161373: {'atomdict': {'C': 24, 'O': 5, 'N': ...</td>\n",
       "      <td>{5147858: {'atomdict': {'C': 24, 'O': 5, 'N': ...</td>\n",
       "      <td>2</td>\n",
       "      <td>[1, 1]</td>\n",
       "      <td>[969212, 969212]</td>\n",
       "      <td>NaN</td>\n",
       "      <td>[CH3:1][O:2][c:3]1[cH:4][cH:5][c:6]([C@@H:7]2[...</td>\n",
       "      <td>0.804939</td>\n",
       "    </tr>\n",
       "    <tr>\n",
       "      <th>740372</th>\n",
       "      <td>NNc1ccc([N+](=O)[O-])cc1[N+](=O)[O-].Cc1cc(I)c...</td>\n",
       "      <td>NNc1ccc([N+](=O)[O-])cc1[N+](=O)[O-].Cc1cc(I)c...</td>\n",
       "      <td>Balanced with help product(s): H2O</td>\n",
       "      <td>[615586, 3342010]</td>\n",
       "      <td>[3513644]</td>\n",
       "      <td>[]</td>\n",
       "      <td>[0]</td>\n",
       "      <td>{615586: {'atomdict': {'N': 4, 'C': 6, 'O': 4,...</td>\n",
       "      <td>{3513644: {'atomdict': {'C': 19, 'I': 2, 'O': ...</td>\n",
       "      <td>1</td>\n",
       "      <td>[1]</td>\n",
       "      <td>NaN</td>\n",
       "      <td>NaN</td>\n",
       "      <td>[CH3:1][c:2]1[cH:3][c:4]([I:5])[c:6]([O:7][c:8...</td>\n",
       "      <td>0.769608</td>\n",
       "    </tr>\n",
       "    <tr>\n",
       "      <th>6045869</th>\n",
       "      <td>OCC(O)CO&gt;&gt;C=CC=O</td>\n",
       "      <td>OCC(O)CO&gt;&gt;C=CC=O.O.O</td>\n",
       "      <td>Balanced with help product(s): H2O</td>\n",
       "      <td>[635685]</td>\n",
       "      <td>[741856]</td>\n",
       "      <td>[]</td>\n",
       "      <td>[0]</td>\n",
       "      <td>{635685: {'atomdict': {'O': 3, 'C': 3, 'H': 8}...</td>\n",
       "      <td>{741856: {'atomdict': {'C': 3, 'O': 1, 'H': 4}...</td>\n",
       "      <td>1</td>\n",
       "      <td>[1]</td>\n",
       "      <td>NaN</td>\n",
       "      <td>NaN</td>\n",
       "      <td>[CH2:1]([CH:2]([CH2:3][OH:4])[OH:5])[OH:6]&gt;&gt;[C...</td>\n",
       "      <td>0.565987</td>\n",
       "    </tr>\n",
       "    <tr>\n",
       "      <th>9656881</th>\n",
       "      <td>C[C@@H](CO)NC(=O)OC(C)(C)C&gt;&gt;C[C@H]1COS(=O)N1C(...</td>\n",
       "      <td>C[C@@H](CO)NC(=O)OC(C)(C)C.O=S(Cl)Cl&gt;&gt;C[C@H]1C...</td>\n",
       "      <td>Balanced with species: 1209273 with help produ...</td>\n",
       "      <td>[3648840, 1209273]</td>\n",
       "      <td>[9191296]</td>\n",
       "      <td>[]</td>\n",
       "      <td>[9]</td>\n",
       "      <td>{3648840: {'atomdict': {'C': 8, 'O': 3, 'N': 1...</td>\n",
       "      <td>{9191296: {'atomdict': {'C': 8, 'O': 4, 'S': 1...</td>\n",
       "      <td>11</td>\n",
       "      <td>[1, 1, 1, 1, 1, 1, 1, 1, 1, 1, 1]</td>\n",
       "      <td>[1730800, 1730800, 1730800, 1730800, 1730800, ...</td>\n",
       "      <td>NaN</td>\n",
       "      <td>[CH3:1][C@@H:2]([CH2:3][OH:4])[NH:7][C:8](=[O:...</td>\n",
       "      <td>0.401595</td>\n",
       "    </tr>\n",
       "    <tr>\n",
       "      <th>...</th>\n",
       "      <td>...</td>\n",
       "      <td>...</td>\n",
       "      <td>...</td>\n",
       "      <td>...</td>\n",
       "      <td>...</td>\n",
       "      <td>...</td>\n",
       "      <td>...</td>\n",
       "      <td>...</td>\n",
       "      <td>...</td>\n",
       "      <td>...</td>\n",
       "      <td>...</td>\n",
       "      <td>...</td>\n",
       "      <td>...</td>\n",
       "      <td>...</td>\n",
       "      <td>...</td>\n",
       "    </tr>\n",
       "    <tr>\n",
       "      <th>9492013</th>\n",
       "      <td>CC(C)[C@@H](O)[C@@H]1CC[C@H]2C(C)(C)CCC[C@]2(C...</td>\n",
       "      <td>CC(C)[C@@H](O)[C@@H]1CC[C@H]2C(C)(C)CCC[C@]2(C...</td>\n",
       "      <td>Balanced with help product(s): H2</td>\n",
       "      <td>[9578069]</td>\n",
       "      <td>[9575632]</td>\n",
       "      <td>[]</td>\n",
       "      <td>[1]</td>\n",
       "      <td>{9578069: {'atomdict': {'C': 20, 'O': 2, 'H': ...</td>\n",
       "      <td>{9575632: {'atomdict': {'C': 20, 'O': 2, 'H': ...</td>\n",
       "      <td>2</td>\n",
       "      <td>[1, 1]</td>\n",
       "      <td>[1730800]</td>\n",
       "      <td>[13168949]</td>\n",
       "      <td>[CH3:1][CH:2]([CH3:3])[C@@H:4]([OH:5])[C@H:11]...</td>\n",
       "      <td>0.612305</td>\n",
       "    </tr>\n",
       "    <tr>\n",
       "      <th>10138488</th>\n",
       "      <td>CCOC(=O)c1cc(CO)on1&gt;&gt;NNC(=O)c1cc(CO)on1</td>\n",
       "      <td>CCOC(=O)c1cc(CO)on1.NN.O&gt;&gt;NNC(=O)c1cc(CO)on1.C...</td>\n",
       "      <td>Balanced with species: 5808676,4933273 with he...</td>\n",
       "      <td>[5808676, 4933273]</td>\n",
       "      <td>[10248056]</td>\n",
       "      <td>[]</td>\n",
       "      <td>[20]</td>\n",
       "      <td>{5808676: {'atomdict': {'C': 7, 'O': 4, 'N': 1...</td>\n",
       "      <td>{10248056: {'atomdict': {'N': 3, 'C': 5, 'O': ...</td>\n",
       "      <td>2</td>\n",
       "      <td>[1, 1]</td>\n",
       "      <td>[1718733]</td>\n",
       "      <td>NaN</td>\n",
       "      <td>[CH2:1]([O:2][C:7](=[O:8])[c:9]1[cH:10][c:11](...</td>\n",
       "      <td>0.371027</td>\n",
       "    </tr>\n",
       "    <tr>\n",
       "      <th>30238245</th>\n",
       "      <td>COc1ccc2c(c1)CC[C@@]13OC[C@@H](CC[C@H]21)[C@@H...</td>\n",
       "      <td>COc1ccc2c(c1)CC[C@@]13OC[C@@H](CC[C@H]21)[C@@H...</td>\n",
       "      <td>Balanced with help product(s): H2O</td>\n",
       "      <td>[21161020]</td>\n",
       "      <td>[9784271]</td>\n",
       "      <td>[]</td>\n",
       "      <td>[0]</td>\n",
       "      <td>{21161020: {'atomdict': {'C': 17, 'O': 3, 'H':...</td>\n",
       "      <td>{9784271: {'atomdict': {'C': 17, 'O': 2, 'H': ...</td>\n",
       "      <td>1</td>\n",
       "      <td>[1]</td>\n",
       "      <td>NaN</td>\n",
       "      <td>NaN</td>\n",
       "      <td>[CH3:1][O:2][c:3]1[cH:4][cH:5][c:6]2[c:7]([cH:...</td>\n",
       "      <td>0.951321</td>\n",
       "    </tr>\n",
       "    <tr>\n",
       "      <th>40488364</th>\n",
       "      <td>Nn1c(CO)nnc1CO.O=[N+]([O-])C(CO)([N+](=O)[O-])...</td>\n",
       "      <td>Nn1c(CO)nnc1CO.O=[N+]([O-])C(CO)([N+](=O)[O-])...</td>\n",
       "      <td>Balanced with help product(s): H2O</td>\n",
       "      <td>[144323, 1790157]</td>\n",
       "      <td>[28382467]</td>\n",
       "      <td>[]</td>\n",
       "      <td>[0]</td>\n",
       "      <td>{144323: {'atomdict': {'N': 4, 'C': 4, 'O': 2,...</td>\n",
       "      <td>{28382467: {'atomdict': {'O': 8, 'N': 7, 'C': ...</td>\n",
       "      <td>1</td>\n",
       "      <td>[1]</td>\n",
       "      <td>[3587155]</td>\n",
       "      <td>NaN</td>\n",
       "      <td>[NH2:7][n:8]1[c:9]([CH2:10][OH:11])[n:12][n:13...</td>\n",
       "      <td>0.225734</td>\n",
       "    </tr>\n",
       "    <tr>\n",
       "      <th>23509800</th>\n",
       "      <td>COc1ccc2c(Oc3ccc(OCCN4CCCCC4)cc3)c(Br)sc2c1&gt;&gt;C...</td>\n",
       "      <td>COc1ccc2c(Oc3ccc(OCCN4CCCCC4)cc3)c(Br)sc2c1.Cl...</td>\n",
       "      <td>Balanced with species: 1098214</td>\n",
       "      <td>[10717662, 1098214]</td>\n",
       "      <td>[12328192]</td>\n",
       "      <td>[]</td>\n",
       "      <td>None</td>\n",
       "      <td>{10717662: {'atomdict': {'C': 22, 'O': 3, 'N':...</td>\n",
       "      <td>{12328192: {'atomdict': {'C': 22, 'O': 3, 'N':...</td>\n",
       "      <td>2</td>\n",
       "      <td>[1, 1]</td>\n",
       "      <td>[1696894, 1696894]</td>\n",
       "      <td>NaN</td>\n",
       "      <td>[CH3:1][O:2][c:3]1[cH:4][cH:5][c:6]2[c:7]([O:8...</td>\n",
       "      <td>0.942324</td>\n",
       "    </tr>\n",
       "  </tbody>\n",
       "</table>\n",
       "<p>45455 rows × 15 columns</p>\n",
       "</div>"
      ],
      "text/plain": [
       "                                                   rxnsmiles0  \\\n",
       "ReactionID                                                      \n",
       "37907065        [2H]/C(=C\\CO)c1ccccc1>>[2H]/C(=C\\C=O)c1ccccc1   \n",
       "3001280     COc1ccc([C@@H]2CCc3cc(OC(C)C)c(OC)cc3[C@@H]2N(...   \n",
       "740372      NNc1ccc([N+](=O)[O-])cc1[N+](=O)[O-].Cc1cc(I)c...   \n",
       "6045869                                      OCC(O)CO>>C=CC=O   \n",
       "9656881     C[C@@H](CO)NC(=O)OC(C)(C)C>>C[C@H]1COS(=O)N1C(...   \n",
       "...                                                       ...   \n",
       "9492013     CC(C)[C@@H](O)[C@@H]1CC[C@H]2C(C)(C)CCC[C@]2(C...   \n",
       "10138488              CCOC(=O)c1cc(CO)on1>>NNC(=O)c1cc(CO)on1   \n",
       "30238245    COc1ccc2c(c1)CC[C@@]13OC[C@@H](CC[C@H]21)[C@@H...   \n",
       "40488364    Nn1c(CO)nnc1CO.O=[N+]([O-])C(CO)([N+](=O)[O-])...   \n",
       "23509800    COc1ccc2c(Oc3ccc(OCCN4CCCCC4)cc3)c(Br)sc2c1>>C...   \n",
       "\n",
       "                                                 balrxnsmiles  \\\n",
       "ReactionID                                                      \n",
       "37907065    [2H]/C(=C\\CO)c1ccccc1>>[2H]/C(=C\\C=O)c1ccccc1....   \n",
       "3001280     COc1ccc([C@@H]2CCc3cc(OC(C)C)c(OC)cc3[C@@H]2N(...   \n",
       "740372      NNc1ccc([N+](=O)[O-])cc1[N+](=O)[O-].Cc1cc(I)c...   \n",
       "6045869                                  OCC(O)CO>>C=CC=O.O.O   \n",
       "9656881     C[C@@H](CO)NC(=O)OC(C)(C)C.O=S(Cl)Cl>>C[C@H]1C...   \n",
       "...                                                       ...   \n",
       "9492013     CC(C)[C@@H](O)[C@@H]1CC[C@H]2C(C)(C)CCC[C@]2(C...   \n",
       "10138488    CCOC(=O)c1cc(CO)on1.NN.O>>NNC(=O)c1cc(CO)on1.C...   \n",
       "30238245    COc1ccc2c(c1)CC[C@@]13OC[C@@H](CC[C@H]21)[C@@H...   \n",
       "40488364    Nn1c(CO)nnc1CO.O=[N+]([O-])C(CO)([N+](=O)[O-])...   \n",
       "23509800    COc1ccc2c(Oc3ccc(OCCN4CCCCC4)cc3)c(Br)sc2c1.Cl...   \n",
       "\n",
       "                                                          msg  \\\n",
       "ReactionID                                                      \n",
       "37907065                    Balanced with help product(s): H2   \n",
       "3001280                     Balanced with help product(s): H2   \n",
       "740372                     Balanced with help product(s): H2O   \n",
       "6045869                    Balanced with help product(s): H2O   \n",
       "9656881     Balanced with species: 1209273 with help produ...   \n",
       "...                                                       ...   \n",
       "9492013                     Balanced with help product(s): H2   \n",
       "10138488    Balanced with species: 5808676,4933273 with he...   \n",
       "30238245                   Balanced with help product(s): H2O   \n",
       "40488364                   Balanced with help product(s): H2O   \n",
       "23509800                       Balanced with species: 1098214   \n",
       "\n",
       "                            LHS         RHS hcrct hcprod  \\\n",
       "ReactionID                                                 \n",
       "37907065              [2516323]   [3088396]    []    [1]   \n",
       "3001280               [5161373]   [5147858]    []    [1]   \n",
       "740372        [615586, 3342010]   [3513644]    []    [0]   \n",
       "6045869                [635685]    [741856]    []    [0]   \n",
       "9656881      [3648840, 1209273]   [9191296]    []    [9]   \n",
       "...                         ...         ...   ...    ...   \n",
       "9492013               [9578069]   [9575632]    []    [1]   \n",
       "10138488     [5808676, 4933273]  [10248056]    []   [20]   \n",
       "30238245             [21161020]   [9784271]    []    [0]   \n",
       "40488364      [144323, 1790157]  [28382467]    []    [0]   \n",
       "23509800    [10717662, 1098214]  [12328192]    []   None   \n",
       "\n",
       "                                                      LHSdata  \\\n",
       "ReactionID                                                      \n",
       "37907065    {2516323: {'atomdict': {'H': 10, 'C': 9, 'O': ...   \n",
       "3001280     {5161373: {'atomdict': {'C': 24, 'O': 5, 'N': ...   \n",
       "740372      {615586: {'atomdict': {'N': 4, 'C': 6, 'O': 4,...   \n",
       "6045869     {635685: {'atomdict': {'O': 3, 'C': 3, 'H': 8}...   \n",
       "9656881     {3648840: {'atomdict': {'C': 8, 'O': 3, 'N': 1...   \n",
       "...                                                       ...   \n",
       "9492013     {9578069: {'atomdict': {'C': 20, 'O': 2, 'H': ...   \n",
       "10138488    {5808676: {'atomdict': {'C': 7, 'O': 4, 'N': 1...   \n",
       "30238245    {21161020: {'atomdict': {'C': 17, 'O': 3, 'H':...   \n",
       "40488364    {144323: {'atomdict': {'N': 4, 'C': 4, 'O': 2,...   \n",
       "23509800    {10717662: {'atomdict': {'C': 22, 'O': 3, 'N':...   \n",
       "\n",
       "                                                      RHSdata NumRefs  \\\n",
       "ReactionID                                                              \n",
       "37907065    {3088396: {'atomdict': {'H': 8, 'C': 9, 'O': 1...       2   \n",
       "3001280     {5147858: {'atomdict': {'C': 24, 'O': 5, 'N': ...       2   \n",
       "740372      {3513644: {'atomdict': {'C': 19, 'I': 2, 'O': ...       1   \n",
       "6045869     {741856: {'atomdict': {'C': 3, 'O': 1, 'H': 4}...       1   \n",
       "9656881     {9191296: {'atomdict': {'C': 8, 'O': 4, 'S': 1...      11   \n",
       "...                                                       ...     ...   \n",
       "9492013     {9575632: {'atomdict': {'C': 20, 'O': 2, 'H': ...       2   \n",
       "10138488    {10248056: {'atomdict': {'N': 3, 'C': 5, 'O': ...       2   \n",
       "30238245    {9784271: {'atomdict': {'C': 17, 'O': 2, 'H': ...       1   \n",
       "40488364    {28382467: {'atomdict': {'O': 8, 'N': 7, 'C': ...       1   \n",
       "23509800    {12328192: {'atomdict': {'C': 22, 'O': 3, 'N':...       2   \n",
       "\n",
       "                                     NumSteps  \\\n",
       "ReactionID                                      \n",
       "37907065                               [1, 1]   \n",
       "3001280                                [1, 1]   \n",
       "740372                                    [1]   \n",
       "6045869                                   [1]   \n",
       "9656881     [1, 1, 1, 1, 1, 1, 1, 1, 1, 1, 1]   \n",
       "...                                       ...   \n",
       "9492013                                [1, 1]   \n",
       "10138488                               [1, 1]   \n",
       "30238245                                  [1]   \n",
       "40488364                                  [1]   \n",
       "23509800                               [1, 1]   \n",
       "\n",
       "                                                    SolventID  CatalystID  \\\n",
       "ReactionID                                                                  \n",
       "37907065                                   [1730800, 1730800]         NaN   \n",
       "3001280                                      [969212, 969212]         NaN   \n",
       "740372                                                    NaN         NaN   \n",
       "6045869                                                   NaN         NaN   \n",
       "9656881     [1730800, 1730800, 1730800, 1730800, 1730800, ...         NaN   \n",
       "...                                                       ...         ...   \n",
       "9492013                                             [1730800]  [13168949]   \n",
       "10138488                                            [1718733]         NaN   \n",
       "30238245                                                  NaN         NaN   \n",
       "40488364                                            [3587155]         NaN   \n",
       "23509800                                   [1696894, 1696894]         NaN   \n",
       "\n",
       "                                                   mapped_rxn  mapped_conf  \n",
       "ReactionID                                                                  \n",
       "37907065    [2H:1]/[C:2](=[CH:3]\\[CH2:4][OH:5])[c:6]1[cH:7...     0.971759  \n",
       "3001280     [CH3:1][O:2][c:3]1[cH:4][cH:5][c:6]([C@@H:7]2[...     0.804939  \n",
       "740372      [CH3:1][c:2]1[cH:3][c:4]([I:5])[c:6]([O:7][c:8...     0.769608  \n",
       "6045869     [CH2:1]([CH:2]([CH2:3][OH:4])[OH:5])[OH:6]>>[C...     0.565987  \n",
       "9656881     [CH3:1][C@@H:2]([CH2:3][OH:4])[NH:7][C:8](=[O:...     0.401595  \n",
       "...                                                       ...          ...  \n",
       "9492013     [CH3:1][CH:2]([CH3:3])[C@@H:4]([OH:5])[C@H:11]...     0.612305  \n",
       "10138488    [CH2:1]([O:2][C:7](=[O:8])[c:9]1[cH:10][c:11](...     0.371027  \n",
       "30238245    [CH3:1][O:2][c:3]1[cH:4][cH:5][c:6]2[c:7]([cH:...     0.951321  \n",
       "40488364    [NH2:7][n:8]1[c:9]([CH2:10][OH:11])[n:12][n:13...     0.225734  \n",
       "23509800    [CH3:1][O:2][c:3]1[cH:4][cH:5][c:6]2[c:7]([O:8...     0.942324  \n",
       "\n",
       "[45455 rows x 15 columns]"
      ]
     },
     "execution_count": 311,
     "metadata": {},
     "output_type": "execute_result"
    },
    {
     "data": {
      "text/plain": [
       "'Percentage of reactions with acceptable confidence: 87.26'"
      ]
     },
     "execution_count": 311,
     "metadata": {},
     "output_type": "execute_result"
    },
    {
     "data": {
      "text/plain": [
       "'Percentage of reaction remaining (based on original): 36.76'"
      ]
     },
     "execution_count": 311,
     "metadata": {},
     "output_type": "execute_result"
    }
   ],
   "source": [
    "candirxnsmappedfilt\n",
    "'Percentage of reactions with acceptable confidence: '+str(round(len(candirxnsmappedfilt.index)/len(candirxnsmapped.index)*100,2))\n",
    "'Percentage of reaction remaining (based on original): '+str(round(len(candirxnsmappedfilt.index)/len(candirxns.index)*100,2))"
   ]
  },
  {
   "cell_type": "code",
   "execution_count": 310,
   "metadata": {
    "ExecuteTime": {
     "end_time": "2021-04-22T14:22:14.241682Z",
     "start_time": "2021-04-22T14:22:13.521447Z"
    }
   },
   "outputs": [],
   "source": [
    "pd.to_pickle(candirxnsmappedfilt,analoguedir+'candidate_rxns_mapped_filt.pickle') # mapped candi rxns REMOVED invalid mapping, and low confidence scores"
   ]
  },
  {
   "cell_type": "markdown",
   "metadata": {},
   "source": [
    "## Checking reactions"
   ]
  },
  {
   "cell_type": "markdown",
   "metadata": {},
   "source": [
    "The mapper often changes the order of the reactants/products in the mapped string, so the order needs to be double checked and mapped smiles need to be allocated to appropriate reactants (`candirxnsparsed`)."
   ]
  },
  {
   "cell_type": "code",
   "execution_count": null,
   "metadata": {},
   "outputs": [],
   "source": [
    "candirxnsparsed=pd.read_pickle(analoguedir+'candidate_rxns_parsed.pickle') #In case step is already complete"
   ]
  },
  {
   "cell_type": "code",
   "execution_count": 315,
   "metadata": {
    "ExecuteTime": {
     "end_time": "2021-04-22T14:33:43.956863Z",
     "start_time": "2021-04-22T14:33:26.736199Z"
    }
   },
   "outputs": [
    {
     "name": "stderr",
     "output_type": "stream",
     "text": [
      "UserWarning: Distributing <class 'pandas.core.frame.DataFrame'> object. This may take some time.\n",
      "UserWarning: User-defined function verification is still under development in Modin. The function provided is not verified.\n"
     ]
    }
   ],
   "source": [
    "candirxnsfiltd=mpd.DataFrame(candirxnsmappedfilt) #Read to same variable to prevent memory overload\n",
    "compdupdate=candirxnsfiltd.apply(checkrxnrow,axis=1,result_type='reduce')\n",
    "compdupdate=pd.Series(data=compdupdate.values,index=compdupdate.index) #Optional convert modin back to pandas\n",
    "compdupdatedf=pd.DataFrame(data=compdupdate.tolist(),index=compdupdate.index,columns=['LHSdata','RHSdata','msg1'])\n",
    "candirxnsparsed=candirxnsmappedfilt.copy()\n",
    "candirxnsparsed[['LHSdata','RHSdata','msg1']]=compdupdatedf"
   ]
  },
  {
   "cell_type": "code",
   "execution_count": 316,
   "metadata": {
    "ExecuteTime": {
     "end_time": "2021-04-22T14:33:49.039468Z",
     "start_time": "2021-04-22T14:33:48.848218Z"
    }
   },
   "outputs": [
    {
     "data": {
      "text/plain": [
       "{5161373: {'atomdict': {'C': 24, 'O': 5, 'N': 1, 'H': 31},\n",
       "  'charge': 0,\n",
       "  'smiles': 'COc1ccc([C@@H]2CCc3cc(OC(C)C)c(OC)cc3[C@@H]2N(C)C=O)cc1OC',\n",
       "  'formula': 'C24H31NO5',\n",
       "  'count': 1}}"
      ]
     },
     "execution_count": 316,
     "metadata": {},
     "output_type": "execute_result"
    },
    {
     "data": {
      "text/plain": [
       "{5161373: {'atomdict': {'C': 24, 'O': 5, 'N': 1, 'H': 31},\n",
       "  'charge': 0,\n",
       "  'smiles': 'COc1ccc([C@@H]2CCc3cc(OC(C)C)c(OC)cc3[C@@H]2N(C)C=O)cc1OC',\n",
       "  'formula': 'C24H31NO5',\n",
       "  'count': 1,\n",
       "  'mappedsmiles': ['[CH3:1][O:2][c:3]1[cH:4][cH:5][c:6]([C@@H:7]2[CH2:8][CH2:9][c:10]3[cH:11][c:12]([O:13][CH:14]([CH3:15])[CH3:16])[c:17]([O:18][CH3:19])[cH:20][c:21]3[C@@H:22]2[N:23]([CH3:24])[CH:25]=[O:26])[cH:27][c:28]1[O:29][CH3:30]'],\n",
       "  'cleanmol': [<rdkit.Chem.rdchem.Mol at 0x7f8ba288ee50>]}}"
      ]
     },
     "execution_count": 316,
     "metadata": {},
     "output_type": "execute_result"
    }
   ],
   "source": [
    "candirxnsmappedfilt.iloc[1].LHSdata\n",
    "candirxnsparsed.iloc[1].LHSdata"
   ]
  },
  {
   "cell_type": "code",
   "execution_count": 320,
   "metadata": {
    "ExecuteTime": {
     "end_time": "2021-04-22T14:56:50.543955Z",
     "start_time": "2021-04-22T14:56:44.081300Z"
    }
   },
   "outputs": [],
   "source": [
    "pd.to_pickle(candirxnsparsed,analoguedir+'candidate_rxns_parsed.pickle') # Updated cleanmol/mapped smiles"
   ]
  },
  {
   "cell_type": "markdown",
   "metadata": {},
   "source": [
    "## Candidate reaction filtering (III)"
   ]
  },
  {
   "cell_type": "markdown",
   "metadata": {},
   "source": [
    "Due to addition of species while balancing, mixtures may have been introduced which need to be filtered out."
   ]
  },
  {
   "cell_type": "code",
   "execution_count": null,
   "metadata": {},
   "outputs": [],
   "source": [
    "candirxnsparsedfilt=pd.read_pickle(analoguedir+'candidate_rxns_parsed_filt.pickle') #In case step is already complete"
   ]
  },
  {
   "cell_type": "code",
   "execution_count": null,
   "metadata": {
    "ExecuteTime": {
     "end_time": "2021-04-22T15:05:07.374041Z",
     "start_time": "2021-04-22T15:05:07.142354Z"
    }
   },
   "outputs": [],
   "source": [
    "ec5=candirxnsparsed.loc[candirxnsparsed.msg1!='Valid']"
   ]
  },
  {
   "cell_type": "code",
   "execution_count": 321,
   "metadata": {
    "ExecuteTime": {
     "end_time": "2021-04-22T15:05:07.374041Z",
     "start_time": "2021-04-22T15:05:07.142354Z"
    }
   },
   "outputs": [
    {
     "data": {
      "text/plain": [
       "'Percentage of reactions without mixtures: 95.97'"
      ]
     },
     "execution_count": 321,
     "metadata": {},
     "output_type": "execute_result"
    },
    {
     "data": {
      "text/plain": [
       "'Percentage of reaction remaining (based on original): 35.28'"
      ]
     },
     "execution_count": 321,
     "metadata": {},
     "output_type": "execute_result"
    }
   ],
   "source": [
    "candirxnsparsedfilt=candirxnsparsed.loc[candirxnsparsed.msg1=='Valid']\n",
    "'Percentage of reactions without mixtures: '+str(round(len(candirxnsparsedfilt.index)/len(candirxnsparsed.index)*100,2))\n",
    "'Percentage of reactions remaining (based on original): '+str(round(len(candirxnsparsedfilt.index)/len(candirxns.index)*100,2))"
   ]
  },
  {
   "cell_type": "code",
   "execution_count": 322,
   "metadata": {
    "ExecuteTime": {
     "end_time": "2021-04-22T15:06:09.858536Z",
     "start_time": "2021-04-22T15:06:02.851086Z"
    }
   },
   "outputs": [],
   "source": [
    "pd.to_pickle(candirxnsparsedfilt,analoguedir+'candidate_rxns_parsed_filt.pickle') # Removed mixtures"
   ]
  },
  {
   "cell_type": "markdown",
   "metadata": {},
   "source": [
    "## Assigning fragments and query species"
   ]
  },
  {
   "cell_type": "markdown",
   "metadata": {},
   "source": [
    "Next, fragments and query species are assigned to each reactant in each reaction record, resulting in `candirxnsassigned`. These are added as dictionaries under the 'querycompds' key, containing fragment smiles as keys and query species as values."
   ]
  },
  {
   "cell_type": "code",
   "execution_count": null,
   "metadata": {},
   "outputs": [],
   "source": [
    "candirxnsassigned=pd.read_pickle(assigndir+'candidate_rxns_assigned.pickle') #In case step is already complete"
   ]
  },
  {
   "cell_type": "code",
   "execution_count": 324,
   "metadata": {
    "ExecuteTime": {
     "end_time": "2021-04-22T16:36:08.861984Z",
     "start_time": "2021-04-22T16:35:38.367307Z"
    }
   },
   "outputs": [
    {
     "name": "stderr",
     "output_type": "stream",
     "text": [
      "UserWarning: User-defined function verification is still under development in Modin. The function provided is not verified.\n"
     ]
    }
   ],
   "source": [
    "candirxnsfiltd=mpd.DataFrame(candirxnsparsedfilt)\n",
    "fragassigned=candirxnsfiltd.apply(assignfragsrow,querydict=querydict,natoms=6,axis=1,result_type='reduce')\n",
    "fragassigned=pd.Series(data=fragassigned.values,index=fragassigned.index) #Optional convert modin back to pandas\n",
    "fragassigneddf=pd.DataFrame(data=fragassigned.tolist(),index=fragassigned.index,columns=['LHSdata','msg2'])\n",
    "candirxnsassigned=candirxnsparsedfilt.copy()\n",
    "candirxnsassigned[['LHSdata','msg2']]=fragassigneddf #assigned query compounds"
   ]
  },
  {
   "cell_type": "code",
   "execution_count": 326,
   "metadata": {
    "ExecuteTime": {
     "end_time": "2021-04-22T16:38:46.049828Z",
     "start_time": "2021-04-22T16:38:46.039018Z"
    }
   },
   "outputs": [
    {
     "data": {
      "text/plain": [
       "{2516323: {'atomdict': {'H': 10, 'C': 9, 'O': 1},\n",
       "  'charge': 0,\n",
       "  'smiles': '[2H]/C(=C\\\\CO)c1ccccc1',\n",
       "  'formula': 'C9H10O',\n",
       "  'count': 1,\n",
       "  'mappedsmiles': ['[2H:1]/[C:2](=[CH:3]\\\\[CH2:4][OH:5])[c:6]1[cH:7][cH:8][cH:9][cH:10][cH:11]1'],\n",
       "  'cleanmol': [<rdkit.Chem.rdchem.Mol at 0x7f8b8b0e87c0>]}}"
      ]
     },
     "execution_count": 326,
     "metadata": {},
     "output_type": "execute_result"
    },
    {
     "data": {
      "text/plain": [
       "{2516323: {'atomdict': {'H': 10, 'C': 9, 'O': 1},\n",
       "  'charge': 0,\n",
       "  'smiles': '[2H]/C(=C\\\\CO)c1ccccc1',\n",
       "  'formula': 'C9H10O',\n",
       "  'count': 1,\n",
       "  'mappedsmiles': ['[2H:1]/[C:2](=[CH:3]\\\\[CH2:4][OH:5])[c:6]1[cH:7][cH:8][cH:9][cH:10][cH:11]1'],\n",
       "  'cleanmol': [<rdkit.Chem.rdchem.Mol at 0x7f8b90c8a2c0>],\n",
       "  'querycompds': {'[H]OC([H])([H])C': ['NNCCO',\n",
       "    'CCc1nn(CCO)c(CC)c1Oc1cc(C#N)cc(C#N)c1']}}}"
      ]
     },
     "execution_count": 326,
     "metadata": {},
     "output_type": "execute_result"
    }
   ],
   "source": [
    "candirxnsparsedfilt.iloc[0].LHSdata\n",
    "candirxnsassigned.iloc[0].LHSdata"
   ]
  },
  {
   "cell_type": "code",
   "execution_count": 325,
   "metadata": {
    "ExecuteTime": {
     "end_time": "2021-04-22T16:36:23.409678Z",
     "start_time": "2021-04-22T16:36:16.490115Z"
    }
   },
   "outputs": [],
   "source": [
    "pd.to_pickle(candirxnsassigned,assigndir+'candidate_rxns_assigned.pickle')"
   ]
  },
  {
   "cell_type": "markdown",
   "metadata": {},
   "source": [
    "## Candidate reaction filtering (IV)"
   ]
  },
  {
   "cell_type": "markdown",
   "metadata": {},
   "source": [
    "Note that only analogue species are assigned fragments and query species. While balancing, it is likely that some non-analogue species were added, for instance help reactants or reagents, and therefore these reactions need to be removed as they are not of interest. `msg2` includes any errors of this nature."
   ]
  },
  {
   "cell_type": "code",
   "execution_count": null,
   "metadata": {},
   "outputs": [],
   "source": [
    "candirxnsassignedfilt=pd.read_pickle(assigndir+'candidate_rxns_assigned_filt.pickle') #In case step already complete"
   ]
  },
  {
   "cell_type": "code",
   "execution_count": null,
   "metadata": {
    "ExecuteTime": {
     "end_time": "2021-04-22T16:45:24.191050Z",
     "start_time": "2021-04-22T16:45:24.101765Z"
    }
   },
   "outputs": [],
   "source": [
    "ec6=candirxnsassigned.loc[candirxnsassigned['msg2']!='Valid']"
   ]
  },
  {
   "cell_type": "code",
   "execution_count": null,
   "metadata": {
    "ExecuteTime": {
     "end_time": "2021-04-22T16:45:24.191050Z",
     "start_time": "2021-04-22T16:45:24.101765Z"
    }
   },
   "outputs": [],
   "source": [
    "candirxnsassignedfilt=candirxnsassigned.loc[candirxnsassigned['msg2']=='Valid'] #Remove hc reactants not analogue"
   ]
  },
  {
   "cell_type": "code",
   "execution_count": 329,
   "metadata": {
    "ExecuteTime": {
     "end_time": "2021-04-22T16:45:24.191050Z",
     "start_time": "2021-04-22T16:45:24.101765Z"
    }
   },
   "outputs": [
    {
     "data": {
      "text/plain": [
       "'Percentage of reactions with all analogue species: 78.08'"
      ]
     },
     "execution_count": 329,
     "metadata": {},
     "output_type": "execute_result"
    },
    {
     "data": {
      "text/plain": [
       "'Percentage of reactions remaining (based on original): 27.55'"
      ]
     },
     "execution_count": 329,
     "metadata": {},
     "output_type": "execute_result"
    }
   ],
   "source": [
    "'Percentage of reactions with all analogue species: '+str(round(len(candirxnsassignedfilt.index)/len(candirxnsassigned.index)*100,2))\n",
    "'Percentage of reactions remaining (based on original): '+str(round(len(candirxnsassignedfilt.index)/len(candirxns.index)*100,2))"
   ]
  },
  {
   "cell_type": "code",
   "execution_count": 332,
   "metadata": {
    "ExecuteTime": {
     "end_time": "2021-04-22T16:48:30.520965Z",
     "start_time": "2021-04-22T16:48:25.079605Z"
    }
   },
   "outputs": [],
   "source": [
    "candirxnsassignedfilt.to_pickle(assigndir+'candidate_rxns_assigned_filt.pickle')"
   ]
  },
  {
   "cell_type": "markdown",
   "metadata": {},
   "source": [
    "## Extracting reaction center"
   ]
  },
  {
   "cell_type": "markdown",
   "metadata": {},
   "source": [
    "Next, the reaction centers are extracted for each reaction record, which is a set of atoms (map numbers) that change from reactants to products, stored under the `rxncentermapnum` column. `mapdict` is a dictionary linking mapped numbers to where the corresponding atoms are in reactants and products. `rxncenter` indicates if a reaction center is present, as in some cases, this may not exist (eg. mixture separation)."
   ]
  },
  {
   "cell_type": "code",
   "execution_count": null,
   "metadata": {},
   "outputs": [],
   "source": [
    "candirxnscent=pd.read_pickle(assigndir+'candidate_rxns_center.pickle')"
   ]
  },
  {
   "cell_type": "code",
   "execution_count": 333,
   "metadata": {
    "ExecuteTime": {
     "end_time": "2021-04-22T16:54:45.915078Z",
     "start_time": "2021-04-22T16:53:31.300169Z"
    }
   },
   "outputs": [
    {
     "name": "stderr",
     "output_type": "stream",
     "text": [
      "2021-04-22 17:53:37,205\tINFO services.py:1171 -- View the Ray dashboard at \u001b[1m\u001b[32mhttp://127.0.0.1:8265\u001b[39m\u001b[22m\n",
      "UserWarning: Distributing <class 'pandas.core.frame.DataFrame'> object. This may take some time.\n",
      "UserWarning: User-defined function verification is still under development in Modin. The function provided is not verified.\n"
     ]
    }
   ],
   "source": [
    "initray() #Restart to clear memory\n",
    "candirxnsfiltd=mpd.DataFrame(candirxnsassignedfilt)\n",
    "rxncenterser=candirxnsfiltd.apply(getrxncenterrow,axis=1,result_type='reduce')\n",
    "rxncenterser=pd.Series(data=rxncenterser.values,index=rxncenterser.index) #Optional convert modin back to pandas\n",
    "rxncenterdf=pd.DataFrame(data=rxncenterser.tolist(),index=rxncenterser.index,columns=['mapdict','rxncentermapnum','rxncenter'])\n",
    "candirxnscent=candirxnsassignedfilt.copy()\n",
    "candirxnscent[['mapdict','rxncentermapnum','rxncenter']]=rxncenterdf"
   ]
  },
  {
   "cell_type": "code",
   "execution_count": 334,
   "metadata": {
    "ExecuteTime": {
     "end_time": "2021-04-22T16:56:28.658915Z",
     "start_time": "2021-04-22T16:56:28.643406Z"
    }
   },
   "outputs": [
    {
     "data": {
      "text/plain": [
       "rxnsmiles0             [2H]/C(=C\\CO)c1ccccc1>>[2H]/C(=C\\C=O)c1ccccc1\n",
       "balrxnsmiles       [2H]/C(=C\\CO)c1ccccc1>>[2H]/C(=C\\C=O)c1ccccc1....\n",
       "msg                                Balanced with help product(s): H2\n",
       "LHS                                                        [2516323]\n",
       "RHS                                                        [3088396]\n",
       "hcrct                                                             []\n",
       "hcprod                                                           [1]\n",
       "LHSdata            {2516323: {'atomdict': {'H': 10, 'C': 9, 'O': ...\n",
       "RHSdata            {3088396: {'atomdict': {'H': 8, 'C': 9, 'O': 1...\n",
       "NumRefs                                                            2\n",
       "NumSteps                                                      [1, 1]\n",
       "SolventID                                         [1730800, 1730800]\n",
       "CatalystID                                                       NaN\n",
       "mapped_rxn         [2H:1]/[C:2](=[CH:3]\\[CH2:4][OH:5])[c:6]1[cH:7...\n",
       "mapped_conf                                                 0.971759\n",
       "msg1                                                           Valid\n",
       "msg2                                                           Valid\n",
       "mapdict            {1: (2516323, 0, 0, 3088396, 0, 0), 2: (251632...\n",
       "rxncentermapnum                                               {4, 5}\n",
       "rxncenter                                                       True\n",
       "Name: 37907065, dtype: object"
      ]
     },
     "execution_count": 334,
     "metadata": {},
     "output_type": "execute_result"
    }
   ],
   "source": [
    "candirxnscent.iloc[0]"
   ]
  },
  {
   "cell_type": "code",
   "execution_count": 335,
   "metadata": {
    "ExecuteTime": {
     "end_time": "2021-04-22T16:57:29.012376Z",
     "start_time": "2021-04-22T16:57:23.323573Z"
    }
   },
   "outputs": [],
   "source": [
    "candirxnscent.to_pickle(assigndir+'candidate_rxns_center.pickle')"
   ]
  },
  {
   "cell_type": "markdown",
   "metadata": {},
   "source": [
    "## Candidate reaction filtering (V)"
   ]
  },
  {
   "cell_type": "markdown",
   "metadata": {},
   "source": [
    "Based on `rxncenter`, candidate reactions without reaction centers and/or containing product mixtures can be filtered out"
   ]
  },
  {
   "cell_type": "code",
   "execution_count": null,
   "metadata": {},
   "outputs": [],
   "source": [
    "candirxnscentfilt=pd.read_pickle(assigndir+'candidate_rxns_center_filt.pickle')"
   ]
  },
  {
   "cell_type": "code",
   "execution_count": null,
   "metadata": {
    "ExecuteTime": {
     "end_time": "2021-04-22T17:24:22.194335Z",
     "start_time": "2021-04-22T17:24:21.918653Z"
    }
   },
   "outputs": [],
   "source": [
    "ec7=candirxnscent.loc[(candirxnscent.rxncenter!=True)]"
   ]
  },
  {
   "cell_type": "code",
   "execution_count": null,
   "metadata": {
    "ExecuteTime": {
     "end_time": "2021-04-22T17:24:22.194335Z",
     "start_time": "2021-04-22T17:24:21.918653Z"
    }
   },
   "outputs": [],
   "source": [
    "candirxnscentfilt=candirxnscent.loc[candirxnscent.rxncenter==True]"
   ]
  },
  {
   "cell_type": "code",
   "execution_count": 336,
   "metadata": {
    "ExecuteTime": {
     "end_time": "2021-04-22T17:24:22.194335Z",
     "start_time": "2021-04-22T17:24:21.918653Z"
    }
   },
   "outputs": [
    {
     "data": {
      "text/plain": [
       "'Percentage of reactions with reaction center: 97.28'"
      ]
     },
     "execution_count": 336,
     "metadata": {},
     "output_type": "execute_result"
    },
    {
     "data": {
      "text/plain": [
       "'Percentage of reactions remaining (based on original): 26.8'"
      ]
     },
     "execution_count": 336,
     "metadata": {},
     "output_type": "execute_result"
    }
   ],
   "source": [
    "'Percentage of reactions with reaction center: '+str(round(len(candirxnscentfilt.index)/len(candirxnscent.index)*100,2))\n",
    "'Percentage of reactions remaining (based on original): '+str(round(len(candirxnscentfilt.index)/len(candirxns.index)*100,2))"
   ]
  },
  {
   "cell_type": "code",
   "execution_count": 337,
   "metadata": {
    "ExecuteTime": {
     "end_time": "2021-04-22T17:27:37.395780Z",
     "start_time": "2021-04-22T17:27:31.666792Z"
    }
   },
   "outputs": [],
   "source": [
    "candirxnscentfilt.to_pickle(assigndir+'candidate_rxns_center_filt.pickle')"
   ]
  },
  {
   "cell_type": "markdown",
   "metadata": {},
   "source": [
    "## Valid reaction center"
   ]
  },
  {
   "cell_type": "markdown",
   "metadata": {},
   "source": [
    "Finally, the location of the reaction center is assessed. The atom indices of each fragment match for the analogue species is stored, along with information on which fragments react. If no fragment matches are found, then the substance is not analogue (`noanalogue` column), and if no functional groups are found (eg./ H2, alkanes, benzene etc.), this is recorded under the `nofg` column. Then, the reaction center is first checked to ensure that it lies within the reacting fragments (`outfrag` column) A more granular check if performed on whether the reaction center lies within functional groups/active fragments within reacting carrier fragments (`outfg` column). "
   ]
  },
  {
   "cell_type": "code",
   "execution_count": null,
   "metadata": {},
   "outputs": [],
   "source": [
    "candirxnscentII=pd.read_pickle(assigndir+'candidate_rxns_centerII.pickle')"
   ]
  },
  {
   "cell_type": "code",
   "execution_count": 339,
   "metadata": {
    "ExecuteTime": {
     "end_time": "2021-04-22T17:44:26.904066Z",
     "start_time": "2021-04-22T17:43:16.847927Z"
    }
   },
   "outputs": [
    {
     "name": "stderr",
     "output_type": "stream",
     "text": [
      "UserWarning: Distributing <class 'pandas.core.frame.DataFrame'> object. This may take some time.\n",
      "UserWarning: User-defined function verification is still under development in Modin. The function provided is not verified.\n"
     ]
    }
   ],
   "source": [
    "candirxnsfiltd=mpd.DataFrame(candirxnscentfilt)\n",
    "validrxncent=candirxnsfiltd.apply(validrxncenterrow,fragdict=fragdict,axis=1,result_type='reduce')\n",
    "validcenterser=pd.Series(data=validrxncent.values,index=validrxncent.index) #Optional convert modin back to pandas\n",
    "validcenterdf=pd.DataFrame(data=validcenterser.tolist(),index=validcenterser.index,columns=['LHSdata','msg3','nofg','noanalogue','outfrag','outfg'])\n",
    "candirxnscentII=candirxnscentfilt.copy()\n",
    "candirxnscentII[['LHSdata','msg3','nofg','noanalogue','outfrag','outfg']]=validcenterdf"
   ]
  },
  {
   "cell_type": "code",
   "execution_count": 343,
   "metadata": {
    "ExecuteTime": {
     "end_time": "2021-04-22T17:47:02.597602Z",
     "start_time": "2021-04-22T17:47:02.572502Z"
    }
   },
   "outputs": [
    {
     "data": {
      "text/plain": [
       "rxnsmiles0             [2H]/C(=C\\CO)c1ccccc1>>[2H]/C(=C\\C=O)c1ccccc1\n",
       "balrxnsmiles       [2H]/C(=C\\CO)c1ccccc1>>[2H]/C(=C\\C=O)c1ccccc1....\n",
       "msg                                Balanced with help product(s): H2\n",
       "LHS                                                        [2516323]\n",
       "RHS                                                        [3088396]\n",
       "hcrct                                                             []\n",
       "hcprod                                                           [1]\n",
       "LHSdata            {2516323: {'atomdict': {'H': 10, 'C': 9, 'O': ...\n",
       "RHSdata            {3088396: {'atomdict': {'H': 8, 'C': 9, 'O': 1...\n",
       "NumRefs                                                            2\n",
       "NumSteps                                                      [1, 1]\n",
       "SolventID                                         [1730800, 1730800]\n",
       "CatalystID                                                       NaN\n",
       "mapped_rxn         [2H:1]/[C:2](=[CH:3]\\[CH2:4][OH:5])[c:6]1[cH:7...\n",
       "mapped_conf                                                 0.971759\n",
       "msg1                                                           Valid\n",
       "msg2                                                           Valid\n",
       "mapdict            {1: (2516323, 0, 0, 3088396, 0, 0), 2: (251632...\n",
       "rxncentermapnum                                               {4, 5}\n",
       "rxncenter                                                       True\n",
       "msg3                Species 2516323 not reacting at functional group\n",
       "nofg                                                              []\n",
       "noanalogue                                                        []\n",
       "outfrag                                                           []\n",
       "outfg                                                 {2516323: [4]}\n",
       "Name: 37907065, dtype: object"
      ]
     },
     "execution_count": 343,
     "metadata": {},
     "output_type": "execute_result"
    },
    {
     "data": {
      "text/plain": [
       "{2516323: {'atomdict': {'H': 10, 'C': 9, 'O': 1},\n",
       "  'charge': 0,\n",
       "  'smiles': '[2H]/C(=C\\\\CO)c1ccccc1',\n",
       "  'formula': 'C9H10O',\n",
       "  'count': 1,\n",
       "  'mappedsmiles': ['[2H:1]/[C:2](=[CH:3]\\\\[CH2:4][OH:5])[c:6]1[cH:7][cH:8][cH:9][cH:10][cH:11]1'],\n",
       "  'cleanmol': [<rdkit.Chem.rdchem.Mol at 0x7f8b919be900>],\n",
       "  'querycompds': {'[H]OC([H])([H])C': ['NNCCO',\n",
       "    'CCc1nn(CCO)c(CC)c1Oc1cc(C#N)cc(C#N)c1']},\n",
       "  'fragloc': {0: {'[H]OC([H])([H])C': {'corrmatches': [(2, 3, 4)],\n",
       "     'funcgroupids': [{4}]}}},\n",
       "  'reacfrag': {0: {'[H]OC([H])([H])C': [0]}}}}"
      ]
     },
     "execution_count": 343,
     "metadata": {},
     "output_type": "execute_result"
    }
   ],
   "source": [
    "candirxnscentII.iloc[0]\n",
    "candirxnscentII.iloc[0].LHSdata"
   ]
  },
  {
   "cell_type": "code",
   "execution_count": 340,
   "metadata": {
    "ExecuteTime": {
     "end_time": "2021-04-22T17:44:54.112270Z",
     "start_time": "2021-04-22T17:44:47.799709Z"
    }
   },
   "outputs": [],
   "source": [
    "candirxnscentII.to_pickle(assigndir+'candidate_rxns_centerII.pickle')"
   ]
  },
  {
   "cell_type": "markdown",
   "metadata": {},
   "source": [
    "## Candidate reaction filtering (VI)"
   ]
  },
  {
   "cell_type": "markdown",
   "metadata": {},
   "source": [
    "There are several source of error here. The first is if any species are non-analogue. The second is if any species reacts outside carrier fragments. The third (optional) is if any species reacts outside functional groups, although this was found to be too restrictive. Note that compounds without functional groups are still kept. These error-prone records are removed, resulting in `candirxnsfinal`."
   ]
  },
  {
   "cell_type": "code",
   "execution_count": null,
   "metadata": {},
   "outputs": [],
   "source": [
    "candirxnsfinal=pd.read_pickle(rxncenterscreendir+'candidate_rxns_final.pickle')"
   ]
  },
  {
   "cell_type": "code",
   "execution_count": null,
   "metadata": {
    "ExecuteTime": {
     "end_time": "2021-04-22T18:24:45.189340Z",
     "start_time": "2021-04-22T18:24:45.060393Z"
    }
   },
   "outputs": [],
   "source": [
    "ec8=candirxnscentII.loc[(candirxnscentII['noanalogue'].astype(bool))]\n",
    "ec9=candirxnscentII.loc[candirxnscentII['outfrag'].astype(bool) & (~candirxnscentII['noanalogue'].astype(bool))]\n",
    "ec10=candirxnscentII.loc[candirxnscentII['outfg'].astype(bool) & (~candirxnscentII['noanalogue'].astype(bool)) & (~candirxnscentII['outfrag'].astype(bool))]\n",
    "perfectrxns=candirxnscentII.loc[candirxnscentII.msg3=='Valid']"
   ]
  },
  {
   "cell_type": "code",
   "execution_count": null,
   "metadata": {
    "ExecuteTime": {
     "end_time": "2021-04-22T18:24:45.189340Z",
     "start_time": "2021-04-22T18:24:45.060393Z"
    }
   },
   "outputs": [],
   "source": [
    "candirxnsfinal=candirxnscentII.loc[(~candirxnscentII['noanalogue'].astype(bool)) & (~candirxnscentII['outfrag'].astype(bool))]"
   ]
  },
  {
   "cell_type": "code",
   "execution_count": 357,
   "metadata": {
    "ExecuteTime": {
     "end_time": "2021-04-22T18:24:45.189340Z",
     "start_time": "2021-04-22T18:24:45.060393Z"
    }
   },
   "outputs": [
    {
     "data": {
      "text/plain": [
       "'Percentage of reactions all analogue and reacting at fragments: 38.79'"
      ]
     },
     "execution_count": 357,
     "metadata": {},
     "output_type": "execute_result"
    },
    {
     "data": {
      "text/plain": [
       "'Percentage of reactions reacting outside functional groups: 38.03'"
      ]
     },
     "execution_count": 357,
     "metadata": {},
     "output_type": "execute_result"
    },
    {
     "data": {
      "text/plain": [
       "'Percentage of reactions all analogue and reacting at functional groups: 0.76'"
      ]
     },
     "execution_count": 357,
     "metadata": {},
     "output_type": "execute_result"
    },
    {
     "data": {
      "text/plain": [
       "'Percentage of reactions with non-analogue species: 4.94'"
      ]
     },
     "execution_count": 357,
     "metadata": {},
     "output_type": "execute_result"
    },
    {
     "data": {
      "text/plain": [
       "'Percentage of reactions reacting outside fragments: 56.27'"
      ]
     },
     "execution_count": 357,
     "metadata": {},
     "output_type": "execute_result"
    },
    {
     "data": {
      "text/plain": [
       "'Percentage of reactions remaining (based on original): 10.4'"
      ]
     },
     "execution_count": 357,
     "metadata": {},
     "output_type": "execute_result"
    }
   ],
   "source": [
    "'Percentage of reactions all analogue and reacting at fragments: '+str(round(len(candirxnsfinal.index)/len(candirxnscentII.index)*100,2))\n",
    "'Percentage of reactions reacting outside functional groups: '+str(round(len(ec10.index)/len(candirxnscentII.index)*100,2))\n",
    "'Percentage of reactions all analogue and reacting at functional groups: '+str(round(len(perfectrxns.index)/len(candirxnscentII.index)*100,2))\n",
    "'Percentage of reactions with non-analogue species: '+str(round(len(ec8.index)/len(candirxnscentII.index)*100,2)) \n",
    "'Percentage of reactions reacting outside fragments: '+str(round(len(ec9.index)/len(candirxnscentII.index)*100,2))\n",
    "'Percentage of reactions remaining (based on original): '+str(round(len(candirxnsfinal.index)/len(candirxns.index)*100,2))                                                                                    "
   ]
  },
  {
   "cell_type": "code",
   "execution_count": 358,
   "metadata": {
    "ExecuteTime": {
     "end_time": "2021-04-23T02:46:17.398581Z",
     "start_time": "2021-04-23T02:46:15.306339Z"
    }
   },
   "outputs": [],
   "source": [
    "candirxnsfinal.to_pickle(rxncenterscreendir+'candidate_rxns_final.pickle')"
   ]
  },
  {
   "cell_type": "markdown",
   "metadata": {},
   "source": [
    "## Template generation"
   ]
  },
  {
   "cell_type": "markdown",
   "metadata": {},
   "source": [
    "Finally, templates are generated from reacting carrier fragments"
   ]
  },
  {
   "cell_type": "code",
   "execution_count": null,
   "metadata": {},
   "outputs": [],
   "source": [
    "candirxnstempl=pd.read_pickle(rxncenterscreendir+'candidate_rxns_template.pickle')"
   ]
  },
  {
   "cell_type": "code",
   "execution_count": 359,
   "metadata": {
    "ExecuteTime": {
     "end_time": "2021-04-23T02:47:21.372109Z",
     "start_time": "2021-04-23T02:47:03.216210Z"
    }
   },
   "outputs": [
    {
     "name": "stderr",
     "output_type": "stream",
     "text": [
      "2021-04-23 03:47:07,766\tINFO services.py:1171 -- View the Ray dashboard at \u001b[1m\u001b[32mhttp://127.0.0.1:8265\u001b[39m\u001b[22m\n",
      "UserWarning: Distributing <class 'pandas.core.frame.DataFrame'> object. This may take some time.\n",
      "UserWarning: User-defined function verification is still under development in Modin. The function provided is not verified.\n"
     ]
    }
   ],
   "source": [
    "initray()\n",
    "candirxnsfinald=mpd.DataFrame(candirxnsfinal)\n",
    "templts=candirxnsfinald.apply(gen_template_row,axis=1,result_type='reduce')\n",
    "templtser=pd.Series(data=templts.values,index=templts.index) #Optional convert modin back to pandas\n",
    "templtdf=pd.DataFrame(data=templtser.tolist(),index=templtser.index,columns=['template','LHSdata','RHSdata','msg4','farfg'])\n",
    "candirxnstempl=candirxnsfinal.copy()\n",
    "candirxnstempl[['template','LHSdata','RHSdata','msg4','farfg']]=templtdf"
   ]
  },
  {
   "cell_type": "code",
   "execution_count": 360,
   "metadata": {
    "ExecuteTime": {
     "end_time": "2021-04-23T02:47:47.248003Z",
     "start_time": "2021-04-23T02:47:47.229708Z"
    }
   },
   "outputs": [
    {
     "data": {
      "text/plain": [
       "rxnsmiles0             [2H]/C(=C\\CO)c1ccccc1>>[2H]/C(=C\\C=O)c1ccccc1\n",
       "balrxnsmiles       [2H]/C(=C\\CO)c1ccccc1>>[2H]/C(=C\\C=O)c1ccccc1....\n",
       "msg                                Balanced with help product(s): H2\n",
       "LHS                                                        [2516323]\n",
       "RHS                                                        [3088396]\n",
       "hcrct                                                             []\n",
       "hcprod                                                           [1]\n",
       "LHSdata            {2516323: {'atomdict': {'H': 10, 'C': 9, 'O': ...\n",
       "RHSdata            {3088396: {'atomdict': {'H': 8, 'C': 9, 'O': 1...\n",
       "NumRefs                                                            2\n",
       "NumSteps                                                      [1, 1]\n",
       "SolventID                                         [1730800, 1730800]\n",
       "CatalystID                                                       NaN\n",
       "mapped_rxn         [2H:1]/[C:2](=[CH:3]\\[CH2:4][OH:5])[c:6]1[cH:7...\n",
       "mapped_conf                                                 0.971759\n",
       "msg1                                                           Valid\n",
       "msg2                                                           Valid\n",
       "mapdict            {1: (2516323, 0, 0, 3088396, 0, 0), 2: (251632...\n",
       "rxncentermapnum                                               {4, 5}\n",
       "rxncenter                                                       True\n",
       "msg3                Species 2516323 not reacting at functional group\n",
       "nofg                                                              []\n",
       "noanalogue                                                        []\n",
       "outfrag                                                           []\n",
       "outfg                                                 {2516323: [4]}\n",
       "template           [#6H:3]-[#6H2:4]-[#8H:5]>>[#6H:3]-[#6H:4]=[#8:...\n",
       "msg4                                                           Valid\n",
       "farfg                                                             []\n",
       "Name: 37907065, dtype: object"
      ]
     },
     "execution_count": 360,
     "metadata": {},
     "output_type": "execute_result"
    }
   ],
   "source": [
    "candirxnstempl.iloc[0]"
   ]
  },
  {
   "cell_type": "code",
   "execution_count": 361,
   "metadata": {
    "ExecuteTime": {
     "end_time": "2021-04-23T03:49:21.626965Z",
     "start_time": "2021-04-23T03:49:19.405249Z"
    }
   },
   "outputs": [],
   "source": [
    "candirxnstempl.to_pickle(rxncenterscreendir+'candidate_rxns_template.pickle')"
   ]
  },
  {
   "cell_type": "markdown",
   "metadata": {},
   "source": [
    "## Candidate reaction filtering (VII)"
   ]
  },
  {
   "cell_type": "markdown",
   "metadata": {},
   "source": [
    "Some templates feature reacting fragments that are too far away from each other, leading to RDKit breaking up the species into two fragments instead of joining them appropriately. These templates are therefore invalid and need to be removed until a way to resolve this issue is found."
   ]
  },
  {
   "cell_type": "code",
   "execution_count": null,
   "metadata": {},
   "outputs": [],
   "source": [
    "candirxnstemplfilt=pd.read_pickle(rxncenterscreendir+'candidate_rxns_template_filt.pickle')"
   ]
  },
  {
   "cell_type": "code",
   "execution_count": 363,
   "metadata": {
    "ExecuteTime": {
     "end_time": "2021-04-23T03:56:06.136507Z",
     "start_time": "2021-04-23T03:56:06.065651Z"
    }
   },
   "outputs": [],
   "source": [
    "ec10=candirxnstempl.loc[candirxnstempl.msg4!='Valid']"
   ]
  },
  {
   "cell_type": "code",
   "execution_count": 364,
   "metadata": {
    "ExecuteTime": {
     "end_time": "2021-04-23T03:56:07.545619Z",
     "start_time": "2021-04-23T03:56:07.531827Z"
    }
   },
   "outputs": [],
   "source": [
    "candirxnstemplfilt=candirxnstempl.loc[candirxnstempl.msg4=='Valid'] #Remove entries where fgs too far from one another"
   ]
  },
  {
   "cell_type": "code",
   "execution_count": 366,
   "metadata": {
    "ExecuteTime": {
     "end_time": "2021-04-23T03:56:44.609899Z",
     "start_time": "2021-04-23T03:56:44.602365Z"
    }
   },
   "outputs": [
    {
     "data": {
      "text/plain": [
       "'Percentage of templates with close reacting fragments: 97.25'"
      ]
     },
     "execution_count": 366,
     "metadata": {},
     "output_type": "execute_result"
    },
    {
     "data": {
      "text/plain": [
       "'Percentage of reactions remaining (based on original): 10.11'"
      ]
     },
     "execution_count": 366,
     "metadata": {},
     "output_type": "execute_result"
    }
   ],
   "source": [
    "'Percentage of templates with close reacting fragments: '+str(round(len(candirxnstemplfilt.index)/len(candirxnstempl.index)*100,2))\n",
    "'Percentage of reactions remaining (based on original): '+str(round(len(candirxnstemplfilt.index)/len(candirxns.index)*100,2))  "
   ]
  },
  {
   "cell_type": "code",
   "execution_count": 367,
   "metadata": {
    "ExecuteTime": {
     "end_time": "2021-04-23T03:56:58.146678Z",
     "start_time": "2021-04-23T03:56:56.157355Z"
    }
   },
   "outputs": [],
   "source": [
    "candirxnstemplfilt.to_pickle(rxncenterscreendir+'candidate_rxns_template_filt.pickle')"
   ]
  },
  {
   "cell_type": "markdown",
   "metadata": {},
   "source": [
    "## Template application and impurity generation"
   ]
  },
  {
   "cell_type": "markdown",
   "metadata": {},
   "source": [
    "Finally, templates are applied to any valid query species to generate possible impurities"
   ]
  },
  {
   "cell_type": "code",
   "execution_count": null,
   "metadata": {},
   "outputs": [],
   "source": [
    "candirxnsimp=pd.read_pickle(rxncenterscreendir+'candidate_rxns_impurities.pickle')"
   ]
  },
  {
   "cell_type": "code",
   "execution_count": 369,
   "metadata": {
    "ExecuteTime": {
     "end_time": "2021-04-23T04:00:06.583196Z",
     "start_time": "2021-04-23T03:59:41.102753Z"
    }
   },
   "outputs": [],
   "source": [
    "candirxnsfinald=mpd.DataFrame(candirxnstemplfilt)\n",
    "impurities=candirxnsfinald.apply(apply_template_row,inputquery=inputquery,axis=1,result_type='reduce')\n",
    "impurities=pd.Series(data=impurities.values,index=impurities.index) #Optional convert modin back to pandas\n",
    "impuritiesdf=pd.DataFrame(data=impurities.tolist(),index=impurities.index,columns=['querycompds','impurities','impurityrxn','msg5'])\n",
    "candirxnsimp=candirxnstemplfilt.copy()\n",
    "candirxnsimp[['querycompds','impurities','impurityrxn','msg5']]=impuritiesdf"
   ]
  },
  {
   "cell_type": "code",
   "execution_count": 370,
   "metadata": {
    "ExecuteTime": {
     "end_time": "2021-04-23T04:00:37.215927Z",
     "start_time": "2021-04-23T04:00:30.528043Z"
    }
   },
   "outputs": [
    {
     "name": "stderr",
     "output_type": "stream",
     "text": [
      "2021-04-23 05:00:35,154\tINFO services.py:1171 -- View the Ray dashboard at \u001b[1m\u001b[32mhttp://127.0.0.1:8265\u001b[39m\u001b[22m\n"
     ]
    }
   ],
   "source": [
    "initray()"
   ]
  },
  {
   "cell_type": "code",
   "execution_count": 372,
   "metadata": {
    "ExecuteTime": {
     "end_time": "2021-04-23T04:02:23.862710Z",
     "start_time": "2021-04-23T04:02:23.847382Z"
    }
   },
   "outputs": [
    {
     "data": {
      "text/plain": [
       "rxnsmiles0             [2H]/C(=C\\CO)c1ccccc1>>[2H]/C(=C\\C=O)c1ccccc1\n",
       "balrxnsmiles       [2H]/C(=C\\CO)c1ccccc1>>[2H]/C(=C\\C=O)c1ccccc1....\n",
       "msg                                Balanced with help product(s): H2\n",
       "LHS                                                        [2516323]\n",
       "RHS                                                        [3088396]\n",
       "hcrct                                                             []\n",
       "hcprod                                                           [1]\n",
       "LHSdata            {2516323: {'atomdict': {'H': 10, 'C': 9, 'O': ...\n",
       "RHSdata            {3088396: {'atomdict': {'H': 8, 'C': 9, 'O': 1...\n",
       "NumRefs                                                            2\n",
       "NumSteps                                                      [1, 1]\n",
       "SolventID                                         [1730800, 1730800]\n",
       "CatalystID                                                       NaN\n",
       "mapped_rxn         [2H:1]/[C:2](=[CH:3]\\[CH2:4][OH:5])[c:6]1[cH:7...\n",
       "mapped_conf                                                 0.971759\n",
       "msg1                                                           Valid\n",
       "msg2                                                           Valid\n",
       "mapdict            {1: (2516323, 0, 0, 3088396, 0, 0), 2: (251632...\n",
       "rxncentermapnum                                               {4, 5}\n",
       "rxncenter                                                       True\n",
       "msg3                Species 2516323 not reacting at functional group\n",
       "nofg                                                              []\n",
       "noanalogue                                                        []\n",
       "outfrag                                                           []\n",
       "outfg                                                 {2516323: [4]}\n",
       "template           [#6H:3]-[#6H2:4]-[#8H:5]>>[#6H:3]-[#6H:4]=[#8:...\n",
       "msg4                                                           Valid\n",
       "farfg                                                             []\n",
       "querycompds        [(NNCCO,), (CCc1nn(CCO)c(CC)c1Oc1cc(C#N)cc(C#N...\n",
       "impurities         [{(NNCC=O, [H][H])}, {(CCc1nn(CC=O)c(CC)c1Oc1c...\n",
       "impurityrxn        [{NNCCO>>NNCC=O.[H][H]}, {CCc1nn(CCO)c(CC)c1Oc...\n",
       "msg5                                                           Valid\n",
       "Name: 37907065, dtype: object"
      ]
     },
     "execution_count": 372,
     "metadata": {},
     "output_type": "execute_result"
    }
   ],
   "source": [
    "candirxnsimp.iloc[0]"
   ]
  },
  {
   "cell_type": "code",
   "execution_count": 371,
   "metadata": {
    "ExecuteTime": {
     "end_time": "2021-04-23T04:02:09.555495Z",
     "start_time": "2021-04-23T04:02:07.573055Z"
    }
   },
   "outputs": [],
   "source": [
    "candirxnsimp.to_pickle(rxncenterscreendir+'candidate_rxns_impurities.pickle')"
   ]
  },
  {
   "cell_type": "markdown",
   "metadata": {},
   "source": [
    "## Candidate reaction filtering (VIII)"
   ]
  },
  {
   "cell_type": "markdown",
   "metadata": {},
   "source": [
    "There are several types of errors that can be encountered when applying templates. The first is when the analogue species has too many reacting functional groups relative to the query species (`ec11`), the second is when the template cannot be applied to query species (`ec12`), the third is when the impurities suggested are not chemically valid due to valence errors etc. (`ec13`). These records are filtered out, giving `candirxnsimpfinal`. Finally, impurity reactions are scanned within each record, and equivalent reactions are removed."
   ]
  },
  {
   "cell_type": "code",
   "execution_count": 382,
   "metadata": {
    "ExecuteTime": {
     "end_time": "2021-04-23T04:38:15.156558Z",
     "start_time": "2021-04-23T04:38:15.124648Z"
    }
   },
   "outputs": [],
   "source": [
    "# candirxnsimp.loc[candirxnsimp.msg5!='Valid']\n",
    "ec11=candirxnsimp[candirxnsimp.msg5.str.contains('Species')]\n",
    "ec12=candirxnsimp[candirxnsimp.msg5.str.contains('Template')]\n",
    "ec13=candirxnsimp[candirxnsimp.msg5.str.contains('Impurities')]"
   ]
  },
  {
   "cell_type": "code",
   "execution_count": 383,
   "metadata": {
    "ExecuteTime": {
     "end_time": "2021-04-23T04:38:18.027274Z",
     "start_time": "2021-04-23T04:38:17.820556Z"
    }
   },
   "outputs": [],
   "source": [
    "candirxnsimpfinal=candirxnsimp.loc[candirxnsimp.msg5=='Valid']"
   ]
  },
  {
   "cell_type": "code",
   "execution_count": 384,
   "metadata": {
    "ExecuteTime": {
     "end_time": "2021-04-23T04:40:13.950314Z",
     "start_time": "2021-04-23T04:40:13.932888Z"
    }
   },
   "outputs": [
    {
     "data": {
      "text/plain": [
       "'Percentage of valid templates and impurities: 95.51'"
      ]
     },
     "execution_count": 384,
     "metadata": {},
     "output_type": "execute_result"
    },
    {
     "data": {
      "text/plain": [
       "'Percentage of templates with too many reacting functional groups: 2.88'"
      ]
     },
     "execution_count": 384,
     "metadata": {},
     "output_type": "execute_result"
    },
    {
     "data": {
      "text/plain": [
       "'Percentage of invalid templates: 0.03'"
      ]
     },
     "execution_count": 384,
     "metadata": {},
     "output_type": "execute_result"
    },
    {
     "data": {
      "text/plain": [
       "'Percentage of invalid impurities: 1.58'"
      ]
     },
     "execution_count": 384,
     "metadata": {},
     "output_type": "execute_result"
    },
    {
     "data": {
      "text/plain": [
       "'Percentage of reactions remaining (based on original): 9.66'"
      ]
     },
     "execution_count": 384,
     "metadata": {},
     "output_type": "execute_result"
    }
   ],
   "source": [
    "'Percentage of valid templates and impurities: '+str(round(len(candirxnsimpfinal.index)/len(candirxnsimp.index)*100,2))\n",
    "'Percentage of templates with too many reacting functional groups: '+str(round(len(ec11.index)/len(candirxnsimp.index)*100,2))\n",
    "'Percentage of invalid templates: '+str(round(len(ec12.index)/len(candirxnsimp.index)*100,2))\n",
    "'Percentage of chemically invalid impurities: '+str(round(len(ec13.index)/len(candirxnsimp.index)*100,2))\n",
    "'Percentage of reactions remaining (based on original): '+str(round(len(candirxnsimpfinal.index)/len(candirxns.index)*100,2))  "
   ]
  },
  {
   "cell_type": "code",
   "execution_count": null,
   "metadata": {},
   "outputs": [],
   "source": [
    "candirxnsimpfinal=pd.read_pickle(rxncenterscreendir+'candidate_rxns_impurities_final.pickle')"
   ]
  },
  {
   "cell_type": "code",
   "execution_count": 385,
   "metadata": {
    "ExecuteTime": {
     "end_time": "2021-04-23T04:41:29.184107Z",
     "start_time": "2021-04-23T04:41:25.756854Z"
    }
   },
   "outputs": [
    {
     "name": "stderr",
     "output_type": "stream",
     "text": [
      "UserWarning: Distributing <class 'pandas.core.frame.DataFrame'> object. This may take some time.\n",
      "UserWarning: User-defined function verification is still under development in Modin. The function provided is not verified.\n",
      "SettingWithCopyWarning: \n",
      "A value is trying to be set on a copy of a slice from a DataFrame.\n",
      "Try using .loc[row_indexer,col_indexer] = value instead\n",
      "\n",
      "See the caveats in the documentation: https://pandas.pydata.org/pandas-docs/stable/user_guide/indexing.html#returning-a-view-versus-a-copy\n"
     ]
    }
   ],
   "source": [
    "candirxnsfinald=mpd.DataFrame(candirxnsimpfinal)\n",
    "duplicatesrem=candirxnsfinald.apply(removeduplicates,axis=1,result_type='reduce') #remove duplicates\n",
    "duplicatesrem=pd.Series(data=duplicatesrem.values,index=duplicatesrem.index)\n",
    "duplicatesremdf=pd.DataFrame(data=duplicatesrem.tolist(),index=duplicatesrem.index,columns=['querycompds','impurities','impurityrxn'])\n",
    "candirxnsimpfinal[['querycompds','impurities','impurityrxn']]=duplicatesremdf"
   ]
  },
  {
   "cell_type": "code",
   "execution_count": 386,
   "metadata": {
    "ExecuteTime": {
     "end_time": "2021-04-23T04:41:58.966646Z",
     "start_time": "2021-04-23T04:41:57.124191Z"
    }
   },
   "outputs": [],
   "source": [
    "candirxnsimpfinal.to_pickle(rxncenterscreendir+'candidate_rxns_impurities_final.pickle')"
   ]
  },
  {
   "cell_type": "markdown",
   "metadata": {},
   "source": [
    "## Visualize impurities"
   ]
  },
  {
   "cell_type": "markdown",
   "metadata": {},
   "source": [
    "The final dataframe, `candirxnsimpfinal` is exploded such that each reaction record is split into individual rows containing corresponding to query species, impurities and impurity reactions. Then, impurities are checked again for validity, this time for context/realism rather than chemistry. A relevance score is then calculated from the fingerprint similarities of the analogue species to the query species (multiplied over the number of unique analogue reactants, not accounting for stoichiometry). Then, reactions are standardized again as the same impurities may have been produced from rearrangement of the same query species."
   ]
  },
  {
   "cell_type": "code",
   "execution_count": null,
   "metadata": {},
   "outputs": [],
   "source": [
    "impfinal=pd.read_pickle(rxncenterscreendir+'impurities_final.pickle')"
   ]
  },
  {
   "cell_type": "code",
   "execution_count": 447,
   "metadata": {
    "ExecuteTime": {
     "end_time": "2021-04-23T06:26:52.824774Z",
     "start_time": "2021-04-23T06:26:52.668319Z"
    }
   },
   "outputs": [
    {
     "data": {
      "text/html": [
       "<div>\n",
       "<style scoped>\n",
       "    .dataframe tbody tr th:only-of-type {\n",
       "        vertical-align: middle;\n",
       "    }\n",
       "\n",
       "    .dataframe tbody tr th {\n",
       "        vertical-align: top;\n",
       "    }\n",
       "\n",
       "    .dataframe thead th {\n",
       "        text-align: right;\n",
       "    }\n",
       "</style>\n",
       "<table border=\"1\" class=\"dataframe\">\n",
       "  <thead>\n",
       "    <tr style=\"text-align: right;\">\n",
       "      <th></th>\n",
       "      <th>querycompds</th>\n",
       "      <th>impurities</th>\n",
       "      <th>impurityrxn</th>\n",
       "    </tr>\n",
       "    <tr>\n",
       "      <th>ReactionID</th>\n",
       "      <th></th>\n",
       "      <th></th>\n",
       "      <th></th>\n",
       "    </tr>\n",
       "  </thead>\n",
       "  <tbody>\n",
       "    <tr>\n",
       "      <th>37907065</th>\n",
       "      <td>(NNCCO,)</td>\n",
       "      <td>(NNCC=O, [H][H])</td>\n",
       "      <td>NNCCO&gt;&gt;NNCC=O.[H][H]</td>\n",
       "    </tr>\n",
       "    <tr>\n",
       "      <th>37907065</th>\n",
       "      <td>(CCc1nn(CCO)c(CC)c1Oc1cc(C#N)cc(C#N)c1,)</td>\n",
       "      <td>(CCc1nn(CC=O)c(CC)c1Oc1cc(C#N)cc(C#N)c1, [H][H])</td>\n",
       "      <td>CCc1nn(CCO)c(CC)c1Oc1cc(C#N)cc(C#N)c1&gt;&gt;CCc1nn(...</td>\n",
       "    </tr>\n",
       "    <tr>\n",
       "      <th>23152220</th>\n",
       "      <td>(NNCCO,)</td>\n",
       "      <td>(NNCC=O, [H][H])</td>\n",
       "      <td>NNCCO&gt;&gt;NNCC=O.[H][H]</td>\n",
       "    </tr>\n",
       "    <tr>\n",
       "      <th>23152220</th>\n",
       "      <td>(CCc1nn(CCO)c(CC)c1Oc1cc(C#N)cc(C#N)c1,)</td>\n",
       "      <td>(CCc1nn(CC=O)c(CC)c1Oc1cc(C#N)cc(C#N)c1, [H][H])</td>\n",
       "      <td>CCc1nn(CCO)c(CC)c1Oc1cc(C#N)cc(C#N)c1&gt;&gt;CCc1nn(...</td>\n",
       "    </tr>\n",
       "    <tr>\n",
       "      <th>1516481</th>\n",
       "      <td>(NNCCO,)</td>\n",
       "      <td>(NNCCO,)</td>\n",
       "      <td>NNCCO&gt;&gt;NNCCO</td>\n",
       "    </tr>\n",
       "    <tr>\n",
       "      <th>...</th>\n",
       "      <td>...</td>\n",
       "      <td>...</td>\n",
       "      <td>...</td>\n",
       "    </tr>\n",
       "    <tr>\n",
       "      <th>23935140</th>\n",
       "      <td>(NNCCO,)</td>\n",
       "      <td>(NNCC=O, [H][H])</td>\n",
       "      <td>NNCCO&gt;&gt;NNCC=O.[H][H]</td>\n",
       "    </tr>\n",
       "    <tr>\n",
       "      <th>23935140</th>\n",
       "      <td>(CCc1nn(CCO)c(CC)c1Oc1cc(C#N)cc(C#N)c1,)</td>\n",
       "      <td>(CCc1nn(CC=O)c(CC)c1Oc1cc(C#N)cc(C#N)c1, [H][H])</td>\n",
       "      <td>CCc1nn(CCO)c(CC)c1Oc1cc(C#N)cc(C#N)c1&gt;&gt;CCc1nn(...</td>\n",
       "    </tr>\n",
       "    <tr>\n",
       "      <th>30214517</th>\n",
       "      <td>(NNCCO,)</td>\n",
       "      <td>(NNCC=O, [H][H])</td>\n",
       "      <td>NNCCO&gt;&gt;NNCC=O.[H][H]</td>\n",
       "    </tr>\n",
       "    <tr>\n",
       "      <th>30214517</th>\n",
       "      <td>(CCc1nn(CCO)c(CC)c1Oc1cc(C#N)cc(C#N)c1,)</td>\n",
       "      <td>(CCc1nn(CC=O)c(CC)c1Oc1cc(C#N)cc(C#N)c1, [H][H])</td>\n",
       "      <td>CCc1nn(CCO)c(CC)c1Oc1cc(C#N)cc(C#N)c1&gt;&gt;CCc1nn(...</td>\n",
       "    </tr>\n",
       "    <tr>\n",
       "      <th>2752085</th>\n",
       "      <td>(CCC(=O)C(Oc1cc(C#N)cc(C#N)c1)C(=O)CC,)</td>\n",
       "      <td>(CCC(=O)C(C(=O)CC)c1c(O)cc(C#N)cc1C#N,)</td>\n",
       "      <td>CCC(=O)C(Oc1cc(C#N)cc(C#N)c1)C(=O)CC&gt;&gt;CCC(=O)C...</td>\n",
       "    </tr>\n",
       "  </tbody>\n",
       "</table>\n",
       "<p>24556 rows × 3 columns</p>\n",
       "</div>"
      ],
      "text/plain": [
       "                                         querycompds  \\\n",
       "ReactionID                                             \n",
       "37907065                                    (NNCCO,)   \n",
       "37907065    (CCc1nn(CCO)c(CC)c1Oc1cc(C#N)cc(C#N)c1,)   \n",
       "23152220                                    (NNCCO,)   \n",
       "23152220    (CCc1nn(CCO)c(CC)c1Oc1cc(C#N)cc(C#N)c1,)   \n",
       "1516481                                     (NNCCO,)   \n",
       "...                                              ...   \n",
       "23935140                                    (NNCCO,)   \n",
       "23935140    (CCc1nn(CCO)c(CC)c1Oc1cc(C#N)cc(C#N)c1,)   \n",
       "30214517                                    (NNCCO,)   \n",
       "30214517    (CCc1nn(CCO)c(CC)c1Oc1cc(C#N)cc(C#N)c1,)   \n",
       "2752085      (CCC(=O)C(Oc1cc(C#N)cc(C#N)c1)C(=O)CC,)   \n",
       "\n",
       "                                                  impurities  \\\n",
       "ReactionID                                                     \n",
       "37907065                                    (NNCC=O, [H][H])   \n",
       "37907065    (CCc1nn(CC=O)c(CC)c1Oc1cc(C#N)cc(C#N)c1, [H][H])   \n",
       "23152220                                    (NNCC=O, [H][H])   \n",
       "23152220    (CCc1nn(CC=O)c(CC)c1Oc1cc(C#N)cc(C#N)c1, [H][H])   \n",
       "1516481                                             (NNCCO,)   \n",
       "...                                                      ...   \n",
       "23935140                                    (NNCC=O, [H][H])   \n",
       "23935140    (CCc1nn(CC=O)c(CC)c1Oc1cc(C#N)cc(C#N)c1, [H][H])   \n",
       "30214517                                    (NNCC=O, [H][H])   \n",
       "30214517    (CCc1nn(CC=O)c(CC)c1Oc1cc(C#N)cc(C#N)c1, [H][H])   \n",
       "2752085              (CCC(=O)C(C(=O)CC)c1c(O)cc(C#N)cc1C#N,)   \n",
       "\n",
       "                                                  impurityrxn  \n",
       "ReactionID                                                     \n",
       "37907065                                 NNCCO>>NNCC=O.[H][H]  \n",
       "37907065    CCc1nn(CCO)c(CC)c1Oc1cc(C#N)cc(C#N)c1>>CCc1nn(...  \n",
       "23152220                                 NNCCO>>NNCC=O.[H][H]  \n",
       "23152220    CCc1nn(CCO)c(CC)c1Oc1cc(C#N)cc(C#N)c1>>CCc1nn(...  \n",
       "1516481                                          NNCCO>>NNCCO  \n",
       "...                                                       ...  \n",
       "23935140                                 NNCCO>>NNCC=O.[H][H]  \n",
       "23935140    CCc1nn(CCO)c(CC)c1Oc1cc(C#N)cc(C#N)c1>>CCc1nn(...  \n",
       "30214517                                 NNCCO>>NNCC=O.[H][H]  \n",
       "30214517    CCc1nn(CCO)c(CC)c1Oc1cc(C#N)cc(C#N)c1>>CCc1nn(...  \n",
       "2752085     CCC(=O)C(Oc1cc(C#N)cc(C#N)c1)C(=O)CC>>CCC(=O)C...  \n",
       "\n",
       "[24556 rows x 3 columns]"
      ]
     },
     "execution_count": 447,
     "metadata": {},
     "output_type": "execute_result"
    }
   ],
   "source": [
    "rawquery=candirxnsimpfinal[['querycompds']].copy()\n",
    "query=rawquery.explode('querycompds')\n",
    "# query\n",
    "\n",
    "\n",
    "imp1=candirxnsimpfinal[['impurities']].copy()\n",
    "impquery=imp1.explode('impurities') #Explode impurity list per query compound set\n",
    "# impquery\n",
    "\n",
    "imprxn1=candirxnsimpfinal[['impurityrxn']].copy()\n",
    "imprxnquery=imprxn1.explode('impurityrxn')\n",
    "# imprxnquery\n",
    "\n",
    "impfinal=query.copy()\n",
    "impfinal['impurities']=impquery\n",
    "impfinal=impfinal.explode('impurities')\n",
    "impfinal['impurityrxn']=imprxnquery.explode('impurityrxn')\n",
    "impfinal"
   ]
  },
  {
   "cell_type": "code",
   "execution_count": 448,
   "metadata": {
    "ExecuteTime": {
     "end_time": "2021-04-23T06:27:15.945323Z",
     "start_time": "2021-04-23T06:26:56.866671Z"
    }
   },
   "outputs": [
    {
     "name": "stderr",
     "output_type": "stream",
     "text": [
      "UserWarning: Distributing <class 'pandas.core.frame.DataFrame'> object. This may take some time.\n",
      "UserWarning: User-defined function verification is still under development in Modin. The function provided is not verified.\n"
     ]
    }
   ],
   "source": [
    "impfinald=mpd.DataFrame(impfinal)\n",
    "validimp=impfinald.apply(validimpurities,candirxnsimpfinal=candirxnsimpfinal,analoguerxns=analoguerxns,hc_prod=hc_Dict,querycompds=list(inputquery.speciesdict.keys()),axis=1,result_type='reduce')\n",
    "validimp=pd.DataFrame(data=validimp,index=validimp.index,columns=['msg6'])\n",
    "impfinal['msg6']=validimp"
   ]
  },
  {
   "cell_type": "code",
   "execution_count": 449,
   "metadata": {
    "ExecuteTime": {
     "end_time": "2021-04-23T06:27:57.507199Z",
     "start_time": "2021-04-23T06:27:26.530506Z"
    }
   },
   "outputs": [],
   "source": [
    "impfinald=mpd.DataFrame(impfinal)\n",
    "relscore=impfinald.apply(relevancescore,candirxnsimpfinal=candirxnsimpfinal,inputquery=inputquery,axis=1,result_type='reduce')\n",
    "relscore=pd.Series(data=relscore.values,index=relscore.index)\n",
    "relscoredf=pd.DataFrame(data=relscore.tolist(),index=relscore.index,columns=['Relevance'])\n",
    "impfinal['Relevance']=relscoredf"
   ]
  },
  {
   "cell_type": "code",
   "execution_count": 450,
   "metadata": {
    "ExecuteTime": {
     "end_time": "2021-04-23T06:28:13.640707Z",
     "start_time": "2021-04-23T06:28:06.953805Z"
    }
   },
   "outputs": [
    {
     "name": "stderr",
     "output_type": "stream",
     "text": [
      "2021-04-23 07:28:11,763\tINFO services.py:1171 -- View the Ray dashboard at \u001b[1m\u001b[32mhttp://127.0.0.1:8265\u001b[39m\u001b[22m\n"
     ]
    }
   ],
   "source": [
    "initray()"
   ]
  },
  {
   "cell_type": "code",
   "execution_count": 453,
   "metadata": {
    "ExecuteTime": {
     "end_time": "2021-04-23T06:35:01.110766Z",
     "start_time": "2021-04-23T06:34:58.683752Z"
    }
   },
   "outputs": [
    {
     "name": "stderr",
     "output_type": "stream",
     "text": [
      "UserWarning: Distributing <class 'pandas.core.frame.DataFrame'> object. This may take some time.\n",
      "UserWarning: User-defined function verification is still under development in Modin. The function provided is not verified.\n"
     ]
    }
   ],
   "source": [
    "impfinald=mpd.DataFrame(impfinal)\n",
    "standardized=impfinald.apply(standardizerxns,axis=1,result_type='reduce')\n",
    "standardized=pd.DataFrame(data=standardized,index=standardized.index,columns=['querycompds','impurities','impurityrxn'])\n",
    "impfinal[['querycompds','impurities','impurityrxn']]=standardized"
   ]
  },
  {
   "cell_type": "code",
   "execution_count": 454,
   "metadata": {
    "ExecuteTime": {
     "end_time": "2021-04-23T06:35:28.363730Z",
     "start_time": "2021-04-23T06:35:28.337966Z"
    }
   },
   "outputs": [
    {
     "data": {
      "text/html": [
       "<div>\n",
       "<style scoped>\n",
       "    .dataframe tbody tr th:only-of-type {\n",
       "        vertical-align: middle;\n",
       "    }\n",
       "\n",
       "    .dataframe tbody tr th {\n",
       "        vertical-align: top;\n",
       "    }\n",
       "\n",
       "    .dataframe thead th {\n",
       "        text-align: right;\n",
       "    }\n",
       "</style>\n",
       "<table border=\"1\" class=\"dataframe\">\n",
       "  <thead>\n",
       "    <tr style=\"text-align: right;\">\n",
       "      <th></th>\n",
       "      <th>querycompds</th>\n",
       "      <th>impurities</th>\n",
       "      <th>impurityrxn</th>\n",
       "      <th>msg6</th>\n",
       "      <th>Relevance</th>\n",
       "    </tr>\n",
       "    <tr>\n",
       "      <th>ReactionID</th>\n",
       "      <th></th>\n",
       "      <th></th>\n",
       "      <th></th>\n",
       "      <th></th>\n",
       "      <th></th>\n",
       "    </tr>\n",
       "  </thead>\n",
       "  <tbody>\n",
       "    <tr>\n",
       "      <th>37907065</th>\n",
       "      <td>(NNCCO,)</td>\n",
       "      <td>(NNCC=O, [H][H])</td>\n",
       "      <td>NNCCO&gt;&gt;NNCC=O.[H][H]</td>\n",
       "      <td>Valid</td>\n",
       "      <td>0.277778</td>\n",
       "    </tr>\n",
       "    <tr>\n",
       "      <th>37907065</th>\n",
       "      <td>(CCc1nn(CCO)c(CC)c1Oc1cc(C#N)cc(C#N)c1,)</td>\n",
       "      <td>(CCc1nn(CC=O)c(CC)c1Oc1cc(C#N)cc(C#N)c1, [H][H])</td>\n",
       "      <td>CCc1nn(CCO)c(CC)c1Oc1cc(C#N)cc(C#N)c1&gt;&gt;CCc1nn(...</td>\n",
       "      <td>Valid</td>\n",
       "      <td>0.325490</td>\n",
       "    </tr>\n",
       "    <tr>\n",
       "      <th>23152220</th>\n",
       "      <td>(NNCCO,)</td>\n",
       "      <td>(NNCC=O, [H][H])</td>\n",
       "      <td>NNCCO&gt;&gt;NNCC=O.[H][H]</td>\n",
       "      <td>Valid</td>\n",
       "      <td>0.269841</td>\n",
       "    </tr>\n",
       "    <tr>\n",
       "      <th>23152220</th>\n",
       "      <td>(CCc1nn(CCO)c(CC)c1Oc1cc(C#N)cc(C#N)c1,)</td>\n",
       "      <td>(CCc1nn(CC=O)c(CC)c1Oc1cc(C#N)cc(C#N)c1, [H][H])</td>\n",
       "      <td>CCc1nn(CCO)c(CC)c1Oc1cc(C#N)cc(C#N)c1&gt;&gt;CCc1nn(...</td>\n",
       "      <td>Valid</td>\n",
       "      <td>0.423800</td>\n",
       "    </tr>\n",
       "    <tr>\n",
       "      <th>1516481</th>\n",
       "      <td>(NNCCO,)</td>\n",
       "      <td>(NNCCO,)</td>\n",
       "      <td>NNCCO&gt;&gt;NNCCO</td>\n",
       "      <td>No transformation of interest</td>\n",
       "      <td>0.245902</td>\n",
       "    </tr>\n",
       "    <tr>\n",
       "      <th>...</th>\n",
       "      <td>...</td>\n",
       "      <td>...</td>\n",
       "      <td>...</td>\n",
       "      <td>...</td>\n",
       "      <td>...</td>\n",
       "    </tr>\n",
       "    <tr>\n",
       "      <th>23935140</th>\n",
       "      <td>(NNCCO,)</td>\n",
       "      <td>(NNCC=O, [H][H])</td>\n",
       "      <td>NNCCO&gt;&gt;NNCC=O.[H][H]</td>\n",
       "      <td>Self-reaction/single reactant detected with no...</td>\n",
       "      <td>0.265625</td>\n",
       "    </tr>\n",
       "    <tr>\n",
       "      <th>23935140</th>\n",
       "      <td>(CCc1nn(CCO)c(CC)c1Oc1cc(C#N)cc(C#N)c1,)</td>\n",
       "      <td>(CCc1nn(CC=O)c(CC)c1Oc1cc(C#N)cc(C#N)c1, [H][H])</td>\n",
       "      <td>CCc1nn(CCO)c(CC)c1Oc1cc(C#N)cc(C#N)c1&gt;&gt;CCc1nn(...</td>\n",
       "      <td>Self-reaction/single reactant detected with no...</td>\n",
       "      <td>0.295664</td>\n",
       "    </tr>\n",
       "    <tr>\n",
       "      <th>30214517</th>\n",
       "      <td>(NNCCO,)</td>\n",
       "      <td>(NNCC=O, [H][H])</td>\n",
       "      <td>NNCCO&gt;&gt;NNCC=O.[H][H]</td>\n",
       "      <td>Valid</td>\n",
       "      <td>0.265625</td>\n",
       "    </tr>\n",
       "    <tr>\n",
       "      <th>30214517</th>\n",
       "      <td>(CCc1nn(CCO)c(CC)c1Oc1cc(C#N)cc(C#N)c1,)</td>\n",
       "      <td>(CCc1nn(CC=O)c(CC)c1Oc1cc(C#N)cc(C#N)c1, [H][H])</td>\n",
       "      <td>CCc1nn(CCO)c(CC)c1Oc1cc(C#N)cc(C#N)c1&gt;&gt;CCc1nn(...</td>\n",
       "      <td>Valid</td>\n",
       "      <td>0.284439</td>\n",
       "    </tr>\n",
       "    <tr>\n",
       "      <th>2752085</th>\n",
       "      <td>(CCC(=O)C(Oc1cc(C#N)cc(C#N)c1)C(=O)CC,)</td>\n",
       "      <td>(CCC(=O)C(C(=O)CC)c1c(O)cc(C#N)cc1C#N,)</td>\n",
       "      <td>CCC(=O)C(Oc1cc(C#N)cc(C#N)c1)C(=O)CC&gt;&gt;CCC(=O)C...</td>\n",
       "      <td>Self-reaction/single reactant detected with no...</td>\n",
       "      <td>0.380451</td>\n",
       "    </tr>\n",
       "  </tbody>\n",
       "</table>\n",
       "<p>24556 rows × 5 columns</p>\n",
       "</div>"
      ],
      "text/plain": [
       "                                         querycompds  \\\n",
       "ReactionID                                             \n",
       "37907065                                    (NNCCO,)   \n",
       "37907065    (CCc1nn(CCO)c(CC)c1Oc1cc(C#N)cc(C#N)c1,)   \n",
       "23152220                                    (NNCCO,)   \n",
       "23152220    (CCc1nn(CCO)c(CC)c1Oc1cc(C#N)cc(C#N)c1,)   \n",
       "1516481                                     (NNCCO,)   \n",
       "...                                              ...   \n",
       "23935140                                    (NNCCO,)   \n",
       "23935140    (CCc1nn(CCO)c(CC)c1Oc1cc(C#N)cc(C#N)c1,)   \n",
       "30214517                                    (NNCCO,)   \n",
       "30214517    (CCc1nn(CCO)c(CC)c1Oc1cc(C#N)cc(C#N)c1,)   \n",
       "2752085      (CCC(=O)C(Oc1cc(C#N)cc(C#N)c1)C(=O)CC,)   \n",
       "\n",
       "                                                  impurities  \\\n",
       "ReactionID                                                     \n",
       "37907065                                    (NNCC=O, [H][H])   \n",
       "37907065    (CCc1nn(CC=O)c(CC)c1Oc1cc(C#N)cc(C#N)c1, [H][H])   \n",
       "23152220                                    (NNCC=O, [H][H])   \n",
       "23152220    (CCc1nn(CC=O)c(CC)c1Oc1cc(C#N)cc(C#N)c1, [H][H])   \n",
       "1516481                                             (NNCCO,)   \n",
       "...                                                      ...   \n",
       "23935140                                    (NNCC=O, [H][H])   \n",
       "23935140    (CCc1nn(CC=O)c(CC)c1Oc1cc(C#N)cc(C#N)c1, [H][H])   \n",
       "30214517                                    (NNCC=O, [H][H])   \n",
       "30214517    (CCc1nn(CC=O)c(CC)c1Oc1cc(C#N)cc(C#N)c1, [H][H])   \n",
       "2752085              (CCC(=O)C(C(=O)CC)c1c(O)cc(C#N)cc1C#N,)   \n",
       "\n",
       "                                                  impurityrxn  \\\n",
       "ReactionID                                                      \n",
       "37907065                                 NNCCO>>NNCC=O.[H][H]   \n",
       "37907065    CCc1nn(CCO)c(CC)c1Oc1cc(C#N)cc(C#N)c1>>CCc1nn(...   \n",
       "23152220                                 NNCCO>>NNCC=O.[H][H]   \n",
       "23152220    CCc1nn(CCO)c(CC)c1Oc1cc(C#N)cc(C#N)c1>>CCc1nn(...   \n",
       "1516481                                          NNCCO>>NNCCO   \n",
       "...                                                       ...   \n",
       "23935140                                 NNCCO>>NNCC=O.[H][H]   \n",
       "23935140    CCc1nn(CCO)c(CC)c1Oc1cc(C#N)cc(C#N)c1>>CCc1nn(...   \n",
       "30214517                                 NNCCO>>NNCC=O.[H][H]   \n",
       "30214517    CCc1nn(CCO)c(CC)c1Oc1cc(C#N)cc(C#N)c1>>CCc1nn(...   \n",
       "2752085     CCC(=O)C(Oc1cc(C#N)cc(C#N)c1)C(=O)CC>>CCC(=O)C...   \n",
       "\n",
       "                                                         msg6  Relevance  \n",
       "ReactionID                                                                \n",
       "37907065                                                Valid   0.277778  \n",
       "37907065                                                Valid   0.325490  \n",
       "23152220                                                Valid   0.269841  \n",
       "23152220                                                Valid   0.423800  \n",
       "1516481                         No transformation of interest   0.245902  \n",
       "...                                                       ...        ...  \n",
       "23935140    Self-reaction/single reactant detected with no...   0.265625  \n",
       "23935140    Self-reaction/single reactant detected with no...   0.295664  \n",
       "30214517                                                Valid   0.265625  \n",
       "30214517                                                Valid   0.284439  \n",
       "2752085     Self-reaction/single reactant detected with no...   0.380451  \n",
       "\n",
       "[24556 rows x 5 columns]"
      ]
     },
     "execution_count": 454,
     "metadata": {},
     "output_type": "execute_result"
    }
   ],
   "source": [
    "impfinal"
   ]
  },
  {
   "cell_type": "code",
   "execution_count": 455,
   "metadata": {
    "ExecuteTime": {
     "end_time": "2021-04-23T06:36:53.696986Z",
     "start_time": "2021-04-23T06:36:53.645630Z"
    }
   },
   "outputs": [],
   "source": [
    "impfinal.to_pickle(rxncenterscreendir+'impurities_final.pickle')"
   ]
  },
  {
   "cell_type": "markdown",
   "metadata": {},
   "source": [
    "## Impurity filtering"
   ]
  },
  {
   "cell_type": "markdown",
   "metadata": {},
   "source": []
  },
  {
   "cell_type": "code",
   "execution_count": 444,
   "metadata": {
    "ExecuteTime": {
     "end_time": "2021-04-23T06:08:59.153937Z",
     "start_time": "2021-04-23T06:08:58.869436Z"
    }
   },
   "outputs": [
    {
     "data": {
      "text/plain": [
       "Text(0.5, 0, 'Relevance Score')"
      ]
     },
     "execution_count": 444,
     "metadata": {},
     "output_type": "execute_result"
    },
    {
     "data": {
      "text/plain": [
       "Text(0, 0.5, 'Count')"
      ]
     },
     "execution_count": 444,
     "metadata": {},
     "output_type": "execute_result"
    },
    {
     "data": {
      "text/plain": [
       "array([[<AxesSubplot:title={'center':'Relevance'}, xlabel='Relevance Score', ylabel='Count'>]],\n",
       "      dtype=object)"
      ]
     },
     "execution_count": 444,
     "metadata": {},
     "output_type": "execute_result"
    },
    {
     "data": {
      "text/plain": [
       "count    24556.000000\n",
       "mean         0.300538\n",
       "std          0.085632\n",
       "min          0.016113\n",
       "25%          0.265625\n",
       "50%          0.269841\n",
       "75%          0.347201\n",
       "max          1.000000\n",
       "Name: Relevance, dtype: float64"
      ]
     },
     "execution_count": 444,
     "metadata": {},
     "output_type": "execute_result"
    },
    {
     "data": {
      "image/png": "[encoded data removed]",
      "text/plain": [
       "<Figure size 432x288 with 1 Axes>"
      ]
     },
     "metadata": {
      "needs_background": "light"
     },
     "output_type": "display_data"
    }
   ],
   "source": [
    "figrel=impfinal.hist(bins=50,column='Relevance')\n",
    "for ax in figrel.flatten():\n",
    "    ax.set_xlabel(\"Relevance Score\")\n",
    "    ax.set_ylabel(\"Count\")\n",
    "figrel\n",
    "impfinal.Relevance.describe()"
   ]
  }
 ],
 "metadata": {
  "kernelspec": {
   "display_name": "Python [conda env:impurityproject] *",
   "language": "python",
   "name": "conda-env-impurityproject-py"
  },
  "language_info": {
   "codemirror_mode": {
    "name": "ipython",
    "version": 3
   },
   "file_extension": ".py",
   "mimetype": "text/x-python",
   "name": "python",
   "nbconvert_exporter": "python",
   "pygments_lexer": "ipython3",
   "version": "3.8.8"
  },
  "toc": {
   "base_numbering": 1,
   "nav_menu": {},
   "number_sections": true,
   "sideBar": true,
   "skip_h1_title": false,
   "title_cell": "Table of Contents",
   "title_sidebar": "Contents",
   "toc_cell": true,
   "toc_position": {
    "height": "calc(100% - 180px)",
    "left": "10px",
    "top": "150px",
    "width": "384px"
   },
   "toc_section_display": true,
   "toc_window_display": true
  },
  "varInspector": {
   "cols": {
    "lenName": 16,
    "lenType": 16,
    "lenVar": 40
   },
   "kernels_config": {
    "python": {
     "delete_cmd_postfix": "",
     "delete_cmd_prefix": "del ",
     "library": "var_list.py",
     "varRefreshCmd": "print(var_dic_list())"
    },
    "r": {
     "delete_cmd_postfix": ") ",
     "delete_cmd_prefix": "rm(",
     "library": "var_list.r",
     "varRefreshCmd": "cat(var_dic_list()) "
    }
   },
   "types_to_exclude": [
    "module",
    "function",
    "builtin_function_or_method",
    "instance",
    "_Feature"
   ],
   "window_display": false
  }
 },
 "nbformat": 4,
 "nbformat_minor": 4
}
