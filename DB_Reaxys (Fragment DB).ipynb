{
 "cells": [
  {
   "cell_type": "markdown",
   "metadata": {},
   "source": [
    "This continues from DB_Reaxys and supplements the database with active fragment/carrier fragment labels"
   ]
  },
  {
   "cell_type": "code",
   "execution_count": 1,
   "metadata": {
    "ExecuteTime": {
     "end_time": "2021-05-14T17:43:42.127856Z",
     "start_time": "2021-05-14T17:43:41.477980Z"
    }
   },
   "outputs": [
    {
     "name": "stdout",
     "output_type": "stream",
     "text": [
      "\r\n",
      "     active environment : impurityproject\r\n",
      "    active env location : /home/aa2133/miniconda3/envs/impurityproject\r\n",
      "            shell level : 2\r\n",
      "       user config file : /home/aa2133/.condarc\r\n",
      " populated config files : \r\n",
      "          conda version : 4.8.5\r\n",
      "    conda-build version : not installed\r\n",
      "         python version : 3.8.3.final.0\r\n",
      "       virtual packages : __glibc=2.23\r\n",
      "       base environment : /home/aa2133/miniconda3  (writable)\r\n",
      "           channel URLs : https://repo.anaconda.com/pkgs/main/linux-64\r\n",
      "                          https://repo.anaconda.com/pkgs/main/noarch\r\n",
      "                          https://repo.anaconda.com/pkgs/r/linux-64\r\n",
      "                          https://repo.anaconda.com/pkgs/r/noarch\r\n",
      "          package cache : /home/aa2133/miniconda3/pkgs\r\n",
      "                          /home/aa2133/.conda/pkgs\r\n",
      "       envs directories : /home/aa2133/miniconda3/envs\r\n",
      "                          /home/aa2133/.conda/envs\r\n",
      "               platform : linux-64\r\n",
      "             user-agent : conda/4.8.5 requests/2.24.0 CPython/3.8.3 Linux/4.4.0-87-generic ubuntu/16.04.6 glibc/2.23\r\n",
      "                UID:GID : 1020:10003\r\n",
      "             netrc file : None\r\n",
      "           offline mode : False\r\n",
      "\r\n"
     ]
    }
   ],
   "source": [
    "# Allow more than one output\n",
    "from IPython.core.interactiveshell import InteractiveShell\n",
    "InteractiveShell.ast_node_interactivity = \"all\"\n",
    "!conda info"
   ]
  },
  {
   "cell_type": "markdown",
   "metadata": {},
   "source": [
    "# Dependencies"
   ]
  },
  {
   "cell_type": "code",
   "execution_count": 6,
   "metadata": {
    "ExecuteTime": {
     "end_time": "2021-06-08T18:40:27.691841Z",
     "start_time": "2021-06-08T18:40:27.470409Z"
    }
   },
   "outputs": [],
   "source": [
    "import shutil\n",
    "import itertools\n",
    "import copy\n",
    "from MainFunctions import writepickle, openpickle\n",
    "from collections import Counter, namedtuple\n",
    "from rdkit.Chem import BRICS  # For fragmenting\n",
    "from ttictoc import tic, toc\n",
    "from rxnmapper import RXNMapper  # Importing RXNMapper for unsupervised atom mapping\n",
    "import os  # Working with the OS\n",
    "from PIL import Image  # Working with images\n",
    "from IPython.display import SVG  # For SVG support\n",
    "from rdkit.Chem.Draw import rdMolDraw2D  # Drawing 2D molecules/reactions\n",
    "from rdkit.Chem import rdChemReactions  # Reaction processing\n",
    "from rdkit.Chem import Draw  # For drawing molecules/reactions\n",
    "from rdkit.Chem import AllChem  # Overall support\n",
    "from rdkit import Chem  # Importing RDKit\n",
    "from FindFunctionalGroups import identify_functional_groups as IFG\n",
    "from helpCompound import hc_smilesDict, hc_molDict\n",
    "import cairosvg\n",
    "import json\n",
    "from chempy import balance_stoichiometry\n",
    "import io\n",
    "import matplotlib.pyplot as plt\n",
    "from IPython.display import display, Image\n",
    "from rdkit.Chem.Draw import IPythonConsole\n",
    "from rdkit.Chem import RDConfig\n",
    "import cirpy\n",
    "from rdkit.Chem.Fingerprints import FingerprintMols\n",
    "from rdkit.Chem import PeriodicTable, GetPeriodicTable\n",
    "from rdkit.Chem import FunctionalGroups\n",
    "import sys\n",
    "sys.path.append('/home/aa2133/Impurity-Project')\n",
    "sys.path.append('/home/aa2133/Impurity-Project/getCandiRxns')\n",
    "try:\n",
    "    import pickle5 as pickle  # Only if pickle doesn't work\n",
    "except Exception:\n",
    "    import pickle"
   ]
  },
  {
   "cell_type": "code",
   "execution_count": 5,
   "metadata": {
    "ExecuteTime": {
     "end_time": "2021-05-16T12:26:54.496438Z",
     "start_time": "2021-05-16T12:26:54.443826Z"
    }
   },
   "outputs": [
    {
     "name": "stdout",
     "output_type": "stream",
     "text": [
      "Overwriting FunctionsDB.py\n"
     ]
    }
   ],
   "source": [
    "# %%writefile FunctionsDB.py\n",
    "# %load ./FunctionsDB.py\n",
    "\n",
    "import shutil\n",
    "import itertools\n",
    "import copy\n",
    "from MainFunctions import writepickle, openpickle\n",
    "from collections import Counter, namedtuple\n",
    "\n",
    "from rdkit import Chem  # Importing RDKit\n",
    "from rdkit.Chem.Draw import rdMolDraw2D  # Drawing 2D molecules/reactions\n",
    "from rdkit.Chem import rdChemReactions  # Reaction processing\n",
    "from rdkit.Chem import Draw  # For drawing molecules/reactions\n",
    "from rdkit.Chem import AllChem  # Overall support\n",
    "from FindFunctionalGroups import identify_functional_groups as IFG\n",
    "\n",
    "import sqlite3\n",
    "import os\n",
    "import dask.delayed as delayed\n",
    "import dask.dataframe as dd\n",
    "import dask.array as da\n",
    "import dask.bag as dba\n",
    "import numpy as np\n",
    "import pandas as pd\n",
    "\n",
    "#%% Building basic substance database\n",
    "\n",
    "def info(molfile):\n",
    "    mol = Chem.MolFromMolFile(molfile)\n",
    "    if mol:\n",
    "        Chem.SanitizeMol(mol)\n",
    "        mol.UpdatePropertyCache(strict=False)\n",
    "        smils = Chem.MolToSmiles(mol)\n",
    "        return mol, smils\n",
    "    else:\n",
    "        return molfile\n",
    "\n",
    "\n",
    "def basic(ID, folder):\n",
    "    if str.isdecimal(ID):\n",
    "        molfileaddress = folder+os.sep+ID\n",
    "        try:\n",
    "            res = info(molfileaddress)\n",
    "        except Exception as e:\n",
    "            error = e\n",
    "            compaddrs = {'SubstanceID': int(\n",
    "                ID), 'MolFileAddress': molfileaddress, 'Error': error}\n",
    "        else:\n",
    "            if type(res) == tuple:\n",
    "                smiles = res[1]\n",
    "                compaddrs = {'SubstanceID': int(\n",
    "                    ID), 'MolFileAddress': molfileaddress, 'Smiles': smiles}\n",
    "            else:\n",
    "                error = 'Valence error'\n",
    "                compaddrs = {'SubstanceID': int(\n",
    "                    ID), 'MolFileAddress': molfileaddress, 'Error': error}\n",
    "    else:\n",
    "        compaddrs = {}\n",
    "    return compaddrs\n",
    "\n",
    "\n",
    "def basicgroup(molfilelist, folder):\n",
    "    return [basic(ID, folder) for ID in molfilelist]\n",
    "\n",
    "\n",
    "def substancedblist(folderName, partitions):\n",
    "    dem = os.listdir(folderName)\n",
    "    b = db.from_sequence(dem, npartitions=partitions)\n",
    "    dflist = b.map_partitions(basicgroup, folderName).compute()\n",
    "    return dflist\n",
    "\n",
    "\n",
    "#%% Fragment detection\n",
    "def getCarrierFrags0(smi,expand=1,resFormat='smarts',addHs=True):\n",
    "    \"\"\"\n",
    "    str (smiles), int -> list (str_smiles/smarts) \n",
    "    smi: str, smiles of a compound\n",
    "    size: Level to expand functional group by (eg./ 1 will expand to first degree neighbours, 2 will expand to second degree neighbors etc.)\n",
    "    resFormat: 'smiles' or 'smarts' \n",
    "    addHs: bool, if True H will be consider for generation of substructure, recommend True\n",
    "            otherwise terminal atoms of a molecule are not differentiated with other atoms\n",
    "    this function return list of strings of smarts representing carrier frags with miniSize of size\n",
    "    a carrier frag carries a functional group defined by using Ertl's method\n",
    "    find out the bonds to cut define a cutter to cut out the target fragments based on bonds to cut\n",
    "    1) get a list of function groups using IFG\n",
    "    2) if IFG list empty meaning no functional groups, directly return compound smiles\n",
    "    3) expand to nearest neighbors based on expand value\n",
    "    \"\"\"\n",
    "    mol = Chem.MolFromSmiles(smi)\n",
    "    Chem.SanitizeMol(mol)\n",
    "    mol.UpdatePropertyCache(strict=False)\n",
    "    if addHs:\n",
    "        mol = Chem.AddHs(mol)\n",
    "    # -- get the list of functional groups FG\n",
    "    # e.g., [IFG(atomIds=(1, 4, 7), atoms='NC=O', type='cNC(C)=O'), IFG(atomIds=(10,), atoms='O', type='cO')]\n",
    "    IFG_ls = IFG(mol)\n",
    "    # if IFG_ls is empty, directly return this compounds\n",
    "    if len(IFG_ls) == 0:\n",
    "        if resFormat == 'smiles':\n",
    "            return smi\n",
    "        elif resFormat == 'smarts':\n",
    "            return Chem.MolToSmarts(Chem.MolFromSmiles(smi))\n",
    "    # -- get atomIDs (FGs_atomIDs_expan) and terminalAtomIDs (FGs_terminal_atomIDs) for all frags\n",
    "    FGs_atomIDs = [_.atomIds for _ in IFG_ls]  # e.g., [(1, 4, 7), ...]\n",
    "    n_FGs = len(FGs_atomIDs)\n",
    "    # expan all FGs that < size # e.g., [[1, 4, 7, 8, 9], ...]\n",
    "    FGs_atomIDs_expan = [None]*n_FGs\n",
    "    # terminal atoms: atoms on which bonds to cut will be searched\n",
    "    # [[2, 3, 8], ...] or [[], [], ...], note [2, 3, 8] are terminal of comp not frag\n",
    "    FGs_terminal_atomIDs = [None]*n_FGs\n",
    "    for i in range(n_FGs):\n",
    "#         breakpoint()\n",
    "        # initialization before search and expand fragments\n",
    "        FG_atomIDs = list(FGs_atomIDs[i])  # e.g., [1, 4, 7]\n",
    "        FG_size = len(FG_atomIDs)\n",
    "        FG_terminal_atomIDs = []  # e.g., [2, 3, 8] or [], HNO3 or C=O -> [] Terminal IDs of fragments\n",
    "        for atomID in FG_atomIDs:\n",
    "            neis_IDs = [_.GetIdx() for _ in mol.GetAtomWithIdx(atomID).GetNeighbors()]\n",
    "            if len(set(neis_IDs) - set(FG_atomIDs)) != 0:\n",
    "                FG_terminal_atomIDs = FG_terminal_atomIDs + [atomID]\n",
    "        if len(FG_terminal_atomIDs) == 0:\n",
    "            # make sure all elements in FGs_atomIDs_expan are lists\n",
    "            FGs_atomIDs_expan[i] = FG_atomIDs\n",
    "            FGs_terminal_atomIDs[i] = FG_terminal_atomIDs\n",
    "            # case 3 still could be [] even if FG_size >= size, though less likely\n",
    "        else:\n",
    "            FG_expan_atomIDs = copy.deepcopy(FG_atomIDs)  # e.g., [1, 4, 7]\n",
    "             # max repeat size times, since repeat size should reach the size\n",
    "            for rep in range(expand):\n",
    "                FG_expan_atomIDs_old = copy.deepcopy(FG_expan_atomIDs)\n",
    "                # not all atoms need be searched for neis, only ones not in FG_expan_atomIDs for each epoch\n",
    "                for atomID in FG_terminal_atomIDs:\n",
    "                    neis_IDs = [_.GetIdx() for _ in mol.GetAtomWithIdx(atomID).GetNeighbors()]\n",
    "                    FG_expan_atomIDs = FG_expan_atomIDs + neis_IDs\n",
    "                FG_expan_atomIDs = list(set(FG_expan_atomIDs))\n",
    "                FG_terminal_atomIDs = list(set(FG_expan_atomIDs)-set(FG_expan_atomIDs_old))\n",
    "                FGs_atomIDs_expan[i] = FG_expan_atomIDs\n",
    "                FGs_terminal_atomIDs[i] = FG_terminal_atomIDs  # [] case 2\n",
    "                if len(FG_terminal_atomIDs) == 0:  # cannot expand due to small comp size\n",
    "                    break  # for expan of next FG\n",
    "    # it seems not possible that [[2, 3, 8], [], ...], if there one [] then all should be [],\n",
    "    # either [[]] or [[], [], ...] (i.e., small comp with single or multiple FGs)\n",
    "    # sum([len(_) for _ in FGs_terminal_atomIDs]) == 0:\n",
    "#     breakpoint()\n",
    "    if len(FGs_terminal_atomIDs[0]) == 0:\n",
    "        if resFormat == 'smiles':\n",
    "            return smi\n",
    "        elif resFormat == 'smarts':\n",
    "            return Chem.MolToSmarts(Chem.MolFromSmiles(smi))\n",
    "    else:\n",
    "        FGs_strs = []  # smiles or smarts\n",
    "        for FG_atomIDs in FGs_atomIDs_expan:\n",
    "            if resFormat == 'smiles':\n",
    "                FGs_str = Chem.MolFragmentToSmiles(mol, FG_atomIDs, canonical=True)\n",
    "                FGs_strs = FGs_strs + [FGs_str]\n",
    "            elif resFormat == 'smarts':\n",
    "                FGs_str = Chem.MolFragmentToSmarts(mol, FG_atomIDs, isomericSmarts=False)\n",
    "                FGs_strs = FGs_strs + [FGs_str]\n",
    "        return FGs_strs\n",
    "    \n",
    "    \n",
    "def getCarrierFrags(smi, size, resFormat='smarts', addHs=True):\n",
    "    \"\"\"\n",
    "    str (smiles), int -> list (str_smiles/smarts) \n",
    "    smi: str, smiles of a compound\n",
    "    size: size of carrier fragments, number atoms\n",
    "    resFormat: 'smiles' or 'smarts'\n",
    "    addHs: bool, if True H will be consider for generation of substructure, recommend True\n",
    "            otherwise terminal atoms of a molecule are not differentiated with other atoms\n",
    "    this function return list of strings of smarts representing carrier frags with miniSize of size\n",
    "    a carrier frag carries a functional group defined by using Ertl's method\n",
    "    find out the bonds to cut define a cutter to cut out the target fragments based on bonds to cut\n",
    "    1) get a list of function groups using IFG\n",
    "    2) if IFG list empty meaning no functional groups, directly return compound smiles\n",
    "    3) evaluate the size of current fragment,  \n",
    "       if frag_size >= size, directly return the comp smile\n",
    "       if frag_size < miniSizeFrag, expand the fragment by searching for neighors, only use terminal atoms to search\n",
    "       repeat expansion till frag_size >= size\n",
    "    \"\"\"\n",
    "    mol = Chem.MolFromSmiles(smi)\n",
    "    Chem.SanitizeMol(mol)\n",
    "    mol.UpdatePropertyCache(strict=False)\n",
    "    if addHs:\n",
    "        mol = Chem.AddHs(mol)\n",
    "    # -- get the list of functional groups FG\n",
    "    # e.g., [IFG(atomIds=(1, 4, 7), atoms='NC=O', type='cNC(C)=O'), IFG(atomIds=(10,), atoms='O', type='cO')]\n",
    "    IFG_ls = IFG(mol)\n",
    "    # if IFG_ls is empty, directly return this compounds\n",
    "    if len(IFG_ls) == 0:\n",
    "        if resFormat == 'smiles':\n",
    "            return smi\n",
    "        elif resFormat == 'smarts':\n",
    "            return Chem.MolToSmarts(Chem.MolFromSmiles(smi))\n",
    "    # -- get atomIDs (FGs_atomIDs_expan) and terminalAtomIDs (FGs_terminal_atomIDs) for all frags\n",
    "    FGs_atomIDs = [_.atomIds for _ in IFG_ls]  # e.g., [(1, 4, 7), ...]\n",
    "    n_FGs = len(FGs_atomIDs)\n",
    "    # expan all FGs that < size # e.g., [[1, 4, 7, 8, 9], ...]\n",
    "    FGs_atomIDs_expan = [None]*n_FGs\n",
    "    # terminal atoms: atoms on which bonds to cut will be searched\n",
    "    # [[2, 3, 8], ...] or [[], [], ...], note [2, 3, 8] are terminal of comp not frag\n",
    "    FGs_terminal_atomIDs = [None]*n_FGs\n",
    "    for i in range(n_FGs):\n",
    "        # initialization before search and expand fragments\n",
    "        FG_atomIDs = list(FGs_atomIDs[i])  # e.g., [1, 4, 7]\n",
    "        FG_size = len(FG_atomIDs)\n",
    "        # find initial terminal atoms\n",
    "        # terminal atoms: atoms with neis that not belong to FG_atomIDs\n",
    "        # note terminal atoms here are terminal of fragments not comp\n",
    "        # C=O has no fragment terminal, but both C and O are comp terminals\n",
    "        # there are 3 cases that no fragment terminal ie, FG_terminal_atomIDs = [] one case FG_terminal_atomIDs not empty\n",
    "        # case 1: FG_size < size, and FG_terminal_atomIDs = [], ie., comp too small, no chane to expand e.g., C=O, HCl, HNO3\n",
    "        # case 2: FG_size < size, and FG_terminal_atomIDs = [2,3,8],\n",
    "        #         got chane to expand, but after expand still cannot reach size, e.g., OCC=O\n",
    "        #         eventually FG_terminal_atomIDs = []\n",
    "        # case 3: FG_size >= size, and FG_terminal_atomIDs = [], cos the whole big comp is a functional group\n",
    "        # for all above cases the original comp will be return\n",
    "        # two case FG_terminal_atomIDs is not empty, cutting will performed based on FG_terminal_atomIDs\n",
    "        # case 4: FG_size >= size, and FG_terminal_atomIDs = [2,3,8], just cut using FG_terminal_atomIDs\n",
    "        # case 5: FG_size < size, and FG_terminal_atomIDs = [2,3,8], after expand, size reached and FG_terminal_atomIDs changed\n",
    "        FG_terminal_atomIDs = []  # e.g., [2, 3, 8] or [], HNO3 or C=O -> []\n",
    "        for atomID in FG_atomIDs:\n",
    "            neis_IDs = [_.GetIdx() for _ in mol.GetAtomWithIdx(atomID).GetNeighbors()]\n",
    "            if len(set(neis_IDs) - set(FG_atomIDs)) != 0:\n",
    "                FG_terminal_atomIDs = FG_terminal_atomIDs + [atomID]\n",
    "        # perform search / expand fragments\n",
    "        # [],  case 1 cannot expand, although FG_size < size\n",
    "        if (FG_size >= size) | (len(FG_terminal_atomIDs) == 0):\n",
    "            # make sure all elements in FGs_atomIDs_expan are lists\n",
    "            FGs_atomIDs_expan[i] = FG_atomIDs\n",
    "            FGs_terminal_atomIDs[i] = FG_terminal_atomIDs\n",
    "            # case 3 still could be [] even if FG_size >= size, though less likely\n",
    "        else:\n",
    "            # init FG to be expand\n",
    "            FG_expan_atomIDs = copy.deepcopy(FG_atomIDs)  # e.g., [1, 4, 7]\n",
    "            # max repeat size times, since repeat size should reach the size\n",
    "            for rep in range(size):\n",
    "                FG_expan_atomIDs_old = copy.deepcopy(FG_expan_atomIDs)\n",
    "                # not all atoms need be searched for neis, only ones not in FG_expan_atomIDs for each epoch\n",
    "                for atomID in FG_terminal_atomIDs:\n",
    "                    neis_IDs = [_.GetIdx() for _ in mol.GetAtomWithIdx(atomID).GetNeighbors()]\n",
    "                    FG_expan_atomIDs = FG_expan_atomIDs + neis_IDs\n",
    "                FG_expan_atomIDs = list(set(FG_expan_atomIDs))\n",
    "                FG_terminal_atomIDs = list(set(FG_expan_atomIDs)-set(FG_expan_atomIDs_old))\n",
    "                if len(FG_terminal_atomIDs) == 0:  # cannot expand due to small comp size\n",
    "                    FGs_atomIDs_expan[i] = FG_expan_atomIDs\n",
    "                    FGs_terminal_atomIDs[i] = FG_terminal_atomIDs  # [] case 2\n",
    "                    break  # for expan of next FG\n",
    "                if len(FG_expan_atomIDs) >= size:  # reach the desired size\n",
    "                    FGs_atomIDs_expan[i] = FG_expan_atomIDs\n",
    "                    FGs_terminal_atomIDs[i] = FG_terminal_atomIDs\n",
    "                    break\n",
    "    # it seems not possible that [[2, 3, 8], [], ...], if there one [] then all should be [],\n",
    "    # either [[]] or [[], [], ...] (i.e., small comp with single or multiple FGs)\n",
    "    # sum([len(_) for _ in FGs_terminal_atomIDs]) == 0:\n",
    "    if len(FGs_terminal_atomIDs[0]) == 0:\n",
    "        if resFormat == 'smiles':\n",
    "            return smi\n",
    "        elif resFormat == 'smarts':\n",
    "            return Chem.MolToSmarts(Chem.MolFromSmiles(smi))\n",
    "    else:\n",
    "        FGs_strs = []  # smiles or smarts\n",
    "        for FG_atomIDs in FGs_atomIDs_expan:\n",
    "            if resFormat == 'smiles':\n",
    "                FGs_str = Chem.MolFragmentToSmiles(mol, FG_atomIDs, canonical=True)\n",
    "                FGs_strs = FGs_strs + [FGs_str]\n",
    "            elif resFormat == 'smarts':\n",
    "                FGs_str = Chem.MolFragmentToSmarts(mol, FG_atomIDs, isomericSmarts=False)\n",
    "                FGs_strs = FGs_strs + [FGs_str]\n",
    "        return FGs_strs\n",
    "    \n",
    "#%% Adding fragment smarts column accounting for mixtures\n",
    "def getfrags(series,expand=1): #natoms changed to expand\n",
    "    smiles=series['Smiles']\n",
    "    if smiles=='Error':\n",
    "        return 'Error','Error'\n",
    "    if series['>1 Compound']==True: #This compound is a mixture. Need to split and apply getcarrierfrags to each smiles\n",
    "        fragsmarts=getmixturefrags(smiles,expand=expand)\n",
    "        fragsmiles=getmixturefrags(smiles,expand=expand,resFormat='smiles')\n",
    "    else:\n",
    "        try:\n",
    "            fragsmarts=getCarrierFrags0(smiles,expand=expand)\n",
    "            fragsmiles=getCarrierFrags0(smiles,expand=expand,resFormat='smiles')\n",
    "        except Exception:\n",
    "            return 'Error','Error'\n",
    "    if type(fragsmarts)!=list:\n",
    "        fragsmarts=[fragsmarts]\n",
    "        fragsmiles=[fragsmiles]\n",
    "    \n",
    "#     fragsmiles=[Chem.MolToSmiles(Chem.MolFromSmarts(fragsmart)) for fragsmart in fragsmarts] #Does not capture aromaticity\n",
    "    return fragsmiles,fragsmarts\n",
    "        \n",
    "    \n",
    "def getfragpartition(partition,natoms):\n",
    "    return partition.apply(getfrags,natoms=natoms,axis=1)\n",
    "\n",
    "\n",
    "#%% Adding fragment smiles column\n",
    "def getfragsmiles(fragsmarts):\n",
    "    if type(fragsmarts)==list:\n",
    "        fragsmiles=[Chem.MolToSmiles(Chem.MolFromSmarts(fragsmart)) for fragsmart in fragsmarts]    \n",
    "    elif fragsmarts=='Error':\n",
    "        return 'Error'\n",
    "    else:\n",
    "         fragsmiles=Chem.MolToSmiles(Chem.MolFromSmarts(fragsmarts))\n",
    "    return fragsmiles\n",
    "\n",
    "def getsmiles(series):\n",
    "    fragsmarts=series['FragmentSmarts']\n",
    "    return getfragsmiles(fragsmarts)\n",
    "\n",
    "def getsmilespartition(partition):\n",
    "    return partition.apply(getsmiles,axis=1)\n",
    "\n",
    "#%% Creating mixture column (True if mixture, False if not mixture, Error if smiles not present)\n",
    "\n",
    "def mixtures(smiles):\n",
    "    if smiles=='Error':\n",
    "        return 'Error'\n",
    "    elif len(smiles.split('.'))>1:\n",
    "        return True\n",
    "    else:\n",
    "        return False\n",
    "\n",
    "def findMixtures(series):\n",
    "    smiles=series['Smiles']\n",
    "    return mixtures(smiles)\n",
    "    \n",
    "def findMixturespartition(partition):\n",
    "       return partition.apply(findMixtures,axis=1)\n",
    "\n",
    "#%% Changing fragment entries in mixture rows\n",
    "\n",
    "def getmixturefrags(mixsmiles,expand=1,resFormat='smarts', addHs=True): \n",
    "    try:\n",
    "        res=[]\n",
    "        for smiles in mixsmiles.split('.'):\n",
    "            reslist=getCarrierFrags0(smiles,expand=expand,resFormat=resFormat,addHs=addHs)\n",
    "            if type(reslist)!=list:\n",
    "                res+=[reslist]\n",
    "            else:\n",
    "                res+=reslist\n",
    "    except Exception:\n",
    "        return 'Error'\n",
    "    else:\n",
    "        return res    \n",
    "\n",
    "def getMixturefrags(series,expand=1):\n",
    "    mixsmiles=series['Smiles'] # add .values[0] if column is a multiindex, otherwise droplevel = 1 to remove list\n",
    "    return getmixturefrags(mixsmiles,expand=expand)  \n",
    "\n",
    "def getMixturefragspartition(partition,natoms):\n",
    "    return partition.apply(getMixturefrags,expand=expand,axis=1)\n",
    "\n",
    "# def collapsepartition(partition): #Doesn't work yet. Once exploded it is extremely time-consuming to collapse the dataframe\n",
    "#     temp=partition.groupby(['Smiles']).agg([list])\n",
    "#     return temp\n",
    "\n",
    "    \n",
    "#%% Joining columns to a dataframe\n",
    "\n",
    "def joindf(seriesdf,DB,explodeDB=None):\n",
    "    if seriesdf.index.name!=DB.index.name or seriesdf.index.names!=DB.index.names:\n",
    "        if DB.index.name or DB.index.names:\n",
    "            DB.reset_index(inplace=True)\n",
    "        if seriesdf.index.name or seriesdf.index.names:\n",
    "            seriesdf.reset_index(inplace=True)        \n",
    "    DB=DB.join(seriesdf)\n",
    "    if explodeDB:\n",
    "        DB=DB.explode(explodeDB)\n",
    "    return DB\n",
    "\n",
    "\n",
    "\n",
    "\n",
    "def buildfragdb(sdb=None,sdbd=None,writesdbd=False, \\\n",
    "                sdbdc=None,fragseries=None,natoms=None, \\\n",
    "                writefragseries=False, fdbm=None, fdb=None, dfdb=None, \\\n",
    "                fragsmiles=False, mixtures=False, mixturefrags=False, \\\n",
    "                index=None, writefdb=False,writedfdb=False):\n",
    "    \n",
    "    # Note: cluster and client must be initiated for this function to work. Substance database, either dask or pandas\n",
    "    # should also be loaded. It is advised to avoid loading dask dataframes due to high memory usage. It is recommended to\n",
    "    #persist and create dask dataframes outside this function, otherwise overheads may be added. Never reset dask dataframe\n",
    "    #index or else it will reindex all partitions...always start with pandas, reindex and then convert to dask when large computations\n",
    "    #need to be done.\n",
    "    \n",
    "    # sdb = substance database, sdbd = substance database dask, sdbdc = substance database dask cleaned \n",
    "    #(remove smile errors), # fragseries = series containing fragment information, natoms =  size of fragment, \n",
    "    # writefragseries = True if write to file false otherwise, fdbm = fragment database master, pandas version of sdbdc,\n",
    "    # fdb = final fragment database exploded and unindexed pfdb = final pandas fragment dataframe, multiindexed, \n",
    "    # dfdb = final dask fragment dataframe\n",
    "   \n",
    "    # Step 1: Create dask dataframe from pandas substance database (output: sdbd)\n",
    "    \n",
    "    if sdb and not type(sdbd)==dd.core.DataFrame:\n",
    "        sdbd = dd.from_pandas(sdb, npartitions=16)\n",
    "        sdbd = client.persist(sdbd)\n",
    "        print('Dask substance dataframe created and persisted')\n",
    "        if writesdbd:\n",
    "            sdbd.to_parquet(writesdbd)\n",
    "            print('Dask substance dataframe written to file: ' + writesdb)\n",
    "        if not natoms and not fragseries:\n",
    "            print(\"Please specify size of fragments that should be retrieved\")\n",
    "            return sdbd\n",
    "        \n",
    "   # Step 2: Clean dask data frame and select only substance ID and smiles column, removing errors (output: sdbdc).\n",
    "\n",
    "    if sdbd and not type(sdbdc)==dd.core.DataFrame:\n",
    "        sdbd = client.persist(sdbd)\n",
    "        sdbdc = sdbd.reset_index()[['SubstanceID', 'Smiles','>1 Compound']]\n",
    "        sdbdc= sdbdc[sdbdc.Smiles!='Error']\n",
    "        sdbdc=client.persist(sdbdc)\n",
    "        print('Cleaned dask substance dataframe created and persisted')\n",
    "        if not natoms and not type(fragseries)==pd.core.series.Series:\n",
    "            print(\"Please specify size of fragments that should be retrieved\")\n",
    "            return sdbdc      \n",
    "        \n",
    "    # Step 3: Scrape 16 million compounds, and extract series of active fragments for each (output: fragseries)\n",
    "    \n",
    "    if not type(fragseries)==pd.core.series.Series and not type(fdb)==pd.core.frame.DataFrame:\n",
    "        if not type(sdbdc)==dd.core.DataFrame:\n",
    "            return \"Please include a cleaned dask substance dataframe for fragment retrieval\"\n",
    "        if not natoms:\n",
    "            return \"Please specify size of fragments retrieved\"\n",
    "        sdbdc=client.persist(sdbdc)\n",
    "#         if natoms==0:\n",
    "#             name='ActiveFragmentSmarts'\n",
    "#         else:\n",
    "#            filename='CarrierFragments'+'(n='+str(natoms)+')'\n",
    "        name='FragmentSmarts'\n",
    "        fragseries=sdbdc.map_partitions(getfragpartition,natoms=natoms,meta=(name,'O')).compute()\n",
    "        print('fragseries retrieved')\n",
    "    \n",
    "    if writefragseries:\n",
    "        if not type(fragseries)==pd.core.series.Series:\n",
    "            return \"Supply fragment series to write to file\"\n",
    "        writepickle(fragseries,writefragseries)\n",
    "        print('fragseries writted to file: '+ writefragseries)\n",
    "      \n",
    "     # Step 4: Prepare cleaned pandas dataframe for fragment series attachment (output: fdbm)  \n",
    "        \n",
    "    if not type(fdbm)==pd.core.frame.DataFrame and not type(fdb)==pd.core.frame.DataFrame:\n",
    "        if not type(sdbdc)==dd.core.DataFrame:\n",
    "            return \"Please include a cleaned dask substance dataframe to which fragment information can be attached\"\n",
    "        fdbm=sdbdc.compute()\n",
    "#         fdbm.reset_index(inplace=True)\n",
    "#         fdbm.drop('index',axis=1,inplace=True)\n",
    "        \n",
    "    # Step 5: Attaching fragment series, generating an exploded fragment database (output: fdb)\n",
    "    \n",
    "    if type(fdbm)==pd.core.frame.DataFrame:\n",
    "        if not type(fragseries)==pd.core.series.Series:\n",
    "            return \"Please include the fragment series that should be attached\"\n",
    "        fragdf=pd.DataFrame(fragseries)\n",
    "        fdb=joindf(fragdf,fdbm,explodeDB=fragdf.columns[0])\n",
    "        print(\"Unindexed fragment database completed\")\n",
    "    \n",
    "    # Step 6: Adding additional columns, formatting, indexing and writing fragment database to file\n",
    "\n",
    "    if fragsmiles:\n",
    "        if not type(fdb)==pd.core.frame.DataFrame:\n",
    "            return \"Please supply fragment database to analyze\"\n",
    "        if not type(dfdb)==dd.core.DataFrame:\n",
    "            if fdb.index.name or fdb.index.names:\n",
    "                fdb.reset_index(inplace=True)\n",
    "            dfdb=dd.from_pandas(fdb,npartitions=181)\n",
    "            dfdb=client.persist(dfdb)\n",
    "        fragseries=dfdb.map_partitions(getsmilespartition,meta=('FragmentSmiles','O')).compute()\n",
    "        if writefragseries:\n",
    "            if not type(fragseries)==pd.core.series.Series:\n",
    "                return \"Supply fragment series to write to file\"\n",
    "            writepickle(fragseries,writefragseries)\n",
    "            print('fragseries writted to file: '+ writefragseries)    \n",
    "        smilesdf=pd.DataFrame(fragseries)\n",
    "        fdb=joindf(smilesdf,fdb)\n",
    "        \n",
    "        \n",
    "    if mixtures:\n",
    "        if not type(fdb)==pd.core.frame.DataFrame:\n",
    "            return \"Please supply fragment database to analyze\"\n",
    "        if not type(dfdb)==dd.core.DataFrame:\n",
    "            if fdb.index.name or fdb.index.names:\n",
    "                fdb.reset_index(inplace=True)\n",
    "            dfdb=dd.from_pandas(fdb,npartitions=181)\n",
    "            dfdb=client.persist(dfdb)\n",
    "        fragseries=dfdb.map_partitions(findMixturespartition,meta=('>1 Compound','boolean'))\n",
    "        if writefragseries:\n",
    "            if not type(fragseries)==pd.core.series.Series:\n",
    "                return \"Supply fragment series to write to file\"\n",
    "            writepickle(fragseries,writefragseries)\n",
    "            print('fragseries writted to file: '+ writefragseries) \n",
    "        mixturedf=pd.DataFrame(fragseries)\n",
    "        fdb=joindf(mixturedf,fdb)\n",
    "    \n",
    "    if mixturefrags:\n",
    "        #NOTE: If exploded, fragment database should be aggregated by Smiles/Smarts\n",
    "        if not type(fdb)==pd.core.frame.DataFrame or '> 1 Compound' not in fdb.columns:\n",
    "            return \"Please supply fragment database to analyze, with mixture indication (specify mixtures=True)\"\n",
    "        if not natoms:\n",
    "            return \"Please specify size of fragments retrieved\"\n",
    "        if not type(dfdb)==dd.core.DataFrame:\n",
    "            dfdb=dd.from_pandas(fdb,npartitions=16)\n",
    "            dfdb=client.persist(dfdb)\n",
    "        fragseries=dfdb.map_partitions(getMixturefragspartition,natoms=natoms,meta=('FragmentSmarts','O'))\n",
    "        if writefragseries:\n",
    "            if not type(fragseries)==pd.core.series.Series:\n",
    "                return \"Supply fragment series to write to file\"\n",
    "            writepickle(fragseries,writefragseries)\n",
    "            print('fragseries writted to file: '+ writefragseries) \n",
    "        mixturesmarts=pd.DataFrame(fragseries)\n",
    "        fdb=joindf(mixturesmarts,fdb)\n",
    "        \n",
    "        \n",
    "    \n",
    "# Deprecated..Dask dataframes take up too much memory when read from file\n",
    "\n",
    "#     if dfdb:\n",
    "#         if fdb.index.name:\n",
    "#             fdb.reset_index(inplace=True)\n",
    "#         fdb.set_index('SubstanceID',inplace=True)\n",
    "#         dfdb=dd.from_pandas(fdb,npartitions=64)\n",
    "# #         dfdb=dfdb.reset_index()\n",
    "# #         dfdb=dfdb.set_index(dfdb.columns[dfdb.columns.str.contains('ragment')][0])\n",
    "#         print('Dask fragment database created')\n",
    "#     if writedfdb:\n",
    "#         dfdb.to_parquet(writedfdb)\n",
    "#         print('Dask fragment database written to file: ' + writedfdb)\n",
    "\n",
    "        \n",
    "    #%% Indexing dataframe\n",
    "    \n",
    "    if index:\n",
    "        if not type(fdb)==pd.core.frame.DataFrame:\n",
    "             return \"Please supply fragment database to index\"\n",
    "        if fdb.index.name==index or fdb.index.names==index:\n",
    "            print(\"Database is already indexed.\") \n",
    "        elif fdb.index.name or fdb.index.names:\n",
    "            fdb.reset_index(inplace=True)\n",
    "            fdb.set_index([index],inplace=True)\n",
    "        else:\n",
    "            fdb.set_index([index],inplace=True)\n",
    "        print('Pandas fragment database indexed')\n",
    "    if writefdb:\n",
    "        writepickle(fdb,writefdb)\n",
    "        print('Pandas fragment database written to file: ' + writefdb)\n",
    "    \n",
    "    return fdb\n",
    "    \n"
   ]
  },
  {
   "cell_type": "markdown",
   "metadata": {},
   "source": [
    "## Preparing fragment database"
   ]
  },
  {
   "cell_type": "markdown",
   "metadata": {},
   "source": [
    "This is just for Reaxys. For pistachio, curl/json requests need to be processed for each reaction ID (has not been implemented yet)"
   ]
  },
  {
   "cell_type": "code",
   "execution_count": 8,
   "metadata": {
    "ExecuteTime": {
     "end_time": "2021-06-08T18:42:31.190154Z",
     "start_time": "2021-06-08T18:42:16.584591Z"
    }
   },
   "outputs": [],
   "source": [
    "substancedb = openpickle(\"/home/aa2133/Impurity-Project/Reaxys_Data/SubstanceDB.pickle\")"
   ]
  },
  {
   "cell_type": "code",
   "execution_count": null,
   "metadata": {
    "ExecuteTime": {
     "end_time": "2021-05-05T12:48:20.466316Z",
     "start_time": "2021-05-05T12:48:16.591238Z"
    }
   },
   "outputs": [],
   "source": [
    "substancedb.reset_index(inplace=True)\n",
    "substancedb.set_index('SubstanceID',inplace=True)"
   ]
  },
  {
   "cell_type": "code",
   "execution_count": 5,
   "metadata": {
    "ExecuteTime": {
     "end_time": "2021-05-07T06:29:48.657397Z",
     "start_time": "2021-05-07T06:29:45.992225Z"
    }
   },
   "outputs": [
    {
     "name": "stderr",
     "output_type": "stream",
     "text": [
      "2021-05-07 07:29:47,420\tINFO services.py:1171 -- View the Ray dashboard at \u001b[1m\u001b[32mhttp://127.0.0.1:8265\u001b[39m\u001b[22m\n"
     ]
    },
    {
     "data": {
      "text/plain": [
       "{'node_ip_address': '172.24.144.187',\n",
       " 'raylet_ip_address': '172.24.144.187',\n",
       " 'redis_address': '172.24.144.187:6379',\n",
       " 'object_store_address': '/tmp/ray/session_2021-05-07_07-29-45_995432_3147/sockets/plasma_store',\n",
       " 'raylet_socket_name': '/tmp/ray/session_2021-05-07_07-29-45_995432_3147/sockets/raylet',\n",
       " 'webui_url': '127.0.0.1:8265',\n",
       " 'session_dir': '/tmp/ray/session_2021-05-07_07-29-45_995432_3147',\n",
       " 'metrics_export_port': 48993,\n",
       " 'node_id': '81e091672a7c14fb5a9abf3fe95843e810ddef02'}"
      ]
     },
     "execution_count": 5,
     "metadata": {},
     "output_type": "execute_result"
    },
    {
     "name": "stderr",
     "output_type": "stream",
     "text": [
      "UserWarning: The pandas version installed 1.2.4 does not match the supported pandas version in Modin 1.2.3. This may cause undesired side effects!\n"
     ]
    }
   ],
   "source": [
    "import ray\n",
    "ray.init(num_cpus=16,log_to_driver=False)\n",
    "# ray.init(address=<address>)\n",
    "# import modin.pandas as mpd\n",
    "#{'node_ip_address': '172.24.144.187',\n",
    "#  'raylet_ip_address': '172.24.144.187',\n",
    "#  'redis_address': '172.24.144.187:6379',\n",
    "#  'object_store_address': '/tmp/ray/session_2021-03-17_08-06-30_976889_20598/sockets/plasma_store',\n",
    "#  'raylet_socket_name': '/tmp/ray/session_2021-03-17_08-06-30_976889_20598/sockets/raylet',\n",
    "#  'webui_url': '127.0.0.1:8265',\n",
    "#  'session_dir': '/tmp/ray/session_2021-03-17_08-06-30_976889_20598',\n",
    "#  'metrics_export_port': 62625,\n",
    "#  'node_id': '614e0285af16d747aad7f68221d8e1670dca25a1'}\n",
    "import modin.pandas as mpd"
   ]
  },
  {
   "cell_type": "code",
   "execution_count": 217,
   "metadata": {
    "ExecuteTime": {
     "end_time": "2021-05-06T09:08:12.383893Z",
     "start_time": "2021-05-06T09:08:09.420915Z"
    }
   },
   "outputs": [],
   "source": [
    "ray.shutdown()"
   ]
  },
  {
   "cell_type": "code",
   "execution_count": 6,
   "metadata": {
    "ExecuteTime": {
     "end_time": "2021-05-07T06:29:48.662788Z",
     "start_time": "2021-05-07T06:29:48.659394Z"
    }
   },
   "outputs": [],
   "source": [
    "import ray\n",
    "def initray(restart=True,num_cpus=16,log_to_driver=False):\n",
    "    if restart:\n",
    "        ray.shutdown()\n",
    "    ray.init(num_cpus=num_cpus,log_to_driver=log_to_driver)\n",
    "    import modin.pandas as mpd"
   ]
  },
  {
   "cell_type": "code",
   "execution_count": null,
   "metadata": {
    "ExecuteTime": {
     "end_time": "2021-05-05T19:12:39.697418Z",
     "start_time": "2021-05-05T19:12:11.606528Z"
    }
   },
   "outputs": [],
   "source": [
    "substancedbr=mpd.DataFrame(substancedb)"
   ]
  },
  {
   "cell_type": "code",
   "execution_count": 4,
   "metadata": {
    "ExecuteTime": {
     "end_time": "2021-05-14T17:44:42.014619Z",
     "start_time": "2021-05-14T17:44:41.997775Z"
    }
   },
   "outputs": [
    {
     "data": {
      "text/plain": [
       "['cOC', 'CC#N']"
      ]
     },
     "execution_count": 4,
     "metadata": {},
     "output_type": "execute_result"
    }
   ],
   "source": [
    "getCarrierFrags0('COc2ccc1cccc(CC#N)c1c2',resFormat='smiles')"
   ]
  },
  {
   "cell_type": "code",
   "execution_count": null,
   "metadata": {
    "ExecuteTime": {
     "end_time": "2021-05-05T12:51:09.704370Z",
     "start_time": "2021-05-05T12:51:09.638703Z"
    }
   },
   "outputs": [],
   "source": [
    "Chem.MolFromSmiles('c1ccncc1.c1nc[nH]n1')\n",
    "IFG(Chem.MolFromSmiles('c1ccncc1'))\n",
    "IFG(Chem.MolFromSmiles('c1nc[nH]n1'))\n",
    "getmixturefrags('c1ccncc1.c1nc[nH]n1',expand=1)\n",
    "getmixturefrags('c1ccncc1.c1nc[nH]n1',expand=2)\n",
    "Chem.MolFromSmarts('[#6]:[#7]:[#7](:[#6])-[H]')\n",
    "Chem.MolFromSmarts('[#6]1(:[#7]:[#6](:[#7](:[#7]:1)-[H])-[H])-[H]')"
   ]
  },
  {
   "cell_type": "code",
   "execution_count": null,
   "metadata": {
    "ExecuteTime": {
     "end_time": "2021-05-05T17:32:05.951043Z",
     "start_time": "2021-05-05T17:32:05.901250Z"
    }
   },
   "outputs": [],
   "source": [
    "getCarrierFrags0('C1=CC=C(C=C1)O',expand=1,resFormat='smiles')\n",
    "getCarrierFrags0('CCO',expand=1,resFormat='smiles')\n",
    "getCarrierFrags0('C1=CC=C(C=C1)O',expand=1,resFormat='smarts')\n",
    "getCarrierFrags0('CCO',expand=1,resFormat='smarts')\n",
    "#Smarts can be used to display fragment, smiles indicates aromaticity but is not chemically valid (as it is a fragment)\n",
    "from MainFunctions import mol_with_atom_index\n",
    "mol_with_atom_index(Chem.AddHs(Chem.MolFromSmiles('C1=CC=C(C=C1)O')))\n",
    "Chem.MolFragmentToSmarts(Chem.AddHs(Chem.MolFromSmiles('C1=CC=C(C=C1)O')),[6,12,3,2])"
   ]
  },
  {
   "cell_type": "code",
   "execution_count": null,
   "metadata": {
    "ExecuteTime": {
     "end_time": "2021-05-05T17:18:56.282483Z",
     "start_time": "2021-05-05T17:18:56.259403Z"
    }
   },
   "outputs": [],
   "source": [
    "Chem.MolFromSmiles('cOC',sanitize=False)\n",
    "# Chem.SanitizeMol(m,sanitizeOps=Chem.SanitizeFlags.SANITIZE_ALL^Chem.SanitizeFlags.SANITIZE_KEKULIZE)\n",
    "# display(m)"
   ]
  },
  {
   "cell_type": "code",
   "execution_count": null,
   "metadata": {
    "ExecuteTime": {
     "end_time": "2021-05-05T12:57:56.739700Z",
     "start_time": "2021-05-05T12:57:56.696060Z"
    }
   },
   "outputs": [],
   "source": [
    "substancedb.iloc[1000]\n",
    "IFG(Chem.MolFromSmiles('COc1cccc2c1OCC(c1ccccc1)C2'))\n",
    "getfrags(substancedb.iloc[1000],expand=2)\n",
    "getfrags(substancedb.iloc[1000])\n",
    "Chem.MolFromSmarts('[#6]-[#8]-[#6]')"
   ]
  },
  {
   "cell_type": "code",
   "execution_count": null,
   "metadata": {
    "ExecuteTime": {
     "end_time": "2021-05-05T19:12:02.222308Z",
     "start_time": "2021-05-05T19:11:55.528140Z"
    }
   },
   "outputs": [],
   "source": [
    "initray()"
   ]
  },
  {
   "cell_type": "code",
   "execution_count": 221,
   "metadata": {
    "ExecuteTime": {
     "end_time": "2021-05-06T09:09:04.824648Z",
     "start_time": "2021-05-06T09:09:04.813113Z"
    }
   },
   "outputs": [
    {
     "data": {
      "text/plain": [
       "pandas.core.frame.DataFrame"
      ]
     },
     "execution_count": 221,
     "metadata": {},
     "output_type": "execute_result"
    }
   ],
   "source": [
    "# substancedb.loc[4122952].Smiles='[H-].[Na+]' #Correcting sodium hydride smiles\n",
    "# 16934069\tO.[Hg]\t/home/projects/graph/data/batch_600000/16934069\tNo\tTrue\n",
    "# 23018147\tO.[Hg]\t/home/projects/graph/data/batch_2900000/23018147\tNo\tTrue\n",
    "# 16689882\tO.[Hg]\t/home/projects/graph/data/batch_1300000/16689882\tNo\tTrue\n",
    "# 16798713\tO.[Hg]\t/home/projects/graph/data/batch_2000000/16798713\tNo\tTrue\n",
    "# 16532899\tO.[Hg]\t/home/projects/graph/data/batch_5600000/16532899\tNo\tTrue\n",
    "# 8128139\tO.[Hg]\t/home/projects/graph/data/batch_16000000/8128139\tNo\tTrue\n",
    "# 16502414\tO.[Hg]\t/home/projects/graph/data/batch_7600000/16502414\tNo\tTrue\n",
    "# 23514369\tO.[Hg]\t/home/projects/graph/data/batch_6400000/23514369\tNo\tTrue\n",
    "# 16981445\t\n",
    "# for index,row in substancedb.loc[substancedb.Smiles=='O.[Hg]'].iterrows():\n",
    "#     substancedb.loc[index].Smiles='O=[Hg]'\n",
    "# for index,row in substancedb.loc[substancedb.Smiles=='O=[Hg]'].iterrows():\n",
    "#     substancedb.loc[index]['>1 Compound']=False\n",
    "\n",
    "# substancedb.loc[substancedb.Smiles=='[H].[NaH]']\n",
    "# substancedb.loc[15489681].Smiles='[2H-].[Na+]'\n",
    "# substancedb.loc[16497959].Smiles='[H-].[Na+]'\n",
    "# substancedb.loc[16497075].Smiles='[Na]'\n",
    "# substancedb.loc[substancedb.Smiles=='[Na-][H]']\n",
    "# substancedb.loc[28525100].Smiles='[I-].[K+]'\n",
    "# substancedb.loc[8127929].Smiles='[I-].[K+]'\n",
    "# substancedb.loc[20571218].Smiles='[129I-].[K+]'\n",
    "# substancedb.loc[19231183].Smiles='[125I-].[K+]'\n",
    "# substancedb.loc[16769113].Smiles='[I-].[42K+]'\n",
    "# substancedb.loc[16628792].Smiles='[I-].[K+]'\n",
    "# substancedb.loc[16400527].Smiles='[127I-].[K+]'\n",
    "# substancedb.loc[substancedb.Smiles=='I.[KH]']\n",
    "# substancedb.loc[8127930]\n",
    "# substancedb.loc[31519620].Smiles='[123I-].[Na+]'\n",
    "# substancedb.loc[14344914].Smiles='[125I-].[Na+]'\n",
    "# substancedb.loc[14445085].Smiles='[131I-].[Na+]'\n",
    "# substancedb.loc[16857217].Smiles='[129I-].[Na+]'\n",
    "# substancedb.loc[14341279].Smiles='[123I-].[Na+]'\n",
    "# substancedb.loc[8127930].Smiles='[I-].[Na+]'\n",
    "# substancedb.loc[16855705].Smiles='[138I-].[Na+]'\n",
    "# substancedb.loc[16769306].Smiles='[I-].[22Na+]'\n",
    "# substancedb.loc[16497432].Smiles='[I-].[Na+]'\n",
    "# substancedb.loc[27847271].Smiles='[I-].[Na+]'\n",
    "# substancedb.loc[23094471].Smiles='[125I-].[Na+]'\n",
    "# substancedb.loc[14750800].Smiles='[124I-].[Na+]'\n",
    "# substancedb.loc[14364494].Smiles='[127I-].[Na+]'\n"
   ]
  },
  {
   "cell_type": "code",
   "execution_count": null,
   "metadata": {
    "ExecuteTime": {
     "end_time": "2021-05-05T21:31:53.062610Z",
     "start_time": "2021-05-05T19:13:18.786324Z"
    }
   },
   "outputs": [],
   "source": [
    "fragdat=substancedbr.apply(getfrags,axis=1,result_type='reduce')"
   ]
  },
  {
   "cell_type": "code",
   "execution_count": null,
   "metadata": {
    "ExecuteTime": {
     "end_time": "2021-05-06T05:10:51.277233Z",
     "start_time": "2021-05-06T05:05:10.209411Z"
    }
   },
   "outputs": [],
   "source": [
    "fragdat=pd.Series(data=fragdat.values,index=fragdat.index) #Optional convert modin back to pandas"
   ]
  },
  {
   "cell_type": "code",
   "execution_count": null,
   "metadata": {
    "ExecuteTime": {
     "end_time": "2021-05-06T05:13:38.513518Z",
     "start_time": "2021-05-06T05:11:52.272669Z"
    }
   },
   "outputs": [],
   "source": [
    "writepickle(fragdat,'/home/aa2133/Impurity-Project/Reaxys_Data/','fragdat')"
   ]
  },
  {
   "cell_type": "code",
   "execution_count": 7,
   "metadata": {
    "ExecuteTime": {
     "end_time": "2021-05-07T06:31:27.531223Z",
     "start_time": "2021-05-07T06:29:51.867928Z"
    }
   },
   "outputs": [],
   "source": [
    "fragdat=openpickle('/home/aa2133/Impurity-Project/Reaxys_Data/fragdat.pickle')"
   ]
  },
  {
   "cell_type": "code",
   "execution_count": 8,
   "metadata": {
    "ExecuteTime": {
     "end_time": "2021-05-07T06:31:37.570011Z",
     "start_time": "2021-05-07T06:31:27.535399Z"
    }
   },
   "outputs": [],
   "source": [
    "fragdatdf=pd.DataFrame(data=fragdat.tolist(),index=fragdat.index,columns=['FragmentSmiles','FragmentSmarts'])"
   ]
  },
  {
   "cell_type": "code",
   "execution_count": null,
   "metadata": {
    "ExecuteTime": {
     "end_time": "2021-05-06T05:21:49.803876Z",
     "start_time": "2021-05-06T05:21:49.762465Z"
    }
   },
   "outputs": [],
   "source": [
    "fragdatdf"
   ]
  },
  {
   "cell_type": "code",
   "execution_count": 9,
   "metadata": {
    "ExecuteTime": {
     "end_time": "2021-05-07T06:31:41.223092Z",
     "start_time": "2021-05-07T06:31:37.572429Z"
    }
   },
   "outputs": [],
   "source": [
    "fragdatdf=fragdatdf.loc[fragdatdf.FragmentSmiles!='Error']"
   ]
  },
  {
   "cell_type": "code",
   "execution_count": null,
   "metadata": {
    "ExecuteTime": {
     "end_time": "2021-05-07T06:42:18.517493Z",
     "start_time": "2021-05-07T06:42:03.330995Z"
    }
   },
   "outputs": [],
   "source": [
    "# fragdatdf\n",
    "# fragdatdf['Smiles']=substancedb.loc[substancedb.index.isin(fragdatdf.index)]['Smiles']\n",
    "# fragdatdf\n",
    "# fragdatdf['>1 Compound']=substancedb[substancedb.index.isin(fragdatdf.index)]['>1 Compound']\n",
    "# fragdatdf"
   ]
  },
  {
   "cell_type": "code",
   "execution_count": 10,
   "metadata": {
    "ExecuteTime": {
     "end_time": "2021-05-06T10:07:04.391980Z",
     "start_time": "2021-05-06T10:06:58.332869Z"
    }
   },
   "outputs": [
    {
     "data": {
      "text/plain": [
       "Index              118786200\n",
       "FragmentSmiles    1664796272\n",
       "FragmentSmarts    1664796272\n",
       "dtype: int64"
      ]
     },
     "execution_count": 10,
     "metadata": {},
     "output_type": "execute_result"
    }
   ],
   "source": [
    "fragdatdf.memory_usage(deep=True)"
   ]
  },
  {
   "cell_type": "code",
   "execution_count": 7,
   "metadata": {
    "ExecuteTime": {
     "end_time": "2021-06-08T18:42:07.682860Z",
     "start_time": "2021-06-08T18:42:07.676440Z"
    }
   },
   "outputs": [],
   "source": [
    "import sqlite3\n",
    "import os\n",
    "\n",
    "db=sqlite3.connect(\"/home/aa2133/Impurity-Project/Reaxys_Data/SQL/Reaxys_Data.db\")\n",
    "cursor = db.cursor()"
   ]
  },
  {
   "cell_type": "code",
   "execution_count": 42,
   "metadata": {
    "ExecuteTime": {
     "end_time": "2021-05-07T08:05:17.444267Z",
     "start_time": "2021-05-07T08:05:17.437447Z"
    }
   },
   "outputs": [],
   "source": [
    "db.close()"
   ]
  },
  {
   "cell_type": "code",
   "execution_count": null,
   "metadata": {
    "ExecuteTime": {
     "start_time": "2021-05-06T09:31:01.730Z"
    }
   },
   "outputs": [],
   "source": [
    "# pd.read_sql_query('''SELECT Smiles,\">1 Compound\"\n",
    "# FROM SubstanceDB\n",
    "# WHERE SubstanceID IN (6890270,6138726,11404182,3409746);''',db)\n",
    "\n",
    "# pd.read_sql_query('''SELECT SubstanceID,Smiles,\">1 Compound\"\n",
    "# FROM SubstanceDB\n",
    "# WHERE SubstanceID IN {};'''.format(plist),db)\n",
    "\n",
    "# # plist=(6890270,6138726,11404182,3409746)\n",
    "# plist=tempidx[:100000]"
   ]
  },
  {
   "cell_type": "code",
   "execution_count": 12,
   "metadata": {
    "ExecuteTime": {
     "end_time": "2021-05-07T06:32:22.889204Z",
     "start_time": "2021-05-07T06:31:41.348020Z"
    }
   },
   "outputs": [],
   "source": [
    "temp=fragdatdf[['FragmentSmiles']].explode('FragmentSmiles')"
   ]
  },
  {
   "cell_type": "code",
   "execution_count": 13,
   "metadata": {
    "ExecuteTime": {
     "end_time": "2021-05-07T06:33:54.578638Z",
     "start_time": "2021-05-07T06:32:22.891383Z"
    }
   },
   "outputs": [],
   "source": [
    "temp['count']=temp.groupby([temp.index,'FragmentSmiles'])['FragmentSmiles'].transform('count')"
   ]
  },
  {
   "cell_type": "code",
   "execution_count": 13,
   "metadata": {
    "ExecuteTime": {
     "end_time": "2021-05-06T18:10:12.816802Z",
     "start_time": "2021-05-06T18:10:12.763246Z"
    }
   },
   "outputs": [
    {
     "data": {
      "text/html": [
       "<div>\n",
       "<style scoped>\n",
       "    .dataframe tbody tr th:only-of-type {\n",
       "        vertical-align: middle;\n",
       "    }\n",
       "\n",
       "    .dataframe tbody tr th {\n",
       "        vertical-align: top;\n",
       "    }\n",
       "\n",
       "    .dataframe thead th {\n",
       "        text-align: right;\n",
       "    }\n",
       "</style>\n",
       "<table border=\"1\" class=\"dataframe\">\n",
       "  <thead>\n",
       "    <tr style=\"text-align: right;\">\n",
       "      <th></th>\n",
       "      <th>FragmentSmiles</th>\n",
       "      <th>count</th>\n",
       "    </tr>\n",
       "    <tr>\n",
       "      <th>SubstanceID</th>\n",
       "      <th></th>\n",
       "      <th></th>\n",
       "    </tr>\n",
       "  </thead>\n",
       "  <tbody>\n",
       "    <tr>\n",
       "      <th>6890270</th>\n",
       "      <td>CF</td>\n",
       "      <td>1</td>\n",
       "    </tr>\n",
       "    <tr>\n",
       "      <th>6890270</th>\n",
       "      <td>CBr</td>\n",
       "      <td>1</td>\n",
       "    </tr>\n",
       "    <tr>\n",
       "      <th>27615522</th>\n",
       "      <td>cnc</td>\n",
       "      <td>1</td>\n",
       "    </tr>\n",
       "    <tr>\n",
       "      <th>27615522</th>\n",
       "      <td>cF</td>\n",
       "      <td>2</td>\n",
       "    </tr>\n",
       "    <tr>\n",
       "      <th>27615522</th>\n",
       "      <td>[H]C1([H])OccO1</td>\n",
       "      <td>1</td>\n",
       "    </tr>\n",
       "    <tr>\n",
       "      <th>...</th>\n",
       "      <td>...</td>\n",
       "      <td>...</td>\n",
       "    </tr>\n",
       "    <tr>\n",
       "      <th>11404182</th>\n",
       "      <td>CCl</td>\n",
       "      <td>1</td>\n",
       "    </tr>\n",
       "    <tr>\n",
       "      <th>11404182</th>\n",
       "      <td>cOC</td>\n",
       "      <td>2</td>\n",
       "    </tr>\n",
       "    <tr>\n",
       "      <th>11404182</th>\n",
       "      <td>CF</td>\n",
       "      <td>3</td>\n",
       "    </tr>\n",
       "    <tr>\n",
       "      <th>11404182</th>\n",
       "      <td>CF</td>\n",
       "      <td>3</td>\n",
       "    </tr>\n",
       "    <tr>\n",
       "      <th>11404182</th>\n",
       "      <td>CF</td>\n",
       "      <td>3</td>\n",
       "    </tr>\n",
       "  </tbody>\n",
       "</table>\n",
       "<p>68240841 rows × 2 columns</p>\n",
       "</div>"
      ],
      "text/plain": [
       "              FragmentSmiles  count\n",
       "SubstanceID                        \n",
       "6890270                   CF      1\n",
       "6890270                  CBr      1\n",
       "27615522                 cnc      1\n",
       "27615522                  cF      2\n",
       "27615522     [H]C1([H])OccO1      1\n",
       "...                      ...    ...\n",
       "11404182                 CCl      1\n",
       "11404182                 cOC      2\n",
       "11404182                  CF      3\n",
       "11404182                  CF      3\n",
       "11404182                  CF      3\n",
       "\n",
       "[68240841 rows x 2 columns]"
      ]
     },
     "execution_count": 13,
     "metadata": {},
     "output_type": "execute_result"
    }
   ],
   "source": [
    "temp"
   ]
  },
  {
   "cell_type": "code",
   "execution_count": 14,
   "metadata": {
    "ExecuteTime": {
     "end_time": "2021-05-07T06:34:43.811831Z",
     "start_time": "2021-05-07T06:33:54.581348Z"
    }
   },
   "outputs": [],
   "source": [
    "temp.reset_index(inplace=True)\n",
    "temp.drop_duplicates(inplace=True)\n",
    "# temp.set_index('SubstanceID',inplace=True)"
   ]
  },
  {
   "cell_type": "code",
   "execution_count": 15,
   "metadata": {
    "ExecuteTime": {
     "end_time": "2021-05-06T18:10:46.474933Z",
     "start_time": "2021-05-06T18:10:46.459830Z"
    }
   },
   "outputs": [
    {
     "data": {
      "text/html": [
       "<div>\n",
       "<style scoped>\n",
       "    .dataframe tbody tr th:only-of-type {\n",
       "        vertical-align: middle;\n",
       "    }\n",
       "\n",
       "    .dataframe tbody tr th {\n",
       "        vertical-align: top;\n",
       "    }\n",
       "\n",
       "    .dataframe thead th {\n",
       "        text-align: right;\n",
       "    }\n",
       "</style>\n",
       "<table border=\"1\" class=\"dataframe\">\n",
       "  <thead>\n",
       "    <tr style=\"text-align: right;\">\n",
       "      <th></th>\n",
       "      <th>SubstanceID</th>\n",
       "      <th>FragmentSmiles</th>\n",
       "      <th>count</th>\n",
       "    </tr>\n",
       "  </thead>\n",
       "  <tbody>\n",
       "    <tr>\n",
       "      <th>0</th>\n",
       "      <td>6890270</td>\n",
       "      <td>CF</td>\n",
       "      <td>1</td>\n",
       "    </tr>\n",
       "    <tr>\n",
       "      <th>1</th>\n",
       "      <td>6890270</td>\n",
       "      <td>CBr</td>\n",
       "      <td>1</td>\n",
       "    </tr>\n",
       "    <tr>\n",
       "      <th>2</th>\n",
       "      <td>27615522</td>\n",
       "      <td>cnc</td>\n",
       "      <td>1</td>\n",
       "    </tr>\n",
       "    <tr>\n",
       "      <th>3</th>\n",
       "      <td>27615522</td>\n",
       "      <td>cF</td>\n",
       "      <td>2</td>\n",
       "    </tr>\n",
       "    <tr>\n",
       "      <th>4</th>\n",
       "      <td>27615522</td>\n",
       "      <td>[H]C1([H])OccO1</td>\n",
       "      <td>1</td>\n",
       "    </tr>\n",
       "    <tr>\n",
       "      <th>...</th>\n",
       "      <td>...</td>\n",
       "      <td>...</td>\n",
       "      <td>...</td>\n",
       "    </tr>\n",
       "    <tr>\n",
       "      <th>68240833</th>\n",
       "      <td>22727365</td>\n",
       "      <td>cn(c)C(=O)[O-]</td>\n",
       "      <td>1</td>\n",
       "    </tr>\n",
       "    <tr>\n",
       "      <th>68240834</th>\n",
       "      <td>22727365</td>\n",
       "      <td>[Li+]</td>\n",
       "      <td>1</td>\n",
       "    </tr>\n",
       "    <tr>\n",
       "      <th>68240835</th>\n",
       "      <td>11404182</td>\n",
       "      <td>cOC</td>\n",
       "      <td>2</td>\n",
       "    </tr>\n",
       "    <tr>\n",
       "      <th>68240836</th>\n",
       "      <td>11404182</td>\n",
       "      <td>CCl</td>\n",
       "      <td>1</td>\n",
       "    </tr>\n",
       "    <tr>\n",
       "      <th>68240838</th>\n",
       "      <td>11404182</td>\n",
       "      <td>CF</td>\n",
       "      <td>3</td>\n",
       "    </tr>\n",
       "  </tbody>\n",
       "</table>\n",
       "<p>50181190 rows × 3 columns</p>\n",
       "</div>"
      ],
      "text/plain": [
       "          SubstanceID   FragmentSmiles  count\n",
       "0             6890270               CF      1\n",
       "1             6890270              CBr      1\n",
       "2            27615522              cnc      1\n",
       "3            27615522               cF      2\n",
       "4            27615522  [H]C1([H])OccO1      1\n",
       "...               ...              ...    ...\n",
       "68240833     22727365   cn(c)C(=O)[O-]      1\n",
       "68240834     22727365            [Li+]      1\n",
       "68240835     11404182              cOC      2\n",
       "68240836     11404182              CCl      1\n",
       "68240838     11404182               CF      3\n",
       "\n",
       "[50181190 rows x 3 columns]"
      ]
     },
     "execution_count": 15,
     "metadata": {},
     "output_type": "execute_result"
    }
   ],
   "source": [
    "temp"
   ]
  },
  {
   "cell_type": "code",
   "execution_count": 16,
   "metadata": {
    "ExecuteTime": {
     "end_time": "2021-05-06T18:10:54.231768Z",
     "start_time": "2021-05-06T18:10:46.477366Z"
    }
   },
   "outputs": [
    {
     "data": {
      "text/plain": [
       "Index              401449520\n",
       "SubstanceID        401449520\n",
       "FragmentSmiles    3308625317\n",
       "count              401449520\n",
       "dtype: int64"
      ]
     },
     "execution_count": 16,
     "metadata": {},
     "output_type": "execute_result"
    }
   ],
   "source": [
    "temp.memory_usage(deep=True)"
   ]
  },
  {
   "cell_type": "markdown",
   "metadata": {},
   "source": [
    "Visualizing frags"
   ]
  },
  {
   "cell_type": "code",
   "execution_count": 38,
   "metadata": {
    "ExecuteTime": {
     "end_time": "2021-05-06T18:31:08.490769Z",
     "start_time": "2021-05-06T18:31:08.473159Z"
    }
   },
   "outputs": [
    {
     "data": {
      "text/plain": [
       "['[H]Oc', '[H]N(c)C(C)=O']"
      ]
     },
     "execution_count": 38,
     "metadata": {},
     "output_type": "execute_result"
    },
    {
     "data": {
      "text/plain": [
       "['[#6]-[#8]-[H]', '[#6]-[#6](=[#8])-[#7](-[#6])-[H]']"
      ]
     },
     "execution_count": 38,
     "metadata": {},
     "output_type": "execute_result"
    }
   ],
   "source": [
    "getCarrierFrags0('CC(=O)NC1=CC=C(C=C1)O',resFormat='smiles')\n",
    "getCarrierFrags0('CC(=O)NC1=CC=C(C=C1)O',resFormat='smarts')"
   ]
  },
  {
   "cell_type": "code",
   "execution_count": 73,
   "metadata": {
    "ExecuteTime": {
     "end_time": "2021-05-07T04:13:28.407982Z",
     "start_time": "2021-05-07T04:13:28.363710Z"
    }
   },
   "outputs": [
    {
     "data": {
      "text/plain": [
       "rdkit.Chem.rdmolops.SanitizeFlags.SANITIZE_NONE"
      ]
     },
     "execution_count": 73,
     "metadata": {},
     "output_type": "execute_result"
    },
    {
     "data": {
      "image/png": "[encoded data removed]",
      "text/plain": [
       "<rdkit.Chem.rdchem.Mol at 0x7f5d18264a00>"
      ]
     },
     "execution_count": 73,
     "metadata": {},
     "output_type": "execute_result"
    },
    {
     "data": {
      "text/plain": [
       "False"
      ]
     },
     "execution_count": 73,
     "metadata": {},
     "output_type": "execute_result"
    },
    {
     "data": {
      "text/plain": [
       "6"
      ]
     },
     "execution_count": 73,
     "metadata": {},
     "output_type": "execute_result"
    },
    {
     "data": {
      "text/plain": [
       "True"
      ]
     },
     "execution_count": 73,
     "metadata": {},
     "output_type": "execute_result"
    }
   ],
   "source": [
    "m=Chem.MolFromSmarts(Chem.MolToSmarts(Chem.MolFromSmiles('[H]Oc',sanitize=False)))\n",
    "Chem.SanitizeMol(m)\n",
    "m.UpdatePropertyCache(strict=False)\n",
    "m\n",
    "m.GetAtoms()[2].GetIsAromatic()\n",
    "m.GetAtoms()[2].GetAtomicNum()\n",
    "n=Chem.MolFromSmiles('[H]Oc',sanitize=False)\n",
    "n.GetAtoms()[2].GetIsAromatic()"
   ]
  },
  {
   "cell_type": "code",
   "execution_count": 86,
   "metadata": {
    "ExecuteTime": {
     "end_time": "2021-05-07T04:34:20.168299Z",
     "start_time": "2021-05-07T04:34:20.139726Z"
    }
   },
   "outputs": [
    {
     "data": {
      "text/plain": [
       "0"
      ]
     },
     "execution_count": 86,
     "metadata": {},
     "output_type": "execute_result"
    },
    {
     "data": {
      "text/plain": [
       "0"
      ]
     },
     "execution_count": 86,
     "metadata": {},
     "output_type": "execute_result"
    },
    {
     "data": {
      "image/png": "[encoded data removed]",
      "text/plain": [
       "<rdkit.Chem.rdchem.Mol at 0x7f5d18264a00>"
      ]
     },
     "execution_count": 86,
     "metadata": {},
     "output_type": "execute_result"
    }
   ],
   "source": [
    "n.GetAtoms()[0].GetIdx()\n",
    "m.GetAtoms()[0].GetIdx()\n",
    "m.GetAtoms()[2].SetProp(\"_displayLabel\",\"C<sub>ar</sub>\")\n",
    "# mol.GetAtomWithIdx(3).SetProp(\"_displayLabel\",\"R<sub>1</sub>\")\n",
    "m"
   ]
  },
  {
   "cell_type": "code",
   "execution_count": 77,
   "metadata": {
    "ExecuteTime": {
     "end_time": "2021-05-07T04:17:57.955028Z",
     "start_time": "2021-05-07T04:17:57.929546Z"
    }
   },
   "outputs": [
    {
     "data": {
      "image/png": "[encoded data removed]",
      "text/plain": [
       "<rdkit.Chem.rdchem.Mol at 0x7f5d17b4a940>"
      ]
     },
     "execution_count": 77,
     "metadata": {},
     "output_type": "execute_result"
    },
    {
     "data": {
      "text/plain": [
       "<rdkit.Chem.rdAbbreviations._vectN5RDKit13Abbreviations22AbbreviationDefinitionE at 0x7f5d17b44ac0>"
      ]
     },
     "execution_count": 77,
     "metadata": {},
     "output_type": "execute_result"
    }
   ],
   "source": [
    "from rdkit.Chem import rdAbbreviations\n",
    "abbrevs = rdAbbreviations.GetDefaultAbbreviations()\n",
    "nm = rdAbbreviations.CondenseMolAbbreviations(m,abbrevs)\n",
    "nm\n",
    "abbrevs"
   ]
  },
  {
   "cell_type": "code",
   "execution_count": 47,
   "metadata": {
    "ExecuteTime": {
     "end_time": "2021-05-06T18:42:04.375819Z",
     "start_time": "2021-05-06T18:42:04.365127Z"
    }
   },
   "outputs": [
    {
     "data": {
      "text/plain": [
       "1"
      ]
     },
     "execution_count": 47,
     "metadata": {},
     "output_type": "execute_result"
    }
   ],
   "source": [
    "Chem.Fragments.fr_Ar_OH(Chem.AddHs(Chem.MolFromSmiles('CC(=O)NC1=CC=C(C=C1)O')))"
   ]
  },
  {
   "cell_type": "code",
   "execution_count": 124,
   "metadata": {
    "ExecuteTime": {
     "end_time": "2021-05-06T14:39:50.195208Z",
     "start_time": "2021-05-06T14:39:43.635009Z"
    }
   },
   "outputs": [
    {
     "data": {
      "text/html": [
       "<div>\n",
       "<style scoped>\n",
       "    .dataframe tbody tr th:only-of-type {\n",
       "        vertical-align: middle;\n",
       "    }\n",
       "\n",
       "    .dataframe tbody tr th {\n",
       "        vertical-align: top;\n",
       "    }\n",
       "\n",
       "    .dataframe thead th {\n",
       "        text-align: right;\n",
       "    }\n",
       "</style>\n",
       "<table border=\"1\" class=\"dataframe\">\n",
       "  <thead>\n",
       "    <tr style=\"text-align: right;\">\n",
       "      <th></th>\n",
       "      <th>SubstanceID</th>\n",
       "      <th>FragmentSmiles</th>\n",
       "      <th>count</th>\n",
       "    </tr>\n",
       "  </thead>\n",
       "  <tbody>\n",
       "    <tr>\n",
       "      <th>153</th>\n",
       "      <td>28349593</td>\n",
       "      <td>COC(=O)N(C)C</td>\n",
       "      <td>1</td>\n",
       "    </tr>\n",
       "    <tr>\n",
       "      <th>385</th>\n",
       "      <td>13263142</td>\n",
       "      <td>COC(=O)N(C)C</td>\n",
       "      <td>1</td>\n",
       "    </tr>\n",
       "    <tr>\n",
       "      <th>452</th>\n",
       "      <td>19189832</td>\n",
       "      <td>COC(=O)N(C)C</td>\n",
       "      <td>1</td>\n",
       "    </tr>\n",
       "    <tr>\n",
       "      <th>515</th>\n",
       "      <td>21333123</td>\n",
       "      <td>COC(=O)N(C)C</td>\n",
       "      <td>1</td>\n",
       "    </tr>\n",
       "    <tr>\n",
       "      <th>791</th>\n",
       "      <td>9808753</td>\n",
       "      <td>COC(=O)N(C)C</td>\n",
       "      <td>1</td>\n",
       "    </tr>\n",
       "    <tr>\n",
       "      <th>...</th>\n",
       "      <td>...</td>\n",
       "      <td>...</td>\n",
       "      <td>...</td>\n",
       "    </tr>\n",
       "    <tr>\n",
       "      <th>50180454</th>\n",
       "      <td>14525820</td>\n",
       "      <td>COC(=O)N(C)C</td>\n",
       "      <td>1</td>\n",
       "    </tr>\n",
       "    <tr>\n",
       "      <th>50180664</th>\n",
       "      <td>7549637</td>\n",
       "      <td>COC(=O)N(C)C</td>\n",
       "      <td>1</td>\n",
       "    </tr>\n",
       "    <tr>\n",
       "      <th>50180740</th>\n",
       "      <td>10725846</td>\n",
       "      <td>COC(=O)N(C)C</td>\n",
       "      <td>1</td>\n",
       "    </tr>\n",
       "    <tr>\n",
       "      <th>50180793</th>\n",
       "      <td>10784965</td>\n",
       "      <td>COC(=O)N(C)C</td>\n",
       "      <td>1</td>\n",
       "    </tr>\n",
       "    <tr>\n",
       "      <th>50181077</th>\n",
       "      <td>29514296</td>\n",
       "      <td>COC(=O)N(C)C</td>\n",
       "      <td>1</td>\n",
       "    </tr>\n",
       "  </tbody>\n",
       "</table>\n",
       "<p>281355 rows × 3 columns</p>\n",
       "</div>"
      ],
      "text/plain": [
       "          SubstanceID FragmentSmiles  count\n",
       "153          28349593   COC(=O)N(C)C      1\n",
       "385          13263142   COC(=O)N(C)C      1\n",
       "452          19189832   COC(=O)N(C)C      1\n",
       "515          21333123   COC(=O)N(C)C      1\n",
       "791           9808753   COC(=O)N(C)C      1\n",
       "...               ...            ...    ...\n",
       "50180454     14525820   COC(=O)N(C)C      1\n",
       "50180664      7549637   COC(=O)N(C)C      1\n",
       "50180740     10725846   COC(=O)N(C)C      1\n",
       "50180793     10784965   COC(=O)N(C)C      1\n",
       "50181077     29514296   COC(=O)N(C)C      1\n",
       "\n",
       "[281355 rows x 3 columns]"
      ]
     },
     "execution_count": 124,
     "metadata": {},
     "output_type": "execute_result"
    }
   ],
   "source": [
    "temp.loc[temp.FragmentSmiles=='COC(=O)N(C)C']"
   ]
  },
  {
   "cell_type": "markdown",
   "metadata": {},
   "source": [
    "## Functional group popularity"
   ]
  },
  {
   "cell_type": "code",
   "execution_count": 87,
   "metadata": {
    "ExecuteTime": {
     "end_time": "2021-05-06T12:14:56.662757Z",
     "start_time": "2021-05-06T12:14:19.845528Z"
    }
   },
   "outputs": [
    {
     "name": "stderr",
     "output_type": "stream",
     "text": [
      "SettingWithCopyWarning: \n",
      "A value is trying to be set on a copy of a slice from a DataFrame.\n",
      "Try using .loc[row_indexer,col_indexer] = value instead\n",
      "\n",
      "See the caveats in the documentation: https://pandas.pydata.org/pandas-docs/stable/user_guide/indexing.html#returning-a-view-versus-a-copy\n",
      "SettingWithCopyWarning: \n",
      "A value is trying to be set on a copy of a slice from a DataFrame\n",
      "\n",
      "See the caveats in the documentation: https://pandas.pydata.org/pandas-docs/stable/user_guide/indexing.html#returning-a-view-versus-a-copy\n"
     ]
    },
    {
     "data": {
      "text/html": [
       "<div>\n",
       "<style scoped>\n",
       "    .dataframe tbody tr th:only-of-type {\n",
       "        vertical-align: middle;\n",
       "    }\n",
       "\n",
       "    .dataframe tbody tr th {\n",
       "        vertical-align: top;\n",
       "    }\n",
       "\n",
       "    .dataframe thead th {\n",
       "        text-align: right;\n",
       "    }\n",
       "</style>\n",
       "<table border=\"1\" class=\"dataframe\">\n",
       "  <thead>\n",
       "    <tr style=\"text-align: right;\">\n",
       "      <th></th>\n",
       "      <th>FragmentSmiles</th>\n",
       "      <th>Frequency</th>\n",
       "    </tr>\n",
       "  </thead>\n",
       "  <tbody>\n",
       "    <tr>\n",
       "      <th>0</th>\n",
       "      <td>CF</td>\n",
       "      <td>1034442</td>\n",
       "    </tr>\n",
       "    <tr>\n",
       "      <th>1</th>\n",
       "      <td>CBr</td>\n",
       "      <td>207543</td>\n",
       "    </tr>\n",
       "    <tr>\n",
       "      <th>2</th>\n",
       "      <td>cnc</td>\n",
       "      <td>2820013</td>\n",
       "    </tr>\n",
       "    <tr>\n",
       "      <th>3</th>\n",
       "      <td>cF</td>\n",
       "      <td>864157</td>\n",
       "    </tr>\n",
       "    <tr>\n",
       "      <th>4</th>\n",
       "      <td>[H]C1([H])OccO1</td>\n",
       "      <td>95034</td>\n",
       "    </tr>\n",
       "    <tr>\n",
       "      <th>...</th>\n",
       "      <td>...</td>\n",
       "      <td>...</td>\n",
       "    </tr>\n",
       "    <tr>\n",
       "      <th>50180462</th>\n",
       "      <td>[H]C(=C([H])C1=C([H])C([H])=C([H])C1=P(c)(c)c)...</td>\n",
       "      <td>1</td>\n",
       "    </tr>\n",
       "    <tr>\n",
       "      <th>50180467</th>\n",
       "      <td>[H]N(C)C(=O)O/N=C1/CN(C)C(C)(C)N1[H]</td>\n",
       "      <td>1</td>\n",
       "    </tr>\n",
       "    <tr>\n",
       "      <th>50180509</th>\n",
       "      <td>[H]C([H])=C([S@@](c)=O)[S@](c)=O</td>\n",
       "      <td>1</td>\n",
       "    </tr>\n",
       "    <tr>\n",
       "      <th>50180824</th>\n",
       "      <td>C/C1=C(\\[Sn](C)(C)C)[Si](C)(C)C2[Si](C)(C)/C([...</td>\n",
       "      <td>1</td>\n",
       "    </tr>\n",
       "    <tr>\n",
       "      <th>50180867</th>\n",
       "      <td>[H]O/N=C(\\[H])C1=N/C(=N\\N([H])c)C(C)=C1C</td>\n",
       "      <td>1</td>\n",
       "    </tr>\n",
       "  </tbody>\n",
       "</table>\n",
       "<p>573153 rows × 2 columns</p>\n",
       "</div>"
      ],
      "text/plain": [
       "                                             FragmentSmiles  Frequency\n",
       "0                                                        CF    1034442\n",
       "1                                                       CBr     207543\n",
       "2                                                       cnc    2820013\n",
       "3                                                        cF     864157\n",
       "4                                           [H]C1([H])OccO1      95034\n",
       "...                                                     ...        ...\n",
       "50180462  [H]C(=C([H])C1=C([H])C([H])=C([H])C1=P(c)(c)c)...          1\n",
       "50180467               [H]N(C)C(=O)O/N=C1/CN(C)C(C)(C)N1[H]          1\n",
       "50180509                   [H]C([H])=C([S@@](c)=O)[S@](c)=O          1\n",
       "50180824  C/C1=C(\\[Sn](C)(C)C)[Si](C)(C)C2[Si](C)(C)/C([...          1\n",
       "50180867           [H]O/N=C(\\[H])C1=N/C(=N\\N([H])c)C(C)=C1C          1\n",
       "\n",
       "[573153 rows x 2 columns]"
      ]
     },
     "execution_count": 87,
     "metadata": {},
     "output_type": "execute_result"
    }
   ],
   "source": [
    "freq=temp[['SubstanceID','FragmentSmiles']].groupby(['FragmentSmiles'])['SubstanceID'].transform('count')\n",
    "freqtable=temp[['FragmentSmiles']]\n",
    "freqtable['Frequency']=freq\n",
    "freqtable.drop_duplicates(inplace=True)\n",
    "freqtable"
   ]
  },
  {
   "cell_type": "code",
   "execution_count": 98,
   "metadata": {
    "ExecuteTime": {
     "end_time": "2021-05-06T12:50:54.006356Z",
     "start_time": "2021-05-06T12:50:53.975484Z"
    },
    "scrolled": true
   },
   "outputs": [
    {
     "name": "stderr",
     "output_type": "stream",
     "text": [
      "SettingWithCopyWarning: \n",
      "A value is trying to be set on a copy of a slice from a DataFrame.\n",
      "Try using .loc[row_indexer,col_indexer] = value instead\n",
      "\n",
      "See the caveats in the documentation: https://pandas.pydata.org/pandas-docs/stable/user_guide/indexing.html#returning-a-view-versus-a-copy\n"
     ]
    }
   ],
   "source": [
    "# freqtable.set_index('FragmentSmiles',inplace=True)\n",
    "freqtable['Popularity'] = freqtable['Frequency'].div(freqtable['Frequency'].sum(axis=0), axis=0).multiply(100).round()"
   ]
  },
  {
   "cell_type": "code",
   "execution_count": 87,
   "metadata": {
    "ExecuteTime": {
     "end_time": "2021-05-07T04:41:46.119787Z",
     "start_time": "2021-05-07T04:41:46.095483Z"
    }
   },
   "outputs": [
    {
     "data": {
      "image/png": "[encoded data removed]",
      "text/plain": [
       "<rdkit.Chem.rdchem.Mol at 0x7f5d182ef280>"
      ]
     },
     "execution_count": 87,
     "metadata": {},
     "output_type": "execute_result"
    }
   ],
   "source": [
    "Chem.MolFromSmarts(Chem.MolToSmarts(Chem.MolFromSmiles('[H]n(c)c',sanitize=False)))"
   ]
  },
  {
   "cell_type": "code",
   "execution_count": 109,
   "metadata": {
    "ExecuteTime": {
     "end_time": "2021-05-06T14:20:32.262521Z",
     "start_time": "2021-05-06T14:20:32.002225Z"
    }
   },
   "outputs": [
    {
     "data": {
      "text/html": [
       "<div>\n",
       "<style scoped>\n",
       "    .dataframe tbody tr th:only-of-type {\n",
       "        vertical-align: middle;\n",
       "    }\n",
       "\n",
       "    .dataframe tbody tr th {\n",
       "        vertical-align: top;\n",
       "    }\n",
       "\n",
       "    .dataframe thead th {\n",
       "        text-align: right;\n",
       "    }\n",
       "</style>\n",
       "<table border=\"1\" class=\"dataframe\">\n",
       "  <thead>\n",
       "    <tr style=\"text-align: right;\">\n",
       "      <th></th>\n",
       "      <th>Frequency</th>\n",
       "      <th>Popularity</th>\n",
       "    </tr>\n",
       "    <tr>\n",
       "      <th>FragmentSmiles</th>\n",
       "      <th></th>\n",
       "      <th></th>\n",
       "    </tr>\n",
       "  </thead>\n",
       "  <tbody>\n",
       "    <tr>\n",
       "      <th>cnc</th>\n",
       "      <td>2820013</td>\n",
       "      <td>6.0</td>\n",
       "    </tr>\n",
       "    <tr>\n",
       "      <th>cOC</th>\n",
       "      <td>2743793</td>\n",
       "      <td>5.0</td>\n",
       "    </tr>\n",
       "    <tr>\n",
       "      <th>COC(C)=O</th>\n",
       "      <td>1765485</td>\n",
       "      <td>4.0</td>\n",
       "    </tr>\n",
       "    <tr>\n",
       "      <th>[H]OC</th>\n",
       "      <td>2176832</td>\n",
       "      <td>4.0</td>\n",
       "    </tr>\n",
       "    <tr>\n",
       "      <th>cCl</th>\n",
       "      <td>1362946</td>\n",
       "      <td>3.0</td>\n",
       "    </tr>\n",
       "    <tr>\n",
       "      <th>COC</th>\n",
       "      <td>1693827</td>\n",
       "      <td>3.0</td>\n",
       "    </tr>\n",
       "    <tr>\n",
       "      <th>CN(C)C</th>\n",
       "      <td>993693</td>\n",
       "      <td>2.0</td>\n",
       "    </tr>\n",
       "    <tr>\n",
       "      <th>[H]Oc</th>\n",
       "      <td>756164</td>\n",
       "      <td>2.0</td>\n",
       "    </tr>\n",
       "    <tr>\n",
       "      <th>c=O</th>\n",
       "      <td>915341</td>\n",
       "      <td>2.0</td>\n",
       "    </tr>\n",
       "    <tr>\n",
       "      <th>cn(c)C</th>\n",
       "      <td>933230</td>\n",
       "      <td>2.0</td>\n",
       "    </tr>\n",
       "    <tr>\n",
       "      <th>[H]N(C)C(C)=O</th>\n",
       "      <td>783163</td>\n",
       "      <td>2.0</td>\n",
       "    </tr>\n",
       "    <tr>\n",
       "      <th>[H]n(c)c</th>\n",
       "      <td>789959</td>\n",
       "      <td>2.0</td>\n",
       "    </tr>\n",
       "    <tr>\n",
       "      <th>CF</th>\n",
       "      <td>1034442</td>\n",
       "      <td>2.0</td>\n",
       "    </tr>\n",
       "    <tr>\n",
       "      <th>cF</th>\n",
       "      <td>864157</td>\n",
       "      <td>2.0</td>\n",
       "    </tr>\n",
       "    <tr>\n",
       "      <th>[H]O[H]</th>\n",
       "      <td>280318</td>\n",
       "      <td>1.0</td>\n",
       "    </tr>\n",
       "    <tr>\n",
       "      <th>[H]N(c)C(C)=O</th>\n",
       "      <td>349740</td>\n",
       "      <td>1.0</td>\n",
       "    </tr>\n",
       "    <tr>\n",
       "      <th>cBr</th>\n",
       "      <td>616336</td>\n",
       "      <td>1.0</td>\n",
       "    </tr>\n",
       "    <tr>\n",
       "      <th>CCl</th>\n",
       "      <td>336597</td>\n",
       "      <td>1.0</td>\n",
       "    </tr>\n",
       "    <tr>\n",
       "      <th>[H]N([H])C</th>\n",
       "      <td>444994</td>\n",
       "      <td>1.0</td>\n",
       "    </tr>\n",
       "    <tr>\n",
       "      <th>[H]Cl</th>\n",
       "      <td>254627</td>\n",
       "      <td>1.0</td>\n",
       "    </tr>\n",
       "    <tr>\n",
       "      <th>CC(C)=O</th>\n",
       "      <td>560338</td>\n",
       "      <td>1.0</td>\n",
       "    </tr>\n",
       "    <tr>\n",
       "      <th>cSC</th>\n",
       "      <td>288614</td>\n",
       "      <td>1.0</td>\n",
       "    </tr>\n",
       "    <tr>\n",
       "      <th>[H]OC(C)=O</th>\n",
       "      <td>663587</td>\n",
       "      <td>1.0</td>\n",
       "    </tr>\n",
       "    <tr>\n",
       "      <th>CC(=O)N(C)C</th>\n",
       "      <td>252191</td>\n",
       "      <td>1.0</td>\n",
       "    </tr>\n",
       "    <tr>\n",
       "      <th>[H]N(c)C</th>\n",
       "      <td>432051</td>\n",
       "      <td>1.0</td>\n",
       "    </tr>\n",
       "    <tr>\n",
       "      <th>cC#N</th>\n",
       "      <td>293726</td>\n",
       "      <td>1.0</td>\n",
       "    </tr>\n",
       "    <tr>\n",
       "      <th>[H]N(C)C(c)=O</th>\n",
       "      <td>331213</td>\n",
       "      <td>1.0</td>\n",
       "    </tr>\n",
       "    <tr>\n",
       "      <th>[H]C([H])=C([H])C</th>\n",
       "      <td>458134</td>\n",
       "      <td>1.0</td>\n",
       "    </tr>\n",
       "    <tr>\n",
       "      <th>CC(=O)OC</th>\n",
       "      <td>435087</td>\n",
       "      <td>1.0</td>\n",
       "    </tr>\n",
       "    <tr>\n",
       "      <th>COC(=O)N(C)C</th>\n",
       "      <td>281355</td>\n",
       "      <td>1.0</td>\n",
       "    </tr>\n",
       "    <tr>\n",
       "      <th>[H]N(C)C</th>\n",
       "      <td>488125</td>\n",
       "      <td>1.0</td>\n",
       "    </tr>\n",
       "    <tr>\n",
       "      <th>coc</th>\n",
       "      <td>598414</td>\n",
       "      <td>1.0</td>\n",
       "    </tr>\n",
       "    <tr>\n",
       "      <th>c[N+](=O)[O-]</th>\n",
       "      <td>624271</td>\n",
       "      <td>1.0</td>\n",
       "    </tr>\n",
       "    <tr>\n",
       "      <th>cC(=O)OC</th>\n",
       "      <td>693328</td>\n",
       "      <td>1.0</td>\n",
       "    </tr>\n",
       "    <tr>\n",
       "      <th>[H]N([H])c</th>\n",
       "      <td>506835</td>\n",
       "      <td>1.0</td>\n",
       "    </tr>\n",
       "    <tr>\n",
       "      <th>cN(C)C</th>\n",
       "      <td>559314</td>\n",
       "      <td>1.0</td>\n",
       "    </tr>\n",
       "    <tr>\n",
       "      <th>csc</th>\n",
       "      <td>729693</td>\n",
       "      <td>1.0</td>\n",
       "    </tr>\n",
       "    <tr>\n",
       "      <th>cC(C)=O</th>\n",
       "      <td>473975</td>\n",
       "      <td>1.0</td>\n",
       "    </tr>\n",
       "    <tr>\n",
       "      <th>[H]N(C)C(=O)OC</th>\n",
       "      <td>463462</td>\n",
       "      <td>1.0</td>\n",
       "    </tr>\n",
       "    <tr>\n",
       "      <th>cC(=O)C(C)(S(C)=O)S(c)(=O)=O</th>\n",
       "      <td>1</td>\n",
       "      <td>0.0</td>\n",
       "    </tr>\n",
       "    <tr>\n",
       "      <th>[H]C([H])=C1CC(c)=NN1C(c)=O</th>\n",
       "      <td>1</td>\n",
       "      <td>0.0</td>\n",
       "    </tr>\n",
       "    <tr>\n",
       "      <th>[H]S[Mo](=O)(=O)S[H]</th>\n",
       "      <td>1</td>\n",
       "      <td>0.0</td>\n",
       "    </tr>\n",
       "    <tr>\n",
       "      <th>[H]/C(SC)=C(/C(=O)OC)N([H])[H]</th>\n",
       "      <td>1</td>\n",
       "      <td>0.0</td>\n",
       "    </tr>\n",
       "    <tr>\n",
       "      <th>[H]C(=O)/C([H])=C(\\[H])SC(c)=O</th>\n",
       "      <td>1</td>\n",
       "      <td>0.0</td>\n",
       "    </tr>\n",
       "    <tr>\n",
       "      <th>[H]C1=C(OS(c)(=O)=O)CN(C(=O)OC)C([H])=C1[H]</th>\n",
       "      <td>2</td>\n",
       "      <td>0.0</td>\n",
       "    </tr>\n",
       "    <tr>\n",
       "      <th>[H]C1(SC)C(=O)C(=O)N1c</th>\n",
       "      <td>1</td>\n",
       "      <td>0.0</td>\n",
       "    </tr>\n",
       "    <tr>\n",
       "      <th>[H]/C(Cl)=C(/c)B(Cl)Cl</th>\n",
       "      <td>1</td>\n",
       "      <td>0.0</td>\n",
       "    </tr>\n",
       "    <tr>\n",
       "      <th>cC(=C(C)F)C(F)=C(F)[Zn]Br</th>\n",
       "      <td>1</td>\n",
       "      <td>0.0</td>\n",
       "    </tr>\n",
       "    <tr>\n",
       "      <th>[H]/C(C)=C(C)/C(C(C)=O)=C(/[H])N([H])C</th>\n",
       "      <td>2</td>\n",
       "      <td>0.0</td>\n",
       "    </tr>\n",
       "    <tr>\n",
       "      <th>[H]P1P([H])[Si](C)(C)O[Si]1(C)C</th>\n",
       "      <td>1</td>\n",
       "      <td>0.0</td>\n",
       "    </tr>\n",
       "  </tbody>\n",
       "</table>\n",
       "</div>"
      ],
      "text/plain": [
       "                                             Frequency  Popularity\n",
       "FragmentSmiles                                                    \n",
       "cnc                                            2820013         6.0\n",
       "cOC                                            2743793         5.0\n",
       "COC(C)=O                                       1765485         4.0\n",
       "[H]OC                                          2176832         4.0\n",
       "cCl                                            1362946         3.0\n",
       "COC                                            1693827         3.0\n",
       "CN(C)C                                          993693         2.0\n",
       "[H]Oc                                           756164         2.0\n",
       "c=O                                             915341         2.0\n",
       "cn(c)C                                          933230         2.0\n",
       "[H]N(C)C(C)=O                                   783163         2.0\n",
       "[H]n(c)c                                        789959         2.0\n",
       "CF                                             1034442         2.0\n",
       "cF                                              864157         2.0\n",
       "[H]O[H]                                         280318         1.0\n",
       "[H]N(c)C(C)=O                                   349740         1.0\n",
       "cBr                                             616336         1.0\n",
       "CCl                                             336597         1.0\n",
       "[H]N([H])C                                      444994         1.0\n",
       "[H]Cl                                           254627         1.0\n",
       "CC(C)=O                                         560338         1.0\n",
       "cSC                                             288614         1.0\n",
       "[H]OC(C)=O                                      663587         1.0\n",
       "CC(=O)N(C)C                                     252191         1.0\n",
       "[H]N(c)C                                        432051         1.0\n",
       "cC#N                                            293726         1.0\n",
       "[H]N(C)C(c)=O                                   331213         1.0\n",
       "[H]C([H])=C([H])C                               458134         1.0\n",
       "CC(=O)OC                                        435087         1.0\n",
       "COC(=O)N(C)C                                    281355         1.0\n",
       "[H]N(C)C                                        488125         1.0\n",
       "coc                                             598414         1.0\n",
       "c[N+](=O)[O-]                                   624271         1.0\n",
       "cC(=O)OC                                        693328         1.0\n",
       "[H]N([H])c                                      506835         1.0\n",
       "cN(C)C                                          559314         1.0\n",
       "csc                                             729693         1.0\n",
       "cC(C)=O                                         473975         1.0\n",
       "[H]N(C)C(=O)OC                                  463462         1.0\n",
       "cC(=O)C(C)(S(C)=O)S(c)(=O)=O                         1         0.0\n",
       "[H]C([H])=C1CC(c)=NN1C(c)=O                          1         0.0\n",
       "[H]S[Mo](=O)(=O)S[H]                                 1         0.0\n",
       "[H]/C(SC)=C(/C(=O)OC)N([H])[H]                       1         0.0\n",
       "[H]C(=O)/C([H])=C(\\[H])SC(c)=O                       1         0.0\n",
       "[H]C1=C(OS(c)(=O)=O)CN(C(=O)OC)C([H])=C1[H]          2         0.0\n",
       "[H]C1(SC)C(=O)C(=O)N1c                               1         0.0\n",
       "[H]/C(Cl)=C(/c)B(Cl)Cl                               1         0.0\n",
       "cC(=C(C)F)C(F)=C(F)[Zn]Br                            1         0.0\n",
       "[H]/C(C)=C(C)/C(C(C)=O)=C(/[H])N([H])C               2         0.0\n",
       "[H]P1P([H])[Si](C)(C)O[Si]1(C)C                      1         0.0"
      ]
     },
     "execution_count": 109,
     "metadata": {},
     "output_type": "execute_result"
    }
   ],
   "source": [
    "freqtable.sort_values(by=['Popularity'],ascending=False)[:50]\n",
    "# freqtable.loc[freqtable.Frequency>=100].sort_values(by=['Popularity'],ascending=False)"
   ]
  },
  {
   "cell_type": "code",
   "execution_count": 103,
   "metadata": {
    "ExecuteTime": {
     "end_time": "2021-05-06T12:57:31.062399Z",
     "start_time": "2021-05-06T12:57:30.322604Z"
    }
   },
   "outputs": [],
   "source": [
    "freqtable.to_pickle('/home/aa2133/Impurity-Project/Reaxys_Data/fragfreq.pickle')"
   ]
  },
  {
   "cell_type": "code",
   "execution_count": 15,
   "metadata": {
    "ExecuteTime": {
     "end_time": "2021-05-07T06:34:52.717653Z",
     "start_time": "2021-05-07T06:34:43.813751Z"
    }
   },
   "outputs": [],
   "source": [
    "temp.reset_index(inplace=True)\n",
    "temp.drop(columns=['index'],inplace=True)"
   ]
  },
  {
   "cell_type": "code",
   "execution_count": 21,
   "metadata": {
    "ExecuteTime": {
     "end_time": "2021-05-07T06:38:34.528524Z",
     "start_time": "2021-05-07T06:38:33.492835Z"
    }
   },
   "outputs": [],
   "source": [
    "temp.set_index('SubstanceID',inplace=True)"
   ]
  },
  {
   "cell_type": "code",
   "execution_count": 29,
   "metadata": {
    "ExecuteTime": {
     "end_time": "2021-05-07T06:45:14.133998Z",
     "start_time": "2021-05-07T06:44:47.314463Z"
    }
   },
   "outputs": [],
   "source": [
    "temp['Smiles']=substancedb.loc[substancedb.index.isin(temp.index)]['Smiles']\n",
    "temp['>1 Compound']=substancedb.loc[substancedb.index.isin(temp.index)]['>1 Compound']"
   ]
  },
  {
   "cell_type": "code",
   "execution_count": 33,
   "metadata": {
    "ExecuteTime": {
     "end_time": "2021-05-07T07:48:57.048682Z",
     "start_time": "2021-05-07T07:48:57.036505Z"
    }
   },
   "outputs": [
    {
     "data": {
      "text/plain": [
       "FragmentSmiles     string\n",
       "count               Int64\n",
       "Smiles             string\n",
       ">1 Compound       boolean\n",
       "dtype: object"
      ]
     },
     "execution_count": 33,
     "metadata": {},
     "output_type": "execute_result"
    }
   ],
   "source": [
    "temp.dtypes"
   ]
  },
  {
   "cell_type": "code",
   "execution_count": 38,
   "metadata": {
    "ExecuteTime": {
     "end_time": "2021-05-07T07:53:50.529635Z",
     "start_time": "2021-05-07T07:53:49.550188Z"
    }
   },
   "outputs": [],
   "source": [
    "temp.reset_index(inplace=True)"
   ]
  },
  {
   "cell_type": "code",
   "execution_count": 32,
   "metadata": {
    "ExecuteTime": {
     "end_time": "2021-05-07T07:48:51.460216Z",
     "start_time": "2021-05-07T07:48:16.805629Z"
    }
   },
   "outputs": [],
   "source": [
    "temp = temp.convert_dtypes()"
   ]
  },
  {
   "cell_type": "code",
   "execution_count": 56,
   "metadata": {
    "ExecuteTime": {
     "end_time": "2021-05-07T08:16:50.675963Z",
     "start_time": "2021-05-07T08:16:35.328569Z"
    }
   },
   "outputs": [
    {
     "data": {
      "text/plain": [
       "Index                    128\n",
       "SubstanceID        401449520\n",
       "FragmentSmiles    3308625317\n",
       "count              451630710\n",
       "Smiles            5967059055\n",
       ">1 Compound        100362380\n",
       "dtype: int64"
      ]
     },
     "execution_count": 56,
     "metadata": {},
     "output_type": "execute_result"
    }
   ],
   "source": [
    "temp.memory_usage(deep=True)"
   ]
  },
  {
   "cell_type": "code",
   "execution_count": 40,
   "metadata": {
    "ExecuteTime": {
     "end_time": "2021-05-07T08:02:53.668703Z",
     "start_time": "2021-05-07T07:54:04.775604Z"
    }
   },
   "outputs": [
    {
     "name": "stderr",
     "output_type": "stream",
     "text": [
      "UserWarning: The spaces in these column names will not be changed. In pandas versions < 0.14, spaces were converted to underscores.\n"
     ]
    }
   ],
   "source": [
    "temp.to_sql(\"FragmentDB1\",db,if_exists=\"replace\")"
   ]
  },
  {
   "cell_type": "code",
   "execution_count": 41,
   "metadata": {
    "ExecuteTime": {
     "end_time": "2021-05-07T08:04:31.911230Z",
     "start_time": "2021-05-07T08:02:53.671653Z"
    }
   },
   "outputs": [
    {
     "data": {
      "text/plain": [
       "<sqlite3.Cursor at 0x7f031ef79c70>"
      ]
     },
     "execution_count": 41,
     "metadata": {},
     "output_type": "execute_result"
    },
    {
     "data": {
      "text/plain": [
       "<sqlite3.Cursor at 0x7f031ef79c70>"
      ]
     },
     "execution_count": 41,
     "metadata": {},
     "output_type": "execute_result"
    }
   ],
   "source": [
    "cursor.execute('''CREATE INDEX Idx6 ON FragmentDB1(FragmentSmiles);''')\n",
    "cursor.execute('''CREATE INDEX Idx7 ON FragmentDB1(SubstanceID);''')"
   ]
  },
  {
   "cell_type": "code",
   "execution_count": 54,
   "metadata": {
    "ExecuteTime": {
     "end_time": "2021-05-07T08:15:24.017465Z",
     "start_time": "2021-05-07T08:15:13.794286Z"
    }
   },
   "outputs": [
    {
     "data": {
      "text/html": [
       "<div>\n",
       "<style scoped>\n",
       "    .dataframe tbody tr th:only-of-type {\n",
       "        vertical-align: middle;\n",
       "    }\n",
       "\n",
       "    .dataframe tbody tr th {\n",
       "        vertical-align: top;\n",
       "    }\n",
       "\n",
       "    .dataframe thead th {\n",
       "        text-align: right;\n",
       "    }\n",
       "</style>\n",
       "<table border=\"1\" class=\"dataframe\">\n",
       "  <thead>\n",
       "    <tr style=\"text-align: right;\">\n",
       "      <th></th>\n",
       "      <th>SubstanceID</th>\n",
       "      <th>Smiles</th>\n",
       "      <th>&gt;1 Compound</th>\n",
       "    </tr>\n",
       "  </thead>\n",
       "  <tbody>\n",
       "    <tr>\n",
       "      <th>0</th>\n",
       "      <td>27615522</td>\n",
       "      <td>Cc1cc(-c2nc3cc(F)ccc3c3cc4c(cc23)OCO4)ccc1F</td>\n",
       "      <td>0</td>\n",
       "    </tr>\n",
       "    <tr>\n",
       "      <th>1</th>\n",
       "      <td>9019791</td>\n",
       "      <td>CCCCOc1ccc(-c2nc(-c3ccc(Cl)cc3)[nH]c2-c2ccncc2...</td>\n",
       "      <td>0</td>\n",
       "    </tr>\n",
       "    <tr>\n",
       "      <th>2</th>\n",
       "      <td>11185773</td>\n",
       "      <td>Cc1ccccc1CCCCCCC(=O)c1ncc(-c2ccccn2)o1</td>\n",
       "      <td>0</td>\n",
       "    </tr>\n",
       "    <tr>\n",
       "      <th>3</th>\n",
       "      <td>6156831</td>\n",
       "      <td>CCOC(=O)c1c(-c2cccc([N+](=O)[O-])c2)cc(-c2cccc...</td>\n",
       "      <td>0</td>\n",
       "    </tr>\n",
       "    <tr>\n",
       "      <th>4</th>\n",
       "      <td>11095222</td>\n",
       "      <td>CC(C)[Si](Cc1cc(-c2ccccc2)nc2ccc(Cl)cc12)(C(C)...</td>\n",
       "      <td>0</td>\n",
       "    </tr>\n",
       "    <tr>\n",
       "      <th>...</th>\n",
       "      <td>...</td>\n",
       "      <td>...</td>\n",
       "      <td>...</td>\n",
       "    </tr>\n",
       "    <tr>\n",
       "      <th>2820008</th>\n",
       "      <td>15730941</td>\n",
       "      <td>CCOP(=O)(COCCCONc1nc(NC=O)nc(Cl)c1NC=O)OCC</td>\n",
       "      <td>0</td>\n",
       "    </tr>\n",
       "    <tr>\n",
       "      <th>2820009</th>\n",
       "      <td>18091249</td>\n",
       "      <td>Cc1ccncc1.O=C([O-])C(Cl)(Cl)Cl.[Mn+2]</td>\n",
       "      <td>1</td>\n",
       "    </tr>\n",
       "    <tr>\n",
       "      <th>2820010</th>\n",
       "      <td>24073116</td>\n",
       "      <td>COc1cc(C)nc(N=CN(C)C)n1</td>\n",
       "      <td>0</td>\n",
       "    </tr>\n",
       "    <tr>\n",
       "      <th>2820011</th>\n",
       "      <td>30477344</td>\n",
       "      <td>Cn1ccc2ccc(B(O)O)nc21</td>\n",
       "      <td>0</td>\n",
       "    </tr>\n",
       "    <tr>\n",
       "      <th>2820012</th>\n",
       "      <td>19632868</td>\n",
       "      <td>COc1cc(F)c(-c2c(Cl)nc(C)n2-c2ccc(C)cc2)c(F)c1</td>\n",
       "      <td>0</td>\n",
       "    </tr>\n",
       "  </tbody>\n",
       "</table>\n",
       "<p>2820013 rows × 3 columns</p>\n",
       "</div>"
      ],
      "text/plain": [
       "         SubstanceID                                             Smiles  \\\n",
       "0           27615522        Cc1cc(-c2nc3cc(F)ccc3c3cc4c(cc23)OCO4)ccc1F   \n",
       "1            9019791  CCCCOc1ccc(-c2nc(-c3ccc(Cl)cc3)[nH]c2-c2ccncc2...   \n",
       "2           11185773             Cc1ccccc1CCCCCCC(=O)c1ncc(-c2ccccn2)o1   \n",
       "3            6156831  CCOC(=O)c1c(-c2cccc([N+](=O)[O-])c2)cc(-c2cccc...   \n",
       "4           11095222  CC(C)[Si](Cc1cc(-c2ccccc2)nc2ccc(Cl)cc12)(C(C)...   \n",
       "...              ...                                                ...   \n",
       "2820008     15730941         CCOP(=O)(COCCCONc1nc(NC=O)nc(Cl)c1NC=O)OCC   \n",
       "2820009     18091249              Cc1ccncc1.O=C([O-])C(Cl)(Cl)Cl.[Mn+2]   \n",
       "2820010     24073116                            COc1cc(C)nc(N=CN(C)C)n1   \n",
       "2820011     30477344                              Cn1ccc2ccc(B(O)O)nc21   \n",
       "2820012     19632868      COc1cc(F)c(-c2c(Cl)nc(C)n2-c2ccc(C)cc2)c(F)c1   \n",
       "\n",
       "         >1 Compound  \n",
       "0                  0  \n",
       "1                  0  \n",
       "2                  0  \n",
       "3                  0  \n",
       "4                  0  \n",
       "...              ...  \n",
       "2820008            0  \n",
       "2820009            1  \n",
       "2820010            0  \n",
       "2820011            0  \n",
       "2820012            0  \n",
       "\n",
       "[2820013 rows x 3 columns]"
      ]
     },
     "execution_count": 54,
     "metadata": {},
     "output_type": "execute_result"
    }
   ],
   "source": [
    "pd.read_sql_query('''SELECT SubstanceID,Smiles,\">1 Compound\" from FragmentDB1 Where FragmentSmiles=\"cnc\";''',db)\n",
    "# pd.read_sql_query('''SELECT * from FragmentDB1 Where FragmentSmiles=\"[H]N(C)C(=O)OC\";''',db)"
   ]
  },
  {
   "cell_type": "code",
   "execution_count": 52,
   "metadata": {
    "ExecuteTime": {
     "end_time": "2021-05-07T08:14:53.105515Z",
     "start_time": "2021-05-07T08:14:53.096450Z"
    }
   },
   "outputs": [
    {
     "data": {
      "text/plain": [
       "<sqlite3.Cursor at 0x7f0449854e30>"
      ]
     },
     "execution_count": 52,
     "metadata": {},
     "output_type": "execute_result"
    }
   ],
   "source": [
    "# cursor.execute('''EXPLAIN QUERY PLAN SELECT FragmentDB1.SubstanceID,FragmentDB1.FragmentSmiles,FragmentDB1.count,SubstanceDB.Smiles,SubstanceDB.\">1 Compound\" from FragmentDB1\n",
    "#                     INNER JOIN SubstanceDB ON FragmentDB1.SubstanceID=SubstanceDB.SubstanceID WHERE FragmentDB1.FragmentSmiles=\"CF\";''')\n",
    "\n",
    "cursor.execute('''EXPLAIN QUERY PLAN SELECT SubstanceID,Smiles,\">1 Compound\" from FragmentDB1 Where FragmentSmiles=\"CF\";''')"
   ]
  },
  {
   "cell_type": "code",
   "execution_count": 53,
   "metadata": {
    "ExecuteTime": {
     "end_time": "2021-05-07T08:14:55.151955Z",
     "start_time": "2021-05-07T08:14:55.145495Z"
    }
   },
   "outputs": [
    {
     "name": "stdout",
     "output_type": "stream",
     "text": [
      "[(3, 0, 0, 'SEARCH TABLE FragmentDB1 USING INDEX Idx6 (FragmentSmiles=?)')]\n"
     ]
    }
   ],
   "source": [
    "print(cursor.fetchall())"
   ]
  },
  {
   "cell_type": "markdown",
   "metadata": {},
   "source": [
    "## Reaction database modification"
   ]
  },
  {
   "cell_type": "code",
   "execution_count": 3,
   "metadata": {
    "ExecuteTime": {
     "end_time": "2021-06-16T13:07:22.086149Z",
     "start_time": "2021-06-16T13:07:21.843381Z"
    }
   },
   "outputs": [],
   "source": [
    "import pandas as pd"
   ]
  },
  {
   "cell_type": "code",
   "execution_count": null,
   "metadata": {},
   "outputs": [],
   "source": [
    "rxndb=pd.read_sql_query('''SELECT ReactionID,NumRefs,ReactantID,ProductID,NumSteps,ReagentID,Temperature,Pressure,ResidenceTime,SolventID,CatalystID,ReactionType from ReactionDB''',db)"
   ]
  },
  {
   "cell_type": "code",
   "execution_count": null,
   "metadata": {},
   "outputs": [],
   "source": [
    "rxndb['NumRefs']=rxndb['NumRefs'].apply(lambda x:int(x))\n",
    "rxndb['ReactantID']=rxndb['ReactantID'].apply(lambda x:list(map(int,x.split(','))) if x else [])\n",
    "rxndb['ProductID']=rxndb['ProductID'].apply(lambda x:list(map(int,x.split(','))) if x else [])\n",
    "rxndb['NumSteps']=rxndb['NumSteps'].apply(lambda x:list(map(int,x.split(','))) if x else [])\n",
    "rxndb['ReagentID']=rxndb['ReagentID'].apply(lambda x:list(map(int,x.split(','))) if x else [])\n",
    "rxndb['SolventID']=rxndb['SolventID'].apply(lambda x:list(map(int,x.split(','))) if x else [])\n",
    "rxndb['CatalystID']=rxndb['CatalystID'].apply(lambda x:list(map(int,x.split(','))) if x else [])"
   ]
  },
  {
   "cell_type": "code",
   "execution_count": null,
   "metadata": {},
   "outputs": [],
   "source": [
    "def parsetemp(row):\n",
    "    temp=row['Temperature']\n",
    "    if temp:\n",
    "        tempsplit=temp.strip().split(',')\n",
    "        tempfinal=[]\n",
    "        for elem in tempsplit:\n",
    "            elem=elem.strip()\n",
    "            if elem[0]=='-':\n",
    "                templocal=elem[1:].split('-',1)\n",
    "                templocal[0]='-'+templocal[0]\n",
    "                tempfinal+=templocal\n",
    "            else:\n",
    "                tempfinal+=elem.split('-',1)\n",
    "    else:\n",
    "        tempfinal=[]\n",
    "    return [float(elem) for elem in tempfinal]\n",
    "def parsepressure(row):\n",
    "    pressure=row['Pressure']\n",
    "    errors=[]\n",
    "    if pressure:\n",
    "        try:\n",
    "            pp=list(map(float,re.split(',|-',pressure)))\n",
    "            return True\n",
    "        except Exception:\n",
    "            return False"
   ]
  },
  {
   "cell_type": "code",
   "execution_count": null,
   "metadata": {},
   "outputs": [],
   "source": [
    "rxndbdis=mpd.DataFrame(rxndb)\n",
    "tempcol=rxndbdis.apply(parsetemp,axis=1,result_type='reduce')\n",
    "errors=rxndbdis.apply(parsepressure,axis=1,result_type='reduce')\n"
   ]
  },
  {
   "cell_type": "code",
   "execution_count": null,
   "metadata": {},
   "outputs": [],
   "source": [
    "tempcol=pd.DataFrame(data=tempcol.values,index=tempcol.index)\n",
    "rxndb['Temperature']=tempcol\n",
    "rxndb['Pressure']=rxndb['Pressure'].apply(lambda x:re.split(',|-',x) if x else [])\n",
    "rxndb['ResidenceTime']=rxndb['ResidenceTime'].apply(lambda x:re.split(',|-',x) if x else [])"
   ]
  },
  {
   "cell_type": "code",
   "execution_count": null,
   "metadata": {},
   "outputs": [],
   "source": [
    "errors[errors.values==False].index"
   ]
  },
  {
   "cell_type": "code",
   "execution_count": null,
   "metadata": {},
   "outputs": [],
   "source": [
    "rxndb.set_index(['ReactionID'],inplace=True)"
   ]
  },
  {
   "cell_type": "code",
   "execution_count": 8,
   "metadata": {
    "ExecuteTime": {
     "end_time": "2021-06-16T13:15:44.909327Z",
     "start_time": "2021-06-16T13:14:41.956986Z"
    }
   },
   "outputs": [],
   "source": [
    "pd.to_pickle(rxndb,'/home/aa2133/Impurity-Project/Reaxys_Data/ReactionDB.pickle')"
   ]
  },
  {
   "cell_type": "code",
   "execution_count": 4,
   "metadata": {
    "ExecuteTime": {
     "end_time": "2021-06-16T13:09:07.191323Z",
     "start_time": "2021-06-16T13:07:25.768884Z"
    }
   },
   "outputs": [],
   "source": [
    "rxndb=pd.read_pickle('/home/aa2133/Impurity-Project/Reaxys_Data/ReactionDB.pickle')"
   ]
  },
  {
   "cell_type": "code",
   "execution_count": 6,
   "metadata": {
    "ExecuteTime": {
     "end_time": "2021-06-16T13:14:12.527151Z",
     "start_time": "2021-06-16T13:14:12.523564Z"
    }
   },
   "outputs": [],
   "source": [
    "rxndb\n",
    "rxndb.rename(columns={'ResidenceTime': 'ReactionTime'}, inplace=True)"
   ]
  },
  {
   "cell_type": "markdown",
   "metadata": {},
   "source": [
    "## Substance database modification"
   ]
  },
  {
   "cell_type": "code",
   "execution_count": null,
   "metadata": {},
   "outputs": [],
   "source": [
    "substancedb=pd.read_sql_query('''SELECT SubstanceID,Smiles,\">1 Compound\" from SubstanceDB''',db)\n",
    "substancedb.dtypes\n",
    "substancedb['>1 Compound']=substancedb['>1 Compound'].apply(lambda x:True if x=='1' else False)\n",
    "substancedb.set_index(['SubstanceID'],inplace=True)\n",
    "pd.to_pickle(substancedb,'/home/aa2133/Impurity-Project/Reaxys_Data/SubstanceSmiles.pickle')"
   ]
  },
  {
   "cell_type": "code",
   "execution_count": 14,
   "metadata": {
    "ExecuteTime": {
     "end_time": "2021-06-09T16:58:52.138540Z",
     "start_time": "2021-06-09T16:58:49.618320Z"
    }
   },
   "outputs": [
    {
     "data": {
      "text/html": [
       "<div>\n",
       "<style scoped>\n",
       "    .dataframe tbody tr th:only-of-type {\n",
       "        vertical-align: middle;\n",
       "    }\n",
       "\n",
       "    .dataframe tbody tr th {\n",
       "        vertical-align: top;\n",
       "    }\n",
       "\n",
       "    .dataframe thead th {\n",
       "        text-align: right;\n",
       "    }\n",
       "</style>\n",
       "<table border=\"1\" class=\"dataframe\">\n",
       "  <thead>\n",
       "    <tr style=\"text-align: right;\">\n",
       "      <th></th>\n",
       "      <th>Smiles</th>\n",
       "      <th>MolFileAddress</th>\n",
       "      <th>Error</th>\n",
       "      <th>&gt;1 Compound</th>\n",
       "    </tr>\n",
       "    <tr>\n",
       "      <th>SubstanceID</th>\n",
       "      <th></th>\n",
       "      <th></th>\n",
       "      <th></th>\n",
       "      <th></th>\n",
       "    </tr>\n",
       "  </thead>\n",
       "  <tbody>\n",
       "    <tr>\n",
       "      <th>17039903</th>\n",
       "      <td>Error</td>\n",
       "      <td>/home/projects/graph/data/batch_6500000/17039903</td>\n",
       "      <td>Valence error</td>\n",
       "      <td>Error</td>\n",
       "    </tr>\n",
       "    <tr>\n",
       "      <th>27714712</th>\n",
       "      <td>Error</td>\n",
       "      <td>/home/projects/graph/data/batch_6500000/27714712</td>\n",
       "      <td>Valence error</td>\n",
       "      <td>Error</td>\n",
       "    </tr>\n",
       "    <tr>\n",
       "      <th>17632674</th>\n",
       "      <td>Error</td>\n",
       "      <td>/home/projects/graph/data/batch_6500000/17632674</td>\n",
       "      <td>Valence error</td>\n",
       "      <td>Error</td>\n",
       "    </tr>\n",
       "    <tr>\n",
       "      <th>16957119</th>\n",
       "      <td>Error</td>\n",
       "      <td>/home/projects/graph/data/batch_6500000/16957119</td>\n",
       "      <td>Valence error</td>\n",
       "      <td>Error</td>\n",
       "    </tr>\n",
       "    <tr>\n",
       "      <th>17509438</th>\n",
       "      <td>Error</td>\n",
       "      <td>/home/projects/graph/data/batch_6500000/17509438</td>\n",
       "      <td>Valence error</td>\n",
       "      <td>Error</td>\n",
       "    </tr>\n",
       "    <tr>\n",
       "      <th>...</th>\n",
       "      <td>...</td>\n",
       "      <td>...</td>\n",
       "      <td>...</td>\n",
       "      <td>...</td>\n",
       "    </tr>\n",
       "    <tr>\n",
       "      <th>17016447</th>\n",
       "      <td>Error</td>\n",
       "      <td>/home/projects/graph/data/batch_12600000/17016447</td>\n",
       "      <td>Valence error</td>\n",
       "      <td>Error</td>\n",
       "    </tr>\n",
       "    <tr>\n",
       "      <th>6619603</th>\n",
       "      <td>Error</td>\n",
       "      <td>/home/projects/graph/data/batch_12600000/6619603</td>\n",
       "      <td>Valence error</td>\n",
       "      <td>Error</td>\n",
       "    </tr>\n",
       "    <tr>\n",
       "      <th>14242245</th>\n",
       "      <td>Error</td>\n",
       "      <td>/home/projects/graph/data/batch_12600000/14242245</td>\n",
       "      <td>Valence error</td>\n",
       "      <td>Error</td>\n",
       "    </tr>\n",
       "    <tr>\n",
       "      <th>17499025</th>\n",
       "      <td>Error</td>\n",
       "      <td>/home/projects/graph/data/batch_12600000/17499025</td>\n",
       "      <td>Valence error</td>\n",
       "      <td>Error</td>\n",
       "    </tr>\n",
       "    <tr>\n",
       "      <th>21920694</th>\n",
       "      <td>Error</td>\n",
       "      <td>/home/projects/graph/data/batch_12600000/21920694</td>\n",
       "      <td>Valence error</td>\n",
       "      <td>Error</td>\n",
       "    </tr>\n",
       "  </tbody>\n",
       "</table>\n",
       "<p>1281117 rows × 4 columns</p>\n",
       "</div>"
      ],
      "text/plain": [
       "            Smiles                                     MolFileAddress  \\\n",
       "SubstanceID                                                             \n",
       "17039903     Error   /home/projects/graph/data/batch_6500000/17039903   \n",
       "27714712     Error   /home/projects/graph/data/batch_6500000/27714712   \n",
       "17632674     Error   /home/projects/graph/data/batch_6500000/17632674   \n",
       "16957119     Error   /home/projects/graph/data/batch_6500000/16957119   \n",
       "17509438     Error   /home/projects/graph/data/batch_6500000/17509438   \n",
       "...            ...                                                ...   \n",
       "17016447     Error  /home/projects/graph/data/batch_12600000/17016447   \n",
       "6619603      Error   /home/projects/graph/data/batch_12600000/6619603   \n",
       "14242245     Error  /home/projects/graph/data/batch_12600000/14242245   \n",
       "17499025     Error  /home/projects/graph/data/batch_12600000/17499025   \n",
       "21920694     Error  /home/projects/graph/data/batch_12600000/21920694   \n",
       "\n",
       "                     Error >1 Compound  \n",
       "SubstanceID                             \n",
       "17039903     Valence error       Error  \n",
       "27714712     Valence error       Error  \n",
       "17632674     Valence error       Error  \n",
       "16957119     Valence error       Error  \n",
       "17509438     Valence error       Error  \n",
       "...                    ...         ...  \n",
       "17016447     Valence error       Error  \n",
       "6619603      Valence error       Error  \n",
       "14242245     Valence error       Error  \n",
       "17499025     Valence error       Error  \n",
       "21920694     Valence error       Error  \n",
       "\n",
       "[1281117 rows x 4 columns]"
      ]
     },
     "execution_count": 14,
     "metadata": {},
     "output_type": "execute_result"
    }
   ],
   "source": [
    "substancedb.loc[substancedb.Smiles=='Error']"
   ]
  },
  {
   "cell_type": "code",
   "execution_count": null,
   "metadata": {},
   "outputs": [],
   "source": [
    "conds=pd.read_sql_query('''SELECT ReactionID,CatalystID from ReactionDB''',db)\n",
    "rxnids=pd.read_sql_query('''SELECT ReactionID,ReactantID from ReactionDB''',db)\n",
    "rgtids=pd.read_sql_query('''SELECT ReactionID,ReagentID from ReactionDB''',db)\n",
    "substanceids=pd.read_sql_query('''SELECT SubstanceID from SubstanceDB''',db)\n",
    "unresolvedids=pd.read_sql_query('''SELECT SubstanceID from SubstanceDB Where Error!=\"No\"''',db)"
   ]
  },
  {
   "cell_type": "code",
   "execution_count": null,
   "metadata": {},
   "outputs": [],
   "source": [
    "freqtable=copy.deepcopy(substanceids)\n",
    "rxnlist=','.join(rxnids.loc[rxnids.ReactantID.astype(bool)].ReactantID)\n",
    "rgtlist=','.join(rgtids.loc[rgtids.ReagentID.astype(bool)].ReagentID)\n",
    "catlist=','.join(conds.loc[conds.CatalystID.astype(bool)].CatalystID)\n",
    "freqtable=freqtable.merge(pd.DataFrame(data=Counter([int(ID) for ID in rxnlist.split(',')]).most_common(),columns=['SubstanceID','RctFreq']),on=['SubstanceID'],how='outer')\n",
    "freqtable=freqtable.merge(pd.DataFrame(data=Counter([int(ID) for ID in rgtlist.split(',')]).most_common(),columns=['SubstanceID','RgtFreq']),on=['SubstanceID'],how='outer')\n",
    "freqtable=freqtable.merge(pd.DataFrame(data=Counter([int(ID) for ID in catlist.split(',')]).most_common(),columns=['SubstanceID','CatFreq']),on=['SubstanceID'],how='outer')\n",
    "\n",
    "freqtable['RctFreq']=freqtable['RctFreq'].fillna(0)\n",
    "freqtable['RgtFreq']=freqtable['RgtFreq'].fillna(0)\n",
    "freqtable['CatFreq']=freqtable['CatFreq'].fillna(0)\n",
    "# bb=pd.DataFrame([('a',2),('b',6)],columns=['lol','lol2'])\n",
    "# bb\n",
    "# cc=pd.DataFrame([('a',6),('c',7)],columns=['lol','lol3'])\n",
    "# bb=bb.merge(cc,on=['lol'],how='left')\n",
    "# bb['lol3']=bb['lol3'].fillna(0)\n",
    "# bb"
   ]
  },
  {
   "cell_type": "code",
   "execution_count": null,
   "metadata": {},
   "outputs": [],
   "source": [
    "freqtable.loc[freqtable.SubstanceID==1722526]"
   ]
  },
  {
   "cell_type": "code",
   "execution_count": null,
   "metadata": {},
   "outputs": [],
   "source": [
    "freqtable['PCat']=freqtable['CatFreq'].div(freqtable[['RgtFreq','CatFreq']].sum(axis=1),axis=0).round(2)\n",
    "freqtable['PCat']=freqtable['PCat'].fillna(0)"
   ]
  },
  {
   "cell_type": "code",
   "execution_count": null,
   "metadata": {},
   "outputs": [],
   "source": [
    "pd.to_pickle(freqtable,'/home/aa2133/Impurity-Project/Reaxys_Data/SubstanceFreq.pickle')"
   ]
  },
  {
   "cell_type": "code",
   "execution_count": null,
   "metadata": {},
   "outputs": [],
   "source": [
    "PotCatList=list(freqtable.loc[freqtable.PCat>0.05].SubstanceID)\n",
    "writepickle(PotCatList,'/home/aa2133/Impurity-Project/Reaxys_Data/','PotCatList')"
   ]
  },
  {
   "cell_type": "code",
   "execution_count": null,
   "metadata": {},
   "outputs": [],
   "source": [
    "unresolvedids=set(unresolvedids.SubstanceID).union(set(freqtable.SubstanceID)-set(substanceids.SubstanceID))\n",
    "writepickle(unresolvedids,'/home/aa2133/Impurity-Project/Reaxys_Data/','UnresolvedIDs')"
   ]
  },
  {
   "cell_type": "markdown",
   "metadata": {},
   "source": [
    "## Sandbox"
   ]
  },
  {
   "cell_type": "code",
   "execution_count": null,
   "metadata": {
    "ExecuteTime": {
     "end_time": "2021-05-06T05:36:06.562445Z",
     "start_time": "2021-05-06T05:36:05.244647Z"
    }
   },
   "outputs": [],
   "source": [
    "getCarrierFrags0('COc1ccc2cccc(CC#N)c2c1',resFormat='smiles')"
   ]
  },
  {
   "cell_type": "code",
   "execution_count": null,
   "metadata": {
    "ExecuteTime": {
     "end_time": "2021-02-10T17:15:07.594022Z",
     "start_time": "2021-02-10T17:15:07.583883Z"
    }
   },
   "outputs": [],
   "source": [
    "dd.utils.is_dataframe_like(pd.DataFrame({'FragmentSmiles':[['asdasds']],'FragmentSmarts':[['asdasd']]}))"
   ]
  },
  {
   "cell_type": "code",
   "execution_count": null,
   "metadata": {
    "ExecuteTime": {
     "end_time": "2021-02-08T04:41:23.027566Z",
     "start_time": "2021-02-08T04:41:16.075319Z"
    }
   },
   "outputs": [],
   "source": [
    "if CarrierFragmentDB.index.name or CarrierFragmentDB.index.names:\n",
    "    CarrierFragmentDB.reset_index(inplace=True)"
   ]
  },
  {
   "cell_type": "code",
   "execution_count": null,
   "metadata": {
    "ExecuteTime": {
     "end_time": "2021-02-08T17:11:27.437387Z",
     "start_time": "2021-02-08T17:11:27.394080Z"
    }
   },
   "outputs": [],
   "source": [
    "gk=pd.DataFrame(['BOO',None,'Do'])\n",
    "gk\n",
    "gk.dropna(inplace=True)\n",
    "gk"
   ]
  },
  {
   "cell_type": "code",
   "execution_count": null,
   "metadata": {
    "ExecuteTime": {
     "end_time": "2021-02-08T15:55:36.036109Z",
     "start_time": "2021-02-08T15:55:32.291406Z"
    }
   },
   "outputs": [],
   "source": [
    "CarrierFragmentDB.loc[CarrierFragmentDB['SubstanceID']==4502]"
   ]
  },
  {
   "cell_type": "code",
   "execution_count": null,
   "metadata": {
    "ExecuteTime": {
     "end_time": "2021-02-08T17:38:17.586738Z",
     "start_time": "2021-02-08T17:38:17.580687Z"
    }
   },
   "outputs": [],
   "source": [
    "'>1 Compound' not in CarrierFragmentDB.columns"
   ]
  },
  {
   "cell_type": "code",
   "execution_count": null,
   "metadata": {
    "ExecuteTime": {
     "end_time": "2021-02-09T05:59:08.218389Z",
     "start_time": "2021-02-09T05:57:35.697311Z"
    }
   },
   "outputs": [],
   "source": [
    "CarrierFragmentDBDask=dd.from_pandas(CarrierFragmentDB,npartitions=181)\n",
    "CarrierFragmentDBDask=client.persist(CarrierFragmentDBDask)"
   ]
  },
  {
   "cell_type": "code",
   "execution_count": null,
   "metadata": {
    "ExecuteTime": {
     "end_time": "2021-02-08T04:49:57.178407Z",
     "start_time": "2021-02-08T04:49:57.163796Z"
    }
   },
   "outputs": [],
   "source": [
    "type(CarrierFragmentDBDask)"
   ]
  },
  {
   "cell_type": "code",
   "execution_count": null,
   "metadata": {
    "ExecuteTime": {
     "end_time": "2021-02-05T14:23:29.968612Z",
     "start_time": "2021-02-05T14:23:29.962199Z"
    }
   },
   "outputs": [],
   "source": [
    "CarrierFragmentDB.columns[CarrierFragmentDB.columns.str.contains('ragment')]"
   ]
  },
  {
   "cell_type": "code",
   "execution_count": null,
   "metadata": {
    "ExecuteTime": {
     "end_time": "2021-02-08T04:55:37.850311Z",
     "start_time": "2021-02-08T04:53:06.050119Z"
    }
   },
   "outputs": [],
   "source": [
    "mixturecol=buildfragdb(fdb=CarrierFragmentDB,dfdb=CarrierFragmentDBDask,mixtures=True).compute()"
   ]
  },
  {
   "cell_type": "code",
   "execution_count": null,
   "metadata": {
    "ExecuteTime": {
     "end_time": "2021-02-08T04:55:53.168024Z",
     "start_time": "2021-02-08T04:55:53.153872Z"
    }
   },
   "outputs": [],
   "source": [
    "mixturecol"
   ]
  },
  {
   "cell_type": "code",
   "execution_count": null,
   "metadata": {
    "ExecuteTime": {
     "end_time": "2021-02-08T04:59:01.789909Z",
     "start_time": "2021-02-08T04:58:58.264089Z"
    }
   },
   "outputs": [],
   "source": [
    "mixturedf=pd.DataFrame(mixturecol)\n",
    "CarrierFragmentDB=CarrierFragmentDB.join(mixturedf)"
   ]
  },
  {
   "cell_type": "code",
   "execution_count": null,
   "metadata": {
    "ExecuteTime": {
     "end_time": "2021-02-09T04:05:09.903185Z",
     "start_time": "2021-02-09T04:05:04.067199Z"
    }
   },
   "outputs": [],
   "source": [
    "CarrierFragmentDB.loc[CarrierFragmentDB['>1 Compound']==True]"
   ]
  },
  {
   "cell_type": "code",
   "execution_count": null,
   "metadata": {
    "ExecuteTime": {
     "end_time": "2021-02-09T06:38:51.700735Z",
     "start_time": "2021-02-09T06:38:51.668788Z"
    }
   },
   "outputs": [],
   "source": [
    "CarrierFragmentDB2=CarrierFragmentDB[:100].groupby(['SubstanceID','Smiles']).agg({'FragmentSmiles': lambda x: x.tolist(),'FragmentSmarts': lambda x: x.tolist(),'>1 Compound': lambda x: x.tolist()}) "
   ]
  },
  {
   "cell_type": "code",
   "execution_count": null,
   "metadata": {
    "ExecuteTime": {
     "end_time": "2021-02-09T06:44:57.582122Z",
     "start_time": "2021-02-09T06:44:57.570567Z"
    }
   },
   "outputs": [],
   "source": [
    "type(CarrierFragmentDB2['FragmentSmiles'])"
   ]
  },
  {
   "cell_type": "code",
   "execution_count": null,
   "metadata": {
    "ExecuteTime": {
     "end_time": "2021-02-09T06:02:59.807626Z",
     "start_time": "2021-02-09T06:02:59.617984Z"
    }
   },
   "outputs": [],
   "source": [
    "CarrierFragmentDB.dtypes"
   ]
  },
  {
   "cell_type": "code",
   "execution_count": null,
   "metadata": {
    "ExecuteTime": {
     "end_time": "2021-02-09T05:07:21.738792Z",
     "start_time": "2021-02-09T05:07:21.730284Z"
    }
   },
   "outputs": [],
   "source": [
    "CarrierFragmentDB3.loc[925]['Smiles']"
   ]
  },
  {
   "cell_type": "code",
   "execution_count": null,
   "metadata": {
    "ExecuteTime": {
     "end_time": "2021-02-09T05:03:25.528737Z",
     "start_time": "2021-02-09T05:03:24.368966Z"
    }
   },
   "outputs": [],
   "source": [
    "CarrierFragmentDBDask.loc[:1000000]"
   ]
  },
  {
   "cell_type": "code",
   "execution_count": null,
   "metadata": {
    "ExecuteTime": {
     "end_time": "2021-02-09T04:28:55.666172Z",
     "start_time": "2021-02-09T04:28:55.651708Z"
    }
   },
   "outputs": [],
   "source": [
    "len(CarrierFragmentDB[:100].SubstanceID.unique())"
   ]
  },
  {
   "cell_type": "code",
   "execution_count": null,
   "metadata": {
    "ExecuteTime": {
     "end_time": "2021-02-09T07:08:17.946347Z",
     "start_time": "2021-02-09T07:08:16.605390Z"
    }
   },
   "outputs": [],
   "source": [
    "fdb=CarrierFragmentDB.loc[CarrierFragmentDB['>1 Compound']==True]"
   ]
  },
  {
   "cell_type": "code",
   "execution_count": null,
   "metadata": {
    "ExecuteTime": {
     "end_time": "2021-02-09T07:08:26.068405Z",
     "start_time": "2021-02-09T07:08:20.977091Z"
    }
   },
   "outputs": [],
   "source": [
    "fdbdask=dd.from_pandas(fdb,npartitions=16)"
   ]
  },
  {
   "cell_type": "code",
   "execution_count": null,
   "metadata": {
    "ExecuteTime": {
     "end_time": "2021-02-09T07:59:29.880327Z",
     "start_time": "2021-02-09T07:59:29.843332Z"
    }
   },
   "outputs": [],
   "source": [
    "fdbdask"
   ]
  },
  {
   "cell_type": "code",
   "execution_count": null,
   "metadata": {
    "ExecuteTime": {
     "end_time": "2021-02-09T07:08:31.541851Z",
     "start_time": "2021-02-09T07:08:31.526088Z"
    }
   },
   "outputs": [],
   "source": [
    "fdbdask=client.persist(fdbdask)"
   ]
  },
  {
   "cell_type": "code",
   "execution_count": null,
   "metadata": {
    "ExecuteTime": {
     "end_time": "2021-02-09T08:07:10.072829Z",
     "start_time": "2021-02-09T08:00:08.566167Z"
    }
   },
   "outputs": [],
   "source": [
    "CarrierFragmentDB3=fdbdask.groupby(['Smiles']).agg([list]).compute() "
   ]
  },
  {
   "cell_type": "code",
   "execution_count": null,
   "metadata": {},
   "outputs": [],
   "source": [
    "CarrierFragmentDB3=CarrierFragmentDB3.drop('list',axis=1,level=1)"
   ]
  },
  {
   "cell_type": "code",
   "execution_count": null,
   "metadata": {
    "ExecuteTime": {
     "end_time": "2021-02-10T08:31:30.734308Z",
     "start_time": "2021-02-10T08:31:22.435802Z"
    }
   },
   "outputs": [],
   "source": [
    "writepickle(CarrierFragmentDB3,'/home/aa2133/Impurity-Project/Reaxys_Data/CarrierFragmentDBmixtures_reduced(n=6)')"
   ]
  },
  {
   "cell_type": "code",
   "execution_count": null,
   "metadata": {
    "ExecuteTime": {
     "end_time": "2021-02-10T11:59:49.348399Z",
     "start_time": "2021-02-10T11:59:37.065889Z"
    }
   },
   "outputs": [],
   "source": [
    "CarrierFragmentDB3=openpickle('/home/aa2133/Impurity-Project/Reaxys_Data/CarrierFragmentDBmixtures_reduced(n=6).pickle')"
   ]
  },
  {
   "cell_type": "code",
   "execution_count": null,
   "metadata": {
    "ExecuteTime": {
     "end_time": "2021-02-10T11:59:53.836572Z",
     "start_time": "2021-02-10T11:59:53.754098Z"
    }
   },
   "outputs": [],
   "source": [
    "CarrierFragmentDB3"
   ]
  },
  {
   "cell_type": "code",
   "execution_count": null,
   "metadata": {
    "ExecuteTime": {
     "end_time": "2021-02-09T09:39:12.603607Z",
     "start_time": "2021-02-09T09:39:12.574011Z"
    }
   },
   "outputs": [],
   "source": [
    "ty=CarrierFragmentDB3[:2].apply(getMixturefrags,natoms=6,axis=1)"
   ]
  },
  {
   "cell_type": "code",
   "execution_count": null,
   "metadata": {
    "ExecuteTime": {
     "end_time": "2021-02-09T10:22:36.637769Z",
     "start_time": "2021-02-09T10:22:36.617002Z"
    }
   },
   "outputs": [],
   "source": [
    "ty"
   ]
  },
  {
   "cell_type": "code",
   "execution_count": null,
   "metadata": {
    "ExecuteTime": {
     "end_time": "2021-02-09T10:54:20.434613Z",
     "start_time": "2021-02-09T10:54:15.913978Z"
    }
   },
   "outputs": [],
   "source": [
    "CarrierFragmentDB3Dask=dd.from_pandas(CarrierFragmentDB3,npartitions=16)"
   ]
  },
  {
   "cell_type": "code",
   "execution_count": null,
   "metadata": {
    "ExecuteTime": {
     "end_time": "2021-02-09T10:54:23.677344Z",
     "start_time": "2021-02-09T10:54:22.623090Z"
    }
   },
   "outputs": [],
   "source": [
    "CarrierFragmentDB3Dask=client.persist(CarrierFragmentDB3Dask)"
   ]
  },
  {
   "cell_type": "code",
   "execution_count": null,
   "metadata": {
    "ExecuteTime": {
     "end_time": "2021-02-09T10:56:50.957308Z",
     "start_time": "2021-02-09T10:56:50.813618Z"
    }
   },
   "outputs": [],
   "source": [
    "CarrierFragmentDB3Dask.loc[CarrierFragmentDB3Dask['Smiles']=='B#N.N.[LiH].[LiH].[LiH]'].compute()['Smiles']"
   ]
  },
  {
   "cell_type": "code",
   "execution_count": null,
   "metadata": {
    "ExecuteTime": {
     "end_time": "2021-02-09T08:59:43.837249Z",
     "start_time": "2021-02-09T08:59:43.062744Z"
    }
   },
   "outputs": [],
   "source": [
    "CarrierFragmentDBDask.loc[CarrierFragmentDBDask['Smiles']=='B#N.N.[LiH].[LiH].[LiH]'].compute()['Smiles']"
   ]
  },
  {
   "cell_type": "markdown",
   "metadata": {},
   "source": [
    "Getting mixture smarts"
   ]
  },
  {
   "cell_type": "code",
   "execution_count": null,
   "metadata": {
    "ExecuteTime": {
     "end_time": "2021-02-09T10:57:06.257875Z",
     "start_time": "2021-02-09T10:57:06.188433Z"
    }
   },
   "outputs": [],
   "source": [
    "mixturesmarts2=CarrierFragmentDB3Dask.loc[:2].map_partitions(getMixturefragspartition,natoms=6,meta=('FragmentSmarts','O')).compute()"
   ]
  },
  {
   "cell_type": "code",
   "execution_count": null,
   "metadata": {
    "ExecuteTime": {
     "end_time": "2021-02-09T11:09:20.600372Z",
     "start_time": "2021-02-09T10:57:27.942105Z"
    }
   },
   "outputs": [],
   "source": [
    "mixturesmarts=CarrierFragmentDB3Dask.map_partitions(getMixturefragspartition,natoms=6,meta=('FragmentSmarts','O')).compute()"
   ]
  },
  {
   "cell_type": "code",
   "execution_count": null,
   "metadata": {
    "ExecuteTime": {
     "end_time": "2021-02-10T12:05:50.916311Z",
     "start_time": "2021-02-10T12:05:46.376491Z"
    }
   },
   "outputs": [],
   "source": [
    "mixturesmarts=openpickle('/home/aa2133/Impurity-Project/Reaxys_Data/mixturesmarts.pickle')"
   ]
  },
  {
   "cell_type": "code",
   "execution_count": null,
   "metadata": {
    "ExecuteTime": {
     "end_time": "2021-02-10T09:29:42.400884Z",
     "start_time": "2021-02-10T09:29:36.945219Z"
    }
   },
   "outputs": [],
   "source": [
    "writepickle(mixturesmarts,'/home/aa2133/Impurity-Project/Reaxys_Data/mixturesmarts')"
   ]
  },
  {
   "cell_type": "code",
   "execution_count": null,
   "metadata": {
    "ExecuteTime": {
     "end_time": "2021-02-10T12:06:00.639165Z",
     "start_time": "2021-02-10T12:06:00.631962Z"
    }
   },
   "outputs": [],
   "source": [
    "mixturesmarts[1249046]"
   ]
  },
  {
   "cell_type": "code",
   "execution_count": null,
   "metadata": {
    "ExecuteTime": {
     "end_time": "2021-02-09T12:13:52.413282Z",
     "start_time": "2021-02-09T12:13:52.194490Z"
    }
   },
   "outputs": [],
   "source": [
    "mixturesmartsdf=pd.DataFrame(mixturesmarts)"
   ]
  },
  {
   "cell_type": "code",
   "execution_count": null,
   "metadata": {
    "ExecuteTime": {
     "end_time": "2021-02-09T12:16:58.571026Z",
     "start_time": "2021-02-09T12:16:58.333911Z"
    }
   },
   "outputs": [],
   "source": [
    "CarrierFragmentDB3['FragmentSmarts']=mixturesmartsdf['FragmentSmarts']"
   ]
  },
  {
   "cell_type": "code",
   "execution_count": null,
   "metadata": {
    "ExecuteTime": {
     "end_time": "2021-02-10T08:58:25.475175Z",
     "start_time": "2021-02-10T08:58:17.512132Z"
    }
   },
   "outputs": [],
   "source": [
    "CarrierFragmentDB4=CarrierFragmentDB3.explode('FragmentSmarts')"
   ]
  },
  {
   "cell_type": "code",
   "execution_count": null,
   "metadata": {
    "ExecuteTime": {
     "end_time": "2021-02-10T08:59:39.130213Z",
     "start_time": "2021-02-10T08:59:38.424424Z"
    }
   },
   "outputs": [],
   "source": [
    "CarrierFragmentDB4[['Smiles','FragmentSmarts']]"
   ]
  },
  {
   "cell_type": "code",
   "execution_count": null,
   "metadata": {
    "ExecuteTime": {
     "end_time": "2021-02-09T16:37:37.926172Z",
     "start_time": "2021-02-09T16:37:23.913739Z"
    }
   },
   "outputs": [],
   "source": [
    "CarrierFragmentDB4Dask=dd.from_pandas(CarrierFragmentDB4,npartitions=64)\n",
    "CarrierFragmentDB4Dask=client.persist(CarrierFragmentDB4Dask)"
   ]
  },
  {
   "cell_type": "code",
   "execution_count": null,
   "metadata": {
    "ExecuteTime": {
     "end_time": "2021-02-09T16:39:16.934125Z",
     "start_time": "2021-02-09T16:38:11.207454Z"
    }
   },
   "outputs": [],
   "source": [
    "mixturefragsmiles=CarrierFragmentDB4Dask.map_partitions(getsmilespartition,meta=('FragmentSmiles','O')).compute()"
   ]
  },
  {
   "cell_type": "code",
   "execution_count": null,
   "metadata": {
    "ExecuteTime": {
     "end_time": "2021-02-09T16:39:27.417317Z",
     "start_time": "2021-02-09T16:39:27.400226Z"
    }
   },
   "outputs": [],
   "source": [
    "mixturefragsmiles"
   ]
  },
  {
   "cell_type": "code",
   "execution_count": null,
   "metadata": {
    "ExecuteTime": {
     "end_time": "2021-02-10T09:00:00.385331Z",
     "start_time": "2021-02-10T08:59:57.756102Z"
    }
   },
   "outputs": [],
   "source": [
    "CarrierFragmentDB4['FragmentSmiles']=pd.DataFrame(mixturefragsmiles)['FragmentSmiles']"
   ]
  },
  {
   "cell_type": "code",
   "execution_count": null,
   "metadata": {
    "ExecuteTime": {
     "end_time": "2021-02-10T09:00:04.908248Z",
     "start_time": "2021-02-10T09:00:03.908511Z"
    }
   },
   "outputs": [],
   "source": [
    "CarrierFragmentDB4.loc[CarrierFragmentDB4['Smiles']=='B#N.N.[LiH].[LiH].[LiH]']"
   ]
  },
  {
   "cell_type": "code",
   "execution_count": null,
   "metadata": {
    "ExecuteTime": {
     "end_time": "2021-02-09T12:12:10.795127Z",
     "start_time": "2021-02-09T12:12:10.730131Z"
    }
   },
   "outputs": [],
   "source": [
    "CarrierFragmentDB3Dask.loc[1249046].compute()['FragmentSmarts']['list'].values[0]"
   ]
  },
  {
   "cell_type": "markdown",
   "metadata": {},
   "source": [
    "The final dataframe does have errors. Whilst errors converting molfile to smiles had been indentified and removed earlier, there are further errors as the conversion of molfile to smiles, whilst successful, may not be correct. These are all the entries where this is the case. Furthermore we can see where Reaxys has stored substances with the same smiles string but different substance IDs (The complexity of the substance cannot be translated to a valid smiles string. There are valence errors)."
   ]
  },
  {
   "cell_type": "code",
   "execution_count": null,
   "metadata": {
    "ExecuteTime": {
     "end_time": "2021-02-10T07:44:34.677905Z",
     "start_time": "2021-02-10T07:44:34.317821Z"
    }
   },
   "outputs": [],
   "source": [
    "CarrierFragmentDB4=explode(CarrierFragmentDB3[CarrierFragmentDB3.FragmentSmarts=='Error'],lst_cols=['SubstanceID','FragmentSmiles','>1 Compound'])"
   ]
  },
  {
   "cell_type": "code",
   "execution_count": null,
   "metadata": {
    "ExecuteTime": {
     "end_time": "2021-02-10T08:08:10.133759Z",
     "start_time": "2021-02-10T08:08:10.097570Z"
    }
   },
   "outputs": [],
   "source": [
    "CarrierFragmentDB4"
   ]
  },
  {
   "cell_type": "code",
   "execution_count": null,
   "metadata": {
    "ExecuteTime": {
     "end_time": "2021-02-10T07:56:55.987576Z",
     "start_time": "2021-02-10T07:56:55.755304Z"
    }
   },
   "outputs": [],
   "source": [
    "templist=CarrierFragmentDB3[CarrierFragmentDB3.FragmentSmarts=='Error'].SubstanceID.str.len()"
   ]
  },
  {
   "cell_type": "code",
   "execution_count": null,
   "metadata": {
    "ExecuteTime": {
     "end_time": "2021-02-10T07:57:04.672779Z",
     "start_time": "2021-02-10T07:57:04.648848Z"
    }
   },
   "outputs": [],
   "source": [
    "templist[templist.values>1]"
   ]
  },
  {
   "cell_type": "code",
   "execution_count": null,
   "metadata": {
    "ExecuteTime": {
     "end_time": "2021-02-10T07:58:56.774307Z",
     "start_time": "2021-02-10T07:58:56.540466Z"
    }
   },
   "outputs": [],
   "source": [
    "CarrierFragmentDB3[CarrierFragmentDB3.FragmentSmarts=='Error'].loc[51293].Smiles"
   ]
  },
  {
   "cell_type": "code",
   "execution_count": null,
   "metadata": {
    "ExecuteTime": {
     "end_time": "2021-02-10T07:59:48.509706Z",
     "start_time": "2021-02-10T07:59:30.298483Z"
    }
   },
   "outputs": [],
   "source": [
    "CarrierFragmentDB.loc[CarrierFragmentDB['Smiles']=='C1CCOC1.C[Si](C)(C)[GeH2-]([Si](C)(C)C)[Si](C)(C)C.[Li+]']"
   ]
  },
  {
   "cell_type": "code",
   "execution_count": null,
   "metadata": {
    "ExecuteTime": {
     "end_time": "2021-02-10T08:06:18.632589Z",
     "start_time": "2021-02-10T08:06:18.622781Z"
    }
   },
   "outputs": [],
   "source": [
    "Chem.MolFromSmiles('C[Si](C)(C)[GeH2-]([Si](C)(C)C)[Si](C)(C)C')"
   ]
  },
  {
   "cell_type": "code",
   "execution_count": null,
   "metadata": {
    "ExecuteTime": {
     "end_time": "2021-02-10T08:47:44.195966Z",
     "start_time": "2021-02-10T08:47:43.560055Z"
    }
   },
   "outputs": [],
   "source": [
    "CarrierFragmentDB5=CarrierFragmentDB3[~CarrierFragmentDB3.Smiles.isin(CarrierFragmentDB4.Smiles)]"
   ]
  },
  {
   "cell_type": "code",
   "execution_count": null,
   "metadata": {
    "ExecuteTime": {
     "end_time": "2021-02-10T08:52:17.023023Z",
     "start_time": "2021-02-10T08:51:26.228617Z"
    },
    "scrolled": true
   },
   "outputs": [],
   "source": [
    "CarrierFragmentDB6=explode(CarrierFragmentDB5,lst_cols=['SubstanceID','FragmentSmiles'])#'FragmentSmarts','>1 Compound'])"
   ]
  },
  {
   "cell_type": "code",
   "execution_count": null,
   "metadata": {
    "ExecuteTime": {
     "end_time": "2021-02-10T07:27:29.011308Z",
     "start_time": "2021-02-10T07:27:28.976610Z"
    }
   },
   "outputs": [],
   "source": [
    "CarrierFragmentDB3.loc[26211]"
   ]
  },
  {
   "cell_type": "code",
   "execution_count": null,
   "metadata": {
    "ExecuteTime": {
     "end_time": "2021-02-10T07:30:02.733413Z",
     "start_time": "2021-02-10T07:29:59.942673Z"
    }
   },
   "outputs": [],
   "source": [
    "CarrierFragmentDB.loc[CarrierFragmentDB['SubstanceID']==16800164]"
   ]
  },
  {
   "cell_type": "code",
   "execution_count": null,
   "metadata": {
    "ExecuteTime": {
     "end_time": "2021-02-10T07:29:11.752341Z",
     "start_time": "2021-02-10T07:29:11.523453Z"
    }
   },
   "outputs": [],
   "source": [
    "Chem.MolFromSmiles('Br[GeH2-](Br)Br.[Br-].[H][N+]([H])([H])[H]')"
   ]
  },
  {
   "cell_type": "code",
   "execution_count": null,
   "metadata": {
    "ExecuteTime": {
     "end_time": "2021-02-09T17:01:29.315662Z",
     "start_time": "2021-02-09T17:01:23.133353Z"
    }
   },
   "outputs": [],
   "source": [
    "CarrierFragmentDB.loc[CarrierFragmentDB['Smiles']=='B#N.N.[LiH].[LiH].[LiH]']"
   ]
  },
  {
   "cell_type": "code",
   "execution_count": null,
   "metadata": {
    "ExecuteTime": {
     "end_time": "2021-02-10T04:14:51.793520Z",
     "start_time": "2021-02-10T04:14:50.971577Z"
    }
   },
   "outputs": [],
   "source": [
    "testdb2=CarrierFragmentDB4.loc[CarrierFragmentDB4['Smiles']=='c1ccncc1.c1nc[nH]n1']"
   ]
  },
  {
   "cell_type": "code",
   "execution_count": null,
   "metadata": {
    "ExecuteTime": {
     "end_time": "2021-02-09T17:37:06.530040Z",
     "start_time": "2021-02-09T17:37:00.332169Z"
    }
   },
   "outputs": [],
   "source": [
    "testdb=CarrierFragmentDB.loc[CarrierFragmentDB['Smiles']=='c1ccncc1.c1nc[nH]n1']"
   ]
  },
  {
   "cell_type": "code",
   "execution_count": null,
   "metadata": {
    "ExecuteTime": {
     "end_time": "2021-02-10T04:13:25.023373Z",
     "start_time": "2021-02-10T04:13:25.006231Z"
    }
   },
   "outputs": [],
   "source": [
    "testdb2=testdb2.explode('SubstanceID')"
   ]
  },
  {
   "cell_type": "code",
   "execution_count": null,
   "metadata": {
    "ExecuteTime": {
     "end_time": "2021-02-10T04:14:16.590645Z",
     "start_time": "2021-02-10T04:14:16.560132Z"
    }
   },
   "outputs": [],
   "source": [
    "def explode(df, lst_cols, fill_value=''):\n",
    "    # make sure `lst_cols` is a list\n",
    "    if lst_cols and not isinstance(lst_cols, list):\n",
    "        lst_cols = [lst_cols]\n",
    "    # all columns except `lst_cols`\n",
    "    idx_cols = df.columns.difference(lst_cols)\n",
    "\n",
    "    # calculate lengths of lists\n",
    "    lens = df[lst_cols[0]].str.len()\n",
    "\n",
    "    if (lens > 0).all():\n",
    "        # ALL lists in cells aren't empty\n",
    "        return pd.DataFrame({\n",
    "            col:np.repeat(df[col].values, df[lst_cols[0]].str.len())\n",
    "            for col in idx_cols\n",
    "        }).assign(**{col:np.concatenate(df[col].values) for col in lst_cols}) \\\n",
    "          .loc[:, df.columns]\n",
    "    else:\n",
    "        # at least one list in cells is empty\n",
    "        return pd.DataFrame({\n",
    "            col:np.repeat(df[col].values, df[lst_cols[0]].str.len())\n",
    "            for col in idx_cols\n",
    "        }).assign(**{col:np.concatenate(df[col].values) for col in lst_cols}) \\\n",
    "          .append(df.loc[lens==0, idx_cols]).fillna(fill_value) \\\n",
    "          .loc[:, df.columns]"
   ]
  },
  {
   "cell_type": "code",
   "execution_count": null,
   "metadata": {
    "ExecuteTime": {
     "end_time": "2021-02-10T04:15:07.700501Z",
     "start_time": "2021-02-10T04:15:07.666253Z"
    },
    "scrolled": true
   },
   "outputs": [],
   "source": [
    "testdb2"
   ]
  },
  {
   "cell_type": "code",
   "execution_count": null,
   "metadata": {
    "ExecuteTime": {
     "end_time": "2021-02-10T06:46:59.366875Z",
     "start_time": "2021-02-10T06:46:59.163407Z"
    }
   },
   "outputs": [],
   "source": [
    "testdb3=CarrierFragmentDB3.loc[CarrierFragmentDB3['Smiles']=='c1ccncc1.c1nc[nH]n1']"
   ]
  },
  {
   "cell_type": "code",
   "execution_count": null,
   "metadata": {
    "ExecuteTime": {
     "end_time": "2021-02-10T06:47:43.666505Z",
     "start_time": "2021-02-10T06:47:43.626763Z"
    }
   },
   "outputs": [],
   "source": [
    "explode(testdb3,lst_cols=['SubstanceID','FragmentSmiles','FragmentSmarts','>1 Compound'])"
   ]
  },
  {
   "cell_type": "markdown",
   "metadata": {},
   "source": [
    "The below exposes some errors in the carrier frags function. The way RDKit treats smiles and smarts is not consistent at all, and fragments are even worse."
   ]
  },
  {
   "cell_type": "code",
   "execution_count": null,
   "metadata": {
    "ExecuteTime": {
     "end_time": "2021-02-10T05:51:27.645779Z",
     "start_time": "2021-02-10T05:51:27.608026Z"
    }
   },
   "outputs": [],
   "source": [
    "Chem.MolFromSmiles('c1ccncc1.c1nc[nH]n1')\n",
    "Chem.MolFromSmarts('[#6]:[#6](:[#7]:[#6](:[#6])-[H])-[H]')"
   ]
  },
  {
   "cell_type": "code",
   "execution_count": null,
   "metadata": {
    "ExecuteTime": {
     "end_time": "2021-02-10T05:51:32.298460Z",
     "start_time": "2021-02-10T05:51:32.257624Z"
    }
   },
   "outputs": [],
   "source": [
    "Chem.MolFromSmarts('[#6]1(:[#7]:[#6](:[#7]:[#7]:1)-[H])-[H]')\n",
    "Chem.MolFromSmiles('[H]C1:N:N:C([H]):N:1')"
   ]
  },
  {
   "cell_type": "code",
   "execution_count": null,
   "metadata": {
    "ExecuteTime": {
     "end_time": "2021-02-09T16:54:33.332144Z",
     "start_time": "2021-02-09T16:54:33.131834Z"
    }
   },
   "outputs": [],
   "source": [
    "getCarrierFrags('c1nc[nH]n1',6)\n",
    "Chem.MolToSmiles(Chem.MolFromSmarts('[#6]1(:[#7]:[#6](:[#7]:[#7]:1)-[H])-[H]'))\n",
    "moltest=Chem.MolFromSmarts('[#6]1(:[#7]:[#6](:[#7]:[#7]:1)-[H])-[H]')\n",
    "Chem.SanitizeMol(moltest)\n",
    "moltest.UpdatePropertyCache(strict=False)\n",
    "Chem.MolToSmiles(moltest,allHsExplicit=False)\n",
    "Chem.MolToSmiles(Chem.MolFromSmiles('[H]C1:N:N:C([H]):N:1'))"
   ]
  },
  {
   "cell_type": "code",
   "execution_count": null,
   "metadata": {
    "ExecuteTime": {
     "end_time": "2021-02-10T06:11:15.040514Z",
     "start_time": "2021-02-10T06:11:15.017135Z"
    }
   },
   "outputs": [],
   "source": [
    "Chem.MolFromSmarts('[#6]1(:[#7]:[#6](:[#7]:[#7]:1)-[H])-[H]')\n",
    "Chem.MolFromSmarts('[#6]1(:[#7]:[#6](:[#7](:[#7]:1)-[H])-[H])-[H]')"
   ]
  },
  {
   "cell_type": "code",
   "execution_count": null,
   "metadata": {
    "ExecuteTime": {
     "end_time": "2021-02-10T06:12:08.297652Z",
     "start_time": "2021-02-10T06:12:08.286238Z"
    }
   },
   "outputs": [],
   "source": [
    "Chem.MolToSmiles(Chem.MolFromSmarts('[#6]1(:[#7]:[#6](:[#7](:[#7]:1)-[H])-[H])-[H]'))"
   ]
  },
  {
   "cell_type": "code",
   "execution_count": null,
   "metadata": {
    "ExecuteTime": {
     "end_time": "2021-02-10T06:12:23.208368Z",
     "start_time": "2021-02-10T06:12:23.200466Z"
    }
   },
   "outputs": [],
   "source": [
    "Chem.MolFromSmiles('[H]C1:N:C([H]):N([H]):N:1')"
   ]
  },
  {
   "cell_type": "code",
   "execution_count": null,
   "metadata": {
    "ExecuteTime": {
     "end_time": "2021-02-10T04:37:46.076872Z",
     "start_time": "2021-02-10T04:37:45.920868Z"
    }
   },
   "outputs": [],
   "source": [
    "Chem.MolFromSmiles('c1ccncc1.c1nc[nH]n1')\n",
    "Chem.MolFromSmiles('[H]C(:C):N:C([H]):C')\n",
    "Chem.MolFromSmiles('[H]C1:N:N:C([H]):N:1')\n",
    "Chem.MolFromSmiles('[H]C1:N:C([H]):N([H]):N:1')\n",
    "Chem.MolFromSmiles(Chem.MolToSmiles(Chem.MolFromSmarts('[#6]1(:[#7]:[#6](:[#7](:[#7]:1)-[H])-[H])-[H]'),allHsExplicit=True))\n",
    "Chem.MolFromSmarts('[#6]1(:[#7]:[#6](:[#7](:[#7]:1)-[H])-[H])-[H]')"
   ]
  },
  {
   "cell_type": "code",
   "execution_count": null,
   "metadata": {
    "ExecuteTime": {
     "end_time": "2021-02-10T04:42:20.157560Z",
     "start_time": "2021-02-10T04:42:20.145262Z"
    }
   },
   "outputs": [],
   "source": [
    "Chem.MolToSmarts(Chem.MolFromSmarts('[#6]1(:[#7]:[#6](:[#7]:[#7]:1)-[H])-[H]'))"
   ]
  },
  {
   "cell_type": "code",
   "execution_count": null,
   "metadata": {
    "ExecuteTime": {
     "end_time": "2021-02-10T04:41:11.451179Z",
     "start_time": "2021-02-10T04:41:11.426524Z"
    }
   },
   "outputs": [],
   "source": [
    "Chem.MolToSmarts(Chem.MolFromSmiles('c1nc[nH]n1'))"
   ]
  },
  {
   "cell_type": "code",
   "execution_count": null,
   "metadata": {
    "ExecuteTime": {
     "end_time": "2021-02-10T04:43:20.031375Z",
     "start_time": "2021-02-10T04:43:20.022403Z"
    }
   },
   "outputs": [],
   "source": [
    "getCarrierFrags('c1nc[nH]n1',0,resFormat='smarts')"
   ]
  },
  {
   "cell_type": "code",
   "execution_count": null,
   "metadata": {
    "ExecuteTime": {
     "end_time": "2021-02-10T04:44:55.014550Z",
     "start_time": "2021-02-10T04:44:54.993334Z"
    }
   },
   "outputs": [],
   "source": [
    "Chem.MolFromSmarts('[#7]:[#7]')"
   ]
  },
  {
   "cell_type": "code",
   "execution_count": null,
   "metadata": {
    "ExecuteTime": {
     "end_time": "2021-02-10T05:49:43.855776Z",
     "start_time": "2021-02-10T05:49:43.673653Z"
    }
   },
   "outputs": [],
   "source": [
    "Chem.MolFromSmiles('[H]c1nc([H])n([H])n1')"
   ]
  },
  {
   "cell_type": "code",
   "execution_count": null,
   "metadata": {
    "ExecuteTime": {
     "end_time": "2021-02-10T18:08:20.524626Z",
     "start_time": "2021-02-10T18:08:20.518645Z"
    }
   },
   "outputs": [],
   "source": [
    "def mol_with_atom_index(mol):\n",
    "    for atom in mol.GetAtoms():\n",
    "        atom.SetAtomMapNum(atom.GetIdx())\n",
    "    return mol"
   ]
  },
  {
   "cell_type": "code",
   "execution_count": null,
   "metadata": {
    "ExecuteTime": {
     "end_time": "2021-02-10T12:14:50.895480Z",
     "start_time": "2021-02-10T12:14:50.760827Z"
    }
   },
   "outputs": [],
   "source": [
    "testmol=Chem.MolFromSmiles('c1nc[nH]n1')\n",
    "Chem.SanitizeMol(testmol)\n",
    "testmol.UpdatePropertyCache(strict=False)\n",
    "Chem.AddHs(testmol)\n",
    "mol_with_atom_index(testmol)\n"
   ]
  },
  {
   "cell_type": "code",
   "execution_count": null,
   "metadata": {
    "ExecuteTime": {
     "end_time": "2021-02-10T06:06:31.472507Z",
     "start_time": "2021-02-10T06:06:31.453508Z"
    }
   },
   "outputs": [],
   "source": [
    "IFG(testmol)\n",
    "testmol.GetAtomWithIdx(1)"
   ]
  },
  {
   "cell_type": "code",
   "execution_count": null,
   "metadata": {
    "ExecuteTime": {
     "end_time": "2021-02-09T17:49:24.513849Z",
     "start_time": "2021-02-09T17:49:24.502452Z"
    }
   },
   "outputs": [],
   "source": [
    "testdb2.set_index(['SubstanceID'],inplace=True)"
   ]
  },
  {
   "cell_type": "code",
   "execution_count": null,
   "metadata": {
    "ExecuteTime": {
     "end_time": "2021-02-09T17:49:56.077383Z",
     "start_time": "2021-02-09T17:49:56.070323Z"
    }
   },
   "outputs": [],
   "source": [
    "testdb.set_index('SubstanceID',inplace=True)"
   ]
  },
  {
   "cell_type": "code",
   "execution_count": null,
   "metadata": {
    "ExecuteTime": {
     "end_time": "2021-02-09T17:49:03.809060Z",
     "start_time": "2021-02-09T17:49:03.624635Z"
    }
   },
   "outputs": [],
   "source": [
    "testdb2.reset_index(inplace=True)"
   ]
  },
  {
   "cell_type": "code",
   "execution_count": null,
   "metadata": {
    "ExecuteTime": {
     "end_time": "2021-02-09T17:50:09.857787Z",
     "start_time": "2021-02-09T17:50:09.830016Z"
    }
   },
   "outputs": [],
   "source": [
    "pd.concat([testdb,testdb2])"
   ]
  },
  {
   "cell_type": "code",
   "execution_count": null,
   "metadata": {
    "ExecuteTime": {
     "end_time": "2021-02-09T17:46:31.725197Z",
     "start_time": "2021-02-09T17:46:31.677415Z"
    }
   },
   "outputs": [],
   "source": [
    "pd.concat([testdb,testdb2]).drop([16832508],level=1)"
   ]
  },
  {
   "cell_type": "code",
   "execution_count": null,
   "metadata": {
    "ExecuteTime": {
     "end_time": "2021-02-09T17:47:50.235105Z",
     "start_time": "2021-02-09T17:47:50.094479Z"
    }
   },
   "outputs": [],
   "source": [
    "CarrierFragmentDB4.index.unique()"
   ]
  },
  {
   "cell_type": "code",
   "execution_count": null,
   "metadata": {
    "ExecuteTime": {
     "end_time": "2021-02-09T17:51:28.358987Z",
     "start_time": "2021-02-09T17:51:28.269467Z"
    }
   },
   "outputs": [],
   "source": [
    "CarrierFragmentDB4.reset_index(inplace=True)"
   ]
  },
  {
   "cell_type": "code",
   "execution_count": null,
   "metadata": {
    "ExecuteTime": {
     "end_time": "2021-02-09T18:10:43.720336Z",
     "start_time": "2021-02-09T18:10:43.677649Z"
    }
   },
   "outputs": [],
   "source": [
    "CarrierFragmentDB"
   ]
  },
  {
   "cell_type": "code",
   "execution_count": null,
   "metadata": {
    "ExecuteTime": {
     "end_time": "2021-02-10T09:05:34.760448Z",
     "start_time": "2021-02-10T09:05:34.702189Z"
    }
   },
   "outputs": [],
   "source": [
    "CarrierFragmentDB4"
   ]
  },
  {
   "cell_type": "code",
   "execution_count": null,
   "metadata": {
    "ExecuteTime": {
     "end_time": "2021-02-09T10:46:54.294738Z",
     "start_time": "2021-02-09T10:46:53.734641Z"
    }
   },
   "outputs": [],
   "source": [
    "CarrierFragmentDBDask.loc[CarrierFragmentDBDask['SubstanceID']==31713109].compute()"
   ]
  },
  {
   "cell_type": "code",
   "execution_count": null,
   "metadata": {
    "ExecuteTime": {
     "end_time": "2021-02-09T10:47:10.060294Z",
     "start_time": "2021-02-09T10:47:10.042068Z"
    }
   },
   "outputs": [],
   "source": [
    "Chem.MolFromSmiles('*(c1ccccc1)c1ccccc1.N.N.[1*].[1*]')"
   ]
  },
  {
   "cell_type": "code",
   "execution_count": null,
   "metadata": {
    "ExecuteTime": {
     "end_time": "2021-02-09T12:17:37.834934Z",
     "start_time": "2021-02-09T12:17:37.820433Z"
    }
   },
   "outputs": [],
   "source": [
    "CarrierFragmentDB3.loc[1239046]"
   ]
  },
  {
   "cell_type": "code",
   "execution_count": null,
   "metadata": {
    "ExecuteTime": {
     "end_time": "2021-02-08T17:43:38.391753Z",
     "start_time": "2021-02-08T17:43:38.194235Z"
    }
   },
   "outputs": [],
   "source": [
    "CarrierFragmentDB.rename(columns={'CarrierFragmentSmiles':'FragmentSmiles','CarrierFragmentSmarts':'FragmentSmarts'},inplace=True)"
   ]
  },
  {
   "cell_type": "code",
   "execution_count": null,
   "metadata": {
    "ExecuteTime": {
     "end_time": "2021-02-08T17:45:23.134380Z",
     "start_time": "2021-02-08T17:45:22.955153Z"
    }
   },
   "outputs": [],
   "source": [
    "CarrierFragmentDBDask=CarrierFragmentDBDask.rename(columns={'CarrierFragmentSmiles':'FragmentSmiles','CarrierFragmentSmarts':'FragmentSmarts'})"
   ]
  },
  {
   "cell_type": "code",
   "execution_count": null,
   "metadata": {
    "ExecuteTime": {
     "end_time": "2021-02-08T17:45:45.069267Z",
     "start_time": "2021-02-08T17:45:44.759440Z"
    }
   },
   "outputs": [],
   "source": [
    "CarrierFragmentDBDask=client.persist(CarrierFragmentDBDask)"
   ]
  },
  {
   "cell_type": "code",
   "execution_count": null,
   "metadata": {
    "ExecuteTime": {
     "end_time": "2021-02-08T17:45:25.804112Z",
     "start_time": "2021-02-08T17:45:25.604769Z"
    }
   },
   "outputs": [],
   "source": [
    "CarrierFragmentDBDask"
   ]
  },
  {
   "cell_type": "code",
   "execution_count": null,
   "metadata": {
    "ExecuteTime": {
     "end_time": "2021-02-08T15:47:28.440531Z",
     "start_time": "2021-02-08T15:47:28.432632Z"
    }
   },
   "outputs": [],
   "source": [
    "res"
   ]
  },
  {
   "cell_type": "code",
   "execution_count": null,
   "metadata": {
    "ExecuteTime": {
     "end_time": "2021-02-08T14:51:09.995385Z",
     "start_time": "2021-02-08T14:51:09.982523Z"
    }
   },
   "outputs": [],
   "source": [
    "getCarrierFrags('Cl',6)"
   ]
  },
  {
   "cell_type": "code",
   "execution_count": null,
   "metadata": {
    "ExecuteTime": {
     "end_time": "2021-02-08T14:37:27.802745Z",
     "start_time": "2021-02-08T14:37:27.790669Z"
    }
   },
   "outputs": [],
   "source": [
    "getCarrierFrags('Brc1ccc2ncccc2c1',6)"
   ]
  },
  {
   "cell_type": "code",
   "execution_count": null,
   "metadata": {
    "ExecuteTime": {
     "end_time": "2021-02-08T09:03:39.447057Z",
     "start_time": "2021-02-08T09:03:39.410451Z"
    }
   },
   "outputs": [],
   "source": [
    "mol2=Chem.MolFromSmarts('[#17]')\n",
    "Chem.SanitizeMol(mol2)\n",
    "mol2.UpdatePropertyCache(strict=False)\n",
    "Chem.MolToSmiles(mol2)\n",
    "mol2.GetAtoms()[0].GetTotalNumHs()\n",
    "Chem.MolToSmiles(Chem.MolFromSmiles(Chem.MolToSmiles(Chem.rdmolops.AddHs(mol2))))"
   ]
  },
  {
   "cell_type": "code",
   "execution_count": null,
   "metadata": {
    "ExecuteTime": {
     "end_time": "2021-02-08T09:05:22.319487Z",
     "start_time": "2021-02-08T09:05:22.305308Z"
    }
   },
   "outputs": [],
   "source": [
    "Chem.MolToSmiles(Chem.rdmolops.AddHs(Chem.MolFromSmiles('Brc1ccc2ncccc2c1')))"
   ]
  },
  {
   "cell_type": "code",
   "execution_count": null,
   "metadata": {
    "ExecuteTime": {
     "end_time": "2021-02-03T16:53:56.634549Z",
     "start_time": "2021-02-03T16:53:56.629102Z"
    }
   },
   "outputs": [],
   "source": [
    "# -- directories for Reaxys data\n",
    "# allrxtidsdir='/home/zg268/py2projects/reaction_1/AllRxtIDs.dat'\n",
    "# This file contains reactant IDs in Reaxys\n",
    "allrxtidsdir = '/home/aa2133/Impurity-Project/Reaxys_Data/AllRxtIDs.dat'\n",
    "# rxnSource='/home/projects/graph/11step_network_774355/zg_good_data_noDupRXID2.dat'\n",
    "# This file contains the reaction network\n",
    "rxnSource = '/home/aa2133/Impurity-Project/Reaxys_Data/zg_good_data_noDupRXID2.dat'\n",
    "\n",
    "# This is a directory containing all mol files\n",
    "molfilesource = '/home/projects/graph/data/'"
   ]
  },
  {
   "cell_type": "markdown",
   "metadata": {},
   "source": [
    "# Dask"
   ]
  },
  {
   "cell_type": "code",
   "execution_count": null,
   "metadata": {
    "ExecuteTime": {
     "end_time": "2021-02-11T03:35:05.231134Z",
     "start_time": "2021-02-11T03:35:04.683697Z"
    }
   },
   "outputs": [],
   "source": [
    "from dask.distributed import Client, LocalCluster"
   ]
  },
  {
   "cell_type": "code",
   "execution_count": null,
   "metadata": {
    "ExecuteTime": {
     "end_time": "2021-02-11T03:35:09.825687Z",
     "start_time": "2021-02-11T03:35:07.570589Z"
    }
   },
   "outputs": [],
   "source": [
    "cluster=LocalCluster(n_workers=16,threads_per_worker=2,scheduler_port=42117) # dashboard_address=':8786\n",
    "client = Client(cluster) #'127.0.0.1:8786' is default scheduler cluster"
   ]
  },
  {
   "cell_type": "code",
   "execution_count": null,
   "metadata": {
    "ExecuteTime": {
     "end_time": "2021-02-08T04:16:47.818261Z",
     "start_time": "2021-02-08T04:16:47.138940Z"
    }
   },
   "outputs": [],
   "source": [
    "client = Client('tcp://127.0.0.1:42117') #Use when scheduler already initiated"
   ]
  },
  {
   "cell_type": "code",
   "execution_count": null,
   "metadata": {
    "ExecuteTime": {
     "end_time": "2021-02-11T03:35:11.399863Z",
     "start_time": "2021-02-11T03:35:11.378385Z"
    }
   },
   "outputs": [],
   "source": [
    "client"
   ]
  },
  {
   "cell_type": "code",
   "execution_count": null,
   "metadata": {
    "ExecuteTime": {
     "end_time": "2021-02-09T05:01:24.231269Z",
     "start_time": "2021-02-09T05:01:15.713752Z"
    }
   },
   "outputs": [],
   "source": [
    "client.restart()"
   ]
  },
  {
   "cell_type": "code",
   "execution_count": null,
   "metadata": {
    "ExecuteTime": {
     "end_time": "2021-02-10T08:44:38.948024Z",
     "start_time": "2021-02-10T08:44:36.310785Z"
    }
   },
   "outputs": [],
   "source": [
    "cluster.close()\n",
    "client.close()"
   ]
  },
  {
   "cell_type": "markdown",
   "metadata": {},
   "source": [
    "# Cleaning Data"
   ]
  },
  {
   "cell_type": "markdown",
   "metadata": {},
   "source": [
    "Below, the existing substance database is loaded as a pandas dataframe (pickle file) and processed(imputing missing values, defining column data types). Note that this takes up several gigabytes of space in memory but is nearly 10 times faster at retrieving indexed data (however, when doing intensive write/modifying operations on the entire database or non-indexed data slowdows will be expected due to inability to parallelize). For optimizing pandas, check https://engineering.upside.com/a-beginners-guide-to-optimizing-pandas-code-for-speed-c09ef2c6a4d6. Otherwise use pandas documentation: https://pandas.pydata.org/pandas-docs/stable/index.html"
   ]
  },
  {
   "cell_type": "code",
   "execution_count": null,
   "metadata": {
    "ExecuteTime": {
     "end_time": "2021-02-18T13:10:46.935608Z",
     "start_time": "2021-02-18T13:09:55.320325Z"
    }
   },
   "outputs": [],
   "source": [
    "substancedb = openpickle(\"/home/aa2133/Impurity-Project/Reaxys_Data/SubstanceDB.pickle\")"
   ]
  },
  {
   "cell_type": "code",
   "execution_count": null,
   "metadata": {
    "ExecuteTime": {
     "end_time": "2021-02-03T16:54:50.522612Z",
     "start_time": "2021-02-03T16:54:50.494031Z"
    },
    "scrolled": true
   },
   "outputs": [],
   "source": [
    "substancedb"
   ]
  },
  {
   "cell_type": "markdown",
   "metadata": {},
   "source": [
    "The error column has NaN values as there is no error in processing the molfile. Therefore, imputation is needed (filling in missing values) "
   ]
  },
  {
   "cell_type": "code",
   "execution_count": null,
   "metadata": {
    "ExecuteTime": {
     "end_time": "2021-01-26T11:26:30.518072Z",
     "start_time": "2021-01-26T11:26:27.121702Z"
    }
   },
   "outputs": [],
   "source": [
    "substancedb['Error'].fillna('No', inplace=True)\n",
    "substancedb['Smiles'].fillna('Error', inplace=True)\n",
    "substancedb.Error.unique()"
   ]
  },
  {
   "cell_type": "markdown",
   "metadata": {},
   "source": [
    "Some pandas functions are depicted below to test speed of retrieval"
   ]
  },
  {
   "cell_type": "code",
   "execution_count": null,
   "metadata": {
    "ExecuteTime": {
     "end_time": "2021-01-26T11:43:13.528976Z",
     "start_time": "2021-01-26T11:43:12.220814Z"
    }
   },
   "outputs": [],
   "source": [
    "substancedb.loc[6138726]\n",
    "\n",
    "substancedb.loc[substancedb['Smiles'] == 'COc1ccc(CCl)cc1OCc1ccc(C(F)(F)F)cc1']"
   ]
  },
  {
   "cell_type": "code",
   "execution_count": null,
   "metadata": {
    "ExecuteTime": {
     "end_time": "2021-01-26T11:59:39.398502Z",
     "start_time": "2021-01-26T11:59:28.280164Z"
    }
   },
   "outputs": [],
   "source": [
    "substancedb = substancedb.astype(\n",
    "    {'MolFileAddress': 'str', 'Smiles': 'str', 'Error': 'str'})"
   ]
  },
  {
   "cell_type": "code",
   "execution_count": null,
   "metadata": {
    "ExecuteTime": {
     "end_time": "2021-01-26T12:07:54.037294Z",
     "start_time": "2021-01-26T12:07:54.027301Z"
    }
   },
   "outputs": [],
   "source": [
    "substancedb.dtypes"
   ]
  },
  {
   "cell_type": "code",
   "execution_count": null,
   "metadata": {
    "ExecuteTime": {
     "end_time": "2021-01-26T12:08:21.989746Z",
     "start_time": "2021-01-26T12:08:19.446702Z"
    }
   },
   "outputs": [],
   "source": [
    "substancedb.MolFileAddress.isnull().values.any()\n",
    "substancedb.Smiles.isnull().values.any()\n",
    "substancedb.Error.isnull().values.any()"
   ]
  },
  {
   "cell_type": "markdown",
   "metadata": {},
   "source": [
    "The below indicates all entries where molfiles are unable to be processed. Around 1,281,117 compounds are not processable by RDKit, of which 1,281,041 is due to valence error and 76 are due to kekulization errors (related to lack of specification of hydrogens on rings). Most of these are massive compounds containing in excess of 40 carbons and 80 hydrogens."
   ]
  },
  {
   "cell_type": "code",
   "execution_count": null,
   "metadata": {
    "ExecuteTime": {
     "end_time": "2021-01-26T12:42:06.512786Z",
     "start_time": "2021-01-26T12:42:03.596509Z"
    }
   },
   "outputs": [],
   "source": [
    "substancedb[substancedb['Error'] != 'No'].count()\n",
    "substancedb[substancedb['Error'] == 'Valence error'].count()"
   ]
  },
  {
   "cell_type": "code",
   "execution_count": null,
   "metadata": {
    "ExecuteTime": {
     "end_time": "2021-02-01T04:34:22.629435Z",
     "start_time": "2021-02-01T04:34:19.405627Z"
    }
   },
   "outputs": [],
   "source": [
    "substancedb[(substancedb['Error'] != 'Valence error')\n",
    "            & (substancedb['Error'] != 'No')]"
   ]
  },
  {
   "cell_type": "code",
   "execution_count": null,
   "metadata": {
    "ExecuteTime": {
     "end_time": "2021-02-10T14:05:09.692916Z",
     "start_time": "2021-02-10T14:05:09.669727Z"
    }
   },
   "outputs": [],
   "source": [
    "substancedb"
   ]
  },
  {
   "cell_type": "markdown",
   "metadata": {},
   "source": [
    "Next, the goal is to identify mixtures or reaxys compounds that contain multiple substances (eg. salts). This is useful in the future as retrieving carrier fragments will entail splitting of the smiles string."
   ]
  },
  {
   "cell_type": "code",
   "execution_count": null,
   "metadata": {
    "ExecuteTime": {
     "end_time": "2021-02-10T14:12:59.594662Z",
     "start_time": "2021-02-10T14:12:44.430813Z"
    }
   },
   "outputs": [],
   "source": [
    "substancedbdask = dd.from_pandas(substancedb, npartitions=16)\n",
    "substancedbdask = client.persist(substancedbdask)"
   ]
  },
  {
   "cell_type": "code",
   "execution_count": null,
   "metadata": {
    "ExecuteTime": {
     "end_time": "2021-02-10T14:25:13.926330Z",
     "start_time": "2021-02-10T14:24:44.964393Z"
    }
   },
   "outputs": [],
   "source": [
    "mixturecol=substancedbdask.map_partitions(findMixturespartition,meta=('>1 Compound','boolean')).compute()\n",
    "substancedb=joindf(pd.DataFrame(mixturecol),substancedb)\n",
    "substancedb"
   ]
  },
  {
   "cell_type": "code",
   "execution_count": null,
   "metadata": {},
   "outputs": [],
   "source": [
    "substancedb.reset_index(inplace=True)\n",
    "substancedb.set_index(['Smiles','SubstanceID'],inplace=True)"
   ]
  },
  {
   "cell_type": "code",
   "execution_count": null,
   "metadata": {
    "ExecuteTime": {
     "end_time": "2021-02-10T14:28:13.152905Z",
     "start_time": "2021-02-10T14:27:41.787612Z"
    }
   },
   "outputs": [],
   "source": [
    "writepickle(substancedb, '/home/aa2133/Impurity-Project/Reaxys_Data/SubstanceDB')"
   ]
  },
  {
   "cell_type": "markdown",
   "metadata": {},
   "source": [
    "# Running fragment detection"
   ]
  },
  {
   "cell_type": "markdown",
   "metadata": {},
   "source": [
    "## Building dask dataframe from cleaned substance database"
   ]
  },
  {
   "cell_type": "markdown",
   "metadata": {},
   "source": [
    "The cells below build a dask dataframe with 16 partitions for faster parallel computation. It does not take up much memory in the server as a result, but is slower at reading/fetching indexed data. The final file is written to parquet (This has been deprecated as it takes too much memory. It is more advisable to generate a dask dataframe from pandas)"
   ]
  },
  {
   "cell_type": "code",
   "execution_count": null,
   "metadata": {
    "ExecuteTime": {
     "end_time": "2021-02-10T14:30:39.632811Z",
     "start_time": "2021-02-10T14:29:50.866250Z"
    }
   },
   "outputs": [],
   "source": [
    "substancedbdask = dd.from_pandas(substancedb, npartitions=16)"
   ]
  },
  {
   "cell_type": "code",
   "execution_count": null,
   "metadata": {
    "ExecuteTime": {
     "end_time": "2021-02-10T14:30:58.718561Z",
     "start_time": "2021-02-10T14:30:53.896977Z"
    }
   },
   "outputs": [],
   "source": [
    "substancedbdask = client.persist(substancedbdask)"
   ]
  },
  {
   "cell_type": "code",
   "execution_count": null,
   "metadata": {
    "ExecuteTime": {
     "end_time": "2021-01-26T12:55:46.070957Z",
     "start_time": "2021-01-26T12:55:30.955957Z"
    }
   },
   "outputs": [],
   "source": [
    "# substancedbdask.to_parquet(\n",
    "#     \"/home/aa2133/Impurity-Project/Reaxys_Data/SubstanceDBDask\")"
   ]
  },
  {
   "cell_type": "markdown",
   "metadata": {},
   "source": [
    "## Loading dataframe and testing"
   ]
  },
  {
   "cell_type": "code",
   "execution_count": null,
   "metadata": {
    "ExecuteTime": {
     "end_time": "2021-01-28T07:24:49.851318Z",
     "start_time": "2021-01-28T07:24:49.790751Z"
    }
   },
   "outputs": [],
   "source": [
    "# substancedbdask = dd.read_parquet(\n",
    "#     \"/home/aa2133/Impurity-Project/Reaxys_Data/SubstanceDBDask\")"
   ]
  },
  {
   "cell_type": "code",
   "execution_count": null,
   "metadata": {
    "ExecuteTime": {
     "end_time": "2021-02-10T14:51:52.148744Z",
     "start_time": "2021-02-10T14:51:52.136009Z"
    }
   },
   "outputs": [],
   "source": [
    "substancedbdask.info()"
   ]
  },
  {
   "cell_type": "code",
   "execution_count": null,
   "metadata": {
    "ExecuteTime": {
     "end_time": "2021-02-10T14:52:29.404329Z",
     "start_time": "2021-02-10T14:52:29.328573Z"
    }
   },
   "outputs": [],
   "source": [
    "substancedbdask.get_partition(2)\n",
    "substancedbdask.memory_usage_per_partition().compute()"
   ]
  },
  {
   "cell_type": "code",
   "execution_count": null,
   "metadata": {
    "ExecuteTime": {
     "end_time": "2021-02-10T14:52:44.699430Z",
     "start_time": "2021-02-10T14:52:44.405683Z"
    },
    "scrolled": false
   },
   "outputs": [],
   "source": [
    "substancedbdask.loc[2632386].compute()\n",
    "\n",
    "substancedbdask.loc[substancedbdask['Smiles']\n",
    "                    == 'Nc1cc(F)c(N2CC(F)C2)c(F)c1'].compute()"
   ]
  },
  {
   "cell_type": "code",
   "execution_count": null,
   "metadata": {
    "ExecuteTime": {
     "end_time": "2021-02-10T14:52:55.724168Z",
     "start_time": "2021-02-10T14:52:55.691222Z"
    }
   },
   "outputs": [],
   "source": [
    "substancedbdask.loc[2632386].compute()"
   ]
  },
  {
   "cell_type": "code",
   "execution_count": null,
   "metadata": {
    "ExecuteTime": {
     "end_time": "2021-01-26T16:28:28.963251Z",
     "start_time": "2021-01-26T16:28:28.940694Z"
    }
   },
   "outputs": [],
   "source": [
    "g = substancedbdask.loc[2632386, 'Smiles'].compute()[2632386]\n",
    "g"
   ]
  },
  {
   "cell_type": "code",
   "execution_count": null,
   "metadata": {
    "ExecuteTime": {
     "end_time": "2021-01-26T16:29:07.932660Z",
     "start_time": "2021-01-26T16:29:07.925224Z"
    }
   },
   "outputs": [],
   "source": [
    "f = substancedb.loc[2632386, 'Smiles']\n",
    "f"
   ]
  },
  {
   "cell_type": "markdown",
   "metadata": {},
   "source": [
    "Now, the question remains whether it is best to build another column row by row or build a dataframe from an entire column. https://towardsdatascience.com/apply-function-to-pandas-dataframe-rows-76df74165ee4 has more details. Building an entire column, and appending this to the dataframe is better and has been implemented."
   ]
  },
  {
   "cell_type": "markdown",
   "metadata": {},
   "source": [
    "## Creating dask dataframe to house fragment data"
   ]
  },
  {
   "cell_type": "markdown",
   "metadata": {},
   "source": [
    "Creating a new dataframe to house information on fragments. This is a subset of the substance database containing only substance IDs, Smiles and mixture identification where molfiles CAN be processed. The index is reset (as indexing is the same across all partitions ie. 1 to 1000000 for partition 1, 1 to 1000000 for partition2 and so on), and a dask dataframe (substancedbdask2) is generated. Totally 14.8 million compounds out of the original 16 million compounds can be processed this way."
   ]
  },
  {
   "cell_type": "code",
   "execution_count": null,
   "metadata": {
    "ExecuteTime": {
     "end_time": "2021-02-11T03:38:13.233023Z",
     "start_time": "2021-02-11T03:38:00.676287Z"
    }
   },
   "outputs": [],
   "source": [
    "fdbm=substancedb.reset_index()[['SubstanceID', 'Smiles','>1 Compound']]\n",
    "fdbm=fdbm[fdbm.Smiles!='Error']\n",
    "substancedbdask2=dd.from_pandas(fdbm,npartitions=16)\n",
    "substancedbdask2=client.persist(substancedbdask2)"
   ]
  },
  {
   "cell_type": "code",
   "execution_count": null,
   "metadata": {
    "ExecuteTime": {
     "end_time": "2021-02-10T16:14:06.657494Z",
     "start_time": "2021-02-10T16:14:05.812979Z"
    }
   },
   "outputs": [],
   "source": [
    "substancedbdask2['SubstanceID'].count().compute()"
   ]
  },
  {
   "cell_type": "markdown",
   "metadata": {},
   "source": [
    "## Simple solution (Pandas)"
   ]
  },
  {
   "cell_type": "markdown",
   "metadata": {},
   "source": [
    "The bottom section served to highlight how inefficient it is using pandas (single core)"
   ]
  },
  {
   "cell_type": "code",
   "execution_count": null,
   "metadata": {
    "ExecuteTime": {
     "end_time": "2021-01-27T08:12:17.159361Z",
     "start_time": "2021-01-27T08:12:16.842279Z"
    }
   },
   "outputs": [],
   "source": [
    "testset = substancedbdask2.head(100000)"
   ]
  },
  {
   "cell_type": "code",
   "execution_count": null,
   "metadata": {
    "ExecuteTime": {
     "end_time": "2021-01-27T08:07:14.231110Z",
     "start_time": "2021-01-27T08:07:14.211702Z"
    }
   },
   "outputs": [],
   "source": [
    "testset"
   ]
  },
  {
   "cell_type": "code",
   "execution_count": null,
   "metadata": {
    "ExecuteTime": {
     "end_time": "2021-01-27T08:06:18.285876Z",
     "start_time": "2021-01-27T08:06:15.841129Z"
    }
   },
   "outputs": [],
   "source": [
    "applycol=testset.apply(getfrags,natoms=0,axis=1)"
   ]
  },
  {
   "cell_type": "markdown",
   "metadata": {},
   "source": [
    "2.17 seconds per every 100 rows translates to {{2.17*(16000000/100)/3600}} hours"
   ]
  },
  {
   "cell_type": "code",
   "execution_count": null,
   "metadata": {
    "ExecuteTime": {
     "end_time": "2021-01-27T08:05:47.184176Z",
     "start_time": "2021-01-27T08:05:47.172136Z"
    }
   },
   "outputs": [],
   "source": [
    "applycol"
   ]
  },
  {
   "cell_type": "markdown",
   "metadata": {},
   "source": [
    "## Simple solution (parallel)"
   ]
  },
  {
   "cell_type": "markdown",
   "metadata": {},
   "source": [
    "This employs dask. However, it is slower for smaller datasets. The get carrier frags function is applied to each partition in the modified substance database using all 16 cores for carrier fragments (n=6). Subsequently, fragment smiles are calculated by processing the fragment smarts. The reason for this is that there are many smarts representations of a fragment structure but only one canonical smiles, so filtering the database by canonical smiles can capture more analogue compounds. This workflow is first tested on a test set of 100 compounds to ensure everything work smoothly and then tested on the entire dataset. The results are stored in pickle files on the server"
   ]
  },
  {
   "cell_type": "markdown",
   "metadata": {},
   "source": [
    "### Test set"
   ]
  },
  {
   "cell_type": "code",
   "execution_count": null,
   "metadata": {
    "ExecuteTime": {
     "end_time": "2021-02-10T17:33:49.442052Z",
     "start_time": "2021-02-10T17:33:49.391989Z"
    }
   },
   "outputs": [],
   "source": [
    "dasktestset=dd.from_pandas(substancedbdask2.loc[:100].compute(),npartitions=16)\n",
    "dasktestset=client.persist(dasktestset)"
   ]
  },
  {
   "cell_type": "code",
   "execution_count": null,
   "metadata": {
    "ExecuteTime": {
     "end_time": "2021-02-10T17:49:24.161360Z",
     "start_time": "2021-02-10T17:49:24.078027Z"
    }
   },
   "outputs": [],
   "source": [
    "dasktestset.loc[dasktestset['>1 Compound']==True].compute()"
   ]
  },
  {
   "cell_type": "code",
   "execution_count": null,
   "metadata": {
    "ExecuteTime": {
     "end_time": "2021-02-10T18:21:09.757940Z",
     "start_time": "2021-02-10T18:21:09.593903Z"
    }
   },
   "outputs": [],
   "source": [
    "applycolp2=dasktestset.map_partitions(getfragpartition,natoms=6,meta=('FragmentSmarts','O')).compute()\n",
    "dasktestset=client.persist(dd.from_pandas(joindf(pd.DataFrame(applycolp2),substancedbdask2.loc[:100].compute()),npartitions=16)) "
   ]
  },
  {
   "cell_type": "code",
   "execution_count": null,
   "metadata": {
    "ExecuteTime": {
     "end_time": "2021-02-10T18:21:12.160040Z",
     "start_time": "2021-02-10T18:21:12.062617Z"
    }
   },
   "outputs": [],
   "source": [
    "applycolp3=dasktestset.map_partitions(getsmilespartition,meta=('FragmentSmiles','O')).compute()"
   ]
  },
  {
   "cell_type": "code",
   "execution_count": null,
   "metadata": {
    "ExecuteTime": {
     "end_time": "2021-02-10T18:21:14.162722Z",
     "start_time": "2021-02-10T18:21:14.120710Z"
    }
   },
   "outputs": [],
   "source": [
    "finaldb=joindf(pd.DataFrame(applycolp3),joindf(pd.DataFrame(applycolp2),substancedbdask2.loc[:100].compute()))"
   ]
  },
  {
   "cell_type": "code",
   "execution_count": null,
   "metadata": {
    "ExecuteTime": {
     "end_time": "2021-02-10T18:39:43.323246Z",
     "start_time": "2021-02-10T18:39:43.287405Z"
    }
   },
   "outputs": [],
   "source": [
    "finaldb2=joindf(pd.DataFrame(applycolp2),substancedbdask2.loc[:100].compute())"
   ]
  },
  {
   "cell_type": "code",
   "execution_count": null,
   "metadata": {
    "ExecuteTime": {
     "end_time": "2021-02-10T18:40:25.649142Z",
     "start_time": "2021-02-10T18:40:25.382392Z"
    }
   },
   "outputs": [],
   "source": [
    "finaldb2=finaldb2.explode('FragmentSmarts')"
   ]
  },
  {
   "cell_type": "code",
   "execution_count": null,
   "metadata": {
    "ExecuteTime": {
     "end_time": "2021-02-10T18:44:38.480020Z",
     "start_time": "2021-02-10T18:44:38.465433Z"
    }
   },
   "outputs": [],
   "source": [
    "finaldb2.loc[finaldb2['FragmentSmarts']=='Error']"
   ]
  },
  {
   "cell_type": "code",
   "execution_count": null,
   "metadata": {
    "ExecuteTime": {
     "end_time": "2021-02-10T18:41:50.675666Z",
     "start_time": "2021-02-10T18:41:50.646564Z"
    }
   },
   "outputs": [],
   "source": [
    "pd.DataFrame(applycolp3).explode('FragmentSmiles')"
   ]
  },
  {
   "cell_type": "code",
   "execution_count": null,
   "metadata": {
    "ExecuteTime": {
     "end_time": "2021-02-10T18:21:16.234203Z",
     "start_time": "2021-02-10T18:21:16.223144Z"
    }
   },
   "outputs": [],
   "source": [
    "finaldb.loc[1].FragmentSmarts\n",
    "finaldb.loc[1].FragmentSmiles"
   ]
  },
  {
   "cell_type": "code",
   "execution_count": null,
   "metadata": {
    "ExecuteTime": {
     "end_time": "2021-02-10T18:02:43.638010Z",
     "start_time": "2021-02-10T18:02:43.625314Z"
    }
   },
   "outputs": [],
   "source": [
    "finaldb.loc[1]"
   ]
  },
  {
   "cell_type": "markdown",
   "metadata": {},
   "source": [
    "Something to take note is that the fragment smarts should be used in substructure searches instead of fragment smiles, as it is often invalid/cannot generate a valid molecule due to valence errors."
   ]
  },
  {
   "cell_type": "code",
   "execution_count": null,
   "metadata": {
    "ExecuteTime": {
     "end_time": "2021-02-10T18:21:23.588577Z",
     "start_time": "2021-02-10T18:21:23.571432Z"
    }
   },
   "outputs": [],
   "source": [
    "mol_with_atom_index(Chem.MolFromSmarts('[#6]-[#6](:[#7]:[#6](:[#6]):[#6]):[#6]'))\n",
    "Chem.MolFromSmiles('C:C(C):N:C(:C):C')"
   ]
  },
  {
   "cell_type": "code",
   "execution_count": null,
   "metadata": {
    "ExecuteTime": {
     "end_time": "2021-02-10T18:34:14.089014Z",
     "start_time": "2021-02-10T18:34:14.080931Z"
    }
   },
   "outputs": [],
   "source": [
    "testmol=Chem.MolFromSmiles('Cc1cc(-c2nc3cc(F)ccc3c3cc4c(cc23)OCO4)ccc1F')\n",
    "testmol=Chem.AddHs(testmol)\n",
    "patt=Chem.MolFromSmarts('[#6]-[#6](:[#7]:[#6](:[#6]):[#6]):[#6]')"
   ]
  },
  {
   "cell_type": "code",
   "execution_count": null,
   "metadata": {
    "ExecuteTime": {
     "end_time": "2021-02-10T18:34:15.908787Z",
     "start_time": "2021-02-10T18:34:15.900841Z"
    }
   },
   "outputs": [],
   "source": [
    "testmol.GetSubstructMatches(patt)"
   ]
  },
  {
   "cell_type": "code",
   "execution_count": null,
   "metadata": {
    "ExecuteTime": {
     "end_time": "2021-02-10T18:34:18.117038Z",
     "start_time": "2021-02-10T18:34:18.077156Z"
    }
   },
   "outputs": [],
   "source": [
    "testmol"
   ]
  },
  {
   "cell_type": "code",
   "execution_count": null,
   "metadata": {
    "ExecuteTime": {
     "end_time": "2021-02-10T17:21:15.933388Z",
     "start_time": "2021-02-10T17:21:15.906051Z"
    }
   },
   "outputs": [],
   "source": [
    "dasktestset.loc[0].compute()['Smiles'].values[0]"
   ]
  },
  {
   "cell_type": "markdown",
   "metadata": {},
   "source": [
    "### Real dataset"
   ]
  },
  {
   "cell_type": "code",
   "execution_count": null,
   "metadata": {
    "ExecuteTime": {
     "start_time": "2021-02-10T18:55:45.277Z"
    }
   },
   "outputs": [],
   "source": [
    "carrierfragsmarts=substancedbdask2.map_partitions(getfragpartition,natoms=6,meta=('FragmentSmarts','O')).compute()\n",
    "carrierfragsmartsdf=pd.DataFrame(carrierfragsmarts)\n",
    "writepickle(carrierfragsmartsdf,\"/home/aa2133/Impurity-Project/Reaxys_Data/fragsmarts(n=6)\")\n",
    "\n",
    "substancedbdask2=client.persist(dd.from_pandas(joindf(carrierfragsmartsdf,fdbm),npartitions=16))\n",
    "carrierfragsmiles=substancedbdask2.map_partitions(getsmilespartition,meta=('FragmentSmiles','O')).compute()\n",
    "carrierfragsmilesdf=pd.DataFrame(carrierfragsmiles)\n",
    "writepickle(carrierfragsmilesdf,\"/home/aa2133/Impurity-Project/Reaxys_Data/fragsmiles(n=6)\")"
   ]
  },
  {
   "cell_type": "code",
   "execution_count": null,
   "metadata": {
    "ExecuteTime": {
     "end_time": "2021-02-11T03:41:07.212034Z",
     "start_time": "2021-02-11T03:39:37.346991Z"
    }
   },
   "outputs": [],
   "source": [
    "carrierfragsmartsdf=openpickle(\"/home/aa2133/Impurity-Project/Reaxys_Data/fragsmarts(n=6).pickle\")\n",
    "carrierfragsmilesdf=openpickle(\"/home/aa2133/Impurity-Project/Reaxys_Data/fragsmiles(n=6).pickle\")"
   ]
  },
  {
   "cell_type": "markdown",
   "metadata": {},
   "source": [
    "We now have columns for fragment smarts and fragment smiles of each compound in the database, taking roughly 1.5 hours using 16 cores on the server. This is almost 100 times faster than just using a single core, which would take almost 3-4 days."
   ]
  },
  {
   "cell_type": "code",
   "execution_count": null,
   "metadata": {
    "ExecuteTime": {
     "end_time": "2021-02-11T03:41:11.297422Z",
     "start_time": "2021-02-11T03:41:10.962134Z"
    }
   },
   "outputs": [],
   "source": [
    "carrierfragsmartsdf\n",
    "carrierfragsmilesdf"
   ]
  },
  {
   "cell_type": "code",
   "execution_count": null,
   "metadata": {
    "ExecuteTime": {
     "end_time": "2021-02-11T02:47:19.530585Z",
     "start_time": "2021-02-11T02:47:17.369656Z"
    }
   },
   "outputs": [],
   "source": [
    "substancedbdask2.memory_usage(deep=True).compute()"
   ]
  },
  {
   "cell_type": "markdown",
   "metadata": {},
   "source": [
    "Restarting workers after computation will free up memory"
   ]
  },
  {
   "cell_type": "code",
   "execution_count": null,
   "metadata": {
    "ExecuteTime": {
     "end_time": "2021-02-11T02:58:21.836690Z",
     "start_time": "2021-02-11T02:58:12.670683Z"
    }
   },
   "outputs": [],
   "source": [
    "client.restart()"
   ]
  },
  {
   "cell_type": "markdown",
   "metadata": {},
   "source": [
    "# Assembling final dataframe"
   ]
  },
  {
   "cell_type": "code",
   "execution_count": null,
   "metadata": {
    "ExecuteTime": {
     "end_time": "2021-02-11T04:23:20.690943Z",
     "start_time": "2021-02-11T04:23:20.673431Z"
    }
   },
   "outputs": [],
   "source": [
    "fdbm"
   ]
  },
  {
   "cell_type": "markdown",
   "metadata": {},
   "source": [
    "Now that we have all the columns we intend to add, we can merge the fragment smarts and fragment smiles columns (exploded so each column is a new fragment), and merge the combined dataframe with the master database (fdbm). The index is set to a multiindex, containing fragment smiles and substance ID.  Keep in mind that if generating a dask dataframe from this, the index needs to be reset as dask is not compatible with multiindex. The final file is writted to disk. A test is done on 20 rows and then replicated for the entire dataset. It is hard to reshuffle data in the final database due to its size (68 million rows) or implode it back to a list form. There may be a better way to handle such large datasets (SQL for instance, but on trying this, the disk space is massive due to metadata >18 gb)."
   ]
  },
  {
   "cell_type": "code",
   "execution_count": null,
   "metadata": {
    "ExecuteTime": {
     "end_time": "2021-02-11T04:30:39.376803Z",
     "start_time": "2021-02-11T04:30:39.370283Z"
    }
   },
   "outputs": [],
   "source": [
    "fdbmlite=fdbm.loc[:20]"
   ]
  },
  {
   "cell_type": "code",
   "execution_count": null,
   "metadata": {
    "ExecuteTime": {
     "end_time": "2021-02-11T04:30:44.713147Z",
     "start_time": "2021-02-11T04:30:44.695040Z"
    }
   },
   "outputs": [],
   "source": [
    "fdbmlite\n",
    "cfsmartslite=carrierfragsmartsdf.loc[:20]\n",
    "cfsmileslite=carrierfragsmilesdf.loc[:20]"
   ]
  },
  {
   "cell_type": "code",
   "execution_count": null,
   "metadata": {
    "ExecuteTime": {
     "end_time": "2021-02-11T04:46:57.864580Z",
     "start_time": "2021-02-11T04:46:57.808926Z"
    }
   },
   "outputs": [],
   "source": [
    "cfsmarts=cfsmartslite.explode('FragmentSmarts')\n",
    "cfsmarts['FragmentSmiles']=cfsmileslite.explode('FragmentSmiles')\n",
    "joindf(cfsmarts,fdbmlite)"
   ]
  },
  {
   "cell_type": "code",
   "execution_count": null,
   "metadata": {
    "ExecuteTime": {
     "end_time": "2021-02-11T04:43:38.262644Z",
     "start_time": "2021-02-11T04:42:22.311816Z"
    }
   },
   "outputs": [],
   "source": [
    "carrierfragsmartsdf=carrierfragsmartsdf.explode('FragmentSmarts')\n",
    "carrierfragsmartsdf['FragmentSmiles']=carrierfragsmilesdf.explode('FragmentSmiles')"
   ]
  },
  {
   "cell_type": "code",
   "execution_count": null,
   "metadata": {
    "ExecuteTime": {
     "end_time": "2021-02-11T04:43:41.683606Z",
     "start_time": "2021-02-11T04:43:41.663124Z"
    }
   },
   "outputs": [],
   "source": [
    "carrierfragsmartsdf"
   ]
  },
  {
   "cell_type": "code",
   "execution_count": null,
   "metadata": {
    "ExecuteTime": {
     "end_time": "2021-02-11T04:49:52.189506Z",
     "start_time": "2021-02-11T04:49:48.198118Z"
    }
   },
   "outputs": [],
   "source": [
    "fdbm.drop('FragmentSmarts',axis=1,inplace=True) #Option (to clean dataframe if excess columns are already there)"
   ]
  },
  {
   "cell_type": "code",
   "execution_count": null,
   "metadata": {
    "ExecuteTime": {
     "end_time": "2021-02-11T04:50:49.583228Z",
     "start_time": "2021-02-11T04:50:33.504912Z"
    }
   },
   "outputs": [],
   "source": [
    "fdbm=joindf(carrierfragsmartsdf,fdbm)"
   ]
  },
  {
   "cell_type": "code",
   "execution_count": null,
   "metadata": {
    "ExecuteTime": {
     "end_time": "2021-02-11T04:50:59.745618Z",
     "start_time": "2021-02-11T04:50:59.712474Z"
    },
    "scrolled": true
   },
   "outputs": [],
   "source": [
    "fdbm"
   ]
  },
  {
   "cell_type": "code",
   "execution_count": null,
   "metadata": {
    "ExecuteTime": {
     "end_time": "2021-02-11T04:53:04.287595Z",
     "start_time": "2021-02-11T04:53:04.279284Z"
    }
   },
   "outputs": [],
   "source": [
    "fdbm.index"
   ]
  },
  {
   "cell_type": "code",
   "execution_count": null,
   "metadata": {
    "ExecuteTime": {
     "end_time": "2021-02-11T04:56:51.447772Z",
     "start_time": "2021-02-11T04:56:13.223819Z"
    }
   },
   "outputs": [],
   "source": [
    "fdbm.set_index(['FragmentSmiles','SubstanceID'],inplace=True)"
   ]
  },
  {
   "cell_type": "code",
   "execution_count": null,
   "metadata": {
    "ExecuteTime": {
     "end_time": "2021-02-11T05:00:18.606765Z",
     "start_time": "2021-02-11T04:58:55.735684Z"
    }
   },
   "outputs": [],
   "source": [
    "writepickle(fdbm,'/home/aa2133/Impurity-Project/Reaxys_Data/CarrierFragmentDB(n=6)')"
   ]
  },
  {
   "cell_type": "markdown",
   "metadata": {},
   "source": [
    "The entire above workflow (Section 4) has been condensed into a function, `buildfragmentdb`in Section 1. Applying this function to generate the active fragment (n = 0) database"
   ]
  },
  {
   "cell_type": "code",
   "execution_count": null,
   "metadata": {
    "ExecuteTime": {
     "end_time": "2021-01-29T10:29:46.578120Z",
     "start_time": "2021-01-29T10:26:19.265532Z"
    }
   },
   "outputs": [],
   "source": [
    "buildfragdb(fdbm=testset,fragseries=openpickle(\"/home/aa2133/Impurity-Project/Reaxys_Data/cf_res.pickle\"),pfdb=True,writepfdb=\"/home/aa2133/Impurity-Project/Reaxys_Data/CarrierFragment(n=6)DB\")"
   ]
  },
  {
   "cell_type": "code",
   "execution_count": null,
   "metadata": {
    "ExecuteTime": {
     "end_time": "2021-01-29T16:39:31.379292Z",
     "start_time": "2021-01-29T16:37:10.877381Z"
    }
   },
   "outputs": [],
   "source": [
    "buildfragdb(fdb=ActiveFragmentDB,dfdb=True,writedfdb='/home/aa2133/Impurity-Project/Reaxys_Data/ActiveFragmentDBDask')"
   ]
  },
  {
   "cell_type": "code",
   "execution_count": null,
   "metadata": {
    "ExecuteTime": {
     "end_time": "2021-01-29T16:43:06.269664Z",
     "start_time": "2021-01-29T16:40:24.573916Z"
    }
   },
   "outputs": [],
   "source": [
    "buildfragdb(fdb=CarrierFragmentDB,dfdb=True,writedfdb='/home/aa2133/Impurity-Project/Reaxys_Data/CarrierFragmentDBDask(n=6)')"
   ]
  },
  {
   "cell_type": "code",
   "execution_count": null,
   "metadata": {
    "ExecuteTime": {
     "end_time": "2021-01-30T12:46:27.828322Z",
     "start_time": "2021-01-30T12:45:20.646873Z"
    }
   },
   "outputs": [],
   "source": [
    "buildfragdb(fdb=openpickle(\"/home/aa2133/Impurity-Project/Reaxys_Data/ActiveFragmentDB.pickle\"),pfdb=True,writepfdb=\"/home/aa2133/Impurity-Project/Reaxys_Data/ActiveFragmentDB\")"
   ]
  },
  {
   "cell_type": "code",
   "execution_count": null,
   "metadata": {
    "ExecuteTime": {
     "end_time": "2021-02-03T18:17:42.476032Z",
     "start_time": "2021-02-03T18:17:09.523273Z"
    }
   },
   "outputs": [],
   "source": [
    "buildfragdb(fdb=CarrierFragmentDB,writepfdb=\"/home/aa2133/Impurity-Project/Reaxys_Data/CarrierFragmentDB(n=6)\")"
   ]
  },
  {
   "cell_type": "markdown",
   "metadata": {},
   "source": [
    "# Testing and cleaning"
   ]
  },
  {
   "cell_type": "markdown",
   "metadata": {
    "ExecuteTime": {
     "end_time": "2021-01-29T17:03:15.086262Z",
     "start_time": "2021-01-29T17:03:15.079407Z"
    }
   },
   "source": [
    "The main takeaways here are that the dask dataframe is faster on multiple tries after persisting than pandas version due to more cores able to search. Also, it is more amenable for intensive parallel computation that requires processing of each row. However, it is far more memory intensive, takes up more space (by a factor of 8 times in some cases) on disk and does not support multi-indexing. \n",
    "\n",
    "As the dask database is likely to be grouped by fragment it makes the most sense to apply it as an index (keeping in mind that creating a dask dataframe needs to be done by resetting the index or setting substance id as an index). *This is difficult, as the kernel keeps dying for some reason. For now, substance ID is kept as the index.*\n",
    "\n",
    "For the pandas dataframe, multindexing by fragment and substance ID is most effective both in reducing disk space of the database, and speed of access. If the database can be loaded to memory, pandas is preferable (Takes roughly 1.5 minutes to load)."
   ]
  },
  {
   "cell_type": "markdown",
   "metadata": {},
   "source": [
    "## Carrier Fragment Database (n=6)"
   ]
  },
  {
   "cell_type": "markdown",
   "metadata": {},
   "source": [
    "### Dask dataframe"
   ]
  },
  {
   "cell_type": "code",
   "execution_count": null,
   "metadata": {
    "ExecuteTime": {
     "end_time": "2021-02-01T09:34:43.052337Z",
     "start_time": "2021-02-01T09:34:42.812985Z"
    }
   },
   "outputs": [],
   "source": [
    "CarrierFragmentDBDask=dd.read_parquet('/home/aa2133/Impurity-Project/Reaxys_Data/CarrierFragmentDBDask(n=6)')"
   ]
  },
  {
   "cell_type": "code",
   "execution_count": null,
   "metadata": {
    "ExecuteTime": {
     "end_time": "2021-02-01T08:51:54.696127Z",
     "start_time": "2021-02-01T08:51:54.684189Z"
    }
   },
   "outputs": [],
   "source": [
    "CarrierFragmentDB.set_index('SubstanceID',inplace=True)"
   ]
  },
  {
   "cell_type": "code",
   "execution_count": null,
   "metadata": {
    "ExecuteTime": {
     "end_time": "2021-02-01T09:34:58.904814Z",
     "start_time": "2021-02-01T09:34:58.811806Z"
    }
   },
   "outputs": [],
   "source": [
    "CarrierFragmentDBDask=dd.from_pandas(CarrierFragmentDB,npartitions=181)\n",
    "\n",
    "# CarrierFragmentDBDask=CarrierFragmentDBDask.repartition(partition_size=100000000)\n",
    "\n",
    "CarrierFragmentDBDask=client.persist(CarrierFragmentDBDask)"
   ]
  },
  {
   "cell_type": "code",
   "execution_count": null,
   "metadata": {
    "ExecuteTime": {
     "end_time": "2021-02-01T09:09:33.093669Z",
     "start_time": "2021-02-01T09:09:31.830506Z"
    }
   },
   "outputs": [],
   "source": [
    "CarrierFragmentDBDask.loc[CarrierFragmentDBDask['CarrierFragments']=='[#7](-[#6](:[#6]):[#6])(-[H])-[H]'].compute()"
   ]
  },
  {
   "cell_type": "code",
   "execution_count": null,
   "metadata": {
    "ExecuteTime": {
     "end_time": "2021-02-01T09:13:02.335962Z",
     "start_time": "2021-02-01T09:11:54.243033Z"
    }
   },
   "outputs": [],
   "source": [
    "CarrierFragmentDBDask.to_parquet('/home/aa2133/Impurity-Project/Reaxys_Data/CarrierFragmentDBDask(n=6)')"
   ]
  },
  {
   "cell_type": "code",
   "execution_count": null,
   "metadata": {
    "ExecuteTime": {
     "end_time": "2021-02-01T09:32:04.294902Z",
     "start_time": "2021-02-01T09:32:04.176536Z"
    }
   },
   "outputs": [],
   "source": [
    "CarrierFragmentDB2=openpickle('/home/aa2133/Impurity-Project/Reaxys_Data/CarrierFragmentDBDask(n=6).pickle')"
   ]
  },
  {
   "cell_type": "code",
   "execution_count": null,
   "metadata": {
    "ExecuteTime": {
     "end_time": "2021-02-01T09:15:32.351835Z",
     "start_time": "2021-02-01T09:15:32.339996Z"
    }
   },
   "outputs": [],
   "source": [
    "writepickle(CarrierFragmentDBDask,'/home/aa2133/Impurity-Project/Reaxys_Data/CarrierFragmentDBDask(n=6)')"
   ]
  },
  {
   "cell_type": "code",
   "execution_count": null,
   "metadata": {
    "ExecuteTime": {
     "end_time": "2021-01-29T17:56:03.346652Z",
     "start_time": "2021-01-29T17:56:02.601437Z"
    }
   },
   "outputs": [],
   "source": [
    "demoset=CarrierFragmentDBDask.loc['[#6]-[#6](=[#8])-[#8]-[#6](-[#6])=[#8]'].compute()"
   ]
  },
  {
   "cell_type": "code",
   "execution_count": null,
   "metadata": {
    "ExecuteTime": {
     "end_time": "2021-01-29T17:29:19.476263Z",
     "start_time": "2021-01-29T17:29:18.761047Z"
    }
   },
   "outputs": [],
   "source": [
    "demoset=CarrierFragmentDBDask.loc[CarrierFragmentDBDask['CarrierFragments']=='[#6]-[#6](=[#8])-[#8]-[#6](-[#6])=[#8]'].compute()"
   ]
  },
  {
   "cell_type": "code",
   "execution_count": null,
   "metadata": {
    "ExecuteTime": {
     "end_time": "2021-01-29T18:11:55.677000Z",
     "start_time": "2021-01-29T18:11:55.502562Z"
    }
   },
   "outputs": [],
   "source": [
    "demoset['SubstanceID']"
   ]
  },
  {
   "cell_type": "code",
   "execution_count": null,
   "metadata": {
    "ExecuteTime": {
     "end_time": "2021-01-29T17:34:09.068228Z",
     "start_time": "2021-01-29T17:34:09.045381Z"
    }
   },
   "outputs": [],
   "source": [
    "Chem.MolFromSmiles(demoset.loc[11305,'Smiles'])"
   ]
  },
  {
   "cell_type": "code",
   "execution_count": null,
   "metadata": {
    "ExecuteTime": {
     "end_time": "2021-01-30T11:19:26.531638Z",
     "start_time": "2021-01-30T11:19:26.492470Z"
    }
   },
   "outputs": [],
   "source": [
    "CarrierFragmentDBDask2.loc['Error'].compute()"
   ]
  },
  {
   "cell_type": "code",
   "execution_count": null,
   "metadata": {
    "ExecuteTime": {
     "end_time": "2021-01-30T11:19:23.475167Z",
     "start_time": "2021-01-30T11:19:22.689173Z"
    }
   },
   "outputs": [],
   "source": [
    "CarrierFragmentDBDask.loc[CarrierFragmentDBDask['CarrierFragments']=='Error'].compute()"
   ]
  },
  {
   "cell_type": "code",
   "execution_count": null,
   "metadata": {
    "ExecuteTime": {
     "end_time": "2021-01-30T11:12:32.388518Z",
     "start_time": "2021-01-30T11:12:32.130181Z"
    }
   },
   "outputs": [],
   "source": [
    "CarrierFragmentDBDask.loc[71120:73000].compute()"
   ]
  },
  {
   "cell_type": "code",
   "execution_count": null,
   "metadata": {
    "ExecuteTime": {
     "end_time": "2021-01-29T17:13:27.787399Z",
     "start_time": "2021-01-29T17:13:27.780678Z"
    }
   },
   "outputs": [],
   "source": [
    "CarrierFragmentDBDask.known_divisions"
   ]
  },
  {
   "cell_type": "markdown",
   "metadata": {},
   "source": [
    "### Pandas dataframe"
   ]
  },
  {
   "cell_type": "code",
   "execution_count": null,
   "metadata": {
    "ExecuteTime": {
     "end_time": "2021-02-03T17:01:49.474820Z",
     "start_time": "2021-02-03T17:01:38.939319Z"
    }
   },
   "outputs": [],
   "source": [
    "CarrierFragmentDB=openpickle(\"/home/aa2133/Impurity-Project/Reaxys_Data/CarrierFragmentDB(n=6).pickle\")"
   ]
  },
  {
   "cell_type": "code",
   "execution_count": null,
   "metadata": {
    "ExecuteTime": {
     "end_time": "2021-02-03T17:02:12.768687Z",
     "start_time": "2021-02-03T17:02:09.225962Z"
    }
   },
   "outputs": [],
   "source": [
    "CarrierFragmentDB.reset_index(inplace=True)"
   ]
  },
  {
   "cell_type": "code",
   "execution_count": null,
   "metadata": {
    "ExecuteTime": {
     "end_time": "2021-02-03T17:37:17.273774Z",
     "start_time": "2021-02-03T17:37:17.257928Z"
    }
   },
   "outputs": [],
   "source": [
    "CarrierFragmentDBDask=CarrierFragmentDBDask.rename(columns={'CarrierFragments':'CarrierFragmentSmarts'})"
   ]
  },
  {
   "cell_type": "code",
   "execution_count": null,
   "metadata": {
    "ExecuteTime": {
     "end_time": "2021-02-03T17:41:29.472002Z",
     "start_time": "2021-02-03T17:41:29.439029Z"
    }
   },
   "outputs": [],
   "source": [
    "CarrierFragmentDBDask"
   ]
  },
  {
   "cell_type": "markdown",
   "metadata": {},
   "source": [
    "For information on meta types see https://www.geeksforgeeks.org/data-type-object-dtype-numpy-python/. For how to use it on dask, see make_meta under dask dataframe API"
   ]
  },
  {
   "cell_type": "code",
   "execution_count": null,
   "metadata": {
    "ExecuteTime": {
     "end_time": "2021-02-09T06:15:02.630227Z",
     "start_time": "2021-02-09T06:15:02.581412Z"
    }
   },
   "outputs": [],
   "source": [
    "help(np.dtype)"
   ]
  },
  {
   "cell_type": "code",
   "execution_count": null,
   "metadata": {
    "ExecuteTime": {
     "end_time": "2021-02-03T17:56:24.665809Z",
     "start_time": "2021-02-03T17:46:54.161836Z"
    }
   },
   "outputs": [],
   "source": [
    "smiles=CarrierFragmentDBDask.map_partitions(getsmilespartition,meta=('CarrierFragmentSmiles','O')).compute()"
   ]
  },
  {
   "cell_type": "code",
   "execution_count": null,
   "metadata": {
    "ExecuteTime": {
     "end_time": "2021-02-03T17:57:07.858406Z",
     "start_time": "2021-02-03T17:57:05.529841Z"
    }
   },
   "outputs": [],
   "source": [
    "smilesdf=pd.DataFrame(smiles)"
   ]
  },
  {
   "cell_type": "code",
   "execution_count": null,
   "metadata": {
    "ExecuteTime": {
     "end_time": "2021-02-03T17:58:58.472761Z",
     "start_time": "2021-02-03T17:58:50.803409Z"
    }
   },
   "outputs": [],
   "source": [
    "CarrierFragmentDB=CarrierFragmentDB.join(smilesdf)"
   ]
  },
  {
   "cell_type": "code",
   "execution_count": null,
   "metadata": {
    "ExecuteTime": {
     "end_time": "2021-02-03T18:00:34.010228Z",
     "start_time": "2021-02-03T18:00:33.999324Z"
    }
   },
   "outputs": [],
   "source": [
    "CarrierFragmentDB.rename(columns={'CarrierFragments':'CarrierFragmentSmarts'},inplace=True)"
   ]
  },
  {
   "cell_type": "code",
   "execution_count": null,
   "metadata": {
    "ExecuteTime": {
     "end_time": "2021-02-03T18:04:40.967300Z",
     "start_time": "2021-02-03T18:04:07.765687Z"
    }
   },
   "outputs": [],
   "source": [
    "CarrierFragmentDB.set_index(['CarrierFragmentSmiles','SubstanceID'],inplace=True)"
   ]
  },
  {
   "cell_type": "code",
   "execution_count": null,
   "metadata": {
    "ExecuteTime": {
     "end_time": "2021-02-03T18:04:45.235121Z",
     "start_time": "2021-02-03T18:04:45.213748Z"
    }
   },
   "outputs": [],
   "source": [
    "CarrierFragmentDB.index"
   ]
  },
  {
   "cell_type": "code",
   "execution_count": null,
   "metadata": {
    "ExecuteTime": {
     "end_time": "2021-02-03T18:05:05.702865Z",
     "start_time": "2021-02-03T18:04:57.008815Z"
    }
   },
   "outputs": [],
   "source": [
    "CarrierFragmentDB.loc['Error']"
   ]
  },
  {
   "cell_type": "markdown",
   "metadata": {},
   "source": [
    ".xs is used for multiindexed dataframes"
   ]
  },
  {
   "cell_type": "code",
   "execution_count": null,
   "metadata": {
    "ExecuteTime": {
     "end_time": "2021-02-03T18:05:23.615916Z",
     "start_time": "2021-02-03T18:05:23.343488Z"
    }
   },
   "outputs": [],
   "source": [
    "CarrierFragmentDB.xs('Error')"
   ]
  },
  {
   "cell_type": "code",
   "execution_count": null,
   "metadata": {
    "ExecuteTime": {
     "end_time": "2021-02-01T08:45:14.175075Z",
     "start_time": "2021-02-01T08:45:13.980749Z"
    }
   },
   "outputs": [],
   "source": [
    "test1=CarrierFragmentDB.xs('[#7](-[#6](:[#6]):[#6])(-[H])-[H]').index"
   ]
  },
  {
   "cell_type": "code",
   "execution_count": null,
   "metadata": {
    "ExecuteTime": {
     "end_time": "2021-02-01T08:45:16.975788Z",
     "start_time": "2021-02-01T08:45:16.117790Z"
    }
   },
   "outputs": [],
   "source": [
    "test2=CarrierFragmentDBDask.loc[CarrierFragmentDBDask['CarrierFragments']=='[#7](-[#6](:[#6]):[#6])(-[H])-[H]'].index.compute()"
   ]
  },
  {
   "cell_type": "code",
   "execution_count": null,
   "metadata": {
    "ExecuteTime": {
     "end_time": "2021-02-01T08:50:00.384976Z",
     "start_time": "2021-02-01T08:49:57.409689Z"
    }
   },
   "outputs": [],
   "source": [
    "CarrierFragmentDBDask.index.compute()"
   ]
  },
  {
   "cell_type": "code",
   "execution_count": null,
   "metadata": {
    "ExecuteTime": {
     "end_time": "2021-02-05T14:45:10.525408Z",
     "start_time": "2021-02-05T14:45:10.367899Z"
    }
   },
   "outputs": [],
   "source": [
    "# CarrierFragmentDB.xs(294913,level=1)\n",
    "CarrierFragmentDB.xs(4502,level=1)"
   ]
  },
  {
   "cell_type": "code",
   "execution_count": null,
   "metadata": {
    "ExecuteTime": {
     "end_time": "2021-02-05T14:45:46.559290Z",
     "start_time": "2021-02-05T14:45:46.546090Z"
    }
   },
   "outputs": [],
   "source": [
    "Chem.MolFromSmiles('Nc1ccc2ncccc2c1N')"
   ]
  },
  {
   "cell_type": "code",
   "execution_count": null,
   "metadata": {
    "ExecuteTime": {
     "end_time": "2021-02-03T18:07:53.633774Z",
     "start_time": "2021-02-03T18:07:53.104531Z"
    }
   },
   "outputs": [],
   "source": [
    "CarrierFragmentDB.xs('[H]N([H])C(:C):C')"
   ]
  },
  {
   "cell_type": "code",
   "execution_count": null,
   "metadata": {
    "ExecuteTime": {
     "end_time": "2021-02-03T18:09:00.276407Z",
     "start_time": "2021-02-03T18:08:54.647423Z"
    }
   },
   "outputs": [],
   "source": [
    "CarrierFragmentDB.loc[CarrierFragmentDB['CarrierFragmentSmarts']=='[#7](-[#6](:[#6]):[#6])(-[H])-[H]']"
   ]
  },
  {
   "cell_type": "code",
   "execution_count": null,
   "metadata": {
    "ExecuteTime": {
     "end_time": "2021-02-01T04:29:06.777494Z",
     "start_time": "2021-02-01T04:29:05.363994Z"
    }
   },
   "outputs": [],
   "source": [
    "Chem.MolFromSmarts('[#7](-[#6](:[#6]):[#6])(-[H])-[H]')"
   ]
  },
  {
   "cell_type": "code",
   "execution_count": null,
   "metadata": {
    "ExecuteTime": {
     "end_time": "2021-02-01T15:23:36.999050Z",
     "start_time": "2021-02-01T15:23:36.835868Z"
    }
   },
   "outputs": [],
   "source": [
    "CarrierFragmentDB.xs('[#6]-[#6](=[#8])-[#8]-[#6](-[#6])=[#8]')"
   ]
  },
  {
   "cell_type": "code",
   "execution_count": null,
   "metadata": {
    "ExecuteTime": {
     "end_time": "2021-02-01T04:31:18.808784Z",
     "start_time": "2021-02-01T04:31:18.338503Z"
    }
   },
   "outputs": [],
   "source": [
    "CarrierFragmentDB.xs(11305,level=1,drop_level=False)\n",
    "CarrierFragmentDB.xs('[#6]-[#6](=[#8])-[#8]-[#6](-[#6])=[#8]',drop_level=False)"
   ]
  },
  {
   "cell_type": "code",
   "execution_count": null,
   "metadata": {
    "ExecuteTime": {
     "end_time": "2021-01-29T16:59:26.771439Z",
     "start_time": "2021-01-29T16:59:26.390101Z"
    }
   },
   "outputs": [],
   "source": [
    "Chem.MolFromSmiles('Nc1ccc2[nH]cnc2c1')"
   ]
  },
  {
   "cell_type": "markdown",
   "metadata": {},
   "source": [
    "### SQL Database"
   ]
  },
  {
   "cell_type": "markdown",
   "metadata": {},
   "source": [
    "Very slow write speed (>15 mins for 65 million rows). Only benefit is compatibility outside python, and reading from disk due to memory constraints. It is interestingly quite fast (1 second), and at most half a minute. See https://pandas.pydata.org/pandas-docs/version/0.15.0/io.html#sql-queries. Obviously it cannot compare to in-memory pandas which when indexed properly takes less than a second. However, this could be useful in cases where memory is scarce or the database is far too large to load in memory. "
   ]
  },
  {
   "cell_type": "code",
   "execution_count": null,
   "metadata": {
    "ExecuteTime": {
     "end_time": "2021-02-01T15:51:04.794304Z",
     "start_time": "2021-02-01T15:51:04.789770Z"
    }
   },
   "outputs": [],
   "source": [
    "import sqlite3\n",
    "import os"
   ]
  },
  {
   "cell_type": "code",
   "execution_count": null,
   "metadata": {
    "ExecuteTime": {
     "end_time": "2021-02-01T15:50:39.291174Z",
     "start_time": "2021-02-01T15:50:36.283705Z"
    }
   },
   "outputs": [],
   "source": [
    "CarrierFragmentDB.reset_index(inplace=True)"
   ]
  },
  {
   "cell_type": "code",
   "execution_count": null,
   "metadata": {
    "ExecuteTime": {
     "end_time": "2021-02-01T16:24:52.938745Z",
     "start_time": "2021-02-01T16:24:52.933688Z"
    }
   },
   "outputs": [],
   "source": [
    "db2=sqlite3.connect(\"/home/aa2133/Impurity-Project/Reaxys_Data/SQL/Reaxys_Data.db\")"
   ]
  },
  {
   "cell_type": "code",
   "execution_count": null,
   "metadata": {
    "ExecuteTime": {
     "end_time": "2021-02-01T16:07:58.031285Z",
     "start_time": "2021-02-01T16:07:56.527901Z"
    }
   },
   "outputs": [],
   "source": [
    "CarrierFragmentDB.set_index('CarrierFragments',inplace=True)"
   ]
  },
  {
   "cell_type": "code",
   "execution_count": null,
   "metadata": {
    "ExecuteTime": {
     "end_time": "2021-02-01T16:22:55.781769Z",
     "start_time": "2021-02-01T16:08:20.694193Z"
    }
   },
   "outputs": [],
   "source": [
    "CarrierFragmentDB.to_sql(\"CarrierFragment(n=6)\",db,if_exists=\"replace\")"
   ]
  },
  {
   "cell_type": "code",
   "execution_count": null,
   "metadata": {
    "ExecuteTime": {
     "end_time": "2021-02-02T05:33:22.946237Z",
     "start_time": "2021-02-02T05:30:09.992455Z"
    }
   },
   "outputs": [],
   "source": [
    "cursor = db2.cursor()\n",
    "df = pd.read_sql_query('''select * from [CarrierFragment(n=6)]''', db2)"
   ]
  },
  {
   "cell_type": "code",
   "execution_count": null,
   "metadata": {
    "ExecuteTime": {
     "end_time": "2021-02-02T05:34:38.814077Z",
     "start_time": "2021-02-02T05:34:38.658735Z"
    }
   },
   "outputs": [],
   "source": [
    "df.info()"
   ]
  },
  {
   "cell_type": "code",
   "execution_count": null,
   "metadata": {
    "ExecuteTime": {
     "end_time": "2021-02-01T16:31:37.728334Z",
     "start_time": "2021-02-01T16:31:37.719654Z"
    }
   },
   "outputs": [],
   "source": [
    "cursor.execute(\"SELECT name FROM sqlite_master WHERE type='table';\")\n",
    "tables = cursor.fetchall()\n",
    "for table_name in tables:\n",
    "    table_name = table_name[0]"
   ]
  },
  {
   "cell_type": "code",
   "execution_count": null,
   "metadata": {
    "ExecuteTime": {
     "end_time": "2021-02-02T05:07:44.243532Z",
     "start_time": "2021-02-02T05:06:00.960603Z"
    }
   },
   "outputs": [],
   "source": [
    "cursor.execute('''CREATE INDEX CarrierFragments ON [CarrierFragment(n=6)] (CarrierFragments);''')"
   ]
  },
  {
   "cell_type": "code",
   "execution_count": null,
   "metadata": {
    "ExecuteTime": {
     "end_time": "2021-02-02T05:09:18.452064Z",
     "start_time": "2021-02-02T05:09:18.196011Z"
    }
   },
   "outputs": [],
   "source": [
    "pd.read_sql_query('''SELECT * from [CarrierFragment(n=6)] Where CarrierFragments=\"[#6]-[#6](=[#8])-[#8]-[#6](-[#6])=[#8]\"''',db2)"
   ]
  },
  {
   "cell_type": "code",
   "execution_count": null,
   "metadata": {
    "ExecuteTime": {
     "end_time": "2021-02-02T05:10:31.913430Z",
     "start_time": "2021-02-02T05:09:32.049876Z"
    }
   },
   "outputs": [],
   "source": [
    "pd.read_sql_query('''SELECT * from [CarrierFragment(n=6)] Where Smiles=\"CC(=O)Nc1ccc(O)cc1\"''',db2)"
   ]
  },
  {
   "cell_type": "code",
   "execution_count": null,
   "metadata": {
    "ExecuteTime": {
     "end_time": "2021-02-02T05:11:34.185243Z",
     "start_time": "2021-02-02T05:11:25.869377Z"
    }
   },
   "outputs": [],
   "source": [
    "pd.read_sql_query('''SELECT * from [CarrierFragment(n=6)] Where Smiles=\"CC(=O)OC(=O)c1ccc(C(=O)OC(C)=O)o1\"''',db2)"
   ]
  },
  {
   "cell_type": "code",
   "execution_count": null,
   "metadata": {
    "ExecuteTime": {
     "end_time": "2021-02-01T16:56:44.546703Z",
     "start_time": "2021-02-01T16:56:44.337825Z"
    }
   },
   "outputs": [],
   "source": [
    "Chem.MolToSmiles(Chem.MolFromSmiles('CC(=O)NC1=CC=C(C=C1)O'))"
   ]
  },
  {
   "cell_type": "code",
   "execution_count": null,
   "metadata": {
    "ExecuteTime": {
     "end_time": "2021-02-01T17:09:46.892023Z",
     "start_time": "2021-02-01T17:09:46.873081Z"
    }
   },
   "outputs": [],
   "source": [
    "Chem.MolFromSmarts('[#6]-[#6](=[#8])-[#7](-[#6])-[H]')"
   ]
  },
  {
   "cell_type": "code",
   "execution_count": null,
   "metadata": {
    "ExecuteTime": {
     "end_time": "2021-02-01T17:10:44.556822Z",
     "start_time": "2021-02-01T17:10:44.358705Z"
    },
    "scrolled": true
   },
   "outputs": [],
   "source": [
    "Chem.MolFromSmiles('CC(=O)Nc1ccc(O)cc1')"
   ]
  },
  {
   "cell_type": "markdown",
   "metadata": {},
   "source": [
    "## Active Fragment Database (n=0)"
   ]
  },
  {
   "cell_type": "markdown",
   "metadata": {},
   "source": [
    "### Dask dataframe"
   ]
  },
  {
   "cell_type": "code",
   "execution_count": null,
   "metadata": {
    "ExecuteTime": {
     "end_time": "2021-01-29T17:39:53.801299Z",
     "start_time": "2021-01-29T17:39:53.448312Z"
    }
   },
   "outputs": [],
   "source": [
    "ActiveFragmentDBDask=dd.read_parquet('/home/aa2133/Impurity-Project/Reaxys_Data/ActiveFragmentDBDask')\n",
    "ActiveFragmentDBDask=client.persist(ActiveFragmentDBDask)"
   ]
  },
  {
   "cell_type": "code",
   "execution_count": null,
   "metadata": {
    "ExecuteTime": {
     "end_time": "2021-01-29T17:45:51.323764Z",
     "start_time": "2021-01-29T17:45:48.812747Z"
    }
   },
   "outputs": [],
   "source": [
    "ActiveFragmentDBDask.loc[ActiveFragmentDBDask['ActiveFragments']=='[#8]-[Si]'].compute()\n",
    "ActiveFragmentDBDask.loc[ActiveFragmentDBDask['ActiveFragments']=='[Si]-[#8]'].compute()\n",
    "ActiveFragmentDBDask.loc[ActiveFragmentDBDask['ActiveFragments']=='Error'].compute()"
   ]
  },
  {
   "cell_type": "markdown",
   "metadata": {},
   "source": [
    "### Pandas dataframe"
   ]
  },
  {
   "cell_type": "code",
   "execution_count": null,
   "metadata": {
    "ExecuteTime": {
     "end_time": "2021-01-30T12:47:46.136432Z",
     "start_time": "2021-01-30T12:47:36.658261Z"
    }
   },
   "outputs": [],
   "source": [
    "ActiveFragmentDB=openpickle(\"/home/aa2133/Impurity-Project/Reaxys_Data/ActiveFragmentDB.pickle\")"
   ]
  },
  {
   "cell_type": "code",
   "execution_count": null,
   "metadata": {
    "ExecuteTime": {
     "end_time": "2021-01-30T12:48:27.693414Z",
     "start_time": "2021-01-30T12:48:27.614734Z"
    }
   },
   "outputs": [],
   "source": [
    "ActiveFragmentDB"
   ]
  },
  {
   "cell_type": "code",
   "execution_count": null,
   "metadata": {
    "ExecuteTime": {
     "end_time": "2021-01-30T12:48:06.824390Z",
     "start_time": "2021-01-30T12:48:06.025191Z"
    }
   },
   "outputs": [],
   "source": [
    "ActiveFragmentDB.loc['[#8]-[Si]']\n",
    "ActiveFragmentDB.loc['[Si]-[#8]']\n",
    "ActiveFragmentDB.loc['Error']"
   ]
  },
  {
   "cell_type": "markdown",
   "metadata": {},
   "source": [
    "As shown above, it is possible to group compounds and their smiles based on active fragment. Some records encountered errors (238). This is because of incorrect RDKit translation of molfile to smiles strings. Whilst the issue is resolved by reading smarts instead of smiles, the carrierfrags function will need to be adapted."
   ]
  },
  {
   "cell_type": "code",
   "execution_count": null,
   "metadata": {
    "ExecuteTime": {
     "end_time": "2021-01-28T05:26:07.086341Z",
     "start_time": "2021-01-28T05:26:07.066682Z"
    }
   },
   "outputs": [],
   "source": [
    "errormol=Chem.MolFromMolFile(substancedb.loc[71120,'MolFileAddress'])\n",
    "errormol\n",
    "Chem.MolFromSmiles(Chem.MolToSmiles(errormol))\n",
    "Chem.MolFromSmiles('C=Cc1cc(OC)c(OC)c2c1/c=c\\\\c1ccc(cc1)-o-c1c(c(C=C)cc(OC)c1OC)/c=c\\\\c1ccc(cc1)-o-2')"
   ]
  },
  {
   "cell_type": "code",
   "execution_count": null,
   "metadata": {
    "ExecuteTime": {
     "end_time": "2021-01-28T06:45:42.259791Z",
     "start_time": "2021-01-28T06:45:42.241915Z"
    }
   },
   "outputs": [],
   "source": [
    "deem=Chem.MolFromSmarts(Chem.MolToSmarts(errormol))\n",
    "Chem.SanitizeMol(deem)\n",
    "deem.UpdatePropertyCache(strict=False)\n",
    "deem=Chem.rdmolops.AddHs(deem)\n",
    "IFG(deem)"
   ]
  },
  {
   "cell_type": "markdown",
   "metadata": {},
   "source": [
    "Two cells below check whether it is faster to load a mol from molfile, or generating it from smiles. The latter is slightly faster, but the former is useful in cases where the smiles is incorrect as is the case above."
   ]
  },
  {
   "cell_type": "code",
   "execution_count": null,
   "metadata": {
    "ExecuteTime": {
     "end_time": "2021-01-28T06:39:51.538152Z",
     "start_time": "2021-01-28T06:39:51.530269Z"
    }
   },
   "outputs": [],
   "source": [
    "%%timeit -n 1 -r 1\n",
    "Chem.MolFromMolFile(substancedb.loc[47408,'MolFileAddress'])"
   ]
  },
  {
   "cell_type": "code",
   "execution_count": null,
   "metadata": {
    "ExecuteTime": {
     "end_time": "2021-01-28T06:39:53.531232Z",
     "start_time": "2021-01-28T06:39:53.525669Z"
    }
   },
   "outputs": [],
   "source": [
    "%%timeit -n 1 -r 1\n",
    "Chem.MolFromSmiles(substancedb.loc[47408,'Smiles'])"
   ]
  },
  {
   "cell_type": "code",
   "execution_count": null,
   "metadata": {
    "ExecuteTime": {
     "end_time": "2021-01-28T06:21:27.644928Z",
     "start_time": "2021-01-28T06:21:27.640198Z"
    }
   },
   "outputs": [],
   "source": [
    "Chem.MolToSmarts(errormol)"
   ]
  },
  {
   "cell_type": "code",
   "execution_count": null,
   "metadata": {
    "ExecuteTime": {
     "end_time": "2021-01-28T04:56:16.139575Z",
     "start_time": "2021-01-28T04:56:14.337898Z"
    }
   },
   "outputs": [],
   "source": [
    "len(ActiveFragmentDB.loc['[#8]-[Si]','Smiles'].values)"
   ]
  },
  {
   "cell_type": "code",
   "execution_count": null,
   "metadata": {
    "ExecuteTime": {
     "end_time": "2021-01-28T04:58:00.133655Z",
     "start_time": "2021-01-28T04:57:52.302519Z"
    }
   },
   "outputs": [],
   "source": [
    "ActiveFragmentDB.index.unique()"
   ]
  },
  {
   "cell_type": "code",
   "execution_count": null,
   "metadata": {
    "ExecuteTime": {
     "end_time": "2021-01-27T18:37:21.694365Z",
     "start_time": "2021-01-27T18:37:21.510919Z"
    }
   },
   "outputs": [],
   "source": [
    "ActiveFragmentDB.loc[ActiveFragmentDB['SubstanceID']==33195,'Smiles']"
   ]
  },
  {
   "cell_type": "code",
   "execution_count": null,
   "metadata": {
    "ExecuteTime": {
     "end_time": "2021-01-28T04:56:24.722122Z",
     "start_time": "2021-01-28T04:56:24.703538Z"
    }
   },
   "outputs": [],
   "source": [
    "Chem.MolFromSmiles('CO[C@@H]1O[C@@H]2[C@H](O[Si](C)(C)C)C(=O)O[C@@H]2[C@H]1O[Si](C)(C)C')\n",
    "getCarrierFrags('CO[C@@H]1O[C@@H]2[C@H](O[Si](C)(C)C)C(=O)O[C@@H]2[C@H]1O[Si](C)(C)C',0)"
   ]
  },
  {
   "cell_type": "code",
   "execution_count": null,
   "metadata": {
    "ExecuteTime": {
     "end_time": "2021-01-28T03:47:47.022436Z",
     "start_time": "2021-01-28T03:47:47.010076Z"
    }
   },
   "outputs": [],
   "source": [
    "Chem.MolFromSmiles('C[Si]1(C)CCCO1')"
   ]
  },
  {
   "cell_type": "code",
   "execution_count": null,
   "metadata": {
    "ExecuteTime": {
     "end_time": "2021-01-28T03:50:09.474012Z",
     "start_time": "2021-01-28T03:50:09.405672Z"
    }
   },
   "outputs": [],
   "source": [
    "Chem.MolToSmiles(Chem.MolFromSmarts('[Si]-[#8]'))"
   ]
  },
  {
   "cell_type": "code",
   "execution_count": null,
   "metadata": {
    "ExecuteTime": {
     "end_time": "2021-01-28T03:51:15.841959Z",
     "start_time": "2021-01-28T03:51:15.832865Z"
    }
   },
   "outputs": [],
   "source": [
    "IFG(Chem.MolFromSmiles('C[Si]1(C)CCCO1'))\n",
    "IFG(Chem.MolFromSmiles('CO[C@@H]1O[C@@H]2[C@H](O[Si](C)(C)C)C(=O)O[C@@H]2[C@H]1O[Si](C)(C)C'))"
   ]
  },
  {
   "cell_type": "code",
   "execution_count": null,
   "metadata": {
    "ExecuteTime": {
     "end_time": "2021-01-28T03:53:43.039256Z",
     "start_time": "2021-01-28T03:53:43.032263Z"
    }
   },
   "outputs": [],
   "source": [
    "getCarrierFrags('C[Si]1(C)CCCO1',0)"
   ]
  },
  {
   "cell_type": "code",
   "execution_count": null,
   "metadata": {
    "ExecuteTime": {
     "end_time": "2021-01-27T18:05:16.475253Z",
     "start_time": "2021-01-27T18:05:16.470811Z"
    }
   },
   "outputs": [],
   "source": [
    "ActiveFragmentDB.loc[1000001,'ActiveFragments']"
   ]
  },
  {
   "cell_type": "code",
   "execution_count": null,
   "metadata": {
    "ExecuteTime": {
     "end_time": "2021-01-27T18:06:55.730369Z",
     "start_time": "2021-01-27T18:06:55.722270Z"
    }
   },
   "outputs": [],
   "source": [
    "ActiveFragmentDB.loc[1000001,'Smiles']\n",
    "ActiveFragmentDB.loc[1000001,'SubstanceID']"
   ]
  },
  {
   "cell_type": "code",
   "execution_count": null,
   "metadata": {
    "ExecuteTime": {
     "end_time": "2021-01-27T18:05:36.499522Z",
     "start_time": "2021-01-27T18:05:36.491435Z"
    }
   },
   "outputs": [],
   "source": [
    "getCarrierFrags(ActiveFragmentDB.loc[1000001,'Smiles'],0)"
   ]
  },
  {
   "cell_type": "code",
   "execution_count": null,
   "metadata": {
    "ExecuteTime": {
     "end_time": "2021-01-27T17:43:14.860072Z",
     "start_time": "2021-01-27T17:43:14.832573Z"
    }
   },
   "outputs": [],
   "source": [
    "getCarrierFrags(testset.loc[testset['SubstanceID']==28713377,'Smiles'][0],0)"
   ]
  },
  {
   "cell_type": "code",
   "execution_count": null,
   "metadata": {
    "ExecuteTime": {
     "end_time": "2021-01-27T17:50:11.881699Z",
     "start_time": "2021-01-27T17:50:11.868422Z"
    }
   },
   "outputs": [],
   "source": [
    "dfaf"
   ]
  },
  {
   "cell_type": "code",
   "execution_count": null,
   "metadata": {
    "ExecuteTime": {
     "end_time": "2021-01-27T17:26:17.203656Z",
     "start_time": "2021-01-27T17:25:37.457536Z"
    }
   },
   "outputs": [],
   "source": [
    "dfafdask=dd.from_pandas(dfaf,npartitions=16)"
   ]
  },
  {
   "cell_type": "code",
   "execution_count": null,
   "metadata": {
    "ExecuteTime": {
     "end_time": "2021-01-27T17:58:08.721682Z",
     "start_time": "2021-01-27T17:58:03.897254Z"
    }
   },
   "outputs": [],
   "source": [
    "dfafdask.loc[0,'ActiveFragments'].compute()"
   ]
  },
  {
   "cell_type": "code",
   "execution_count": null,
   "metadata": {
    "ExecuteTime": {
     "end_time": "2021-01-27T06:54:24.312014Z",
     "start_time": "2021-01-27T06:54:24.279936Z"
    }
   },
   "outputs": [],
   "source": [
    "testset.loc[0,'Smiles']"
   ]
  },
  {
   "cell_type": "code",
   "execution_count": null,
   "metadata": {
    "ExecuteTime": {
     "end_time": "2021-01-28T16:01:24.384809Z",
     "start_time": "2021-01-28T16:01:24.089287Z"
    }
   },
   "outputs": [],
   "source": [
    "substancedbdask.loc[substancedbdask['Smiles']=='COC(OC)C(=O)COC(C)=O'].compute()"
   ]
  },
  {
   "cell_type": "code",
   "execution_count": null,
   "metadata": {
    "ExecuteTime": {
     "end_time": "2021-01-28T16:01:49.385205Z",
     "start_time": "2021-01-28T16:01:47.629266Z"
    }
   },
   "outputs": [],
   "source": [
    "substancedb.loc[substancedb['Smiles']=='COC(OC)C(=O)COC(C)=O']"
   ]
  },
  {
   "cell_type": "markdown",
   "metadata": {},
   "source": [
    "# Conclusion"
   ]
  },
  {
   "cell_type": "markdown",
   "metadata": {},
   "source": [
    "Further results have been discussed/included in Preidct_Impurities.ipynb"
   ]
  },
  {
   "cell_type": "code",
   "execution_count": null,
   "metadata": {
    "ExecuteTime": {
     "end_time": "2021-02-15T06:15:52.134808Z",
     "start_time": "2021-02-15T06:15:51.952275Z"
    },
    "scrolled": true
   },
   "outputs": [],
   "source": [
    "%whos"
   ]
  },
  {
   "cell_type": "code",
   "execution_count": null,
   "metadata": {
    "ExecuteTime": {
     "end_time": "2021-02-18T13:11:24.179454Z",
     "start_time": "2021-02-18T13:11:24.128813Z"
    }
   },
   "outputs": [],
   "source": [
    "substancedb"
   ]
  },
  {
   "cell_type": "markdown",
   "metadata": {},
   "source": [
    "Finding an entry by Smiles and Reaxys ID"
   ]
  },
  {
   "cell_type": "code",
   "execution_count": null,
   "metadata": {
    "ExecuteTime": {
     "end_time": "2021-02-18T13:14:58.714458Z",
     "start_time": "2021-02-18T13:14:58.651789Z"
    }
   },
   "outputs": [],
   "source": [
    "substancedb.xs('CC(C)(C)c1ccc2c(c1)c1cc(C(C)(C)C)ccc1n2C(=O)[O-].[Li+]')\n",
    "substancedb.xs('CC(C)(C)c1ccc2c(c1)c1cc(C(C)(C)C)ccc1n2C(=O)[O-].[Li+]').index[0]"
   ]
  },
  {
   "cell_type": "markdown",
   "metadata": {},
   "source": [
    "Finding an entry by Reaxys ID and Smiles"
   ]
  },
  {
   "cell_type": "code",
   "execution_count": null,
   "metadata": {
    "ExecuteTime": {
     "end_time": "2021-02-18T13:15:26.470808Z",
     "start_time": "2021-02-18T13:15:26.404872Z"
    }
   },
   "outputs": [],
   "source": [
    "substancedb.xs(22727365,level=1)\n",
    "substancedb.xs(22727365,level=1).index[0]"
   ]
  }
 ],
 "metadata": {
  "kernelspec": {
   "display_name": "Python [conda env:impurityproject] *",
   "language": "python",
   "name": "conda-env-impurityproject-py"
  },
  "language_info": {
   "codemirror_mode": {
    "name": "ipython",
    "version": 3
   },
   "file_extension": ".py",
   "mimetype": "text/x-python",
   "name": "python",
   "nbconvert_exporter": "python",
   "pygments_lexer": "ipython3",
   "version": "3.8.8"
  },
  "toc": {
   "base_numbering": 1,
   "nav_menu": {},
   "number_sections": true,
   "sideBar": true,
   "skip_h1_title": false,
   "title_cell": "Table of Contents",
   "title_sidebar": "Contents",
   "toc_cell": false,
   "toc_position": {
    "height": "calc(100% - 180px)",
    "left": "10px",
    "top": "150px",
    "width": "218.641px"
   },
   "toc_section_display": true,
   "toc_window_display": true
  }
 },
 "nbformat": 4,
 "nbformat_minor": 4
}
