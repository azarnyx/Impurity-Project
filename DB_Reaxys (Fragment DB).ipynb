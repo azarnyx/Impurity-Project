{
 "cells": [
  {
   "cell_type": "markdown",
   "metadata": {},
   "source": [
    "This continues from DB_Reaxys and supplements the database with active fragment/carrier fragment labels"
   ]
  },
  {
   "cell_type": "code",
   "execution_count": 3,
   "metadata": {
    "ExecuteTime": {
     "end_time": "2021-02-18T13:09:23.170926Z",
     "start_time": "2021-02-18T13:09:21.754904Z"
    }
   },
   "outputs": [
    {
     "name": "stdout",
     "output_type": "stream",
     "text": [
      "\r\n",
      "     active environment : impurityproject\r\n",
      "    active env location : /home/aa2133/miniconda3/envs/impurityproject\r\n",
      "            shell level : 2\r\n",
      "       user config file : /home/aa2133/.condarc\r\n",
      " populated config files : \r\n",
      "          conda version : 4.8.5\r\n",
      "    conda-build version : not installed\r\n",
      "         python version : 3.8.3.final.0\r\n",
      "       virtual packages : __glibc=2.23\r\n",
      "       base environment : /home/aa2133/miniconda3  (writable)\r\n",
      "           channel URLs : https://repo.anaconda.com/pkgs/main/linux-64\r\n",
      "                          https://repo.anaconda.com/pkgs/main/noarch\r\n",
      "                          https://repo.anaconda.com/pkgs/r/linux-64\r\n",
      "                          https://repo.anaconda.com/pkgs/r/noarch\r\n",
      "          package cache : /home/aa2133/miniconda3/pkgs\r\n",
      "                          /home/aa2133/.conda/pkgs\r\n",
      "       envs directories : /home/aa2133/miniconda3/envs\r\n",
      "                          /home/aa2133/.conda/envs\r\n",
      "               platform : linux-64\r\n",
      "             user-agent : conda/4.8.5 requests/2.24.0 CPython/3.8.3 Linux/4.4.0-87-generic ubuntu/16.04.6 glibc/2.23\r\n",
      "                UID:GID : 1020:10003\r\n",
      "             netrc file : None\r\n",
      "           offline mode : False\r\n",
      "\r\n"
     ]
    }
   ],
   "source": [
    "# Allow more than one output\n",
    "from IPython.core.interactiveshell import InteractiveShell\n",
    "InteractiveShell.ast_node_interactivity = \"all\"\n",
    "!conda info"
   ]
  },
  {
   "cell_type": "markdown",
   "metadata": {},
   "source": [
    "# Dependencies"
   ]
  },
  {
   "cell_type": "code",
   "execution_count": 2,
   "metadata": {
    "ExecuteTime": {
     "end_time": "2021-02-18T13:09:18.553665Z",
     "start_time": "2021-02-18T13:09:12.883527Z"
    }
   },
   "outputs": [],
   "source": [
    "import shutil\n",
    "import itertools\n",
    "import copy\n",
    "from MainFunctions import writepickle, openpickle\n",
    "from collections import Counter, namedtuple\n",
    "from rdkit.Chem import BRICS  # For fragmenting\n",
    "from ttictoc import tic, toc\n",
    "from rxnmapper import RXNMapper  # Importing RXNMapper for unsupervised atom mapping\n",
    "import os  # Working with the OS\n",
    "from PIL import Image  # Working with images\n",
    "from IPython.display import SVG  # For SVG support\n",
    "from rdkit.Chem.Draw import rdMolDraw2D  # Drawing 2D molecules/reactions\n",
    "from rdkit.Chem import rdChemReactions  # Reaction processing\n",
    "from rdkit.Chem import Draw  # For drawing molecules/reactions\n",
    "from rdkit.Chem import AllChem  # Overall support\n",
    "from rdkit import Chem  # Importing RDKit\n",
    "from FindFunctionalGroups import identify_functional_groups as IFG\n",
    "from helpCompound import hc_smilesDict, hc_molDict\n",
    "import cairosvg\n",
    "import json\n",
    "from chempy import balance_stoichiometry\n",
    "import io\n",
    "import matplotlib.pyplot as plt\n",
    "from IPython.display import display, Image\n",
    "from rdkit.Chem.Draw import IPythonConsole\n",
    "from rdkit.Chem import RDConfig\n",
    "import cirpy\n",
    "from rdkit.Chem.Fingerprints import FingerprintMols\n",
    "from rdkit.Chem import PeriodicTable, GetPeriodicTable\n",
    "from rdkit.Chem import FunctionalGroups\n",
    "import sys\n",
    "sys.path.append('/home/aa2133/Impurity-Project')\n",
    "sys.path.append('/home/aa2133/Impurity-Project/getCandiRxns')\n",
    "try:\n",
    "    import pickle5 as pickle  # Only if pickle doesn't work\n",
    "except Exception:\n",
    "    import pickle"
   ]
  },
  {
   "cell_type": "code",
   "execution_count": 4,
   "metadata": {
    "ExecuteTime": {
     "end_time": "2021-02-18T13:09:26.302221Z",
     "start_time": "2021-02-18T13:09:26.230422Z"
    }
   },
   "outputs": [
    {
     "name": "stdout",
     "output_type": "stream",
     "text": [
      "Overwriting FunctionsDB.py\n"
     ]
    }
   ],
   "source": [
    "%%writefile FunctionsDB.py\n",
    "\n",
    "import shutil\n",
    "import itertools\n",
    "import copy\n",
    "from MainFunctions import writepickle, openpickle\n",
    "from collections import Counter, namedtuple\n",
    "\n",
    "from rdkit import Chem  # Importing RDKit\n",
    "from rdkit.Chem.Draw import rdMolDraw2D  # Drawing 2D molecules/reactions\n",
    "from rdkit.Chem import rdChemReactions  # Reaction processing\n",
    "from rdkit.Chem import Draw  # For drawing molecules/reactions\n",
    "from rdkit.Chem import AllChem  # Overall support\n",
    "from FindFunctionalGroups import identify_functional_groups as IFG\n",
    "\n",
    "import sqlite3\n",
    "import os\n",
    "import dask.delayed as delayed\n",
    "import dask.dataframe as dd\n",
    "import dask.array as da\n",
    "import dask.bag as db\n",
    "import numpy as np\n",
    "import pandas as pd\n",
    "\n",
    "#%% Building basic substance database\n",
    "\n",
    "def info(molfile):\n",
    "    mol = Chem.MolFromMolFile(molfile)\n",
    "    if mol:\n",
    "        Chem.SanitizeMol(mol)\n",
    "        mol.UpdatePropertyCache(strict=False)\n",
    "        smils = Chem.MolToSmiles(mol)\n",
    "        return mol, smils\n",
    "    else:\n",
    "        return molfile\n",
    "\n",
    "\n",
    "def basic(ID, folder):\n",
    "    if str.isdecimal(ID):\n",
    "        molfileaddress = folder+os.sep+ID\n",
    "        try:\n",
    "            res = info(molfileaddress)\n",
    "        except Exception as e:\n",
    "            error = e\n",
    "            compaddrs = {'SubstanceID': int(\n",
    "                ID), 'MolFileAddress': molfileaddress, 'Error': error}\n",
    "        else:\n",
    "            if type(res) == tuple:\n",
    "                smiles = res[1]\n",
    "                compaddrs = {'SubstanceID': int(\n",
    "                    ID), 'MolFileAddress': molfileaddress, 'Smiles': smiles}\n",
    "            else:\n",
    "                error = 'Valence error'\n",
    "                compaddrs = {'SubstanceID': int(\n",
    "                    ID), 'MolFileAddress': molfileaddress, 'Error': error}\n",
    "    else:\n",
    "        compaddrs = {}\n",
    "    return compaddrs\n",
    "\n",
    "\n",
    "def basicgroup(molfilelist, folder):\n",
    "    return [basic(ID, folder) for ID in molfilelist]\n",
    "\n",
    "\n",
    "def substancedblist(folderName, partitions):\n",
    "    dem = os.listdir(folderName)\n",
    "    b = db.from_sequence(dem, npartitions=partitions)\n",
    "    dflist = b.map_partitions(basicgroup, folderName).compute()\n",
    "    return dflist\n",
    "\n",
    "\n",
    "#%% Fragment detection\n",
    "\n",
    "def getCarrierFrags(smi, size, resFormat='smarts', addHs=True):\n",
    "    \"\"\"\n",
    "    str (smiles), int -> list (str_smiles/smarts) \n",
    "    smi: str, smiles of a compound\n",
    "    size: size of carrier fragments, number atoms\n",
    "    resFormat: 'smiles' or 'smarts'\n",
    "    addHs: bool, if True H will be consider for generation of substructure, recommend True\n",
    "            otherwise terminal atoms of a molecule are not differentiated with other atoms\n",
    "    this function return list of strings of smarts representing carrier frags with miniSize of size\n",
    "    a carrier frag carries a functional group defined by using Ertl's method\n",
    "    find out the bonds to cut define a cutter to cut out the target fragments based on bonds to cut\n",
    "    1) get a list of function groups using IFG\n",
    "    2) if IFG list empty meaning no functional groups, directly return compound smiles\n",
    "    3) evaluate the size of current fragment,  \n",
    "       if frag_size >= size, directly return the comp smile\n",
    "       if frag_size < miniSizeFrag, expand the fragment by searching for neighors, only use terminal atoms to search\n",
    "       repeat expansion till frag_size >= size\n",
    "    \"\"\"\n",
    "    mol = Chem.MolFromSmiles(smi)\n",
    "    Chem.SanitizeMol(mol)\n",
    "    mol.UpdatePropertyCache(strict=False)\n",
    "    if addHs:\n",
    "        mol = Chem.AddHs(mol)\n",
    "    # -- get the list of functional groups FG\n",
    "    # e.g., [IFG(atomIds=(1, 4, 7), atoms='NC=O', type='cNC(C)=O'), IFG(atomIds=(10,), atoms='O', type='cO')]\n",
    "    IFG_ls = IFG(mol)\n",
    "    # if IFG_ls is empty, directly return this compounds\n",
    "    if len(IFG_ls) == 0:\n",
    "        if resFormat == 'smiles':\n",
    "            return smi\n",
    "        elif resFormat == 'smarts':\n",
    "            return Chem.MolToSmarts(Chem.MolFromSmiles(smi))\n",
    "    # -- get atomIDs (FGs_atomIDs_expan) and terminalAtomIDs (FGs_terminal_atomIDs) for all frags\n",
    "    FGs_atomIDs = [_.atomIds for _ in IFG_ls]  # e.g., [(1, 4, 7), ...]\n",
    "    n_FGs = len(FGs_atomIDs)\n",
    "    # expan all FGs that < size # e.g., [[1, 4, 7, 8, 9], ...]\n",
    "    FGs_atomIDs_expan = [None]*n_FGs\n",
    "    # terminal atoms: atoms on which bonds to cut will be searched\n",
    "    # [[2, 3, 8], ...] or [[], [], ...], note [2, 3, 8] are terminal of comp not frag\n",
    "    FGs_terminal_atomIDs = [None]*n_FGs\n",
    "    for i in range(n_FGs):\n",
    "        # initialization before search and expand fragments\n",
    "        FG_atomIDs = list(FGs_atomIDs[i])  # e.g., [1, 4, 7]\n",
    "        FG_size = len(FG_atomIDs)\n",
    "        # find initial terminal atoms\n",
    "        # terminal atoms: atoms with neis that not belong to FG_atomIDs\n",
    "        # note terminal atoms here are terminal of fragments not comp\n",
    "        # C=O has no fragment terminal, but both C and O are comp terminals\n",
    "        # there are 3 cases that no fragment terminal ie, FG_terminal_atomIDs = [] one case FG_terminal_atomIDs not empty\n",
    "        # case 1: FG_size < size, and FG_terminal_atomIDs = [], ie., comp too small, no chane to expand e.g., C=O, HCl, HNO3\n",
    "        # case 2: FG_size < size, and FG_terminal_atomIDs = [2,3,8],\n",
    "        #         got chane to expand, but after expand still cannot reach size, e.g., OCC=O\n",
    "        #         eventually FG_terminal_atomIDs = []\n",
    "        # case 3: FG_size >= size, and FG_terminal_atomIDs = [], cos the whole big comp is a functional group\n",
    "        # for all above cases the original comp will be return\n",
    "        # two case FG_terminal_atomIDs is not empty, cutting will performed based on FG_terminal_atomIDs\n",
    "        # case 4: FG_size >= size, and FG_terminal_atomIDs = [2,3,8], just cut using FG_terminal_atomIDs\n",
    "        # case 5: FG_size < size, and FG_terminal_atomIDs = [2,3,8], after expand, size reached and FG_terminal_atomIDs changed\n",
    "        FG_terminal_atomIDs = []  # e.g., [2, 3, 8] or [], HNO3 or C=O -> []\n",
    "        for atomID in FG_atomIDs:\n",
    "            neis_IDs = [_.GetIdx() for _ in mol.GetAtomWithIdx(atomID).GetNeighbors()]\n",
    "            if len(set(neis_IDs) - set(FG_atomIDs)) != 0:\n",
    "                FG_terminal_atomIDs = FG_terminal_atomIDs + [atomID]\n",
    "        # perform search / expand fragments\n",
    "        # [],  case 1 cannot expand, although FG_size < size\n",
    "        if (FG_size >= size) | (len(FG_terminal_atomIDs) == 0):\n",
    "            # make sure all elements in FGs_atomIDs_expan are lists\n",
    "            FGs_atomIDs_expan[i] = FG_atomIDs\n",
    "            FGs_terminal_atomIDs[i] = FG_terminal_atomIDs\n",
    "            # case 3 still could be [] even if FG_size >= size, though less likely\n",
    "        else:\n",
    "            # init FG to be expand\n",
    "            FG_expan_atomIDs = copy.deepcopy(FG_atomIDs)  # e.g., [1, 4, 7]\n",
    "            # max repeat size times, since repeat size should reach the size\n",
    "            for rep in range(size):\n",
    "                FG_expan_atomIDs_old = copy.deepcopy(FG_expan_atomIDs)\n",
    "                # not all atoms need be searched for neis, only ones not in FG_expan_atomIDs for each epoch\n",
    "                for atomID in FG_terminal_atomIDs:\n",
    "                    neis_IDs = [_.GetIdx() for _ in mol.GetAtomWithIdx(atomID).GetNeighbors()]\n",
    "                    FG_expan_atomIDs = FG_expan_atomIDs + neis_IDs\n",
    "                FG_expan_atomIDs = list(set(FG_expan_atomIDs))\n",
    "                FG_terminal_atomIDs = list(set(FG_expan_atomIDs)-set(FG_expan_atomIDs_old))\n",
    "                if len(FG_terminal_atomIDs) == 0:  # cannot expand due to small comp size\n",
    "                    FGs_atomIDs_expan[i] = FG_expan_atomIDs\n",
    "                    FGs_terminal_atomIDs[i] = FG_terminal_atomIDs  # [] case 2\n",
    "                    break  # for expan of next FG\n",
    "                if len(FG_expan_atomIDs) >= size:  # reach the desired size\n",
    "                    FGs_atomIDs_expan[i] = FG_expan_atomIDs\n",
    "                    FGs_terminal_atomIDs[i] = FG_terminal_atomIDs\n",
    "                    break\n",
    "    # it seems not possible that [[2, 3, 8], [], ...], if there one [] then all should be [],\n",
    "    # either [[]] or [[], [], ...] (i.e., small comp with single or multiple FGs)\n",
    "    # sum([len(_) for _ in FGs_terminal_atomIDs]) == 0:\n",
    "    if len(FGs_terminal_atomIDs[0]) == 0:\n",
    "        if resFormat == 'smiles':\n",
    "            return smi\n",
    "        elif resFormat == 'smarts':\n",
    "            return Chem.MolToSmarts(Chem.MolFromSmiles(smi))\n",
    "    else:\n",
    "        FGs_strs = []  # smiles or smarts\n",
    "        for FG_atomIDs in FGs_atomIDs_expan:\n",
    "            if resFormat == 'smiles':\n",
    "                FGs_str = Chem.MolFragmentToSmiles(mol, FG_atomIDs, canonical=True)\n",
    "                FGs_strs = FGs_strs + [FGs_str]\n",
    "            elif resFormat == 'smarts':\n",
    "                FGs_str = Chem.MolFragmentToSmarts(mol, FG_atomIDs, isomericSmarts=False)\n",
    "                FGs_strs = FGs_strs + [FGs_str]\n",
    "        return FGs_strs\n",
    "    \n",
    "#%% Adding fragment smarts column accounting for mixtures\n",
    "def getfrags(series,natoms):\n",
    "#     smiles=series['Smiles']\n",
    "#     if smiles=='Error':\n",
    "#         return pd.DataFrame({'FragmentSmarts':['Error'],'FragmentSmiles':['Error']})\n",
    "#     if series['>1 Compound']==True: #This compound is a mixture. Need to split and apply getcarrierfrags to each smiles\n",
    "#         fragsmarts=getmixturefrags(smiles,natoms)\n",
    "#     else:\n",
    "#         try:\n",
    "#             fragsmarts=getCarrierFrags(smiles,natoms)\n",
    "#         except Exception:\n",
    "#             return pd.DataFrame({'FragmentSmarts':['Error'],'FragmentSmiles':['Error']})\n",
    "#     if type(fragsmarts)==list:\n",
    "#         fragsmiles=[getfragsmiles(fragsmart) for fragsmart in fragsmarts]\n",
    "#     else:\n",
    "#         fragsmiles=getfragsmiles(fragsmarts)\n",
    "#     return pd.DataFrame({'FragmentSmarts':[fragsmarts],'FragmentSmiles':[fragsmiles]})\n",
    "\n",
    "    smiles=series['Smiles']\n",
    "    if smiles=='Error':\n",
    "        return 'Error'\n",
    "    if series['>1 Compound']==True: #This compound is a mixture. Need to split and apply getcarrierfrags to each smiles\n",
    "        fragsmarts=getmixturefrags(smiles,natoms)\n",
    "    else:\n",
    "        try:\n",
    "            fragsmarts=getCarrierFrags(smiles,natoms)\n",
    "        except Exception:\n",
    "            return 'Error'\n",
    "    return fragsmarts\n",
    "        \n",
    "    \n",
    "def getfragpartition(partition,natoms):\n",
    "    return partition.apply(getfrags,natoms=natoms,axis=1)\n",
    "\n",
    "\n",
    "#%% Adding fragment smiles column\n",
    "def getfragsmiles(fragsmarts):\n",
    "    if type(fragsmarts)==list:\n",
    "        fragsmiles=[Chem.MolToSmiles(Chem.MolFromSmarts(fragsmart)) for fragsmart in fragsmarts]    \n",
    "    elif fragsmarts=='Error':\n",
    "        return 'Error'\n",
    "    else:\n",
    "         fragsmiles=Chem.MolToSmiles(Chem.MolFromSmarts(fragsmarts))\n",
    "    return fragsmiles\n",
    "\n",
    "def getsmiles(series):\n",
    "    fragsmarts=series['FragmentSmarts']\n",
    "    return getfragsmiles(fragsmarts)\n",
    "\n",
    "def getsmilespartition(partition):\n",
    "    return partition.apply(getsmiles,axis=1)\n",
    "\n",
    "#%% Creating mixture column (True if mixture, False if not mixture, Error if smiles not present)\n",
    "\n",
    "def mixtures(smiles):\n",
    "    if smiles=='Error':\n",
    "        return 'Error'\n",
    "    elif len(smiles.split('.'))>1:\n",
    "        return True\n",
    "    else:\n",
    "        return False\n",
    "\n",
    "def findMixtures(series):\n",
    "    smiles=series['Smiles']\n",
    "    return mixtures(smiles)\n",
    "    \n",
    "def findMixturespartition(partition):\n",
    "       return partition.apply(findMixtures,axis=1)\n",
    "\n",
    "#%% Changing fragment entries in mixture rows\n",
    "\n",
    "def getmixturefrags(mixsmiles,natoms,resFormat='smarts', addHs=True): \n",
    "    try:\n",
    "        res=[]\n",
    "        for smiles in mixsmiles.split('.'):\n",
    "            reslist=getCarrierFrags(smiles,natoms,resFormat=resFormat,addHs=addHs)\n",
    "            if type(reslist)!=list:\n",
    "                res+=[reslist]\n",
    "            else:\n",
    "                res+=reslist\n",
    "    except Exception:\n",
    "        return 'Error'\n",
    "    else:\n",
    "        return res    \n",
    "\n",
    "def getMixturefrags(series,natoms):\n",
    "    mixsmiles=series['Smiles'] # add .values[0] if column is a multiindex, otherwise droplevel = 1 to remove list\n",
    "    return getmixturefrags(mixsmiles,natoms)  \n",
    "\n",
    "def getMixturefragspartition(partition,natoms):\n",
    "    return partition.apply(getMixturefrags,natoms=natoms,axis=1)\n",
    "\n",
    "# def collapsepartition(partition): #Doesn't work yet. Once exploded it is extremely time-consuming to collapse the dataframe\n",
    "#     temp=partition.groupby(['Smiles']).agg([list])\n",
    "#     return temp\n",
    "\n",
    "    \n",
    "#%% Joining columns to a dataframe\n",
    "\n",
    "def joindf(seriesdf,DB,explodeDB=None):\n",
    "    if seriesdf.index.name!=DB.index.name or seriesdf.index.names!=DB.index.names:\n",
    "        if DB.index.name or DB.index.names:\n",
    "            DB.reset_index(inplace=True)\n",
    "        if seriesdf.index.name or seriesdf.index.names:\n",
    "            seriesdf.reset_index(inplace=True)        \n",
    "    DB=DB.join(seriesdf)\n",
    "    if explodeDB:\n",
    "        DB=DB.explode(explodeDB)\n",
    "    return DB\n",
    "\n",
    "\n",
    "\n",
    "\n",
    "def buildfragdb(sdb=None,sdbd=None,writesdbd=False, \\\n",
    "                sdbdc=None,fragseries=None,natoms=None, \\\n",
    "                writefragseries=False, fdbm=None, fdb=None, dfdb=None, \\\n",
    "                fragsmiles=False, mixtures=False, mixturefrags=False, \\\n",
    "                index=None, writefdb=False,writedfdb=False):\n",
    "    \n",
    "    # Note: cluster and client must be initiated for this function to work. Substance database, either dask or pandas\n",
    "    # should also be loaded. It is advised to avoid loading dask dataframes due to high memory usage. It is recommended to\n",
    "    #persist and create dask dataframes outside this function, otherwise overheads may be added. Never reset dask dataframe\n",
    "    #index or else it will reindex all partitions...always start with pandas, reindex and then convert to dask when large computations\n",
    "    #need to be done.\n",
    "    \n",
    "    # sdb = substance database, sdbd = substance database dask, sdbdc = substance database dask cleaned \n",
    "    #(remove smile errors), # fragseries = series containing fragment information, natoms =  size of fragment, \n",
    "    # writefragseries = True if write to file false otherwise, fdbm = fragment database master, pandas version of sdbdc,\n",
    "    # fdb = final fragment database exploded and unindexed pfdb = final pandas fragment dataframe, multiindexed, \n",
    "    # dfdb = final dask fragment dataframe\n",
    "   \n",
    "    # Step 1: Create dask dataframe from pandas substance database (output: sdbd)\n",
    "    \n",
    "    if sdb and not type(sdbd)==dd.core.DataFrame:\n",
    "        sdbd = dd.from_pandas(sdb, npartitions=16)\n",
    "        sdbd = client.persist(sdbd)\n",
    "        print('Dask substance dataframe created and persisted')\n",
    "        if writesdbd:\n",
    "            sdbd.to_parquet(writesdbd)\n",
    "            print('Dask substance dataframe written to file: ' + writesdb)\n",
    "        if not natoms and not fragseries:\n",
    "            print(\"Please specify size of fragments that should be retrieved\")\n",
    "            return sdbd\n",
    "        \n",
    "   # Step 2: Clean dask data frame and select only substance ID and smiles column, removing errors (output: sdbdc).\n",
    "\n",
    "    if sdbd and not type(sdbdc)==dd.core.DataFrame:\n",
    "        sdbd = client.persist(sdbd)\n",
    "        sdbdc = sdbd.reset_index()[['SubstanceID', 'Smiles','>1 Compound']]\n",
    "        sdbdc= sdbdc[sdbdc.Smiles!='Error']\n",
    "        sdbdc=client.persist(sdbdc)\n",
    "        print('Cleaned dask substance dataframe created and persisted')\n",
    "        if not natoms and not type(fragseries)==pd.core.series.Series:\n",
    "            print(\"Please specify size of fragments that should be retrieved\")\n",
    "            return sdbdc      \n",
    "        \n",
    "    # Step 3: Scrape 16 million compounds, and extract series of active fragments for each (output: fragseries)\n",
    "    \n",
    "    if not type(fragseries)==pd.core.series.Series and not type(fdb)==pd.core.frame.DataFrame:\n",
    "        if not type(sdbdc)==dd.core.DataFrame:\n",
    "            return \"Please include a cleaned dask substance dataframe for fragment retrieval\"\n",
    "        if not natoms:\n",
    "            return \"Please specify size of fragments retrieved\"\n",
    "        sdbdc=client.persist(sdbdc)\n",
    "#         if natoms==0:\n",
    "#             name='ActiveFragmentSmarts'\n",
    "#         else:\n",
    "#            filename='CarrierFragments'+'(n='+str(natoms)+')'\n",
    "        name='FragmentSmarts'\n",
    "        fragseries=sdbdc.map_partitions(getfragpartition,natoms=natoms,meta=(name,'O')).compute()\n",
    "        print('fragseries retrieved')\n",
    "    \n",
    "    if writefragseries:\n",
    "        if not type(fragseries)==pd.core.series.Series:\n",
    "            return \"Supply fragment series to write to file\"\n",
    "        writepickle(fragseries,writefragseries)\n",
    "        print('fragseries writted to file: '+ writefragseries)\n",
    "      \n",
    "     # Step 4: Prepare cleaned pandas dataframe for fragment series attachment (output: fdbm)  \n",
    "        \n",
    "    if not type(fdbm)==pd.core.frame.DataFrame and not type(fdb)==pd.core.frame.DataFrame:\n",
    "        if not type(sdbdc)==dd.core.DataFrame:\n",
    "            return \"Please include a cleaned dask substance dataframe to which fragment information can be attached\"\n",
    "        fdbm=sdbdc.compute()\n",
    "#         fdbm.reset_index(inplace=True)\n",
    "#         fdbm.drop('index',axis=1,inplace=True)\n",
    "        \n",
    "    # Step 5: Attaching fragment series, generating an exploded fragment database (output: fdb)\n",
    "    \n",
    "    if type(fdbm)==pd.core.frame.DataFrame:\n",
    "        if not type(fragseries)==pd.core.series.Series:\n",
    "            return \"Please include the fragment series that should be attached\"\n",
    "        fragdf=pd.DataFrame(fragseries)\n",
    "        fdb=joindf(fragdf,fdbm,explodeDB=fragdf.columns[0])\n",
    "        print(\"Unindexed fragment database completed\")\n",
    "    \n",
    "    # Step 6: Adding additional columns, formatting, indexing and writing fragment database to file\n",
    "\n",
    "    if fragsmiles:\n",
    "        if not type(fdb)==pd.core.frame.DataFrame:\n",
    "            return \"Please supply fragment database to analyze\"\n",
    "        if not type(dfdb)==dd.core.DataFrame:\n",
    "            if fdb.index.name or fdb.index.names:\n",
    "                fdb.reset_index(inplace=True)\n",
    "            dfdb=dd.from_pandas(fdb,npartitions=181)\n",
    "            dfdb=client.persist(dfdb)\n",
    "        fragseries=dfdb.map_partitions(getsmilespartition,meta=('FragmentSmiles','O')).compute()\n",
    "        if writefragseries:\n",
    "            if not type(fragseries)==pd.core.series.Series:\n",
    "                return \"Supply fragment series to write to file\"\n",
    "            writepickle(fragseries,writefragseries)\n",
    "            print('fragseries writted to file: '+ writefragseries)    \n",
    "        smilesdf=pd.DataFrame(fragseries)\n",
    "        fdb=joindf(smilesdf,fdb)\n",
    "        \n",
    "        \n",
    "    if mixtures:\n",
    "        if not type(fdb)==pd.core.frame.DataFrame:\n",
    "            return \"Please supply fragment database to analyze\"\n",
    "        if not type(dfdb)==dd.core.DataFrame:\n",
    "            if fdb.index.name or fdb.index.names:\n",
    "                fdb.reset_index(inplace=True)\n",
    "            dfdb=dd.from_pandas(fdb,npartitions=181)\n",
    "            dfdb=client.persist(dfdb)\n",
    "        fragseries=dfdb.map_partitions(findMixturespartition,meta=('>1 Compound','boolean'))\n",
    "        if writefragseries:\n",
    "            if not type(fragseries)==pd.core.series.Series:\n",
    "                return \"Supply fragment series to write to file\"\n",
    "            writepickle(fragseries,writefragseries)\n",
    "            print('fragseries writted to file: '+ writefragseries) \n",
    "        mixturedf=pd.DataFrame(fragseries)\n",
    "        fdb=joindf(mixturedf,fdb)\n",
    "    \n",
    "    if mixturefrags:\n",
    "        #NOTE: If exploded, fragment database should be aggregated by Smiles/Smarts\n",
    "        if not type(fdb)==pd.core.frame.DataFrame or '> 1 Compound' not in fdb.columns:\n",
    "            return \"Please supply fragment database to analyze, with mixture indication (specify mixtures=True)\"\n",
    "        if not natoms:\n",
    "            return \"Please specify size of fragments retrieved\"\n",
    "        if not type(dfdb)==dd.core.DataFrame:\n",
    "            dfdb=dd.from_pandas(fdb,npartitions=16)\n",
    "            dfdb=client.persist(dfdb)\n",
    "        fragseries=dfdb.map_partitions(getMixturefragspartition,natoms=natoms,meta=('FragmentSmarts','O'))\n",
    "        if writefragseries:\n",
    "            if not type(fragseries)==pd.core.series.Series:\n",
    "                return \"Supply fragment series to write to file\"\n",
    "            writepickle(fragseries,writefragseries)\n",
    "            print('fragseries writted to file: '+ writefragseries) \n",
    "        mixturesmarts=pd.DataFrame(fragseries)\n",
    "        fdb=joindf(mixturesmarts,fdb)\n",
    "        \n",
    "        \n",
    "    \n",
    "# Deprecated..Dask dataframes take up too much memory when read from file\n",
    "\n",
    "#     if dfdb:\n",
    "#         if fdb.index.name:\n",
    "#             fdb.reset_index(inplace=True)\n",
    "#         fdb.set_index('SubstanceID',inplace=True)\n",
    "#         dfdb=dd.from_pandas(fdb,npartitions=64)\n",
    "# #         dfdb=dfdb.reset_index()\n",
    "# #         dfdb=dfdb.set_index(dfdb.columns[dfdb.columns.str.contains('ragment')][0])\n",
    "#         print('Dask fragment database created')\n",
    "#     if writedfdb:\n",
    "#         dfdb.to_parquet(writedfdb)\n",
    "#         print('Dask fragment database written to file: ' + writedfdb)\n",
    "\n",
    "        \n",
    "    #%% Indexing dataframe\n",
    "    \n",
    "    if index:\n",
    "        if not type(fdb)==pd.core.frame.DataFrame:\n",
    "             return \"Please supply fragment database to index\"\n",
    "        if fdb.index.name==index or fdb.index.names==index:\n",
    "            print(\"Database is already indexed.\") \n",
    "        elif fdb.index.name or fdb.index.names:\n",
    "            fdb.reset_index(inplace=True)\n",
    "            fdb.set_index([index],inplace=True)\n",
    "        else:\n",
    "            fdb.set_index([index],inplace=True)\n",
    "        print('Pandas fragment database indexed')\n",
    "    if writefdb:\n",
    "        writepickle(fdb,writefdb)\n",
    "        print('Pandas fragment database written to file: ' + writefdb)\n",
    "    \n",
    "    return fdb\n",
    "    "
   ]
  },
  {
   "cell_type": "code",
   "execution_count": 4,
   "metadata": {
    "ExecuteTime": {
     "end_time": "2021-02-08T04:36:09.447664Z",
     "start_time": "2021-02-08T04:35:40.686204Z"
    },
    "scrolled": true
   },
   "outputs": [],
   "source": [
    "CarrierFragmentDB=openpickle(\"/home/aa2133/Impurity-Project/Reaxys_Data/CarrierFragmentDB(n=6).pickle\")"
   ]
  },
  {
   "cell_type": "code",
   "execution_count": 71,
   "metadata": {
    "ExecuteTime": {
     "end_time": "2021-02-10T17:15:07.594022Z",
     "start_time": "2021-02-10T17:15:07.583883Z"
    }
   },
   "outputs": [
    {
     "data": {
      "text/plain": [
       "True"
      ]
     },
     "execution_count": 71,
     "metadata": {},
     "output_type": "execute_result"
    }
   ],
   "source": [
    "dd.utils.is_dataframe_like(pd.DataFrame({'FragmentSmiles':[['asdasds']],'FragmentSmarts':[['asdasd']]}))"
   ]
  },
  {
   "cell_type": "code",
   "execution_count": 5,
   "metadata": {
    "ExecuteTime": {
     "end_time": "2021-02-08T04:41:23.027566Z",
     "start_time": "2021-02-08T04:41:16.075319Z"
    }
   },
   "outputs": [],
   "source": [
    "if CarrierFragmentDB.index.name or CarrierFragmentDB.index.names:\n",
    "    CarrierFragmentDB.reset_index(inplace=True)"
   ]
  },
  {
   "cell_type": "code",
   "execution_count": 106,
   "metadata": {
    "ExecuteTime": {
     "end_time": "2021-02-08T17:11:27.437387Z",
     "start_time": "2021-02-08T17:11:27.394080Z"
    }
   },
   "outputs": [
    {
     "data": {
      "text/html": [
       "<div>\n",
       "<style scoped>\n",
       "    .dataframe tbody tr th:only-of-type {\n",
       "        vertical-align: middle;\n",
       "    }\n",
       "\n",
       "    .dataframe tbody tr th {\n",
       "        vertical-align: top;\n",
       "    }\n",
       "\n",
       "    .dataframe thead th {\n",
       "        text-align: right;\n",
       "    }\n",
       "</style>\n",
       "<table border=\"1\" class=\"dataframe\">\n",
       "  <thead>\n",
       "    <tr style=\"text-align: right;\">\n",
       "      <th></th>\n",
       "      <th>0</th>\n",
       "    </tr>\n",
       "  </thead>\n",
       "  <tbody>\n",
       "    <tr>\n",
       "      <th>0</th>\n",
       "      <td>BOO</td>\n",
       "    </tr>\n",
       "    <tr>\n",
       "      <th>1</th>\n",
       "      <td>None</td>\n",
       "    </tr>\n",
       "    <tr>\n",
       "      <th>2</th>\n",
       "      <td>Do</td>\n",
       "    </tr>\n",
       "  </tbody>\n",
       "</table>\n",
       "</div>"
      ],
      "text/plain": [
       "      0\n",
       "0   BOO\n",
       "1  None\n",
       "2    Do"
      ]
     },
     "execution_count": 106,
     "metadata": {},
     "output_type": "execute_result"
    },
    {
     "data": {
      "text/html": [
       "<div>\n",
       "<style scoped>\n",
       "    .dataframe tbody tr th:only-of-type {\n",
       "        vertical-align: middle;\n",
       "    }\n",
       "\n",
       "    .dataframe tbody tr th {\n",
       "        vertical-align: top;\n",
       "    }\n",
       "\n",
       "    .dataframe thead th {\n",
       "        text-align: right;\n",
       "    }\n",
       "</style>\n",
       "<table border=\"1\" class=\"dataframe\">\n",
       "  <thead>\n",
       "    <tr style=\"text-align: right;\">\n",
       "      <th></th>\n",
       "      <th>0</th>\n",
       "    </tr>\n",
       "  </thead>\n",
       "  <tbody>\n",
       "    <tr>\n",
       "      <th>0</th>\n",
       "      <td>BOO</td>\n",
       "    </tr>\n",
       "    <tr>\n",
       "      <th>2</th>\n",
       "      <td>Do</td>\n",
       "    </tr>\n",
       "  </tbody>\n",
       "</table>\n",
       "</div>"
      ],
      "text/plain": [
       "     0\n",
       "0  BOO\n",
       "2   Do"
      ]
     },
     "execution_count": 106,
     "metadata": {},
     "output_type": "execute_result"
    }
   ],
   "source": [
    "gk=pd.DataFrame(['BOO',None,'Do'])\n",
    "gk\n",
    "gk.dropna(inplace=True)\n",
    "gk"
   ]
  },
  {
   "cell_type": "code",
   "execution_count": 101,
   "metadata": {
    "ExecuteTime": {
     "end_time": "2021-02-08T15:55:36.036109Z",
     "start_time": "2021-02-08T15:55:32.291406Z"
    }
   },
   "outputs": [
    {
     "data": {
      "text/html": [
       "<div>\n",
       "<style scoped>\n",
       "    .dataframe tbody tr th:only-of-type {\n",
       "        vertical-align: middle;\n",
       "    }\n",
       "\n",
       "    .dataframe tbody tr th {\n",
       "        vertical-align: top;\n",
       "    }\n",
       "\n",
       "    .dataframe thead th {\n",
       "        text-align: right;\n",
       "    }\n",
       "</style>\n",
       "<table border=\"1\" class=\"dataframe\">\n",
       "  <thead>\n",
       "    <tr style=\"text-align: right;\">\n",
       "      <th></th>\n",
       "      <th>CarrierFragmentSmiles</th>\n",
       "      <th>SubstanceID</th>\n",
       "      <th>CarrierFragmentSmarts</th>\n",
       "      <th>Smiles</th>\n",
       "      <th>&gt;1 Compound</th>\n",
       "    </tr>\n",
       "  </thead>\n",
       "  <tbody>\n",
       "    <tr>\n",
       "      <th>7159</th>\n",
       "      <td>[H]N([H])C(:C):C</td>\n",
       "      <td>4502</td>\n",
       "      <td>[#7](-[#6](:[#6]):[#6])(-[H])-[H]</td>\n",
       "      <td>Nc1ccc2ncccc2c1N</td>\n",
       "      <td>False</td>\n",
       "    </tr>\n",
       "    <tr>\n",
       "      <th>7160</th>\n",
       "      <td>[H]N([H])C(:C):C</td>\n",
       "      <td>4502</td>\n",
       "      <td>[#6]:[#6](:[#6])-[#7](-[H])-[H]</td>\n",
       "      <td>Nc1ccc2ncccc2c1N</td>\n",
       "      <td>False</td>\n",
       "    </tr>\n",
       "    <tr>\n",
       "      <th>7161</th>\n",
       "      <td>[H]C(:C):N:C(:C):C</td>\n",
       "      <td>4502</td>\n",
       "      <td>[#6]:[#6](:[#7]:[#6](:[#6])-[H]):[#6]</td>\n",
       "      <td>Nc1ccc2ncccc2c1N</td>\n",
       "      <td>False</td>\n",
       "    </tr>\n",
       "  </tbody>\n",
       "</table>\n",
       "</div>"
      ],
      "text/plain": [
       "     CarrierFragmentSmiles  SubstanceID  \\\n",
       "7159      [H]N([H])C(:C):C         4502   \n",
       "7160      [H]N([H])C(:C):C         4502   \n",
       "7161    [H]C(:C):N:C(:C):C         4502   \n",
       "\n",
       "                      CarrierFragmentSmarts            Smiles  >1 Compound  \n",
       "7159      [#7](-[#6](:[#6]):[#6])(-[H])-[H]  Nc1ccc2ncccc2c1N        False  \n",
       "7160        [#6]:[#6](:[#6])-[#7](-[H])-[H]  Nc1ccc2ncccc2c1N        False  \n",
       "7161  [#6]:[#6](:[#7]:[#6](:[#6])-[H]):[#6]  Nc1ccc2ncccc2c1N        False  "
      ]
     },
     "execution_count": 101,
     "metadata": {},
     "output_type": "execute_result"
    }
   ],
   "source": [
    "CarrierFragmentDB.loc[CarrierFragmentDB['SubstanceID']==4502]"
   ]
  },
  {
   "cell_type": "code",
   "execution_count": 109,
   "metadata": {
    "ExecuteTime": {
     "end_time": "2021-02-08T17:38:17.586738Z",
     "start_time": "2021-02-08T17:38:17.580687Z"
    }
   },
   "outputs": [
    {
     "data": {
      "text/plain": [
       "False"
      ]
     },
     "execution_count": 109,
     "metadata": {},
     "output_type": "execute_result"
    }
   ],
   "source": [
    "'>1 Compound' not in CarrierFragmentDB.columns"
   ]
  },
  {
   "cell_type": "code",
   "execution_count": 171,
   "metadata": {
    "ExecuteTime": {
     "end_time": "2021-02-09T05:59:08.218389Z",
     "start_time": "2021-02-09T05:57:35.697311Z"
    }
   },
   "outputs": [],
   "source": [
    "CarrierFragmentDBDask=dd.from_pandas(CarrierFragmentDB,npartitions=181)\n",
    "CarrierFragmentDBDask=client.persist(CarrierFragmentDBDask)"
   ]
  },
  {
   "cell_type": "code",
   "execution_count": 15,
   "metadata": {
    "ExecuteTime": {
     "end_time": "2021-02-08T04:49:57.178407Z",
     "start_time": "2021-02-08T04:49:57.163796Z"
    }
   },
   "outputs": [
    {
     "data": {
      "text/plain": [
       "dask.dataframe.core.DataFrame"
      ]
     },
     "execution_count": 15,
     "metadata": {},
     "output_type": "execute_result"
    }
   ],
   "source": [
    "type(CarrierFragmentDBDask)"
   ]
  },
  {
   "cell_type": "code",
   "execution_count": 8,
   "metadata": {
    "ExecuteTime": {
     "end_time": "2021-02-05T14:23:29.968612Z",
     "start_time": "2021-02-05T14:23:29.962199Z"
    }
   },
   "outputs": [
    {
     "data": {
      "text/plain": [
       "Index(['CarrierFragmentSmarts'], dtype='object')"
      ]
     },
     "execution_count": 8,
     "metadata": {},
     "output_type": "execute_result"
    }
   ],
   "source": [
    "CarrierFragmentDB.columns[CarrierFragmentDB.columns.str.contains('ragment')]"
   ]
  },
  {
   "cell_type": "code",
   "execution_count": 18,
   "metadata": {
    "ExecuteTime": {
     "end_time": "2021-02-08T04:55:37.850311Z",
     "start_time": "2021-02-08T04:53:06.050119Z"
    }
   },
   "outputs": [],
   "source": [
    "mixturecol=buildfragdb(fdb=CarrierFragmentDB,dfdb=CarrierFragmentDBDask,mixtures=True).compute()"
   ]
  },
  {
   "cell_type": "code",
   "execution_count": 19,
   "metadata": {
    "ExecuteTime": {
     "end_time": "2021-02-08T04:55:53.168024Z",
     "start_time": "2021-02-08T04:55:53.153872Z"
    }
   },
   "outputs": [
    {
     "data": {
      "text/plain": [
       "0           False\n",
       "1           False\n",
       "2           False\n",
       "3           False\n",
       "4           False\n",
       "            ...  \n",
       "64549672    False\n",
       "64549673    False\n",
       "64549674     True\n",
       "64549675     True\n",
       "64549676     True\n",
       "Name: >1 Compound, Length: 64549677, dtype: bool"
      ]
     },
     "execution_count": 19,
     "metadata": {},
     "output_type": "execute_result"
    }
   ],
   "source": [
    "mixturecol"
   ]
  },
  {
   "cell_type": "code",
   "execution_count": 20,
   "metadata": {
    "ExecuteTime": {
     "end_time": "2021-02-08T04:59:01.789909Z",
     "start_time": "2021-02-08T04:58:58.264089Z"
    }
   },
   "outputs": [],
   "source": [
    "mixturedf=pd.DataFrame(mixturecol)\n",
    "CarrierFragmentDB=CarrierFragmentDB.join(mixturedf)"
   ]
  },
  {
   "cell_type": "code",
   "execution_count": 136,
   "metadata": {
    "ExecuteTime": {
     "end_time": "2021-02-09T04:05:09.903185Z",
     "start_time": "2021-02-09T04:05:04.067199Z"
    }
   },
   "outputs": [
    {
     "data": {
      "text/html": [
       "<div>\n",
       "<style scoped>\n",
       "    .dataframe tbody tr th:only-of-type {\n",
       "        vertical-align: middle;\n",
       "    }\n",
       "\n",
       "    .dataframe tbody tr th {\n",
       "        vertical-align: top;\n",
       "    }\n",
       "\n",
       "    .dataframe thead th {\n",
       "        text-align: right;\n",
       "    }\n",
       "</style>\n",
       "<table border=\"1\" class=\"dataframe\">\n",
       "  <thead>\n",
       "    <tr style=\"text-align: right;\">\n",
       "      <th></th>\n",
       "      <th>FragmentSmiles</th>\n",
       "      <th>SubstanceID</th>\n",
       "      <th>FragmentSmarts</th>\n",
       "      <th>Smiles</th>\n",
       "      <th>&gt;1 Compound</th>\n",
       "    </tr>\n",
       "  </thead>\n",
       "  <tbody>\n",
       "    <tr>\n",
       "      <th>96</th>\n",
       "      <td>[H]OC(=O)C(C)(C)C</td>\n",
       "      <td>1000</td>\n",
       "      <td>[#6]-[#6](-[#6])(-[#6](=[#8])-[#8]-[H])-[#6]</td>\n",
       "      <td>CC(C)(C(=O)O)c1ccc(C(=O)CCCN2CCC(C(O)(c3ccccc3...</td>\n",
       "      <td>True</td>\n",
       "    </tr>\n",
       "    <tr>\n",
       "      <th>97</th>\n",
       "      <td>[H]Cl</td>\n",
       "      <td>1000</td>\n",
       "      <td>[#17]-[H]</td>\n",
       "      <td>CC(C)(C(=O)O)c1ccc(C(=O)CCCN2CCC(C(O)(c3ccccc3...</td>\n",
       "      <td>True</td>\n",
       "    </tr>\n",
       "    <tr>\n",
       "      <th>98</th>\n",
       "      <td>[H]C([H])(C)C(=O)C(:C):C</td>\n",
       "      <td>1000</td>\n",
       "      <td>[#6]:[#6](-[#6](=[#8])-[#6](-[#6])(-[H])-[H]):...</td>\n",
       "      <td>CC(C)(C(=O)O)c1ccc(C(=O)CCCN2CCC(C(O)(c3ccccc3...</td>\n",
       "      <td>True</td>\n",
       "    </tr>\n",
       "    <tr>\n",
       "      <th>99</th>\n",
       "      <td>[H]C([H])(C)N(C([H])([H])C)C([H])([H])C</td>\n",
       "      <td>1000</td>\n",
       "      <td>[#6]-[#6](-[#7](-[#6](-[#6])(-[H])-[H])-[#6](-...</td>\n",
       "      <td>CC(C)(C(=O)O)c1ccc(C(=O)CCCN2CCC(C(O)(c3ccccc3...</td>\n",
       "      <td>True</td>\n",
       "    </tr>\n",
       "    <tr>\n",
       "      <th>100</th>\n",
       "      <td>[H]OC(C)(C)C</td>\n",
       "      <td>1000</td>\n",
       "      <td>[#6]-[#6](-[#8]-[H])(-[#6])-[#6]</td>\n",
       "      <td>CC(C)(C(=O)O)c1ccc(C(=O)CCCN2CCC(C(O)(c3ccccc3...</td>\n",
       "      <td>True</td>\n",
       "    </tr>\n",
       "    <tr>\n",
       "      <th>...</th>\n",
       "      <td>...</td>\n",
       "      <td>...</td>\n",
       "      <td>...</td>\n",
       "      <td>...</td>\n",
       "      <td>...</td>\n",
       "    </tr>\n",
       "    <tr>\n",
       "      <th>64549624</th>\n",
       "      <td>[H]OC(=O)C([H])([H])C</td>\n",
       "      <td>32978520</td>\n",
       "      <td>[#8]=[#6](-[#8]-[H])-[#6](-[#6])(-[H])-[H]</td>\n",
       "      <td>C[C@@H](N)c1ccccc1.O=C(O)CCCCC1CCSS1</td>\n",
       "      <td>True</td>\n",
       "    </tr>\n",
       "    <tr>\n",
       "      <th>64549625</th>\n",
       "      <td>[H]C1([H])CC([H])(C)SS1</td>\n",
       "      <td>32978520</td>\n",
       "      <td>[#6]-[#6]1(-[#6]-[#6](-[#16]-[#16]-1)(-[H])-[H...</td>\n",
       "      <td>C[C@@H](N)c1ccccc1.O=C(O)CCCCC1CCSS1</td>\n",
       "      <td>True</td>\n",
       "    </tr>\n",
       "    <tr>\n",
       "      <th>64549674</th>\n",
       "      <td>[H]C(:C):C(Br):C([H]):C</td>\n",
       "      <td>32984157</td>\n",
       "      <td>[#35]-[#6](:[#6](:[#6])-[H]):[#6](:[#6])-[H]</td>\n",
       "      <td>Brc1ccc2ncccc2c1.Cl</td>\n",
       "      <td>True</td>\n",
       "    </tr>\n",
       "    <tr>\n",
       "      <th>64549675</th>\n",
       "      <td>[H]Cl</td>\n",
       "      <td>32984157</td>\n",
       "      <td>[#17]-[H]</td>\n",
       "      <td>Brc1ccc2ncccc2c1.Cl</td>\n",
       "      <td>True</td>\n",
       "    </tr>\n",
       "    <tr>\n",
       "      <th>64549676</th>\n",
       "      <td>[H]C(:C):N:C(:C):C</td>\n",
       "      <td>32984157</td>\n",
       "      <td>[#6]:[#6](:[#7]:[#6](:[#6])-[H]):[#6]</td>\n",
       "      <td>Brc1ccc2ncccc2c1.Cl</td>\n",
       "      <td>True</td>\n",
       "    </tr>\n",
       "  </tbody>\n",
       "</table>\n",
       "<p>6316024 rows × 5 columns</p>\n",
       "</div>"
      ],
      "text/plain": [
       "                                   FragmentSmiles  SubstanceID  \\\n",
       "96                              [H]OC(=O)C(C)(C)C         1000   \n",
       "97                                          [H]Cl         1000   \n",
       "98                       [H]C([H])(C)C(=O)C(:C):C         1000   \n",
       "99        [H]C([H])(C)N(C([H])([H])C)C([H])([H])C         1000   \n",
       "100                                  [H]OC(C)(C)C         1000   \n",
       "...                                           ...          ...   \n",
       "64549624                    [H]OC(=O)C([H])([H])C     32978520   \n",
       "64549625                  [H]C1([H])CC([H])(C)SS1     32978520   \n",
       "64549674                  [H]C(:C):C(Br):C([H]):C     32984157   \n",
       "64549675                                    [H]Cl     32984157   \n",
       "64549676                       [H]C(:C):N:C(:C):C     32984157   \n",
       "\n",
       "                                             FragmentSmarts  \\\n",
       "96             [#6]-[#6](-[#6])(-[#6](=[#8])-[#8]-[H])-[#6]   \n",
       "97                                                [#17]-[H]   \n",
       "98        [#6]:[#6](-[#6](=[#8])-[#6](-[#6])(-[H])-[H]):...   \n",
       "99        [#6]-[#6](-[#7](-[#6](-[#6])(-[H])-[H])-[#6](-...   \n",
       "100                        [#6]-[#6](-[#8]-[H])(-[#6])-[#6]   \n",
       "...                                                     ...   \n",
       "64549624         [#8]=[#6](-[#8]-[H])-[#6](-[#6])(-[H])-[H]   \n",
       "64549625  [#6]-[#6]1(-[#6]-[#6](-[#16]-[#16]-1)(-[H])-[H...   \n",
       "64549674       [#35]-[#6](:[#6](:[#6])-[H]):[#6](:[#6])-[H]   \n",
       "64549675                                          [#17]-[H]   \n",
       "64549676              [#6]:[#6](:[#7]:[#6](:[#6])-[H]):[#6]   \n",
       "\n",
       "                                                     Smiles  >1 Compound  \n",
       "96        CC(C)(C(=O)O)c1ccc(C(=O)CCCN2CCC(C(O)(c3ccccc3...         True  \n",
       "97        CC(C)(C(=O)O)c1ccc(C(=O)CCCN2CCC(C(O)(c3ccccc3...         True  \n",
       "98        CC(C)(C(=O)O)c1ccc(C(=O)CCCN2CCC(C(O)(c3ccccc3...         True  \n",
       "99        CC(C)(C(=O)O)c1ccc(C(=O)CCCN2CCC(C(O)(c3ccccc3...         True  \n",
       "100       CC(C)(C(=O)O)c1ccc(C(=O)CCCN2CCC(C(O)(c3ccccc3...         True  \n",
       "...                                                     ...          ...  \n",
       "64549624               C[C@@H](N)c1ccccc1.O=C(O)CCCCC1CCSS1         True  \n",
       "64549625               C[C@@H](N)c1ccccc1.O=C(O)CCCCC1CCSS1         True  \n",
       "64549674                                Brc1ccc2ncccc2c1.Cl         True  \n",
       "64549675                                Brc1ccc2ncccc2c1.Cl         True  \n",
       "64549676                                Brc1ccc2ncccc2c1.Cl         True  \n",
       "\n",
       "[6316024 rows x 5 columns]"
      ]
     },
     "execution_count": 136,
     "metadata": {},
     "output_type": "execute_result"
    }
   ],
   "source": [
    "CarrierFragmentDB.loc[CarrierFragmentDB['>1 Compound']==True]"
   ]
  },
  {
   "cell_type": "code",
   "execution_count": 194,
   "metadata": {
    "ExecuteTime": {
     "end_time": "2021-02-09T06:38:51.700735Z",
     "start_time": "2021-02-09T06:38:51.668788Z"
    }
   },
   "outputs": [],
   "source": [
    "CarrierFragmentDB2=CarrierFragmentDB[:100].groupby(['SubstanceID','Smiles']).agg({'FragmentSmiles': lambda x: x.tolist(),'FragmentSmarts': lambda x: x.tolist(),'>1 Compound': lambda x: x.tolist()}) "
   ]
  },
  {
   "cell_type": "code",
   "execution_count": 203,
   "metadata": {
    "ExecuteTime": {
     "end_time": "2021-02-09T06:44:57.582122Z",
     "start_time": "2021-02-09T06:44:57.570567Z"
    }
   },
   "outputs": [
    {
     "data": {
      "text/plain": [
       "pandas.core.series.Series"
      ]
     },
     "execution_count": 203,
     "metadata": {},
     "output_type": "execute_result"
    }
   ],
   "source": [
    "type(CarrierFragmentDB2['FragmentSmiles'])"
   ]
  },
  {
   "cell_type": "code",
   "execution_count": 174,
   "metadata": {
    "ExecuteTime": {
     "end_time": "2021-02-09T06:02:59.807626Z",
     "start_time": "2021-02-09T06:02:59.617984Z"
    }
   },
   "outputs": [
    {
     "data": {
      "text/plain": [
       "FragmentSmiles    object\n",
       "SubstanceID        int64\n",
       "FragmentSmarts    object\n",
       "Smiles            object\n",
       ">1 Compound         bool\n",
       "dtype: object"
      ]
     },
     "execution_count": 174,
     "metadata": {},
     "output_type": "execute_result"
    }
   ],
   "source": [
    "CarrierFragmentDB.dtypes"
   ]
  },
  {
   "cell_type": "code",
   "execution_count": 164,
   "metadata": {
    "ExecuteTime": {
     "end_time": "2021-02-09T05:07:21.738792Z",
     "start_time": "2021-02-09T05:07:21.730284Z"
    }
   },
   "outputs": [
    {
     "data": {
      "text/plain": [
       "list    [CC(=O)OCC1(COC(C)=O)Nc2cccc3cccc(c23)N1, CC(=...\n",
       "Name: 925, dtype: object"
      ]
     },
     "execution_count": 164,
     "metadata": {},
     "output_type": "execute_result"
    }
   ],
   "source": [
    "CarrierFragmentDB3.loc[925]['Smiles']"
   ]
  },
  {
   "cell_type": "code",
   "execution_count": 160,
   "metadata": {
    "ExecuteTime": {
     "end_time": "2021-02-09T05:03:25.528737Z",
     "start_time": "2021-02-09T05:03:24.368966Z"
    }
   },
   "outputs": [
    {
     "data": {
      "text/html": [
       "<div><strong>Dask DataFrame Structure:</strong></div>\n",
       "<div>\n",
       "<style scoped>\n",
       "    .dataframe tbody tr th:only-of-type {\n",
       "        vertical-align: middle;\n",
       "    }\n",
       "\n",
       "    .dataframe tbody tr th {\n",
       "        vertical-align: top;\n",
       "    }\n",
       "\n",
       "    .dataframe thead th {\n",
       "        text-align: right;\n",
       "    }\n",
       "</style>\n",
       "<table border=\"1\" class=\"dataframe\">\n",
       "  <thead>\n",
       "    <tr style=\"text-align: right;\">\n",
       "      <th></th>\n",
       "      <th>FragmentSmiles</th>\n",
       "      <th>SubstanceID</th>\n",
       "      <th>FragmentSmarts</th>\n",
       "      <th>Smiles</th>\n",
       "      <th>&gt;1 Compound</th>\n",
       "    </tr>\n",
       "    <tr>\n",
       "      <th>npartitions=3</th>\n",
       "      <th></th>\n",
       "      <th></th>\n",
       "      <th></th>\n",
       "      <th></th>\n",
       "      <th></th>\n",
       "    </tr>\n",
       "  </thead>\n",
       "  <tbody>\n",
       "    <tr>\n",
       "      <th>0</th>\n",
       "      <td>object</td>\n",
       "      <td>int64</td>\n",
       "      <td>object</td>\n",
       "      <td>object</td>\n",
       "      <td>bool</td>\n",
       "    </tr>\n",
       "    <tr>\n",
       "      <th>356629</th>\n",
       "      <td>...</td>\n",
       "      <td>...</td>\n",
       "      <td>...</td>\n",
       "      <td>...</td>\n",
       "      <td>...</td>\n",
       "    </tr>\n",
       "    <tr>\n",
       "      <th>713258</th>\n",
       "      <td>...</td>\n",
       "      <td>...</td>\n",
       "      <td>...</td>\n",
       "      <td>...</td>\n",
       "      <td>...</td>\n",
       "    </tr>\n",
       "    <tr>\n",
       "      <th>1000000</th>\n",
       "      <td>...</td>\n",
       "      <td>...</td>\n",
       "      <td>...</td>\n",
       "      <td>...</td>\n",
       "      <td>...</td>\n",
       "    </tr>\n",
       "  </tbody>\n",
       "</table>\n",
       "</div>\n",
       "<div>Dask Name: loc, 184 tasks</div>"
      ],
      "text/plain": [
       "Dask DataFrame Structure:\n",
       "              FragmentSmiles SubstanceID FragmentSmarts  Smiles >1 Compound\n",
       "npartitions=3                                                              \n",
       "0                     object       int64         object  object        bool\n",
       "356629                   ...         ...            ...     ...         ...\n",
       "713258                   ...         ...            ...     ...         ...\n",
       "1000000                  ...         ...            ...     ...         ...\n",
       "Dask Name: loc, 184 tasks"
      ]
     },
     "execution_count": 160,
     "metadata": {},
     "output_type": "execute_result"
    }
   ],
   "source": [
    "CarrierFragmentDBDask.loc[:1000000]"
   ]
  },
  {
   "cell_type": "code",
   "execution_count": 155,
   "metadata": {
    "ExecuteTime": {
     "end_time": "2021-02-09T04:28:55.666172Z",
     "start_time": "2021-02-09T04:28:55.651708Z"
    }
   },
   "outputs": [
    {
     "data": {
      "text/plain": [
       "23"
      ]
     },
     "execution_count": 155,
     "metadata": {},
     "output_type": "execute_result"
    }
   ],
   "source": [
    "len(CarrierFragmentDB[:100].SubstanceID.unique())"
   ]
  },
  {
   "cell_type": "code",
   "execution_count": 206,
   "metadata": {
    "ExecuteTime": {
     "end_time": "2021-02-09T07:08:17.946347Z",
     "start_time": "2021-02-09T07:08:16.605390Z"
    }
   },
   "outputs": [],
   "source": [
    "fdb=CarrierFragmentDB.loc[CarrierFragmentDB['>1 Compound']==True]"
   ]
  },
  {
   "cell_type": "code",
   "execution_count": 207,
   "metadata": {
    "ExecuteTime": {
     "end_time": "2021-02-09T07:08:26.068405Z",
     "start_time": "2021-02-09T07:08:20.977091Z"
    }
   },
   "outputs": [],
   "source": [
    "fdbdask=dd.from_pandas(fdb,npartitions=16)"
   ]
  },
  {
   "cell_type": "code",
   "execution_count": 210,
   "metadata": {
    "ExecuteTime": {
     "end_time": "2021-02-09T07:59:29.880327Z",
     "start_time": "2021-02-09T07:59:29.843332Z"
    }
   },
   "outputs": [
    {
     "data": {
      "text/html": [
       "<div><strong>Dask DataFrame Structure:</strong></div>\n",
       "<div>\n",
       "<style scoped>\n",
       "    .dataframe tbody tr th:only-of-type {\n",
       "        vertical-align: middle;\n",
       "    }\n",
       "\n",
       "    .dataframe tbody tr th {\n",
       "        vertical-align: top;\n",
       "    }\n",
       "\n",
       "    .dataframe thead th {\n",
       "        text-align: right;\n",
       "    }\n",
       "</style>\n",
       "<table border=\"1\" class=\"dataframe\">\n",
       "  <thead>\n",
       "    <tr style=\"text-align: right;\">\n",
       "      <th></th>\n",
       "      <th>FragmentSmiles</th>\n",
       "      <th>SubstanceID</th>\n",
       "      <th>FragmentSmarts</th>\n",
       "      <th>Smiles</th>\n",
       "      <th>&gt;1 Compound</th>\n",
       "    </tr>\n",
       "    <tr>\n",
       "      <th>npartitions=16</th>\n",
       "      <th></th>\n",
       "      <th></th>\n",
       "      <th></th>\n",
       "      <th></th>\n",
       "      <th></th>\n",
       "    </tr>\n",
       "  </thead>\n",
       "  <tbody>\n",
       "    <tr>\n",
       "      <th>96</th>\n",
       "      <td>object</td>\n",
       "      <td>int64</td>\n",
       "      <td>object</td>\n",
       "      <td>object</td>\n",
       "      <td>bool</td>\n",
       "    </tr>\n",
       "    <tr>\n",
       "      <th>7314391</th>\n",
       "      <td>...</td>\n",
       "      <td>...</td>\n",
       "      <td>...</td>\n",
       "      <td>...</td>\n",
       "      <td>...</td>\n",
       "    </tr>\n",
       "    <tr>\n",
       "      <th>...</th>\n",
       "      <td>...</td>\n",
       "      <td>...</td>\n",
       "      <td>...</td>\n",
       "      <td>...</td>\n",
       "      <td>...</td>\n",
       "    </tr>\n",
       "    <tr>\n",
       "      <th>60559284</th>\n",
       "      <td>...</td>\n",
       "      <td>...</td>\n",
       "      <td>...</td>\n",
       "      <td>...</td>\n",
       "      <td>...</td>\n",
       "    </tr>\n",
       "    <tr>\n",
       "      <th>64549676</th>\n",
       "      <td>...</td>\n",
       "      <td>...</td>\n",
       "      <td>...</td>\n",
       "      <td>...</td>\n",
       "      <td>...</td>\n",
       "    </tr>\n",
       "  </tbody>\n",
       "</table>\n",
       "</div>\n",
       "<div>Dask Name: from_pandas, 16 tasks</div>"
      ],
      "text/plain": [
       "Dask DataFrame Structure:\n",
       "               FragmentSmiles SubstanceID FragmentSmarts  Smiles >1 Compound\n",
       "npartitions=16                                                              \n",
       "96                     object       int64         object  object        bool\n",
       "7314391                   ...         ...            ...     ...         ...\n",
       "...                       ...         ...            ...     ...         ...\n",
       "60559284                  ...         ...            ...     ...         ...\n",
       "64549676                  ...         ...            ...     ...         ...\n",
       "Dask Name: from_pandas, 16 tasks"
      ]
     },
     "execution_count": 210,
     "metadata": {},
     "output_type": "execute_result"
    }
   ],
   "source": [
    "fdbdask"
   ]
  },
  {
   "cell_type": "code",
   "execution_count": 209,
   "metadata": {
    "ExecuteTime": {
     "end_time": "2021-02-09T07:08:31.541851Z",
     "start_time": "2021-02-09T07:08:31.526088Z"
    }
   },
   "outputs": [],
   "source": [
    "fdbdask=client.persist(fdbdask)"
   ]
  },
  {
   "cell_type": "code",
   "execution_count": 211,
   "metadata": {
    "ExecuteTime": {
     "end_time": "2021-02-09T08:07:10.072829Z",
     "start_time": "2021-02-09T08:00:08.566167Z"
    }
   },
   "outputs": [],
   "source": [
    "CarrierFragmentDB3=fdbdask.groupby(['Smiles']).agg([list]).compute() "
   ]
  },
  {
   "cell_type": "code",
   "execution_count": null,
   "metadata": {},
   "outputs": [],
   "source": [
    "CarrierFragmentDB3=CarrierFragmentDB3.drop('list',axis=1,level=1)"
   ]
  },
  {
   "cell_type": "code",
   "execution_count": 592,
   "metadata": {
    "ExecuteTime": {
     "end_time": "2021-02-10T08:31:30.734308Z",
     "start_time": "2021-02-10T08:31:22.435802Z"
    }
   },
   "outputs": [],
   "source": [
    "writepickle(CarrierFragmentDB3,'/home/aa2133/Impurity-Project/Reaxys_Data/CarrierFragmentDBmixtures_reduced(n=6)')"
   ]
  },
  {
   "cell_type": "code",
   "execution_count": 4,
   "metadata": {
    "ExecuteTime": {
     "end_time": "2021-02-10T11:59:49.348399Z",
     "start_time": "2021-02-10T11:59:37.065889Z"
    }
   },
   "outputs": [],
   "source": [
    "CarrierFragmentDB3=openpickle('/home/aa2133/Impurity-Project/Reaxys_Data/CarrierFragmentDBmixtures_reduced(n=6).pickle')"
   ]
  },
  {
   "cell_type": "code",
   "execution_count": 5,
   "metadata": {
    "ExecuteTime": {
     "end_time": "2021-02-10T11:59:53.836572Z",
     "start_time": "2021-02-10T11:59:53.754098Z"
    }
   },
   "outputs": [
    {
     "data": {
      "text/html": [
       "<div>\n",
       "<style scoped>\n",
       "    .dataframe tbody tr th:only-of-type {\n",
       "        vertical-align: middle;\n",
       "    }\n",
       "\n",
       "    .dataframe tbody tr th {\n",
       "        vertical-align: top;\n",
       "    }\n",
       "\n",
       "    .dataframe thead th {\n",
       "        text-align: right;\n",
       "    }\n",
       "</style>\n",
       "<table border=\"1\" class=\"dataframe\">\n",
       "  <thead>\n",
       "    <tr style=\"text-align: right;\">\n",
       "      <th></th>\n",
       "      <th>Smiles</th>\n",
       "      <th>FragmentSmiles</th>\n",
       "      <th>SubstanceID</th>\n",
       "      <th>FragmentSmarts</th>\n",
       "      <th>&gt;1 Compound</th>\n",
       "    </tr>\n",
       "  </thead>\n",
       "  <tbody>\n",
       "    <tr>\n",
       "      <th>0</th>\n",
       "      <td>B#N.N.[LiH].[LiH].[LiH]</td>\n",
       "      <td>[B#N.N.[LiH].[LiH].[LiH]]</td>\n",
       "      <td>[16832508]</td>\n",
       "      <td>[[#5]#[#7], [#7], [LiH], [LiH], [LiH]]</td>\n",
       "      <td>[True]</td>\n",
       "    </tr>\n",
       "    <tr>\n",
       "      <th>1</th>\n",
       "      <td>B#N.[C]</td>\n",
       "      <td>[B#N.C]</td>\n",
       "      <td>[17537401]</td>\n",
       "      <td>[[#5]#[#7], [#6]]</td>\n",
       "      <td>[True]</td>\n",
       "    </tr>\n",
       "    <tr>\n",
       "      <th>2</th>\n",
       "      <td>B#N.[Zn]</td>\n",
       "      <td>[B#N.[Zn]]</td>\n",
       "      <td>[16938175]</td>\n",
       "      <td>[[#5]#[#7], [Zn]]</td>\n",
       "      <td>[True]</td>\n",
       "    </tr>\n",
       "    <tr>\n",
       "      <th>3</th>\n",
       "      <td>B(C1CCCCC1)C1CCCCC1.CSC</td>\n",
       "      <td>[[H]B(C([H])(C)C)C([H])(C)C, [H]C([H])([H])SC(...</td>\n",
       "      <td>[8943183, 8943183]</td>\n",
       "      <td>[[#5](-[#6](-[#6])(-[#6])-[H])(-[#6](-[#6])(-[...</td>\n",
       "      <td>[True, True]</td>\n",
       "    </tr>\n",
       "    <tr>\n",
       "      <th>4</th>\n",
       "      <td>B(C1CCCCC1)C1CCCCC1.[H-].[K+]</td>\n",
       "      <td>[[H]B(C([H])(C)C)C([H])(C)C, [K+]]</td>\n",
       "      <td>[9534159, 9534159]</td>\n",
       "      <td>[[#5](-[#6](-[#6])(-[#6])-[H])(-[#6](-[#6])(-[...</td>\n",
       "      <td>[True, True]</td>\n",
       "    </tr>\n",
       "    <tr>\n",
       "      <th>...</th>\n",
       "      <td>...</td>\n",
       "      <td>...</td>\n",
       "      <td>...</td>\n",
       "      <td>...</td>\n",
       "      <td>...</td>\n",
       "    </tr>\n",
       "    <tr>\n",
       "      <th>1249042</th>\n",
       "      <td>c1ccc2c(c1)-c1ccccc1-c1ccccc1[P+]1(c3ccccc3-2)...</td>\n",
       "      <td>[C[P-](C)(C)(C)(C)C, C:C(:C)[P+]1(C(:C):C)C(:C...</td>\n",
       "      <td>[32973747, 32973747]</td>\n",
       "      <td>[[#6]:[#6](:[#6])-[#15+]1(-[#6](:[#6]):[#6])-[...</td>\n",
       "      <td>[True, True]</td>\n",
       "    </tr>\n",
       "    <tr>\n",
       "      <th>1249043</th>\n",
       "      <td>c1ccc2c(c1)CCCN2C1=[S][Hg+2]2([S-]3C(N4CCCc5cc...</td>\n",
       "      <td>[NC1=[SH][Hg+2]2([S-]3C(N)=[SH][Hg+2]34[SH]=C(...</td>\n",
       "      <td>[27417785, 27417785]</td>\n",
       "      <td>[[#7]-[#6]1=[#16]-[Hg+2]2(-[#16-]3-[#6](-[#7])...</td>\n",
       "      <td>[True, True]</td>\n",
       "    </tr>\n",
       "    <tr>\n",
       "      <th>1249044</th>\n",
       "      <td>c1ccc2c(c1)O[P+]1(O2)Oc2ccccc2O1.c1ccc2c(c1)O[...</td>\n",
       "      <td>[O[PH](O)(O)(O)(O)O, C1:CO[P+]2(O1)OC:CO2]</td>\n",
       "      <td>[22774212, 22774212]</td>\n",
       "      <td>[[#6]1:[#6]-[#8]-[#15+]2(-[#8]-1)-[#8]-[#6]:[#...</td>\n",
       "      <td>[True, True]</td>\n",
       "    </tr>\n",
       "    <tr>\n",
       "      <th>1249045</th>\n",
       "      <td>c1ccc2cc(B(c3ccc4ccccc4c3)c3ccc4ccccc4c3)ccc2c...</td>\n",
       "      <td>[[H]C(:C):N:C([H]):C, C:C(:C)B(C(:C):C)C(:C):C]</td>\n",
       "      <td>[18851306, 18851306]</td>\n",
       "      <td>[[#6]:[#6](-[#5](-[#6](:[#6]):[#6])-[#6](:[#6]...</td>\n",
       "      <td>[True, True]</td>\n",
       "    </tr>\n",
       "    <tr>\n",
       "      <th>1249046</th>\n",
       "      <td>c1ccncc1.c1nc[nH]n1</td>\n",
       "      <td>[[H]C1:N:C([H]):N([H]):N:1, [H]C(:C):N:C([H]):...</td>\n",
       "      <td>[19243410, 19243410, 19243410]</td>\n",
       "      <td>[[#6]:[#6](:[#7]:[#6](:[#6])-[H])-[H], [#6]1(:...</td>\n",
       "      <td>[True, True, True]</td>\n",
       "    </tr>\n",
       "  </tbody>\n",
       "</table>\n",
       "<p>1249047 rows × 5 columns</p>\n",
       "</div>"
      ],
      "text/plain": [
       "                                                    Smiles  \\\n",
       "0                                  B#N.N.[LiH].[LiH].[LiH]   \n",
       "1                                                  B#N.[C]   \n",
       "2                                                 B#N.[Zn]   \n",
       "3                                  B(C1CCCCC1)C1CCCCC1.CSC   \n",
       "4                            B(C1CCCCC1)C1CCCCC1.[H-].[K+]   \n",
       "...                                                    ...   \n",
       "1249042  c1ccc2c(c1)-c1ccccc1-c1ccccc1[P+]1(c3ccccc3-2)...   \n",
       "1249043  c1ccc2c(c1)CCCN2C1=[S][Hg+2]2([S-]3C(N4CCCc5cc...   \n",
       "1249044  c1ccc2c(c1)O[P+]1(O2)Oc2ccccc2O1.c1ccc2c(c1)O[...   \n",
       "1249045  c1ccc2cc(B(c3ccc4ccccc4c3)c3ccc4ccccc4c3)ccc2c...   \n",
       "1249046                                c1ccncc1.c1nc[nH]n1   \n",
       "\n",
       "                                            FragmentSmiles  \\\n",
       "0                                [B#N.N.[LiH].[LiH].[LiH]]   \n",
       "1                                                  [B#N.C]   \n",
       "2                                               [B#N.[Zn]]   \n",
       "3        [[H]B(C([H])(C)C)C([H])(C)C, [H]C([H])([H])SC(...   \n",
       "4                       [[H]B(C([H])(C)C)C([H])(C)C, [K+]]   \n",
       "...                                                    ...   \n",
       "1249042  [C[P-](C)(C)(C)(C)C, C:C(:C)[P+]1(C(:C):C)C(:C...   \n",
       "1249043  [NC1=[SH][Hg+2]2([S-]3C(N)=[SH][Hg+2]34[SH]=C(...   \n",
       "1249044         [O[PH](O)(O)(O)(O)O, C1:CO[P+]2(O1)OC:CO2]   \n",
       "1249045    [[H]C(:C):N:C([H]):C, C:C(:C)B(C(:C):C)C(:C):C]   \n",
       "1249046  [[H]C1:N:C([H]):N([H]):N:1, [H]C(:C):N:C([H]):...   \n",
       "\n",
       "                            SubstanceID  \\\n",
       "0                            [16832508]   \n",
       "1                            [17537401]   \n",
       "2                            [16938175]   \n",
       "3                    [8943183, 8943183]   \n",
       "4                    [9534159, 9534159]   \n",
       "...                                 ...   \n",
       "1249042            [32973747, 32973747]   \n",
       "1249043            [27417785, 27417785]   \n",
       "1249044            [22774212, 22774212]   \n",
       "1249045            [18851306, 18851306]   \n",
       "1249046  [19243410, 19243410, 19243410]   \n",
       "\n",
       "                                            FragmentSmarts         >1 Compound  \n",
       "0                   [[#5]#[#7], [#7], [LiH], [LiH], [LiH]]              [True]  \n",
       "1                                        [[#5]#[#7], [#6]]              [True]  \n",
       "2                                        [[#5]#[#7], [Zn]]              [True]  \n",
       "3        [[#5](-[#6](-[#6])(-[#6])-[H])(-[#6](-[#6])(-[...        [True, True]  \n",
       "4        [[#5](-[#6](-[#6])(-[#6])-[H])(-[#6](-[#6])(-[...        [True, True]  \n",
       "...                                                    ...                 ...  \n",
       "1249042  [[#6]:[#6](:[#6])-[#15+]1(-[#6](:[#6]):[#6])-[...        [True, True]  \n",
       "1249043  [[#7]-[#6]1=[#16]-[Hg+2]2(-[#16-]3-[#6](-[#7])...        [True, True]  \n",
       "1249044  [[#6]1:[#6]-[#8]-[#15+]2(-[#8]-1)-[#8]-[#6]:[#...        [True, True]  \n",
       "1249045  [[#6]:[#6](-[#5](-[#6](:[#6]):[#6])-[#6](:[#6]...        [True, True]  \n",
       "1249046  [[#6]:[#6](:[#7]:[#6](:[#6])-[H])-[H], [#6]1(:...  [True, True, True]  \n",
       "\n",
       "[1249047 rows x 5 columns]"
      ]
     },
     "execution_count": 5,
     "metadata": {},
     "output_type": "execute_result"
    }
   ],
   "source": [
    "CarrierFragmentDB3"
   ]
  },
  {
   "cell_type": "code",
   "execution_count": 287,
   "metadata": {
    "ExecuteTime": {
     "end_time": "2021-02-09T09:39:12.603607Z",
     "start_time": "2021-02-09T09:39:12.574011Z"
    }
   },
   "outputs": [],
   "source": [
    "ty=CarrierFragmentDB3[:2].apply(getMixturefrags,natoms=6,axis=1)"
   ]
  },
  {
   "cell_type": "code",
   "execution_count": 318,
   "metadata": {
    "ExecuteTime": {
     "end_time": "2021-02-09T10:22:36.637769Z",
     "start_time": "2021-02-09T10:22:36.617002Z"
    }
   },
   "outputs": [
    {
     "data": {
      "text/plain": [
       "0    [[#5]#[#7], [#7], [LiH], [LiH], [LiH]]\n",
       "1                         [[#5]#[#7], [#6]]\n",
       "dtype: object"
      ]
     },
     "execution_count": 318,
     "metadata": {},
     "output_type": "execute_result"
    }
   ],
   "source": [
    "ty"
   ]
  },
  {
   "cell_type": "code",
   "execution_count": 336,
   "metadata": {
    "ExecuteTime": {
     "end_time": "2021-02-09T10:54:20.434613Z",
     "start_time": "2021-02-09T10:54:15.913978Z"
    }
   },
   "outputs": [],
   "source": [
    "CarrierFragmentDB3Dask=dd.from_pandas(CarrierFragmentDB3,npartitions=16)"
   ]
  },
  {
   "cell_type": "code",
   "execution_count": 337,
   "metadata": {
    "ExecuteTime": {
     "end_time": "2021-02-09T10:54:23.677344Z",
     "start_time": "2021-02-09T10:54:22.623090Z"
    }
   },
   "outputs": [],
   "source": [
    "CarrierFragmentDB3Dask=client.persist(CarrierFragmentDB3Dask)"
   ]
  },
  {
   "cell_type": "code",
   "execution_count": 341,
   "metadata": {
    "ExecuteTime": {
     "end_time": "2021-02-09T10:56:50.957308Z",
     "start_time": "2021-02-09T10:56:50.813618Z"
    }
   },
   "outputs": [
    {
     "data": {
      "text/plain": [
       "0    B#N.N.[LiH].[LiH].[LiH]\n",
       "Name: Smiles, dtype: object"
      ]
     },
     "execution_count": 341,
     "metadata": {},
     "output_type": "execute_result"
    }
   ],
   "source": [
    "CarrierFragmentDB3Dask.loc[CarrierFragmentDB3Dask['Smiles']=='B#N.N.[LiH].[LiH].[LiH]'].compute()['Smiles']"
   ]
  },
  {
   "cell_type": "code",
   "execution_count": 247,
   "metadata": {
    "ExecuteTime": {
     "end_time": "2021-02-09T08:59:43.837249Z",
     "start_time": "2021-02-09T08:59:43.062744Z"
    }
   },
   "outputs": [
    {
     "data": {
      "text/plain": [
       "34150950    B#N.N.[LiH].[LiH].[LiH]\n",
       "Name: Smiles, dtype: object"
      ]
     },
     "execution_count": 247,
     "metadata": {},
     "output_type": "execute_result"
    }
   ],
   "source": [
    "CarrierFragmentDBDask.loc[CarrierFragmentDBDask['Smiles']=='B#N.N.[LiH].[LiH].[LiH]'].compute()['Smiles']"
   ]
  },
  {
   "cell_type": "markdown",
   "metadata": {},
   "source": [
    "Getting mixture smarts"
   ]
  },
  {
   "cell_type": "code",
   "execution_count": 342,
   "metadata": {
    "ExecuteTime": {
     "end_time": "2021-02-09T10:57:06.257875Z",
     "start_time": "2021-02-09T10:57:06.188433Z"
    }
   },
   "outputs": [],
   "source": [
    "mixturesmarts2=CarrierFragmentDB3Dask.loc[:2].map_partitions(getMixturefragspartition,natoms=6,meta=('FragmentSmarts','O')).compute()"
   ]
  },
  {
   "cell_type": "code",
   "execution_count": 344,
   "metadata": {
    "ExecuteTime": {
     "end_time": "2021-02-09T11:09:20.600372Z",
     "start_time": "2021-02-09T10:57:27.942105Z"
    }
   },
   "outputs": [],
   "source": [
    "mixturesmarts=CarrierFragmentDB3Dask.map_partitions(getMixturefragspartition,natoms=6,meta=('FragmentSmarts','O')).compute()"
   ]
  },
  {
   "cell_type": "code",
   "execution_count": 6,
   "metadata": {
    "ExecuteTime": {
     "end_time": "2021-02-10T12:05:50.916311Z",
     "start_time": "2021-02-10T12:05:46.376491Z"
    }
   },
   "outputs": [],
   "source": [
    "mixturesmarts=openpickle('/home/aa2133/Impurity-Project/Reaxys_Data/mixturesmarts.pickle')"
   ]
  },
  {
   "cell_type": "code",
   "execution_count": 611,
   "metadata": {
    "ExecuteTime": {
     "end_time": "2021-02-10T09:29:42.400884Z",
     "start_time": "2021-02-10T09:29:36.945219Z"
    }
   },
   "outputs": [],
   "source": [
    "writepickle(mixturesmarts,'/home/aa2133/Impurity-Project/Reaxys_Data/mixturesmarts')"
   ]
  },
  {
   "cell_type": "code",
   "execution_count": 7,
   "metadata": {
    "ExecuteTime": {
     "end_time": "2021-02-10T12:06:00.639165Z",
     "start_time": "2021-02-10T12:06:00.631962Z"
    }
   },
   "outputs": [
    {
     "data": {
      "text/plain": [
       "['[#6]:[#6](:[#7]:[#6](:[#6])-[H])-[H]',\n",
       " '[#6]1(:[#7]:[#6](:[#7]:[#7]:1)-[H])-[H]',\n",
       " '[#6]1(:[#7]:[#6](:[#7](:[#7]:1)-[H])-[H])-[H]']"
      ]
     },
     "execution_count": 7,
     "metadata": {},
     "output_type": "execute_result"
    }
   ],
   "source": [
    "mixturesmarts[1249046]"
   ]
  },
  {
   "cell_type": "code",
   "execution_count": 354,
   "metadata": {
    "ExecuteTime": {
     "end_time": "2021-02-09T12:13:52.413282Z",
     "start_time": "2021-02-09T12:13:52.194490Z"
    }
   },
   "outputs": [],
   "source": [
    "mixturesmartsdf=pd.DataFrame(mixturesmarts)"
   ]
  },
  {
   "cell_type": "code",
   "execution_count": 358,
   "metadata": {
    "ExecuteTime": {
     "end_time": "2021-02-09T12:16:58.571026Z",
     "start_time": "2021-02-09T12:16:58.333911Z"
    }
   },
   "outputs": [],
   "source": [
    "CarrierFragmentDB3['FragmentSmarts']=mixturesmartsdf['FragmentSmarts']"
   ]
  },
  {
   "cell_type": "code",
   "execution_count": 604,
   "metadata": {
    "ExecuteTime": {
     "end_time": "2021-02-10T08:58:25.475175Z",
     "start_time": "2021-02-10T08:58:17.512132Z"
    }
   },
   "outputs": [],
   "source": [
    "CarrierFragmentDB4=CarrierFragmentDB3.explode('FragmentSmarts')"
   ]
  },
  {
   "cell_type": "code",
   "execution_count": 606,
   "metadata": {
    "ExecuteTime": {
     "end_time": "2021-02-10T08:59:39.130213Z",
     "start_time": "2021-02-10T08:59:38.424424Z"
    }
   },
   "outputs": [
    {
     "data": {
      "text/html": [
       "<div>\n",
       "<style scoped>\n",
       "    .dataframe tbody tr th:only-of-type {\n",
       "        vertical-align: middle;\n",
       "    }\n",
       "\n",
       "    .dataframe tbody tr th {\n",
       "        vertical-align: top;\n",
       "    }\n",
       "\n",
       "    .dataframe thead th {\n",
       "        text-align: right;\n",
       "    }\n",
       "</style>\n",
       "<table border=\"1\" class=\"dataframe\">\n",
       "  <thead>\n",
       "    <tr style=\"text-align: right;\">\n",
       "      <th></th>\n",
       "      <th>Smiles</th>\n",
       "      <th>FragmentSmarts</th>\n",
       "    </tr>\n",
       "  </thead>\n",
       "  <tbody>\n",
       "    <tr>\n",
       "      <th>0</th>\n",
       "      <td>B#N.N.[LiH].[LiH].[LiH]</td>\n",
       "      <td>[#5]#[#7]</td>\n",
       "    </tr>\n",
       "    <tr>\n",
       "      <th>0</th>\n",
       "      <td>B#N.N.[LiH].[LiH].[LiH]</td>\n",
       "      <td>[#7]</td>\n",
       "    </tr>\n",
       "    <tr>\n",
       "      <th>0</th>\n",
       "      <td>B#N.N.[LiH].[LiH].[LiH]</td>\n",
       "      <td>[LiH]</td>\n",
       "    </tr>\n",
       "    <tr>\n",
       "      <th>0</th>\n",
       "      <td>B#N.N.[LiH].[LiH].[LiH]</td>\n",
       "      <td>[LiH]</td>\n",
       "    </tr>\n",
       "    <tr>\n",
       "      <th>0</th>\n",
       "      <td>B#N.N.[LiH].[LiH].[LiH]</td>\n",
       "      <td>[LiH]</td>\n",
       "    </tr>\n",
       "    <tr>\n",
       "      <th>...</th>\n",
       "      <td>...</td>\n",
       "      <td>...</td>\n",
       "    </tr>\n",
       "    <tr>\n",
       "      <th>1249045</th>\n",
       "      <td>c1ccc2cc(B(c3ccc4ccccc4c3)c3ccc4ccccc4c3)ccc2c...</td>\n",
       "      <td>[#6]:[#6](-[#5](-[#6](:[#6]):[#6])-[#6](:[#6])...</td>\n",
       "    </tr>\n",
       "    <tr>\n",
       "      <th>1249045</th>\n",
       "      <td>c1ccc2cc(B(c3ccc4ccccc4c3)c3ccc4ccccc4c3)ccc2c...</td>\n",
       "      <td>[#6]:[#6](:[#7]:[#6](:[#6])-[H])-[H]</td>\n",
       "    </tr>\n",
       "    <tr>\n",
       "      <th>1249046</th>\n",
       "      <td>c1ccncc1.c1nc[nH]n1</td>\n",
       "      <td>[#6]:[#6](:[#7]:[#6](:[#6])-[H])-[H]</td>\n",
       "    </tr>\n",
       "    <tr>\n",
       "      <th>1249046</th>\n",
       "      <td>c1ccncc1.c1nc[nH]n1</td>\n",
       "      <td>[#6]1(:[#7]:[#6](:[#7]:[#7]:1)-[H])-[H]</td>\n",
       "    </tr>\n",
       "    <tr>\n",
       "      <th>1249046</th>\n",
       "      <td>c1ccncc1.c1nc[nH]n1</td>\n",
       "      <td>[#6]1(:[#7]:[#6](:[#7](:[#7]:1)-[H])-[H])-[H]</td>\n",
       "    </tr>\n",
       "  </tbody>\n",
       "</table>\n",
       "<p>8263090 rows × 2 columns</p>\n",
       "</div>"
      ],
      "text/plain": [
       "                                                    Smiles  \\\n",
       "0                                  B#N.N.[LiH].[LiH].[LiH]   \n",
       "0                                  B#N.N.[LiH].[LiH].[LiH]   \n",
       "0                                  B#N.N.[LiH].[LiH].[LiH]   \n",
       "0                                  B#N.N.[LiH].[LiH].[LiH]   \n",
       "0                                  B#N.N.[LiH].[LiH].[LiH]   \n",
       "...                                                    ...   \n",
       "1249045  c1ccc2cc(B(c3ccc4ccccc4c3)c3ccc4ccccc4c3)ccc2c...   \n",
       "1249045  c1ccc2cc(B(c3ccc4ccccc4c3)c3ccc4ccccc4c3)ccc2c...   \n",
       "1249046                                c1ccncc1.c1nc[nH]n1   \n",
       "1249046                                c1ccncc1.c1nc[nH]n1   \n",
       "1249046                                c1ccncc1.c1nc[nH]n1   \n",
       "\n",
       "                                            FragmentSmarts  \n",
       "0                                                [#5]#[#7]  \n",
       "0                                                     [#7]  \n",
       "0                                                    [LiH]  \n",
       "0                                                    [LiH]  \n",
       "0                                                    [LiH]  \n",
       "...                                                    ...  \n",
       "1249045  [#6]:[#6](-[#5](-[#6](:[#6]):[#6])-[#6](:[#6])...  \n",
       "1249045               [#6]:[#6](:[#7]:[#6](:[#6])-[H])-[H]  \n",
       "1249046               [#6]:[#6](:[#7]:[#6](:[#6])-[H])-[H]  \n",
       "1249046            [#6]1(:[#7]:[#6](:[#7]:[#7]:1)-[H])-[H]  \n",
       "1249046      [#6]1(:[#7]:[#6](:[#7](:[#7]:1)-[H])-[H])-[H]  \n",
       "\n",
       "[8263090 rows x 2 columns]"
      ]
     },
     "execution_count": 606,
     "metadata": {},
     "output_type": "execute_result"
    }
   ],
   "source": [
    "CarrierFragmentDB4[['Smiles','FragmentSmarts']]"
   ]
  },
  {
   "cell_type": "code",
   "execution_count": 393,
   "metadata": {
    "ExecuteTime": {
     "end_time": "2021-02-09T16:37:37.926172Z",
     "start_time": "2021-02-09T16:37:23.913739Z"
    }
   },
   "outputs": [],
   "source": [
    "CarrierFragmentDB4Dask=dd.from_pandas(CarrierFragmentDB4,npartitions=64)\n",
    "CarrierFragmentDB4Dask=client.persist(CarrierFragmentDB4Dask)"
   ]
  },
  {
   "cell_type": "code",
   "execution_count": 394,
   "metadata": {
    "ExecuteTime": {
     "end_time": "2021-02-09T16:39:16.934125Z",
     "start_time": "2021-02-09T16:38:11.207454Z"
    }
   },
   "outputs": [],
   "source": [
    "mixturefragsmiles=CarrierFragmentDB4Dask.map_partitions(getsmilespartition,meta=('FragmentSmiles','O')).compute()"
   ]
  },
  {
   "cell_type": "code",
   "execution_count": 395,
   "metadata": {
    "ExecuteTime": {
     "end_time": "2021-02-09T16:39:27.417317Z",
     "start_time": "2021-02-09T16:39:27.400226Z"
    }
   },
   "outputs": [
    {
     "data": {
      "text/plain": [
       "0                                B#N\n",
       "0                                  N\n",
       "0                              [LiH]\n",
       "0                              [LiH]\n",
       "0                              [LiH]\n",
       "                     ...            \n",
       "1249045     C:C(:C)B(C(:C):C)C(:C):C\n",
       "1249045          [H]C(:C):N:C([H]):C\n",
       "1249046          [H]C(:C):N:C([H]):C\n",
       "1249046         [H]C1:N:N:C([H]):N:1\n",
       "1249046    [H]C1:N:C([H]):N([H]):N:1\n",
       "Name: FragmentSmiles, Length: 8263090, dtype: object"
      ]
     },
     "execution_count": 395,
     "metadata": {},
     "output_type": "execute_result"
    }
   ],
   "source": [
    "mixturefragsmiles"
   ]
  },
  {
   "cell_type": "code",
   "execution_count": 607,
   "metadata": {
    "ExecuteTime": {
     "end_time": "2021-02-10T09:00:00.385331Z",
     "start_time": "2021-02-10T08:59:57.756102Z"
    }
   },
   "outputs": [],
   "source": [
    "CarrierFragmentDB4['FragmentSmiles']=pd.DataFrame(mixturefragsmiles)['FragmentSmiles']"
   ]
  },
  {
   "cell_type": "code",
   "execution_count": 608,
   "metadata": {
    "ExecuteTime": {
     "end_time": "2021-02-10T09:00:04.908248Z",
     "start_time": "2021-02-10T09:00:03.908511Z"
    }
   },
   "outputs": [
    {
     "data": {
      "text/html": [
       "<div>\n",
       "<style scoped>\n",
       "    .dataframe tbody tr th:only-of-type {\n",
       "        vertical-align: middle;\n",
       "    }\n",
       "\n",
       "    .dataframe tbody tr th {\n",
       "        vertical-align: top;\n",
       "    }\n",
       "\n",
       "    .dataframe thead th {\n",
       "        text-align: right;\n",
       "    }\n",
       "</style>\n",
       "<table border=\"1\" class=\"dataframe\">\n",
       "  <thead>\n",
       "    <tr style=\"text-align: right;\">\n",
       "      <th></th>\n",
       "      <th>Smiles</th>\n",
       "      <th>FragmentSmiles</th>\n",
       "      <th>SubstanceID</th>\n",
       "      <th>FragmentSmarts</th>\n",
       "      <th>&gt;1 Compound</th>\n",
       "    </tr>\n",
       "  </thead>\n",
       "  <tbody>\n",
       "    <tr>\n",
       "      <th>0</th>\n",
       "      <td>B#N.N.[LiH].[LiH].[LiH]</td>\n",
       "      <td>B#N</td>\n",
       "      <td>[16832508]</td>\n",
       "      <td>[#5]#[#7]</td>\n",
       "      <td>[True]</td>\n",
       "    </tr>\n",
       "    <tr>\n",
       "      <th>0</th>\n",
       "      <td>B#N.N.[LiH].[LiH].[LiH]</td>\n",
       "      <td>N</td>\n",
       "      <td>[16832508]</td>\n",
       "      <td>[#7]</td>\n",
       "      <td>[True]</td>\n",
       "    </tr>\n",
       "    <tr>\n",
       "      <th>0</th>\n",
       "      <td>B#N.N.[LiH].[LiH].[LiH]</td>\n",
       "      <td>[LiH]</td>\n",
       "      <td>[16832508]</td>\n",
       "      <td>[LiH]</td>\n",
       "      <td>[True]</td>\n",
       "    </tr>\n",
       "    <tr>\n",
       "      <th>0</th>\n",
       "      <td>B#N.N.[LiH].[LiH].[LiH]</td>\n",
       "      <td>[LiH]</td>\n",
       "      <td>[16832508]</td>\n",
       "      <td>[LiH]</td>\n",
       "      <td>[True]</td>\n",
       "    </tr>\n",
       "    <tr>\n",
       "      <th>0</th>\n",
       "      <td>B#N.N.[LiH].[LiH].[LiH]</td>\n",
       "      <td>[LiH]</td>\n",
       "      <td>[16832508]</td>\n",
       "      <td>[LiH]</td>\n",
       "      <td>[True]</td>\n",
       "    </tr>\n",
       "  </tbody>\n",
       "</table>\n",
       "</div>"
      ],
      "text/plain": [
       "                    Smiles FragmentSmiles SubstanceID FragmentSmarts  \\\n",
       "0  B#N.N.[LiH].[LiH].[LiH]            B#N  [16832508]      [#5]#[#7]   \n",
       "0  B#N.N.[LiH].[LiH].[LiH]              N  [16832508]           [#7]   \n",
       "0  B#N.N.[LiH].[LiH].[LiH]          [LiH]  [16832508]          [LiH]   \n",
       "0  B#N.N.[LiH].[LiH].[LiH]          [LiH]  [16832508]          [LiH]   \n",
       "0  B#N.N.[LiH].[LiH].[LiH]          [LiH]  [16832508]          [LiH]   \n",
       "\n",
       "  >1 Compound  \n",
       "0      [True]  \n",
       "0      [True]  \n",
       "0      [True]  \n",
       "0      [True]  \n",
       "0      [True]  "
      ]
     },
     "execution_count": 608,
     "metadata": {},
     "output_type": "execute_result"
    }
   ],
   "source": [
    "CarrierFragmentDB4.loc[CarrierFragmentDB4['Smiles']=='B#N.N.[LiH].[LiH].[LiH]']"
   ]
  },
  {
   "cell_type": "code",
   "execution_count": 351,
   "metadata": {
    "ExecuteTime": {
     "end_time": "2021-02-09T12:12:10.795127Z",
     "start_time": "2021-02-09T12:12:10.730131Z"
    }
   },
   "outputs": [
    {
     "data": {
      "text/plain": [
       "['[#6]1(:[#7]:[#6](:[#7](:[#7]:1)-[H])-[H])-[H]',\n",
       " '[#6]:[#6](:[#7]:[#6](:[#6])-[H])-[H]',\n",
       " '[#6]1(:[#7]:[#6](:[#7]:[#7]:1)-[H])-[H]']"
      ]
     },
     "execution_count": 351,
     "metadata": {},
     "output_type": "execute_result"
    }
   ],
   "source": [
    "CarrierFragmentDB3Dask.loc[1249046].compute()['FragmentSmarts']['list'].values[0]"
   ]
  },
  {
   "cell_type": "markdown",
   "metadata": {},
   "source": [
    "The final dataframe does have errors. Whilst errors converting molfile to smiles had been indentified and removed earlier, there are further errors as the conversion of molfile to smiles, whilst successful, may not be correct. These are all the entries where this is the case. Furthermore we can see where Reaxys has stored substances with the same smiles string but different substance IDs (The complexity of the substance cannot be translated to a valid smiles string. There are valence errors)."
   ]
  },
  {
   "cell_type": "code",
   "execution_count": 564,
   "metadata": {
    "ExecuteTime": {
     "end_time": "2021-02-10T07:44:34.677905Z",
     "start_time": "2021-02-10T07:44:34.317821Z"
    }
   },
   "outputs": [],
   "source": [
    "CarrierFragmentDB4=explode(CarrierFragmentDB3[CarrierFragmentDB3.FragmentSmarts=='Error'],lst_cols=['SubstanceID','FragmentSmiles','>1 Compound'])"
   ]
  },
  {
   "cell_type": "code",
   "execution_count": 583,
   "metadata": {
    "ExecuteTime": {
     "end_time": "2021-02-10T08:08:10.133759Z",
     "start_time": "2021-02-10T08:08:10.097570Z"
    }
   },
   "outputs": [
    {
     "data": {
      "text/html": [
       "<div>\n",
       "<style scoped>\n",
       "    .dataframe tbody tr th:only-of-type {\n",
       "        vertical-align: middle;\n",
       "    }\n",
       "\n",
       "    .dataframe tbody tr th {\n",
       "        vertical-align: top;\n",
       "    }\n",
       "\n",
       "    .dataframe thead th {\n",
       "        text-align: right;\n",
       "    }\n",
       "</style>\n",
       "<table border=\"1\" class=\"dataframe\">\n",
       "  <thead>\n",
       "    <tr style=\"text-align: right;\">\n",
       "      <th></th>\n",
       "      <th>Smiles</th>\n",
       "      <th>FragmentSmiles</th>\n",
       "      <th>SubstanceID</th>\n",
       "      <th>FragmentSmarts</th>\n",
       "      <th>&gt;1 Compound</th>\n",
       "    </tr>\n",
       "  </thead>\n",
       "  <tbody>\n",
       "    <tr>\n",
       "      <th>0</th>\n",
       "      <td>Br[GeH2-](Br)Br.[Br-].[H][N+]([H])([H])[H]</td>\n",
       "      <td>Error</td>\n",
       "      <td>16800164</td>\n",
       "      <td>Error</td>\n",
       "      <td>True</td>\n",
       "    </tr>\n",
       "    <tr>\n",
       "      <th>1</th>\n",
       "      <td>Br[GeH2-](Br)Br.[Br-].[Rb+]</td>\n",
       "      <td>Error</td>\n",
       "      <td>16806747</td>\n",
       "      <td>Error</td>\n",
       "      <td>True</td>\n",
       "    </tr>\n",
       "    <tr>\n",
       "      <th>2</th>\n",
       "      <td>Br[GeH2-](Br)Br.[Cs+]</td>\n",
       "      <td>Error</td>\n",
       "      <td>16957158</td>\n",
       "      <td>Error</td>\n",
       "      <td>True</td>\n",
       "    </tr>\n",
       "    <tr>\n",
       "      <th>3</th>\n",
       "      <td>C1CCOC1.C1COCCN2CCOCCOCCN(CCO1)CCOCCOCC2.[GeH2...</td>\n",
       "      <td>Error</td>\n",
       "      <td>17798424</td>\n",
       "      <td>Error</td>\n",
       "      <td>True</td>\n",
       "    </tr>\n",
       "    <tr>\n",
       "      <th>4</th>\n",
       "      <td>C1CCOC1.CC(C)(C)[Si](C)([GeH2-]([Si](C)(C(C)(C...</td>\n",
       "      <td>Error</td>\n",
       "      <td>17710840</td>\n",
       "      <td>Error</td>\n",
       "      <td>True</td>\n",
       "    </tr>\n",
       "    <tr>\n",
       "      <th>...</th>\n",
       "      <td>...</td>\n",
       "      <td>...</td>\n",
       "      <td>...</td>\n",
       "      <td>...</td>\n",
       "      <td>...</td>\n",
       "    </tr>\n",
       "    <tr>\n",
       "      <th>172</th>\n",
       "      <td>[N-]=[N+]=N[GeH2-](N=[N+]=[N-])N=[N+]=[N-].c1c...</td>\n",
       "      <td>Error</td>\n",
       "      <td>28076099</td>\n",
       "      <td>Error</td>\n",
       "      <td>True</td>\n",
       "    </tr>\n",
       "    <tr>\n",
       "      <th>173</th>\n",
       "      <td>[Na+].[Rb+].[Si-]12[GeH2-]3[GeH2-]1[GeH2-]23</td>\n",
       "      <td>Error</td>\n",
       "      <td>24676336</td>\n",
       "      <td>Error</td>\n",
       "      <td>True</td>\n",
       "    </tr>\n",
       "    <tr>\n",
       "      <th>174</th>\n",
       "      <td>[Na+].[Rb+].[Si-]12[Si-]3[GeH2-]1[GeH2-]23</td>\n",
       "      <td>Error</td>\n",
       "      <td>24676335</td>\n",
       "      <td>Error</td>\n",
       "      <td>True</td>\n",
       "    </tr>\n",
       "    <tr>\n",
       "      <th>175</th>\n",
       "      <td>[Na+].[Si-]12[Si-]3[GeH2-]1[GeH2-]23</td>\n",
       "      <td>Error</td>\n",
       "      <td>24676337</td>\n",
       "      <td>Error</td>\n",
       "      <td>True</td>\n",
       "    </tr>\n",
       "    <tr>\n",
       "      <th>176</th>\n",
       "      <td>[Rb+].[Si-]12[Si-]3[GeH2-]1[GeH2-]23</td>\n",
       "      <td>Error</td>\n",
       "      <td>24676338</td>\n",
       "      <td>Error</td>\n",
       "      <td>True</td>\n",
       "    </tr>\n",
       "  </tbody>\n",
       "</table>\n",
       "<p>177 rows × 5 columns</p>\n",
       "</div>"
      ],
      "text/plain": [
       "                                                Smiles FragmentSmiles  \\\n",
       "0           Br[GeH2-](Br)Br.[Br-].[H][N+]([H])([H])[H]          Error   \n",
       "1                          Br[GeH2-](Br)Br.[Br-].[Rb+]          Error   \n",
       "2                                Br[GeH2-](Br)Br.[Cs+]          Error   \n",
       "3    C1CCOC1.C1COCCN2CCOCCOCCN(CCO1)CCOCCOCC2.[GeH2...          Error   \n",
       "4    C1CCOC1.CC(C)(C)[Si](C)([GeH2-]([Si](C)(C(C)(C...          Error   \n",
       "..                                                 ...            ...   \n",
       "172  [N-]=[N+]=N[GeH2-](N=[N+]=[N-])N=[N+]=[N-].c1c...          Error   \n",
       "173       [Na+].[Rb+].[Si-]12[GeH2-]3[GeH2-]1[GeH2-]23          Error   \n",
       "174         [Na+].[Rb+].[Si-]12[Si-]3[GeH2-]1[GeH2-]23          Error   \n",
       "175               [Na+].[Si-]12[Si-]3[GeH2-]1[GeH2-]23          Error   \n",
       "176               [Rb+].[Si-]12[Si-]3[GeH2-]1[GeH2-]23          Error   \n",
       "\n",
       "     SubstanceID FragmentSmarts  >1 Compound  \n",
       "0       16800164          Error         True  \n",
       "1       16806747          Error         True  \n",
       "2       16957158          Error         True  \n",
       "3       17798424          Error         True  \n",
       "4       17710840          Error         True  \n",
       "..           ...            ...          ...  \n",
       "172     28076099          Error         True  \n",
       "173     24676336          Error         True  \n",
       "174     24676335          Error         True  \n",
       "175     24676337          Error         True  \n",
       "176     24676338          Error         True  \n",
       "\n",
       "[177 rows x 5 columns]"
      ]
     },
     "execution_count": 583,
     "metadata": {},
     "output_type": "execute_result"
    }
   ],
   "source": [
    "CarrierFragmentDB4"
   ]
  },
  {
   "cell_type": "code",
   "execution_count": 575,
   "metadata": {
    "ExecuteTime": {
     "end_time": "2021-02-10T07:56:55.987576Z",
     "start_time": "2021-02-10T07:56:55.755304Z"
    }
   },
   "outputs": [],
   "source": [
    "templist=CarrierFragmentDB3[CarrierFragmentDB3.FragmentSmarts=='Error'].SubstanceID.str.len()"
   ]
  },
  {
   "cell_type": "code",
   "execution_count": 576,
   "metadata": {
    "ExecuteTime": {
     "end_time": "2021-02-10T07:57:04.672779Z",
     "start_time": "2021-02-10T07:57:04.648848Z"
    }
   },
   "outputs": [
    {
     "data": {
      "text/plain": [
       "51293     2\n",
       "324628    2\n",
       "324715    2\n",
       "526488    3\n",
       "Name: SubstanceID, dtype: int64"
      ]
     },
     "execution_count": 576,
     "metadata": {},
     "output_type": "execute_result"
    }
   ],
   "source": [
    "templist[templist.values>1]"
   ]
  },
  {
   "cell_type": "code",
   "execution_count": 578,
   "metadata": {
    "ExecuteTime": {
     "end_time": "2021-02-10T07:58:56.774307Z",
     "start_time": "2021-02-10T07:58:56.540466Z"
    }
   },
   "outputs": [
    {
     "data": {
      "text/plain": [
       "'C1CCOC1.C[Si](C)(C)[GeH2-]([Si](C)(C)C)[Si](C)(C)C.[Li+]'"
      ]
     },
     "execution_count": 578,
     "metadata": {},
     "output_type": "execute_result"
    }
   ],
   "source": [
    "CarrierFragmentDB3[CarrierFragmentDB3.FragmentSmarts=='Error'].loc[51293].Smiles"
   ]
  },
  {
   "cell_type": "code",
   "execution_count": 579,
   "metadata": {
    "ExecuteTime": {
     "end_time": "2021-02-10T07:59:48.509706Z",
     "start_time": "2021-02-10T07:59:30.298483Z"
    }
   },
   "outputs": [
    {
     "data": {
      "text/html": [
       "<div>\n",
       "<style scoped>\n",
       "    .dataframe tbody tr th:only-of-type {\n",
       "        vertical-align: middle;\n",
       "    }\n",
       "\n",
       "    .dataframe tbody tr th {\n",
       "        vertical-align: top;\n",
       "    }\n",
       "\n",
       "    .dataframe thead th {\n",
       "        text-align: right;\n",
       "    }\n",
       "</style>\n",
       "<table border=\"1\" class=\"dataframe\">\n",
       "  <thead>\n",
       "    <tr style=\"text-align: right;\">\n",
       "      <th></th>\n",
       "      <th>FragmentSmiles</th>\n",
       "      <th>SubstanceID</th>\n",
       "      <th>FragmentSmarts</th>\n",
       "      <th>Smiles</th>\n",
       "      <th>&gt;1 Compound</th>\n",
       "    </tr>\n",
       "  </thead>\n",
       "  <tbody>\n",
       "    <tr>\n",
       "      <th>34852386</th>\n",
       "      <td>Error</td>\n",
       "      <td>17772751</td>\n",
       "      <td>Error</td>\n",
       "      <td>C1CCOC1.C[Si](C)(C)[GeH2-]([Si](C)(C)C)[Si](C)...</td>\n",
       "      <td>True</td>\n",
       "    </tr>\n",
       "    <tr>\n",
       "      <th>64458459</th>\n",
       "      <td>Error</td>\n",
       "      <td>32826420</td>\n",
       "      <td>Error</td>\n",
       "      <td>C1CCOC1.C[Si](C)(C)[GeH2-]([Si](C)(C)C)[Si](C)...</td>\n",
       "      <td>True</td>\n",
       "    </tr>\n",
       "  </tbody>\n",
       "</table>\n",
       "</div>"
      ],
      "text/plain": [
       "         FragmentSmiles  SubstanceID FragmentSmarts  \\\n",
       "34852386          Error     17772751          Error   \n",
       "64458459          Error     32826420          Error   \n",
       "\n",
       "                                                     Smiles  >1 Compound  \n",
       "34852386  C1CCOC1.C[Si](C)(C)[GeH2-]([Si](C)(C)C)[Si](C)...         True  \n",
       "64458459  C1CCOC1.C[Si](C)(C)[GeH2-]([Si](C)(C)C)[Si](C)...         True  "
      ]
     },
     "execution_count": 579,
     "metadata": {},
     "output_type": "execute_result"
    }
   ],
   "source": [
    "CarrierFragmentDB.loc[CarrierFragmentDB['Smiles']=='C1CCOC1.C[Si](C)(C)[GeH2-]([Si](C)(C)C)[Si](C)(C)C.[Li+]']"
   ]
  },
  {
   "cell_type": "code",
   "execution_count": 580,
   "metadata": {
    "ExecuteTime": {
     "end_time": "2021-02-10T08:06:18.632589Z",
     "start_time": "2021-02-10T08:06:18.622781Z"
    }
   },
   "outputs": [
    {
     "name": "stderr",
     "output_type": "stream",
     "text": [
      "RDKit ERROR: [08:06:18] Explicit valence for atom # 4 Ge, 6, is greater than permitted\n"
     ]
    }
   ],
   "source": [
    "Chem.MolFromSmiles('C[Si](C)(C)[GeH2-]([Si](C)(C)C)[Si](C)(C)C')"
   ]
  },
  {
   "cell_type": "code",
   "execution_count": 596,
   "metadata": {
    "ExecuteTime": {
     "end_time": "2021-02-10T08:47:44.195966Z",
     "start_time": "2021-02-10T08:47:43.560055Z"
    }
   },
   "outputs": [],
   "source": [
    "CarrierFragmentDB5=CarrierFragmentDB3[~CarrierFragmentDB3.Smiles.isin(CarrierFragmentDB4.Smiles)]"
   ]
  },
  {
   "cell_type": "code",
   "execution_count": 600,
   "metadata": {
    "ExecuteTime": {
     "end_time": "2021-02-10T08:52:17.023023Z",
     "start_time": "2021-02-10T08:51:26.228617Z"
    },
    "scrolled": true
   },
   "outputs": [
    {
     "ename": "MemoryError",
     "evalue": "Unable to allocate 27.1 GiB for an array with shape (6315847,) and data type <U1152",
     "output_type": "error",
     "traceback": [
      "\u001b[0;31m---------------------------------------------------------------------------\u001b[0m",
      "\u001b[0;31mMemoryError\u001b[0m                               Traceback (most recent call last)",
      "\u001b[0;32m<ipython-input-600-7a27cfaead3d>\u001b[0m in \u001b[0;36m<module>\u001b[0;34m\u001b[0m\n\u001b[0;32m----> 1\u001b[0;31m \u001b[0mCarrierFragmentDB6\u001b[0m\u001b[0;34m=\u001b[0m\u001b[0mexplode\u001b[0m\u001b[0;34m(\u001b[0m\u001b[0mCarrierFragmentDB5\u001b[0m\u001b[0;34m,\u001b[0m\u001b[0mlst_cols\u001b[0m\u001b[0;34m=\u001b[0m\u001b[0;34m[\u001b[0m\u001b[0;34m'SubstanceID'\u001b[0m\u001b[0;34m,\u001b[0m\u001b[0;34m'FragmentSmiles'\u001b[0m\u001b[0;34m]\u001b[0m\u001b[0;34m)\u001b[0m\u001b[0;31m#'FragmentSmarts','>1 Compound'])\u001b[0m\u001b[0;34m\u001b[0m\u001b[0;34m\u001b[0m\u001b[0m\n\u001b[0m",
      "\u001b[0;32m<ipython-input-507-476c9d2fddfb>\u001b[0m in \u001b[0;36mexplode\u001b[0;34m(df, lst_cols, fill_value)\u001b[0m\n\u001b[1;32m     11\u001b[0m     \u001b[0;32mif\u001b[0m \u001b[0;34m(\u001b[0m\u001b[0mlens\u001b[0m \u001b[0;34m>\u001b[0m \u001b[0;36m0\u001b[0m\u001b[0;34m)\u001b[0m\u001b[0;34m.\u001b[0m\u001b[0mall\u001b[0m\u001b[0;34m(\u001b[0m\u001b[0;34m)\u001b[0m\u001b[0;34m:\u001b[0m\u001b[0;34m\u001b[0m\u001b[0;34m\u001b[0m\u001b[0m\n\u001b[1;32m     12\u001b[0m         \u001b[0;31m# ALL lists in cells aren't empty\u001b[0m\u001b[0;34m\u001b[0m\u001b[0;34m\u001b[0m\u001b[0;34m\u001b[0m\u001b[0m\n\u001b[0;32m---> 13\u001b[0;31m         return pd.DataFrame({\n\u001b[0m\u001b[1;32m     14\u001b[0m             \u001b[0mcol\u001b[0m\u001b[0;34m:\u001b[0m\u001b[0mnp\u001b[0m\u001b[0;34m.\u001b[0m\u001b[0mrepeat\u001b[0m\u001b[0;34m(\u001b[0m\u001b[0mdf\u001b[0m\u001b[0;34m[\u001b[0m\u001b[0mcol\u001b[0m\u001b[0;34m]\u001b[0m\u001b[0;34m.\u001b[0m\u001b[0mvalues\u001b[0m\u001b[0;34m,\u001b[0m \u001b[0mdf\u001b[0m\u001b[0;34m[\u001b[0m\u001b[0mlst_cols\u001b[0m\u001b[0;34m[\u001b[0m\u001b[0;36m0\u001b[0m\u001b[0;34m]\u001b[0m\u001b[0;34m]\u001b[0m\u001b[0;34m.\u001b[0m\u001b[0mstr\u001b[0m\u001b[0;34m.\u001b[0m\u001b[0mlen\u001b[0m\u001b[0;34m(\u001b[0m\u001b[0;34m)\u001b[0m\u001b[0;34m)\u001b[0m\u001b[0;34m\u001b[0m\u001b[0;34m\u001b[0m\u001b[0m\n\u001b[1;32m     15\u001b[0m             \u001b[0;32mfor\u001b[0m \u001b[0mcol\u001b[0m \u001b[0;32min\u001b[0m \u001b[0midx_cols\u001b[0m\u001b[0;34m\u001b[0m\u001b[0;34m\u001b[0m\u001b[0m\n",
      "\u001b[0;32m~/miniconda3/envs/impurityproject/lib/python3.8/site-packages/pandas/core/frame.py\u001b[0m in \u001b[0;36massign\u001b[0;34m(self, **kwargs)\u001b[0m\n\u001b[1;32m   3693\u001b[0m \u001b[0;34m\u001b[0m\u001b[0m\n\u001b[1;32m   3694\u001b[0m         \u001b[0;32mfor\u001b[0m \u001b[0mk\u001b[0m\u001b[0;34m,\u001b[0m \u001b[0mv\u001b[0m \u001b[0;32min\u001b[0m \u001b[0mkwargs\u001b[0m\u001b[0;34m.\u001b[0m\u001b[0mitems\u001b[0m\u001b[0;34m(\u001b[0m\u001b[0;34m)\u001b[0m\u001b[0;34m:\u001b[0m\u001b[0;34m\u001b[0m\u001b[0;34m\u001b[0m\u001b[0m\n\u001b[0;32m-> 3695\u001b[0;31m             \u001b[0mdata\u001b[0m\u001b[0;34m[\u001b[0m\u001b[0mk\u001b[0m\u001b[0;34m]\u001b[0m \u001b[0;34m=\u001b[0m \u001b[0mcom\u001b[0m\u001b[0;34m.\u001b[0m\u001b[0mapply_if_callable\u001b[0m\u001b[0;34m(\u001b[0m\u001b[0mv\u001b[0m\u001b[0;34m,\u001b[0m \u001b[0mdata\u001b[0m\u001b[0;34m)\u001b[0m\u001b[0;34m\u001b[0m\u001b[0;34m\u001b[0m\u001b[0m\n\u001b[0m\u001b[1;32m   3696\u001b[0m         \u001b[0;32mreturn\u001b[0m \u001b[0mdata\u001b[0m\u001b[0;34m\u001b[0m\u001b[0;34m\u001b[0m\u001b[0m\n\u001b[1;32m   3697\u001b[0m \u001b[0;34m\u001b[0m\u001b[0m\n",
      "\u001b[0;32m~/miniconda3/envs/impurityproject/lib/python3.8/site-packages/pandas/core/frame.py\u001b[0m in \u001b[0;36m__setitem__\u001b[0;34m(self, key, value)\u001b[0m\n\u001b[1;32m   3038\u001b[0m         \u001b[0;32melse\u001b[0m\u001b[0;34m:\u001b[0m\u001b[0;34m\u001b[0m\u001b[0;34m\u001b[0m\u001b[0m\n\u001b[1;32m   3039\u001b[0m             \u001b[0;31m# set column\u001b[0m\u001b[0;34m\u001b[0m\u001b[0;34m\u001b[0m\u001b[0;34m\u001b[0m\u001b[0m\n\u001b[0;32m-> 3040\u001b[0;31m             \u001b[0mself\u001b[0m\u001b[0;34m.\u001b[0m\u001b[0m_set_item\u001b[0m\u001b[0;34m(\u001b[0m\u001b[0mkey\u001b[0m\u001b[0;34m,\u001b[0m \u001b[0mvalue\u001b[0m\u001b[0;34m)\u001b[0m\u001b[0;34m\u001b[0m\u001b[0;34m\u001b[0m\u001b[0m\n\u001b[0m\u001b[1;32m   3041\u001b[0m \u001b[0;34m\u001b[0m\u001b[0m\n\u001b[1;32m   3042\u001b[0m     \u001b[0;32mdef\u001b[0m \u001b[0m_setitem_slice\u001b[0m\u001b[0;34m(\u001b[0m\u001b[0mself\u001b[0m\u001b[0;34m,\u001b[0m \u001b[0mkey\u001b[0m\u001b[0;34m:\u001b[0m \u001b[0mslice\u001b[0m\u001b[0;34m,\u001b[0m \u001b[0mvalue\u001b[0m\u001b[0;34m)\u001b[0m\u001b[0;34m:\u001b[0m\u001b[0;34m\u001b[0m\u001b[0;34m\u001b[0m\u001b[0m\n",
      "\u001b[0;32m~/miniconda3/envs/impurityproject/lib/python3.8/site-packages/pandas/core/frame.py\u001b[0m in \u001b[0;36m_set_item\u001b[0;34m(self, key, value)\u001b[0m\n\u001b[1;32m   3114\u001b[0m         \"\"\"\n\u001b[1;32m   3115\u001b[0m         \u001b[0mself\u001b[0m\u001b[0;34m.\u001b[0m\u001b[0m_ensure_valid_index\u001b[0m\u001b[0;34m(\u001b[0m\u001b[0mvalue\u001b[0m\u001b[0;34m)\u001b[0m\u001b[0;34m\u001b[0m\u001b[0;34m\u001b[0m\u001b[0m\n\u001b[0;32m-> 3116\u001b[0;31m         \u001b[0mvalue\u001b[0m \u001b[0;34m=\u001b[0m \u001b[0mself\u001b[0m\u001b[0;34m.\u001b[0m\u001b[0m_sanitize_column\u001b[0m\u001b[0;34m(\u001b[0m\u001b[0mkey\u001b[0m\u001b[0;34m,\u001b[0m \u001b[0mvalue\u001b[0m\u001b[0;34m)\u001b[0m\u001b[0;34m\u001b[0m\u001b[0;34m\u001b[0m\u001b[0m\n\u001b[0m\u001b[1;32m   3117\u001b[0m         \u001b[0mNDFrame\u001b[0m\u001b[0;34m.\u001b[0m\u001b[0m_set_item\u001b[0m\u001b[0;34m(\u001b[0m\u001b[0mself\u001b[0m\u001b[0;34m,\u001b[0m \u001b[0mkey\u001b[0m\u001b[0;34m,\u001b[0m \u001b[0mvalue\u001b[0m\u001b[0;34m)\u001b[0m\u001b[0;34m\u001b[0m\u001b[0;34m\u001b[0m\u001b[0m\n\u001b[1;32m   3118\u001b[0m \u001b[0;34m\u001b[0m\u001b[0m\n",
      "\u001b[0;32m~/miniconda3/envs/impurityproject/lib/python3.8/site-packages/pandas/core/frame.py\u001b[0m in \u001b[0;36m_sanitize_column\u001b[0;34m(self, key, value, broadcast)\u001b[0m\n\u001b[1;32m   3773\u001b[0m                 \u001b[0mvalue\u001b[0m \u001b[0;34m=\u001b[0m \u001b[0mvalue\u001b[0m\u001b[0;34m.\u001b[0m\u001b[0mcopy\u001b[0m\u001b[0;34m(\u001b[0m\u001b[0mdeep\u001b[0m\u001b[0;34m=\u001b[0m\u001b[0;32mTrue\u001b[0m\u001b[0;34m)\u001b[0m\u001b[0;34m\u001b[0m\u001b[0;34m\u001b[0m\u001b[0m\n\u001b[1;32m   3774\u001b[0m             \u001b[0;32melse\u001b[0m\u001b[0;34m:\u001b[0m\u001b[0;34m\u001b[0m\u001b[0;34m\u001b[0m\u001b[0m\n\u001b[0;32m-> 3775\u001b[0;31m                 \u001b[0mvalue\u001b[0m \u001b[0;34m=\u001b[0m \u001b[0mvalue\u001b[0m\u001b[0;34m.\u001b[0m\u001b[0mcopy\u001b[0m\u001b[0;34m(\u001b[0m\u001b[0;34m)\u001b[0m\u001b[0;34m\u001b[0m\u001b[0;34m\u001b[0m\u001b[0m\n\u001b[0m\u001b[1;32m   3776\u001b[0m \u001b[0;34m\u001b[0m\u001b[0m\n\u001b[1;32m   3777\u001b[0m             \u001b[0;31m# possibly infer to datetimelike\u001b[0m\u001b[0;34m\u001b[0m\u001b[0;34m\u001b[0m\u001b[0;34m\u001b[0m\u001b[0m\n",
      "\u001b[0;31mMemoryError\u001b[0m: Unable to allocate 27.1 GiB for an array with shape (6315847,) and data type <U1152"
     ]
    }
   ],
   "source": [
    "CarrierFragmentDB6=explode(CarrierFragmentDB5,lst_cols=['SubstanceID','FragmentSmiles'])#'FragmentSmarts','>1 Compound'])"
   ]
  },
  {
   "cell_type": "code",
   "execution_count": 557,
   "metadata": {
    "ExecuteTime": {
     "end_time": "2021-02-10T07:27:29.011308Z",
     "start_time": "2021-02-10T07:27:28.976610Z"
    }
   },
   "outputs": [
    {
     "data": {
      "text/plain": [
       "Smiles            Br[GeH2-](Br)Br.[Br-].[H][N+]([H])([H])[H]\n",
       "FragmentSmiles                                       [Error]\n",
       "SubstanceID                                       [16800164]\n",
       "FragmentSmarts                                         Error\n",
       ">1 Compound                                           [True]\n",
       "Name: 26211, dtype: object"
      ]
     },
     "execution_count": 557,
     "metadata": {},
     "output_type": "execute_result"
    }
   ],
   "source": [
    "CarrierFragmentDB3.loc[26211]"
   ]
  },
  {
   "cell_type": "code",
   "execution_count": 560,
   "metadata": {
    "ExecuteTime": {
     "end_time": "2021-02-10T07:30:02.733413Z",
     "start_time": "2021-02-10T07:29:59.942673Z"
    }
   },
   "outputs": [
    {
     "data": {
      "text/html": [
       "<div>\n",
       "<style scoped>\n",
       "    .dataframe tbody tr th:only-of-type {\n",
       "        vertical-align: middle;\n",
       "    }\n",
       "\n",
       "    .dataframe tbody tr th {\n",
       "        vertical-align: top;\n",
       "    }\n",
       "\n",
       "    .dataframe thead th {\n",
       "        text-align: right;\n",
       "    }\n",
       "</style>\n",
       "<table border=\"1\" class=\"dataframe\">\n",
       "  <thead>\n",
       "    <tr style=\"text-align: right;\">\n",
       "      <th></th>\n",
       "      <th>FragmentSmiles</th>\n",
       "      <th>SubstanceID</th>\n",
       "      <th>FragmentSmarts</th>\n",
       "      <th>Smiles</th>\n",
       "      <th>&gt;1 Compound</th>\n",
       "    </tr>\n",
       "  </thead>\n",
       "  <tbody>\n",
       "    <tr>\n",
       "      <th>34120878</th>\n",
       "      <td>Error</td>\n",
       "      <td>16800164</td>\n",
       "      <td>Error</td>\n",
       "      <td>Br[GeH2-](Br)Br.[Br-].[H][N+]([H])([H])[H]</td>\n",
       "      <td>True</td>\n",
       "    </tr>\n",
       "  </tbody>\n",
       "</table>\n",
       "</div>"
      ],
      "text/plain": [
       "         FragmentSmiles  SubstanceID FragmentSmarts  \\\n",
       "34120878          Error     16800164          Error   \n",
       "\n",
       "                                              Smiles  >1 Compound  \n",
       "34120878  Br[GeH2-](Br)Br.[Br-].[H][N+]([H])([H])[H]         True  "
      ]
     },
     "execution_count": 560,
     "metadata": {},
     "output_type": "execute_result"
    }
   ],
   "source": [
    "CarrierFragmentDB.loc[CarrierFragmentDB['SubstanceID']==16800164]"
   ]
  },
  {
   "cell_type": "code",
   "execution_count": 558,
   "metadata": {
    "ExecuteTime": {
     "end_time": "2021-02-10T07:29:11.752341Z",
     "start_time": "2021-02-10T07:29:11.523453Z"
    }
   },
   "outputs": [
    {
     "name": "stderr",
     "output_type": "stream",
     "text": [
      "RDKit ERROR: [07:29:11] Explicit valence for atom # 1 Ge, 6, is greater than permitted\n"
     ]
    }
   ],
   "source": [
    "Chem.MolFromSmiles('Br[GeH2-](Br)Br.[Br-].[H][N+]([H])([H])[H]')"
   ]
  },
  {
   "cell_type": "code",
   "execution_count": 415,
   "metadata": {
    "ExecuteTime": {
     "end_time": "2021-02-09T17:01:29.315662Z",
     "start_time": "2021-02-09T17:01:23.133353Z"
    }
   },
   "outputs": [
    {
     "data": {
      "text/html": [
       "<div>\n",
       "<style scoped>\n",
       "    .dataframe tbody tr th:only-of-type {\n",
       "        vertical-align: middle;\n",
       "    }\n",
       "\n",
       "    .dataframe tbody tr th {\n",
       "        vertical-align: top;\n",
       "    }\n",
       "\n",
       "    .dataframe thead th {\n",
       "        text-align: right;\n",
       "    }\n",
       "</style>\n",
       "<table border=\"1\" class=\"dataframe\">\n",
       "  <thead>\n",
       "    <tr style=\"text-align: right;\">\n",
       "      <th></th>\n",
       "      <th>FragmentSmiles</th>\n",
       "      <th>SubstanceID</th>\n",
       "      <th>FragmentSmarts</th>\n",
       "      <th>Smiles</th>\n",
       "      <th>&gt;1 Compound</th>\n",
       "    </tr>\n",
       "  </thead>\n",
       "  <tbody>\n",
       "    <tr>\n",
       "      <th>34150950</th>\n",
       "      <td>B#N.N.[LiH].[LiH].[LiH]</td>\n",
       "      <td>16832508</td>\n",
       "      <td>[#5]#[#7].[#7].[LiH].[LiH].[LiH]</td>\n",
       "      <td>B#N.N.[LiH].[LiH].[LiH]</td>\n",
       "      <td>True</td>\n",
       "    </tr>\n",
       "  </tbody>\n",
       "</table>\n",
       "</div>"
      ],
      "text/plain": [
       "                   FragmentSmiles  SubstanceID  \\\n",
       "34150950  B#N.N.[LiH].[LiH].[LiH]     16832508   \n",
       "\n",
       "                            FragmentSmarts                   Smiles  \\\n",
       "34150950  [#5]#[#7].[#7].[LiH].[LiH].[LiH]  B#N.N.[LiH].[LiH].[LiH]   \n",
       "\n",
       "          >1 Compound  \n",
       "34150950         True  "
      ]
     },
     "execution_count": 415,
     "metadata": {},
     "output_type": "execute_result"
    }
   ],
   "source": [
    "CarrierFragmentDB.loc[CarrierFragmentDB['Smiles']=='B#N.N.[LiH].[LiH].[LiH]']"
   ]
  },
  {
   "cell_type": "code",
   "execution_count": 508,
   "metadata": {
    "ExecuteTime": {
     "end_time": "2021-02-10T04:14:51.793520Z",
     "start_time": "2021-02-10T04:14:50.971577Z"
    }
   },
   "outputs": [],
   "source": [
    "testdb2=CarrierFragmentDB4.loc[CarrierFragmentDB4['Smiles']=='c1ccncc1.c1nc[nH]n1']"
   ]
  },
  {
   "cell_type": "code",
   "execution_count": 446,
   "metadata": {
    "ExecuteTime": {
     "end_time": "2021-02-09T17:37:06.530040Z",
     "start_time": "2021-02-09T17:37:00.332169Z"
    }
   },
   "outputs": [],
   "source": [
    "testdb=CarrierFragmentDB.loc[CarrierFragmentDB['Smiles']=='c1ccncc1.c1nc[nH]n1']"
   ]
  },
  {
   "cell_type": "code",
   "execution_count": 505,
   "metadata": {
    "ExecuteTime": {
     "end_time": "2021-02-10T04:13:25.023373Z",
     "start_time": "2021-02-10T04:13:25.006231Z"
    }
   },
   "outputs": [],
   "source": [
    "testdb2=testdb2.explode('SubstanceID')"
   ]
  },
  {
   "cell_type": "code",
   "execution_count": 507,
   "metadata": {
    "ExecuteTime": {
     "end_time": "2021-02-10T04:14:16.590645Z",
     "start_time": "2021-02-10T04:14:16.560132Z"
    }
   },
   "outputs": [],
   "source": [
    "def explode(df, lst_cols, fill_value=''):\n",
    "    # make sure `lst_cols` is a list\n",
    "    if lst_cols and not isinstance(lst_cols, list):\n",
    "        lst_cols = [lst_cols]\n",
    "    # all columns except `lst_cols`\n",
    "    idx_cols = df.columns.difference(lst_cols)\n",
    "\n",
    "    # calculate lengths of lists\n",
    "    lens = df[lst_cols[0]].str.len()\n",
    "\n",
    "    if (lens > 0).all():\n",
    "        # ALL lists in cells aren't empty\n",
    "        return pd.DataFrame({\n",
    "            col:np.repeat(df[col].values, df[lst_cols[0]].str.len())\n",
    "            for col in idx_cols\n",
    "        }).assign(**{col:np.concatenate(df[col].values) for col in lst_cols}) \\\n",
    "          .loc[:, df.columns]\n",
    "    else:\n",
    "        # at least one list in cells is empty\n",
    "        return pd.DataFrame({\n",
    "            col:np.repeat(df[col].values, df[lst_cols[0]].str.len())\n",
    "            for col in idx_cols\n",
    "        }).assign(**{col:np.concatenate(df[col].values) for col in lst_cols}) \\\n",
    "          .append(df.loc[lens==0, idx_cols]).fillna(fill_value) \\\n",
    "          .loc[:, df.columns]"
   ]
  },
  {
   "cell_type": "code",
   "execution_count": 509,
   "metadata": {
    "ExecuteTime": {
     "end_time": "2021-02-10T04:15:07.700501Z",
     "start_time": "2021-02-10T04:15:07.666253Z"
    },
    "scrolled": true
   },
   "outputs": [
    {
     "data": {
      "text/html": [
       "<div>\n",
       "<style scoped>\n",
       "    .dataframe tbody tr th:only-of-type {\n",
       "        vertical-align: middle;\n",
       "    }\n",
       "\n",
       "    .dataframe tbody tr th {\n",
       "        vertical-align: top;\n",
       "    }\n",
       "\n",
       "    .dataframe thead th {\n",
       "        text-align: right;\n",
       "    }\n",
       "</style>\n",
       "<table border=\"1\" class=\"dataframe\">\n",
       "  <thead>\n",
       "    <tr style=\"text-align: right;\">\n",
       "      <th></th>\n",
       "      <th>SubstanceID</th>\n",
       "      <th>Smiles</th>\n",
       "      <th>FragmentSmiles</th>\n",
       "      <th>FragmentSmarts</th>\n",
       "      <th>&gt;1 Compound</th>\n",
       "    </tr>\n",
       "  </thead>\n",
       "  <tbody>\n",
       "    <tr>\n",
       "      <th>8263087</th>\n",
       "      <td>[19243410, 19243410, 19243410]</td>\n",
       "      <td>c1ccncc1.c1nc[nH]n1</td>\n",
       "      <td>[H]C(:C):N:C([H]):C</td>\n",
       "      <td>[#6]:[#6](:[#7]:[#6](:[#6])-[H])-[H]</td>\n",
       "      <td>[True, True, True]</td>\n",
       "    </tr>\n",
       "    <tr>\n",
       "      <th>8263088</th>\n",
       "      <td>[19243410, 19243410, 19243410]</td>\n",
       "      <td>c1ccncc1.c1nc[nH]n1</td>\n",
       "      <td>[H]C1:N:N:C([H]):N:1</td>\n",
       "      <td>[#6]1(:[#7]:[#6](:[#7]:[#7]:1)-[H])-[H]</td>\n",
       "      <td>[True, True, True]</td>\n",
       "    </tr>\n",
       "    <tr>\n",
       "      <th>8263089</th>\n",
       "      <td>[19243410, 19243410, 19243410]</td>\n",
       "      <td>c1ccncc1.c1nc[nH]n1</td>\n",
       "      <td>[H]C1:N:C([H]):N([H]):N:1</td>\n",
       "      <td>[#6]1(:[#7]:[#6](:[#7](:[#7]:1)-[H])-[H])-[H]</td>\n",
       "      <td>[True, True, True]</td>\n",
       "    </tr>\n",
       "  </tbody>\n",
       "</table>\n",
       "</div>"
      ],
      "text/plain": [
       "                            SubstanceID               Smiles  \\\n",
       "8263087  [19243410, 19243410, 19243410]  c1ccncc1.c1nc[nH]n1   \n",
       "8263088  [19243410, 19243410, 19243410]  c1ccncc1.c1nc[nH]n1   \n",
       "8263089  [19243410, 19243410, 19243410]  c1ccncc1.c1nc[nH]n1   \n",
       "\n",
       "                    FragmentSmiles  \\\n",
       "8263087        [H]C(:C):N:C([H]):C   \n",
       "8263088       [H]C1:N:N:C([H]):N:1   \n",
       "8263089  [H]C1:N:C([H]):N([H]):N:1   \n",
       "\n",
       "                                        FragmentSmarts         >1 Compound  \n",
       "8263087           [#6]:[#6](:[#7]:[#6](:[#6])-[H])-[H]  [True, True, True]  \n",
       "8263088        [#6]1(:[#7]:[#6](:[#7]:[#7]:1)-[H])-[H]  [True, True, True]  \n",
       "8263089  [#6]1(:[#7]:[#6](:[#7](:[#7]:1)-[H])-[H])-[H]  [True, True, True]  "
      ]
     },
     "execution_count": 509,
     "metadata": {},
     "output_type": "execute_result"
    }
   ],
   "source": [
    "testdb2"
   ]
  },
  {
   "cell_type": "code",
   "execution_count": 554,
   "metadata": {
    "ExecuteTime": {
     "end_time": "2021-02-10T06:46:59.366875Z",
     "start_time": "2021-02-10T06:46:59.163407Z"
    }
   },
   "outputs": [],
   "source": [
    "testdb3=CarrierFragmentDB3.loc[CarrierFragmentDB3['Smiles']=='c1ccncc1.c1nc[nH]n1']"
   ]
  },
  {
   "cell_type": "code",
   "execution_count": 555,
   "metadata": {
    "ExecuteTime": {
     "end_time": "2021-02-10T06:47:43.666505Z",
     "start_time": "2021-02-10T06:47:43.626763Z"
    }
   },
   "outputs": [
    {
     "data": {
      "text/html": [
       "<div>\n",
       "<style scoped>\n",
       "    .dataframe tbody tr th:only-of-type {\n",
       "        vertical-align: middle;\n",
       "    }\n",
       "\n",
       "    .dataframe tbody tr th {\n",
       "        vertical-align: top;\n",
       "    }\n",
       "\n",
       "    .dataframe thead th {\n",
       "        text-align: right;\n",
       "    }\n",
       "</style>\n",
       "<table border=\"1\" class=\"dataframe\">\n",
       "  <thead>\n",
       "    <tr style=\"text-align: right;\">\n",
       "      <th></th>\n",
       "      <th>Smiles</th>\n",
       "      <th>FragmentSmiles</th>\n",
       "      <th>SubstanceID</th>\n",
       "      <th>FragmentSmarts</th>\n",
       "      <th>&gt;1 Compound</th>\n",
       "    </tr>\n",
       "  </thead>\n",
       "  <tbody>\n",
       "    <tr>\n",
       "      <th>0</th>\n",
       "      <td>c1ccncc1.c1nc[nH]n1</td>\n",
       "      <td>[H]C1:N:C([H]):N([H]):N:1</td>\n",
       "      <td>19243410</td>\n",
       "      <td>[#6]:[#6](:[#7]:[#6](:[#6])-[H])-[H]</td>\n",
       "      <td>True</td>\n",
       "    </tr>\n",
       "    <tr>\n",
       "      <th>1</th>\n",
       "      <td>c1ccncc1.c1nc[nH]n1</td>\n",
       "      <td>[H]C(:C):N:C([H]):C</td>\n",
       "      <td>19243410</td>\n",
       "      <td>[#6]1(:[#7]:[#6](:[#7]:[#7]:1)-[H])-[H]</td>\n",
       "      <td>True</td>\n",
       "    </tr>\n",
       "    <tr>\n",
       "      <th>2</th>\n",
       "      <td>c1ccncc1.c1nc[nH]n1</td>\n",
       "      <td>[H]C1:N:N:C([H]):N:1</td>\n",
       "      <td>19243410</td>\n",
       "      <td>[#6]1(:[#7]:[#6](:[#7](:[#7]:1)-[H])-[H])-[H]</td>\n",
       "      <td>True</td>\n",
       "    </tr>\n",
       "  </tbody>\n",
       "</table>\n",
       "</div>"
      ],
      "text/plain": [
       "                Smiles             FragmentSmiles  SubstanceID  \\\n",
       "0  c1ccncc1.c1nc[nH]n1  [H]C1:N:C([H]):N([H]):N:1     19243410   \n",
       "1  c1ccncc1.c1nc[nH]n1        [H]C(:C):N:C([H]):C     19243410   \n",
       "2  c1ccncc1.c1nc[nH]n1       [H]C1:N:N:C([H]):N:1     19243410   \n",
       "\n",
       "                                  FragmentSmarts  >1 Compound  \n",
       "0           [#6]:[#6](:[#7]:[#6](:[#6])-[H])-[H]         True  \n",
       "1        [#6]1(:[#7]:[#6](:[#7]:[#7]:1)-[H])-[H]         True  \n",
       "2  [#6]1(:[#7]:[#6](:[#7](:[#7]:1)-[H])-[H])-[H]         True  "
      ]
     },
     "execution_count": 555,
     "metadata": {},
     "output_type": "execute_result"
    }
   ],
   "source": [
    "explode(testdb3,lst_cols=['SubstanceID','FragmentSmiles','FragmentSmarts','>1 Compound'])"
   ]
  },
  {
   "cell_type": "markdown",
   "metadata": {},
   "source": [
    "The below exposes some errors in the carrier frags function. The way RDKit treats smiles and smarts is not consistent at all, and fragments are even worse."
   ]
  },
  {
   "cell_type": "code",
   "execution_count": 543,
   "metadata": {
    "ExecuteTime": {
     "end_time": "2021-02-10T05:51:27.645779Z",
     "start_time": "2021-02-10T05:51:27.608026Z"
    }
   },
   "outputs": [
    {
     "data": {
      "image/png": "[encoded data removed]",
      "text/plain": [
       "<rdkit.Chem.rdchem.Mol at 0x7f5736ab4940>"
      ]
     },
     "execution_count": 543,
     "metadata": {},
     "output_type": "execute_result"
    },
    {
     "data": {
      "image/png": "[encoded data removed]",
      "text/plain": [
       "<rdkit.Chem.rdchem.Mol at 0x7f572f2742b0>"
      ]
     },
     "execution_count": 543,
     "metadata": {},
     "output_type": "execute_result"
    }
   ],
   "source": [
    "Chem.MolFromSmiles('c1ccncc1.c1nc[nH]n1')\n",
    "Chem.MolFromSmarts('[#6]:[#6](:[#7]:[#6](:[#6])-[H])-[H]')"
   ]
  },
  {
   "cell_type": "code",
   "execution_count": 544,
   "metadata": {
    "ExecuteTime": {
     "end_time": "2021-02-10T05:51:32.298460Z",
     "start_time": "2021-02-10T05:51:32.257624Z"
    }
   },
   "outputs": [
    {
     "data": {
      "image/png": "[encoded data removed]",
      "text/plain": [
       "<rdkit.Chem.rdchem.Mol at 0x7f51e3b60990>"
      ]
     },
     "execution_count": 544,
     "metadata": {},
     "output_type": "execute_result"
    },
    {
     "data": {
      "image/png": "[encoded data removed]",
      "text/plain": [
       "<rdkit.Chem.rdchem.Mol at 0x7f512ab50a80>"
      ]
     },
     "execution_count": 544,
     "metadata": {},
     "output_type": "execute_result"
    }
   ],
   "source": [
    "Chem.MolFromSmarts('[#6]1(:[#7]:[#6](:[#7]:[#7]:1)-[H])-[H]')\n",
    "Chem.MolFromSmiles('[H]C1:N:N:C([H]):N:1')"
   ]
  },
  {
   "cell_type": "code",
   "execution_count": 406,
   "metadata": {
    "ExecuteTime": {
     "end_time": "2021-02-09T16:54:33.332144Z",
     "start_time": "2021-02-09T16:54:33.131834Z"
    }
   },
   "outputs": [
    {
     "data": {
      "text/plain": [
       "['[#6]1(:[#7]:[#6](:[#7]:[#7]:1)-[H])-[H]',\n",
       " '[#6]1(:[#7]:[#6](:[#7](:[#7]:1)-[H])-[H])-[H]']"
      ]
     },
     "execution_count": 406,
     "metadata": {},
     "output_type": "execute_result"
    },
    {
     "data": {
      "text/plain": [
       "'[H]C1:N:N:C([H]):N:1'"
      ]
     },
     "execution_count": 406,
     "metadata": {},
     "output_type": "execute_result"
    },
    {
     "data": {
      "text/plain": [
       "rdkit.Chem.rdmolops.SanitizeFlags.SANITIZE_NONE"
      ]
     },
     "execution_count": 406,
     "metadata": {},
     "output_type": "execute_result"
    },
    {
     "data": {
      "text/plain": [
       "'[H]C1:N:N:C([H]):N:1'"
      ]
     },
     "execution_count": 406,
     "metadata": {},
     "output_type": "execute_result"
    },
    {
     "data": {
      "text/plain": [
       "'C1:N:C:N:N:1'"
      ]
     },
     "execution_count": 406,
     "metadata": {},
     "output_type": "execute_result"
    }
   ],
   "source": [
    "getCarrierFrags('c1nc[nH]n1',6)\n",
    "Chem.MolToSmiles(Chem.MolFromSmarts('[#6]1(:[#7]:[#6](:[#7]:[#7]:1)-[H])-[H]'))\n",
    "moltest=Chem.MolFromSmarts('[#6]1(:[#7]:[#6](:[#7]:[#7]:1)-[H])-[H]')\n",
    "Chem.SanitizeMol(moltest)\n",
    "moltest.UpdatePropertyCache(strict=False)\n",
    "Chem.MolToSmiles(moltest,allHsExplicit=False)\n",
    "Chem.MolToSmiles(Chem.MolFromSmiles('[H]C1:N:N:C([H]):N:1'))"
   ]
  },
  {
   "cell_type": "code",
   "execution_count": 551,
   "metadata": {
    "ExecuteTime": {
     "end_time": "2021-02-10T06:11:15.040514Z",
     "start_time": "2021-02-10T06:11:15.017135Z"
    }
   },
   "outputs": [
    {
     "data": {
      "image/png": "[encoded data removed]",
      "text/plain": [
       "<rdkit.Chem.rdchem.Mol at 0x7f520913ab20>"
      ]
     },
     "execution_count": 551,
     "metadata": {},
     "output_type": "execute_result"
    },
    {
     "data": {
      "image/png": "[encoded data removed]",
      "text/plain": [
       "<rdkit.Chem.rdchem.Mol at 0x7f50c2fbdee0>"
      ]
     },
     "execution_count": 551,
     "metadata": {},
     "output_type": "execute_result"
    }
   ],
   "source": [
    "Chem.MolFromSmarts('[#6]1(:[#7]:[#6](:[#7]:[#7]:1)-[H])-[H]')\n",
    "Chem.MolFromSmarts('[#6]1(:[#7]:[#6](:[#7](:[#7]:1)-[H])-[H])-[H]')"
   ]
  },
  {
   "cell_type": "code",
   "execution_count": 552,
   "metadata": {
    "ExecuteTime": {
     "end_time": "2021-02-10T06:12:08.297652Z",
     "start_time": "2021-02-10T06:12:08.286238Z"
    }
   },
   "outputs": [
    {
     "data": {
      "text/plain": [
       "'[H]C1:N:C([H]):N([H]):N:1'"
      ]
     },
     "execution_count": 552,
     "metadata": {},
     "output_type": "execute_result"
    }
   ],
   "source": [
    "Chem.MolToSmiles(Chem.MolFromSmarts('[#6]1(:[#7]:[#6](:[#7](:[#7]:1)-[H])-[H])-[H]'))"
   ]
  },
  {
   "cell_type": "code",
   "execution_count": 553,
   "metadata": {
    "ExecuteTime": {
     "end_time": "2021-02-10T06:12:23.208368Z",
     "start_time": "2021-02-10T06:12:23.200466Z"
    }
   },
   "outputs": [
    {
     "name": "stderr",
     "output_type": "stream",
     "text": [
      "RDKit ERROR: [06:12:23] Explicit valence for atom # 3 N, 4, is greater than permitted\n"
     ]
    }
   ],
   "source": [
    "Chem.MolFromSmiles('[H]C1:N:C([H]):N([H]):N:1')"
   ]
  },
  {
   "cell_type": "code",
   "execution_count": 532,
   "metadata": {
    "ExecuteTime": {
     "end_time": "2021-02-10T04:37:46.076872Z",
     "start_time": "2021-02-10T04:37:45.920868Z"
    }
   },
   "outputs": [
    {
     "data": {
      "image/png": "[encoded data removed]",
      "text/plain": [
       "<rdkit.Chem.rdchem.Mol at 0x7f5186bd7030>"
      ]
     },
     "execution_count": 532,
     "metadata": {},
     "output_type": "execute_result"
    },
    {
     "data": {
      "image/png": "[encoded data removed]",
      "text/plain": [
       "<rdkit.Chem.rdchem.Mol at 0x7f5736d0d440>"
      ]
     },
     "execution_count": 532,
     "metadata": {},
     "output_type": "execute_result"
    },
    {
     "data": {
      "image/png": "[encoded data removed]",
      "text/plain": [
       "<rdkit.Chem.rdchem.Mol at 0x7f572f0ebda0>"
      ]
     },
     "execution_count": 532,
     "metadata": {},
     "output_type": "execute_result"
    },
    {
     "name": "stderr",
     "output_type": "stream",
     "text": [
      "RDKit ERROR: [04:37:46] Explicit valence for atom # 3 N, 4, is greater than permitted\n",
      "RDKit ERROR: [04:37:46] Explicit valence for atom # 3 N, 4, is greater than permitted\n"
     ]
    },
    {
     "data": {
      "image/png": "[encoded data removed]",
      "text/plain": [
       "<rdkit.Chem.rdchem.Mol at 0x7f52744d2260>"
      ]
     },
     "execution_count": 532,
     "metadata": {},
     "output_type": "execute_result"
    },
    {
     "ename": "RuntimeError",
     "evalue": "Pre-condition Violation\n\tgetNumImplicitHs() called without preceding call to calcImplicitValence()\n\tViolation occurred on line 190 in file Code/GraphMol/Atom.cpp\n\tFailed Expression: d_implicitValence > -1\n\tRDKIT: 2020.09.1\n\tBOOST: 1_74\n",
     "output_type": "error",
     "traceback": [
      "\u001b[0;31m---------------------------------------------------------------------------\u001b[0m",
      "\u001b[0;31mRuntimeError\u001b[0m                              Traceback (most recent call last)",
      "\u001b[0;32m<ipython-input-532-652ce589e5f8>\u001b[0m in \u001b[0;36m<module>\u001b[0;34m\u001b[0m\n\u001b[1;32m      5\u001b[0m \u001b[0mChem\u001b[0m\u001b[0;34m.\u001b[0m\u001b[0mMolFromSmiles\u001b[0m\u001b[0;34m(\u001b[0m\u001b[0mChem\u001b[0m\u001b[0;34m.\u001b[0m\u001b[0mMolToSmiles\u001b[0m\u001b[0;34m(\u001b[0m\u001b[0mChem\u001b[0m\u001b[0;34m.\u001b[0m\u001b[0mMolFromSmarts\u001b[0m\u001b[0;34m(\u001b[0m\u001b[0;34m'[#6]1(:[#7]:[#6](:[#7](:[#7]:1)-[H])-[H])-[H]'\u001b[0m\u001b[0;34m)\u001b[0m\u001b[0;34m,\u001b[0m\u001b[0mallHsExplicit\u001b[0m\u001b[0;34m=\u001b[0m\u001b[0;32mTrue\u001b[0m\u001b[0;34m)\u001b[0m\u001b[0;34m)\u001b[0m\u001b[0;34m\u001b[0m\u001b[0;34m\u001b[0m\u001b[0m\n\u001b[1;32m      6\u001b[0m \u001b[0mChem\u001b[0m\u001b[0;34m.\u001b[0m\u001b[0mMolFromSmarts\u001b[0m\u001b[0;34m(\u001b[0m\u001b[0;34m'[#6]1(:[#7]:[#6](:[#7](:[#7]:1)-[H])-[H])-[H]'\u001b[0m\u001b[0;34m)\u001b[0m\u001b[0;34m\u001b[0m\u001b[0;34m\u001b[0m\u001b[0m\n\u001b[0;32m----> 7\u001b[0;31m \u001b[0mChem\u001b[0m\u001b[0;34m.\u001b[0m\u001b[0mAddHs\u001b[0m\u001b[0;34m(\u001b[0m\u001b[0mChem\u001b[0m\u001b[0;34m.\u001b[0m\u001b[0mMolFromSmarts\u001b[0m\u001b[0;34m(\u001b[0m\u001b[0;34m'[#6]1(:[#7]:[#6](:[#7]:[#7]:1)-[H])-[H]'\u001b[0m\u001b[0;34m)\u001b[0m\u001b[0;34m)\u001b[0m\u001b[0;34m\u001b[0m\u001b[0;34m\u001b[0m\u001b[0m\n\u001b[0m",
      "\u001b[0;31mRuntimeError\u001b[0m: Pre-condition Violation\n\tgetNumImplicitHs() called without preceding call to calcImplicitValence()\n\tViolation occurred on line 190 in file Code/GraphMol/Atom.cpp\n\tFailed Expression: d_implicitValence > -1\n\tRDKIT: 2020.09.1\n\tBOOST: 1_74\n"
     ]
    }
   ],
   "source": [
    "Chem.MolFromSmiles('c1ccncc1.c1nc[nH]n1')\n",
    "Chem.MolFromSmiles('[H]C(:C):N:C([H]):C')\n",
    "Chem.MolFromSmiles('[H]C1:N:N:C([H]):N:1')\n",
    "Chem.MolFromSmiles('[H]C1:N:C([H]):N([H]):N:1')\n",
    "Chem.MolFromSmiles(Chem.MolToSmiles(Chem.MolFromSmarts('[#6]1(:[#7]:[#6](:[#7](:[#7]:1)-[H])-[H])-[H]'),allHsExplicit=True))\n",
    "Chem.MolFromSmarts('[#6]1(:[#7]:[#6](:[#7](:[#7]:1)-[H])-[H])-[H]')"
   ]
  },
  {
   "cell_type": "code",
   "execution_count": 535,
   "metadata": {
    "ExecuteTime": {
     "end_time": "2021-02-10T04:42:20.157560Z",
     "start_time": "2021-02-10T04:42:20.145262Z"
    }
   },
   "outputs": [
    {
     "data": {
      "text/plain": [
       "'[#6]1(:[#7]:[#6](:[#7]:[#7]:1)-[#1])-[#1]'"
      ]
     },
     "execution_count": 535,
     "metadata": {},
     "output_type": "execute_result"
    }
   ],
   "source": [
    "Chem.MolToSmarts(Chem.MolFromSmarts('[#6]1(:[#7]:[#6](:[#7]:[#7]:1)-[H])-[H]'))"
   ]
  },
  {
   "cell_type": "code",
   "execution_count": 534,
   "metadata": {
    "ExecuteTime": {
     "end_time": "2021-02-10T04:41:11.451179Z",
     "start_time": "2021-02-10T04:41:11.426524Z"
    }
   },
   "outputs": [
    {
     "data": {
      "text/plain": [
       "'[#6]1:[#7]:[#6]:[#7H]:[#7]:1'"
      ]
     },
     "execution_count": 534,
     "metadata": {},
     "output_type": "execute_result"
    }
   ],
   "source": [
    "Chem.MolToSmarts(Chem.MolFromSmiles('c1nc[nH]n1'))"
   ]
  },
  {
   "cell_type": "code",
   "execution_count": 536,
   "metadata": {
    "ExecuteTime": {
     "end_time": "2021-02-10T04:43:20.031375Z",
     "start_time": "2021-02-10T04:43:20.022403Z"
    }
   },
   "outputs": [
    {
     "data": {
      "text/plain": [
       "['[#7]', '[#7]:[#7]']"
      ]
     },
     "execution_count": 536,
     "metadata": {},
     "output_type": "execute_result"
    }
   ],
   "source": [
    "getCarrierFrags('c1nc[nH]n1',0,resFormat='smarts')"
   ]
  },
  {
   "cell_type": "code",
   "execution_count": 539,
   "metadata": {
    "ExecuteTime": {
     "end_time": "2021-02-10T04:44:55.014550Z",
     "start_time": "2021-02-10T04:44:54.993334Z"
    }
   },
   "outputs": [
    {
     "data": {
      "image/png": "[encoded data removed]",
      "text/plain": [
       "<rdkit.Chem.rdchem.Mol at 0x7f572f228580>"
      ]
     },
     "execution_count": 539,
     "metadata": {},
     "output_type": "execute_result"
    }
   ],
   "source": [
    "Chem.MolFromSmarts('[#7]:[#7]')"
   ]
  },
  {
   "cell_type": "code",
   "execution_count": 540,
   "metadata": {
    "ExecuteTime": {
     "end_time": "2021-02-10T05:49:43.855776Z",
     "start_time": "2021-02-10T05:49:43.673653Z"
    }
   },
   "outputs": [],
   "source": [
    "Chem.MolFromSmiles('[H]c1nc([H])n([H])n1')"
   ]
  },
  {
   "cell_type": "code",
   "execution_count": 139,
   "metadata": {
    "ExecuteTime": {
     "end_time": "2021-02-10T18:08:20.524626Z",
     "start_time": "2021-02-10T18:08:20.518645Z"
    }
   },
   "outputs": [],
   "source": [
    "def mol_with_atom_index(mol):\n",
    "    for atom in mol.GetAtoms():\n",
    "        atom.SetAtomMapNum(atom.GetIdx())\n",
    "    return mol"
   ]
  },
  {
   "cell_type": "code",
   "execution_count": 9,
   "metadata": {
    "ExecuteTime": {
     "end_time": "2021-02-10T12:14:50.895480Z",
     "start_time": "2021-02-10T12:14:50.760827Z"
    }
   },
   "outputs": [
    {
     "data": {
      "image/png": "[encoded data removed]",
      "text/plain": [
       "<rdkit.Chem.rdchem.Mol at 0x7f4df35e3e40>"
      ]
     },
     "execution_count": 9,
     "metadata": {},
     "output_type": "execute_result"
    }
   ],
   "source": [
    "testmol=Chem.MolFromSmiles('c1nc[nH]n1')\n",
    "Chem.SanitizeMol(testmol)\n",
    "testmol.UpdatePropertyCache(strict=False)\n",
    "Chem.AddHs(testmol)\n",
    "mol_with_atom_index(testmol)\n"
   ]
  },
  {
   "cell_type": "code",
   "execution_count": 548,
   "metadata": {
    "ExecuteTime": {
     "end_time": "2021-02-10T06:06:31.472507Z",
     "start_time": "2021-02-10T06:06:31.453508Z"
    }
   },
   "outputs": [
    {
     "data": {
      "text/plain": [
       "[IFG(atomIds=(1,), atoms='n', type='cnc'),\n",
       " IFG(atomIds=(3, 4), atoms='n[nH]', type='cn[nH]c')]"
      ]
     },
     "execution_count": 548,
     "metadata": {},
     "output_type": "execute_result"
    },
    {
     "data": {
      "text/plain": [
       "<rdkit.Chem.rdchem.Atom at 0x7f51415903a0>"
      ]
     },
     "execution_count": 548,
     "metadata": {},
     "output_type": "execute_result"
    }
   ],
   "source": [
    "IFG(testmol)\n",
    "testmol.GetAtomWithIdx(1)"
   ]
  },
  {
   "cell_type": "code",
   "execution_count": 465,
   "metadata": {
    "ExecuteTime": {
     "end_time": "2021-02-09T17:49:24.513849Z",
     "start_time": "2021-02-09T17:49:24.502452Z"
    }
   },
   "outputs": [],
   "source": [
    "testdb2.set_index(['SubstanceID'],inplace=True)"
   ]
  },
  {
   "cell_type": "code",
   "execution_count": 468,
   "metadata": {
    "ExecuteTime": {
     "end_time": "2021-02-09T17:49:56.077383Z",
     "start_time": "2021-02-09T17:49:56.070323Z"
    }
   },
   "outputs": [],
   "source": [
    "testdb.set_index('SubstanceID',inplace=True)"
   ]
  },
  {
   "cell_type": "code",
   "execution_count": 464,
   "metadata": {
    "ExecuteTime": {
     "end_time": "2021-02-09T17:49:03.809060Z",
     "start_time": "2021-02-09T17:49:03.624635Z"
    }
   },
   "outputs": [],
   "source": [
    "testdb2.reset_index(inplace=True)"
   ]
  },
  {
   "cell_type": "code",
   "execution_count": 469,
   "metadata": {
    "ExecuteTime": {
     "end_time": "2021-02-09T17:50:09.857787Z",
     "start_time": "2021-02-09T17:50:09.830016Z"
    }
   },
   "outputs": [
    {
     "data": {
      "text/html": [
       "<div>\n",
       "<style scoped>\n",
       "    .dataframe tbody tr th:only-of-type {\n",
       "        vertical-align: middle;\n",
       "    }\n",
       "\n",
       "    .dataframe tbody tr th {\n",
       "        vertical-align: top;\n",
       "    }\n",
       "\n",
       "    .dataframe thead th {\n",
       "        text-align: right;\n",
       "    }\n",
       "</style>\n",
       "<table border=\"1\" class=\"dataframe\">\n",
       "  <thead>\n",
       "    <tr style=\"text-align: right;\">\n",
       "      <th></th>\n",
       "      <th>FragmentSmiles</th>\n",
       "      <th>FragmentSmarts</th>\n",
       "      <th>Smiles</th>\n",
       "      <th>&gt;1 Compound</th>\n",
       "    </tr>\n",
       "    <tr>\n",
       "      <th>SubstanceID</th>\n",
       "      <th></th>\n",
       "      <th></th>\n",
       "      <th></th>\n",
       "      <th></th>\n",
       "    </tr>\n",
       "  </thead>\n",
       "  <tbody>\n",
       "    <tr>\n",
       "      <th>19243410</th>\n",
       "      <td>[H]C1:N:C([H]):N([H]):N:1</td>\n",
       "      <td>[#6]1(:[#7]:[#6](:[#7](:[#7]:1)-[H])-[H])-[H]</td>\n",
       "      <td>c1ccncc1.c1nc[nH]n1</td>\n",
       "      <td>True</td>\n",
       "    </tr>\n",
       "    <tr>\n",
       "      <th>19243410</th>\n",
       "      <td>[H]C(:C):N:C([H]):C</td>\n",
       "      <td>[#6]:[#6](:[#7]:[#6](:[#6])-[H])-[H]</td>\n",
       "      <td>c1ccncc1.c1nc[nH]n1</td>\n",
       "      <td>True</td>\n",
       "    </tr>\n",
       "    <tr>\n",
       "      <th>19243410</th>\n",
       "      <td>[H]C1:N:N:C([H]):N:1</td>\n",
       "      <td>[#6]1(:[#7]:[#6](:[#7]:[#7]:1)-[H])-[H]</td>\n",
       "      <td>c1ccncc1.c1nc[nH]n1</td>\n",
       "      <td>True</td>\n",
       "    </tr>\n",
       "    <tr>\n",
       "      <th>16832508</th>\n",
       "      <td>B#N</td>\n",
       "      <td>[#5]#[#7]</td>\n",
       "      <td>B#N.N.[LiH].[LiH].[LiH]</td>\n",
       "      <td>True</td>\n",
       "    </tr>\n",
       "    <tr>\n",
       "      <th>16832508</th>\n",
       "      <td>N</td>\n",
       "      <td>[#7]</td>\n",
       "      <td>B#N.N.[LiH].[LiH].[LiH]</td>\n",
       "      <td>True</td>\n",
       "    </tr>\n",
       "    <tr>\n",
       "      <th>16832508</th>\n",
       "      <td>[LiH]</td>\n",
       "      <td>[LiH]</td>\n",
       "      <td>B#N.N.[LiH].[LiH].[LiH]</td>\n",
       "      <td>True</td>\n",
       "    </tr>\n",
       "    <tr>\n",
       "      <th>16832508</th>\n",
       "      <td>[LiH]</td>\n",
       "      <td>[LiH]</td>\n",
       "      <td>B#N.N.[LiH].[LiH].[LiH]</td>\n",
       "      <td>True</td>\n",
       "    </tr>\n",
       "    <tr>\n",
       "      <th>16832508</th>\n",
       "      <td>[LiH]</td>\n",
       "      <td>[LiH]</td>\n",
       "      <td>B#N.N.[LiH].[LiH].[LiH]</td>\n",
       "      <td>True</td>\n",
       "    </tr>\n",
       "  </tbody>\n",
       "</table>\n",
       "</div>"
      ],
      "text/plain": [
       "                        FragmentSmiles  \\\n",
       "SubstanceID                              \n",
       "19243410     [H]C1:N:C([H]):N([H]):N:1   \n",
       "19243410           [H]C(:C):N:C([H]):C   \n",
       "19243410          [H]C1:N:N:C([H]):N:1   \n",
       "16832508                           B#N   \n",
       "16832508                             N   \n",
       "16832508                         [LiH]   \n",
       "16832508                         [LiH]   \n",
       "16832508                         [LiH]   \n",
       "\n",
       "                                            FragmentSmarts  \\\n",
       "SubstanceID                                                  \n",
       "19243410     [#6]1(:[#7]:[#6](:[#7](:[#7]:1)-[H])-[H])-[H]   \n",
       "19243410              [#6]:[#6](:[#7]:[#6](:[#6])-[H])-[H]   \n",
       "19243410           [#6]1(:[#7]:[#6](:[#7]:[#7]:1)-[H])-[H]   \n",
       "16832508                                         [#5]#[#7]   \n",
       "16832508                                              [#7]   \n",
       "16832508                                             [LiH]   \n",
       "16832508                                             [LiH]   \n",
       "16832508                                             [LiH]   \n",
       "\n",
       "                              Smiles >1 Compound  \n",
       "SubstanceID                                       \n",
       "19243410         c1ccncc1.c1nc[nH]n1        True  \n",
       "19243410         c1ccncc1.c1nc[nH]n1        True  \n",
       "19243410         c1ccncc1.c1nc[nH]n1        True  \n",
       "16832508     B#N.N.[LiH].[LiH].[LiH]        True  \n",
       "16832508     B#N.N.[LiH].[LiH].[LiH]        True  \n",
       "16832508     B#N.N.[LiH].[LiH].[LiH]        True  \n",
       "16832508     B#N.N.[LiH].[LiH].[LiH]        True  \n",
       "16832508     B#N.N.[LiH].[LiH].[LiH]        True  "
      ]
     },
     "execution_count": 469,
     "metadata": {},
     "output_type": "execute_result"
    }
   ],
   "source": [
    "pd.concat([testdb,testdb2])"
   ]
  },
  {
   "cell_type": "code",
   "execution_count": 460,
   "metadata": {
    "ExecuteTime": {
     "end_time": "2021-02-09T17:46:31.725197Z",
     "start_time": "2021-02-09T17:46:31.677415Z"
    }
   },
   "outputs": [
    {
     "data": {
      "text/html": [
       "<div>\n",
       "<style scoped>\n",
       "    .dataframe tbody tr th:only-of-type {\n",
       "        vertical-align: middle;\n",
       "    }\n",
       "\n",
       "    .dataframe tbody tr th {\n",
       "        vertical-align: top;\n",
       "    }\n",
       "\n",
       "    .dataframe thead th {\n",
       "        text-align: right;\n",
       "    }\n",
       "</style>\n",
       "<table border=\"1\" class=\"dataframe\">\n",
       "  <thead>\n",
       "    <tr style=\"text-align: right;\">\n",
       "      <th></th>\n",
       "      <th></th>\n",
       "      <th>FragmentSmarts</th>\n",
       "      <th>Smiles</th>\n",
       "      <th>&gt;1 Compound</th>\n",
       "    </tr>\n",
       "    <tr>\n",
       "      <th>FragmentSmiles</th>\n",
       "      <th>SubstanceID</th>\n",
       "      <th></th>\n",
       "      <th></th>\n",
       "      <th></th>\n",
       "    </tr>\n",
       "  </thead>\n",
       "  <tbody>\n",
       "    <tr>\n",
       "      <th>[H]C1:N:C([H]):N([H]):N:1</th>\n",
       "      <th>19243410</th>\n",
       "      <td>[#6]1(:[#7]:[#6](:[#7](:[#7]:1)-[H])-[H])-[H]</td>\n",
       "      <td>c1ccncc1.c1nc[nH]n1</td>\n",
       "      <td>True</td>\n",
       "    </tr>\n",
       "    <tr>\n",
       "      <th>[H]C(:C):N:C([H]):C</th>\n",
       "      <th>19243410</th>\n",
       "      <td>[#6]:[#6](:[#7]:[#6](:[#6])-[H])-[H]</td>\n",
       "      <td>c1ccncc1.c1nc[nH]n1</td>\n",
       "      <td>True</td>\n",
       "    </tr>\n",
       "    <tr>\n",
       "      <th>[H]C1:N:N:C([H]):N:1</th>\n",
       "      <th>19243410</th>\n",
       "      <td>[#6]1(:[#7]:[#6](:[#7]:[#7]:1)-[H])-[H]</td>\n",
       "      <td>c1ccncc1.c1nc[nH]n1</td>\n",
       "      <td>True</td>\n",
       "    </tr>\n",
       "  </tbody>\n",
       "</table>\n",
       "</div>"
      ],
      "text/plain": [
       "                                                                      FragmentSmarts  \\\n",
       "FragmentSmiles            SubstanceID                                                  \n",
       "[H]C1:N:C([H]):N([H]):N:1 19243410     [#6]1(:[#7]:[#6](:[#7](:[#7]:1)-[H])-[H])-[H]   \n",
       "[H]C(:C):N:C([H]):C       19243410              [#6]:[#6](:[#7]:[#6](:[#6])-[H])-[H]   \n",
       "[H]C1:N:N:C([H]):N:1      19243410           [#6]1(:[#7]:[#6](:[#7]:[#7]:1)-[H])-[H]   \n",
       "\n",
       "                                                    Smiles >1 Compound  \n",
       "FragmentSmiles            SubstanceID                                   \n",
       "[H]C1:N:C([H]):N([H]):N:1 19243410     c1ccncc1.c1nc[nH]n1        True  \n",
       "[H]C(:C):N:C([H]):C       19243410     c1ccncc1.c1nc[nH]n1        True  \n",
       "[H]C1:N:N:C([H]):N:1      19243410     c1ccncc1.c1nc[nH]n1        True  "
      ]
     },
     "execution_count": 460,
     "metadata": {},
     "output_type": "execute_result"
    }
   ],
   "source": [
    "pd.concat([testdb,testdb2]).drop([16832508],level=1)"
   ]
  },
  {
   "cell_type": "code",
   "execution_count": 462,
   "metadata": {
    "ExecuteTime": {
     "end_time": "2021-02-09T17:47:50.235105Z",
     "start_time": "2021-02-09T17:47:50.094479Z"
    }
   },
   "outputs": [
    {
     "data": {
      "text/plain": [
       "Int64Index([      0,       1,       2,       3,       4,       5,       6,\n",
       "                  7,       8,       9,\n",
       "            ...\n",
       "            1249037, 1249038, 1249039, 1249040, 1249041, 1249042, 1249043,\n",
       "            1249044, 1249045, 1249046],\n",
       "           dtype='int64', length=1249047)"
      ]
     },
     "execution_count": 462,
     "metadata": {},
     "output_type": "execute_result"
    }
   ],
   "source": [
    "CarrierFragmentDB4.index.unique()"
   ]
  },
  {
   "cell_type": "code",
   "execution_count": 474,
   "metadata": {
    "ExecuteTime": {
     "end_time": "2021-02-09T17:51:28.358987Z",
     "start_time": "2021-02-09T17:51:28.269467Z"
    }
   },
   "outputs": [],
   "source": [
    "CarrierFragmentDB4.reset_index(inplace=True)"
   ]
  },
  {
   "cell_type": "code",
   "execution_count": 488,
   "metadata": {
    "ExecuteTime": {
     "end_time": "2021-02-09T18:10:43.720336Z",
     "start_time": "2021-02-09T18:10:43.677649Z"
    }
   },
   "outputs": [
    {
     "data": {
      "text/html": [
       "<div>\n",
       "<style scoped>\n",
       "    .dataframe tbody tr th:only-of-type {\n",
       "        vertical-align: middle;\n",
       "    }\n",
       "\n",
       "    .dataframe tbody tr th {\n",
       "        vertical-align: top;\n",
       "    }\n",
       "\n",
       "    .dataframe thead th {\n",
       "        text-align: right;\n",
       "    }\n",
       "</style>\n",
       "<table border=\"1\" class=\"dataframe\">\n",
       "  <thead>\n",
       "    <tr style=\"text-align: right;\">\n",
       "      <th></th>\n",
       "      <th>FragmentSmiles</th>\n",
       "      <th>SubstanceID</th>\n",
       "      <th>FragmentSmarts</th>\n",
       "      <th>Smiles</th>\n",
       "      <th>&gt;1 Compound</th>\n",
       "    </tr>\n",
       "  </thead>\n",
       "  <tbody>\n",
       "    <tr>\n",
       "      <th>0</th>\n",
       "      <td>[H]C([H])(C)OC(=O)C([H])([H])[H]</td>\n",
       "      <td>925</td>\n",
       "      <td>[#6](-[#6](=[#8])-[#8]-[#6](-[#6])(-[H])-[H])(...</td>\n",
       "      <td>CC(=O)OCC1(COC(C)=O)Nc2cccc3cccc(c23)N1</td>\n",
       "      <td>False</td>\n",
       "    </tr>\n",
       "    <tr>\n",
       "      <th>1</th>\n",
       "      <td>[H]N(C)C(C)(C)N([H])C</td>\n",
       "      <td>925</td>\n",
       "      <td>[#6]-[#6](-[#6])(-[#7](-[#6])-[H])-[#7](-[#6])...</td>\n",
       "      <td>CC(=O)OCC1(COC(C)=O)Nc2cccc3cccc(c23)N1</td>\n",
       "      <td>False</td>\n",
       "    </tr>\n",
       "    <tr>\n",
       "      <th>2</th>\n",
       "      <td>[H]C([H])(C)OC(=O)C([H])([H])[H]</td>\n",
       "      <td>925</td>\n",
       "      <td>[#6]-[#6](-[#8]-[#6](-[#6](-[H])(-[H])-[H])=[#...</td>\n",
       "      <td>CC(=O)OCC1(COC(C)=O)Nc2cccc3cccc(c23)N1</td>\n",
       "      <td>False</td>\n",
       "    </tr>\n",
       "    <tr>\n",
       "      <th>3</th>\n",
       "      <td>[H]C([H])(C)OC(=O)C([H])([H])C</td>\n",
       "      <td>929</td>\n",
       "      <td>[#6]-[#6](-[#6](=[#8])-[#8]-[#6](-[#6])(-[H])-...</td>\n",
       "      <td>CCCCCC(=O)OCC1(COC(=O)CCCCC)Nc2cccc3ccc(C4C(=O...</td>\n",
       "      <td>False</td>\n",
       "    </tr>\n",
       "    <tr>\n",
       "      <th>4</th>\n",
       "      <td>[H]N(C)C(C)(C)N([H])C</td>\n",
       "      <td>929</td>\n",
       "      <td>[#6]-[#6](-[#6])(-[#7](-[#6])-[H])-[#7](-[#6])...</td>\n",
       "      <td>CCCCCC(=O)OCC1(COC(=O)CCCCC)Nc2cccc3ccc(C4C(=O...</td>\n",
       "      <td>False</td>\n",
       "    </tr>\n",
       "    <tr>\n",
       "      <th>...</th>\n",
       "      <td>...</td>\n",
       "      <td>...</td>\n",
       "      <td>...</td>\n",
       "      <td>...</td>\n",
       "      <td>...</td>\n",
       "    </tr>\n",
       "    <tr>\n",
       "      <th>64549672</th>\n",
       "      <td>CO[Si](C)(C)C</td>\n",
       "      <td>32983885</td>\n",
       "      <td>[#6]-[#8]-[Si](-[#6])(-[#6])-[#6]</td>\n",
       "      <td>C=C(CO[Si](C)(C)C(C)(C)C)[C@@H]1[C@@H]2CC[C@H]...</td>\n",
       "      <td>False</td>\n",
       "    </tr>\n",
       "    <tr>\n",
       "      <th>64549673</th>\n",
       "      <td>[H]C12CCC([H])(C1)C(=O)O2</td>\n",
       "      <td>32983885</td>\n",
       "      <td>[#6]1-[#6]2(-[#6]-[#6](-[#6]-1)(-[#6](=[#8])-[...</td>\n",
       "      <td>C=C(CO[Si](C)(C)C(C)(C)C)[C@@H]1[C@@H]2CC[C@H]...</td>\n",
       "      <td>False</td>\n",
       "    </tr>\n",
       "    <tr>\n",
       "      <th>64549674</th>\n",
       "      <td>[H]C(:C):C(Br):C([H]):C</td>\n",
       "      <td>32984157</td>\n",
       "      <td>[#35]-[#6](:[#6](:[#6])-[H]):[#6](:[#6])-[H]</td>\n",
       "      <td>Brc1ccc2ncccc2c1.Cl</td>\n",
       "      <td>True</td>\n",
       "    </tr>\n",
       "    <tr>\n",
       "      <th>64549675</th>\n",
       "      <td>[H]Cl</td>\n",
       "      <td>32984157</td>\n",
       "      <td>[#17]-[H]</td>\n",
       "      <td>Brc1ccc2ncccc2c1.Cl</td>\n",
       "      <td>True</td>\n",
       "    </tr>\n",
       "    <tr>\n",
       "      <th>64549676</th>\n",
       "      <td>[H]C(:C):N:C(:C):C</td>\n",
       "      <td>32984157</td>\n",
       "      <td>[#6]:[#6](:[#7]:[#6](:[#6])-[H]):[#6]</td>\n",
       "      <td>Brc1ccc2ncccc2c1.Cl</td>\n",
       "      <td>True</td>\n",
       "    </tr>\n",
       "  </tbody>\n",
       "</table>\n",
       "<p>64549677 rows × 5 columns</p>\n",
       "</div>"
      ],
      "text/plain": [
       "                            FragmentSmiles  SubstanceID  \\\n",
       "0         [H]C([H])(C)OC(=O)C([H])([H])[H]          925   \n",
       "1                    [H]N(C)C(C)(C)N([H])C          925   \n",
       "2         [H]C([H])(C)OC(=O)C([H])([H])[H]          925   \n",
       "3           [H]C([H])(C)OC(=O)C([H])([H])C          929   \n",
       "4                    [H]N(C)C(C)(C)N([H])C          929   \n",
       "...                                    ...          ...   \n",
       "64549672                     CO[Si](C)(C)C     32983885   \n",
       "64549673         [H]C12CCC([H])(C1)C(=O)O2     32983885   \n",
       "64549674           [H]C(:C):C(Br):C([H]):C     32984157   \n",
       "64549675                             [H]Cl     32984157   \n",
       "64549676                [H]C(:C):N:C(:C):C     32984157   \n",
       "\n",
       "                                             FragmentSmarts  \\\n",
       "0         [#6](-[#6](=[#8])-[#8]-[#6](-[#6])(-[H])-[H])(...   \n",
       "1         [#6]-[#6](-[#6])(-[#7](-[#6])-[H])-[#7](-[#6])...   \n",
       "2         [#6]-[#6](-[#8]-[#6](-[#6](-[H])(-[H])-[H])=[#...   \n",
       "3         [#6]-[#6](-[#6](=[#8])-[#8]-[#6](-[#6])(-[H])-...   \n",
       "4         [#6]-[#6](-[#6])(-[#7](-[#6])-[H])-[#7](-[#6])...   \n",
       "...                                                     ...   \n",
       "64549672                  [#6]-[#8]-[Si](-[#6])(-[#6])-[#6]   \n",
       "64549673  [#6]1-[#6]2(-[#6]-[#6](-[#6]-1)(-[#6](=[#8])-[...   \n",
       "64549674       [#35]-[#6](:[#6](:[#6])-[H]):[#6](:[#6])-[H]   \n",
       "64549675                                          [#17]-[H]   \n",
       "64549676              [#6]:[#6](:[#7]:[#6](:[#6])-[H]):[#6]   \n",
       "\n",
       "                                                     Smiles  >1 Compound  \n",
       "0                   CC(=O)OCC1(COC(C)=O)Nc2cccc3cccc(c23)N1        False  \n",
       "1                   CC(=O)OCC1(COC(C)=O)Nc2cccc3cccc(c23)N1        False  \n",
       "2                   CC(=O)OCC1(COC(C)=O)Nc2cccc3cccc(c23)N1        False  \n",
       "3         CCCCCC(=O)OCC1(COC(=O)CCCCC)Nc2cccc3ccc(C4C(=O...        False  \n",
       "4         CCCCCC(=O)OCC1(COC(=O)CCCCC)Nc2cccc3ccc(C4C(=O...        False  \n",
       "...                                                     ...          ...  \n",
       "64549672  C=C(CO[Si](C)(C)C(C)(C)C)[C@@H]1[C@@H]2CC[C@H]...        False  \n",
       "64549673  C=C(CO[Si](C)(C)C(C)(C)C)[C@@H]1[C@@H]2CC[C@H]...        False  \n",
       "64549674                                Brc1ccc2ncccc2c1.Cl         True  \n",
       "64549675                                Brc1ccc2ncccc2c1.Cl         True  \n",
       "64549676                                Brc1ccc2ncccc2c1.Cl         True  \n",
       "\n",
       "[64549677 rows x 5 columns]"
      ]
     },
     "execution_count": 488,
     "metadata": {},
     "output_type": "execute_result"
    }
   ],
   "source": [
    "CarrierFragmentDB"
   ]
  },
  {
   "cell_type": "code",
   "execution_count": 609,
   "metadata": {
    "ExecuteTime": {
     "end_time": "2021-02-10T09:05:34.760448Z",
     "start_time": "2021-02-10T09:05:34.702189Z"
    }
   },
   "outputs": [
    {
     "data": {
      "text/html": [
       "<div>\n",
       "<style scoped>\n",
       "    .dataframe tbody tr th:only-of-type {\n",
       "        vertical-align: middle;\n",
       "    }\n",
       "\n",
       "    .dataframe tbody tr th {\n",
       "        vertical-align: top;\n",
       "    }\n",
       "\n",
       "    .dataframe thead th {\n",
       "        text-align: right;\n",
       "    }\n",
       "</style>\n",
       "<table border=\"1\" class=\"dataframe\">\n",
       "  <thead>\n",
       "    <tr style=\"text-align: right;\">\n",
       "      <th></th>\n",
       "      <th>Smiles</th>\n",
       "      <th>FragmentSmiles</th>\n",
       "      <th>SubstanceID</th>\n",
       "      <th>FragmentSmarts</th>\n",
       "      <th>&gt;1 Compound</th>\n",
       "    </tr>\n",
       "  </thead>\n",
       "  <tbody>\n",
       "    <tr>\n",
       "      <th>0</th>\n",
       "      <td>B#N.N.[LiH].[LiH].[LiH]</td>\n",
       "      <td>B#N</td>\n",
       "      <td>[16832508]</td>\n",
       "      <td>[#5]#[#7]</td>\n",
       "      <td>[True]</td>\n",
       "    </tr>\n",
       "    <tr>\n",
       "      <th>0</th>\n",
       "      <td>B#N.N.[LiH].[LiH].[LiH]</td>\n",
       "      <td>N</td>\n",
       "      <td>[16832508]</td>\n",
       "      <td>[#7]</td>\n",
       "      <td>[True]</td>\n",
       "    </tr>\n",
       "    <tr>\n",
       "      <th>0</th>\n",
       "      <td>B#N.N.[LiH].[LiH].[LiH]</td>\n",
       "      <td>[LiH]</td>\n",
       "      <td>[16832508]</td>\n",
       "      <td>[LiH]</td>\n",
       "      <td>[True]</td>\n",
       "    </tr>\n",
       "    <tr>\n",
       "      <th>0</th>\n",
       "      <td>B#N.N.[LiH].[LiH].[LiH]</td>\n",
       "      <td>[LiH]</td>\n",
       "      <td>[16832508]</td>\n",
       "      <td>[LiH]</td>\n",
       "      <td>[True]</td>\n",
       "    </tr>\n",
       "    <tr>\n",
       "      <th>0</th>\n",
       "      <td>B#N.N.[LiH].[LiH].[LiH]</td>\n",
       "      <td>[LiH]</td>\n",
       "      <td>[16832508]</td>\n",
       "      <td>[LiH]</td>\n",
       "      <td>[True]</td>\n",
       "    </tr>\n",
       "    <tr>\n",
       "      <th>...</th>\n",
       "      <td>...</td>\n",
       "      <td>...</td>\n",
       "      <td>...</td>\n",
       "      <td>...</td>\n",
       "      <td>...</td>\n",
       "    </tr>\n",
       "    <tr>\n",
       "      <th>1249045</th>\n",
       "      <td>c1ccc2cc(B(c3ccc4ccccc4c3)c3ccc4ccccc4c3)ccc2c...</td>\n",
       "      <td>C:C(:C)B(C(:C):C)C(:C):C</td>\n",
       "      <td>[18851306, 18851306]</td>\n",
       "      <td>[#6]:[#6](-[#5](-[#6](:[#6]):[#6])-[#6](:[#6])...</td>\n",
       "      <td>[True, True]</td>\n",
       "    </tr>\n",
       "    <tr>\n",
       "      <th>1249045</th>\n",
       "      <td>c1ccc2cc(B(c3ccc4ccccc4c3)c3ccc4ccccc4c3)ccc2c...</td>\n",
       "      <td>[H]C(:C):N:C([H]):C</td>\n",
       "      <td>[18851306, 18851306]</td>\n",
       "      <td>[#6]:[#6](:[#7]:[#6](:[#6])-[H])-[H]</td>\n",
       "      <td>[True, True]</td>\n",
       "    </tr>\n",
       "    <tr>\n",
       "      <th>1249046</th>\n",
       "      <td>c1ccncc1.c1nc[nH]n1</td>\n",
       "      <td>[H]C(:C):N:C([H]):C</td>\n",
       "      <td>[19243410, 19243410, 19243410]</td>\n",
       "      <td>[#6]:[#6](:[#7]:[#6](:[#6])-[H])-[H]</td>\n",
       "      <td>[True, True, True]</td>\n",
       "    </tr>\n",
       "    <tr>\n",
       "      <th>1249046</th>\n",
       "      <td>c1ccncc1.c1nc[nH]n1</td>\n",
       "      <td>[H]C1:N:N:C([H]):N:1</td>\n",
       "      <td>[19243410, 19243410, 19243410]</td>\n",
       "      <td>[#6]1(:[#7]:[#6](:[#7]:[#7]:1)-[H])-[H]</td>\n",
       "      <td>[True, True, True]</td>\n",
       "    </tr>\n",
       "    <tr>\n",
       "      <th>1249046</th>\n",
       "      <td>c1ccncc1.c1nc[nH]n1</td>\n",
       "      <td>[H]C1:N:C([H]):N([H]):N:1</td>\n",
       "      <td>[19243410, 19243410, 19243410]</td>\n",
       "      <td>[#6]1(:[#7]:[#6](:[#7](:[#7]:1)-[H])-[H])-[H]</td>\n",
       "      <td>[True, True, True]</td>\n",
       "    </tr>\n",
       "  </tbody>\n",
       "</table>\n",
       "<p>8263090 rows × 5 columns</p>\n",
       "</div>"
      ],
      "text/plain": [
       "                                                    Smiles  \\\n",
       "0                                  B#N.N.[LiH].[LiH].[LiH]   \n",
       "0                                  B#N.N.[LiH].[LiH].[LiH]   \n",
       "0                                  B#N.N.[LiH].[LiH].[LiH]   \n",
       "0                                  B#N.N.[LiH].[LiH].[LiH]   \n",
       "0                                  B#N.N.[LiH].[LiH].[LiH]   \n",
       "...                                                    ...   \n",
       "1249045  c1ccc2cc(B(c3ccc4ccccc4c3)c3ccc4ccccc4c3)ccc2c...   \n",
       "1249045  c1ccc2cc(B(c3ccc4ccccc4c3)c3ccc4ccccc4c3)ccc2c...   \n",
       "1249046                                c1ccncc1.c1nc[nH]n1   \n",
       "1249046                                c1ccncc1.c1nc[nH]n1   \n",
       "1249046                                c1ccncc1.c1nc[nH]n1   \n",
       "\n",
       "                    FragmentSmiles                     SubstanceID  \\\n",
       "0                              B#N                      [16832508]   \n",
       "0                                N                      [16832508]   \n",
       "0                            [LiH]                      [16832508]   \n",
       "0                            [LiH]                      [16832508]   \n",
       "0                            [LiH]                      [16832508]   \n",
       "...                            ...                             ...   \n",
       "1249045   C:C(:C)B(C(:C):C)C(:C):C            [18851306, 18851306]   \n",
       "1249045        [H]C(:C):N:C([H]):C            [18851306, 18851306]   \n",
       "1249046        [H]C(:C):N:C([H]):C  [19243410, 19243410, 19243410]   \n",
       "1249046       [H]C1:N:N:C([H]):N:1  [19243410, 19243410, 19243410]   \n",
       "1249046  [H]C1:N:C([H]):N([H]):N:1  [19243410, 19243410, 19243410]   \n",
       "\n",
       "                                            FragmentSmarts         >1 Compound  \n",
       "0                                                [#5]#[#7]              [True]  \n",
       "0                                                     [#7]              [True]  \n",
       "0                                                    [LiH]              [True]  \n",
       "0                                                    [LiH]              [True]  \n",
       "0                                                    [LiH]              [True]  \n",
       "...                                                    ...                 ...  \n",
       "1249045  [#6]:[#6](-[#5](-[#6](:[#6]):[#6])-[#6](:[#6])...        [True, True]  \n",
       "1249045               [#6]:[#6](:[#7]:[#6](:[#6])-[H])-[H]        [True, True]  \n",
       "1249046               [#6]:[#6](:[#7]:[#6](:[#6])-[H])-[H]  [True, True, True]  \n",
       "1249046            [#6]1(:[#7]:[#6](:[#7]:[#7]:1)-[H])-[H]  [True, True, True]  \n",
       "1249046      [#6]1(:[#7]:[#6](:[#7](:[#7]:1)-[H])-[H])-[H]  [True, True, True]  \n",
       "\n",
       "[8263090 rows x 5 columns]"
      ]
     },
     "execution_count": 609,
     "metadata": {},
     "output_type": "execute_result"
    }
   ],
   "source": [
    "CarrierFragmentDB4"
   ]
  },
  {
   "cell_type": "code",
   "execution_count": 331,
   "metadata": {
    "ExecuteTime": {
     "end_time": "2021-02-09T10:46:54.294738Z",
     "start_time": "2021-02-09T10:46:53.734641Z"
    }
   },
   "outputs": [
    {
     "data": {
      "text/html": [
       "<div>\n",
       "<style scoped>\n",
       "    .dataframe tbody tr th:only-of-type {\n",
       "        vertical-align: middle;\n",
       "    }\n",
       "\n",
       "    .dataframe tbody tr th {\n",
       "        vertical-align: top;\n",
       "    }\n",
       "\n",
       "    .dataframe thead th {\n",
       "        text-align: right;\n",
       "    }\n",
       "</style>\n",
       "<table border=\"1\" class=\"dataframe\">\n",
       "  <thead>\n",
       "    <tr style=\"text-align: right;\">\n",
       "      <th></th>\n",
       "      <th>FragmentSmiles</th>\n",
       "      <th>SubstanceID</th>\n",
       "      <th>FragmentSmarts</th>\n",
       "      <th>Smiles</th>\n",
       "      <th>&gt;1 Compound</th>\n",
       "    </tr>\n",
       "  </thead>\n",
       "  <tbody>\n",
       "    <tr>\n",
       "      <th>61945111</th>\n",
       "      <td>C:C(:C)*C(:C):C</td>\n",
       "      <td>31713109</td>\n",
       "      <td>[#0](-[#6](:[#6]):[#6])-[#6](:[#6]):[#6]</td>\n",
       "      <td>*(c1ccccc1)c1ccccc1.N.N.[1*].[1*]</td>\n",
       "      <td>True</td>\n",
       "    </tr>\n",
       "    <tr>\n",
       "      <th>61945112</th>\n",
       "      <td>[H]N([H])[H]</td>\n",
       "      <td>31713109</td>\n",
       "      <td>[#7](-[H])(-[H])-[H]</td>\n",
       "      <td>*(c1ccccc1)c1ccccc1.N.N.[1*].[1*]</td>\n",
       "      <td>True</td>\n",
       "    </tr>\n",
       "    <tr>\n",
       "      <th>61945113</th>\n",
       "      <td>[H]N([H])[H]</td>\n",
       "      <td>31713109</td>\n",
       "      <td>[#7](-[H])(-[H])-[H]</td>\n",
       "      <td>*(c1ccccc1)c1ccccc1.N.N.[1*].[1*]</td>\n",
       "      <td>True</td>\n",
       "    </tr>\n",
       "    <tr>\n",
       "      <th>61945114</th>\n",
       "      <td>[1*]</td>\n",
       "      <td>31713109</td>\n",
       "      <td>[1#0]</td>\n",
       "      <td>*(c1ccccc1)c1ccccc1.N.N.[1*].[1*]</td>\n",
       "      <td>True</td>\n",
       "    </tr>\n",
       "    <tr>\n",
       "      <th>61945115</th>\n",
       "      <td>[1*]</td>\n",
       "      <td>31713109</td>\n",
       "      <td>[1#0]</td>\n",
       "      <td>*(c1ccccc1)c1ccccc1.N.N.[1*].[1*]</td>\n",
       "      <td>True</td>\n",
       "    </tr>\n",
       "  </tbody>\n",
       "</table>\n",
       "</div>"
      ],
      "text/plain": [
       "           FragmentSmiles  SubstanceID  \\\n",
       "61945111  C:C(:C)*C(:C):C     31713109   \n",
       "61945112     [H]N([H])[H]     31713109   \n",
       "61945113     [H]N([H])[H]     31713109   \n",
       "61945114             [1*]     31713109   \n",
       "61945115             [1*]     31713109   \n",
       "\n",
       "                                    FragmentSmarts  \\\n",
       "61945111  [#0](-[#6](:[#6]):[#6])-[#6](:[#6]):[#6]   \n",
       "61945112                      [#7](-[H])(-[H])-[H]   \n",
       "61945113                      [#7](-[H])(-[H])-[H]   \n",
       "61945114                                     [1#0]   \n",
       "61945115                                     [1#0]   \n",
       "\n",
       "                                     Smiles  >1 Compound  \n",
       "61945111  *(c1ccccc1)c1ccccc1.N.N.[1*].[1*]         True  \n",
       "61945112  *(c1ccccc1)c1ccccc1.N.N.[1*].[1*]         True  \n",
       "61945113  *(c1ccccc1)c1ccccc1.N.N.[1*].[1*]         True  \n",
       "61945114  *(c1ccccc1)c1ccccc1.N.N.[1*].[1*]         True  \n",
       "61945115  *(c1ccccc1)c1ccccc1.N.N.[1*].[1*]         True  "
      ]
     },
     "execution_count": 331,
     "metadata": {},
     "output_type": "execute_result"
    }
   ],
   "source": [
    "CarrierFragmentDBDask.loc[CarrierFragmentDBDask['SubstanceID']==31713109].compute()"
   ]
  },
  {
   "cell_type": "code",
   "execution_count": 332,
   "metadata": {
    "ExecuteTime": {
     "end_time": "2021-02-09T10:47:10.060294Z",
     "start_time": "2021-02-09T10:47:10.042068Z"
    }
   },
   "outputs": [
    {
     "data": {
      "image/png": "[encoded data removed]",
      "text/plain": [
       "<rdkit.Chem.rdchem.Mol at 0x7f527b6beb70>"
      ]
     },
     "execution_count": 332,
     "metadata": {},
     "output_type": "execute_result"
    }
   ],
   "source": [
    "Chem.MolFromSmiles('*(c1ccccc1)c1ccccc1.N.N.[1*].[1*]')"
   ]
  },
  {
   "cell_type": "code",
   "execution_count": 361,
   "metadata": {
    "ExecuteTime": {
     "end_time": "2021-02-09T12:17:37.834934Z",
     "start_time": "2021-02-09T12:17:37.820433Z"
    }
   },
   "outputs": [
    {
     "data": {
      "text/plain": [
       "Smiles                  [Cu].[Cu].[Cu].[Cu].[Er].[Er].[Er].[GaH3].[GaH...\n",
       "FragmentSmiles  list    [[Cu].[Cu].[Cu].[Cu].[Er].[Er].[Er].[GaH3].[Ga...\n",
       "SubstanceID     list                                 [22599583, 22599598]\n",
       "FragmentSmarts  list    [[Cu], [Cu], [Cu], [Cu], [Er], [Er], [Er], [Ga...\n",
       ">1 Compound     list                                         [True, True]\n",
       "Name: 1239046, dtype: object"
      ]
     },
     "execution_count": 361,
     "metadata": {},
     "output_type": "execute_result"
    }
   ],
   "source": [
    "CarrierFragmentDB3.loc[1239046]"
   ]
  },
  {
   "cell_type": "code",
   "execution_count": 110,
   "metadata": {
    "ExecuteTime": {
     "end_time": "2021-02-08T17:43:38.391753Z",
     "start_time": "2021-02-08T17:43:38.194235Z"
    }
   },
   "outputs": [],
   "source": [
    "CarrierFragmentDB.rename(columns={'CarrierFragmentSmiles':'FragmentSmiles','CarrierFragmentSmarts':'FragmentSmarts'},inplace=True)"
   ]
  },
  {
   "cell_type": "code",
   "execution_count": 112,
   "metadata": {
    "ExecuteTime": {
     "end_time": "2021-02-08T17:45:23.134380Z",
     "start_time": "2021-02-08T17:45:22.955153Z"
    }
   },
   "outputs": [],
   "source": [
    "CarrierFragmentDBDask=CarrierFragmentDBDask.rename(columns={'CarrierFragmentSmiles':'FragmentSmiles','CarrierFragmentSmarts':'FragmentSmarts'})"
   ]
  },
  {
   "cell_type": "code",
   "execution_count": 114,
   "metadata": {
    "ExecuteTime": {
     "end_time": "2021-02-08T17:45:45.069267Z",
     "start_time": "2021-02-08T17:45:44.759440Z"
    }
   },
   "outputs": [],
   "source": [
    "CarrierFragmentDBDask=client.persist(CarrierFragmentDBDask)"
   ]
  },
  {
   "cell_type": "code",
   "execution_count": 113,
   "metadata": {
    "ExecuteTime": {
     "end_time": "2021-02-08T17:45:25.804112Z",
     "start_time": "2021-02-08T17:45:25.604769Z"
    }
   },
   "outputs": [
    {
     "data": {
      "text/html": [
       "<div><strong>Dask DataFrame Structure:</strong></div>\n",
       "<div>\n",
       "<style scoped>\n",
       "    .dataframe tbody tr th:only-of-type {\n",
       "        vertical-align: middle;\n",
       "    }\n",
       "\n",
       "    .dataframe tbody tr th {\n",
       "        vertical-align: top;\n",
       "    }\n",
       "\n",
       "    .dataframe thead th {\n",
       "        text-align: right;\n",
       "    }\n",
       "</style>\n",
       "<table border=\"1\" class=\"dataframe\">\n",
       "  <thead>\n",
       "    <tr style=\"text-align: right;\">\n",
       "      <th></th>\n",
       "      <th>FragmentSmiles</th>\n",
       "      <th>SubstanceID</th>\n",
       "      <th>FragmentSmarts</th>\n",
       "      <th>Smiles</th>\n",
       "    </tr>\n",
       "    <tr>\n",
       "      <th>npartitions=181</th>\n",
       "      <th></th>\n",
       "      <th></th>\n",
       "      <th></th>\n",
       "      <th></th>\n",
       "    </tr>\n",
       "  </thead>\n",
       "  <tbody>\n",
       "    <tr>\n",
       "      <th>0</th>\n",
       "      <td>object</td>\n",
       "      <td>int64</td>\n",
       "      <td>object</td>\n",
       "      <td>object</td>\n",
       "    </tr>\n",
       "    <tr>\n",
       "      <th>356629</th>\n",
       "      <td>...</td>\n",
       "      <td>...</td>\n",
       "      <td>...</td>\n",
       "      <td>...</td>\n",
       "    </tr>\n",
       "    <tr>\n",
       "      <th>...</th>\n",
       "      <td>...</td>\n",
       "      <td>...</td>\n",
       "      <td>...</td>\n",
       "      <td>...</td>\n",
       "    </tr>\n",
       "    <tr>\n",
       "      <th>64193220</th>\n",
       "      <td>...</td>\n",
       "      <td>...</td>\n",
       "      <td>...</td>\n",
       "      <td>...</td>\n",
       "    </tr>\n",
       "    <tr>\n",
       "      <th>64549676</th>\n",
       "      <td>...</td>\n",
       "      <td>...</td>\n",
       "      <td>...</td>\n",
       "      <td>...</td>\n",
       "    </tr>\n",
       "  </tbody>\n",
       "</table>\n",
       "</div>\n",
       "<div>Dask Name: rename, 362 tasks</div>"
      ],
      "text/plain": [
       "Dask DataFrame Structure:\n",
       "                FragmentSmiles SubstanceID FragmentSmarts  Smiles\n",
       "npartitions=181                                                  \n",
       "0                       object       int64         object  object\n",
       "356629                     ...         ...            ...     ...\n",
       "...                        ...         ...            ...     ...\n",
       "64193220                   ...         ...            ...     ...\n",
       "64549676                   ...         ...            ...     ...\n",
       "Dask Name: rename, 362 tasks"
      ]
     },
     "execution_count": 113,
     "metadata": {},
     "output_type": "execute_result"
    }
   ],
   "source": [
    "CarrierFragmentDBDask"
   ]
  },
  {
   "cell_type": "code",
   "execution_count": 100,
   "metadata": {
    "ExecuteTime": {
     "end_time": "2021-02-08T15:47:28.440531Z",
     "start_time": "2021-02-08T15:47:28.432632Z"
    }
   },
   "outputs": [
    {
     "data": {
      "text/plain": [
       "['[#35]-[#6](:[#6](:[#6])-[H]):[#6](:[#6])-[H]',\n",
       " '[#6]:[#6](:[#7]:[#6](:[#6])-[H]):[#6]',\n",
       " '[#17]']"
      ]
     },
     "execution_count": 100,
     "metadata": {},
     "output_type": "execute_result"
    }
   ],
   "source": [
    "res"
   ]
  },
  {
   "cell_type": "code",
   "execution_count": 85,
   "metadata": {
    "ExecuteTime": {
     "end_time": "2021-02-08T14:51:09.995385Z",
     "start_time": "2021-02-08T14:51:09.982523Z"
    }
   },
   "outputs": [
    {
     "data": {
      "text/plain": [
       "'[#17]'"
      ]
     },
     "execution_count": 85,
     "metadata": {},
     "output_type": "execute_result"
    }
   ],
   "source": [
    "getCarrierFrags('Cl',6)"
   ]
  },
  {
   "cell_type": "code",
   "execution_count": 81,
   "metadata": {
    "ExecuteTime": {
     "end_time": "2021-02-08T14:37:27.802745Z",
     "start_time": "2021-02-08T14:37:27.790669Z"
    }
   },
   "outputs": [
    {
     "data": {
      "text/plain": [
       "['[#35]-[#6](:[#6](:[#6])-[H]):[#6](:[#6])-[H]',\n",
       " '[#6]:[#6](:[#7]:[#6](:[#6])-[H]):[#6]']"
      ]
     },
     "execution_count": 81,
     "metadata": {},
     "output_type": "execute_result"
    }
   ],
   "source": [
    "getCarrierFrags('Brc1ccc2ncccc2c1',6)"
   ]
  },
  {
   "cell_type": "code",
   "execution_count": 77,
   "metadata": {
    "ExecuteTime": {
     "end_time": "2021-02-08T09:03:39.447057Z",
     "start_time": "2021-02-08T09:03:39.410451Z"
    }
   },
   "outputs": [
    {
     "data": {
      "text/plain": [
       "rdkit.Chem.rdmolops.SanitizeFlags.SANITIZE_NONE"
      ]
     },
     "execution_count": 77,
     "metadata": {},
     "output_type": "execute_result"
    },
    {
     "data": {
      "text/plain": [
       "'Cl'"
      ]
     },
     "execution_count": 77,
     "metadata": {},
     "output_type": "execute_result"
    },
    {
     "data": {
      "text/plain": [
       "1"
      ]
     },
     "execution_count": 77,
     "metadata": {},
     "output_type": "execute_result"
    },
    {
     "data": {
      "text/plain": [
       "'Cl'"
      ]
     },
     "execution_count": 77,
     "metadata": {},
     "output_type": "execute_result"
    }
   ],
   "source": [
    "mol2=Chem.MolFromSmarts('[#17]')\n",
    "Chem.SanitizeMol(mol2)\n",
    "mol2.UpdatePropertyCache(strict=False)\n",
    "Chem.MolToSmiles(mol2)\n",
    "mol2.GetAtoms()[0].GetTotalNumHs()\n",
    "Chem.MolToSmiles(Chem.MolFromSmiles(Chem.MolToSmiles(Chem.rdmolops.AddHs(mol2))))"
   ]
  },
  {
   "cell_type": "code",
   "execution_count": 79,
   "metadata": {
    "ExecuteTime": {
     "end_time": "2021-02-08T09:05:22.319487Z",
     "start_time": "2021-02-08T09:05:22.305308Z"
    }
   },
   "outputs": [
    {
     "data": {
      "text/plain": [
       "'[H]c1nc2c([H])c([H])c(Br)c([H])c2c([H])c1[H]'"
      ]
     },
     "execution_count": 79,
     "metadata": {},
     "output_type": "execute_result"
    }
   ],
   "source": [
    "Chem.MolToSmiles(Chem.rdmolops.AddHs(Chem.MolFromSmiles('Brc1ccc2ncccc2c1')))"
   ]
  },
  {
   "cell_type": "code",
   "execution_count": 4,
   "metadata": {
    "ExecuteTime": {
     "end_time": "2021-02-03T16:53:56.634549Z",
     "start_time": "2021-02-03T16:53:56.629102Z"
    }
   },
   "outputs": [],
   "source": [
    "# -- directories for Reaxys data\n",
    "# allrxtidsdir='/home/zg268/py2projects/reaction_1/AllRxtIDs.dat'\n",
    "# This file contains reactant IDs in Reaxys\n",
    "allrxtidsdir = '/home/aa2133/Impurity-Project/Reaxys_Data/AllRxtIDs.dat'\n",
    "# rxnSource='/home/projects/graph/11step_network_774355/zg_good_data_noDupRXID2.dat'\n",
    "# This file contains the reaction network\n",
    "rxnSource = '/home/aa2133/Impurity-Project/Reaxys_Data/zg_good_data_noDupRXID2.dat'\n",
    "\n",
    "# This is a directory containing all mol files\n",
    "molfilesource = '/home/projects/graph/data/'"
   ]
  },
  {
   "cell_type": "markdown",
   "metadata": {},
   "source": [
    "# Dask"
   ]
  },
  {
   "cell_type": "code",
   "execution_count": 4,
   "metadata": {
    "ExecuteTime": {
     "end_time": "2021-02-11T03:35:05.231134Z",
     "start_time": "2021-02-11T03:35:04.683697Z"
    }
   },
   "outputs": [],
   "source": [
    "from dask.distributed import Client, LocalCluster"
   ]
  },
  {
   "cell_type": "code",
   "execution_count": 5,
   "metadata": {
    "ExecuteTime": {
     "end_time": "2021-02-11T03:35:09.825687Z",
     "start_time": "2021-02-11T03:35:07.570589Z"
    }
   },
   "outputs": [],
   "source": [
    "cluster=LocalCluster(n_workers=16,threads_per_worker=2,scheduler_port=42117) # dashboard_address=':8786\n",
    "client = Client(cluster) #'127.0.0.1:8786' is default scheduler cluster"
   ]
  },
  {
   "cell_type": "code",
   "execution_count": 39,
   "metadata": {
    "ExecuteTime": {
     "end_time": "2021-02-08T04:16:47.818261Z",
     "start_time": "2021-02-08T04:16:47.138940Z"
    }
   },
   "outputs": [],
   "source": [
    "client = Client('tcp://127.0.0.1:42117') #Use when scheduler already initiated"
   ]
  },
  {
   "cell_type": "code",
   "execution_count": 6,
   "metadata": {
    "ExecuteTime": {
     "end_time": "2021-02-11T03:35:11.399863Z",
     "start_time": "2021-02-11T03:35:11.378385Z"
    }
   },
   "outputs": [
    {
     "data": {
      "text/html": [
       "<table style=\"border: 2px solid white;\">\n",
       "<tr>\n",
       "<td style=\"vertical-align: top; border: 0px solid white\">\n",
       "<h3 style=\"text-align: left;\">Client</h3>\n",
       "<ul style=\"text-align: left; list-style: none; margin: 0; padding: 0;\">\n",
       "  <li><b>Scheduler: </b>tcp://127.0.0.1:42117</li>\n",
       "  <li><b>Dashboard: </b><a href='http://127.0.0.1:8787/status' target='_blank'>http://127.0.0.1:8787/status</a></li>\n",
       "</ul>\n",
       "</td>\n",
       "<td style=\"vertical-align: top; border: 0px solid white\">\n",
       "<h3 style=\"text-align: left;\">Cluster</h3>\n",
       "<ul style=\"text-align: left; list-style:none; margin: 0; padding: 0;\">\n",
       "  <li><b>Workers: </b>16</li>\n",
       "  <li><b>Cores: </b>32</li>\n",
       "  <li><b>Memory: </b>67.51 GB</li>\n",
       "</ul>\n",
       "</td>\n",
       "</tr>\n",
       "</table>"
      ],
      "text/plain": [
       "<Client: 'tcp://127.0.0.1:42117' processes=16 threads=32, memory=67.51 GB>"
      ]
     },
     "execution_count": 6,
     "metadata": {},
     "output_type": "execute_result"
    }
   ],
   "source": [
    "client"
   ]
  },
  {
   "cell_type": "code",
   "execution_count": 158,
   "metadata": {
    "ExecuteTime": {
     "end_time": "2021-02-09T05:01:24.231269Z",
     "start_time": "2021-02-09T05:01:15.713752Z"
    }
   },
   "outputs": [
    {
     "name": "stderr",
     "output_type": "stream",
     "text": [
      "distributed.nanny - WARNING - Worker exceeded 95% memory budget. Restarting\n",
      "distributed.nanny - WARNING - Worker process still alive after 1 seconds, killing\n",
      "distributed.nanny - WARNING - Worker process still alive after 1 seconds, killing\n",
      "distributed.nanny - WARNING - Worker process still alive after 1 seconds, killing\n",
      "distributed.nanny - WARNING - Worker process still alive after 1 seconds, killing\n",
      "distributed.nanny - WARNING - Worker process still alive after 1 seconds, killing\n",
      "distributed.nanny - WARNING - Worker process still alive after 1 seconds, killing\n",
      "distributed.nanny - WARNING - Worker process still alive after 1 seconds, killing\n",
      "distributed.nanny - WARNING - Worker process still alive after 1 seconds, killing\n",
      "distributed.nanny - WARNING - Worker process still alive after 1 seconds, killing\n",
      "distributed.nanny - WARNING - Worker process still alive after 1 seconds, killing\n",
      "distributed.nanny - WARNING - Worker exceeded 95% memory budget. Restarting\n",
      "distributed.nanny - WARNING - Restarting worker\n",
      "distributed.nanny - WARNING - Restarting worker\n",
      "distributed.nanny - WARNING - Restarting worker\n",
      "distributed.nanny - WARNING - Restarting worker\n",
      "distributed.nanny - WARNING - Restarting worker\n",
      "distributed.nanny - WARNING - Restarting worker\n",
      "distributed.nanny - WARNING - Restarting worker\n",
      "distributed.nanny - WARNING - Restarting worker\n",
      "distributed.nanny - WARNING - Restarting worker\n",
      "distributed.nanny - WARNING - Restarting worker\n",
      "distributed.nanny - WARNING - Restarting worker\n",
      "distributed.nanny - WARNING - Restarting worker\n",
      "distributed.nanny - WARNING - Restarting worker\n",
      "distributed.nanny - WARNING - Restarting worker\n",
      "distributed.nanny - WARNING - Restarting worker\n",
      "distributed.nanny - WARNING - Restarting worker\n"
     ]
    },
    {
     "data": {
      "text/html": [
       "<table style=\"border: 2px solid white;\">\n",
       "<tr>\n",
       "<td style=\"vertical-align: top; border: 0px solid white\">\n",
       "<h3 style=\"text-align: left;\">Client</h3>\n",
       "<ul style=\"text-align: left; list-style: none; margin: 0; padding: 0;\">\n",
       "  <li><b>Scheduler: </b>tcp://127.0.0.1:42117</li>\n",
       "  <li><b>Dashboard: </b><a href='http://127.0.0.1:8787/status' target='_blank'>http://127.0.0.1:8787/status</a></li>\n",
       "</ul>\n",
       "</td>\n",
       "<td style=\"vertical-align: top; border: 0px solid white\">\n",
       "<h3 style=\"text-align: left;\">Cluster</h3>\n",
       "<ul style=\"text-align: left; list-style:none; margin: 0; padding: 0;\">\n",
       "  <li><b>Workers: </b>16</li>\n",
       "  <li><b>Cores: </b>32</li>\n",
       "  <li><b>Memory: </b>67.51 GB</li>\n",
       "</ul>\n",
       "</td>\n",
       "</tr>\n",
       "</table>"
      ],
      "text/plain": [
       "<Client: 'tcp://127.0.0.1:42117' processes=0 threads=0, memory=0 B>"
      ]
     },
     "execution_count": 158,
     "metadata": {},
     "output_type": "execute_result"
    }
   ],
   "source": [
    "client.restart()"
   ]
  },
  {
   "cell_type": "code",
   "execution_count": 594,
   "metadata": {
    "ExecuteTime": {
     "end_time": "2021-02-10T08:44:38.948024Z",
     "start_time": "2021-02-10T08:44:36.310785Z"
    }
   },
   "outputs": [],
   "source": [
    "cluster.close()\n",
    "client.close()"
   ]
  },
  {
   "cell_type": "markdown",
   "metadata": {},
   "source": [
    "# Cleaning Data"
   ]
  },
  {
   "cell_type": "markdown",
   "metadata": {},
   "source": [
    "Below, the existing substance database is loaded as a pandas dataframe (pickle file) and processed(imputing missing values, defining column data types). Note that this takes up several gigabytes of space in memory but is nearly 10 times faster at retrieving indexed data (however, when doing intensive write/modifying operations on the entire database or non-indexed data slowdows will be expected due to inability to parallelize). For optimizing pandas, check https://engineering.upside.com/a-beginners-guide-to-optimizing-pandas-code-for-speed-c09ef2c6a4d6. Otherwise use pandas documentation: https://pandas.pydata.org/pandas-docs/stable/index.html"
   ]
  },
  {
   "cell_type": "code",
   "execution_count": 5,
   "metadata": {
    "ExecuteTime": {
     "end_time": "2021-02-18T13:10:46.935608Z",
     "start_time": "2021-02-18T13:09:55.320325Z"
    }
   },
   "outputs": [],
   "source": [
    "substancedb = openpickle(\"/home/aa2133/Impurity-Project/Reaxys_Data/SubstanceDB.pickle\")"
   ]
  },
  {
   "cell_type": "code",
   "execution_count": 9,
   "metadata": {
    "ExecuteTime": {
     "end_time": "2021-02-03T16:54:50.522612Z",
     "start_time": "2021-02-03T16:54:50.494031Z"
    },
    "scrolled": true
   },
   "outputs": [
    {
     "data": {
      "text/html": [
       "<div>\n",
       "<style scoped>\n",
       "    .dataframe tbody tr th:only-of-type {\n",
       "        vertical-align: middle;\n",
       "    }\n",
       "\n",
       "    .dataframe tbody tr th {\n",
       "        vertical-align: top;\n",
       "    }\n",
       "\n",
       "    .dataframe thead th {\n",
       "        text-align: right;\n",
       "    }\n",
       "</style>\n",
       "<table border=\"1\" class=\"dataframe\">\n",
       "  <thead>\n",
       "    <tr style=\"text-align: right;\">\n",
       "      <th></th>\n",
       "      <th>MolFileAddress</th>\n",
       "      <th>Smiles</th>\n",
       "      <th>Error</th>\n",
       "    </tr>\n",
       "    <tr>\n",
       "      <th>SubstanceID</th>\n",
       "      <th></th>\n",
       "      <th></th>\n",
       "      <th></th>\n",
       "    </tr>\n",
       "  </thead>\n",
       "  <tbody>\n",
       "    <tr>\n",
       "      <th>6890270</th>\n",
       "      <td>/home/projects/graph/data/batch_6500000/6890270</td>\n",
       "      <td>CC(C)(C)[C@@H]1CC[C@@](C)(F)[C@H](Br)C1</td>\n",
       "      <td>No</td>\n",
       "    </tr>\n",
       "    <tr>\n",
       "      <th>27615522</th>\n",
       "      <td>/home/projects/graph/data/batch_6500000/27615522</td>\n",
       "      <td>Cc1cc(-c2nc3cc(F)ccc3c3cc4c(cc23)OCO4)ccc1F</td>\n",
       "      <td>No</td>\n",
       "    </tr>\n",
       "    <tr>\n",
       "      <th>29164535</th>\n",
       "      <td>/home/projects/graph/data/batch_6500000/29164535</td>\n",
       "      <td>[Gd+3].[Na+].[O-]B([O-])[O-].[Tb+3]</td>\n",
       "      <td>No</td>\n",
       "    </tr>\n",
       "    <tr>\n",
       "      <th>11230426</th>\n",
       "      <td>/home/projects/graph/data/batch_6500000/11230426</td>\n",
       "      <td>Nc1cc(F)c(N2CC(F)C2)c(F)c1</td>\n",
       "      <td>No</td>\n",
       "    </tr>\n",
       "    <tr>\n",
       "      <th>9019791</th>\n",
       "      <td>/home/projects/graph/data/batch_6500000/9019791</td>\n",
       "      <td>CCCCOc1ccc(-c2nc(-c3ccc(Cl)cc3)[nH]c2-c2ccncc2...</td>\n",
       "      <td>No</td>\n",
       "    </tr>\n",
       "    <tr>\n",
       "      <th>...</th>\n",
       "      <td>...</td>\n",
       "      <td>...</td>\n",
       "      <td>...</td>\n",
       "    </tr>\n",
       "    <tr>\n",
       "      <th>26761831</th>\n",
       "      <td>/home/projects/graph/data/batch_12600000/26761831</td>\n",
       "      <td>CCOC(=O)C(CC)(CC)P(=O)(OCC)OCC</td>\n",
       "      <td>No</td>\n",
       "    </tr>\n",
       "    <tr>\n",
       "      <th>3409746</th>\n",
       "      <td>/home/projects/graph/data/batch_12600000/3409746</td>\n",
       "      <td>N#CC(COC(=O)c1ccccc1)OC(=O)c1ccccc1</td>\n",
       "      <td>No</td>\n",
       "    </tr>\n",
       "    <tr>\n",
       "      <th>6138726</th>\n",
       "      <td>/home/projects/graph/data/batch_12600000/6138726</td>\n",
       "      <td>CN(O)C(CCC(C)(C)O)C1=CCCCC1</td>\n",
       "      <td>No</td>\n",
       "    </tr>\n",
       "    <tr>\n",
       "      <th>22727365</th>\n",
       "      <td>/home/projects/graph/data/batch_12600000/22727365</td>\n",
       "      <td>CC(C)(C)c1ccc2c(c1)c1cc(C(C)(C)C)ccc1n2C(=O)[O...</td>\n",
       "      <td>No</td>\n",
       "    </tr>\n",
       "    <tr>\n",
       "      <th>11404182</th>\n",
       "      <td>/home/projects/graph/data/batch_12600000/11404182</td>\n",
       "      <td>COc1ccc(CCl)cc1OCc1ccc(C(F)(F)F)cc1</td>\n",
       "      <td>No</td>\n",
       "    </tr>\n",
       "  </tbody>\n",
       "</table>\n",
       "<p>16129451 rows × 3 columns</p>\n",
       "</div>"
      ],
      "text/plain": [
       "                                                MolFileAddress  \\\n",
       "SubstanceID                                                      \n",
       "6890270        /home/projects/graph/data/batch_6500000/6890270   \n",
       "27615522      /home/projects/graph/data/batch_6500000/27615522   \n",
       "29164535      /home/projects/graph/data/batch_6500000/29164535   \n",
       "11230426      /home/projects/graph/data/batch_6500000/11230426   \n",
       "9019791        /home/projects/graph/data/batch_6500000/9019791   \n",
       "...                                                        ...   \n",
       "26761831     /home/projects/graph/data/batch_12600000/26761831   \n",
       "3409746       /home/projects/graph/data/batch_12600000/3409746   \n",
       "6138726       /home/projects/graph/data/batch_12600000/6138726   \n",
       "22727365     /home/projects/graph/data/batch_12600000/22727365   \n",
       "11404182     /home/projects/graph/data/batch_12600000/11404182   \n",
       "\n",
       "                                                        Smiles Error  \n",
       "SubstanceID                                                           \n",
       "6890270                CC(C)(C)[C@@H]1CC[C@@](C)(F)[C@H](Br)C1    No  \n",
       "27615522           Cc1cc(-c2nc3cc(F)ccc3c3cc4c(cc23)OCO4)ccc1F    No  \n",
       "29164535                   [Gd+3].[Na+].[O-]B([O-])[O-].[Tb+3]    No  \n",
       "11230426                            Nc1cc(F)c(N2CC(F)C2)c(F)c1    No  \n",
       "9019791      CCCCOc1ccc(-c2nc(-c3ccc(Cl)cc3)[nH]c2-c2ccncc2...    No  \n",
       "...                                                        ...   ...  \n",
       "26761831                        CCOC(=O)C(CC)(CC)P(=O)(OCC)OCC    No  \n",
       "3409746                    N#CC(COC(=O)c1ccccc1)OC(=O)c1ccccc1    No  \n",
       "6138726                            CN(O)C(CCC(C)(C)O)C1=CCCCC1    No  \n",
       "22727365     CC(C)(C)c1ccc2c(c1)c1cc(C(C)(C)C)ccc1n2C(=O)[O...    No  \n",
       "11404182                   COc1ccc(CCl)cc1OCc1ccc(C(F)(F)F)cc1    No  \n",
       "\n",
       "[16129451 rows x 3 columns]"
      ]
     },
     "execution_count": 9,
     "metadata": {},
     "output_type": "execute_result"
    }
   ],
   "source": [
    "substancedb"
   ]
  },
  {
   "cell_type": "markdown",
   "metadata": {},
   "source": [
    "The error column has NaN values as there is no error in processing the molfile. Therefore, imputation is needed (filling in missing values) "
   ]
  },
  {
   "cell_type": "code",
   "execution_count": 138,
   "metadata": {
    "ExecuteTime": {
     "end_time": "2021-01-26T11:26:30.518072Z",
     "start_time": "2021-01-26T11:26:27.121702Z"
    }
   },
   "outputs": [
    {
     "data": {
      "text/plain": [
       "array(['No', 'Valence error',\n",
       "       KekulizeException(\"Can't kekulize mol.  Unkekulized atoms: 2 3 5 6 8 9 10 11 14 15 16 17 19 20 21 22 25 26 27 28 31 32 33 34 35 36 39 40 41 42 45 46 47 48 49 50 52 53 54 55 57 58 59 60 61 62 63 64 65 66 67 68 69 70 71 72 73 74 75 76 77 78 79 80 81 82 83 84\\n\"),\n",
       "       KekulizeException(\"Can't kekulize mol.  Unkekulized atoms: 0 1 2 3 4 5 6 7 8 9 10 11 12 13 14 15 16 17 18 19 20 22 23 24 25 26 27 28 29 30 31 34 36 37 38 39 40 41 42 43 44 45 49 50 53 54 55 56 57 58 59 63 64 68 69 72\\n\"),\n",
       "       KekulizeException(\"Can't kekulize mol.  Unkekulized atoms: 0 1 2 3 4 5 6 7 8 9 10 11 12 13 14 15 16 17 18 19 20 21 22 23 24 25 26 27 28 29 30 31 32 33 34 35 36 37 38 39 40 41 43 44 46 47 48 49 50 51 52 53 54 55 59 60 65 66 67 68 69 70 71 72 73 77 80 81 82 83 84 92 93 94 96 101 102 107\\n\"),\n",
       "       KekulizeException(\"Can't kekulize mol.  Unkekulized atoms: 0 1 2 3 4 5 6 7 8 9 10 11 12 13 14 15 16 17 18 19 20 21 22 23 24 25 26 27 28 29 30 31 32 33 34 35 36 37 38 39 40 41 42 43 44 45 46 47 48 49 50 51 52 53 54 55 56 57 58 59 60 61 62 63 64 65 66 67 68 69 70 71 72 73 74 75 76 77 78 79 80 81 82 83 84 85 86 87 88 89 90 91 92 93 94 95 96 97 98 99 100 101 102 103 104 105 106 107 108 109 110 111 112 113 114 115 116 117 118 119 120 121 122 123 124 125 126 127 128 129 130 131 132 133 134 135 136 137 138 139 140 141 142 143 144 145 146 147 148 149\\n\"),\n",
       "       KekulizeException(\"Can't kekulize mol.  Unkekulized atoms: 0 1 2 3 4 5 6 7 8 9 10 11 12 13 14 15 16 17 18 19 20 21 22 23 24 25 26 27 28 29 30 31 32 33 34 35 36 37 38 39 40 41 42 43 44 45 46 47 48 50 51 52 53 55 60 61 62 63 71 72 73 74 78 79 80 81 82 83 84 85 86 87 88 89 90 91 92 94 95 96 98 99 103 104 108 109\\n\"),\n",
       "       KekulizeException(\"Can't kekulize mol.  Unkekulized atoms: 0 1 2 3 4 5 6 7 8 9 10 11 12 13 14 15 16 17 18 19 20 21 22 23 24 25 26 27 28 29 30 31 32 33 34 35 36 37 38 39 40 41 42 43 44 45 46 47 48 49 50 51 52 53 54 55 56 57 58 59 60 61 62 63 64 65 66 67 68 69 70 71 72 73 74 75 76 77 78 79 80 81 82 83 84 85 86 87 88 89 90 91 92 93 94 95 96 97 98 99 100 101 102 103 104 105 106 107 108 109 110 111 112 113 114 115 116 117 118 119 120 121 122 123 124 125 126 127 128 129 130 131 132 133 134 135 136 137 138 139 140 141 142 143 144 145 146 147 148 149 150 151 152 153 154 155 156 157 158 159 160 161 162 163 164 165 166 167 168 169 170 171 172 173 174 175 176 177 178 179 180 181 182 183 184 185 186 187 188 189 190 191\\n\"),\n",
       "       KekulizeException(\"Can't kekulize mol.  Unkekulized atoms: 0 1 2 3 4 5 6 7 8 9 10 11 12 13 14 15 16 17 18 19 20 21 22 23 24 25 26 27 28 29 30 31 32 33 34 35 36 37 38 39 40 41 42 43 44 45 46 47 48 49 50 51 52 53 54 55 56 57 58 59 60 61 62 63 64 65 66 67 68 69 70 71 72 73 74 75 76 77 78 79 80 81 82 83 84 85 86 87 88 89 90 91 92 93 94 95 96 97 98 99 100 101 102 103 104 105 106 107 108 109 110 111 112 113 114 115 116 117 118 119 120 121 122 123 124 125 126 127 128 129 130 131\\n\"),\n",
       "       KekulizeException(\"Can't kekulize mol.  Unkekulized atoms: 0 1 2 3 4 5 6 7 8 9 10 11 12 13 14 15 16 17 18 19 20 21 22 23 24 25 26 27 28 29 30 31 32 33 34 35 36 37 38 39 40 41 42 43 44 45 46 47 48 50 51 52 53 54 56 57 58 59 64 65 66 67 72 73 74 75 79 80 81 86 87 88 90 91 92 95 96 97 100 101 102 104 105 106 108 109 110 112 113 114 116 117 121 122 126 127\\n\"),\n",
       "       KekulizeException(\"Can't kekulize mol.  Unkekulized atoms: 0 1 2 3 4 5 6 7 8 9 10 11 12 13 14 15 16 17 18 19 20 21 22 23 24 25 26 27 28 29 30 31 32 33 34 35 36 37 38 39 40 41 42 44 45 46 48 49 54 55 56 61 62 63 67 68 69 74 75 76 78 79 82 83 86 87 89 90 92 93 94 95 96 97 98 99 100 101 102 103 104 105 106 108 109 110 112 113 117 118 122 123 124 125 126 128\\n\"),\n",
       "       KekulizeException(\"Can't kekulize mol.  Unkekulized atoms: 2 3 5 6 8 9 10 11 14 15 16 17 19 20 21 22 25 26 27 28 31 32 33 34 35 36 39 40 41 42 45 46 47 48 49 50 52 53 54 55 57 58 59 60 61 62 63 64 65 66 67 68 69 70 71 72 73 74 75 76 77 78 79 80 81 82 83 84\\n\"),\n",
       "       KekulizeException(\"Can't kekulize mol.  Unkekulized atoms: 0 1 2 3 4 5 6 7 8 9 10 11 12 13 14 15 16 17 18 19 20 21 22 23 24 25 26 27 28 29 30 31 32 33 34 35 36 37 38 39 40 41 42 43 44 45 46 47 48 49 50 51 52 53\\n\"),\n",
       "       KekulizeException(\"Can't kekulize mol.  Unkekulized atoms: 0 1 2 3 4 5 6 7 8 9 10 11 12 13 14 15 16 17 18 19 20 21 22 23 24 25 26 27 29 30 31 32 33 38 39 40 41 52 53 54 55 59\\n\"),\n",
       "       KekulizeException(\"Can't kekulize mol.  Unkekulized atoms: 0 1 2 3 4 5 6 7 8 9 10 11 12 13 14 15 16 17 18 19 20 21 22 23 24 25 26 27 28 29 30 31 32 33 34 35 36 37 38 39 40 41 42 43 44 45 46 47 48 49 50 51 52 53 54 55 56 57 58 59 60 61 62 63 64 65 66 67 68 69 70 71 72 73 74 75 76 77 78 79 80 81 82 83\\n\"),\n",
       "       KekulizeException(\"Can't kekulize mol.  Unkekulized atoms: 0 1 2 3 4 5 6 7 8 9 10 11 12 13 14 15 16 17 18 19 20 21 22 23 24 25 26 27 28 29 30 31 32 33 34 35 36 37 38 39 40 41 42 43 44 45 46 47 48 49 50 51 52 53 54 55 56 57 58 59 60 61 62 63 64 65 66 67 68 69 70 71 72 73 74 75 76 77 78 79 80 81 82 83\\n\"),\n",
       "       KekulizeException(\"Can't kekulize mol.  Unkekulized atoms: 0 1 2 3 4 5 6 7 8 9 10 11 12 13 14 15 16 17 18 19 20 21 22 23 24 25 26 27 28 29 30 31 32 33 34 35 36 37 38 39 40 41 42 43 44 45 46 47 48 49 50 51 52 53 54 55 56 57 58 59 60 61 62 63 64 65 66 67\\n\"),\n",
       "       KekulizeException(\"Can't kekulize mol.  Unkekulized atoms: 2 3 5 6 8 9 10 11 13 14 15 16 17 18 19 20 22 23 24 25 26 27 28 29 30 31 34 35 36 37 38 39 40 41 42 43 46 47 48 49 50 51 52 53 54 55 58 59 60 61 62 63 64 65 66 68 69 70 71 72 73 74 76 77 78 79 82 83\\n\"),\n",
       "       KekulizeException(\"Can't kekulize mol.  Unkekulized atoms: 0 1 2 3 4 5 6 7 8 9 10 11 12 13 14 15 16 17 18 19 20 21 22 23 24 25 26 27 28 29 30 31 32 33 34 35 36 37 38 39 40 41 42 43 44 45 46 47 48 49 50 51 52 53 54 55 56 57 58 59 60 61 62 63 64 65 66 67 68 69 70 71\\n\"),\n",
       "       KekulizeException(\"Can't kekulize mol.  Unkekulized atoms: 0 1 2 3 4 5 6 7 8 9 10 11 12 13 14 15 16 17 18 19 20 21 22 23 24 25 26 27 28 29 30 31 32 33 34 35 36 37 38 39 40 41 42 43 44 45 46 47 48 49 50 51 52 53 54 55 56 57 58 59 60 61 62 63 64 65 66 67 68 69 70 71\\n\"),\n",
       "       KekulizeException(\"Can't kekulize mol.  Unkekulized atoms: 0 1 2 3 4 5 6 8 9 10 12 13 16 17 18 21 22 25 26 27 30 32 35 37 39 43 47 48 49 50 51 52 53 54 55 56 57 58 59 60 61 62 63 64 65 66 67 68 69 70 72 74 75 77 78 80 83 84 86 89 90 93 94 97 98 101 102 105 106 109 110 112 113 116 117 119 120 122 123 125 127 129 130 132 138 145 151 152 158 161 162 164 166 167\\n\"),\n",
       "       KekulizeException(\"Can't kekulize mol.  Unkekulized atoms: 0 1 2 3 4 5 6 7 8 9 10 11 12 13 14 15 16 17 18 19 20 21 22 23 24 25 26 27 28 29 30 31 32 33 34 35 36 37 38 39 40 41 42 43 44 45 46 47 48 49 50 51 52 53 54 55 56 57 58 59 60 61 62 63 64 65 66 67 68 69 70 71 72 73 74 75 76 77 78 79 80 81 82 83\\n\"),\n",
       "       KekulizeException(\"Can't kekulize mol.  Unkekulized atoms: 3 4 5 6 9 10 11 12 13 14 15 16 21 22 23 24 25 26 27 28 32 33 35 36 38 39 40 41 45 46 47 50 51 52 53 54 55 56 59 60 61 62 63 66 67 68 69 70 75 76 77 78 79 84 85 86 87 88 92 95 96 97\\n\"),\n",
       "       KekulizeException(\"Can't kekulize mol.  Unkekulized atoms: 0 1 2 3 4 5 6 7 8 9 10 11 12 13 14 15 16 17 18 19 20 21 22 23 24 25 26 27 28 29 30 31 32 33 34 35 36 37 38 39 40 41 42 43 44 45 46 47 48 49 50 51 54 55 56 60 61 62 64 65\\n\"),\n",
       "       KekulizeException(\"Can't kekulize mol.  Unkekulized atoms: 3 4 5 6 9 10 11 12 13 14 15 16 21 22 23 24 25 26 27 28 32 33 35 36 37 38 39 40 46 47 48 49 50 51 52 53 54 55 64 65 66 67 68 69 70 71 72 83 84 86 87 88 89 90 96 99 100 101 106 109 110 111\\n\"),\n",
       "       KekulizeException(\"Can't kekulize mol.  Unkekulized atoms: 0 1 2 4 5 6 7 8 11 13 14 16 17 20 23 24 25 28 29 30 33 36 37 38 39 42 43 44 45 48 51 52 53 54 55 56 57 60 61 62 63 64 65 68 71 72 73 74 75 76 77 78 79 82 83 84 85 86 87 90 91 94 95 96 97 98 99 100 101 102 103 106 107 108 109 110 111 112 113 116 117 118 119 120 121 122 123 124 127 128 129 130 131 132 133 134 135 136 137 138 139 140 141 142 143 144 145 146 147 148 149 150 151 152 153 154 155 156 157 158 159 160 161 162 163 164 165 166 167 168 169 170\\n\"),\n",
       "       KekulizeException(\"Can't kekulize mol.  Unkekulized atoms: 3 4 5 6 9 10 11 12 13 14 15 16 21 22 23 24 25 26 27 28 32 33 35 36 37 38 39 40 46 47 48 49 50 51 52 53 54 55 64 65 66 67 68 69 70 71 72 83 84 86 87 88 89 90 96 99 100 101 106 109 110 111\\n\"),\n",
       "       KekulizeException(\"Can't kekulize mol.  Unkekulized atoms: 0 1 2 3 4 5 6 7 8 9 10 11 12 13 14 15 16 17 18 19 20 21 22 23 24 25 26 27 29 30 31 32 33 34 35 36 37 38 41 42 43 44 45 46 49 50 51 52 55 56 57 58 61 62 63 64 65 68 69 70 71 72 73 76 77 78 79 80 81 82 83 84 85 86 87 88 89 90 91 92 93 94 95 96\\n\"),\n",
       "       KekulizeException(\"Can't kekulize mol.  Unkekulized atoms: 0 1 2 4 5 6 7 9 10 11 12 13 14 15 16\\n\"),\n",
       "       KekulizeException(\"Can't kekulize mol.  Unkekulized atoms: 0 1 2 3 4 5 6 7 8 9 10 11 12 13 14 15 16 17 18 19 20 21 22 23 24 25 26 27 28 30 31 32 33 34 35 36 37 38 39 40 41 42 44 46 47 48 53 54 55 61 62 63 64 72 73 74 75 76 77 85 86 87 88 89 90 98 99 101 102 103 104 111 113 114 115 116 125 127 128 129 130 142 143 150\\n\"),\n",
       "       KekulizeException(\"Can't kekulize mol.  Unkekulized atoms: 0 1 2 3 4 5 6 7 8 9 10 11 12 13 14 15 16 17 18 19 20 21 22 23 24 25 26 27 28 29 30 31 32 33 34 35 36 37 38 39 40 41 42 43 44 45 46 47 48 49 50 51 52 53 54 55 56 57 58 59 60 61 62 63 64 65 66 67 68 69 70 71 72 73 74 75 76 77 78 79 80 81 82 83 84 85 86 87 88 89 90 91 92 93 94 95 96 97 98 99 100 101 102 103 104 105 106 107 108 109 110 111 112 113 114 115 116 117 118 119 120 121 122 123 124 125 126 131 132 133 134 135 136 137 138 139 140 141 146 147 148 149 150 163 164 165 166 167 180 193\\n\"),\n",
       "       KekulizeException(\"Can't kekulize mol.  Unkekulized atoms: 32 33 34 35 36\\n\"),\n",
       "       KekulizeException(\"Can't kekulize mol.  Unkekulized atoms: 0 1 2 3 4 5 6 7 8 9 10 11 12 13 14 15 16 17 18 19 20 21 22 23 24 25 26 27 28 29 30 31 32 33 34 35 36 37 38 39 40 41 43 44 46 47 48 49 50 51 52 53 54 55 59 60 65 66 67 68 69 70 71 72 73 77 80 81 82 83 84 92 93 94 96 101 102 107\\n\"),\n",
       "       KekulizeException(\"Can't kekulize mol.  Unkekulized atoms: 0 1 2 3 4 5 6 7 8 9 10 11 12 13 14 15 16 17 18 19 20 21 22 23 24 25 26 27 28 29 30 31 32 33 34 35 36 37 38 39 40 41 43 44 46 47 48 49 50 51 52 53 54 55 59 60 65 66 67 68 69 70 71 72 73 77 80 81 82 83 84 92 93 94 96 101 102 107\\n\"),\n",
       "       KekulizeException(\"Can't kekulize mol.  Unkekulized atoms: 0 1 2 4 6 8 9 10 12 13 15 16 17 18 20 21 22 23 24 25 26 27 28 29 30 31 32 33 34 35 36 37 38 39 40 41 42 43 44 45 46 47 48 49 50 51 52 53 54 55 56 57 58 59 60 61 62 63 64 65 66 67 68 69 70 71 72 73 74 75 76 77 78 79 80 81 82 83 84 85 86 89 90 91 92 93 96 97 103 104\\n\"),\n",
       "       KekulizeException(\"Can't kekulize mol.  Unkekulized atoms: 0 1 2 3 4 5 6 7 8 9 10 11 12 13 14 15 16 17 18 19 20 21 22 23 24 25 26 27 28 29 30 31 32 33 34 35 36 37 38 39 40 41 42 43 44 45 46 47 48 49 50 51 52 53 54 55 56 57 58 59\\n\"),\n",
       "       KekulizeException(\"Can't kekulize mol.  Unkekulized atoms: 32 33 34 36 38\\n\"),\n",
       "       KekulizeException(\"Can't kekulize mol.  Unkekulized atoms: 0 1 2 3 4 5 6 7 8 9 10 11 12 13 14 15 16 17 18 19 20 21 22 23 24 25 26 27 28 30 31 32 33 34 36 37 39 43 44 46 50 54 55 56 60 61 62 63 64 65 66 67 68 69 70 71 72 73 74 75 76 77 78 79 80 81 82 83 84 85 86 87 88 89 91 92 93 95 96 98 102 107 111 112 116 117 118 119 120 121 122 123 124 125 126 127 128 129 130 132\\n\"),\n",
       "       KekulizeException(\"Can't kekulize mol.  Unkekulized atoms: 1 2 5 6 7 8 13 14 15 16 21 22 23 24 25 26 29 30 31 32 33 34 35 36 39 40 41 42 43 44 45 46 51 52 53 55 56 57 63 64 65 66 69 70 71 72 79 80 81 86 87 88 97 98 99 104 105 106 115 119\\n\"),\n",
       "       KekulizeException(\"Can't kekulize mol.  Unkekulized atoms: 0 1 2 3 4 5 6 7 8 9 10 11 12 13 14 15 16 17 18 19 20 21 22 23 24 25 26 27 28 29 30 31 32 33 34 35 36 37 38 39 40 41 42 43\\n\"),\n",
       "       KekulizeException(\"Can't kekulize mol.  Unkekulized atoms: 0 3 6 8 11\\n\"),\n",
       "       KekulizeException(\"Can't kekulize mol.  Unkekulized atoms: 0 1 2 3 4 5 6 7 8 9 10 11 12 13 14 15 16 17 18 19 20 21 22 23 24 25 26 27 28 29 30 31 32 33 34 35 36 37 38 39 40 41 42 43 44 45 46 47 48 49 50 51 52 53 54 55 56 57 58 59 60 61 62 63 64 65 66 67 68 69 70 71 72 73 74 75 76 77 78 79 80 81 82 83 84 85 86 87 88 89 90 91 92 93 94 95 96 97 98 99 100 101 102 103 104 105 106 107 108 109 110 111 112 113 114 115 116 117 118 119 120 121 122 123 124 125 126 127 128 129 130 131\\n\"),\n",
       "       KekulizeException(\"Can't kekulize mol.  Unkekulized atoms: 3 5 6 8 9 10 11 12 13 14 16 17 18 19 20 21 22 23 24 27 28 29 30 31 32 33 34 35 36 37 38 39 40 41 42 43 45 46 47 48 50 51 52 53 54 57 59 60 64 65 66 68 69 71 72 73 75 76 77 80 81 82 83 84 85 89 90 91 93 94 95 96 97 98 99 102 103 104 106 107 108 110 111 114\\n\"),\n",
       "       KekulizeException(\"Can't kekulize mol.  Unkekulized atoms: 0 1 2 3 4 5 6 7 8 9 10 11 12 13 14 15 16 17 18 19 20 21 22 23 24 25 26 27 28 29 30 31 32 33 34 35 36 37 38 39 40 41 42 43 44 45 46 47 48 49 50 51 52 53 54 55 56 57 58 59 60 61 62 63 64 65 66 67 68 69 70 71 72 73 74 75 76 77 78 79 80 81 82 83 84 85 86 87 88 89 90 91 92 93 94 95 96 97 98 99 100 101 102 103 104 105 106 107 108 109 110 111 112 113\\n\"),\n",
       "       KekulizeException(\"Can't kekulize mol.  Unkekulized atoms: 0 1 2 3 4 5 6 7 8 9 10 11 12 13 14 15 16 17 18 19 20 21 22 23 24 25 26 27 28 29 30 31 32 33 34 35 36 37 38 39 40 41 42 43 44 45 46 47 48 49 50 51 54 55 56 60 61 62 64 65\\n\"),\n",
       "       KekulizeException(\"Can't kekulize mol.  Unkekulized atoms: 2 3 5 6 8 9 10 11 14 15 16 17 19 20 21 22 25 26 27 28 31 32 33 34 35 36 39 40 41 42 45 46 47 48 49 50 52 53 54 55 57 58 59 60 61 62 63 64 65 66 67 68 69 70 71 72 73 74 75 76 77 78 79 80 81 82 83 84\\n\"),\n",
       "       KekulizeException(\"Can't kekulize mol.  Unkekulized atoms: 32 33 34 35 36\\n\"),\n",
       "       KekulizeException(\"Can't kekulize mol.  Unkekulized atoms: 0 1 2 3 4 5 6 7 8 10 11 12 14 15 16 17 18 19 20 21 22 23 25 26 27 28 29 31 32 33 34 35 36 37 38 39 40 41 42 43 44 45 46 47 48 49 50 51 52 53 54 55 56 57 58 59 60 61 62 64 65 66 67 68 69 71 72 73 74 76 80 81 82 83 85 89 90 92 95 98 100 103 107 111 118 122 130 144\\n\"),\n",
       "       KekulizeException(\"Can't kekulize mol.  Unkekulized atoms: 0 1 2 3 4 5 6 7 8 9 10 11 12 13 14 15 16 17 18 19 20 21 22 23 24 25 26 27 28 29 30 31 32 33 34 35 36 37 38 39 40 41 42 43 44 45 46 47 48 49 50 51 52 53 54 55 56 57 58 59 60 61 62 63 64 65 66 67 68 69 70 71 72 73 74 75 76 77 78 79 80 81 82 83 84 85 86 88\\n\"),\n",
       "       KekulizeException(\"Can't kekulize mol.  Unkekulized atoms: 0 1 2 3 4 5 6 7 8 9 10 11 12 13 14 15 16 17 18 19 20 21 22 23 24 25 26 27 28 30 31 32 33 34 36 37 39 43 44 46 50 54 55 56 60 61 62 63 64 65 66 67 68 69 70 71 72 73 74 75 76 77 78 79 80 81 82 83 84 85 86 87 88 90 91 92 94 99\\n\"),\n",
       "       KekulizeException(\"Can't kekulize mol.  Unkekulized atoms: 2 3 5 6 8 9 10 11 14 15 16 17 19 20 21 22 25 26 27 28 31 32 33 34 35 36 39 40 41 42 45 46 47 48 49 50 52 53 54 55 57 58 59 60 61 62 63 64 65 66 67 68 69 70 71 72 73 74 75 76 77 78 79 80 81 82 83 84\\n\"),\n",
       "       KekulizeException(\"Can't kekulize mol.  Unkekulized atoms: 0 1 2 3 4 5 6 7 9 10 11 12 13 14 15 17 18 19 20 21 22 25 26 27 28 29 30 35 36 37 38 39 40 44 45 46 47 48 53 54 56 57 58 62 63 64 66 67 68 73 74 75 78 79 80 87 88 89 94 101\\n\"),\n",
       "       KekulizeException(\"Can't kekulize mol.  Unkekulized atoms: 32 33 34 35 36\\n\"),\n",
       "       KekulizeException(\"Can't kekulize mol.  Unkekulized atoms: 0 1 2 3 4 5 6 8 9 10 12 13 16 17 18 21 22 25 26 27 30 32 35 36 37 38 39 40 41 42 43 44 45 46 47 48 49 50 51 52 53 54 55 56 57 58 59 60 61 62 64 66 67 69 70 72 75 76 78 81 82 85 86 89 90 93 94 97 98 101 102 104 105 108 109 111 112 114 115 116 118 120 121 122 124 127 130 131 134 137 138 140 142 143\\n\"),\n",
       "       KekulizeException(\"Can't kekulize mol.  Unkekulized atoms: 0 1 2 3 4 5 6 7 8 9 10 11 12 13 14 15 16 17 18 19 20 21 22 23 24 25 26 27 28 29 30 31 32 33 34 35 36 37 38 39 40 41 42 43 44 45 46 47 48 49 50 51 52 53 54 55 56 57 58 59 60 61 62 63 64 65 66 67 68 69 70 71 72 73 74 75 76 77 78 79 80 81 82 83 84 85 86 87 88 89 90 91 92 93 94 95 96 97 98 99 100 101 102 103 104 105 106 107 108 109 110 111 112 113 114 115 116 117 118 119 120 121 122 123 124 125 126 127 128 129 130 131 132 133 134 135 136 137 138 139 140 141 142 143 144 145 146 147 148 149 150 151 152 153 154 155 156 157 158 159 160 161 162 163 164 165 166 167 168 169 170 171 172 173 174 175 176 177 178 179 180 181 182 183 184 185 186 187 188 189 190 191 192 193 194 195 196 197 198 199 200 201 202 203 204 205 206 207 208 209 210 211 212 213 214 215\\n\"),\n",
       "       KekulizeException(\"Can't kekulize mol.  Unkekulized atoms: 32 33 34 35 36\\n\"),\n",
       "       KekulizeException(\"Can't kekulize mol.  Unkekulized atoms: 32 33 34 35 36\\n\"),\n",
       "       KekulizeException(\"Can't kekulize mol.  Unkekulized atoms: 0 1 2 3 4 5 6 7 9 10 11 12 13 14 15 17 18 19 20 21 22 25 26 27 28 29 30 35 36 37 38 39 40 44 45 46 47 48 53 54 56 57 58 62 63 64 66 67 68 73 74 75 78 79 80 87 88 89 94 101\\n\"),\n",
       "       KekulizeException(\"Can't kekulize mol.  Unkekulized atoms: 0 1 2 3 4 5 6 7 8 9 10 11 12 13 14 15 16 17 18 19 20 21 22 23 24 25 26 27 28 29 30 31 32 33 34 35 36 37 38 39 40 41 42 43 44 45 46 47 48 50 51 52 53 54 56 57 58 59 64 65 66 67 72 73 74 75 79 80 81 86 87 88 90 91 92 95 96 97 100 101 102 105 106 107 110 111 112 116 117 118 122 123 128 129 134 135\\n\"),\n",
       "       KekulizeException(\"Can't kekulize mol.  Unkekulized atoms: 2 3 5 6 8 9 10 11 14 15 16 17 19 20 21 22 25 26 27 28 31 32 33 34 35 36 39 40 41 42 45 46 47 48 49 50 52 53 54 55 57 58 59 60 61 62 63 64 65 66 67 68 69 70 71 72 73 74 75 76 77 78 79 80 81 82 83 84\\n\"),\n",
       "       KekulizeException(\"Can't kekulize mol.  Unkekulized atoms: 32 33 34 36 38\\n\"),\n",
       "       KekulizeException(\"Can't kekulize mol.  Unkekulized atoms: 0 1 2 3 4 5 6 7 8 9 10 11 12 13 14 15 16 17 19 20 21 22 23 24 26 27 28 29 30 33 34 35 36 37 38 41 42 43 44 45 47 48 49 50 53 54 57 58 59 60 61 68 69 70 71 72 77 78\\n\"),\n",
       "       KekulizeException(\"Can't kekulize mol.  Unkekulized atoms: 0 1 2 3 4 5 6 7 8 9 10 11 12 13 14 15 16 17 18 20 21 22 23 24 26 27 28 29 30 31 34 35 36 37 38 41 42 43 44 45 47 48 49 50 53 54 57 58 59 60 61 68 69 70 71 72 77 78\\n\"),\n",
       "       KekulizeException(\"Can't kekulize mol.  Unkekulized atoms: 0 1 2 3 4 5 6 7 8 9 10 11 12 13 14 15 17 19 20 21 22 23 25 27 28 29 30 31 36 37 40 41 50 51 54 55 56 67 68 69 74 75 77 79 80 81 90 91 94 95 112 113 125 126 127 139 140 142 146 147\\n\"),\n",
       "       KekulizeException(\"Can't kekulize mol.  Unkekulized atoms: 0 1 2 3 4 5 6 7 8 9 10 11 12 13 14 15 16 17 18 19 20 21 22 23 24 25 26 27 28 29 30 33 34 35 36 37 38 39 40 41 42 43 44 47 48 49 50 51 52 53 54 55 56 57 58 61 64 65 66 67 68 69 70 71 76 77 78 79 80 81\\n\"),\n",
       "       KekulizeException(\"Can't kekulize mol.  Unkekulized atoms: 0 1 2 3 4 5 6 7 8 9 10 11 12 13 14 15 16 17 18 19 20 21 22 23 24 25 26 27 28 29 30 31 32 33 34 35 36 37 38 39 40 41 44 45 46 47 48 49 52 53 54 55 58 59 60 61 62 65 66 67 68 71 72 73 76 77 78 81 84 85\\n\"),\n",
       "       KekulizeException(\"Can't kekulize mol.  Unkekulized atoms: 0 1 2 3 4 5 6 7 8 9 10 11 12 13 14 15 16 17 18 19 20 21 22 23 24 25 26 27 28 29 30 33 34 35 36 37 38 39 40 41 42 43 44 47 48 49 50 51 52 53 54 55 56 57 58 61 64 65 66 67 68 69 70 71 76 77 78 79 80 81\\n\"),\n",
       "       KekulizeException(\"Can't kekulize mol.  Unkekulized atoms: 0 1 2 3 4 5 6 7 8 9 10 11 12 13 14 15 16 17 18 19 20 21 22 23 24 25 26 27 28 29 30 33 34 35 36 37 38 39 40 41 42 43 44 47 48 49 50 51 52 53 54 55 56 57 58 61 64 65 66 67 68 69 70 71 76 77 78 79 80 81\\n\"),\n",
       "       KekulizeException(\"Can't kekulize mol.  Unkekulized atoms: 0 1 2 3 4 5 6 7 8 9 10 11 12 13 14 15 16 19 20 21 22 24 25 26 27 30 31 32 33 34 35 39 40 41 43 50 51 52 53 67\\n\"),\n",
       "       KekulizeException(\"Can't kekulize mol.  Unkekulized atoms: 0 1 2 3 4 5 6 7 8 9 10 11 12 13 14 15 16 17 18 19 20 21 22 23 24 25 26 27 28 29 30 31 32 33 34 35 36 37 38 39 40 41 42 43 44 45 46 47 48 49 50 51 52 53 54 55 56 57 58 59 60 61 62 63 64 65 66 67 68 69 70 71 72 73 74 75 76 77 78 79 80 81 82 83 84 85 86 87 88 89 90 91 92 93 94 95 96 97 98 99 100 101 102 103 104 105 106 107 108 109 110 111 112 113\\n\"),\n",
       "       KekulizeException(\"Can't kekulize mol.  Unkekulized atoms: 0 1 2 3 4 5 6 7 8 9 10 11 12 13 14 15 16 17 18 19 20 21 22 23 24 25 26 27 28 29 30 31 32 33 34 35 36 37 38 39 40 41 42 43 44 45 46 47 48 49 50 51 52 53 54 55 56 57 58 59 60 61 62 63 64 65 66 67 68 69 70 71\\n\"),\n",
       "       KekulizeException(\"Can't kekulize mol.  Unkekulized atoms: 0 1 2 3 4 5 6 7 8 9 10 11 12 13 14 15 16 17 18 19 20 21 22 23 24 25 26 27 28 29 30 31 32 33 34 35 36 37 38 39 40 41 42 43 44 45 46 47 48 49 50 51 52 53 54 55 56 57 58 59\\n\"),\n",
       "       KekulizeException(\"Can't kekulize mol.  Unkekulized atoms: 0 1 2 3 4 5 6 7 8 9 10 11 12 13 14 15 16 17 18 19 20 21 22 23 24 25 27 28 29 31 32 35 38 39 44 45 50 51 53 54 56 58\\n\"),\n",
       "       KekulizeException(\"Can't kekulize mol.  Unkekulized atoms: 0 1 2 3 4 5 6 7 8 9 10 11 12 13 14 15 16 17 18 19 20 21 22 23 24 25 26 27 29 30 31 32 33 34 35 37 38 39 40 41 43 44 45 46 47 48 49 50 52 53 54 55 56 57 58 59 60 61 62 63 64 65 66 67 68 69 70 71 72 73 74 75 76 77 78 79 80 81 82 83 84 85 86 87\\n\"),\n",
       "       KekulizeException(\"Can't kekulize mol.  Unkekulized atoms: 1 5 6 7 8 9 10 11 12 13 14 15 16 17 18 19 20 21 22 23 24 25 26 27 28 30 31 33 34 35 36 37 38 42 43 47 48 49 50 51 52 53 54 55 56 57 58 59 60 61 63 64 66 67 68 69 70 71 75 79 80 81 82 83 84 85 86 87 88 89 90 91 93 94 96 97 98 99 103 108\\n\"),\n",
       "       KekulizeException(\"Can't kekulize mol.  Unkekulized atoms: 0 1 2 3 4 5 6 7 8 9 10 11 12 13 14 15 16 17 18 19 20 21 22 23 24 25 26 27 28 29 30 31 32 33 34 35 36 37 38 39 40 41 42 43 44 45 46 47 48 49 50 51 52 53 54 55 56 57 58 59 60 61 62 63 64 65 66 67 68 69 70 71 72 73 74 75 76 77 78 79 80 81 82 83 84 85 86 87\\n\"),\n",
       "       KekulizeException(\"Can't kekulize mol.  Unkekulized atoms: 0 1 2 3 4 5 6 7 8 9 10 11 12 13 14 15 16 17 19 20 21 22 23 24 25 26 27 28 29 30 31 32 33 34 35 36 37 38 39 40 41 42 43 44 45 46 47 48 50 51 52 53 54 55 56 57 58 59 60 61 62 63 64 65 66 67 68 69 70 71 72 73 74 75 76 77 78 79\\n\"),\n",
       "       KekulizeException(\"Can't kekulize mol.  Unkekulized atoms: 0 1 2 3 4 5 6 7 8 9 10 11 12 13 14 15 16 17 18 19 20 21 22 23 24 25 26 27 28 29 30 31 32 33 34 35 36 37 38 39 40 41 42 43 44 45 46 47 48 49 50 51 52 53 54 55 56 57 58 59 60 61 62 63 64 65 66 67 68 69 70 71 72 73 74 75 76 77 78 79 80 81 82 83 84 85 86 87 88 89\\n\")],\n",
       "      dtype=object)"
      ]
     },
     "execution_count": 138,
     "metadata": {},
     "output_type": "execute_result"
    }
   ],
   "source": [
    "substancedb['Error'].fillna('No', inplace=True)\n",
    "substancedb['Smiles'].fillna('Error', inplace=True)\n",
    "substancedb.Error.unique()"
   ]
  },
  {
   "cell_type": "markdown",
   "metadata": {},
   "source": [
    "Some pandas functions are depicted below to test speed of retrieval"
   ]
  },
  {
   "cell_type": "code",
   "execution_count": 149,
   "metadata": {
    "ExecuteTime": {
     "end_time": "2021-01-26T11:43:13.528976Z",
     "start_time": "2021-01-26T11:43:12.220814Z"
    }
   },
   "outputs": [
    {
     "data": {
      "text/plain": [
       "MolFileAddress    /home/projects/graph/data/batch_12600000/6138726\n",
       "Smiles                                 CN(O)C(CCC(C)(C)O)C1=CCCCC1\n",
       "Error                                                           No\n",
       "Name: 6138726, dtype: object"
      ]
     },
     "execution_count": 149,
     "metadata": {},
     "output_type": "execute_result"
    },
    {
     "data": {
      "text/html": [
       "<div>\n",
       "<style scoped>\n",
       "    .dataframe tbody tr th:only-of-type {\n",
       "        vertical-align: middle;\n",
       "    }\n",
       "\n",
       "    .dataframe tbody tr th {\n",
       "        vertical-align: top;\n",
       "    }\n",
       "\n",
       "    .dataframe thead th {\n",
       "        text-align: right;\n",
       "    }\n",
       "</style>\n",
       "<table border=\"1\" class=\"dataframe\">\n",
       "  <thead>\n",
       "    <tr style=\"text-align: right;\">\n",
       "      <th></th>\n",
       "      <th>MolFileAddress</th>\n",
       "      <th>Smiles</th>\n",
       "      <th>Error</th>\n",
       "    </tr>\n",
       "    <tr>\n",
       "      <th>SubstanceID</th>\n",
       "      <th></th>\n",
       "      <th></th>\n",
       "      <th></th>\n",
       "    </tr>\n",
       "  </thead>\n",
       "  <tbody>\n",
       "    <tr>\n",
       "      <th>11404182</th>\n",
       "      <td>/home/projects/graph/data/batch_12600000/11404182</td>\n",
       "      <td>COc1ccc(CCl)cc1OCc1ccc(C(F)(F)F)cc1</td>\n",
       "      <td>No</td>\n",
       "    </tr>\n",
       "  </tbody>\n",
       "</table>\n",
       "</div>"
      ],
      "text/plain": [
       "                                                MolFileAddress  \\\n",
       "SubstanceID                                                      \n",
       "11404182     /home/projects/graph/data/batch_12600000/11404182   \n",
       "\n",
       "                                          Smiles Error  \n",
       "SubstanceID                                             \n",
       "11404182     COc1ccc(CCl)cc1OCc1ccc(C(F)(F)F)cc1    No  "
      ]
     },
     "execution_count": 149,
     "metadata": {},
     "output_type": "execute_result"
    }
   ],
   "source": [
    "substancedb.loc[6138726]\n",
    "\n",
    "substancedb.loc[substancedb['Smiles'] == 'COc1ccc(CCl)cc1OCc1ccc(C(F)(F)F)cc1']"
   ]
  },
  {
   "cell_type": "code",
   "execution_count": 159,
   "metadata": {
    "ExecuteTime": {
     "end_time": "2021-01-26T11:59:39.398502Z",
     "start_time": "2021-01-26T11:59:28.280164Z"
    }
   },
   "outputs": [],
   "source": [
    "substancedb = substancedb.astype(\n",
    "    {'MolFileAddress': 'str', 'Smiles': 'str', 'Error': 'str'})"
   ]
  },
  {
   "cell_type": "code",
   "execution_count": 161,
   "metadata": {
    "ExecuteTime": {
     "end_time": "2021-01-26T12:07:54.037294Z",
     "start_time": "2021-01-26T12:07:54.027301Z"
    }
   },
   "outputs": [
    {
     "data": {
      "text/plain": [
       "MolFileAddress    object\n",
       "Smiles            object\n",
       "Error             object\n",
       "dtype: object"
      ]
     },
     "execution_count": 161,
     "metadata": {},
     "output_type": "execute_result"
    }
   ],
   "source": [
    "substancedb.dtypes"
   ]
  },
  {
   "cell_type": "code",
   "execution_count": 162,
   "metadata": {
    "ExecuteTime": {
     "end_time": "2021-01-26T12:08:21.989746Z",
     "start_time": "2021-01-26T12:08:19.446702Z"
    }
   },
   "outputs": [
    {
     "data": {
      "text/plain": [
       "False"
      ]
     },
     "execution_count": 162,
     "metadata": {},
     "output_type": "execute_result"
    },
    {
     "data": {
      "text/plain": [
       "False"
      ]
     },
     "execution_count": 162,
     "metadata": {},
     "output_type": "execute_result"
    },
    {
     "data": {
      "text/plain": [
       "False"
      ]
     },
     "execution_count": 162,
     "metadata": {},
     "output_type": "execute_result"
    }
   ],
   "source": [
    "substancedb.MolFileAddress.isnull().values.any()\n",
    "substancedb.Smiles.isnull().values.any()\n",
    "substancedb.Error.isnull().values.any()"
   ]
  },
  {
   "cell_type": "markdown",
   "metadata": {},
   "source": [
    "The below indicates all entries where molfiles are unable to be processed. Around 1,281,117 compounds are not processable by RDKit, of which 1,281,041 is due to valence error and 76 are due to kekulization errors (related to lack of specification of hydrogens on rings). Most of these are massive compounds containing in excess of 40 carbons and 80 hydrogens."
   ]
  },
  {
   "cell_type": "code",
   "execution_count": 170,
   "metadata": {
    "ExecuteTime": {
     "end_time": "2021-01-26T12:42:06.512786Z",
     "start_time": "2021-01-26T12:42:03.596509Z"
    }
   },
   "outputs": [
    {
     "data": {
      "text/plain": [
       "MolFileAddress    1281117\n",
       "Smiles            1281117\n",
       "Error             1281117\n",
       "dtype: int64"
      ]
     },
     "execution_count": 170,
     "metadata": {},
     "output_type": "execute_result"
    },
    {
     "data": {
      "text/plain": [
       "MolFileAddress    1281041\n",
       "Smiles            1281041\n",
       "Error             1281041\n",
       "dtype: int64"
      ]
     },
     "execution_count": 170,
     "metadata": {},
     "output_type": "execute_result"
    }
   ],
   "source": [
    "substancedb[substancedb['Error'] != 'No'].count()\n",
    "substancedb[substancedb['Error'] == 'Valence error'].count()"
   ]
  },
  {
   "cell_type": "code",
   "execution_count": 24,
   "metadata": {
    "ExecuteTime": {
     "end_time": "2021-02-01T04:34:22.629435Z",
     "start_time": "2021-02-01T04:34:19.405627Z"
    }
   },
   "outputs": [
    {
     "data": {
      "text/html": [
       "<div>\n",
       "<style scoped>\n",
       "    .dataframe tbody tr th:only-of-type {\n",
       "        vertical-align: middle;\n",
       "    }\n",
       "\n",
       "    .dataframe tbody tr th {\n",
       "        vertical-align: top;\n",
       "    }\n",
       "\n",
       "    .dataframe thead th {\n",
       "        text-align: right;\n",
       "    }\n",
       "</style>\n",
       "<table border=\"1\" class=\"dataframe\">\n",
       "  <thead>\n",
       "    <tr style=\"text-align: right;\">\n",
       "      <th></th>\n",
       "      <th>MolFileAddress</th>\n",
       "      <th>Smiles</th>\n",
       "      <th>Error</th>\n",
       "    </tr>\n",
       "    <tr>\n",
       "      <th>SubstanceID</th>\n",
       "      <th></th>\n",
       "      <th></th>\n",
       "      <th></th>\n",
       "    </tr>\n",
       "  </thead>\n",
       "  <tbody>\n",
       "    <tr>\n",
       "      <th>19341494</th>\n",
       "      <td>/home/projects/graph/data/batch_13900000/19341494</td>\n",
       "      <td>Error</td>\n",
       "      <td>Can't kekulize mol.  Unkekulized atoms: 2 3 5 ...</td>\n",
       "    </tr>\n",
       "    <tr>\n",
       "      <th>28393675</th>\n",
       "      <td>/home/projects/graph/data/batch_12100000/28393675</td>\n",
       "      <td>Error</td>\n",
       "      <td>Can't kekulize mol.  Unkekulized atoms: 0 1 2 ...</td>\n",
       "    </tr>\n",
       "    <tr>\n",
       "      <th>32700079</th>\n",
       "      <td>/home/projects/graph/data/batch_12100000/32700079</td>\n",
       "      <td>Error</td>\n",
       "      <td>Can't kekulize mol.  Unkekulized atoms: 0 1 2 ...</td>\n",
       "    </tr>\n",
       "    <tr>\n",
       "      <th>9839520</th>\n",
       "      <td>/home/projects/graph/data/batch_8500000/9839520</td>\n",
       "      <td>Error</td>\n",
       "      <td>Can't kekulize mol.  Unkekulized atoms: 0 1 2 ...</td>\n",
       "    </tr>\n",
       "    <tr>\n",
       "      <th>32439857</th>\n",
       "      <td>/home/projects/graph/data/batch_8600000/32439857</td>\n",
       "      <td>Error</td>\n",
       "      <td>Can't kekulize mol.  Unkekulized atoms: 0 1 2 ...</td>\n",
       "    </tr>\n",
       "    <tr>\n",
       "      <th>...</th>\n",
       "      <td>...</td>\n",
       "      <td>...</td>\n",
       "      <td>...</td>\n",
       "    </tr>\n",
       "    <tr>\n",
       "      <th>23776736</th>\n",
       "      <td>/home/projects/graph/data/batch_8800000/23776736</td>\n",
       "      <td>Error</td>\n",
       "      <td>Can't kekulize mol.  Unkekulized atoms: 0 1 2 ...</td>\n",
       "    </tr>\n",
       "    <tr>\n",
       "      <th>24038178</th>\n",
       "      <td>/home/projects/graph/data/batch_8800000/24038178</td>\n",
       "      <td>Error</td>\n",
       "      <td>Can't kekulize mol.  Unkekulized atoms: 1 5 6 ...</td>\n",
       "    </tr>\n",
       "    <tr>\n",
       "      <th>31525914</th>\n",
       "      <td>/home/projects/graph/data/batch_8800000/31525914</td>\n",
       "      <td>Error</td>\n",
       "      <td>Can't kekulize mol.  Unkekulized atoms: 0 1 2 ...</td>\n",
       "    </tr>\n",
       "    <tr>\n",
       "      <th>8252515</th>\n",
       "      <td>/home/projects/graph/data/batch_300000/8252515</td>\n",
       "      <td>Error</td>\n",
       "      <td>Can't kekulize mol.  Unkekulized atoms: 0 1 2 ...</td>\n",
       "    </tr>\n",
       "    <tr>\n",
       "      <th>9838204</th>\n",
       "      <td>/home/projects/graph/data/batch_12600000/9838204</td>\n",
       "      <td>Error</td>\n",
       "      <td>Can't kekulize mol.  Unkekulized atoms: 0 1 2 ...</td>\n",
       "    </tr>\n",
       "  </tbody>\n",
       "</table>\n",
       "<p>76 rows × 3 columns</p>\n",
       "</div>"
      ],
      "text/plain": [
       "                                                MolFileAddress Smiles  \\\n",
       "SubstanceID                                                             \n",
       "19341494     /home/projects/graph/data/batch_13900000/19341494  Error   \n",
       "28393675     /home/projects/graph/data/batch_12100000/28393675  Error   \n",
       "32700079     /home/projects/graph/data/batch_12100000/32700079  Error   \n",
       "9839520        /home/projects/graph/data/batch_8500000/9839520  Error   \n",
       "32439857      /home/projects/graph/data/batch_8600000/32439857  Error   \n",
       "...                                                        ...    ...   \n",
       "23776736      /home/projects/graph/data/batch_8800000/23776736  Error   \n",
       "24038178      /home/projects/graph/data/batch_8800000/24038178  Error   \n",
       "31525914      /home/projects/graph/data/batch_8800000/31525914  Error   \n",
       "8252515         /home/projects/graph/data/batch_300000/8252515  Error   \n",
       "9838204       /home/projects/graph/data/batch_12600000/9838204  Error   \n",
       "\n",
       "                                                         Error  \n",
       "SubstanceID                                                     \n",
       "19341494     Can't kekulize mol.  Unkekulized atoms: 2 3 5 ...  \n",
       "28393675     Can't kekulize mol.  Unkekulized atoms: 0 1 2 ...  \n",
       "32700079     Can't kekulize mol.  Unkekulized atoms: 0 1 2 ...  \n",
       "9839520      Can't kekulize mol.  Unkekulized atoms: 0 1 2 ...  \n",
       "32439857     Can't kekulize mol.  Unkekulized atoms: 0 1 2 ...  \n",
       "...                                                        ...  \n",
       "23776736     Can't kekulize mol.  Unkekulized atoms: 0 1 2 ...  \n",
       "24038178     Can't kekulize mol.  Unkekulized atoms: 1 5 6 ...  \n",
       "31525914     Can't kekulize mol.  Unkekulized atoms: 0 1 2 ...  \n",
       "8252515      Can't kekulize mol.  Unkekulized atoms: 0 1 2 ...  \n",
       "9838204      Can't kekulize mol.  Unkekulized atoms: 0 1 2 ...  \n",
       "\n",
       "[76 rows x 3 columns]"
      ]
     },
     "execution_count": 24,
     "metadata": {},
     "output_type": "execute_result"
    }
   ],
   "source": [
    "substancedb[(substancedb['Error'] != 'Valence error')\n",
    "            & (substancedb['Error'] != 'No')]"
   ]
  },
  {
   "cell_type": "code",
   "execution_count": 8,
   "metadata": {
    "ExecuteTime": {
     "end_time": "2021-02-10T14:05:09.692916Z",
     "start_time": "2021-02-10T14:05:09.669727Z"
    }
   },
   "outputs": [
    {
     "data": {
      "text/html": [
       "<div>\n",
       "<style scoped>\n",
       "    .dataframe tbody tr th:only-of-type {\n",
       "        vertical-align: middle;\n",
       "    }\n",
       "\n",
       "    .dataframe tbody tr th {\n",
       "        vertical-align: top;\n",
       "    }\n",
       "\n",
       "    .dataframe thead th {\n",
       "        text-align: right;\n",
       "    }\n",
       "</style>\n",
       "<table border=\"1\" class=\"dataframe\">\n",
       "  <thead>\n",
       "    <tr style=\"text-align: right;\">\n",
       "      <th></th>\n",
       "      <th>MolFileAddress</th>\n",
       "      <th>Smiles</th>\n",
       "      <th>Error</th>\n",
       "    </tr>\n",
       "    <tr>\n",
       "      <th>SubstanceID</th>\n",
       "      <th></th>\n",
       "      <th></th>\n",
       "      <th></th>\n",
       "    </tr>\n",
       "  </thead>\n",
       "  <tbody>\n",
       "    <tr>\n",
       "      <th>6890270</th>\n",
       "      <td>/home/projects/graph/data/batch_6500000/6890270</td>\n",
       "      <td>CC(C)(C)[C@@H]1CC[C@@](C)(F)[C@H](Br)C1</td>\n",
       "      <td>No</td>\n",
       "    </tr>\n",
       "    <tr>\n",
       "      <th>27615522</th>\n",
       "      <td>/home/projects/graph/data/batch_6500000/27615522</td>\n",
       "      <td>Cc1cc(-c2nc3cc(F)ccc3c3cc4c(cc23)OCO4)ccc1F</td>\n",
       "      <td>No</td>\n",
       "    </tr>\n",
       "    <tr>\n",
       "      <th>29164535</th>\n",
       "      <td>/home/projects/graph/data/batch_6500000/29164535</td>\n",
       "      <td>[Gd+3].[Na+].[O-]B([O-])[O-].[Tb+3]</td>\n",
       "      <td>No</td>\n",
       "    </tr>\n",
       "    <tr>\n",
       "      <th>11230426</th>\n",
       "      <td>/home/projects/graph/data/batch_6500000/11230426</td>\n",
       "      <td>Nc1cc(F)c(N2CC(F)C2)c(F)c1</td>\n",
       "      <td>No</td>\n",
       "    </tr>\n",
       "    <tr>\n",
       "      <th>9019791</th>\n",
       "      <td>/home/projects/graph/data/batch_6500000/9019791</td>\n",
       "      <td>CCCCOc1ccc(-c2nc(-c3ccc(Cl)cc3)[nH]c2-c2ccncc2...</td>\n",
       "      <td>No</td>\n",
       "    </tr>\n",
       "    <tr>\n",
       "      <th>...</th>\n",
       "      <td>...</td>\n",
       "      <td>...</td>\n",
       "      <td>...</td>\n",
       "    </tr>\n",
       "    <tr>\n",
       "      <th>26761831</th>\n",
       "      <td>/home/projects/graph/data/batch_12600000/26761831</td>\n",
       "      <td>CCOC(=O)C(CC)(CC)P(=O)(OCC)OCC</td>\n",
       "      <td>No</td>\n",
       "    </tr>\n",
       "    <tr>\n",
       "      <th>3409746</th>\n",
       "      <td>/home/projects/graph/data/batch_12600000/3409746</td>\n",
       "      <td>N#CC(COC(=O)c1ccccc1)OC(=O)c1ccccc1</td>\n",
       "      <td>No</td>\n",
       "    </tr>\n",
       "    <tr>\n",
       "      <th>6138726</th>\n",
       "      <td>/home/projects/graph/data/batch_12600000/6138726</td>\n",
       "      <td>CN(O)C(CCC(C)(C)O)C1=CCCCC1</td>\n",
       "      <td>No</td>\n",
       "    </tr>\n",
       "    <tr>\n",
       "      <th>22727365</th>\n",
       "      <td>/home/projects/graph/data/batch_12600000/22727365</td>\n",
       "      <td>CC(C)(C)c1ccc2c(c1)c1cc(C(C)(C)C)ccc1n2C(=O)[O...</td>\n",
       "      <td>No</td>\n",
       "    </tr>\n",
       "    <tr>\n",
       "      <th>11404182</th>\n",
       "      <td>/home/projects/graph/data/batch_12600000/11404182</td>\n",
       "      <td>COc1ccc(CCl)cc1OCc1ccc(C(F)(F)F)cc1</td>\n",
       "      <td>No</td>\n",
       "    </tr>\n",
       "  </tbody>\n",
       "</table>\n",
       "<p>16129451 rows × 3 columns</p>\n",
       "</div>"
      ],
      "text/plain": [
       "                                                MolFileAddress  \\\n",
       "SubstanceID                                                      \n",
       "6890270        /home/projects/graph/data/batch_6500000/6890270   \n",
       "27615522      /home/projects/graph/data/batch_6500000/27615522   \n",
       "29164535      /home/projects/graph/data/batch_6500000/29164535   \n",
       "11230426      /home/projects/graph/data/batch_6500000/11230426   \n",
       "9019791        /home/projects/graph/data/batch_6500000/9019791   \n",
       "...                                                        ...   \n",
       "26761831     /home/projects/graph/data/batch_12600000/26761831   \n",
       "3409746       /home/projects/graph/data/batch_12600000/3409746   \n",
       "6138726       /home/projects/graph/data/batch_12600000/6138726   \n",
       "22727365     /home/projects/graph/data/batch_12600000/22727365   \n",
       "11404182     /home/projects/graph/data/batch_12600000/11404182   \n",
       "\n",
       "                                                        Smiles Error  \n",
       "SubstanceID                                                           \n",
       "6890270                CC(C)(C)[C@@H]1CC[C@@](C)(F)[C@H](Br)C1    No  \n",
       "27615522           Cc1cc(-c2nc3cc(F)ccc3c3cc4c(cc23)OCO4)ccc1F    No  \n",
       "29164535                   [Gd+3].[Na+].[O-]B([O-])[O-].[Tb+3]    No  \n",
       "11230426                            Nc1cc(F)c(N2CC(F)C2)c(F)c1    No  \n",
       "9019791      CCCCOc1ccc(-c2nc(-c3ccc(Cl)cc3)[nH]c2-c2ccncc2...    No  \n",
       "...                                                        ...   ...  \n",
       "26761831                        CCOC(=O)C(CC)(CC)P(=O)(OCC)OCC    No  \n",
       "3409746                    N#CC(COC(=O)c1ccccc1)OC(=O)c1ccccc1    No  \n",
       "6138726                            CN(O)C(CCC(C)(C)O)C1=CCCCC1    No  \n",
       "22727365     CC(C)(C)c1ccc2c(c1)c1cc(C(C)(C)C)ccc1n2C(=O)[O...    No  \n",
       "11404182                   COc1ccc(CCl)cc1OCc1ccc(C(F)(F)F)cc1    No  \n",
       "\n",
       "[16129451 rows x 3 columns]"
      ]
     },
     "execution_count": 8,
     "metadata": {},
     "output_type": "execute_result"
    }
   ],
   "source": [
    "substancedb"
   ]
  },
  {
   "cell_type": "markdown",
   "metadata": {},
   "source": [
    "Next, the goal is to identify mixtures or reaxys compounds that contain multiple substances (eg. salts). This is useful in the future as retrieving carrier fragments will entail splitting of the smiles string."
   ]
  },
  {
   "cell_type": "code",
   "execution_count": null,
   "metadata": {
    "ExecuteTime": {
     "end_time": "2021-02-10T14:12:59.594662Z",
     "start_time": "2021-02-10T14:12:44.430813Z"
    }
   },
   "outputs": [],
   "source": [
    "substancedbdask = dd.from_pandas(substancedb, npartitions=16)\n",
    "substancedbdask = client.persist(substancedbdask)"
   ]
  },
  {
   "cell_type": "code",
   "execution_count": 11,
   "metadata": {
    "ExecuteTime": {
     "end_time": "2021-02-10T14:25:13.926330Z",
     "start_time": "2021-02-10T14:24:44.964393Z"
    }
   },
   "outputs": [
    {
     "data": {
      "text/html": [
       "<div>\n",
       "<style scoped>\n",
       "    .dataframe tbody tr th:only-of-type {\n",
       "        vertical-align: middle;\n",
       "    }\n",
       "\n",
       "    .dataframe tbody tr th {\n",
       "        vertical-align: top;\n",
       "    }\n",
       "\n",
       "    .dataframe thead th {\n",
       "        text-align: right;\n",
       "    }\n",
       "</style>\n",
       "<table border=\"1\" class=\"dataframe\">\n",
       "  <thead>\n",
       "    <tr style=\"text-align: right;\">\n",
       "      <th></th>\n",
       "      <th>MolFileAddress</th>\n",
       "      <th>Smiles</th>\n",
       "      <th>Error</th>\n",
       "      <th>&gt;1 Compound</th>\n",
       "    </tr>\n",
       "    <tr>\n",
       "      <th>SubstanceID</th>\n",
       "      <th></th>\n",
       "      <th></th>\n",
       "      <th></th>\n",
       "      <th></th>\n",
       "    </tr>\n",
       "  </thead>\n",
       "  <tbody>\n",
       "    <tr>\n",
       "      <th>6890270</th>\n",
       "      <td>/home/projects/graph/data/batch_6500000/6890270</td>\n",
       "      <td>CC(C)(C)[C@@H]1CC[C@@](C)(F)[C@H](Br)C1</td>\n",
       "      <td>No</td>\n",
       "      <td>False</td>\n",
       "    </tr>\n",
       "    <tr>\n",
       "      <th>27615522</th>\n",
       "      <td>/home/projects/graph/data/batch_6500000/27615522</td>\n",
       "      <td>Cc1cc(-c2nc3cc(F)ccc3c3cc4c(cc23)OCO4)ccc1F</td>\n",
       "      <td>No</td>\n",
       "      <td>False</td>\n",
       "    </tr>\n",
       "    <tr>\n",
       "      <th>29164535</th>\n",
       "      <td>/home/projects/graph/data/batch_6500000/29164535</td>\n",
       "      <td>[Gd+3].[Na+].[O-]B([O-])[O-].[Tb+3]</td>\n",
       "      <td>No</td>\n",
       "      <td>True</td>\n",
       "    </tr>\n",
       "    <tr>\n",
       "      <th>11230426</th>\n",
       "      <td>/home/projects/graph/data/batch_6500000/11230426</td>\n",
       "      <td>Nc1cc(F)c(N2CC(F)C2)c(F)c1</td>\n",
       "      <td>No</td>\n",
       "      <td>False</td>\n",
       "    </tr>\n",
       "    <tr>\n",
       "      <th>9019791</th>\n",
       "      <td>/home/projects/graph/data/batch_6500000/9019791</td>\n",
       "      <td>CCCCOc1ccc(-c2nc(-c3ccc(Cl)cc3)[nH]c2-c2ccncc2...</td>\n",
       "      <td>No</td>\n",
       "      <td>False</td>\n",
       "    </tr>\n",
       "    <tr>\n",
       "      <th>...</th>\n",
       "      <td>...</td>\n",
       "      <td>...</td>\n",
       "      <td>...</td>\n",
       "      <td>...</td>\n",
       "    </tr>\n",
       "    <tr>\n",
       "      <th>26761831</th>\n",
       "      <td>/home/projects/graph/data/batch_12600000/26761831</td>\n",
       "      <td>CCOC(=O)C(CC)(CC)P(=O)(OCC)OCC</td>\n",
       "      <td>No</td>\n",
       "      <td>False</td>\n",
       "    </tr>\n",
       "    <tr>\n",
       "      <th>3409746</th>\n",
       "      <td>/home/projects/graph/data/batch_12600000/3409746</td>\n",
       "      <td>N#CC(COC(=O)c1ccccc1)OC(=O)c1ccccc1</td>\n",
       "      <td>No</td>\n",
       "      <td>False</td>\n",
       "    </tr>\n",
       "    <tr>\n",
       "      <th>6138726</th>\n",
       "      <td>/home/projects/graph/data/batch_12600000/6138726</td>\n",
       "      <td>CN(O)C(CCC(C)(C)O)C1=CCCCC1</td>\n",
       "      <td>No</td>\n",
       "      <td>False</td>\n",
       "    </tr>\n",
       "    <tr>\n",
       "      <th>22727365</th>\n",
       "      <td>/home/projects/graph/data/batch_12600000/22727365</td>\n",
       "      <td>CC(C)(C)c1ccc2c(c1)c1cc(C(C)(C)C)ccc1n2C(=O)[O...</td>\n",
       "      <td>No</td>\n",
       "      <td>True</td>\n",
       "    </tr>\n",
       "    <tr>\n",
       "      <th>11404182</th>\n",
       "      <td>/home/projects/graph/data/batch_12600000/11404182</td>\n",
       "      <td>COc1ccc(CCl)cc1OCc1ccc(C(F)(F)F)cc1</td>\n",
       "      <td>No</td>\n",
       "      <td>False</td>\n",
       "    </tr>\n",
       "  </tbody>\n",
       "</table>\n",
       "<p>16129451 rows × 4 columns</p>\n",
       "</div>"
      ],
      "text/plain": [
       "                                                MolFileAddress  \\\n",
       "SubstanceID                                                      \n",
       "6890270        /home/projects/graph/data/batch_6500000/6890270   \n",
       "27615522      /home/projects/graph/data/batch_6500000/27615522   \n",
       "29164535      /home/projects/graph/data/batch_6500000/29164535   \n",
       "11230426      /home/projects/graph/data/batch_6500000/11230426   \n",
       "9019791        /home/projects/graph/data/batch_6500000/9019791   \n",
       "...                                                        ...   \n",
       "26761831     /home/projects/graph/data/batch_12600000/26761831   \n",
       "3409746       /home/projects/graph/data/batch_12600000/3409746   \n",
       "6138726       /home/projects/graph/data/batch_12600000/6138726   \n",
       "22727365     /home/projects/graph/data/batch_12600000/22727365   \n",
       "11404182     /home/projects/graph/data/batch_12600000/11404182   \n",
       "\n",
       "                                                        Smiles Error  \\\n",
       "SubstanceID                                                            \n",
       "6890270                CC(C)(C)[C@@H]1CC[C@@](C)(F)[C@H](Br)C1    No   \n",
       "27615522           Cc1cc(-c2nc3cc(F)ccc3c3cc4c(cc23)OCO4)ccc1F    No   \n",
       "29164535                   [Gd+3].[Na+].[O-]B([O-])[O-].[Tb+3]    No   \n",
       "11230426                            Nc1cc(F)c(N2CC(F)C2)c(F)c1    No   \n",
       "9019791      CCCCOc1ccc(-c2nc(-c3ccc(Cl)cc3)[nH]c2-c2ccncc2...    No   \n",
       "...                                                        ...   ...   \n",
       "26761831                        CCOC(=O)C(CC)(CC)P(=O)(OCC)OCC    No   \n",
       "3409746                    N#CC(COC(=O)c1ccccc1)OC(=O)c1ccccc1    No   \n",
       "6138726                            CN(O)C(CCC(C)(C)O)C1=CCCCC1    No   \n",
       "22727365     CC(C)(C)c1ccc2c(c1)c1cc(C(C)(C)C)ccc1n2C(=O)[O...    No   \n",
       "11404182                   COc1ccc(CCl)cc1OCc1ccc(C(F)(F)F)cc1    No   \n",
       "\n",
       "            >1 Compound  \n",
       "SubstanceID              \n",
       "6890270           False  \n",
       "27615522          False  \n",
       "29164535           True  \n",
       "11230426          False  \n",
       "9019791           False  \n",
       "...                 ...  \n",
       "26761831          False  \n",
       "3409746           False  \n",
       "6138726           False  \n",
       "22727365           True  \n",
       "11404182          False  \n",
       "\n",
       "[16129451 rows x 4 columns]"
      ]
     },
     "execution_count": 11,
     "metadata": {},
     "output_type": "execute_result"
    }
   ],
   "source": [
    "mixturecol=substancedbdask.map_partitions(findMixturespartition,meta=('>1 Compound','boolean')).compute()\n",
    "substancedb=joindf(pd.DataFrame(mixturecol),substancedb)\n",
    "substancedb"
   ]
  },
  {
   "cell_type": "code",
   "execution_count": null,
   "metadata": {},
   "outputs": [],
   "source": [
    "substancedb.reset_index(inplace=True)\n",
    "substancedb.set_index(['Smiles','SubstanceID'],inplace=True)"
   ]
  },
  {
   "cell_type": "code",
   "execution_count": 13,
   "metadata": {
    "ExecuteTime": {
     "end_time": "2021-02-10T14:28:13.152905Z",
     "start_time": "2021-02-10T14:27:41.787612Z"
    }
   },
   "outputs": [],
   "source": [
    "writepickle(substancedb, '/home/aa2133/Impurity-Project/Reaxys_Data/SubstanceDB')"
   ]
  },
  {
   "cell_type": "markdown",
   "metadata": {},
   "source": [
    "# Running fragment detection"
   ]
  },
  {
   "cell_type": "markdown",
   "metadata": {},
   "source": [
    "## Building dask dataframe from cleaned substance database"
   ]
  },
  {
   "cell_type": "markdown",
   "metadata": {},
   "source": [
    "The cells below build a dask dataframe with 16 partitions for faster parallel computation. It does not take up much memory in the server as a result, but is slower at reading/fetching indexed data. The final file is written to parquet (This has been deprecated as it takes too much memory. It is more advisable to generate a dask dataframe from pandas)"
   ]
  },
  {
   "cell_type": "code",
   "execution_count": 14,
   "metadata": {
    "ExecuteTime": {
     "end_time": "2021-02-10T14:30:39.632811Z",
     "start_time": "2021-02-10T14:29:50.866250Z"
    }
   },
   "outputs": [],
   "source": [
    "substancedbdask = dd.from_pandas(substancedb, npartitions=16)"
   ]
  },
  {
   "cell_type": "code",
   "execution_count": 15,
   "metadata": {
    "ExecuteTime": {
     "end_time": "2021-02-10T14:30:58.718561Z",
     "start_time": "2021-02-10T14:30:53.896977Z"
    }
   },
   "outputs": [],
   "source": [
    "substancedbdask = client.persist(substancedbdask)"
   ]
  },
  {
   "cell_type": "code",
   "execution_count": 176,
   "metadata": {
    "ExecuteTime": {
     "end_time": "2021-01-26T12:55:46.070957Z",
     "start_time": "2021-01-26T12:55:30.955957Z"
    }
   },
   "outputs": [],
   "source": [
    "# substancedbdask.to_parquet(\n",
    "#     \"/home/aa2133/Impurity-Project/Reaxys_Data/SubstanceDBDask\")"
   ]
  },
  {
   "cell_type": "markdown",
   "metadata": {},
   "source": [
    "## Loading dataframe and testing"
   ]
  },
  {
   "cell_type": "code",
   "execution_count": 212,
   "metadata": {
    "ExecuteTime": {
     "end_time": "2021-01-28T07:24:49.851318Z",
     "start_time": "2021-01-28T07:24:49.790751Z"
    }
   },
   "outputs": [],
   "source": [
    "# substancedbdask = dd.read_parquet(\n",
    "#     \"/home/aa2133/Impurity-Project/Reaxys_Data/SubstanceDBDask\")"
   ]
  },
  {
   "cell_type": "code",
   "execution_count": 16,
   "metadata": {
    "ExecuteTime": {
     "end_time": "2021-02-10T14:51:52.148744Z",
     "start_time": "2021-02-10T14:51:52.136009Z"
    }
   },
   "outputs": [
    {
     "name": "stdout",
     "output_type": "stream",
     "text": [
      "<class 'dask.dataframe.core.DataFrame'>\n",
      "Columns: 4 entries, MolFileAddress to >1 Compound\n",
      "dtypes: object(4)"
     ]
    }
   ],
   "source": [
    "substancedbdask.info()"
   ]
  },
  {
   "cell_type": "code",
   "execution_count": 19,
   "metadata": {
    "ExecuteTime": {
     "end_time": "2021-02-10T14:52:29.404329Z",
     "start_time": "2021-02-10T14:52:29.328573Z"
    }
   },
   "outputs": [
    {
     "data": {
      "text/html": [
       "<div><strong>Dask DataFrame Structure:</strong></div>\n",
       "<div>\n",
       "<style scoped>\n",
       "    .dataframe tbody tr th:only-of-type {\n",
       "        vertical-align: middle;\n",
       "    }\n",
       "\n",
       "    .dataframe tbody tr th {\n",
       "        vertical-align: top;\n",
       "    }\n",
       "\n",
       "    .dataframe thead th {\n",
       "        text-align: right;\n",
       "    }\n",
       "</style>\n",
       "<table border=\"1\" class=\"dataframe\">\n",
       "  <thead>\n",
       "    <tr style=\"text-align: right;\">\n",
       "      <th></th>\n",
       "      <th>MolFileAddress</th>\n",
       "      <th>Smiles</th>\n",
       "      <th>Error</th>\n",
       "      <th>&gt;1 Compound</th>\n",
       "    </tr>\n",
       "    <tr>\n",
       "      <th>npartitions=1</th>\n",
       "      <th></th>\n",
       "      <th></th>\n",
       "      <th></th>\n",
       "      <th></th>\n",
       "    </tr>\n",
       "  </thead>\n",
       "  <tbody>\n",
       "    <tr>\n",
       "      <th>4594734</th>\n",
       "      <td>object</td>\n",
       "      <td>object</td>\n",
       "      <td>object</td>\n",
       "      <td>object</td>\n",
       "    </tr>\n",
       "    <tr>\n",
       "      <th>5872788</th>\n",
       "      <td>...</td>\n",
       "      <td>...</td>\n",
       "      <td>...</td>\n",
       "      <td>...</td>\n",
       "    </tr>\n",
       "  </tbody>\n",
       "</table>\n",
       "</div>\n",
       "<div>Dask Name: get-partition, 17 tasks</div>"
      ],
      "text/plain": [
       "Dask DataFrame Structure:\n",
       "              MolFileAddress  Smiles   Error >1 Compound\n",
       "npartitions=1                                           \n",
       "4594734               object  object  object      object\n",
       "5872788                  ...     ...     ...         ...\n",
       "Dask Name: get-partition, 17 tasks"
      ]
     },
     "execution_count": 19,
     "metadata": {},
     "output_type": "execute_result"
    },
    {
     "data": {
      "text/plain": [
       "0     40323640\n",
       "1     40323640\n",
       "2     40323640\n",
       "3     40323640\n",
       "4     40323640\n",
       "5     40323640\n",
       "6     40323640\n",
       "7     40323640\n",
       "8     40323640\n",
       "9     40323640\n",
       "10    40323640\n",
       "11    40323640\n",
       "12    40323640\n",
       "13    40323640\n",
       "14    40323640\n",
       "15    40323440\n",
       "dtype: int64"
      ]
     },
     "execution_count": 19,
     "metadata": {},
     "output_type": "execute_result"
    }
   ],
   "source": [
    "substancedbdask.get_partition(2)\n",
    "substancedbdask.memory_usage_per_partition().compute()"
   ]
  },
  {
   "cell_type": "code",
   "execution_count": 20,
   "metadata": {
    "ExecuteTime": {
     "end_time": "2021-02-10T14:52:44.699430Z",
     "start_time": "2021-02-10T14:52:44.405683Z"
    },
    "scrolled": false
   },
   "outputs": [
    {
     "data": {
      "text/html": [
       "<div>\n",
       "<style scoped>\n",
       "    .dataframe tbody tr th:only-of-type {\n",
       "        vertical-align: middle;\n",
       "    }\n",
       "\n",
       "    .dataframe tbody tr th {\n",
       "        vertical-align: top;\n",
       "    }\n",
       "\n",
       "    .dataframe thead th {\n",
       "        text-align: right;\n",
       "    }\n",
       "</style>\n",
       "<table border=\"1\" class=\"dataframe\">\n",
       "  <thead>\n",
       "    <tr style=\"text-align: right;\">\n",
       "      <th></th>\n",
       "      <th>MolFileAddress</th>\n",
       "      <th>Smiles</th>\n",
       "      <th>Error</th>\n",
       "      <th>&gt;1 Compound</th>\n",
       "    </tr>\n",
       "    <tr>\n",
       "      <th>SubstanceID</th>\n",
       "      <th></th>\n",
       "      <th></th>\n",
       "      <th></th>\n",
       "      <th></th>\n",
       "    </tr>\n",
       "  </thead>\n",
       "  <tbody>\n",
       "    <tr>\n",
       "      <th>2632386</th>\n",
       "      <td>/home/projects/graph/data/batch_5700000/2632386</td>\n",
       "      <td>CCCCCCCCCCCCCCCCCCN(CC(C)(C)C=O)C(=O)c1ccccc1</td>\n",
       "      <td>No</td>\n",
       "      <td>False</td>\n",
       "    </tr>\n",
       "  </tbody>\n",
       "</table>\n",
       "</div>"
      ],
      "text/plain": [
       "                                              MolFileAddress  \\\n",
       "SubstanceID                                                    \n",
       "2632386      /home/projects/graph/data/batch_5700000/2632386   \n",
       "\n",
       "                                                    Smiles Error >1 Compound  \n",
       "SubstanceID                                                                   \n",
       "2632386      CCCCCCCCCCCCCCCCCCN(CC(C)(C)C=O)C(=O)c1ccccc1    No       False  "
      ]
     },
     "execution_count": 20,
     "metadata": {},
     "output_type": "execute_result"
    },
    {
     "data": {
      "text/html": [
       "<div>\n",
       "<style scoped>\n",
       "    .dataframe tbody tr th:only-of-type {\n",
       "        vertical-align: middle;\n",
       "    }\n",
       "\n",
       "    .dataframe tbody tr th {\n",
       "        vertical-align: top;\n",
       "    }\n",
       "\n",
       "    .dataframe thead th {\n",
       "        text-align: right;\n",
       "    }\n",
       "</style>\n",
       "<table border=\"1\" class=\"dataframe\">\n",
       "  <thead>\n",
       "    <tr style=\"text-align: right;\">\n",
       "      <th></th>\n",
       "      <th>MolFileAddress</th>\n",
       "      <th>Smiles</th>\n",
       "      <th>Error</th>\n",
       "      <th>&gt;1 Compound</th>\n",
       "    </tr>\n",
       "    <tr>\n",
       "      <th>SubstanceID</th>\n",
       "      <th></th>\n",
       "      <th></th>\n",
       "      <th></th>\n",
       "      <th></th>\n",
       "    </tr>\n",
       "  </thead>\n",
       "  <tbody>\n",
       "    <tr>\n",
       "      <th>11230426</th>\n",
       "      <td>/home/projects/graph/data/batch_6500000/11230426</td>\n",
       "      <td>Nc1cc(F)c(N2CC(F)C2)c(F)c1</td>\n",
       "      <td>No</td>\n",
       "      <td>False</td>\n",
       "    </tr>\n",
       "  </tbody>\n",
       "</table>\n",
       "</div>"
      ],
      "text/plain": [
       "                                               MolFileAddress  \\\n",
       "SubstanceID                                                     \n",
       "11230426     /home/projects/graph/data/batch_6500000/11230426   \n",
       "\n",
       "                                 Smiles Error >1 Compound  \n",
       "SubstanceID                                                \n",
       "11230426     Nc1cc(F)c(N2CC(F)C2)c(F)c1    No       False  "
      ]
     },
     "execution_count": 20,
     "metadata": {},
     "output_type": "execute_result"
    }
   ],
   "source": [
    "substancedbdask.loc[2632386].compute()\n",
    "\n",
    "substancedbdask.loc[substancedbdask['Smiles']\n",
    "                    == 'Nc1cc(F)c(N2CC(F)C2)c(F)c1'].compute()"
   ]
  },
  {
   "cell_type": "code",
   "execution_count": 21,
   "metadata": {
    "ExecuteTime": {
     "end_time": "2021-02-10T14:52:55.724168Z",
     "start_time": "2021-02-10T14:52:55.691222Z"
    }
   },
   "outputs": [
    {
     "data": {
      "text/html": [
       "<div>\n",
       "<style scoped>\n",
       "    .dataframe tbody tr th:only-of-type {\n",
       "        vertical-align: middle;\n",
       "    }\n",
       "\n",
       "    .dataframe tbody tr th {\n",
       "        vertical-align: top;\n",
       "    }\n",
       "\n",
       "    .dataframe thead th {\n",
       "        text-align: right;\n",
       "    }\n",
       "</style>\n",
       "<table border=\"1\" class=\"dataframe\">\n",
       "  <thead>\n",
       "    <tr style=\"text-align: right;\">\n",
       "      <th></th>\n",
       "      <th>MolFileAddress</th>\n",
       "      <th>Smiles</th>\n",
       "      <th>Error</th>\n",
       "      <th>&gt;1 Compound</th>\n",
       "    </tr>\n",
       "    <tr>\n",
       "      <th>SubstanceID</th>\n",
       "      <th></th>\n",
       "      <th></th>\n",
       "      <th></th>\n",
       "      <th></th>\n",
       "    </tr>\n",
       "  </thead>\n",
       "  <tbody>\n",
       "    <tr>\n",
       "      <th>2632386</th>\n",
       "      <td>/home/projects/graph/data/batch_5700000/2632386</td>\n",
       "      <td>CCCCCCCCCCCCCCCCCCN(CC(C)(C)C=O)C(=O)c1ccccc1</td>\n",
       "      <td>No</td>\n",
       "      <td>False</td>\n",
       "    </tr>\n",
       "  </tbody>\n",
       "</table>\n",
       "</div>"
      ],
      "text/plain": [
       "                                              MolFileAddress  \\\n",
       "SubstanceID                                                    \n",
       "2632386      /home/projects/graph/data/batch_5700000/2632386   \n",
       "\n",
       "                                                    Smiles Error >1 Compound  \n",
       "SubstanceID                                                                   \n",
       "2632386      CCCCCCCCCCCCCCCCCCN(CC(C)(C)C=O)C(=O)c1ccccc1    No       False  "
      ]
     },
     "execution_count": 21,
     "metadata": {},
     "output_type": "execute_result"
    }
   ],
   "source": [
    "substancedbdask.loc[2632386].compute()"
   ]
  },
  {
   "cell_type": "code",
   "execution_count": 243,
   "metadata": {
    "ExecuteTime": {
     "end_time": "2021-01-26T16:28:28.963251Z",
     "start_time": "2021-01-26T16:28:28.940694Z"
    }
   },
   "outputs": [
    {
     "data": {
      "text/plain": [
       "'CCCCCCCCCCCCCCCCCCN(CC(C)(C)C=O)C(=O)c1ccccc1'"
      ]
     },
     "execution_count": 243,
     "metadata": {},
     "output_type": "execute_result"
    }
   ],
   "source": [
    "g = substancedbdask.loc[2632386, 'Smiles'].compute()[2632386]\n",
    "g"
   ]
  },
  {
   "cell_type": "code",
   "execution_count": 245,
   "metadata": {
    "ExecuteTime": {
     "end_time": "2021-01-26T16:29:07.932660Z",
     "start_time": "2021-01-26T16:29:07.925224Z"
    }
   },
   "outputs": [
    {
     "data": {
      "text/plain": [
       "'CCCCCCCCCCCCCCCCCCN(CC(C)(C)C=O)C(=O)c1ccccc1'"
      ]
     },
     "execution_count": 245,
     "metadata": {},
     "output_type": "execute_result"
    }
   ],
   "source": [
    "f = substancedb.loc[2632386, 'Smiles']\n",
    "f"
   ]
  },
  {
   "cell_type": "markdown",
   "metadata": {},
   "source": [
    "Now, the question remains whether it is best to build another column row by row or build a dataframe from an entire column. https://towardsdatascience.com/apply-function-to-pandas-dataframe-rows-76df74165ee4 has more details. Building an entire column, and appending this to the dataframe is better and has been implemented."
   ]
  },
  {
   "cell_type": "markdown",
   "metadata": {},
   "source": [
    "## Creating dask dataframe to house fragment data"
   ]
  },
  {
   "cell_type": "markdown",
   "metadata": {},
   "source": [
    "Creating a new dataframe to house information on fragments. This is a subset of the substance database containing only substance IDs, Smiles and mixture identification where molfiles CAN be processed. The index is reset (as indexing is the same across all partitions ie. 1 to 1000000 for partition 1, 1 to 1000000 for partition2 and so on), and a dask dataframe (substancedbdask2) is generated. Totally 14.8 million compounds out of the original 16 million compounds can be processed this way."
   ]
  },
  {
   "cell_type": "code",
   "execution_count": 8,
   "metadata": {
    "ExecuteTime": {
     "end_time": "2021-02-11T03:38:13.233023Z",
     "start_time": "2021-02-11T03:38:00.676287Z"
    }
   },
   "outputs": [],
   "source": [
    "fdbm=substancedb.reset_index()[['SubstanceID', 'Smiles','>1 Compound']]\n",
    "fdbm=fdbm[fdbm.Smiles!='Error']\n",
    "substancedbdask2=dd.from_pandas(fdbm,npartitions=16)\n",
    "substancedbdask2=client.persist(substancedbdask2)"
   ]
  },
  {
   "cell_type": "code",
   "execution_count": 34,
   "metadata": {
    "ExecuteTime": {
     "end_time": "2021-02-10T16:14:06.657494Z",
     "start_time": "2021-02-10T16:14:05.812979Z"
    }
   },
   "outputs": [
    {
     "data": {
      "text/plain": [
       "14848334"
      ]
     },
     "execution_count": 34,
     "metadata": {},
     "output_type": "execute_result"
    }
   ],
   "source": [
    "substancedbdask2['SubstanceID'].count().compute()"
   ]
  },
  {
   "cell_type": "markdown",
   "metadata": {},
   "source": [
    "## Simple solution (Pandas)"
   ]
  },
  {
   "cell_type": "markdown",
   "metadata": {},
   "source": [
    "The bottom section served to highlight how inefficient it is using pandas (single core)"
   ]
  },
  {
   "cell_type": "code",
   "execution_count": 523,
   "metadata": {
    "ExecuteTime": {
     "end_time": "2021-01-27T08:12:17.159361Z",
     "start_time": "2021-01-27T08:12:16.842279Z"
    }
   },
   "outputs": [],
   "source": [
    "testset = substancedbdask2.head(100000)"
   ]
  },
  {
   "cell_type": "code",
   "execution_count": 506,
   "metadata": {
    "ExecuteTime": {
     "end_time": "2021-01-27T08:07:14.231110Z",
     "start_time": "2021-01-27T08:07:14.211702Z"
    }
   },
   "outputs": [
    {
     "data": {
      "text/html": [
       "<div>\n",
       "<style scoped>\n",
       "    .dataframe tbody tr th:only-of-type {\n",
       "        vertical-align: middle;\n",
       "    }\n",
       "\n",
       "    .dataframe tbody tr th {\n",
       "        vertical-align: top;\n",
       "    }\n",
       "\n",
       "    .dataframe thead th {\n",
       "        text-align: right;\n",
       "    }\n",
       "</style>\n",
       "<table border=\"1\" class=\"dataframe\">\n",
       "  <thead>\n",
       "    <tr style=\"text-align: right;\">\n",
       "      <th></th>\n",
       "      <th>SubstanceID</th>\n",
       "      <th>Smiles</th>\n",
       "    </tr>\n",
       "  </thead>\n",
       "  <tbody>\n",
       "    <tr>\n",
       "      <th>0</th>\n",
       "      <td>925</td>\n",
       "      <td>CC(=O)OCC1(COC(C)=O)Nc2cccc3cccc(c23)N1</td>\n",
       "    </tr>\n",
       "    <tr>\n",
       "      <th>1</th>\n",
       "      <td>929</td>\n",
       "      <td>CCCCCC(=O)OCC1(COC(=O)CCCCC)Nc2cccc3ccc(C4C(=O...</td>\n",
       "    </tr>\n",
       "    <tr>\n",
       "      <th>2</th>\n",
       "      <td>930</td>\n",
       "      <td>CC(C)(C)C(=O)OCC1(COC(=O)C(C)(C)C)Nc2cccc3ccc(...</td>\n",
       "    </tr>\n",
       "    <tr>\n",
       "      <th>3</th>\n",
       "      <td>931</td>\n",
       "      <td>O=C(OCC1(COC(=O)c2ccccc2)Nc2cccc3ccc(C4C(=O)C(...</td>\n",
       "    </tr>\n",
       "    <tr>\n",
       "      <th>4</th>\n",
       "      <td>932</td>\n",
       "      <td>CCCCCCCCCC(=O)OCC1(COC(=O)CCCCCCCCC)Nc2cccc3cc...</td>\n",
       "    </tr>\n",
       "    <tr>\n",
       "      <th>...</th>\n",
       "      <td>...</td>\n",
       "      <td>...</td>\n",
       "    </tr>\n",
       "    <tr>\n",
       "      <th>295</th>\n",
       "      <td>1329</td>\n",
       "      <td>IS1(I)CCOCC1</td>\n",
       "    </tr>\n",
       "    <tr>\n",
       "      <th>296</th>\n",
       "      <td>1330</td>\n",
       "      <td>Br[Te]1(Br)CCOCC1</td>\n",
       "    </tr>\n",
       "    <tr>\n",
       "      <th>297</th>\n",
       "      <td>1331</td>\n",
       "      <td>I[Te]1(I)CCOCC1</td>\n",
       "    </tr>\n",
       "    <tr>\n",
       "      <th>298</th>\n",
       "      <td>1332</td>\n",
       "      <td>OC[C@H]1OCCCC1O</td>\n",
       "    </tr>\n",
       "    <tr>\n",
       "      <th>299</th>\n",
       "      <td>1333</td>\n",
       "      <td>OCC1CCOCC1O</td>\n",
       "    </tr>\n",
       "  </tbody>\n",
       "</table>\n",
       "<p>300 rows × 2 columns</p>\n",
       "</div>"
      ],
      "text/plain": [
       "     SubstanceID                                             Smiles\n",
       "0            925            CC(=O)OCC1(COC(C)=O)Nc2cccc3cccc(c23)N1\n",
       "1            929  CCCCCC(=O)OCC1(COC(=O)CCCCC)Nc2cccc3ccc(C4C(=O...\n",
       "2            930  CC(C)(C)C(=O)OCC1(COC(=O)C(C)(C)C)Nc2cccc3ccc(...\n",
       "3            931  O=C(OCC1(COC(=O)c2ccccc2)Nc2cccc3ccc(C4C(=O)C(...\n",
       "4            932  CCCCCCCCCC(=O)OCC1(COC(=O)CCCCCCCCC)Nc2cccc3cc...\n",
       "..           ...                                                ...\n",
       "295         1329                                       IS1(I)CCOCC1\n",
       "296         1330                                  Br[Te]1(Br)CCOCC1\n",
       "297         1331                                    I[Te]1(I)CCOCC1\n",
       "298         1332                                    OC[C@H]1OCCCC1O\n",
       "299         1333                                        OCC1CCOCC1O\n",
       "\n",
       "[300 rows x 2 columns]"
      ]
     },
     "execution_count": 506,
     "metadata": {},
     "output_type": "execute_result"
    }
   ],
   "source": [
    "testset"
   ]
  },
  {
   "cell_type": "code",
   "execution_count": 504,
   "metadata": {
    "ExecuteTime": {
     "end_time": "2021-01-27T08:06:18.285876Z",
     "start_time": "2021-01-27T08:06:15.841129Z"
    }
   },
   "outputs": [],
   "source": [
    "applycol=testset.apply(getfrags,natoms=0,axis=1)"
   ]
  },
  {
   "cell_type": "markdown",
   "metadata": {
    "variables": {
     "2.17*(16000000/100)/3600": {}
    }
   },
   "source": [
    "2.17 seconds per every 100 rows translates to {{2.17*(16000000/100)/3600}} hours"
   ]
  },
  {
   "cell_type": "code",
   "execution_count": 501,
   "metadata": {
    "ExecuteTime": {
     "end_time": "2021-01-27T08:05:47.184176Z",
     "start_time": "2021-01-27T08:05:47.172136Z"
    }
   },
   "outputs": [
    {
     "data": {
      "text/plain": [
       "0      [[#6](=[#8])-[#8], [#6](-[#7])-[#7], [#8]-[#6]...\n",
       "1      [[#6](=[#8])-[#8], [#6](-[#7])-[#7], [#8]-[#6]...\n",
       "2      [[#6](=[#8])-[#8], [#6](-[#7])-[#7], [#8]-[#6]...\n",
       "3      [[#8]=[#6]-[#8], [#6](-[#7])-[#7], [#8]-[#6]=[...\n",
       "4      [[#6](=[#8])-[#8], [#6](-[#7])-[#7], [#8]-[#6]...\n",
       "                             ...                        \n",
       "195                                  [[#6]1-[#8]-[#6]-1]\n",
       "196                                  [[#6]1-[#8]-[#6]-1]\n",
       "197                                  [[#16], [#7], [#7]]\n",
       "198                                               [[#7]]\n",
       "199                                               [[#7]]\n",
       "Length: 200, dtype: object"
      ]
     },
     "execution_count": 501,
     "metadata": {},
     "output_type": "execute_result"
    }
   ],
   "source": [
    "applycol"
   ]
  },
  {
   "cell_type": "markdown",
   "metadata": {},
   "source": [
    "## Simple solution (parallel)"
   ]
  },
  {
   "cell_type": "markdown",
   "metadata": {},
   "source": [
    "This employs dask. However, it is slower for smaller datasets. The get carrier frags function is applied to each partition in the modified substance database using all 16 cores for carrier fragments (n=6). Subsequently, fragment smiles are calculated by processing the fragment smarts. The reason for this is that there are many smarts representations of a fragment structure but only one canonical smiles, so filtering the database by canonical smiles can capture more analogue compounds. This workflow is first tested on a test set of 100 compounds to ensure everything work smoothly and then tested on the entire dataset. The results are stored in pickle files on the server"
   ]
  },
  {
   "cell_type": "markdown",
   "metadata": {},
   "source": [
    "### Test set"
   ]
  },
  {
   "cell_type": "code",
   "execution_count": 99,
   "metadata": {
    "ExecuteTime": {
     "end_time": "2021-02-10T17:33:49.442052Z",
     "start_time": "2021-02-10T17:33:49.391989Z"
    }
   },
   "outputs": [],
   "source": [
    "dasktestset=dd.from_pandas(substancedbdask2.loc[:100].compute(),npartitions=16)\n",
    "dasktestset=client.persist(dasktestset)"
   ]
  },
  {
   "cell_type": "code",
   "execution_count": 113,
   "metadata": {
    "ExecuteTime": {
     "end_time": "2021-02-10T17:49:24.161360Z",
     "start_time": "2021-02-10T17:49:24.078027Z"
    }
   },
   "outputs": [
    {
     "data": {
      "text/html": [
       "<div>\n",
       "<style scoped>\n",
       "    .dataframe tbody tr th:only-of-type {\n",
       "        vertical-align: middle;\n",
       "    }\n",
       "\n",
       "    .dataframe tbody tr th {\n",
       "        vertical-align: top;\n",
       "    }\n",
       "\n",
       "    .dataframe thead th {\n",
       "        text-align: right;\n",
       "    }\n",
       "</style>\n",
       "<table border=\"1\" class=\"dataframe\">\n",
       "  <thead>\n",
       "    <tr style=\"text-align: right;\">\n",
       "      <th></th>\n",
       "      <th>SubstanceID</th>\n",
       "      <th>Smiles</th>\n",
       "      <th>&gt;1 Compound</th>\n",
       "    </tr>\n",
       "  </thead>\n",
       "  <tbody>\n",
       "    <tr>\n",
       "      <th>2</th>\n",
       "      <td>29164535</td>\n",
       "      <td>[Gd+3].[Na+].[O-]B([O-])[O-].[Tb+3]</td>\n",
       "      <td>True</td>\n",
       "    </tr>\n",
       "    <tr>\n",
       "      <th>53</th>\n",
       "      <td>16828067</td>\n",
       "      <td>O=[N+]([O-])[O-].[H][N+]([H])([H])[H].[Np+4]</td>\n",
       "      <td>True</td>\n",
       "    </tr>\n",
       "    <tr>\n",
       "      <th>60</th>\n",
       "      <td>18159874</td>\n",
       "      <td>[Ni].[SnH2]</td>\n",
       "      <td>True</td>\n",
       "    </tr>\n",
       "    <tr>\n",
       "      <th>79</th>\n",
       "      <td>3715603</td>\n",
       "      <td>CCC(N)Cc1c[nH]c2ccccc12.Cl</td>\n",
       "      <td>True</td>\n",
       "    </tr>\n",
       "  </tbody>\n",
       "</table>\n",
       "</div>"
      ],
      "text/plain": [
       "    SubstanceID                                        Smiles >1 Compound\n",
       "2      29164535           [Gd+3].[Na+].[O-]B([O-])[O-].[Tb+3]        True\n",
       "53     16828067  O=[N+]([O-])[O-].[H][N+]([H])([H])[H].[Np+4]        True\n",
       "60     18159874                                   [Ni].[SnH2]        True\n",
       "79      3715603                    CCC(N)Cc1c[nH]c2ccccc12.Cl        True"
      ]
     },
     "execution_count": 113,
     "metadata": {},
     "output_type": "execute_result"
    }
   ],
   "source": [
    "dasktestset.loc[dasktestset['>1 Compound']==True].compute()"
   ]
  },
  {
   "cell_type": "code",
   "execution_count": 143,
   "metadata": {
    "ExecuteTime": {
     "end_time": "2021-02-10T18:21:09.757940Z",
     "start_time": "2021-02-10T18:21:09.593903Z"
    }
   },
   "outputs": [],
   "source": [
    "applycolp2=dasktestset.map_partitions(getfragpartition,natoms=6,meta=('FragmentSmarts','O')).compute()\n",
    "dasktestset=client.persist(dd.from_pandas(joindf(pd.DataFrame(applycolp2),substancedbdask2.loc[:100].compute()),npartitions=16)) "
   ]
  },
  {
   "cell_type": "code",
   "execution_count": 144,
   "metadata": {
    "ExecuteTime": {
     "end_time": "2021-02-10T18:21:12.160040Z",
     "start_time": "2021-02-10T18:21:12.062617Z"
    }
   },
   "outputs": [],
   "source": [
    "applycolp3=dasktestset.map_partitions(getsmilespartition,meta=('FragmentSmiles','O')).compute()"
   ]
  },
  {
   "cell_type": "code",
   "execution_count": 145,
   "metadata": {
    "ExecuteTime": {
     "end_time": "2021-02-10T18:21:14.162722Z",
     "start_time": "2021-02-10T18:21:14.120710Z"
    }
   },
   "outputs": [],
   "source": [
    "finaldb=joindf(pd.DataFrame(applycolp3),joindf(pd.DataFrame(applycolp2),substancedbdask2.loc[:100].compute()))"
   ]
  },
  {
   "cell_type": "code",
   "execution_count": 174,
   "metadata": {
    "ExecuteTime": {
     "end_time": "2021-02-10T18:39:43.323246Z",
     "start_time": "2021-02-10T18:39:43.287405Z"
    }
   },
   "outputs": [],
   "source": [
    "finaldb2=joindf(pd.DataFrame(applycolp2),substancedbdask2.loc[:100].compute())"
   ]
  },
  {
   "cell_type": "code",
   "execution_count": 176,
   "metadata": {
    "ExecuteTime": {
     "end_time": "2021-02-10T18:40:25.649142Z",
     "start_time": "2021-02-10T18:40:25.382392Z"
    }
   },
   "outputs": [],
   "source": [
    "finaldb2=finaldb2.explode('FragmentSmarts')"
   ]
  },
  {
   "cell_type": "code",
   "execution_count": 180,
   "metadata": {
    "ExecuteTime": {
     "end_time": "2021-02-10T18:44:38.480020Z",
     "start_time": "2021-02-10T18:44:38.465433Z"
    }
   },
   "outputs": [
    {
     "data": {
      "text/html": [
       "<div>\n",
       "<style scoped>\n",
       "    .dataframe tbody tr th:only-of-type {\n",
       "        vertical-align: middle;\n",
       "    }\n",
       "\n",
       "    .dataframe tbody tr th {\n",
       "        vertical-align: top;\n",
       "    }\n",
       "\n",
       "    .dataframe thead th {\n",
       "        text-align: right;\n",
       "    }\n",
       "</style>\n",
       "<table border=\"1\" class=\"dataframe\">\n",
       "  <thead>\n",
       "    <tr style=\"text-align: right;\">\n",
       "      <th></th>\n",
       "      <th>SubstanceID</th>\n",
       "      <th>Smiles</th>\n",
       "      <th>&gt;1 Compound</th>\n",
       "      <th>FragmentSmarts</th>\n",
       "    </tr>\n",
       "  </thead>\n",
       "  <tbody>\n",
       "  </tbody>\n",
       "</table>\n",
       "</div>"
      ],
      "text/plain": [
       "Empty DataFrame\n",
       "Columns: [SubstanceID, Smiles, >1 Compound, FragmentSmarts]\n",
       "Index: []"
      ]
     },
     "execution_count": 180,
     "metadata": {},
     "output_type": "execute_result"
    }
   ],
   "source": [
    "finaldb2.loc[finaldb2['FragmentSmarts']=='Error']"
   ]
  },
  {
   "cell_type": "code",
   "execution_count": 179,
   "metadata": {
    "ExecuteTime": {
     "end_time": "2021-02-10T18:41:50.675666Z",
     "start_time": "2021-02-10T18:41:50.646564Z"
    }
   },
   "outputs": [
    {
     "data": {
      "text/html": [
       "<div>\n",
       "<style scoped>\n",
       "    .dataframe tbody tr th:only-of-type {\n",
       "        vertical-align: middle;\n",
       "    }\n",
       "\n",
       "    .dataframe tbody tr th {\n",
       "        vertical-align: top;\n",
       "    }\n",
       "\n",
       "    .dataframe thead th {\n",
       "        text-align: right;\n",
       "    }\n",
       "</style>\n",
       "<table border=\"1\" class=\"dataframe\">\n",
       "  <thead>\n",
       "    <tr style=\"text-align: right;\">\n",
       "      <th></th>\n",
       "      <th>FragmentSmiles</th>\n",
       "    </tr>\n",
       "  </thead>\n",
       "  <tbody>\n",
       "    <tr>\n",
       "      <th>0</th>\n",
       "      <td>[H]C([H])([H])C(F)(C([H])([H])C)C([H])(C)Br</td>\n",
       "    </tr>\n",
       "    <tr>\n",
       "      <th>0</th>\n",
       "      <td>[H]C([H])(C)C([H])(Br)C(C)(C)F</td>\n",
       "    </tr>\n",
       "    <tr>\n",
       "      <th>1</th>\n",
       "      <td>C:C(C):N:C(:C):C</td>\n",
       "    </tr>\n",
       "    <tr>\n",
       "      <th>1</th>\n",
       "      <td>[H]C(:C):C(F):C([H]):C</td>\n",
       "    </tr>\n",
       "    <tr>\n",
       "      <th>1</th>\n",
       "      <td>[H]C1([H])OC:CO1</td>\n",
       "    </tr>\n",
       "    <tr>\n",
       "      <th>...</th>\n",
       "      <td>...</td>\n",
       "    </tr>\n",
       "    <tr>\n",
       "      <th>100</th>\n",
       "      <td>[H]C(C)(O)N1:C(C):N:C:C:1:N</td>\n",
       "    </tr>\n",
       "    <tr>\n",
       "      <th>100</th>\n",
       "      <td>[H]N(:C):C(=O):C(:C):N</td>\n",
       "    </tr>\n",
       "    <tr>\n",
       "      <th>100</th>\n",
       "      <td>[H]C1(C)CCC([H])(N)O1</td>\n",
       "    </tr>\n",
       "    <tr>\n",
       "      <th>100</th>\n",
       "      <td>[H]N(:C(:N)N):C(:C)=O</td>\n",
       "    </tr>\n",
       "    <tr>\n",
       "      <th>100</th>\n",
       "      <td>CO[Si](C)(C)C</td>\n",
       "    </tr>\n",
       "  </tbody>\n",
       "</table>\n",
       "<p>379 rows × 1 columns</p>\n",
       "</div>"
      ],
      "text/plain": [
       "                                  FragmentSmiles\n",
       "0    [H]C([H])([H])C(F)(C([H])([H])C)C([H])(C)Br\n",
       "0                 [H]C([H])(C)C([H])(Br)C(C)(C)F\n",
       "1                               C:C(C):N:C(:C):C\n",
       "1                         [H]C(:C):C(F):C([H]):C\n",
       "1                               [H]C1([H])OC:CO1\n",
       "..                                           ...\n",
       "100                  [H]C(C)(O)N1:C(C):N:C:C:1:N\n",
       "100                       [H]N(:C):C(=O):C(:C):N\n",
       "100                        [H]C1(C)CCC([H])(N)O1\n",
       "100                        [H]N(:C(:N)N):C(:C)=O\n",
       "100                                CO[Si](C)(C)C\n",
       "\n",
       "[379 rows x 1 columns]"
      ]
     },
     "execution_count": 179,
     "metadata": {},
     "output_type": "execute_result"
    }
   ],
   "source": [
    "pd.DataFrame(applycolp3).explode('FragmentSmiles')"
   ]
  },
  {
   "cell_type": "code",
   "execution_count": 146,
   "metadata": {
    "ExecuteTime": {
     "end_time": "2021-02-10T18:21:16.234203Z",
     "start_time": "2021-02-10T18:21:16.223144Z"
    }
   },
   "outputs": [
    {
     "data": {
      "text/plain": [
       "['[#6]-[#6](:[#7]:[#6](:[#6]):[#6]):[#6]',\n",
       " '[#6]:[#6](:[#6](-[#9]):[#6](:[#6])-[H])-[H]',\n",
       " '[#6]1:[#6]-[#8]-[#6](-[#8]-1)(-[H])-[H]',\n",
       " '[#6]-[#6](:[#6]):[#6](:[#6](:[#6])-[H])-[#9]']"
      ]
     },
     "execution_count": 146,
     "metadata": {},
     "output_type": "execute_result"
    },
    {
     "data": {
      "text/plain": [
       "['C:C(C):N:C(:C):C',\n",
       " '[H]C(:C):C(F):C([H]):C',\n",
       " '[H]C1([H])OC:CO1',\n",
       " '[H]C(:C):C(F):C(:C)C']"
      ]
     },
     "execution_count": 146,
     "metadata": {},
     "output_type": "execute_result"
    }
   ],
   "source": [
    "finaldb.loc[1].FragmentSmarts\n",
    "finaldb.loc[1].FragmentSmiles"
   ]
  },
  {
   "cell_type": "code",
   "execution_count": 133,
   "metadata": {
    "ExecuteTime": {
     "end_time": "2021-02-10T18:02:43.638010Z",
     "start_time": "2021-02-10T18:02:43.625314Z"
    }
   },
   "outputs": [
    {
     "data": {
      "text/plain": [
       "SubstanceID                                                27615522\n",
       "Smiles                  Cc1cc(-c2nc3cc(F)ccc3c3cc4c(cc23)OCO4)ccc1F\n",
       ">1 Compound                                                   False\n",
       "FragmentSmarts    [[#6]-[#6](:[#7]:[#6](:[#6]):[#6]):[#6], [#6]:...\n",
       "FragmentSmiles    [C:C(C):N:C(:C):C, [H]C(:C):C(F):C([H]):C, [H]...\n",
       "Name: 1, dtype: object"
      ]
     },
     "execution_count": 133,
     "metadata": {},
     "output_type": "execute_result"
    }
   ],
   "source": [
    "finaldb.loc[1]"
   ]
  },
  {
   "cell_type": "markdown",
   "metadata": {},
   "source": [
    "Something to take note is that the fragment smarts should be used in substructure searches instead of fragment smiles, as it is often invalid/cannot generate a valid molecule due to valence errors."
   ]
  },
  {
   "cell_type": "code",
   "execution_count": 147,
   "metadata": {
    "ExecuteTime": {
     "end_time": "2021-02-10T18:21:23.588577Z",
     "start_time": "2021-02-10T18:21:23.571432Z"
    }
   },
   "outputs": [
    {
     "data": {
      "image/png": "[encoded data removed]",
      "text/plain": [
       "<rdkit.Chem.rdchem.Mol at 0x7f21ef2b6b70>"
      ]
     },
     "execution_count": 147,
     "metadata": {},
     "output_type": "execute_result"
    },
    {
     "name": "stderr",
     "output_type": "stream",
     "text": [
      "RDKit ERROR: [18:21:23] Explicit valence for atom # 4 C, 5, is greater than permitted\n"
     ]
    }
   ],
   "source": [
    "mol_with_atom_index(Chem.MolFromSmarts('[#6]-[#6](:[#7]:[#6](:[#6]):[#6]):[#6]'))\n",
    "Chem.MolFromSmiles('C:C(C):N:C(:C):C')"
   ]
  },
  {
   "cell_type": "code",
   "execution_count": 171,
   "metadata": {
    "ExecuteTime": {
     "end_time": "2021-02-10T18:34:14.089014Z",
     "start_time": "2021-02-10T18:34:14.080931Z"
    }
   },
   "outputs": [],
   "source": [
    "testmol=Chem.MolFromSmiles('Cc1cc(-c2nc3cc(F)ccc3c3cc4c(cc23)OCO4)ccc1F')\n",
    "testmol=Chem.AddHs(testmol)\n",
    "patt=Chem.MolFromSmarts('[#6]-[#6](:[#7]:[#6](:[#6]):[#6]):[#6]')"
   ]
  },
  {
   "cell_type": "code",
   "execution_count": 172,
   "metadata": {
    "ExecuteTime": {
     "end_time": "2021-02-10T18:34:15.908787Z",
     "start_time": "2021-02-10T18:34:15.900841Z"
    }
   },
   "outputs": [
    {
     "data": {
      "text/plain": [
       "((3, 4, 5, 6, 7, 12, 18),)"
      ]
     },
     "execution_count": 172,
     "metadata": {},
     "output_type": "execute_result"
    }
   ],
   "source": [
    "testmol.GetSubstructMatches(patt)"
   ]
  },
  {
   "cell_type": "code",
   "execution_count": 173,
   "metadata": {
    "ExecuteTime": {
     "end_time": "2021-02-10T18:34:18.117038Z",
     "start_time": "2021-02-10T18:34:18.077156Z"
    }
   },
   "outputs": [
    {
     "data": {
      "image/png": "[encoded data removed]",
      "text/plain": [
       "<rdkit.Chem.rdchem.Mol at 0x7f21ef9384e0>"
      ]
     },
     "execution_count": 173,
     "metadata": {},
     "output_type": "execute_result"
    }
   ],
   "source": [
    "testmol"
   ]
  },
  {
   "cell_type": "code",
   "execution_count": 81,
   "metadata": {
    "ExecuteTime": {
     "end_time": "2021-02-10T17:21:15.933388Z",
     "start_time": "2021-02-10T17:21:15.906051Z"
    }
   },
   "outputs": [
    {
     "data": {
      "text/plain": [
       "'CC(C)(C)[C@@H]1CC[C@@](C)(F)[C@H](Br)C1'"
      ]
     },
     "execution_count": 81,
     "metadata": {},
     "output_type": "execute_result"
    }
   ],
   "source": [
    "dasktestset.loc[0].compute()['Smiles'].values[0]"
   ]
  },
  {
   "cell_type": "markdown",
   "metadata": {},
   "source": [
    "### Real dataset"
   ]
  },
  {
   "cell_type": "code",
   "execution_count": null,
   "metadata": {
    "ExecuteTime": {
     "start_time": "2021-02-10T18:55:45.277Z"
    }
   },
   "outputs": [],
   "source": [
    "carrierfragsmarts=substancedbdask2.map_partitions(getfragpartition,natoms=6,meta=('FragmentSmarts','O')).compute()\n",
    "carrierfragsmartsdf=pd.DataFrame(carrierfragsmarts)\n",
    "writepickle(carrierfragsmartsdf,\"/home/aa2133/Impurity-Project/Reaxys_Data/fragsmarts(n=6)\")\n",
    "\n",
    "substancedbdask2=client.persist(dd.from_pandas(joindf(carrierfragsmartsdf,fdbm),npartitions=16))\n",
    "carrierfragsmiles=substancedbdask2.map_partitions(getsmilespartition,meta=('FragmentSmiles','O')).compute()\n",
    "carrierfragsmilesdf=pd.DataFrame(carrierfragsmiles)\n",
    "writepickle(carrierfragsmilesdf,\"/home/aa2133/Impurity-Project/Reaxys_Data/fragsmiles(n=6)\")"
   ]
  },
  {
   "cell_type": "code",
   "execution_count": 10,
   "metadata": {
    "ExecuteTime": {
     "end_time": "2021-02-11T03:41:07.212034Z",
     "start_time": "2021-02-11T03:39:37.346991Z"
    }
   },
   "outputs": [],
   "source": [
    "carrierfragsmartsdf=openpickle(\"/home/aa2133/Impurity-Project/Reaxys_Data/fragsmarts(n=6).pickle\")\n",
    "carrierfragsmilesdf=openpickle(\"/home/aa2133/Impurity-Project/Reaxys_Data/fragsmiles(n=6).pickle\")"
   ]
  },
  {
   "cell_type": "markdown",
   "metadata": {},
   "source": [
    "We now have columns for fragment smarts and fragment smiles of each compound in the database, taking roughly 1.5 hours using 16 cores on the server. This is almost 100 times faster than just using a single core, which would take almost 3-4 days."
   ]
  },
  {
   "cell_type": "code",
   "execution_count": 11,
   "metadata": {
    "ExecuteTime": {
     "end_time": "2021-02-11T03:41:11.297422Z",
     "start_time": "2021-02-11T03:41:10.962134Z"
    }
   },
   "outputs": [
    {
     "data": {
      "text/html": [
       "<div>\n",
       "<style scoped>\n",
       "    .dataframe tbody tr th:only-of-type {\n",
       "        vertical-align: middle;\n",
       "    }\n",
       "\n",
       "    .dataframe tbody tr th {\n",
       "        vertical-align: top;\n",
       "    }\n",
       "\n",
       "    .dataframe thead th {\n",
       "        text-align: right;\n",
       "    }\n",
       "</style>\n",
       "<table border=\"1\" class=\"dataframe\">\n",
       "  <thead>\n",
       "    <tr style=\"text-align: right;\">\n",
       "      <th></th>\n",
       "      <th>FragmentSmarts</th>\n",
       "    </tr>\n",
       "  </thead>\n",
       "  <tbody>\n",
       "    <tr>\n",
       "      <th>0</th>\n",
       "      <td>[[#6]-[#6](-[#6](-[#6](-[H])(-[H])-[H])(-[#9])...</td>\n",
       "    </tr>\n",
       "    <tr>\n",
       "      <th>1</th>\n",
       "      <td>[[#6]-[#6](:[#7]:[#6](:[#6]):[#6]):[#6], [#6]:...</td>\n",
       "    </tr>\n",
       "    <tr>\n",
       "      <th>2</th>\n",
       "      <td>[[Gd+3], [Na+], [#8-]-[#5](-[#8-])-[#8-], [Tb+3]]</td>\n",
       "    </tr>\n",
       "    <tr>\n",
       "      <th>3</th>\n",
       "      <td>[[#7](-[#6](:[#6]):[#6])(-[H])-[H], [#6]:[#6](...</td>\n",
       "    </tr>\n",
       "    <tr>\n",
       "      <th>4</th>\n",
       "      <td>[[#6]-[#6](-[#8]-[#6](:[#6]):[#6])(-[H])-[H], ...</td>\n",
       "    </tr>\n",
       "    <tr>\n",
       "      <th>...</th>\n",
       "      <td>...</td>\n",
       "    </tr>\n",
       "    <tr>\n",
       "      <th>16129446</th>\n",
       "      <td>[[#6]-[#6](-[#8]-[#6](=[#8])-[#6](-[#6])(-[#6]...</td>\n",
       "    </tr>\n",
       "    <tr>\n",
       "      <th>16129447</th>\n",
       "      <td>[[#7]#[#6]-[#6](-[#6])(-[#8])-[H], [#6]-[#6](-...</td>\n",
       "    </tr>\n",
       "    <tr>\n",
       "      <th>16129448</th>\n",
       "      <td>[[#6](-[#7](-[#8]-[H])-[#6](-[#6])(-[#6])-[H])...</td>\n",
       "    </tr>\n",
       "    <tr>\n",
       "      <th>16129449</th>\n",
       "      <td>[[#6]:[#7](:[#6])-[#6](=[#8])-[#8-], [Li+]]</td>\n",
       "    </tr>\n",
       "    <tr>\n",
       "      <th>16129450</th>\n",
       "      <td>[[#6](-[#8]-[#6](:[#6]):[#6])(-[H])(-[H])-[H],...</td>\n",
       "    </tr>\n",
       "  </tbody>\n",
       "</table>\n",
       "<p>14848334 rows × 1 columns</p>\n",
       "</div>"
      ],
      "text/plain": [
       "                                             FragmentSmarts\n",
       "0         [[#6]-[#6](-[#6](-[#6](-[H])(-[H])-[H])(-[#9])...\n",
       "1         [[#6]-[#6](:[#7]:[#6](:[#6]):[#6]):[#6], [#6]:...\n",
       "2         [[Gd+3], [Na+], [#8-]-[#5](-[#8-])-[#8-], [Tb+3]]\n",
       "3         [[#7](-[#6](:[#6]):[#6])(-[H])-[H], [#6]:[#6](...\n",
       "4         [[#6]-[#6](-[#8]-[#6](:[#6]):[#6])(-[H])-[H], ...\n",
       "...                                                     ...\n",
       "16129446  [[#6]-[#6](-[#8]-[#6](=[#8])-[#6](-[#6])(-[#6]...\n",
       "16129447  [[#7]#[#6]-[#6](-[#6])(-[#8])-[H], [#6]-[#6](-...\n",
       "16129448  [[#6](-[#7](-[#8]-[H])-[#6](-[#6])(-[#6])-[H])...\n",
       "16129449        [[#6]:[#7](:[#6])-[#6](=[#8])-[#8-], [Li+]]\n",
       "16129450  [[#6](-[#8]-[#6](:[#6]):[#6])(-[H])(-[H])-[H],...\n",
       "\n",
       "[14848334 rows x 1 columns]"
      ]
     },
     "execution_count": 11,
     "metadata": {},
     "output_type": "execute_result"
    },
    {
     "data": {
      "text/html": [
       "<div>\n",
       "<style scoped>\n",
       "    .dataframe tbody tr th:only-of-type {\n",
       "        vertical-align: middle;\n",
       "    }\n",
       "\n",
       "    .dataframe tbody tr th {\n",
       "        vertical-align: top;\n",
       "    }\n",
       "\n",
       "    .dataframe thead th {\n",
       "        text-align: right;\n",
       "    }\n",
       "</style>\n",
       "<table border=\"1\" class=\"dataframe\">\n",
       "  <thead>\n",
       "    <tr style=\"text-align: right;\">\n",
       "      <th></th>\n",
       "      <th>FragmentSmiles</th>\n",
       "    </tr>\n",
       "  </thead>\n",
       "  <tbody>\n",
       "    <tr>\n",
       "      <th>0</th>\n",
       "      <td>[[H]C([H])([H])C(F)(C([H])([H])C)C([H])(C)Br, ...</td>\n",
       "    </tr>\n",
       "    <tr>\n",
       "      <th>1</th>\n",
       "      <td>[C:C(C):N:C(:C):C, [H]C(:C):C(F):C([H]):C, [H]...</td>\n",
       "    </tr>\n",
       "    <tr>\n",
       "      <th>2</th>\n",
       "      <td>[[Gd+3], [Na+], [O-]B([O-])[O-], [Tb+3]]</td>\n",
       "    </tr>\n",
       "    <tr>\n",
       "      <th>3</th>\n",
       "      <td>[[H]N([H])C(:C):C, [H]C(:C):C(F):C(:C)N, [H]C1...</td>\n",
       "    </tr>\n",
       "    <tr>\n",
       "      <th>4</th>\n",
       "      <td>[[H]C([H])(C)OC(:C):C, CC1:C:N:C(C):N:1, [H]C(...</td>\n",
       "    </tr>\n",
       "    <tr>\n",
       "      <th>...</th>\n",
       "      <td>...</td>\n",
       "    </tr>\n",
       "    <tr>\n",
       "      <th>16129446</th>\n",
       "      <td>[[H]C([H])(C)OC(=O)C(C)(C)P, COP(C)(=O)OC]</td>\n",
       "    </tr>\n",
       "    <tr>\n",
       "      <th>16129447</th>\n",
       "      <td>[[H]C(C)(O)C#N, [H]C([H])(C)OC(=O)C(:C):C, [H]...</td>\n",
       "    </tr>\n",
       "    <tr>\n",
       "      <th>16129448</th>\n",
       "      <td>[[H]ON(C([H])([H])[H])C([H])(C)C, [H]OC(C)(C)C...</td>\n",
       "    </tr>\n",
       "    <tr>\n",
       "      <th>16129449</th>\n",
       "      <td>[C:N(:C)C(=O)[O-], [Li+]]</td>\n",
       "    </tr>\n",
       "    <tr>\n",
       "      <th>16129450</th>\n",
       "      <td>[[H]C([H])([H])OC(:C):C, [H]C([H])(Cl)C(:C):C,...</td>\n",
       "    </tr>\n",
       "  </tbody>\n",
       "</table>\n",
       "<p>14848334 rows × 1 columns</p>\n",
       "</div>"
      ],
      "text/plain": [
       "                                             FragmentSmiles\n",
       "0         [[H]C([H])([H])C(F)(C([H])([H])C)C([H])(C)Br, ...\n",
       "1         [C:C(C):N:C(:C):C, [H]C(:C):C(F):C([H]):C, [H]...\n",
       "2                  [[Gd+3], [Na+], [O-]B([O-])[O-], [Tb+3]]\n",
       "3         [[H]N([H])C(:C):C, [H]C(:C):C(F):C(:C)N, [H]C1...\n",
       "4         [[H]C([H])(C)OC(:C):C, CC1:C:N:C(C):N:1, [H]C(...\n",
       "...                                                     ...\n",
       "16129446         [[H]C([H])(C)OC(=O)C(C)(C)P, COP(C)(=O)OC]\n",
       "16129447  [[H]C(C)(O)C#N, [H]C([H])(C)OC(=O)C(:C):C, [H]...\n",
       "16129448  [[H]ON(C([H])([H])[H])C([H])(C)C, [H]OC(C)(C)C...\n",
       "16129449                          [C:N(:C)C(=O)[O-], [Li+]]\n",
       "16129450  [[H]C([H])([H])OC(:C):C, [H]C([H])(Cl)C(:C):C,...\n",
       "\n",
       "[14848334 rows x 1 columns]"
      ]
     },
     "execution_count": 11,
     "metadata": {},
     "output_type": "execute_result"
    }
   ],
   "source": [
    "carrierfragsmartsdf\n",
    "carrierfragsmilesdf"
   ]
  },
  {
   "cell_type": "code",
   "execution_count": 193,
   "metadata": {
    "ExecuteTime": {
     "end_time": "2021-02-11T02:47:19.530585Z",
     "start_time": "2021-02-11T02:47:17.369656Z"
    }
   },
   "outputs": [
    {
     "data": {
      "text/plain": [
       ">1 Compound        481083300\n",
       "FragmentSmarts    1668926622\n",
       "Index              118786672\n",
       "Smiles            1643552196\n",
       "SubstanceID        118786672\n",
       "dtype: int64"
      ]
     },
     "execution_count": 193,
     "metadata": {},
     "output_type": "execute_result"
    }
   ],
   "source": [
    "substancedbdask2.memory_usage(deep=True).compute()"
   ]
  },
  {
   "cell_type": "markdown",
   "metadata": {},
   "source": [
    "Restarting workers after computation will free up memory"
   ]
  },
  {
   "cell_type": "code",
   "execution_count": 195,
   "metadata": {
    "ExecuteTime": {
     "end_time": "2021-02-11T02:58:21.836690Z",
     "start_time": "2021-02-11T02:58:12.670683Z"
    }
   },
   "outputs": [
    {
     "name": "stderr",
     "output_type": "stream",
     "text": [
      "distributed.nanny - WARNING - Worker process still alive after 1 seconds, killing\n",
      "distributed.nanny - WARNING - Worker process still alive after 1 seconds, killing\n",
      "distributed.nanny - WARNING - Worker process still alive after 1 seconds, killing\n",
      "distributed.nanny - WARNING - Worker process still alive after 1 seconds, killing\n",
      "distributed.nanny - WARNING - Worker process still alive after 1 seconds, killing\n",
      "distributed.nanny - WARNING - Worker process still alive after 1 seconds, killing\n",
      "distributed.nanny - WARNING - Worker process still alive after 1 seconds, killing\n",
      "distributed.nanny - WARNING - Worker process still alive after 1 seconds, killing\n",
      "distributed.nanny - WARNING - Worker process still alive after 1 seconds, killing\n",
      "distributed.nanny - WARNING - Worker process still alive after 1 seconds, killing\n",
      "distributed.nanny - WARNING - Worker process still alive after 1 seconds, killing\n",
      "distributed.nanny - WARNING - Worker process still alive after 1 seconds, killing\n",
      "distributed.nanny - WARNING - Worker process still alive after 1 seconds, killing\n",
      "distributed.nanny - WARNING - Worker process still alive after 1 seconds, killing\n",
      "distributed.nanny - WARNING - Worker process still alive after 1 seconds, killing\n",
      "distributed.nanny - WARNING - Worker process still alive after 1 seconds, killing\n",
      "distributed.nanny - WARNING - Restarting worker\n",
      "distributed.nanny - WARNING - Restarting worker\n",
      "distributed.nanny - WARNING - Restarting worker\n",
      "distributed.nanny - WARNING - Restarting worker\n",
      "distributed.nanny - WARNING - Restarting worker\n",
      "distributed.nanny - WARNING - Restarting worker\n",
      "distributed.nanny - WARNING - Restarting worker\n",
      "distributed.nanny - WARNING - Restarting worker\n",
      "distributed.nanny - WARNING - Restarting worker\n",
      "distributed.nanny - WARNING - Restarting worker\n"
     ]
    },
    {
     "data": {
      "text/html": [
       "<table style=\"border: 2px solid white;\">\n",
       "<tr>\n",
       "<td style=\"vertical-align: top; border: 0px solid white\">\n",
       "<h3 style=\"text-align: left;\">Client</h3>\n",
       "<ul style=\"text-align: left; list-style: none; margin: 0; padding: 0;\">\n",
       "  <li><b>Scheduler: </b>tcp://127.0.0.1:42117</li>\n",
       "  <li><b>Dashboard: </b><a href='http://127.0.0.1:8787/status' target='_blank'>http://127.0.0.1:8787/status</a></li>\n",
       "</ul>\n",
       "</td>\n",
       "<td style=\"vertical-align: top; border: 0px solid white\">\n",
       "<h3 style=\"text-align: left;\">Cluster</h3>\n",
       "<ul style=\"text-align: left; list-style:none; margin: 0; padding: 0;\">\n",
       "  <li><b>Workers: </b>16</li>\n",
       "  <li><b>Cores: </b>32</li>\n",
       "  <li><b>Memory: </b>67.51 GB</li>\n",
       "</ul>\n",
       "</td>\n",
       "</tr>\n",
       "</table>"
      ],
      "text/plain": [
       "<Client: 'tcp://127.0.0.1:42117' processes=0 threads=0, memory=0 B>"
      ]
     },
     "execution_count": 195,
     "metadata": {},
     "output_type": "execute_result"
    }
   ],
   "source": [
    "client.restart()"
   ]
  },
  {
   "cell_type": "markdown",
   "metadata": {},
   "source": [
    "# Assembling final dataframe"
   ]
  },
  {
   "cell_type": "code",
   "execution_count": 16,
   "metadata": {
    "ExecuteTime": {
     "end_time": "2021-02-11T04:23:20.690943Z",
     "start_time": "2021-02-11T04:23:20.673431Z"
    }
   },
   "outputs": [
    {
     "data": {
      "text/html": [
       "<div>\n",
       "<style scoped>\n",
       "    .dataframe tbody tr th:only-of-type {\n",
       "        vertical-align: middle;\n",
       "    }\n",
       "\n",
       "    .dataframe tbody tr th {\n",
       "        vertical-align: top;\n",
       "    }\n",
       "\n",
       "    .dataframe thead th {\n",
       "        text-align: right;\n",
       "    }\n",
       "</style>\n",
       "<table border=\"1\" class=\"dataframe\">\n",
       "  <thead>\n",
       "    <tr style=\"text-align: right;\">\n",
       "      <th></th>\n",
       "      <th>SubstanceID</th>\n",
       "      <th>Smiles</th>\n",
       "      <th>&gt;1 Compound</th>\n",
       "    </tr>\n",
       "  </thead>\n",
       "  <tbody>\n",
       "    <tr>\n",
       "      <th>0</th>\n",
       "      <td>6890270</td>\n",
       "      <td>CC(C)(C)[C@@H]1CC[C@@](C)(F)[C@H](Br)C1</td>\n",
       "      <td>False</td>\n",
       "    </tr>\n",
       "    <tr>\n",
       "      <th>1</th>\n",
       "      <td>27615522</td>\n",
       "      <td>Cc1cc(-c2nc3cc(F)ccc3c3cc4c(cc23)OCO4)ccc1F</td>\n",
       "      <td>False</td>\n",
       "    </tr>\n",
       "    <tr>\n",
       "      <th>2</th>\n",
       "      <td>29164535</td>\n",
       "      <td>[Gd+3].[Na+].[O-]B([O-])[O-].[Tb+3]</td>\n",
       "      <td>True</td>\n",
       "    </tr>\n",
       "    <tr>\n",
       "      <th>3</th>\n",
       "      <td>11230426</td>\n",
       "      <td>Nc1cc(F)c(N2CC(F)C2)c(F)c1</td>\n",
       "      <td>False</td>\n",
       "    </tr>\n",
       "    <tr>\n",
       "      <th>4</th>\n",
       "      <td>9019791</td>\n",
       "      <td>CCCCOc1ccc(-c2nc(-c3ccc(Cl)cc3)[nH]c2-c2ccncc2...</td>\n",
       "      <td>False</td>\n",
       "    </tr>\n",
       "    <tr>\n",
       "      <th>...</th>\n",
       "      <td>...</td>\n",
       "      <td>...</td>\n",
       "      <td>...</td>\n",
       "    </tr>\n",
       "    <tr>\n",
       "      <th>16129446</th>\n",
       "      <td>26761831</td>\n",
       "      <td>CCOC(=O)C(CC)(CC)P(=O)(OCC)OCC</td>\n",
       "      <td>False</td>\n",
       "    </tr>\n",
       "    <tr>\n",
       "      <th>16129447</th>\n",
       "      <td>3409746</td>\n",
       "      <td>N#CC(COC(=O)c1ccccc1)OC(=O)c1ccccc1</td>\n",
       "      <td>False</td>\n",
       "    </tr>\n",
       "    <tr>\n",
       "      <th>16129448</th>\n",
       "      <td>6138726</td>\n",
       "      <td>CN(O)C(CCC(C)(C)O)C1=CCCCC1</td>\n",
       "      <td>False</td>\n",
       "    </tr>\n",
       "    <tr>\n",
       "      <th>16129449</th>\n",
       "      <td>22727365</td>\n",
       "      <td>CC(C)(C)c1ccc2c(c1)c1cc(C(C)(C)C)ccc1n2C(=O)[O...</td>\n",
       "      <td>True</td>\n",
       "    </tr>\n",
       "    <tr>\n",
       "      <th>16129450</th>\n",
       "      <td>11404182</td>\n",
       "      <td>COc1ccc(CCl)cc1OCc1ccc(C(F)(F)F)cc1</td>\n",
       "      <td>False</td>\n",
       "    </tr>\n",
       "  </tbody>\n",
       "</table>\n",
       "<p>14848334 rows × 3 columns</p>\n",
       "</div>"
      ],
      "text/plain": [
       "          SubstanceID                                             Smiles  \\\n",
       "0             6890270            CC(C)(C)[C@@H]1CC[C@@](C)(F)[C@H](Br)C1   \n",
       "1            27615522        Cc1cc(-c2nc3cc(F)ccc3c3cc4c(cc23)OCO4)ccc1F   \n",
       "2            29164535                [Gd+3].[Na+].[O-]B([O-])[O-].[Tb+3]   \n",
       "3            11230426                         Nc1cc(F)c(N2CC(F)C2)c(F)c1   \n",
       "4             9019791  CCCCOc1ccc(-c2nc(-c3ccc(Cl)cc3)[nH]c2-c2ccncc2...   \n",
       "...               ...                                                ...   \n",
       "16129446     26761831                     CCOC(=O)C(CC)(CC)P(=O)(OCC)OCC   \n",
       "16129447      3409746                N#CC(COC(=O)c1ccccc1)OC(=O)c1ccccc1   \n",
       "16129448      6138726                        CN(O)C(CCC(C)(C)O)C1=CCCCC1   \n",
       "16129449     22727365  CC(C)(C)c1ccc2c(c1)c1cc(C(C)(C)C)ccc1n2C(=O)[O...   \n",
       "16129450     11404182                COc1ccc(CCl)cc1OCc1ccc(C(F)(F)F)cc1   \n",
       "\n",
       "         >1 Compound  \n",
       "0              False  \n",
       "1              False  \n",
       "2               True  \n",
       "3              False  \n",
       "4              False  \n",
       "...              ...  \n",
       "16129446       False  \n",
       "16129447       False  \n",
       "16129448       False  \n",
       "16129449        True  \n",
       "16129450       False  \n",
       "\n",
       "[14848334 rows x 3 columns]"
      ]
     },
     "execution_count": 16,
     "metadata": {},
     "output_type": "execute_result"
    }
   ],
   "source": [
    "fdbm"
   ]
  },
  {
   "cell_type": "markdown",
   "metadata": {},
   "source": [
    "Now that we have all the columns we intend to add, we can merge the fragment smarts and fragment smiles columns (exploded so each column is a new fragment), and merge the combined dataframe with the master database (fdbm). The index is set to a multiindex, containing fragment smiles and substance ID.  Keep in mind that if generating a dask dataframe from this, the index needs to be reset as dask is not compatible with multiindex. The final file is writted to disk. A test is done on 20 rows and then replicated for the entire dataset. It is hard to reshuffle data in the final database due to its size (68 million rows) or implode it back to a list form. There may be a better way to handle such large datasets (SQL for instance, but on trying this, the disk space is massive due to metadata >18 gb)."
   ]
  },
  {
   "cell_type": "code",
   "execution_count": 27,
   "metadata": {
    "ExecuteTime": {
     "end_time": "2021-02-11T04:30:39.376803Z",
     "start_time": "2021-02-11T04:30:39.370283Z"
    }
   },
   "outputs": [],
   "source": [
    "fdbmlite=fdbm.loc[:20]"
   ]
  },
  {
   "cell_type": "code",
   "execution_count": 28,
   "metadata": {
    "ExecuteTime": {
     "end_time": "2021-02-11T04:30:44.713147Z",
     "start_time": "2021-02-11T04:30:44.695040Z"
    }
   },
   "outputs": [
    {
     "data": {
      "text/html": [
       "<div>\n",
       "<style scoped>\n",
       "    .dataframe tbody tr th:only-of-type {\n",
       "        vertical-align: middle;\n",
       "    }\n",
       "\n",
       "    .dataframe tbody tr th {\n",
       "        vertical-align: top;\n",
       "    }\n",
       "\n",
       "    .dataframe thead th {\n",
       "        text-align: right;\n",
       "    }\n",
       "</style>\n",
       "<table border=\"1\" class=\"dataframe\">\n",
       "  <thead>\n",
       "    <tr style=\"text-align: right;\">\n",
       "      <th></th>\n",
       "      <th>SubstanceID</th>\n",
       "      <th>Smiles</th>\n",
       "      <th>&gt;1 Compound</th>\n",
       "    </tr>\n",
       "  </thead>\n",
       "  <tbody>\n",
       "    <tr>\n",
       "      <th>0</th>\n",
       "      <td>6890270</td>\n",
       "      <td>CC(C)(C)[C@@H]1CC[C@@](C)(F)[C@H](Br)C1</td>\n",
       "      <td>False</td>\n",
       "    </tr>\n",
       "    <tr>\n",
       "      <th>1</th>\n",
       "      <td>27615522</td>\n",
       "      <td>Cc1cc(-c2nc3cc(F)ccc3c3cc4c(cc23)OCO4)ccc1F</td>\n",
       "      <td>False</td>\n",
       "    </tr>\n",
       "    <tr>\n",
       "      <th>2</th>\n",
       "      <td>29164535</td>\n",
       "      <td>[Gd+3].[Na+].[O-]B([O-])[O-].[Tb+3]</td>\n",
       "      <td>True</td>\n",
       "    </tr>\n",
       "    <tr>\n",
       "      <th>3</th>\n",
       "      <td>11230426</td>\n",
       "      <td>Nc1cc(F)c(N2CC(F)C2)c(F)c1</td>\n",
       "      <td>False</td>\n",
       "    </tr>\n",
       "    <tr>\n",
       "      <th>4</th>\n",
       "      <td>9019791</td>\n",
       "      <td>CCCCOc1ccc(-c2nc(-c3ccc(Cl)cc3)[nH]c2-c2ccncc2...</td>\n",
       "      <td>False</td>\n",
       "    </tr>\n",
       "    <tr>\n",
       "      <th>5</th>\n",
       "      <td>4584084</td>\n",
       "      <td>CC(C)(C)OC(=O)C=C1C[N+]([O-])=C(c2ccccc2F)c2cc...</td>\n",
       "      <td>False</td>\n",
       "    </tr>\n",
       "    <tr>\n",
       "      <th>6</th>\n",
       "      <td>918811</td>\n",
       "      <td>Cc1cc([N+](=O)[O-])cc([N+](=O)[O-])c1NN</td>\n",
       "      <td>False</td>\n",
       "    </tr>\n",
       "    <tr>\n",
       "      <th>7</th>\n",
       "      <td>11185773</td>\n",
       "      <td>Cc1ccccc1CCCCCCC(=O)c1ncc(-c2ccccn2)o1</td>\n",
       "      <td>False</td>\n",
       "    </tr>\n",
       "    <tr>\n",
       "      <th>8</th>\n",
       "      <td>6156831</td>\n",
       "      <td>CCOC(=O)c1c(-c2cccc([N+](=O)[O-])c2)cc(-c2cccc...</td>\n",
       "      <td>False</td>\n",
       "    </tr>\n",
       "    <tr>\n",
       "      <th>9</th>\n",
       "      <td>9633035</td>\n",
       "      <td>CCCCCCc1cc(C)ccc1Sc1ccccc1</td>\n",
       "      <td>False</td>\n",
       "    </tr>\n",
       "    <tr>\n",
       "      <th>10</th>\n",
       "      <td>19019871</td>\n",
       "      <td>COC(OC)[C@H](NC(=O)OCc1ccccc1)[C@@H](O)[C@H](C...</td>\n",
       "      <td>False</td>\n",
       "    </tr>\n",
       "    <tr>\n",
       "      <th>11</th>\n",
       "      <td>6666213</td>\n",
       "      <td>Cc1cc(C(O)(Cc2ccccc2)C(=O)NOC2CCCCO2)c(C)s1</td>\n",
       "      <td>False</td>\n",
       "    </tr>\n",
       "    <tr>\n",
       "      <th>12</th>\n",
       "      <td>8173436</td>\n",
       "      <td>CC[C@]12CCCN3CC[C@@]4(c5ccc(OC)cc5N(C)C4[C@@](...</td>\n",
       "      <td>False</td>\n",
       "    </tr>\n",
       "    <tr>\n",
       "      <th>13</th>\n",
       "      <td>4196015</td>\n",
       "      <td>COC(=O)C(N=Cc1ccccc1)c1ccc(OC)cc1</td>\n",
       "      <td>False</td>\n",
       "    </tr>\n",
       "    <tr>\n",
       "      <th>14</th>\n",
       "      <td>11095222</td>\n",
       "      <td>CC(C)[Si](Cc1cc(-c2ccccc2)nc2ccc(Cl)cc12)(C(C)...</td>\n",
       "      <td>False</td>\n",
       "    </tr>\n",
       "    <tr>\n",
       "      <th>15</th>\n",
       "      <td>5007935</td>\n",
       "      <td>c1ccc2c(-c3ccnc4ccccc34)cccc2c1</td>\n",
       "      <td>False</td>\n",
       "    </tr>\n",
       "    <tr>\n",
       "      <th>16</th>\n",
       "      <td>10510505</td>\n",
       "      <td>CC(C)(C)[Si](C)(C)Oc1ccc2c(c1)CC[C@@H]1[C@@H]2...</td>\n",
       "      <td>False</td>\n",
       "    </tr>\n",
       "    <tr>\n",
       "      <th>17</th>\n",
       "      <td>1079085</td>\n",
       "      <td>CC1=NS(=O)(=O)c2cc(Br)cc(Br)c2N1</td>\n",
       "      <td>False</td>\n",
       "    </tr>\n",
       "    <tr>\n",
       "      <th>18</th>\n",
       "      <td>23608115</td>\n",
       "      <td>CCc1ccc(C#CC(C)(C)C#N)cc1</td>\n",
       "      <td>False</td>\n",
       "    </tr>\n",
       "  </tbody>\n",
       "</table>\n",
       "</div>"
      ],
      "text/plain": [
       "    SubstanceID                                             Smiles >1 Compound\n",
       "0       6890270            CC(C)(C)[C@@H]1CC[C@@](C)(F)[C@H](Br)C1       False\n",
       "1      27615522        Cc1cc(-c2nc3cc(F)ccc3c3cc4c(cc23)OCO4)ccc1F       False\n",
       "2      29164535                [Gd+3].[Na+].[O-]B([O-])[O-].[Tb+3]        True\n",
       "3      11230426                         Nc1cc(F)c(N2CC(F)C2)c(F)c1       False\n",
       "4       9019791  CCCCOc1ccc(-c2nc(-c3ccc(Cl)cc3)[nH]c2-c2ccncc2...       False\n",
       "5       4584084  CC(C)(C)OC(=O)C=C1C[N+]([O-])=C(c2ccccc2F)c2cc...       False\n",
       "6        918811            Cc1cc([N+](=O)[O-])cc([N+](=O)[O-])c1NN       False\n",
       "7      11185773             Cc1ccccc1CCCCCCC(=O)c1ncc(-c2ccccn2)o1       False\n",
       "8       6156831  CCOC(=O)c1c(-c2cccc([N+](=O)[O-])c2)cc(-c2cccc...       False\n",
       "9       9633035                         CCCCCCc1cc(C)ccc1Sc1ccccc1       False\n",
       "10     19019871  COC(OC)[C@H](NC(=O)OCc1ccccc1)[C@@H](O)[C@H](C...       False\n",
       "11      6666213        Cc1cc(C(O)(Cc2ccccc2)C(=O)NOC2CCCCO2)c(C)s1       False\n",
       "12      8173436  CC[C@]12CCCN3CC[C@@]4(c5ccc(OC)cc5N(C)C4[C@@](...       False\n",
       "13      4196015                  COC(=O)C(N=Cc1ccccc1)c1ccc(OC)cc1       False\n",
       "14     11095222  CC(C)[Si](Cc1cc(-c2ccccc2)nc2ccc(Cl)cc12)(C(C)...       False\n",
       "15      5007935                    c1ccc2c(-c3ccnc4ccccc34)cccc2c1       False\n",
       "16     10510505  CC(C)(C)[Si](C)(C)Oc1ccc2c(c1)CC[C@@H]1[C@@H]2...       False\n",
       "17      1079085                   CC1=NS(=O)(=O)c2cc(Br)cc(Br)c2N1       False\n",
       "18     23608115                          CCc1ccc(C#CC(C)(C)C#N)cc1       False"
      ]
     },
     "execution_count": 28,
     "metadata": {},
     "output_type": "execute_result"
    }
   ],
   "source": [
    "fdbmlite\n",
    "cfsmartslite=carrierfragsmartsdf.loc[:20]\n",
    "cfsmileslite=carrierfragsmilesdf.loc[:20]"
   ]
  },
  {
   "cell_type": "code",
   "execution_count": 45,
   "metadata": {
    "ExecuteTime": {
     "end_time": "2021-02-11T04:46:57.864580Z",
     "start_time": "2021-02-11T04:46:57.808926Z"
    }
   },
   "outputs": [
    {
     "data": {
      "text/html": [
       "<div>\n",
       "<style scoped>\n",
       "    .dataframe tbody tr th:only-of-type {\n",
       "        vertical-align: middle;\n",
       "    }\n",
       "\n",
       "    .dataframe tbody tr th {\n",
       "        vertical-align: top;\n",
       "    }\n",
       "\n",
       "    .dataframe thead th {\n",
       "        text-align: right;\n",
       "    }\n",
       "</style>\n",
       "<table border=\"1\" class=\"dataframe\">\n",
       "  <thead>\n",
       "    <tr style=\"text-align: right;\">\n",
       "      <th></th>\n",
       "      <th>SubstanceID</th>\n",
       "      <th>Smiles</th>\n",
       "      <th>&gt;1 Compound</th>\n",
       "      <th>FragmentSmarts</th>\n",
       "      <th>FragmentSmiles</th>\n",
       "    </tr>\n",
       "  </thead>\n",
       "  <tbody>\n",
       "    <tr>\n",
       "      <th>0</th>\n",
       "      <td>6890270</td>\n",
       "      <td>CC(C)(C)[C@@H]1CC[C@@](C)(F)[C@H](Br)C1</td>\n",
       "      <td>False</td>\n",
       "      <td>[#6]-[#6](-[#6](-[#6](-[H])(-[H])-[H])(-[#9])-...</td>\n",
       "      <td>[H]C([H])([H])C(F)(C([H])([H])C)C([H])(C)Br</td>\n",
       "    </tr>\n",
       "    <tr>\n",
       "      <th>0</th>\n",
       "      <td>6890270</td>\n",
       "      <td>CC(C)(C)[C@@H]1CC[C@@](C)(F)[C@H](Br)C1</td>\n",
       "      <td>False</td>\n",
       "      <td>[#6]-[#6](-[#6])(-[#9])-[#6](-[#35])(-[#6](-[#...</td>\n",
       "      <td>[H]C([H])(C)C([H])(Br)C(C)(C)F</td>\n",
       "    </tr>\n",
       "    <tr>\n",
       "      <th>1</th>\n",
       "      <td>27615522</td>\n",
       "      <td>Cc1cc(-c2nc3cc(F)ccc3c3cc4c(cc23)OCO4)ccc1F</td>\n",
       "      <td>False</td>\n",
       "      <td>[#6]-[#6](:[#7]:[#6](:[#6]):[#6]):[#6]</td>\n",
       "      <td>C:C(C):N:C(:C):C</td>\n",
       "    </tr>\n",
       "    <tr>\n",
       "      <th>1</th>\n",
       "      <td>27615522</td>\n",
       "      <td>Cc1cc(-c2nc3cc(F)ccc3c3cc4c(cc23)OCO4)ccc1F</td>\n",
       "      <td>False</td>\n",
       "      <td>[#6]:[#6](:[#6](-[#9]):[#6](:[#6])-[H])-[H]</td>\n",
       "      <td>[H]C(:C):C(F):C([H]):C</td>\n",
       "    </tr>\n",
       "    <tr>\n",
       "      <th>1</th>\n",
       "      <td>27615522</td>\n",
       "      <td>Cc1cc(-c2nc3cc(F)ccc3c3cc4c(cc23)OCO4)ccc1F</td>\n",
       "      <td>False</td>\n",
       "      <td>[#6]1:[#6]-[#8]-[#6](-[#8]-1)(-[H])-[H]</td>\n",
       "      <td>[H]C1([H])OC:CO1</td>\n",
       "    </tr>\n",
       "    <tr>\n",
       "      <th>...</th>\n",
       "      <td>...</td>\n",
       "      <td>...</td>\n",
       "      <td>...</td>\n",
       "      <td>...</td>\n",
       "      <td>...</td>\n",
       "    </tr>\n",
       "    <tr>\n",
       "      <th>17</th>\n",
       "      <td>1079085</td>\n",
       "      <td>CC1=NS(=O)(=O)c2cc(Br)cc(Br)c2N1</td>\n",
       "      <td>False</td>\n",
       "      <td>[#6](=[#7]-[#16](=[#8])=[#8])-[#7]</td>\n",
       "      <td>NC=N[SH](=O)=O</td>\n",
       "    </tr>\n",
       "    <tr>\n",
       "      <th>17</th>\n",
       "      <td>1079085</td>\n",
       "      <td>CC1=NS(=O)(=O)c2cc(Br)cc(Br)c2N1</td>\n",
       "      <td>False</td>\n",
       "      <td>[#6]:[#6](:[#6](-[#35]):[#6](:[#6])-[H])-[H]</td>\n",
       "      <td>[H]C(:C):C(Br):C([H]):C</td>\n",
       "    </tr>\n",
       "    <tr>\n",
       "      <th>17</th>\n",
       "      <td>1079085</td>\n",
       "      <td>CC1=NS(=O)(=O)c2cc(Br)cc(Br)c2N1</td>\n",
       "      <td>False</td>\n",
       "      <td>[#6]:[#6](:[#6](:[#6](:[#6])-[H])-[#35])-[#7]</td>\n",
       "      <td>[H]C(:C):C(Br):C(:C)N</td>\n",
       "    </tr>\n",
       "    <tr>\n",
       "      <th>18</th>\n",
       "      <td>23608115</td>\n",
       "      <td>CCc1ccc(C#CC(C)(C)C#N)cc1</td>\n",
       "      <td>False</td>\n",
       "      <td>[#6]-[#6](-[#6])(-[#6])-[#6]#[#7]</td>\n",
       "      <td>CC(C)(C)C#N</td>\n",
       "    </tr>\n",
       "    <tr>\n",
       "      <th>18</th>\n",
       "      <td>23608115</td>\n",
       "      <td>CCc1ccc(C#CC(C)(C)C#N)cc1</td>\n",
       "      <td>False</td>\n",
       "      <td>[#6]:[#6](-[#6]#[#6]-[#6](-[#6])(-[#6])-[#6]):...</td>\n",
       "      <td>C:C(:C)C#CC(C)(C)C</td>\n",
       "    </tr>\n",
       "  </tbody>\n",
       "</table>\n",
       "<p>64 rows × 5 columns</p>\n",
       "</div>"
      ],
      "text/plain": [
       "    SubstanceID                                       Smiles >1 Compound  \\\n",
       "0       6890270      CC(C)(C)[C@@H]1CC[C@@](C)(F)[C@H](Br)C1       False   \n",
       "0       6890270      CC(C)(C)[C@@H]1CC[C@@](C)(F)[C@H](Br)C1       False   \n",
       "1      27615522  Cc1cc(-c2nc3cc(F)ccc3c3cc4c(cc23)OCO4)ccc1F       False   \n",
       "1      27615522  Cc1cc(-c2nc3cc(F)ccc3c3cc4c(cc23)OCO4)ccc1F       False   \n",
       "1      27615522  Cc1cc(-c2nc3cc(F)ccc3c3cc4c(cc23)OCO4)ccc1F       False   \n",
       "..          ...                                          ...         ...   \n",
       "17      1079085             CC1=NS(=O)(=O)c2cc(Br)cc(Br)c2N1       False   \n",
       "17      1079085             CC1=NS(=O)(=O)c2cc(Br)cc(Br)c2N1       False   \n",
       "17      1079085             CC1=NS(=O)(=O)c2cc(Br)cc(Br)c2N1       False   \n",
       "18     23608115                    CCc1ccc(C#CC(C)(C)C#N)cc1       False   \n",
       "18     23608115                    CCc1ccc(C#CC(C)(C)C#N)cc1       False   \n",
       "\n",
       "                                       FragmentSmarts  \\\n",
       "0   [#6]-[#6](-[#6](-[#6](-[H])(-[H])-[H])(-[#9])-...   \n",
       "0   [#6]-[#6](-[#6])(-[#9])-[#6](-[#35])(-[#6](-[#...   \n",
       "1              [#6]-[#6](:[#7]:[#6](:[#6]):[#6]):[#6]   \n",
       "1         [#6]:[#6](:[#6](-[#9]):[#6](:[#6])-[H])-[H]   \n",
       "1             [#6]1:[#6]-[#8]-[#6](-[#8]-1)(-[H])-[H]   \n",
       "..                                                ...   \n",
       "17                 [#6](=[#7]-[#16](=[#8])=[#8])-[#7]   \n",
       "17       [#6]:[#6](:[#6](-[#35]):[#6](:[#6])-[H])-[H]   \n",
       "17      [#6]:[#6](:[#6](:[#6](:[#6])-[H])-[#35])-[#7]   \n",
       "18                  [#6]-[#6](-[#6])(-[#6])-[#6]#[#7]   \n",
       "18  [#6]:[#6](-[#6]#[#6]-[#6](-[#6])(-[#6])-[#6]):...   \n",
       "\n",
       "                                 FragmentSmiles  \n",
       "0   [H]C([H])([H])C(F)(C([H])([H])C)C([H])(C)Br  \n",
       "0                [H]C([H])(C)C([H])(Br)C(C)(C)F  \n",
       "1                              C:C(C):N:C(:C):C  \n",
       "1                        [H]C(:C):C(F):C([H]):C  \n",
       "1                              [H]C1([H])OC:CO1  \n",
       "..                                          ...  \n",
       "17                               NC=N[SH](=O)=O  \n",
       "17                      [H]C(:C):C(Br):C([H]):C  \n",
       "17                        [H]C(:C):C(Br):C(:C)N  \n",
       "18                                  CC(C)(C)C#N  \n",
       "18                           C:C(:C)C#CC(C)(C)C  \n",
       "\n",
       "[64 rows x 5 columns]"
      ]
     },
     "execution_count": 45,
     "metadata": {},
     "output_type": "execute_result"
    }
   ],
   "source": [
    "cfsmarts=cfsmartslite.explode('FragmentSmarts')\n",
    "cfsmarts['FragmentSmiles']=cfsmileslite.explode('FragmentSmiles')\n",
    "joindf(cfsmarts,fdbmlite)"
   ]
  },
  {
   "cell_type": "code",
   "execution_count": 40,
   "metadata": {
    "ExecuteTime": {
     "end_time": "2021-02-11T04:43:38.262644Z",
     "start_time": "2021-02-11T04:42:22.311816Z"
    }
   },
   "outputs": [],
   "source": [
    "carrierfragsmartsdf=carrierfragsmartsdf.explode('FragmentSmarts')\n",
    "carrierfragsmartsdf['FragmentSmiles']=carrierfragsmilesdf.explode('FragmentSmiles')"
   ]
  },
  {
   "cell_type": "code",
   "execution_count": 41,
   "metadata": {
    "ExecuteTime": {
     "end_time": "2021-02-11T04:43:41.683606Z",
     "start_time": "2021-02-11T04:43:41.663124Z"
    }
   },
   "outputs": [
    {
     "data": {
      "text/html": [
       "<div>\n",
       "<style scoped>\n",
       "    .dataframe tbody tr th:only-of-type {\n",
       "        vertical-align: middle;\n",
       "    }\n",
       "\n",
       "    .dataframe tbody tr th {\n",
       "        vertical-align: top;\n",
       "    }\n",
       "\n",
       "    .dataframe thead th {\n",
       "        text-align: right;\n",
       "    }\n",
       "</style>\n",
       "<table border=\"1\" class=\"dataframe\">\n",
       "  <thead>\n",
       "    <tr style=\"text-align: right;\">\n",
       "      <th></th>\n",
       "      <th>FragmentSmarts</th>\n",
       "      <th>FragmentSmiles</th>\n",
       "    </tr>\n",
       "  </thead>\n",
       "  <tbody>\n",
       "    <tr>\n",
       "      <th>0</th>\n",
       "      <td>[#6]-[#6](-[#6](-[#6](-[H])(-[H])-[H])(-[#9])-...</td>\n",
       "      <td>[H]C([H])([H])C(F)(C([H])([H])C)C([H])(C)Br</td>\n",
       "    </tr>\n",
       "    <tr>\n",
       "      <th>0</th>\n",
       "      <td>[#6]-[#6](-[#6])(-[#9])-[#6](-[#35])(-[#6](-[#...</td>\n",
       "      <td>[H]C([H])(C)C([H])(Br)C(C)(C)F</td>\n",
       "    </tr>\n",
       "    <tr>\n",
       "      <th>1</th>\n",
       "      <td>[#6]-[#6](:[#7]:[#6](:[#6]):[#6]):[#6]</td>\n",
       "      <td>C:C(C):N:C(:C):C</td>\n",
       "    </tr>\n",
       "    <tr>\n",
       "      <th>1</th>\n",
       "      <td>[#6]:[#6](:[#6](-[#9]):[#6](:[#6])-[H])-[H]</td>\n",
       "      <td>[H]C(:C):C(F):C([H]):C</td>\n",
       "    </tr>\n",
       "    <tr>\n",
       "      <th>1</th>\n",
       "      <td>[#6]1:[#6]-[#8]-[#6](-[#8]-1)(-[H])-[H]</td>\n",
       "      <td>[H]C1([H])OC:CO1</td>\n",
       "    </tr>\n",
       "    <tr>\n",
       "      <th>...</th>\n",
       "      <td>...</td>\n",
       "      <td>...</td>\n",
       "    </tr>\n",
       "    <tr>\n",
       "      <th>16129450</th>\n",
       "      <td>[#6]:[#6](-[#6](-[#17])(-[H])-[H]):[#6]</td>\n",
       "      <td>[H]C([H])(Cl)C(:C):C</td>\n",
       "    </tr>\n",
       "    <tr>\n",
       "      <th>16129450</th>\n",
       "      <td>[#6]:[#6](:[#6])-[#8]-[#6](-[#6])(-[H])-[H]</td>\n",
       "      <td>[H]C([H])(C)OC(:C):C</td>\n",
       "    </tr>\n",
       "    <tr>\n",
       "      <th>16129450</th>\n",
       "      <td>[#6]:[#6](-[#6](-[#9])(-[#9])-[#9]):[#6]</td>\n",
       "      <td>C:C(:C)C(F)(F)F</td>\n",
       "    </tr>\n",
       "    <tr>\n",
       "      <th>16129450</th>\n",
       "      <td>[#6]:[#6](-[#6](-[#9])(-[#9])-[#9]):[#6]</td>\n",
       "      <td>C:C(:C)C(F)(F)F</td>\n",
       "    </tr>\n",
       "    <tr>\n",
       "      <th>16129450</th>\n",
       "      <td>[#6]:[#6](-[#6](-[#9])(-[#9])-[#9]):[#6]</td>\n",
       "      <td>C:C(:C)C(F)(F)F</td>\n",
       "    </tr>\n",
       "  </tbody>\n",
       "</table>\n",
       "<p>68233617 rows × 2 columns</p>\n",
       "</div>"
      ],
      "text/plain": [
       "                                             FragmentSmarts  \\\n",
       "0         [#6]-[#6](-[#6](-[#6](-[H])(-[H])-[H])(-[#9])-...   \n",
       "0         [#6]-[#6](-[#6])(-[#9])-[#6](-[#35])(-[#6](-[#...   \n",
       "1                    [#6]-[#6](:[#7]:[#6](:[#6]):[#6]):[#6]   \n",
       "1               [#6]:[#6](:[#6](-[#9]):[#6](:[#6])-[H])-[H]   \n",
       "1                   [#6]1:[#6]-[#8]-[#6](-[#8]-1)(-[H])-[H]   \n",
       "...                                                     ...   \n",
       "16129450            [#6]:[#6](-[#6](-[#17])(-[H])-[H]):[#6]   \n",
       "16129450        [#6]:[#6](:[#6])-[#8]-[#6](-[#6])(-[H])-[H]   \n",
       "16129450           [#6]:[#6](-[#6](-[#9])(-[#9])-[#9]):[#6]   \n",
       "16129450           [#6]:[#6](-[#6](-[#9])(-[#9])-[#9]):[#6]   \n",
       "16129450           [#6]:[#6](-[#6](-[#9])(-[#9])-[#9]):[#6]   \n",
       "\n",
       "                                       FragmentSmiles  \n",
       "0         [H]C([H])([H])C(F)(C([H])([H])C)C([H])(C)Br  \n",
       "0                      [H]C([H])(C)C([H])(Br)C(C)(C)F  \n",
       "1                                    C:C(C):N:C(:C):C  \n",
       "1                              [H]C(:C):C(F):C([H]):C  \n",
       "1                                    [H]C1([H])OC:CO1  \n",
       "...                                               ...  \n",
       "16129450                         [H]C([H])(Cl)C(:C):C  \n",
       "16129450                         [H]C([H])(C)OC(:C):C  \n",
       "16129450                              C:C(:C)C(F)(F)F  \n",
       "16129450                              C:C(:C)C(F)(F)F  \n",
       "16129450                              C:C(:C)C(F)(F)F  \n",
       "\n",
       "[68233617 rows x 2 columns]"
      ]
     },
     "execution_count": 41,
     "metadata": {},
     "output_type": "execute_result"
    }
   ],
   "source": [
    "carrierfragsmartsdf"
   ]
  },
  {
   "cell_type": "code",
   "execution_count": 49,
   "metadata": {
    "ExecuteTime": {
     "end_time": "2021-02-11T04:49:52.189506Z",
     "start_time": "2021-02-11T04:49:48.198118Z"
    }
   },
   "outputs": [],
   "source": [
    "fdbm.drop('FragmentSmarts',axis=1,inplace=True) #Option (to clean dataframe if excess columns are already there)"
   ]
  },
  {
   "cell_type": "code",
   "execution_count": 51,
   "metadata": {
    "ExecuteTime": {
     "end_time": "2021-02-11T04:50:49.583228Z",
     "start_time": "2021-02-11T04:50:33.504912Z"
    }
   },
   "outputs": [],
   "source": [
    "fdbm=joindf(carrierfragsmartsdf,fdbm)"
   ]
  },
  {
   "cell_type": "code",
   "execution_count": 52,
   "metadata": {
    "ExecuteTime": {
     "end_time": "2021-02-11T04:50:59.745618Z",
     "start_time": "2021-02-11T04:50:59.712474Z"
    },
    "scrolled": true
   },
   "outputs": [
    {
     "data": {
      "text/html": [
       "<div>\n",
       "<style scoped>\n",
       "    .dataframe tbody tr th:only-of-type {\n",
       "        vertical-align: middle;\n",
       "    }\n",
       "\n",
       "    .dataframe tbody tr th {\n",
       "        vertical-align: top;\n",
       "    }\n",
       "\n",
       "    .dataframe thead th {\n",
       "        text-align: right;\n",
       "    }\n",
       "</style>\n",
       "<table border=\"1\" class=\"dataframe\">\n",
       "  <thead>\n",
       "    <tr style=\"text-align: right;\">\n",
       "      <th></th>\n",
       "      <th>SubstanceID</th>\n",
       "      <th>Smiles</th>\n",
       "      <th>&gt;1 Compound</th>\n",
       "      <th>FragmentSmarts</th>\n",
       "      <th>FragmentSmiles</th>\n",
       "    </tr>\n",
       "  </thead>\n",
       "  <tbody>\n",
       "    <tr>\n",
       "      <th>0</th>\n",
       "      <td>6890270</td>\n",
       "      <td>CC(C)(C)[C@@H]1CC[C@@](C)(F)[C@H](Br)C1</td>\n",
       "      <td>False</td>\n",
       "      <td>[#6]-[#6](-[#6](-[#6](-[H])(-[H])-[H])(-[#9])-...</td>\n",
       "      <td>[H]C([H])([H])C(F)(C([H])([H])C)C([H])(C)Br</td>\n",
       "    </tr>\n",
       "    <tr>\n",
       "      <th>0</th>\n",
       "      <td>6890270</td>\n",
       "      <td>CC(C)(C)[C@@H]1CC[C@@](C)(F)[C@H](Br)C1</td>\n",
       "      <td>False</td>\n",
       "      <td>[#6]-[#6](-[#6])(-[#9])-[#6](-[#35])(-[#6](-[#...</td>\n",
       "      <td>[H]C([H])(C)C([H])(Br)C(C)(C)F</td>\n",
       "    </tr>\n",
       "    <tr>\n",
       "      <th>1</th>\n",
       "      <td>27615522</td>\n",
       "      <td>Cc1cc(-c2nc3cc(F)ccc3c3cc4c(cc23)OCO4)ccc1F</td>\n",
       "      <td>False</td>\n",
       "      <td>[#6]-[#6](:[#7]:[#6](:[#6]):[#6]):[#6]</td>\n",
       "      <td>C:C(C):N:C(:C):C</td>\n",
       "    </tr>\n",
       "    <tr>\n",
       "      <th>1</th>\n",
       "      <td>27615522</td>\n",
       "      <td>Cc1cc(-c2nc3cc(F)ccc3c3cc4c(cc23)OCO4)ccc1F</td>\n",
       "      <td>False</td>\n",
       "      <td>[#6]:[#6](:[#6](-[#9]):[#6](:[#6])-[H])-[H]</td>\n",
       "      <td>[H]C(:C):C(F):C([H]):C</td>\n",
       "    </tr>\n",
       "    <tr>\n",
       "      <th>1</th>\n",
       "      <td>27615522</td>\n",
       "      <td>Cc1cc(-c2nc3cc(F)ccc3c3cc4c(cc23)OCO4)ccc1F</td>\n",
       "      <td>False</td>\n",
       "      <td>[#6]1:[#6]-[#8]-[#6](-[#8]-1)(-[H])-[H]</td>\n",
       "      <td>[H]C1([H])OC:CO1</td>\n",
       "    </tr>\n",
       "    <tr>\n",
       "      <th>...</th>\n",
       "      <td>...</td>\n",
       "      <td>...</td>\n",
       "      <td>...</td>\n",
       "      <td>...</td>\n",
       "      <td>...</td>\n",
       "    </tr>\n",
       "    <tr>\n",
       "      <th>16129450</th>\n",
       "      <td>11404182</td>\n",
       "      <td>COc1ccc(CCl)cc1OCc1ccc(C(F)(F)F)cc1</td>\n",
       "      <td>False</td>\n",
       "      <td>[#6]:[#6](-[#6](-[#17])(-[H])-[H]):[#6]</td>\n",
       "      <td>[H]C([H])(Cl)C(:C):C</td>\n",
       "    </tr>\n",
       "    <tr>\n",
       "      <th>16129450</th>\n",
       "      <td>11404182</td>\n",
       "      <td>COc1ccc(CCl)cc1OCc1ccc(C(F)(F)F)cc1</td>\n",
       "      <td>False</td>\n",
       "      <td>[#6]:[#6](:[#6])-[#8]-[#6](-[#6])(-[H])-[H]</td>\n",
       "      <td>[H]C([H])(C)OC(:C):C</td>\n",
       "    </tr>\n",
       "    <tr>\n",
       "      <th>16129450</th>\n",
       "      <td>11404182</td>\n",
       "      <td>COc1ccc(CCl)cc1OCc1ccc(C(F)(F)F)cc1</td>\n",
       "      <td>False</td>\n",
       "      <td>[#6]:[#6](-[#6](-[#9])(-[#9])-[#9]):[#6]</td>\n",
       "      <td>C:C(:C)C(F)(F)F</td>\n",
       "    </tr>\n",
       "    <tr>\n",
       "      <th>16129450</th>\n",
       "      <td>11404182</td>\n",
       "      <td>COc1ccc(CCl)cc1OCc1ccc(C(F)(F)F)cc1</td>\n",
       "      <td>False</td>\n",
       "      <td>[#6]:[#6](-[#6](-[#9])(-[#9])-[#9]):[#6]</td>\n",
       "      <td>C:C(:C)C(F)(F)F</td>\n",
       "    </tr>\n",
       "    <tr>\n",
       "      <th>16129450</th>\n",
       "      <td>11404182</td>\n",
       "      <td>COc1ccc(CCl)cc1OCc1ccc(C(F)(F)F)cc1</td>\n",
       "      <td>False</td>\n",
       "      <td>[#6]:[#6](-[#6](-[#9])(-[#9])-[#9]):[#6]</td>\n",
       "      <td>C:C(:C)C(F)(F)F</td>\n",
       "    </tr>\n",
       "  </tbody>\n",
       "</table>\n",
       "<p>68233617 rows × 5 columns</p>\n",
       "</div>"
      ],
      "text/plain": [
       "          SubstanceID                                       Smiles  \\\n",
       "0             6890270      CC(C)(C)[C@@H]1CC[C@@](C)(F)[C@H](Br)C1   \n",
       "0             6890270      CC(C)(C)[C@@H]1CC[C@@](C)(F)[C@H](Br)C1   \n",
       "1            27615522  Cc1cc(-c2nc3cc(F)ccc3c3cc4c(cc23)OCO4)ccc1F   \n",
       "1            27615522  Cc1cc(-c2nc3cc(F)ccc3c3cc4c(cc23)OCO4)ccc1F   \n",
       "1            27615522  Cc1cc(-c2nc3cc(F)ccc3c3cc4c(cc23)OCO4)ccc1F   \n",
       "...               ...                                          ...   \n",
       "16129450     11404182          COc1ccc(CCl)cc1OCc1ccc(C(F)(F)F)cc1   \n",
       "16129450     11404182          COc1ccc(CCl)cc1OCc1ccc(C(F)(F)F)cc1   \n",
       "16129450     11404182          COc1ccc(CCl)cc1OCc1ccc(C(F)(F)F)cc1   \n",
       "16129450     11404182          COc1ccc(CCl)cc1OCc1ccc(C(F)(F)F)cc1   \n",
       "16129450     11404182          COc1ccc(CCl)cc1OCc1ccc(C(F)(F)F)cc1   \n",
       "\n",
       "         >1 Compound                                     FragmentSmarts  \\\n",
       "0              False  [#6]-[#6](-[#6](-[#6](-[H])(-[H])-[H])(-[#9])-...   \n",
       "0              False  [#6]-[#6](-[#6])(-[#9])-[#6](-[#35])(-[#6](-[#...   \n",
       "1              False             [#6]-[#6](:[#7]:[#6](:[#6]):[#6]):[#6]   \n",
       "1              False        [#6]:[#6](:[#6](-[#9]):[#6](:[#6])-[H])-[H]   \n",
       "1              False            [#6]1:[#6]-[#8]-[#6](-[#8]-1)(-[H])-[H]   \n",
       "...              ...                                                ...   \n",
       "16129450       False            [#6]:[#6](-[#6](-[#17])(-[H])-[H]):[#6]   \n",
       "16129450       False        [#6]:[#6](:[#6])-[#8]-[#6](-[#6])(-[H])-[H]   \n",
       "16129450       False           [#6]:[#6](-[#6](-[#9])(-[#9])-[#9]):[#6]   \n",
       "16129450       False           [#6]:[#6](-[#6](-[#9])(-[#9])-[#9]):[#6]   \n",
       "16129450       False           [#6]:[#6](-[#6](-[#9])(-[#9])-[#9]):[#6]   \n",
       "\n",
       "                                       FragmentSmiles  \n",
       "0         [H]C([H])([H])C(F)(C([H])([H])C)C([H])(C)Br  \n",
       "0                      [H]C([H])(C)C([H])(Br)C(C)(C)F  \n",
       "1                                    C:C(C):N:C(:C):C  \n",
       "1                              [H]C(:C):C(F):C([H]):C  \n",
       "1                                    [H]C1([H])OC:CO1  \n",
       "...                                               ...  \n",
       "16129450                         [H]C([H])(Cl)C(:C):C  \n",
       "16129450                         [H]C([H])(C)OC(:C):C  \n",
       "16129450                              C:C(:C)C(F)(F)F  \n",
       "16129450                              C:C(:C)C(F)(F)F  \n",
       "16129450                              C:C(:C)C(F)(F)F  \n",
       "\n",
       "[68233617 rows x 5 columns]"
      ]
     },
     "execution_count": 52,
     "metadata": {},
     "output_type": "execute_result"
    }
   ],
   "source": [
    "fdbm"
   ]
  },
  {
   "cell_type": "code",
   "execution_count": 54,
   "metadata": {
    "ExecuteTime": {
     "end_time": "2021-02-11T04:53:04.287595Z",
     "start_time": "2021-02-11T04:53:04.279284Z"
    }
   },
   "outputs": [
    {
     "data": {
      "text/plain": [
       "Int64Index([       0,        0,        1,        1,        1,        1,\n",
       "                   2,        2,        2,        2,\n",
       "            ...\n",
       "            16129448, 16129448, 16129449, 16129449, 16129450, 16129450,\n",
       "            16129450, 16129450, 16129450, 16129450],\n",
       "           dtype='int64', length=68233617)"
      ]
     },
     "execution_count": 54,
     "metadata": {},
     "output_type": "execute_result"
    }
   ],
   "source": [
    "fdbm.index"
   ]
  },
  {
   "cell_type": "code",
   "execution_count": 55,
   "metadata": {
    "ExecuteTime": {
     "end_time": "2021-02-11T04:56:51.447772Z",
     "start_time": "2021-02-11T04:56:13.223819Z"
    }
   },
   "outputs": [],
   "source": [
    "fdbm.set_index(['FragmentSmiles','SubstanceID'],inplace=True)"
   ]
  },
  {
   "cell_type": "code",
   "execution_count": 56,
   "metadata": {
    "ExecuteTime": {
     "end_time": "2021-02-11T05:00:18.606765Z",
     "start_time": "2021-02-11T04:58:55.735684Z"
    }
   },
   "outputs": [],
   "source": [
    "writepickle(fdbm,'/home/aa2133/Impurity-Project/Reaxys_Data/CarrierFragmentDB(n=6)')"
   ]
  },
  {
   "cell_type": "markdown",
   "metadata": {},
   "source": [
    "The entire above workflow (Section 4) has been condensed into a function, `buildfragmentdb`in Section 1. Applying this function to generate the active fragment (n = 0) database"
   ]
  },
  {
   "cell_type": "code",
   "execution_count": 285,
   "metadata": {
    "ExecuteTime": {
     "end_time": "2021-01-29T10:29:46.578120Z",
     "start_time": "2021-01-29T10:26:19.265532Z"
    }
   },
   "outputs": [
    {
     "name": "stdout",
     "output_type": "stream",
     "text": [
      "Unindexed fragment database completed\n"
     ]
    }
   ],
   "source": [
    "buildfragdb(fdbm=testset,fragseries=openpickle(\"/home/aa2133/Impurity-Project/Reaxys_Data/cf_res.pickle\"),pfdb=True,writepfdb=\"/home/aa2133/Impurity-Project/Reaxys_Data/CarrierFragment(n=6)DB\")"
   ]
  },
  {
   "cell_type": "code",
   "execution_count": 302,
   "metadata": {
    "ExecuteTime": {
     "end_time": "2021-01-29T16:39:31.379292Z",
     "start_time": "2021-01-29T16:37:10.877381Z"
    }
   },
   "outputs": [
    {
     "name": "stdout",
     "output_type": "stream",
     "text": [
      "Dask fragment database created\n",
      "Dask fragment database written to file: /home/aa2133/Impurity-Project/Reaxys_Data/ActiveFragmentDBDask\n"
     ]
    }
   ],
   "source": [
    "buildfragdb(fdb=ActiveFragmentDB,dfdb=True,writedfdb='/home/aa2133/Impurity-Project/Reaxys_Data/ActiveFragmentDBDask')"
   ]
  },
  {
   "cell_type": "code",
   "execution_count": 303,
   "metadata": {
    "ExecuteTime": {
     "end_time": "2021-01-29T16:43:06.269664Z",
     "start_time": "2021-01-29T16:40:24.573916Z"
    }
   },
   "outputs": [
    {
     "name": "stdout",
     "output_type": "stream",
     "text": [
      "Dask fragment database created\n",
      "Dask fragment database written to file: /home/aa2133/Impurity-Project/Reaxys_Data/CarrierFragmentDBDask(n=6)\n"
     ]
    }
   ],
   "source": [
    "buildfragdb(fdb=CarrierFragmentDB,dfdb=True,writedfdb='/home/aa2133/Impurity-Project/Reaxys_Data/CarrierFragmentDBDask(n=6)')"
   ]
  },
  {
   "cell_type": "code",
   "execution_count": 10,
   "metadata": {
    "ExecuteTime": {
     "end_time": "2021-01-30T12:46:27.828322Z",
     "start_time": "2021-01-30T12:45:20.646873Z"
    }
   },
   "outputs": [
    {
     "name": "stdout",
     "output_type": "stream",
     "text": [
      "Pandas fragment database created\n",
      "Pandas fragment database written to file: /home/aa2133/Impurity-Project/Reaxys_Data/ActiveFragmentDB\n"
     ]
    }
   ],
   "source": [
    "buildfragdb(fdb=openpickle(\"/home/aa2133/Impurity-Project/Reaxys_Data/ActiveFragmentDB.pickle\"),pfdb=True,writepfdb=\"/home/aa2133/Impurity-Project/Reaxys_Data/ActiveFragmentDB\")"
   ]
  },
  {
   "cell_type": "code",
   "execution_count": 58,
   "metadata": {
    "ExecuteTime": {
     "end_time": "2021-02-03T18:17:42.476032Z",
     "start_time": "2021-02-03T18:17:09.523273Z"
    }
   },
   "outputs": [
    {
     "name": "stdout",
     "output_type": "stream",
     "text": [
      "Pandas fragment database written to file: /home/aa2133/Impurity-Project/Reaxys_Data/CarrierFragmentDB(n=6)\n"
     ]
    }
   ],
   "source": [
    "buildfragdb(fdb=CarrierFragmentDB,writepfdb=\"/home/aa2133/Impurity-Project/Reaxys_Data/CarrierFragmentDB(n=6)\")"
   ]
  },
  {
   "cell_type": "markdown",
   "metadata": {},
   "source": [
    "# Testing and cleaning"
   ]
  },
  {
   "cell_type": "markdown",
   "metadata": {
    "ExecuteTime": {
     "end_time": "2021-01-29T17:03:15.086262Z",
     "start_time": "2021-01-29T17:03:15.079407Z"
    }
   },
   "source": [
    "The main takeaways here are that the dask dataframe is faster on multiple tries after persisting than pandas version due to more cores able to search. Also, it is more amenable for intensive parallel computation that requires processing of each row. However, it is far more memory intensive, takes up more space (by a factor of 8 times in some cases) on disk and does not support multi-indexing. \n",
    "\n",
    "As the dask database is likely to be grouped by fragment it makes the most sense to apply it as an index (keeping in mind that creating a dask dataframe needs to be done by resetting the index or setting substance id as an index). *This is difficult, as the kernel keeps dying for some reason. For now, substance ID is kept as the index.*\n",
    "\n",
    "For the pandas dataframe, multindexing by fragment and substance ID is most effective both in reducing disk space of the database, and speed of access. If the database can be loaded to memory, pandas is preferable (Takes roughly 1.5 minutes to load)."
   ]
  },
  {
   "cell_type": "markdown",
   "metadata": {},
   "source": [
    "## Carrier Fragment Database (n=6)"
   ]
  },
  {
   "cell_type": "markdown",
   "metadata": {},
   "source": [
    "### Dask dataframe"
   ]
  },
  {
   "cell_type": "code",
   "execution_count": 106,
   "metadata": {
    "ExecuteTime": {
     "end_time": "2021-02-01T09:34:43.052337Z",
     "start_time": "2021-02-01T09:34:42.812985Z"
    }
   },
   "outputs": [],
   "source": [
    "CarrierFragmentDBDask=dd.read_parquet('/home/aa2133/Impurity-Project/Reaxys_Data/CarrierFragmentDBDask(n=6)')"
   ]
  },
  {
   "cell_type": "code",
   "execution_count": 72,
   "metadata": {
    "ExecuteTime": {
     "end_time": "2021-02-01T08:51:54.696127Z",
     "start_time": "2021-02-01T08:51:54.684189Z"
    }
   },
   "outputs": [],
   "source": [
    "CarrierFragmentDB.set_index('SubstanceID',inplace=True)"
   ]
  },
  {
   "cell_type": "code",
   "execution_count": 107,
   "metadata": {
    "ExecuteTime": {
     "end_time": "2021-02-01T09:34:58.904814Z",
     "start_time": "2021-02-01T09:34:58.811806Z"
    }
   },
   "outputs": [],
   "source": [
    "CarrierFragmentDBDask=dd.from_pandas(CarrierFragmentDB,npartitions=181)\n",
    "\n",
    "# CarrierFragmentDBDask=CarrierFragmentDBDask.repartition(partition_size=100000000)\n",
    "\n",
    "CarrierFragmentDBDask=client.persist(CarrierFragmentDBDask)"
   ]
  },
  {
   "cell_type": "code",
   "execution_count": 86,
   "metadata": {
    "ExecuteTime": {
     "end_time": "2021-02-01T09:09:33.093669Z",
     "start_time": "2021-02-01T09:09:31.830506Z"
    }
   },
   "outputs": [
    {
     "data": {
      "text/html": [
       "<div>\n",
       "<style scoped>\n",
       "    .dataframe tbody tr th:only-of-type {\n",
       "        vertical-align: middle;\n",
       "    }\n",
       "\n",
       "    .dataframe tbody tr th {\n",
       "        vertical-align: top;\n",
       "    }\n",
       "\n",
       "    .dataframe thead th {\n",
       "        text-align: right;\n",
       "    }\n",
       "</style>\n",
       "<table border=\"1\" class=\"dataframe\">\n",
       "  <thead>\n",
       "    <tr style=\"text-align: right;\">\n",
       "      <th></th>\n",
       "      <th>CarrierFragments</th>\n",
       "      <th>Smiles</th>\n",
       "    </tr>\n",
       "    <tr>\n",
       "      <th>SubstanceID</th>\n",
       "      <th></th>\n",
       "      <th></th>\n",
       "    </tr>\n",
       "  </thead>\n",
       "  <tbody>\n",
       "    <tr>\n",
       "      <th>1619</th>\n",
       "      <td>[#7](-[#6](:[#6]):[#6])(-[H])-[H]</td>\n",
       "      <td>Nc1cn[nH]c1</td>\n",
       "    </tr>\n",
       "    <tr>\n",
       "      <th>2611</th>\n",
       "      <td>[#7](-[#6](:[#6]):[#6])(-[H])-[H]</td>\n",
       "      <td>Nc1ccc2ccsc2c1</td>\n",
       "    </tr>\n",
       "    <tr>\n",
       "      <th>2798</th>\n",
       "      <td>[#7](-[#6](:[#6]):[#6])(-[H])-[H]</td>\n",
       "      <td>Nc1ccc2ccncc2c1</td>\n",
       "    </tr>\n",
       "    <tr>\n",
       "      <th>3216</th>\n",
       "      <td>[#7](-[#6](:[#6]):[#6])(-[H])-[H]</td>\n",
       "      <td>Nc1ccc2cn[nH]c2c1</td>\n",
       "    </tr>\n",
       "    <tr>\n",
       "      <th>3255</th>\n",
       "      <td>[#7](-[#6](:[#6]):[#6])(-[H])-[H]</td>\n",
       "      <td>Nc1ccc2[nH]cnc2c1</td>\n",
       "    </tr>\n",
       "    <tr>\n",
       "      <th>...</th>\n",
       "      <td>...</td>\n",
       "      <td>...</td>\n",
       "    </tr>\n",
       "    <tr>\n",
       "      <th>32937424</th>\n",
       "      <td>[#7](-[#6](:[#6]):[#6])(-[H])-[H]</td>\n",
       "      <td>Nc1c(Cl)cc(Cl)cc1Cl.O=S(=O)(O)C(F)(F)F</td>\n",
       "    </tr>\n",
       "    <tr>\n",
       "      <th>32937425</th>\n",
       "      <td>[#7](-[#6](:[#6]):[#6])(-[H])-[H]</td>\n",
       "      <td>Nc1c(Cl)c(Cl)c(Cl)c(Cl)c1Cl.O=S(=O)(O)C(F)(F)F</td>\n",
       "    </tr>\n",
       "    <tr>\n",
       "      <th>32948348</th>\n",
       "      <td>[#7](-[#6](:[#6]):[#6])(-[H])-[H]</td>\n",
       "      <td>Nc1ccccc1C(=O)Nc1cccc(O)c1</td>\n",
       "    </tr>\n",
       "    <tr>\n",
       "      <th>32964649</th>\n",
       "      <td>[#7](-[#6](:[#6]):[#6])(-[H])-[H]</td>\n",
       "      <td>Nc1cccc([S-]2[Fe+]3(N=O)(N=O)[S-](c4cccc(N)c4)...</td>\n",
       "    </tr>\n",
       "    <tr>\n",
       "      <th>32972771</th>\n",
       "      <td>[#7](-[#6](:[#6]):[#6])(-[H])-[H]</td>\n",
       "      <td>Nc1ccc(Br)cc1C#CCCCCO</td>\n",
       "    </tr>\n",
       "  </tbody>\n",
       "</table>\n",
       "<p>74582 rows × 2 columns</p>\n",
       "</div>"
      ],
      "text/plain": [
       "                              CarrierFragments  \\\n",
       "SubstanceID                                      \n",
       "1619         [#7](-[#6](:[#6]):[#6])(-[H])-[H]   \n",
       "2611         [#7](-[#6](:[#6]):[#6])(-[H])-[H]   \n",
       "2798         [#7](-[#6](:[#6]):[#6])(-[H])-[H]   \n",
       "3216         [#7](-[#6](:[#6]):[#6])(-[H])-[H]   \n",
       "3255         [#7](-[#6](:[#6]):[#6])(-[H])-[H]   \n",
       "...                                        ...   \n",
       "32937424     [#7](-[#6](:[#6]):[#6])(-[H])-[H]   \n",
       "32937425     [#7](-[#6](:[#6]):[#6])(-[H])-[H]   \n",
       "32948348     [#7](-[#6](:[#6]):[#6])(-[H])-[H]   \n",
       "32964649     [#7](-[#6](:[#6]):[#6])(-[H])-[H]   \n",
       "32972771     [#7](-[#6](:[#6]):[#6])(-[H])-[H]   \n",
       "\n",
       "                                                        Smiles  \n",
       "SubstanceID                                                     \n",
       "1619                                               Nc1cn[nH]c1  \n",
       "2611                                            Nc1ccc2ccsc2c1  \n",
       "2798                                           Nc1ccc2ccncc2c1  \n",
       "3216                                         Nc1ccc2cn[nH]c2c1  \n",
       "3255                                         Nc1ccc2[nH]cnc2c1  \n",
       "...                                                        ...  \n",
       "32937424                Nc1c(Cl)cc(Cl)cc1Cl.O=S(=O)(O)C(F)(F)F  \n",
       "32937425        Nc1c(Cl)c(Cl)c(Cl)c(Cl)c1Cl.O=S(=O)(O)C(F)(F)F  \n",
       "32948348                            Nc1ccccc1C(=O)Nc1cccc(O)c1  \n",
       "32964649     Nc1cccc([S-]2[Fe+]3(N=O)(N=O)[S-](c4cccc(N)c4)...  \n",
       "32972771                                 Nc1ccc(Br)cc1C#CCCCCO  \n",
       "\n",
       "[74582 rows x 2 columns]"
      ]
     },
     "execution_count": 86,
     "metadata": {},
     "output_type": "execute_result"
    }
   ],
   "source": [
    "CarrierFragmentDBDask.loc[CarrierFragmentDBDask['CarrierFragments']=='[#7](-[#6](:[#6]):[#6])(-[H])-[H]'].compute()"
   ]
  },
  {
   "cell_type": "code",
   "execution_count": 87,
   "metadata": {
    "ExecuteTime": {
     "end_time": "2021-02-01T09:13:02.335962Z",
     "start_time": "2021-02-01T09:11:54.243033Z"
    }
   },
   "outputs": [],
   "source": [
    "CarrierFragmentDBDask.to_parquet('/home/aa2133/Impurity-Project/Reaxys_Data/CarrierFragmentDBDask(n=6)')"
   ]
  },
  {
   "cell_type": "code",
   "execution_count": 100,
   "metadata": {
    "ExecuteTime": {
     "end_time": "2021-02-01T09:32:04.294902Z",
     "start_time": "2021-02-01T09:32:04.176536Z"
    }
   },
   "outputs": [],
   "source": [
    "CarrierFragmentDB2=openpickle('/home/aa2133/Impurity-Project/Reaxys_Data/CarrierFragmentDBDask(n=6).pickle')"
   ]
  },
  {
   "cell_type": "code",
   "execution_count": 88,
   "metadata": {
    "ExecuteTime": {
     "end_time": "2021-02-01T09:15:32.351835Z",
     "start_time": "2021-02-01T09:15:32.339996Z"
    }
   },
   "outputs": [],
   "source": [
    "writepickle(CarrierFragmentDBDask,'/home/aa2133/Impurity-Project/Reaxys_Data/CarrierFragmentDBDask(n=6)')"
   ]
  },
  {
   "cell_type": "code",
   "execution_count": 65,
   "metadata": {
    "ExecuteTime": {
     "end_time": "2021-01-29T17:56:03.346652Z",
     "start_time": "2021-01-29T17:56:02.601437Z"
    }
   },
   "outputs": [],
   "source": [
    "demoset=CarrierFragmentDBDask.loc['[#6]-[#6](=[#8])-[#8]-[#6](-[#6])=[#8]'].compute()"
   ]
  },
  {
   "cell_type": "code",
   "execution_count": 35,
   "metadata": {
    "ExecuteTime": {
     "end_time": "2021-01-29T17:29:19.476263Z",
     "start_time": "2021-01-29T17:29:18.761047Z"
    }
   },
   "outputs": [],
   "source": [
    "demoset=CarrierFragmentDBDask.loc[CarrierFragmentDBDask['CarrierFragments']=='[#6]-[#6](=[#8])-[#8]-[#6](-[#6])=[#8]'].compute()"
   ]
  },
  {
   "cell_type": "code",
   "execution_count": 73,
   "metadata": {
    "ExecuteTime": {
     "end_time": "2021-01-29T18:11:55.677000Z",
     "start_time": "2021-01-29T18:11:55.502562Z"
    }
   },
   "outputs": [
    {
     "data": {
      "text/plain": [
       "CarrierFragments\n",
       "[#6]-[#6](=[#8])-[#8]-[#6](-[#6])=[#8]    17837695\n",
       "[#6]-[#6](=[#8])-[#8]-[#6](-[#6])=[#8]    19237993\n",
       "[#6]-[#6](=[#8])-[#8]-[#6](-[#6])=[#8]     2296867\n",
       "[#6]-[#6](=[#8])-[#8]-[#6](-[#6])=[#8]     6588066\n",
       "[#6]-[#6](=[#8])-[#8]-[#6](-[#6])=[#8]     6588035\n",
       "                                            ...   \n",
       "[#6]-[#6](=[#8])-[#8]-[#6](-[#6])=[#8]    28511182\n",
       "[#6]-[#6](=[#8])-[#8]-[#6](-[#6])=[#8]    28511183\n",
       "[#6]-[#6](=[#8])-[#8]-[#6](-[#6])=[#8]     2167649\n",
       "[#6]-[#6](=[#8])-[#8]-[#6](-[#6])=[#8]    10725424\n",
       "[#6]-[#6](=[#8])-[#8]-[#6](-[#6])=[#8]    28511177\n",
       "Name: SubstanceID, Length: 252, dtype: int64"
      ]
     },
     "execution_count": 73,
     "metadata": {},
     "output_type": "execute_result"
    },
    {
     "name": "stderr",
     "output_type": "stream",
     "text": [
      "distributed.client - ERROR - Failed to reconnect to scheduler after 10.00 seconds, closing client\n",
      "_GatheringFuture exception was never retrieved\n",
      "future: <_GatheringFuture finished exception=CancelledError()>\n",
      "asyncio.exceptions.CancelledError\n"
     ]
    }
   ],
   "source": [
    "demoset['SubstanceID']"
   ]
  },
  {
   "cell_type": "code",
   "execution_count": 45,
   "metadata": {
    "ExecuteTime": {
     "end_time": "2021-01-29T17:34:09.068228Z",
     "start_time": "2021-01-29T17:34:09.045381Z"
    }
   },
   "outputs": [
    {
     "data": {
      "image/png": "[encoded data removed]",
      "text/plain": [
       "<rdkit.Chem.rdchem.Mol at 0x7fb24aa7df80>"
      ]
     },
     "execution_count": 45,
     "metadata": {},
     "output_type": "execute_result"
    }
   ],
   "source": [
    "Chem.MolFromSmiles(demoset.loc[11305,'Smiles'])"
   ]
  },
  {
   "cell_type": "code",
   "execution_count": 176,
   "metadata": {
    "ExecuteTime": {
     "end_time": "2021-01-30T11:19:26.531638Z",
     "start_time": "2021-01-30T11:19:26.492470Z"
    }
   },
   "outputs": [
    {
     "data": {
      "text/html": [
       "<div>\n",
       "<style scoped>\n",
       "    .dataframe tbody tr th:only-of-type {\n",
       "        vertical-align: middle;\n",
       "    }\n",
       "\n",
       "    .dataframe tbody tr th {\n",
       "        vertical-align: top;\n",
       "    }\n",
       "\n",
       "    .dataframe thead th {\n",
       "        text-align: right;\n",
       "    }\n",
       "</style>\n",
       "<table border=\"1\" class=\"dataframe\">\n",
       "  <thead>\n",
       "    <tr style=\"text-align: right;\">\n",
       "      <th></th>\n",
       "      <th>SubstanceID</th>\n",
       "      <th>Smiles</th>\n",
       "    </tr>\n",
       "    <tr>\n",
       "      <th>CarrierFragments</th>\n",
       "      <th></th>\n",
       "      <th></th>\n",
       "    </tr>\n",
       "  </thead>\n",
       "  <tbody>\n",
       "    <tr>\n",
       "      <th>Error</th>\n",
       "      <td>71120</td>\n",
       "      <td>C=Cc1cc(OC)c(OC)c2c1/c=c\\c1ccc(cc1)-o-c1c(c(C=...</td>\n",
       "    </tr>\n",
       "    <tr>\n",
       "      <th>Error</th>\n",
       "      <td>17645627</td>\n",
       "      <td>CN(C)Cc1ccccc1[GeH2-](c1ccccc1CN(C)C)c1ccccc1C...</td>\n",
       "    </tr>\n",
       "    <tr>\n",
       "      <th>Error</th>\n",
       "      <td>17646942</td>\n",
       "      <td>COc1ccc(C)cc1[GeH2-](c1cc(C)ccc1OC)c1cc(C)ccc1...</td>\n",
       "    </tr>\n",
       "    <tr>\n",
       "      <th>Error</th>\n",
       "      <td>17662746</td>\n",
       "      <td>C1COCCO1.[Yb+2].c1ccc([GeH2-](c2ccccc2)c2ccccc...</td>\n",
       "    </tr>\n",
       "    <tr>\n",
       "      <th>Error</th>\n",
       "      <td>17666188</td>\n",
       "      <td>[K+].c1ccc2c(c1)[GeH4-2]c1ccccc1-2</td>\n",
       "    </tr>\n",
       "    <tr>\n",
       "      <th>...</th>\n",
       "      <td>...</td>\n",
       "      <td>...</td>\n",
       "    </tr>\n",
       "    <tr>\n",
       "      <th>Error</th>\n",
       "      <td>16866207</td>\n",
       "      <td>Cl[GeH2-](Cl)Cl.[Cs+]</td>\n",
       "    </tr>\n",
       "    <tr>\n",
       "      <th>Error</th>\n",
       "      <td>16865567</td>\n",
       "      <td>Cc1ccc(P(c2ccc(C)cc2)c2ccc(C)cc2)cc1.[Ag]12345...</td>\n",
       "    </tr>\n",
       "    <tr>\n",
       "      <th>Error</th>\n",
       "      <td>17104550</td>\n",
       "      <td>COCCOC.[Ag+].c1ccc(P(c2ccccc2)c2ccccc2)cc1.c1c...</td>\n",
       "    </tr>\n",
       "    <tr>\n",
       "      <th>Error</th>\n",
       "      <td>16842273</td>\n",
       "      <td>[GeH5-].[Na+]</td>\n",
       "    </tr>\n",
       "    <tr>\n",
       "      <th>Error</th>\n",
       "      <td>16862772</td>\n",
       "      <td>COC1=CC(OC)[CH][C+](OC)=C1.Cl[GeH2-](Cl)Cl</td>\n",
       "    </tr>\n",
       "  </tbody>\n",
       "</table>\n",
       "<p>241 rows × 2 columns</p>\n",
       "</div>"
      ],
      "text/plain": [
       "                  SubstanceID  \\\n",
       "CarrierFragments                \n",
       "Error                   71120   \n",
       "Error                17645627   \n",
       "Error                17646942   \n",
       "Error                17662746   \n",
       "Error                17666188   \n",
       "...                       ...   \n",
       "Error                16866207   \n",
       "Error                16865567   \n",
       "Error                17104550   \n",
       "Error                16842273   \n",
       "Error                16862772   \n",
       "\n",
       "                                                             Smiles  \n",
       "CarrierFragments                                                     \n",
       "Error             C=Cc1cc(OC)c(OC)c2c1/c=c\\c1ccc(cc1)-o-c1c(c(C=...  \n",
       "Error             CN(C)Cc1ccccc1[GeH2-](c1ccccc1CN(C)C)c1ccccc1C...  \n",
       "Error             COc1ccc(C)cc1[GeH2-](c1cc(C)ccc1OC)c1cc(C)ccc1...  \n",
       "Error             C1COCCO1.[Yb+2].c1ccc([GeH2-](c2ccccc2)c2ccccc...  \n",
       "Error                            [K+].c1ccc2c(c1)[GeH4-2]c1ccccc1-2  \n",
       "...                                                             ...  \n",
       "Error                                         Cl[GeH2-](Cl)Cl.[Cs+]  \n",
       "Error             Cc1ccc(P(c2ccc(C)cc2)c2ccc(C)cc2)cc1.[Ag]12345...  \n",
       "Error             COCCOC.[Ag+].c1ccc(P(c2ccccc2)c2ccccc2)cc1.c1c...  \n",
       "Error                                                 [GeH5-].[Na+]  \n",
       "Error                    COC1=CC(OC)[CH][C+](OC)=C1.Cl[GeH2-](Cl)Cl  \n",
       "\n",
       "[241 rows x 2 columns]"
      ]
     },
     "execution_count": 176,
     "metadata": {},
     "output_type": "execute_result"
    }
   ],
   "source": [
    "CarrierFragmentDBDask2.loc['Error'].compute()"
   ]
  },
  {
   "cell_type": "code",
   "execution_count": 175,
   "metadata": {
    "ExecuteTime": {
     "end_time": "2021-01-30T11:19:23.475167Z",
     "start_time": "2021-01-30T11:19:22.689173Z"
    }
   },
   "outputs": [
    {
     "data": {
      "text/html": [
       "<div>\n",
       "<style scoped>\n",
       "    .dataframe tbody tr th:only-of-type {\n",
       "        vertical-align: middle;\n",
       "    }\n",
       "\n",
       "    .dataframe tbody tr th {\n",
       "        vertical-align: top;\n",
       "    }\n",
       "\n",
       "    .dataframe thead th {\n",
       "        text-align: right;\n",
       "    }\n",
       "</style>\n",
       "<table border=\"1\" class=\"dataframe\">\n",
       "  <thead>\n",
       "    <tr style=\"text-align: right;\">\n",
       "      <th></th>\n",
       "      <th>CarrierFragments</th>\n",
       "      <th>Smiles</th>\n",
       "    </tr>\n",
       "    <tr>\n",
       "      <th>SubstanceID</th>\n",
       "      <th></th>\n",
       "      <th></th>\n",
       "    </tr>\n",
       "  </thead>\n",
       "  <tbody>\n",
       "    <tr>\n",
       "      <th>71120</th>\n",
       "      <td>Error</td>\n",
       "      <td>C=Cc1cc(OC)c(OC)c2c1/c=c\\c1ccc(cc1)-o-c1c(c(C=...</td>\n",
       "    </tr>\n",
       "    <tr>\n",
       "      <th>2020777</th>\n",
       "      <td>Error</td>\n",
       "      <td>c1=c\\c2ccc(c3ccccc23)/c=c\\c2ccc(cc2)/c=c\\c2ccc...</td>\n",
       "    </tr>\n",
       "    <tr>\n",
       "      <th>2566174</th>\n",
       "      <td>Error</td>\n",
       "      <td>c1=c\\c2ccccc2/c=c\\c2ccc(cc2)/c=c\\c2ccccc2/c=c\\...</td>\n",
       "    </tr>\n",
       "    <tr>\n",
       "      <th>2566175</th>\n",
       "      <td>Error</td>\n",
       "      <td>c1=c\\c2ccccc2/c=c\\c2ccc(cc2)/c=c/c2ccccc2/c=c\\...</td>\n",
       "    </tr>\n",
       "    <tr>\n",
       "      <th>2642603</th>\n",
       "      <td>Error</td>\n",
       "      <td>c1=c\\c2ccc(cc2)-c2ccccc2-c2ccc/1cc2</td>\n",
       "    </tr>\n",
       "    <tr>\n",
       "      <th>...</th>\n",
       "      <td>...</td>\n",
       "      <td>...</td>\n",
       "    </tr>\n",
       "    <tr>\n",
       "      <th>32826420</th>\n",
       "      <td>Error</td>\n",
       "      <td>C1CCOC1.C[Si](C)(C)[GeH2-]([Si](C)(C)C)[Si](C)...</td>\n",
       "    </tr>\n",
       "    <tr>\n",
       "      <th>32826421</th>\n",
       "      <td>Error</td>\n",
       "      <td>C1CCOC1.C[Si](C)(C)[GeH2-]([Si](C)(C)C)[Si](C)...</td>\n",
       "    </tr>\n",
       "    <tr>\n",
       "      <th>32826422</th>\n",
       "      <td>Error</td>\n",
       "      <td>CN(C)CCN(C)C.C[Si](C)(C)[GeH2-]([Si](C)(C)C)[S...</td>\n",
       "    </tr>\n",
       "    <tr>\n",
       "      <th>32839723</th>\n",
       "      <td>Error</td>\n",
       "      <td>CC(C)(C)C1=[GeH2-]C=CC=C1.[Li+]</td>\n",
       "    </tr>\n",
       "    <tr>\n",
       "      <th>32839724</th>\n",
       "      <td>Error</td>\n",
       "      <td>CC(C)(C)C1=[GeH2-]C=CC=C1.[Na+]</td>\n",
       "    </tr>\n",
       "  </tbody>\n",
       "</table>\n",
       "<p>241 rows × 2 columns</p>\n",
       "</div>"
      ],
      "text/plain": [
       "            CarrierFragments  \\\n",
       "SubstanceID                    \n",
       "71120                  Error   \n",
       "2020777                Error   \n",
       "2566174                Error   \n",
       "2566175                Error   \n",
       "2642603                Error   \n",
       "...                      ...   \n",
       "32826420               Error   \n",
       "32826421               Error   \n",
       "32826422               Error   \n",
       "32839723               Error   \n",
       "32839724               Error   \n",
       "\n",
       "                                                        Smiles  \n",
       "SubstanceID                                                     \n",
       "71120        C=Cc1cc(OC)c(OC)c2c1/c=c\\c1ccc(cc1)-o-c1c(c(C=...  \n",
       "2020777      c1=c\\c2ccc(c3ccccc23)/c=c\\c2ccc(cc2)/c=c\\c2ccc...  \n",
       "2566174      c1=c\\c2ccccc2/c=c\\c2ccc(cc2)/c=c\\c2ccccc2/c=c\\...  \n",
       "2566175      c1=c\\c2ccccc2/c=c\\c2ccc(cc2)/c=c/c2ccccc2/c=c\\...  \n",
       "2642603                    c1=c\\c2ccc(cc2)-c2ccccc2-c2ccc/1cc2  \n",
       "...                                                        ...  \n",
       "32826420     C1CCOC1.C[Si](C)(C)[GeH2-]([Si](C)(C)C)[Si](C)...  \n",
       "32826421     C1CCOC1.C[Si](C)(C)[GeH2-]([Si](C)(C)C)[Si](C)...  \n",
       "32826422     CN(C)CCN(C)C.C[Si](C)(C)[GeH2-]([Si](C)(C)C)[S...  \n",
       "32839723                       CC(C)(C)C1=[GeH2-]C=CC=C1.[Li+]  \n",
       "32839724                       CC(C)(C)C1=[GeH2-]C=CC=C1.[Na+]  \n",
       "\n",
       "[241 rows x 2 columns]"
      ]
     },
     "execution_count": 175,
     "metadata": {},
     "output_type": "execute_result"
    }
   ],
   "source": [
    "CarrierFragmentDBDask.loc[CarrierFragmentDBDask['CarrierFragments']=='Error'].compute()"
   ]
  },
  {
   "cell_type": "code",
   "execution_count": 168,
   "metadata": {
    "ExecuteTime": {
     "end_time": "2021-01-30T11:12:32.388518Z",
     "start_time": "2021-01-30T11:12:32.130181Z"
    }
   },
   "outputs": [
    {
     "data": {
      "text/html": [
       "<div>\n",
       "<style scoped>\n",
       "    .dataframe tbody tr th:only-of-type {\n",
       "        vertical-align: middle;\n",
       "    }\n",
       "\n",
       "    .dataframe tbody tr th {\n",
       "        vertical-align: top;\n",
       "    }\n",
       "\n",
       "    .dataframe thead th {\n",
       "        text-align: right;\n",
       "    }\n",
       "</style>\n",
       "<table border=\"1\" class=\"dataframe\">\n",
       "  <thead>\n",
       "    <tr style=\"text-align: right;\">\n",
       "      <th></th>\n",
       "      <th>CarrierFragments</th>\n",
       "      <th>Smiles</th>\n",
       "    </tr>\n",
       "    <tr>\n",
       "      <th>SubstanceID</th>\n",
       "      <th></th>\n",
       "      <th></th>\n",
       "    </tr>\n",
       "  </thead>\n",
       "  <tbody>\n",
       "    <tr>\n",
       "      <th>71120</th>\n",
       "      <td>Error</td>\n",
       "      <td>C=Cc1cc(OC)c(OC)c2c1/c=c\\c1ccc(cc1)-o-c1c(c(C=...</td>\n",
       "    </tr>\n",
       "    <tr>\n",
       "      <th>71121</th>\n",
       "      <td>[#7](-[#6](:[#6]):[#7])(-[H])-[H]</td>\n",
       "      <td>Nc1c(C(=O)O)nnn1-c1ccc(S(=O)(=O)c2ccc(-n3nnc(C...</td>\n",
       "    </tr>\n",
       "    <tr>\n",
       "      <th>71121</th>\n",
       "      <td>[#6]:[#6](-[#6](=[#8])-[#8]-[H]):[#7]</td>\n",
       "      <td>Nc1c(C(=O)O)nnn1-c1ccc(S(=O)(=O)c2ccc(-n3nnc(C...</td>\n",
       "    </tr>\n",
       "    <tr>\n",
       "      <th>71121</th>\n",
       "      <td>[#6]1:[#6]:[#7]:[#7]:[#7]:1-[#6]</td>\n",
       "      <td>Nc1c(C(=O)O)nnn1-c1ccc(S(=O)(=O)c2ccc(-n3nnc(C...</td>\n",
       "    </tr>\n",
       "    <tr>\n",
       "      <th>71121</th>\n",
       "      <td>[#6]:[#6](-[#16](=[#8])(=[#8])-[#6](:[#6]):[#6...</td>\n",
       "      <td>Nc1c(C(=O)O)nnn1-c1ccc(S(=O)(=O)c2ccc(-n3nnc(C...</td>\n",
       "    </tr>\n",
       "    <tr>\n",
       "      <th>...</th>\n",
       "      <td>...</td>\n",
       "      <td>...</td>\n",
       "    </tr>\n",
       "    <tr>\n",
       "      <th>72999</th>\n",
       "      <td>[#6]1(-[#6]):[#7]:[#6](:[#6]):[#6]:[#7]:1</td>\n",
       "      <td>CC(=O)OC[C@@H](OC(C)=O)[C@H](OC(C)=O)[C@H](OC(...</td>\n",
       "    </tr>\n",
       "    <tr>\n",
       "      <th>72999</th>\n",
       "      <td>[#6]:[#7](:[#6])-[#6](-[#6])=[#8]</td>\n",
       "      <td>CC(=O)OC[C@@H](OC(C)=O)[C@H](OC(C)=O)[C@H](OC(...</td>\n",
       "    </tr>\n",
       "    <tr>\n",
       "      <th>73000</th>\n",
       "      <td>[#6]-[#6](-[#8]-[#6](=[#8])-[#6](:[#6]):[#6])(...</td>\n",
       "      <td>C[C@H]1CC[C@@H]2[C@@H](C)[C@H]3[C@H](C[C@H]4[C...</td>\n",
       "    </tr>\n",
       "    <tr>\n",
       "      <th>73000</th>\n",
       "      <td>[#6]-[#6]1(-[#6]-[#6]-[#6](-[#6])(-[#7]-1-[#6]...</td>\n",
       "      <td>C[C@H]1CC[C@@H]2[C@@H](C)[C@H]3[C@H](C[C@H]4[C...</td>\n",
       "    </tr>\n",
       "    <tr>\n",
       "      <th>73000</th>\n",
       "      <td>[#6]-[#6](-[#8]-[#6](=[#8])-[#6](:[#6]):[#6])(...</td>\n",
       "      <td>C[C@H]1CC[C@@H]2[C@@H](C)[C@H]3[C@H](C[C@H]4[C...</td>\n",
       "    </tr>\n",
       "  </tbody>\n",
       "</table>\n",
       "<p>8188 rows × 2 columns</p>\n",
       "</div>"
      ],
      "text/plain": [
       "                                              CarrierFragments  \\\n",
       "SubstanceID                                                      \n",
       "71120                                                    Error   \n",
       "71121                        [#7](-[#6](:[#6]):[#7])(-[H])-[H]   \n",
       "71121                    [#6]:[#6](-[#6](=[#8])-[#8]-[H]):[#7]   \n",
       "71121                         [#6]1:[#6]:[#7]:[#7]:[#7]:1-[#6]   \n",
       "71121        [#6]:[#6](-[#16](=[#8])(=[#8])-[#6](:[#6]):[#6...   \n",
       "...                                                        ...   \n",
       "72999                [#6]1(-[#6]):[#7]:[#6](:[#6]):[#6]:[#7]:1   \n",
       "72999                        [#6]:[#7](:[#6])-[#6](-[#6])=[#8]   \n",
       "73000        [#6]-[#6](-[#8]-[#6](=[#8])-[#6](:[#6]):[#6])(...   \n",
       "73000        [#6]-[#6]1(-[#6]-[#6]-[#6](-[#6])(-[#7]-1-[#6]...   \n",
       "73000        [#6]-[#6](-[#8]-[#6](=[#8])-[#6](:[#6]):[#6])(...   \n",
       "\n",
       "                                                        Smiles  \n",
       "SubstanceID                                                     \n",
       "71120        C=Cc1cc(OC)c(OC)c2c1/c=c\\c1ccc(cc1)-o-c1c(c(C=...  \n",
       "71121        Nc1c(C(=O)O)nnn1-c1ccc(S(=O)(=O)c2ccc(-n3nnc(C...  \n",
       "71121        Nc1c(C(=O)O)nnn1-c1ccc(S(=O)(=O)c2ccc(-n3nnc(C...  \n",
       "71121        Nc1c(C(=O)O)nnn1-c1ccc(S(=O)(=O)c2ccc(-n3nnc(C...  \n",
       "71121        Nc1c(C(=O)O)nnn1-c1ccc(S(=O)(=O)c2ccc(-n3nnc(C...  \n",
       "...                                                        ...  \n",
       "72999        CC(=O)OC[C@@H](OC(C)=O)[C@H](OC(C)=O)[C@H](OC(...  \n",
       "72999        CC(=O)OC[C@@H](OC(C)=O)[C@H](OC(C)=O)[C@H](OC(...  \n",
       "73000        C[C@H]1CC[C@@H]2[C@@H](C)[C@H]3[C@H](C[C@H]4[C...  \n",
       "73000        C[C@H]1CC[C@@H]2[C@@H](C)[C@H]3[C@H](C[C@H]4[C...  \n",
       "73000        C[C@H]1CC[C@@H]2[C@@H](C)[C@H]3[C@H](C[C@H]4[C...  \n",
       "\n",
       "[8188 rows x 2 columns]"
      ]
     },
     "execution_count": 168,
     "metadata": {},
     "output_type": "execute_result"
    }
   ],
   "source": [
    "CarrierFragmentDBDask.loc[71120:73000].compute()"
   ]
  },
  {
   "cell_type": "code",
   "execution_count": 32,
   "metadata": {
    "ExecuteTime": {
     "end_time": "2021-01-29T17:13:27.787399Z",
     "start_time": "2021-01-29T17:13:27.780678Z"
    }
   },
   "outputs": [
    {
     "data": {
      "text/plain": [
       "True"
      ]
     },
     "execution_count": 32,
     "metadata": {},
     "output_type": "execute_result"
    }
   ],
   "source": [
    "CarrierFragmentDBDask.known_divisions"
   ]
  },
  {
   "cell_type": "markdown",
   "metadata": {},
   "source": [
    "### Pandas dataframe"
   ]
  },
  {
   "cell_type": "code",
   "execution_count": 15,
   "metadata": {
    "ExecuteTime": {
     "end_time": "2021-02-03T17:01:49.474820Z",
     "start_time": "2021-02-03T17:01:38.939319Z"
    }
   },
   "outputs": [],
   "source": [
    "CarrierFragmentDB=openpickle(\"/home/aa2133/Impurity-Project/Reaxys_Data/CarrierFragmentDB(n=6).pickle\")"
   ]
  },
  {
   "cell_type": "code",
   "execution_count": 16,
   "metadata": {
    "ExecuteTime": {
     "end_time": "2021-02-03T17:02:12.768687Z",
     "start_time": "2021-02-03T17:02:09.225962Z"
    }
   },
   "outputs": [],
   "source": [
    "CarrierFragmentDB.reset_index(inplace=True)"
   ]
  },
  {
   "cell_type": "code",
   "execution_count": 26,
   "metadata": {
    "ExecuteTime": {
     "end_time": "2021-02-03T17:37:17.273774Z",
     "start_time": "2021-02-03T17:37:17.257928Z"
    }
   },
   "outputs": [],
   "source": [
    "CarrierFragmentDBDask=CarrierFragmentDBDask.rename(columns={'CarrierFragments':'CarrierFragmentSmarts'})"
   ]
  },
  {
   "cell_type": "code",
   "execution_count": 32,
   "metadata": {
    "ExecuteTime": {
     "end_time": "2021-02-03T17:41:29.472002Z",
     "start_time": "2021-02-03T17:41:29.439029Z"
    }
   },
   "outputs": [
    {
     "data": {
      "text/html": [
       "<div><strong>Dask DataFrame Structure:</strong></div>\n",
       "<div>\n",
       "<style scoped>\n",
       "    .dataframe tbody tr th:only-of-type {\n",
       "        vertical-align: middle;\n",
       "    }\n",
       "\n",
       "    .dataframe tbody tr th {\n",
       "        vertical-align: top;\n",
       "    }\n",
       "\n",
       "    .dataframe thead th {\n",
       "        text-align: right;\n",
       "    }\n",
       "</style>\n",
       "<table border=\"1\" class=\"dataframe\">\n",
       "  <thead>\n",
       "    <tr style=\"text-align: right;\">\n",
       "      <th></th>\n",
       "      <th>CarrierFragmentSmarts</th>\n",
       "      <th>SubstanceID</th>\n",
       "      <th>Smiles</th>\n",
       "    </tr>\n",
       "    <tr>\n",
       "      <th>npartitions=181</th>\n",
       "      <th></th>\n",
       "      <th></th>\n",
       "      <th></th>\n",
       "    </tr>\n",
       "  </thead>\n",
       "  <tbody>\n",
       "    <tr>\n",
       "      <th>0</th>\n",
       "      <td>object</td>\n",
       "      <td>int64</td>\n",
       "      <td>object</td>\n",
       "    </tr>\n",
       "    <tr>\n",
       "      <th>356629</th>\n",
       "      <td>...</td>\n",
       "      <td>...</td>\n",
       "      <td>...</td>\n",
       "    </tr>\n",
       "    <tr>\n",
       "      <th>...</th>\n",
       "      <td>...</td>\n",
       "      <td>...</td>\n",
       "      <td>...</td>\n",
       "    </tr>\n",
       "    <tr>\n",
       "      <th>64193220</th>\n",
       "      <td>...</td>\n",
       "      <td>...</td>\n",
       "      <td>...</td>\n",
       "    </tr>\n",
       "    <tr>\n",
       "      <th>64549676</th>\n",
       "      <td>...</td>\n",
       "      <td>...</td>\n",
       "      <td>...</td>\n",
       "    </tr>\n",
       "  </tbody>\n",
       "</table>\n",
       "</div>\n",
       "<div>Dask Name: rename, 181 tasks</div>"
      ],
      "text/plain": [
       "Dask DataFrame Structure:\n",
       "                CarrierFragmentSmarts SubstanceID  Smiles\n",
       "npartitions=181                                          \n",
       "0                              object       int64  object\n",
       "356629                            ...         ...     ...\n",
       "...                               ...         ...     ...\n",
       "64193220                          ...         ...     ...\n",
       "64549676                          ...         ...     ...\n",
       "Dask Name: rename, 181 tasks"
      ]
     },
     "execution_count": 32,
     "metadata": {},
     "output_type": "execute_result"
    }
   ],
   "source": [
    "CarrierFragmentDBDask"
   ]
  },
  {
   "cell_type": "markdown",
   "metadata": {},
   "source": [
    "For information on meta types see https://www.geeksforgeeks.org/data-type-object-dtype-numpy-python/. For how to use it on dask, see make_meta under dask dataframe API"
   ]
  },
  {
   "cell_type": "code",
   "execution_count": 182,
   "metadata": {
    "ExecuteTime": {
     "end_time": "2021-02-09T06:15:02.630227Z",
     "start_time": "2021-02-09T06:15:02.581412Z"
    }
   },
   "outputs": [
    {
     "name": "stdout",
     "output_type": "stream",
     "text": [
      "Help on class dtype in module numpy:\n",
      "\n",
      "class dtype(builtins.object)\n",
      " |  dtype(obj, align=False, copy=False)\n",
      " |  \n",
      " |  Create a data type object.\n",
      " |  \n",
      " |  A numpy array is homogeneous, and contains elements described by a\n",
      " |  dtype object. A dtype object can be constructed from different\n",
      " |  combinations of fundamental numeric types.\n",
      " |  \n",
      " |  Parameters\n",
      " |  ----------\n",
      " |  obj\n",
      " |      Object to be converted to a data type object.\n",
      " |  align : bool, optional\n",
      " |      Add padding to the fields to match what a C compiler would output\n",
      " |      for a similar C-struct. Can be ``True`` only if `obj` is a dictionary\n",
      " |      or a comma-separated string. If a struct dtype is being created,\n",
      " |      this also sets a sticky alignment flag ``isalignedstruct``.\n",
      " |  copy : bool, optional\n",
      " |      Make a new copy of the data-type object. If ``False``, the result\n",
      " |      may just be a reference to a built-in data-type object.\n",
      " |  \n",
      " |  See also\n",
      " |  --------\n",
      " |  result_type\n",
      " |  \n",
      " |  Examples\n",
      " |  --------\n",
      " |  Using array-scalar type:\n",
      " |  \n",
      " |  >>> np.dtype(np.int16)\n",
      " |  dtype('int16')\n",
      " |  \n",
      " |  Structured type, one field name 'f1', containing int16:\n",
      " |  \n",
      " |  >>> np.dtype([('f1', np.int16)])\n",
      " |  dtype([('f1', '<i2')])\n",
      " |  \n",
      " |  Structured type, one field named 'f1', in itself containing a structured\n",
      " |  type with one field:\n",
      " |  \n",
      " |  >>> np.dtype([('f1', [('f1', np.int16)])])\n",
      " |  dtype([('f1', [('f1', '<i2')])])\n",
      " |  \n",
      " |  Structured type, two fields: the first field contains an unsigned int, the\n",
      " |  second an int32:\n",
      " |  \n",
      " |  >>> np.dtype([('f1', np.uint64), ('f2', np.int32)])\n",
      " |  dtype([('f1', '<u8'), ('f2', '<i4')])\n",
      " |  \n",
      " |  Using array-protocol type strings:\n",
      " |  \n",
      " |  >>> np.dtype([('a','f8'),('b','S10')])\n",
      " |  dtype([('a', '<f8'), ('b', 'S10')])\n",
      " |  \n",
      " |  Using comma-separated field formats.  The shape is (2,3):\n",
      " |  \n",
      " |  >>> np.dtype(\"i4, (2,3)f8\")\n",
      " |  dtype([('f0', '<i4'), ('f1', '<f8', (2, 3))])\n",
      " |  \n",
      " |  Using tuples.  ``int`` is a fixed type, 3 the field's shape.  ``void``\n",
      " |  is a flexible type, here of size 10:\n",
      " |  \n",
      " |  >>> np.dtype([('hello',(np.int64,3)),('world',np.void,10)])\n",
      " |  dtype([('hello', '<i8', (3,)), ('world', 'V10')])\n",
      " |  \n",
      " |  Subdivide ``int16`` into 2 ``int8``'s, called x and y.  0 and 1 are\n",
      " |  the offsets in bytes:\n",
      " |  \n",
      " |  >>> np.dtype((np.int16, {'x':(np.int8,0), 'y':(np.int8,1)}))\n",
      " |  dtype((numpy.int16, [('x', 'i1'), ('y', 'i1')]))\n",
      " |  \n",
      " |  Using dictionaries.  Two fields named 'gender' and 'age':\n",
      " |  \n",
      " |  >>> np.dtype({'names':['gender','age'], 'formats':['S1',np.uint8]})\n",
      " |  dtype([('gender', 'S1'), ('age', 'u1')])\n",
      " |  \n",
      " |  Offsets in bytes, here 0 and 25:\n",
      " |  \n",
      " |  >>> np.dtype({'surname':('S25',0),'age':(np.uint8,25)})\n",
      " |  dtype([('surname', 'S25'), ('age', 'u1')])\n",
      " |  \n",
      " |  Methods defined here:\n",
      " |  \n",
      " |  __bool__(self, /)\n",
      " |      self != 0\n",
      " |  \n",
      " |  __eq__(self, value, /)\n",
      " |      Return self==value.\n",
      " |  \n",
      " |  __ge__(self, value, /)\n",
      " |      Return self>=value.\n",
      " |  \n",
      " |  __getitem__(self, key, /)\n",
      " |      Return self[key].\n",
      " |  \n",
      " |  __gt__(self, value, /)\n",
      " |      Return self>value.\n",
      " |  \n",
      " |  __hash__(self, /)\n",
      " |      Return hash(self).\n",
      " |  \n",
      " |  __le__(self, value, /)\n",
      " |      Return self<=value.\n",
      " |  \n",
      " |  __len__(self, /)\n",
      " |      Return len(self).\n",
      " |  \n",
      " |  __lt__(self, value, /)\n",
      " |      Return self<value.\n",
      " |  \n",
      " |  __mul__(self, value, /)\n",
      " |      Return self*value.\n",
      " |  \n",
      " |  __ne__(self, value, /)\n",
      " |      Return self!=value.\n",
      " |  \n",
      " |  __reduce__(...)\n",
      " |      Helper for pickle.\n",
      " |  \n",
      " |  __repr__(self, /)\n",
      " |      Return repr(self).\n",
      " |  \n",
      " |  __rmul__(self, value, /)\n",
      " |      Return value*self.\n",
      " |  \n",
      " |  __setstate__(...)\n",
      " |  \n",
      " |  __str__(self, /)\n",
      " |      Return str(self).\n",
      " |  \n",
      " |  newbyteorder(...)\n",
      " |      newbyteorder(new_order='S')\n",
      " |      \n",
      " |      Return a new dtype with a different byte order.\n",
      " |      \n",
      " |      Changes are also made in all fields and sub-arrays of the data type.\n",
      " |      \n",
      " |      Parameters\n",
      " |      ----------\n",
      " |      new_order : string, optional\n",
      " |          Byte order to force; a value from the byte order specifications\n",
      " |          below.  The default value ('S') results in swapping the current\n",
      " |          byte order.  `new_order` codes can be any of:\n",
      " |      \n",
      " |          * 'S' - swap dtype from current to opposite endian\n",
      " |          * {'<', 'L'} - little endian\n",
      " |          * {'>', 'B'} - big endian\n",
      " |          * {'=', 'N'} - native order\n",
      " |          * {'|', 'I'} - ignore (no change to byte order)\n",
      " |      \n",
      " |          The code does a case-insensitive check on the first letter of\n",
      " |          `new_order` for these alternatives.  For example, any of '>'\n",
      " |          or 'B' or 'b' or 'brian' are valid to specify big-endian.\n",
      " |      \n",
      " |      Returns\n",
      " |      -------\n",
      " |      new_dtype : dtype\n",
      " |          New dtype object with the given change to the byte order.\n",
      " |      \n",
      " |      Notes\n",
      " |      -----\n",
      " |      Changes are also made in all fields and sub-arrays of the data type.\n",
      " |      \n",
      " |      Examples\n",
      " |      --------\n",
      " |      >>> import sys\n",
      " |      >>> sys_is_le = sys.byteorder == 'little'\n",
      " |      >>> native_code = sys_is_le and '<' or '>'\n",
      " |      >>> swapped_code = sys_is_le and '>' or '<'\n",
      " |      >>> native_dt = np.dtype(native_code+'i2')\n",
      " |      >>> swapped_dt = np.dtype(swapped_code+'i2')\n",
      " |      >>> native_dt.newbyteorder('S') == swapped_dt\n",
      " |      True\n",
      " |      >>> native_dt.newbyteorder() == swapped_dt\n",
      " |      True\n",
      " |      >>> native_dt == swapped_dt.newbyteorder('S')\n",
      " |      True\n",
      " |      >>> native_dt == swapped_dt.newbyteorder('=')\n",
      " |      True\n",
      " |      >>> native_dt == swapped_dt.newbyteorder('N')\n",
      " |      True\n",
      " |      >>> native_dt == native_dt.newbyteorder('|')\n",
      " |      True\n",
      " |      >>> np.dtype('<i2') == native_dt.newbyteorder('<')\n",
      " |      True\n",
      " |      >>> np.dtype('<i2') == native_dt.newbyteorder('L')\n",
      " |      True\n",
      " |      >>> np.dtype('>i2') == native_dt.newbyteorder('>')\n",
      " |      True\n",
      " |      >>> np.dtype('>i2') == native_dt.newbyteorder('B')\n",
      " |      True\n",
      " |  \n",
      " |  ----------------------------------------------------------------------\n",
      " |  Static methods defined here:\n",
      " |  \n",
      " |  __new__(*args, **kwargs) from builtins.type\n",
      " |      Create and return a new object.  See help(type) for accurate signature.\n",
      " |  \n",
      " |  ----------------------------------------------------------------------\n",
      " |  Data descriptors defined here:\n",
      " |  \n",
      " |  alignment\n",
      " |      The required alignment (bytes) of this data-type according to the compiler.\n",
      " |      \n",
      " |      More information is available in the C-API section of the manual.\n",
      " |      \n",
      " |      Examples\n",
      " |      --------\n",
      " |      \n",
      " |      >>> x = np.dtype('i4')\n",
      " |      >>> x.alignment\n",
      " |      4\n",
      " |      \n",
      " |      >>> x = np.dtype(float)\n",
      " |      >>> x.alignment\n",
      " |      8\n",
      " |  \n",
      " |  base\n",
      " |      Returns dtype for the base element of the subarrays,\n",
      " |      regardless of their dimension or shape.\n",
      " |      \n",
      " |      See Also\n",
      " |      --------\n",
      " |      dtype.subdtype\n",
      " |      \n",
      " |      Examples\n",
      " |      --------\n",
      " |      >>> x = numpy.dtype('8f')\n",
      " |      >>> x.base\n",
      " |      dtype('float32')\n",
      " |      \n",
      " |      >>> x =  numpy.dtype('i2')\n",
      " |      >>> x.base\n",
      " |      dtype('int16')\n",
      " |  \n",
      " |  byteorder\n",
      " |      A character indicating the byte-order of this data-type object.\n",
      " |      \n",
      " |      One of:\n",
      " |      \n",
      " |      ===  ==============\n",
      " |      '='  native\n",
      " |      '<'  little-endian\n",
      " |      '>'  big-endian\n",
      " |      '|'  not applicable\n",
      " |      ===  ==============\n",
      " |      \n",
      " |      All built-in data-type objects have byteorder either '=' or '|'.\n",
      " |      \n",
      " |      Examples\n",
      " |      --------\n",
      " |      \n",
      " |      >>> dt = np.dtype('i2')\n",
      " |      >>> dt.byteorder\n",
      " |      '='\n",
      " |      >>> # endian is not relevant for 8 bit numbers\n",
      " |      >>> np.dtype('i1').byteorder\n",
      " |      '|'\n",
      " |      >>> # or ASCII strings\n",
      " |      >>> np.dtype('S2').byteorder\n",
      " |      '|'\n",
      " |      >>> # Even if specific code is given, and it is native\n",
      " |      >>> # '=' is the byteorder\n",
      " |      >>> import sys\n",
      " |      >>> sys_is_le = sys.byteorder == 'little'\n",
      " |      >>> native_code = sys_is_le and '<' or '>'\n",
      " |      >>> swapped_code = sys_is_le and '>' or '<'\n",
      " |      >>> dt = np.dtype(native_code + 'i2')\n",
      " |      >>> dt.byteorder\n",
      " |      '='\n",
      " |      >>> # Swapped code shows up as itself\n",
      " |      >>> dt = np.dtype(swapped_code + 'i2')\n",
      " |      >>> dt.byteorder == swapped_code\n",
      " |      True\n",
      " |  \n",
      " |  char\n",
      " |      A unique character code for each of the 21 different built-in types.\n",
      " |      \n",
      " |      Examples\n",
      " |      --------\n",
      " |      \n",
      " |      >>> x = np.dtype(float)\n",
      " |      >>> x.char\n",
      " |      'd'\n",
      " |  \n",
      " |  descr\n",
      " |      `__array_interface__` description of the data-type.\n",
      " |      \n",
      " |      The format is that required by the 'descr' key in the\n",
      " |      `__array_interface__` attribute.\n",
      " |      \n",
      " |      Warning: This attribute exists specifically for `__array_interface__`,\n",
      " |      and passing it directly to `np.dtype` will not accurately reconstruct\n",
      " |      some dtypes (e.g., scalar and subarray dtypes).\n",
      " |      \n",
      " |      Examples\n",
      " |      --------\n",
      " |      \n",
      " |      >>> x = np.dtype(float)\n",
      " |      >>> x.descr\n",
      " |      [('', '<f8')]\n",
      " |      \n",
      " |      >>> dt = np.dtype([('name', np.str_, 16), ('grades', np.float64, (2,))])\n",
      " |      >>> dt.descr\n",
      " |      [('name', '<U16'), ('grades', '<f8', (2,))]\n",
      " |  \n",
      " |  fields\n",
      " |      Dictionary of named fields defined for this data type, or ``None``.\n",
      " |      \n",
      " |      The dictionary is indexed by keys that are the names of the fields.\n",
      " |      Each entry in the dictionary is a tuple fully describing the field::\n",
      " |      \n",
      " |        (dtype, offset[, title])\n",
      " |      \n",
      " |      Offset is limited to C int, which is signed and usually 32 bits.\n",
      " |      If present, the optional title can be any object (if it is a string\n",
      " |      or unicode then it will also be a key in the fields dictionary,\n",
      " |      otherwise it's meta-data). Notice also that the first two elements\n",
      " |      of the tuple can be passed directly as arguments to the ``ndarray.getfield``\n",
      " |      and ``ndarray.setfield`` methods.\n",
      " |      \n",
      " |      See Also\n",
      " |      --------\n",
      " |      ndarray.getfield, ndarray.setfield\n",
      " |      \n",
      " |      Examples\n",
      " |      --------\n",
      " |      >>> dt = np.dtype([('name', np.str_, 16), ('grades', np.float64, (2,))])\n",
      " |      >>> print(dt.fields)\n",
      " |      {'grades': (dtype(('float64',(2,))), 16), 'name': (dtype('|S16'), 0)}\n",
      " |  \n",
      " |  flags\n",
      " |      Bit-flags describing how this data type is to be interpreted.\n",
      " |      \n",
      " |      Bit-masks are in `numpy.core.multiarray` as the constants\n",
      " |      `ITEM_HASOBJECT`, `LIST_PICKLE`, `ITEM_IS_POINTER`, `NEEDS_INIT`,\n",
      " |      `NEEDS_PYAPI`, `USE_GETITEM`, `USE_SETITEM`. A full explanation\n",
      " |      of these flags is in C-API documentation; they are largely useful\n",
      " |      for user-defined data-types.\n",
      " |      \n",
      " |      The following example demonstrates that operations on this particular\n",
      " |      dtype requires Python C-API.\n",
      " |      \n",
      " |      Examples\n",
      " |      --------\n",
      " |      \n",
      " |      >>> x = np.dtype([('a', np.int32, 8), ('b', np.float64, 6)])\n",
      " |      >>> x.flags\n",
      " |      16\n",
      " |      >>> np.core.multiarray.NEEDS_PYAPI\n",
      " |      16\n",
      " |  \n",
      " |  hasobject\n",
      " |      Boolean indicating whether this dtype contains any reference-counted\n",
      " |      objects in any fields or sub-dtypes.\n",
      " |      \n",
      " |      Recall that what is actually in the ndarray memory representing\n",
      " |      the Python object is the memory address of that object (a pointer).\n",
      " |      Special handling may be required, and this attribute is useful for\n",
      " |      distinguishing data types that may contain arbitrary Python objects\n",
      " |      and data-types that won't.\n",
      " |  \n",
      " |  isalignedstruct\n",
      " |      Boolean indicating whether the dtype is a struct which maintains\n",
      " |      field alignment. This flag is sticky, so when combining multiple\n",
      " |      structs together, it is preserved and produces new dtypes which\n",
      " |      are also aligned.\n",
      " |  \n",
      " |  isbuiltin\n",
      " |      Integer indicating how this dtype relates to the built-in dtypes.\n",
      " |      \n",
      " |      Read-only.\n",
      " |      \n",
      " |      =  ========================================================================\n",
      " |      0  if this is a structured array type, with fields\n",
      " |      1  if this is a dtype compiled into numpy (such as ints, floats etc)\n",
      " |      2  if the dtype is for a user-defined numpy type\n",
      " |         A user-defined type uses the numpy C-API machinery to extend\n",
      " |         numpy to handle a new array type. See\n",
      " |         :ref:`user.user-defined-data-types` in the NumPy manual.\n",
      " |      =  ========================================================================\n",
      " |      \n",
      " |      Examples\n",
      " |      --------\n",
      " |      >>> dt = np.dtype('i2')\n",
      " |      >>> dt.isbuiltin\n",
      " |      1\n",
      " |      >>> dt = np.dtype('f8')\n",
      " |      >>> dt.isbuiltin\n",
      " |      1\n",
      " |      >>> dt = np.dtype([('field1', 'f8')])\n",
      " |      >>> dt.isbuiltin\n",
      " |      0\n",
      " |  \n",
      " |  isnative\n",
      " |      Boolean indicating whether the byte order of this dtype is native\n",
      " |      to the platform.\n",
      " |  \n",
      " |  itemsize\n",
      " |      The element size of this data-type object.\n",
      " |      \n",
      " |      For 18 of the 21 types this number is fixed by the data-type.\n",
      " |      For the flexible data-types, this number can be anything.\n",
      " |      \n",
      " |      Examples\n",
      " |      --------\n",
      " |      \n",
      " |      >>> arr = np.array([[1, 2], [3, 4]])\n",
      " |      >>> arr.dtype\n",
      " |      dtype('int64')\n",
      " |      >>> arr.itemsize\n",
      " |      8\n",
      " |      \n",
      " |      >>> dt = np.dtype([('name', np.str_, 16), ('grades', np.float64, (2,))])\n",
      " |      >>> dt.itemsize\n",
      " |      80\n",
      " |  \n",
      " |  kind\n",
      " |      A character code (one of 'biufcmMOSUV') identifying the general kind of data.\n",
      " |      \n",
      " |      =  ======================\n",
      " |      b  boolean\n",
      " |      i  signed integer\n",
      " |      u  unsigned integer\n",
      " |      f  floating-point\n",
      " |      c  complex floating-point\n",
      " |      m  timedelta\n",
      " |      M  datetime\n",
      " |      O  object\n",
      " |      S  (byte-)string\n",
      " |      U  Unicode\n",
      " |      V  void\n",
      " |      =  ======================\n",
      " |      \n",
      " |      Examples\n",
      " |      --------\n",
      " |      \n",
      " |      >>> dt = np.dtype('i4')\n",
      " |      >>> dt.kind\n",
      " |      'i'\n",
      " |      >>> dt = np.dtype('f8')\n",
      " |      >>> dt.kind\n",
      " |      'f'\n",
      " |      >>> dt = np.dtype([('field1', 'f8')])\n",
      " |      >>> dt.kind\n",
      " |      'V'\n",
      " |  \n",
      " |  metadata\n",
      " |  \n",
      " |  name\n",
      " |      A bit-width name for this data-type.\n",
      " |      \n",
      " |      Un-sized flexible data-type objects do not have this attribute.\n",
      " |      \n",
      " |      Examples\n",
      " |      --------\n",
      " |      \n",
      " |      >>> x = np.dtype(float)\n",
      " |      >>> x.name\n",
      " |      'float64'\n",
      " |      >>> x = np.dtype([('a', np.int32, 8), ('b', np.float64, 6)])\n",
      " |      >>> x.name\n",
      " |      'void640'\n",
      " |  \n",
      " |  names\n",
      " |      Ordered list of field names, or ``None`` if there are no fields.\n",
      " |      \n",
      " |      The names are ordered according to increasing byte offset. This can be\n",
      " |      used, for example, to walk through all of the named fields in offset order.\n",
      " |      \n",
      " |      Examples\n",
      " |      --------\n",
      " |      >>> dt = np.dtype([('name', np.str_, 16), ('grades', np.float64, (2,))])\n",
      " |      >>> dt.names\n",
      " |      ('name', 'grades')\n",
      " |  \n",
      " |  ndim\n",
      " |      Number of dimensions of the sub-array if this data type describes a\n",
      " |      sub-array, and ``0`` otherwise.\n",
      " |      \n",
      " |      .. versionadded:: 1.13.0\n",
      " |      \n",
      " |      Examples\n",
      " |      --------\n",
      " |      >>> x = np.dtype(float)\n",
      " |      >>> x.ndim\n",
      " |      0\n",
      " |      \n",
      " |      >>> x = np.dtype((float, 8))\n",
      " |      >>> x.ndim\n",
      " |      1\n",
      " |      \n",
      " |      >>> x = np.dtype(('i4', (3, 4)))\n",
      " |      >>> x.ndim\n",
      " |      2\n",
      " |  \n",
      " |  num\n",
      " |      A unique number for each of the 21 different built-in types.\n",
      " |      \n",
      " |      These are roughly ordered from least-to-most precision.\n",
      " |      \n",
      " |      Examples\n",
      " |      --------\n",
      " |      \n",
      " |      >>> dt = np.dtype(str)\n",
      " |      >>> dt.num\n",
      " |      19\n",
      " |      \n",
      " |      >>> dt = np.dtype(float)\n",
      " |      >>> dt.num\n",
      " |      12\n",
      " |  \n",
      " |  shape\n",
      " |      Shape tuple of the sub-array if this data type describes a sub-array,\n",
      " |      and ``()`` otherwise.\n",
      " |      \n",
      " |      Examples\n",
      " |      --------\n",
      " |      \n",
      " |      >>> dt = np.dtype(('i4', 4))\n",
      " |      >>> dt.shape\n",
      " |      (4,)\n",
      " |      \n",
      " |      >>> dt = np.dtype(('i4', (2, 3)))\n",
      " |      >>> dt.shape\n",
      " |      (2, 3)\n",
      " |  \n",
      " |  str\n",
      " |      The array-protocol typestring of this data-type object.\n",
      " |  \n",
      " |  subdtype\n",
      " |      Tuple ``(item_dtype, shape)`` if this `dtype` describes a sub-array, and\n",
      " |      None otherwise.\n",
      " |      \n",
      " |      The *shape* is the fixed shape of the sub-array described by this\n",
      " |      data type, and *item_dtype* the data type of the array.\n",
      " |      \n",
      " |      If a field whose dtype object has this attribute is retrieved,\n",
      " |      then the extra dimensions implied by *shape* are tacked on to\n",
      " |      the end of the retrieved array.\n",
      " |      \n",
      " |      See Also\n",
      " |      --------\n",
      " |      dtype.base\n",
      " |      \n",
      " |      Examples\n",
      " |      --------\n",
      " |      >>> x = numpy.dtype('8f')\n",
      " |      >>> x.subdtype\n",
      " |      (dtype('float32'), (8,))\n",
      " |      \n",
      " |      >>> x =  numpy.dtype('i2')\n",
      " |      >>> x.subdtype\n",
      " |      >>>\n",
      " |  \n",
      " |  type\n",
      " |      The type object used to instantiate a scalar of this data-type.\n",
      "\n"
     ]
    }
   ],
   "source": [
    "help(np.dtype)"
   ]
  },
  {
   "cell_type": "code",
   "execution_count": 37,
   "metadata": {
    "ExecuteTime": {
     "end_time": "2021-02-03T17:56:24.665809Z",
     "start_time": "2021-02-03T17:46:54.161836Z"
    }
   },
   "outputs": [],
   "source": [
    "smiles=CarrierFragmentDBDask.map_partitions(getsmilespartition,meta=('CarrierFragmentSmiles','O')).compute()"
   ]
  },
  {
   "cell_type": "code",
   "execution_count": 39,
   "metadata": {
    "ExecuteTime": {
     "end_time": "2021-02-03T17:57:07.858406Z",
     "start_time": "2021-02-03T17:57:05.529841Z"
    }
   },
   "outputs": [],
   "source": [
    "smilesdf=pd.DataFrame(smiles)"
   ]
  },
  {
   "cell_type": "code",
   "execution_count": 41,
   "metadata": {
    "ExecuteTime": {
     "end_time": "2021-02-03T17:58:58.472761Z",
     "start_time": "2021-02-03T17:58:50.803409Z"
    }
   },
   "outputs": [],
   "source": [
    "CarrierFragmentDB=CarrierFragmentDB.join(smilesdf)"
   ]
  },
  {
   "cell_type": "code",
   "execution_count": 43,
   "metadata": {
    "ExecuteTime": {
     "end_time": "2021-02-03T18:00:34.010228Z",
     "start_time": "2021-02-03T18:00:33.999324Z"
    }
   },
   "outputs": [],
   "source": [
    "CarrierFragmentDB.rename(columns={'CarrierFragments':'CarrierFragmentSmarts'},inplace=True)"
   ]
  },
  {
   "cell_type": "code",
   "execution_count": 48,
   "metadata": {
    "ExecuteTime": {
     "end_time": "2021-02-03T18:04:40.967300Z",
     "start_time": "2021-02-03T18:04:07.765687Z"
    }
   },
   "outputs": [],
   "source": [
    "CarrierFragmentDB.set_index(['CarrierFragmentSmiles','SubstanceID'],inplace=True)"
   ]
  },
  {
   "cell_type": "code",
   "execution_count": 49,
   "metadata": {
    "ExecuteTime": {
     "end_time": "2021-02-03T18:04:45.235121Z",
     "start_time": "2021-02-03T18:04:45.213748Z"
    }
   },
   "outputs": [
    {
     "data": {
      "text/plain": [
       "MultiIndex([('[H]C([H])(C)OC(=O)C([H])([H])[H]',      925),\n",
       "            (           '[H]N(C)C(C)(C)N([H])C',      925),\n",
       "            ('[H]C([H])(C)OC(=O)C([H])([H])[H]',      925),\n",
       "            (  '[H]C([H])(C)OC(=O)C([H])([H])C',      929),\n",
       "            (           '[H]N(C)C(C)(C)N([H])C',      929),\n",
       "            (  '[H]C([H])(C)OC(=O)C([H])([H])C',      929),\n",
       "            (          '[H]C1(C)CC([H])(C)C1=O',      929),\n",
       "            (           '[H]N(C)C(C)(C)N([H])C',      929),\n",
       "            (  '[H]C([H])(C)OC(=O)C([H])([H])C',      929),\n",
       "            (  '[H]C([H])(C)OC(=O)C([H])([H])C',      929),\n",
       "            ...\n",
       "            (                 '[H]C([H])=C(C)C', 32983884),\n",
       "            (                   'CO[Si](C)(C)C', 32983884),\n",
       "            (        'C:C(:C)S(=O)(=O)C(C)(C)C', 32983884),\n",
       "            (         '[H]C12CCC(S)(C1)C(=O)O2', 32983884),\n",
       "            (                 '[H]C([H])=C(C)C', 32983885),\n",
       "            (                   'CO[Si](C)(C)C', 32983885),\n",
       "            (       '[H]C12CCC([H])(C1)C(=O)O2', 32983885),\n",
       "            (         '[H]C(:C):C(Br):C([H]):C', 32984157),\n",
       "            (                           '[H]Cl', 32984157),\n",
       "            (              '[H]C(:C):N:C(:C):C', 32984157)],\n",
       "           names=['CarrierFragmentSmiles', 'SubstanceID'], length=64549677)"
      ]
     },
     "execution_count": 49,
     "metadata": {},
     "output_type": "execute_result"
    }
   ],
   "source": [
    "CarrierFragmentDB.index"
   ]
  },
  {
   "cell_type": "code",
   "execution_count": 50,
   "metadata": {
    "ExecuteTime": {
     "end_time": "2021-02-03T18:05:05.702865Z",
     "start_time": "2021-02-03T18:04:57.008815Z"
    }
   },
   "outputs": [
    {
     "data": {
      "text/html": [
       "<div>\n",
       "<style scoped>\n",
       "    .dataframe tbody tr th:only-of-type {\n",
       "        vertical-align: middle;\n",
       "    }\n",
       "\n",
       "    .dataframe tbody tr th {\n",
       "        vertical-align: top;\n",
       "    }\n",
       "\n",
       "    .dataframe thead th {\n",
       "        text-align: right;\n",
       "    }\n",
       "</style>\n",
       "<table border=\"1\" class=\"dataframe\">\n",
       "  <thead>\n",
       "    <tr style=\"text-align: right;\">\n",
       "      <th></th>\n",
       "      <th>CarrierFragmentSmarts</th>\n",
       "      <th>Smiles</th>\n",
       "    </tr>\n",
       "    <tr>\n",
       "      <th>SubstanceID</th>\n",
       "      <th></th>\n",
       "      <th></th>\n",
       "    </tr>\n",
       "  </thead>\n",
       "  <tbody>\n",
       "    <tr>\n",
       "      <th>71120</th>\n",
       "      <td>Error</td>\n",
       "      <td>C=Cc1cc(OC)c(OC)c2c1/c=c\\c1ccc(cc1)-o-c1c(c(C=...</td>\n",
       "    </tr>\n",
       "    <tr>\n",
       "      <th>2020777</th>\n",
       "      <td>Error</td>\n",
       "      <td>c1=c\\c2ccc(c3ccccc23)/c=c\\c2ccc(cc2)/c=c\\c2ccc...</td>\n",
       "    </tr>\n",
       "    <tr>\n",
       "      <th>2566174</th>\n",
       "      <td>Error</td>\n",
       "      <td>c1=c\\c2ccccc2/c=c\\c2ccc(cc2)/c=c\\c2ccccc2/c=c\\...</td>\n",
       "    </tr>\n",
       "    <tr>\n",
       "      <th>2566175</th>\n",
       "      <td>Error</td>\n",
       "      <td>c1=c\\c2ccccc2/c=c\\c2ccc(cc2)/c=c/c2ccccc2/c=c\\...</td>\n",
       "    </tr>\n",
       "    <tr>\n",
       "      <th>2642603</th>\n",
       "      <td>Error</td>\n",
       "      <td>c1=c\\c2ccc(cc2)-c2ccccc2-c2ccc/1cc2</td>\n",
       "    </tr>\n",
       "    <tr>\n",
       "      <th>...</th>\n",
       "      <td>...</td>\n",
       "      <td>...</td>\n",
       "    </tr>\n",
       "    <tr>\n",
       "      <th>32826420</th>\n",
       "      <td>Error</td>\n",
       "      <td>C1CCOC1.C[Si](C)(C)[GeH2-]([Si](C)(C)C)[Si](C)...</td>\n",
       "    </tr>\n",
       "    <tr>\n",
       "      <th>32826421</th>\n",
       "      <td>Error</td>\n",
       "      <td>C1CCOC1.C[Si](C)(C)[GeH2-]([Si](C)(C)C)[Si](C)...</td>\n",
       "    </tr>\n",
       "    <tr>\n",
       "      <th>32826422</th>\n",
       "      <td>Error</td>\n",
       "      <td>CN(C)CCN(C)C.C[Si](C)(C)[GeH2-]([Si](C)(C)C)[S...</td>\n",
       "    </tr>\n",
       "    <tr>\n",
       "      <th>32839723</th>\n",
       "      <td>Error</td>\n",
       "      <td>CC(C)(C)C1=[GeH2-]C=CC=C1.[Li+]</td>\n",
       "    </tr>\n",
       "    <tr>\n",
       "      <th>32839724</th>\n",
       "      <td>Error</td>\n",
       "      <td>CC(C)(C)C1=[GeH2-]C=CC=C1.[Na+]</td>\n",
       "    </tr>\n",
       "  </tbody>\n",
       "</table>\n",
       "<p>241 rows × 2 columns</p>\n",
       "</div>"
      ],
      "text/plain": [
       "            CarrierFragmentSmarts  \\\n",
       "SubstanceID                         \n",
       "71120                       Error   \n",
       "2020777                     Error   \n",
       "2566174                     Error   \n",
       "2566175                     Error   \n",
       "2642603                     Error   \n",
       "...                           ...   \n",
       "32826420                    Error   \n",
       "32826421                    Error   \n",
       "32826422                    Error   \n",
       "32839723                    Error   \n",
       "32839724                    Error   \n",
       "\n",
       "                                                        Smiles  \n",
       "SubstanceID                                                     \n",
       "71120        C=Cc1cc(OC)c(OC)c2c1/c=c\\c1ccc(cc1)-o-c1c(c(C=...  \n",
       "2020777      c1=c\\c2ccc(c3ccccc23)/c=c\\c2ccc(cc2)/c=c\\c2ccc...  \n",
       "2566174      c1=c\\c2ccccc2/c=c\\c2ccc(cc2)/c=c\\c2ccccc2/c=c\\...  \n",
       "2566175      c1=c\\c2ccccc2/c=c\\c2ccc(cc2)/c=c/c2ccccc2/c=c\\...  \n",
       "2642603                    c1=c\\c2ccc(cc2)-c2ccccc2-c2ccc/1cc2  \n",
       "...                                                        ...  \n",
       "32826420     C1CCOC1.C[Si](C)(C)[GeH2-]([Si](C)(C)C)[Si](C)...  \n",
       "32826421     C1CCOC1.C[Si](C)(C)[GeH2-]([Si](C)(C)C)[Si](C)...  \n",
       "32826422     CN(C)CCN(C)C.C[Si](C)(C)[GeH2-]([Si](C)(C)C)[S...  \n",
       "32839723                       CC(C)(C)C1=[GeH2-]C=CC=C1.[Li+]  \n",
       "32839724                       CC(C)(C)C1=[GeH2-]C=CC=C1.[Na+]  \n",
       "\n",
       "[241 rows x 2 columns]"
      ]
     },
     "execution_count": 50,
     "metadata": {},
     "output_type": "execute_result"
    }
   ],
   "source": [
    "CarrierFragmentDB.loc['Error']"
   ]
  },
  {
   "cell_type": "markdown",
   "metadata": {},
   "source": [
    ".xs is used for multiindexed dataframes"
   ]
  },
  {
   "cell_type": "code",
   "execution_count": 51,
   "metadata": {
    "ExecuteTime": {
     "end_time": "2021-02-03T18:05:23.615916Z",
     "start_time": "2021-02-03T18:05:23.343488Z"
    }
   },
   "outputs": [
    {
     "data": {
      "text/html": [
       "<div>\n",
       "<style scoped>\n",
       "    .dataframe tbody tr th:only-of-type {\n",
       "        vertical-align: middle;\n",
       "    }\n",
       "\n",
       "    .dataframe tbody tr th {\n",
       "        vertical-align: top;\n",
       "    }\n",
       "\n",
       "    .dataframe thead th {\n",
       "        text-align: right;\n",
       "    }\n",
       "</style>\n",
       "<table border=\"1\" class=\"dataframe\">\n",
       "  <thead>\n",
       "    <tr style=\"text-align: right;\">\n",
       "      <th></th>\n",
       "      <th>CarrierFragmentSmarts</th>\n",
       "      <th>Smiles</th>\n",
       "    </tr>\n",
       "    <tr>\n",
       "      <th>SubstanceID</th>\n",
       "      <th></th>\n",
       "      <th></th>\n",
       "    </tr>\n",
       "  </thead>\n",
       "  <tbody>\n",
       "    <tr>\n",
       "      <th>71120</th>\n",
       "      <td>Error</td>\n",
       "      <td>C=Cc1cc(OC)c(OC)c2c1/c=c\\c1ccc(cc1)-o-c1c(c(C=...</td>\n",
       "    </tr>\n",
       "    <tr>\n",
       "      <th>2020777</th>\n",
       "      <td>Error</td>\n",
       "      <td>c1=c\\c2ccc(c3ccccc23)/c=c\\c2ccc(cc2)/c=c\\c2ccc...</td>\n",
       "    </tr>\n",
       "    <tr>\n",
       "      <th>2566174</th>\n",
       "      <td>Error</td>\n",
       "      <td>c1=c\\c2ccccc2/c=c\\c2ccc(cc2)/c=c\\c2ccccc2/c=c\\...</td>\n",
       "    </tr>\n",
       "    <tr>\n",
       "      <th>2566175</th>\n",
       "      <td>Error</td>\n",
       "      <td>c1=c\\c2ccccc2/c=c\\c2ccc(cc2)/c=c/c2ccccc2/c=c\\...</td>\n",
       "    </tr>\n",
       "    <tr>\n",
       "      <th>2642603</th>\n",
       "      <td>Error</td>\n",
       "      <td>c1=c\\c2ccc(cc2)-c2ccccc2-c2ccc/1cc2</td>\n",
       "    </tr>\n",
       "    <tr>\n",
       "      <th>...</th>\n",
       "      <td>...</td>\n",
       "      <td>...</td>\n",
       "    </tr>\n",
       "    <tr>\n",
       "      <th>32826420</th>\n",
       "      <td>Error</td>\n",
       "      <td>C1CCOC1.C[Si](C)(C)[GeH2-]([Si](C)(C)C)[Si](C)...</td>\n",
       "    </tr>\n",
       "    <tr>\n",
       "      <th>32826421</th>\n",
       "      <td>Error</td>\n",
       "      <td>C1CCOC1.C[Si](C)(C)[GeH2-]([Si](C)(C)C)[Si](C)...</td>\n",
       "    </tr>\n",
       "    <tr>\n",
       "      <th>32826422</th>\n",
       "      <td>Error</td>\n",
       "      <td>CN(C)CCN(C)C.C[Si](C)(C)[GeH2-]([Si](C)(C)C)[S...</td>\n",
       "    </tr>\n",
       "    <tr>\n",
       "      <th>32839723</th>\n",
       "      <td>Error</td>\n",
       "      <td>CC(C)(C)C1=[GeH2-]C=CC=C1.[Li+]</td>\n",
       "    </tr>\n",
       "    <tr>\n",
       "      <th>32839724</th>\n",
       "      <td>Error</td>\n",
       "      <td>CC(C)(C)C1=[GeH2-]C=CC=C1.[Na+]</td>\n",
       "    </tr>\n",
       "  </tbody>\n",
       "</table>\n",
       "<p>241 rows × 2 columns</p>\n",
       "</div>"
      ],
      "text/plain": [
       "            CarrierFragmentSmarts  \\\n",
       "SubstanceID                         \n",
       "71120                       Error   \n",
       "2020777                     Error   \n",
       "2566174                     Error   \n",
       "2566175                     Error   \n",
       "2642603                     Error   \n",
       "...                           ...   \n",
       "32826420                    Error   \n",
       "32826421                    Error   \n",
       "32826422                    Error   \n",
       "32839723                    Error   \n",
       "32839724                    Error   \n",
       "\n",
       "                                                        Smiles  \n",
       "SubstanceID                                                     \n",
       "71120        C=Cc1cc(OC)c(OC)c2c1/c=c\\c1ccc(cc1)-o-c1c(c(C=...  \n",
       "2020777      c1=c\\c2ccc(c3ccccc23)/c=c\\c2ccc(cc2)/c=c\\c2ccc...  \n",
       "2566174      c1=c\\c2ccccc2/c=c\\c2ccc(cc2)/c=c\\c2ccccc2/c=c\\...  \n",
       "2566175      c1=c\\c2ccccc2/c=c\\c2ccc(cc2)/c=c/c2ccccc2/c=c\\...  \n",
       "2642603                    c1=c\\c2ccc(cc2)-c2ccccc2-c2ccc/1cc2  \n",
       "...                                                        ...  \n",
       "32826420     C1CCOC1.C[Si](C)(C)[GeH2-]([Si](C)(C)C)[Si](C)...  \n",
       "32826421     C1CCOC1.C[Si](C)(C)[GeH2-]([Si](C)(C)C)[Si](C)...  \n",
       "32826422     CN(C)CCN(C)C.C[Si](C)(C)[GeH2-]([Si](C)(C)C)[S...  \n",
       "32839723                       CC(C)(C)C1=[GeH2-]C=CC=C1.[Li+]  \n",
       "32839724                       CC(C)(C)C1=[GeH2-]C=CC=C1.[Na+]  \n",
       "\n",
       "[241 rows x 2 columns]"
      ]
     },
     "execution_count": 51,
     "metadata": {},
     "output_type": "execute_result"
    }
   ],
   "source": [
    "CarrierFragmentDB.xs('Error')"
   ]
  },
  {
   "cell_type": "code",
   "execution_count": 51,
   "metadata": {
    "ExecuteTime": {
     "end_time": "2021-02-01T08:45:14.175075Z",
     "start_time": "2021-02-01T08:45:13.980749Z"
    }
   },
   "outputs": [],
   "source": [
    "test1=CarrierFragmentDB.xs('[#7](-[#6](:[#6]):[#6])(-[H])-[H]').index"
   ]
  },
  {
   "cell_type": "code",
   "execution_count": 52,
   "metadata": {
    "ExecuteTime": {
     "end_time": "2021-02-01T08:45:16.975788Z",
     "start_time": "2021-02-01T08:45:16.117790Z"
    }
   },
   "outputs": [],
   "source": [
    "test2=CarrierFragmentDBDask.loc[CarrierFragmentDBDask['CarrierFragments']=='[#7](-[#6](:[#6]):[#6])(-[H])-[H]'].index.compute()"
   ]
  },
  {
   "cell_type": "code",
   "execution_count": 69,
   "metadata": {
    "ExecuteTime": {
     "end_time": "2021-02-01T08:50:00.384976Z",
     "start_time": "2021-02-01T08:49:57.409689Z"
    }
   },
   "outputs": [
    {
     "data": {
      "text/plain": [
       "Int64Index([     925,      925,      925,      929,      929,      929,\n",
       "                 929,      929,      929,      929,\n",
       "            ...\n",
       "            32983884, 32983884, 32983884, 32983884, 32983885, 32983885,\n",
       "            32983885, 32984157, 32984157, 32984157],\n",
       "           dtype='int64', name='SubstanceID', length=63204892)"
      ]
     },
     "execution_count": 69,
     "metadata": {},
     "output_type": "execute_result"
    }
   ],
   "source": [
    "CarrierFragmentDBDask.index.compute()"
   ]
  },
  {
   "cell_type": "code",
   "execution_count": 9,
   "metadata": {
    "ExecuteTime": {
     "end_time": "2021-02-05T14:45:10.525408Z",
     "start_time": "2021-02-05T14:45:10.367899Z"
    }
   },
   "outputs": [
    {
     "data": {
      "text/html": [
       "<div>\n",
       "<style scoped>\n",
       "    .dataframe tbody tr th:only-of-type {\n",
       "        vertical-align: middle;\n",
       "    }\n",
       "\n",
       "    .dataframe tbody tr th {\n",
       "        vertical-align: top;\n",
       "    }\n",
       "\n",
       "    .dataframe thead th {\n",
       "        text-align: right;\n",
       "    }\n",
       "</style>\n",
       "<table border=\"1\" class=\"dataframe\">\n",
       "  <thead>\n",
       "    <tr style=\"text-align: right;\">\n",
       "      <th></th>\n",
       "      <th>CarrierFragmentSmarts</th>\n",
       "      <th>Smiles</th>\n",
       "    </tr>\n",
       "    <tr>\n",
       "      <th>CarrierFragmentSmiles</th>\n",
       "      <th></th>\n",
       "      <th></th>\n",
       "    </tr>\n",
       "  </thead>\n",
       "  <tbody>\n",
       "    <tr>\n",
       "      <th>[H]N([H])C(:C):C</th>\n",
       "      <td>[#7](-[#6](:[#6]):[#6])(-[H])-[H]</td>\n",
       "      <td>Nc1ccc2ncccc2c1N</td>\n",
       "    </tr>\n",
       "    <tr>\n",
       "      <th>[H]N([H])C(:C):C</th>\n",
       "      <td>[#6]:[#6](:[#6])-[#7](-[H])-[H]</td>\n",
       "      <td>Nc1ccc2ncccc2c1N</td>\n",
       "    </tr>\n",
       "    <tr>\n",
       "      <th>[H]C(:C):N:C(:C):C</th>\n",
       "      <td>[#6]:[#6](:[#7]:[#6](:[#6])-[H]):[#6]</td>\n",
       "      <td>Nc1ccc2ncccc2c1N</td>\n",
       "    </tr>\n",
       "  </tbody>\n",
       "</table>\n",
       "</div>"
      ],
      "text/plain": [
       "                                       CarrierFragmentSmarts            Smiles\n",
       "CarrierFragmentSmiles                                                         \n",
       "[H]N([H])C(:C):C           [#7](-[#6](:[#6]):[#6])(-[H])-[H]  Nc1ccc2ncccc2c1N\n",
       "[H]N([H])C(:C):C             [#6]:[#6](:[#6])-[#7](-[H])-[H]  Nc1ccc2ncccc2c1N\n",
       "[H]C(:C):N:C(:C):C     [#6]:[#6](:[#7]:[#6](:[#6])-[H]):[#6]  Nc1ccc2ncccc2c1N"
      ]
     },
     "execution_count": 9,
     "metadata": {},
     "output_type": "execute_result"
    }
   ],
   "source": [
    "# CarrierFragmentDB.xs(294913,level=1)\n",
    "CarrierFragmentDB.xs(4502,level=1)"
   ]
  },
  {
   "cell_type": "code",
   "execution_count": 10,
   "metadata": {
    "ExecuteTime": {
     "end_time": "2021-02-05T14:45:46.559290Z",
     "start_time": "2021-02-05T14:45:46.546090Z"
    }
   },
   "outputs": [
    {
     "data": {
      "image/png": "[encoded data removed]",
      "text/plain": [
       "<rdkit.Chem.rdchem.Mol at 0x7f1139322e90>"
      ]
     },
     "execution_count": 10,
     "metadata": {},
     "output_type": "execute_result"
    }
   ],
   "source": [
    "Chem.MolFromSmiles('Nc1ccc2ncccc2c1N')"
   ]
  },
  {
   "cell_type": "code",
   "execution_count": 53,
   "metadata": {
    "ExecuteTime": {
     "end_time": "2021-02-03T18:07:53.633774Z",
     "start_time": "2021-02-03T18:07:53.104531Z"
    }
   },
   "outputs": [
    {
     "data": {
      "text/html": [
       "<div>\n",
       "<style scoped>\n",
       "    .dataframe tbody tr th:only-of-type {\n",
       "        vertical-align: middle;\n",
       "    }\n",
       "\n",
       "    .dataframe tbody tr th {\n",
       "        vertical-align: top;\n",
       "    }\n",
       "\n",
       "    .dataframe thead th {\n",
       "        text-align: right;\n",
       "    }\n",
       "</style>\n",
       "<table border=\"1\" class=\"dataframe\">\n",
       "  <thead>\n",
       "    <tr style=\"text-align: right;\">\n",
       "      <th></th>\n",
       "      <th>CarrierFragmentSmarts</th>\n",
       "      <th>Smiles</th>\n",
       "    </tr>\n",
       "    <tr>\n",
       "      <th>SubstanceID</th>\n",
       "      <th></th>\n",
       "      <th></th>\n",
       "    </tr>\n",
       "  </thead>\n",
       "  <tbody>\n",
       "    <tr>\n",
       "      <th>1619</th>\n",
       "      <td>[#7](-[#6](:[#6]):[#6])(-[H])-[H]</td>\n",
       "      <td>Nc1cn[nH]c1</td>\n",
       "    </tr>\n",
       "    <tr>\n",
       "      <th>1727</th>\n",
       "      <td>[#6]:[#6](-[#7](-[H])-[H]):[#6]</td>\n",
       "      <td>Cc1cc(N)c(C)o1</td>\n",
       "    </tr>\n",
       "    <tr>\n",
       "      <th>1848</th>\n",
       "      <td>[#6]:[#6](:[#6])-[#7](-[H])-[H]</td>\n",
       "      <td>Cc1n[nH]cc1N</td>\n",
       "    </tr>\n",
       "    <tr>\n",
       "      <th>2364</th>\n",
       "      <td>[#6]:[#6](:[#6])-[#7](-[H])-[H]</td>\n",
       "      <td>Cc1[nH]nc(Cl)c1N</td>\n",
       "    </tr>\n",
       "    <tr>\n",
       "      <th>2365</th>\n",
       "      <td>[#6]:[#6](:[#6])-[#7](-[H])-[H]</td>\n",
       "      <td>Cc1n[nH]c(N)c1N</td>\n",
       "    </tr>\n",
       "    <tr>\n",
       "      <th>...</th>\n",
       "      <td>...</td>\n",
       "      <td>...</td>\n",
       "    </tr>\n",
       "    <tr>\n",
       "      <th>32972771</th>\n",
       "      <td>[#7](-[#6](:[#6]):[#6])(-[H])-[H]</td>\n",
       "      <td>Nc1ccc(Br)cc1C#CCCCCO</td>\n",
       "    </tr>\n",
       "    <tr>\n",
       "      <th>32972772</th>\n",
       "      <td>[#6]:[#6](-[#7](-[H])-[H]):[#6]</td>\n",
       "      <td>Cc1ccc(N)c(C#CCCCCO)c1</td>\n",
       "    </tr>\n",
       "    <tr>\n",
       "      <th>32972777</th>\n",
       "      <td>[#6]:[#6](-[#7](-[H])-[H]):[#6]</td>\n",
       "      <td>COC(=O)c1ccc(N)c(C#CCCCCO)c1</td>\n",
       "    </tr>\n",
       "    <tr>\n",
       "      <th>32976987</th>\n",
       "      <td>[#6]:[#6](:[#6])-[#7](-[H])-[H]</td>\n",
       "      <td>CCOC(=O)Cc1ccc(OCCOc2ccccc2N)c(N)c1</td>\n",
       "    </tr>\n",
       "    <tr>\n",
       "      <th>32976987</th>\n",
       "      <td>[#6]:[#6](-[#7](-[H])-[H]):[#6]</td>\n",
       "      <td>CCOC(=O)Cc1ccc(OCCOc2ccccc2N)c(N)c1</td>\n",
       "    </tr>\n",
       "  </tbody>\n",
       "</table>\n",
       "<p>267835 rows × 2 columns</p>\n",
       "</div>"
      ],
      "text/plain": [
       "                         CarrierFragmentSmarts  \\\n",
       "SubstanceID                                      \n",
       "1619         [#7](-[#6](:[#6]):[#6])(-[H])-[H]   \n",
       "1727           [#6]:[#6](-[#7](-[H])-[H]):[#6]   \n",
       "1848           [#6]:[#6](:[#6])-[#7](-[H])-[H]   \n",
       "2364           [#6]:[#6](:[#6])-[#7](-[H])-[H]   \n",
       "2365           [#6]:[#6](:[#6])-[#7](-[H])-[H]   \n",
       "...                                        ...   \n",
       "32972771     [#7](-[#6](:[#6]):[#6])(-[H])-[H]   \n",
       "32972772       [#6]:[#6](-[#7](-[H])-[H]):[#6]   \n",
       "32972777       [#6]:[#6](-[#7](-[H])-[H]):[#6]   \n",
       "32976987       [#6]:[#6](:[#6])-[#7](-[H])-[H]   \n",
       "32976987       [#6]:[#6](-[#7](-[H])-[H]):[#6]   \n",
       "\n",
       "                                          Smiles  \n",
       "SubstanceID                                       \n",
       "1619                                 Nc1cn[nH]c1  \n",
       "1727                              Cc1cc(N)c(C)o1  \n",
       "1848                                Cc1n[nH]cc1N  \n",
       "2364                            Cc1[nH]nc(Cl)c1N  \n",
       "2365                             Cc1n[nH]c(N)c1N  \n",
       "...                                          ...  \n",
       "32972771                   Nc1ccc(Br)cc1C#CCCCCO  \n",
       "32972772                  Cc1ccc(N)c(C#CCCCCO)c1  \n",
       "32972777            COC(=O)c1ccc(N)c(C#CCCCCO)c1  \n",
       "32976987     CCOC(=O)Cc1ccc(OCCOc2ccccc2N)c(N)c1  \n",
       "32976987     CCOC(=O)Cc1ccc(OCCOc2ccccc2N)c(N)c1  \n",
       "\n",
       "[267835 rows x 2 columns]"
      ]
     },
     "execution_count": 53,
     "metadata": {},
     "output_type": "execute_result"
    }
   ],
   "source": [
    "CarrierFragmentDB.xs('[H]N([H])C(:C):C')"
   ]
  },
  {
   "cell_type": "code",
   "execution_count": 54,
   "metadata": {
    "ExecuteTime": {
     "end_time": "2021-02-03T18:09:00.276407Z",
     "start_time": "2021-02-03T18:08:54.647423Z"
    }
   },
   "outputs": [
    {
     "data": {
      "text/html": [
       "<div>\n",
       "<style scoped>\n",
       "    .dataframe tbody tr th:only-of-type {\n",
       "        vertical-align: middle;\n",
       "    }\n",
       "\n",
       "    .dataframe tbody tr th {\n",
       "        vertical-align: top;\n",
       "    }\n",
       "\n",
       "    .dataframe thead th {\n",
       "        text-align: right;\n",
       "    }\n",
       "</style>\n",
       "<table border=\"1\" class=\"dataframe\">\n",
       "  <thead>\n",
       "    <tr style=\"text-align: right;\">\n",
       "      <th></th>\n",
       "      <th></th>\n",
       "      <th>CarrierFragmentSmarts</th>\n",
       "      <th>Smiles</th>\n",
       "    </tr>\n",
       "    <tr>\n",
       "      <th>CarrierFragmentSmiles</th>\n",
       "      <th>SubstanceID</th>\n",
       "      <th></th>\n",
       "      <th></th>\n",
       "    </tr>\n",
       "  </thead>\n",
       "  <tbody>\n",
       "    <tr>\n",
       "      <th rowspan=\"11\" valign=\"top\">[H]N([H])C(:C):C</th>\n",
       "      <th>1619</th>\n",
       "      <td>[#7](-[#6](:[#6]):[#6])(-[H])-[H]</td>\n",
       "      <td>Nc1cn[nH]c1</td>\n",
       "    </tr>\n",
       "    <tr>\n",
       "      <th>2611</th>\n",
       "      <td>[#7](-[#6](:[#6]):[#6])(-[H])-[H]</td>\n",
       "      <td>Nc1ccc2ccsc2c1</td>\n",
       "    </tr>\n",
       "    <tr>\n",
       "      <th>2798</th>\n",
       "      <td>[#7](-[#6](:[#6]):[#6])(-[H])-[H]</td>\n",
       "      <td>Nc1ccc2ccncc2c1</td>\n",
       "    </tr>\n",
       "    <tr>\n",
       "      <th>3216</th>\n",
       "      <td>[#7](-[#6](:[#6]):[#6])(-[H])-[H]</td>\n",
       "      <td>Nc1ccc2cn[nH]c2c1</td>\n",
       "    </tr>\n",
       "    <tr>\n",
       "      <th>3255</th>\n",
       "      <td>[#7](-[#6](:[#6]):[#6])(-[H])-[H]</td>\n",
       "      <td>Nc1ccc2[nH]cnc2c1</td>\n",
       "    </tr>\n",
       "    <tr>\n",
       "      <th>...</th>\n",
       "      <td>...</td>\n",
       "      <td>...</td>\n",
       "    </tr>\n",
       "    <tr>\n",
       "      <th>32937424</th>\n",
       "      <td>[#7](-[#6](:[#6]):[#6])(-[H])-[H]</td>\n",
       "      <td>Nc1c(Cl)cc(Cl)cc1Cl.O=S(=O)(O)C(F)(F)F</td>\n",
       "    </tr>\n",
       "    <tr>\n",
       "      <th>32937425</th>\n",
       "      <td>[#7](-[#6](:[#6]):[#6])(-[H])-[H]</td>\n",
       "      <td>Nc1c(Cl)c(Cl)c(Cl)c(Cl)c1Cl.O=S(=O)(O)C(F)(F)F</td>\n",
       "    </tr>\n",
       "    <tr>\n",
       "      <th>32948348</th>\n",
       "      <td>[#7](-[#6](:[#6]):[#6])(-[H])-[H]</td>\n",
       "      <td>Nc1ccccc1C(=O)Nc1cccc(O)c1</td>\n",
       "    </tr>\n",
       "    <tr>\n",
       "      <th>32964649</th>\n",
       "      <td>[#7](-[#6](:[#6]):[#6])(-[H])-[H]</td>\n",
       "      <td>Nc1cccc([S-]2[Fe+]3(N=O)(N=O)[S-](c4cccc(N)c4)...</td>\n",
       "    </tr>\n",
       "    <tr>\n",
       "      <th>32972771</th>\n",
       "      <td>[#7](-[#6](:[#6]):[#6])(-[H])-[H]</td>\n",
       "      <td>Nc1ccc(Br)cc1C#CCCCCO</td>\n",
       "    </tr>\n",
       "  </tbody>\n",
       "</table>\n",
       "<p>74582 rows × 2 columns</p>\n",
       "</div>"
      ],
      "text/plain": [
       "                                               CarrierFragmentSmarts  \\\n",
       "CarrierFragmentSmiles SubstanceID                                      \n",
       "[H]N([H])C(:C):C      1619         [#7](-[#6](:[#6]):[#6])(-[H])-[H]   \n",
       "                      2611         [#7](-[#6](:[#6]):[#6])(-[H])-[H]   \n",
       "                      2798         [#7](-[#6](:[#6]):[#6])(-[H])-[H]   \n",
       "                      3216         [#7](-[#6](:[#6]):[#6])(-[H])-[H]   \n",
       "                      3255         [#7](-[#6](:[#6]):[#6])(-[H])-[H]   \n",
       "...                                                              ...   \n",
       "                      32937424     [#7](-[#6](:[#6]):[#6])(-[H])-[H]   \n",
       "                      32937425     [#7](-[#6](:[#6]):[#6])(-[H])-[H]   \n",
       "                      32948348     [#7](-[#6](:[#6]):[#6])(-[H])-[H]   \n",
       "                      32964649     [#7](-[#6](:[#6]):[#6])(-[H])-[H]   \n",
       "                      32972771     [#7](-[#6](:[#6]):[#6])(-[H])-[H]   \n",
       "\n",
       "                                                                              Smiles  \n",
       "CarrierFragmentSmiles SubstanceID                                                     \n",
       "[H]N([H])C(:C):C      1619                                               Nc1cn[nH]c1  \n",
       "                      2611                                            Nc1ccc2ccsc2c1  \n",
       "                      2798                                           Nc1ccc2ccncc2c1  \n",
       "                      3216                                         Nc1ccc2cn[nH]c2c1  \n",
       "                      3255                                         Nc1ccc2[nH]cnc2c1  \n",
       "...                                                                              ...  \n",
       "                      32937424                Nc1c(Cl)cc(Cl)cc1Cl.O=S(=O)(O)C(F)(F)F  \n",
       "                      32937425        Nc1c(Cl)c(Cl)c(Cl)c(Cl)c1Cl.O=S(=O)(O)C(F)(F)F  \n",
       "                      32948348                            Nc1ccccc1C(=O)Nc1cccc(O)c1  \n",
       "                      32964649     Nc1cccc([S-]2[Fe+]3(N=O)(N=O)[S-](c4cccc(N)c4)...  \n",
       "                      32972771                                 Nc1ccc(Br)cc1C#CCCCCO  \n",
       "\n",
       "[74582 rows x 2 columns]"
      ]
     },
     "execution_count": 54,
     "metadata": {},
     "output_type": "execute_result"
    }
   ],
   "source": [
    "CarrierFragmentDB.loc[CarrierFragmentDB['CarrierFragmentSmarts']=='[#7](-[#6](:[#6]):[#6])(-[H])-[H]']"
   ]
  },
  {
   "cell_type": "code",
   "execution_count": 16,
   "metadata": {
    "ExecuteTime": {
     "end_time": "2021-02-01T04:29:06.777494Z",
     "start_time": "2021-02-01T04:29:05.363994Z"
    }
   },
   "outputs": [
    {
     "data": {
      "image/png": "[encoded data removed]",
      "text/plain": [
       "<rdkit.Chem.rdchem.Mol at 0x7fe1b30ef990>"
      ]
     },
     "execution_count": 16,
     "metadata": {},
     "output_type": "execute_result"
    }
   ],
   "source": [
    "Chem.MolFromSmarts('[#7](-[#6](:[#6]):[#6])(-[H])-[H]')"
   ]
  },
  {
   "cell_type": "code",
   "execution_count": 116,
   "metadata": {
    "ExecuteTime": {
     "end_time": "2021-02-01T15:23:36.999050Z",
     "start_time": "2021-02-01T15:23:36.835868Z"
    }
   },
   "outputs": [
    {
     "data": {
      "text/html": [
       "<div>\n",
       "<style scoped>\n",
       "    .dataframe tbody tr th:only-of-type {\n",
       "        vertical-align: middle;\n",
       "    }\n",
       "\n",
       "    .dataframe tbody tr th {\n",
       "        vertical-align: top;\n",
       "    }\n",
       "\n",
       "    .dataframe thead th {\n",
       "        text-align: right;\n",
       "    }\n",
       "</style>\n",
       "<table border=\"1\" class=\"dataframe\">\n",
       "  <thead>\n",
       "    <tr style=\"text-align: right;\">\n",
       "      <th></th>\n",
       "      <th>Smiles</th>\n",
       "    </tr>\n",
       "    <tr>\n",
       "      <th>SubstanceID</th>\n",
       "      <th></th>\n",
       "    </tr>\n",
       "  </thead>\n",
       "  <tbody>\n",
       "    <tr>\n",
       "      <th>11305</th>\n",
       "      <td>C[C@]12CCCC(=O)[C@@H]1CC(=O)OC2=O</td>\n",
       "    </tr>\n",
       "    <tr>\n",
       "      <th>23173</th>\n",
       "      <td>CC(=O)OC(=O)c1ccc(C(=O)OC(C)=O)o1</td>\n",
       "    </tr>\n",
       "    <tr>\n",
       "      <th>34381</th>\n",
       "      <td>C[C@]12CC[C@H]3[C@@H](CC[C@H]4CC=CC[C@@]43C)[C...</td>\n",
       "    </tr>\n",
       "    <tr>\n",
       "      <th>36991</th>\n",
       "      <td>C[C@]12CC[C@H]3[C@@H](CC=C4C=CCC[C@@]43C)[C@@H...</td>\n",
       "    </tr>\n",
       "    <tr>\n",
       "      <th>38367</th>\n",
       "      <td>CC(=O)O[C@@H]1CC[C@]23C[C@@]1(C)CC[C@H]2C(C)(C...</td>\n",
       "    </tr>\n",
       "    <tr>\n",
       "      <th>...</th>\n",
       "      <td>...</td>\n",
       "    </tr>\n",
       "    <tr>\n",
       "      <th>32467478</th>\n",
       "      <td>CC(=O)Nc1sc(-c2ccc(C(=O)OC(C)=O)cc2)c(-c2cccc(...</td>\n",
       "    </tr>\n",
       "    <tr>\n",
       "      <th>32537675</th>\n",
       "      <td>CC(=O)OC(=O)CN(CCN(CC(=O)OC(C)=O)CC(=O)OC(C)=O...</td>\n",
       "    </tr>\n",
       "    <tr>\n",
       "      <th>32537675</th>\n",
       "      <td>CC(=O)OC(=O)CN(CCN(CC(=O)OC(C)=O)CC(=O)OC(C)=O...</td>\n",
       "    </tr>\n",
       "    <tr>\n",
       "      <th>32537675</th>\n",
       "      <td>CC(=O)OC(=O)CN(CCN(CC(=O)OC(C)=O)CC(=O)OC(C)=O...</td>\n",
       "    </tr>\n",
       "    <tr>\n",
       "      <th>32570467</th>\n",
       "      <td>CC(=O)OC(C)=O</td>\n",
       "    </tr>\n",
       "  </tbody>\n",
       "</table>\n",
       "<p>252 rows × 1 columns</p>\n",
       "</div>"
      ],
      "text/plain": [
       "                                                        Smiles\n",
       "SubstanceID                                                   \n",
       "11305                        C[C@]12CCCC(=O)[C@@H]1CC(=O)OC2=O\n",
       "23173                        CC(=O)OC(=O)c1ccc(C(=O)OC(C)=O)o1\n",
       "34381        C[C@]12CC[C@H]3[C@@H](CC[C@H]4CC=CC[C@@]43C)[C...\n",
       "36991        C[C@]12CC[C@H]3[C@@H](CC=C4C=CCC[C@@]43C)[C@@H...\n",
       "38367        CC(=O)O[C@@H]1CC[C@]23C[C@@]1(C)CC[C@H]2C(C)(C...\n",
       "...                                                        ...\n",
       "32467478     CC(=O)Nc1sc(-c2ccc(C(=O)OC(C)=O)cc2)c(-c2cccc(...\n",
       "32537675     CC(=O)OC(=O)CN(CCN(CC(=O)OC(C)=O)CC(=O)OC(C)=O...\n",
       "32537675     CC(=O)OC(=O)CN(CCN(CC(=O)OC(C)=O)CC(=O)OC(C)=O...\n",
       "32537675     CC(=O)OC(=O)CN(CCN(CC(=O)OC(C)=O)CC(=O)OC(C)=O...\n",
       "32570467                                         CC(=O)OC(C)=O\n",
       "\n",
       "[252 rows x 1 columns]"
      ]
     },
     "execution_count": 116,
     "metadata": {},
     "output_type": "execute_result"
    }
   ],
   "source": [
    "CarrierFragmentDB.xs('[#6]-[#6](=[#8])-[#8]-[#6](-[#6])=[#8]')"
   ]
  },
  {
   "cell_type": "code",
   "execution_count": 21,
   "metadata": {
    "ExecuteTime": {
     "end_time": "2021-02-01T04:31:18.808784Z",
     "start_time": "2021-02-01T04:31:18.338503Z"
    }
   },
   "outputs": [
    {
     "data": {
      "text/html": [
       "<div>\n",
       "<style scoped>\n",
       "    .dataframe tbody tr th:only-of-type {\n",
       "        vertical-align: middle;\n",
       "    }\n",
       "\n",
       "    .dataframe tbody tr th {\n",
       "        vertical-align: top;\n",
       "    }\n",
       "\n",
       "    .dataframe thead th {\n",
       "        text-align: right;\n",
       "    }\n",
       "</style>\n",
       "<table border=\"1\" class=\"dataframe\">\n",
       "  <thead>\n",
       "    <tr style=\"text-align: right;\">\n",
       "      <th></th>\n",
       "      <th></th>\n",
       "      <th>Smiles</th>\n",
       "    </tr>\n",
       "    <tr>\n",
       "      <th>CarrierFragments</th>\n",
       "      <th>SubstanceID</th>\n",
       "      <th></th>\n",
       "    </tr>\n",
       "  </thead>\n",
       "  <tbody>\n",
       "    <tr>\n",
       "      <th>[#6]-[#6](-[#6](=[#8])-[#6](-[#6])(-[#6])-[H])(-[H])-[H]</th>\n",
       "      <th>11305</th>\n",
       "      <td>C[C@]12CCCC(=O)[C@@H]1CC(=O)OC2=O</td>\n",
       "    </tr>\n",
       "    <tr>\n",
       "      <th>[#6]-[#6](=[#8])-[#8]-[#6](-[#6])=[#8]</th>\n",
       "      <th>11305</th>\n",
       "      <td>C[C@]12CCCC(=O)[C@@H]1CC(=O)OC2=O</td>\n",
       "    </tr>\n",
       "  </tbody>\n",
       "</table>\n",
       "</div>"
      ],
      "text/plain": [
       "                                                                                           Smiles\n",
       "CarrierFragments                                   SubstanceID                                   \n",
       "[#6]-[#6](-[#6](=[#8])-[#6](-[#6])(-[#6])-[H])(... 11305        C[C@]12CCCC(=O)[C@@H]1CC(=O)OC2=O\n",
       "[#6]-[#6](=[#8])-[#8]-[#6](-[#6])=[#8]             11305        C[C@]12CCCC(=O)[C@@H]1CC(=O)OC2=O"
      ]
     },
     "execution_count": 21,
     "metadata": {},
     "output_type": "execute_result"
    },
    {
     "data": {
      "text/html": [
       "<div>\n",
       "<style scoped>\n",
       "    .dataframe tbody tr th:only-of-type {\n",
       "        vertical-align: middle;\n",
       "    }\n",
       "\n",
       "    .dataframe tbody tr th {\n",
       "        vertical-align: top;\n",
       "    }\n",
       "\n",
       "    .dataframe thead th {\n",
       "        text-align: right;\n",
       "    }\n",
       "</style>\n",
       "<table border=\"1\" class=\"dataframe\">\n",
       "  <thead>\n",
       "    <tr style=\"text-align: right;\">\n",
       "      <th></th>\n",
       "      <th></th>\n",
       "      <th>Smiles</th>\n",
       "    </tr>\n",
       "    <tr>\n",
       "      <th>CarrierFragments</th>\n",
       "      <th>SubstanceID</th>\n",
       "      <th></th>\n",
       "    </tr>\n",
       "  </thead>\n",
       "  <tbody>\n",
       "    <tr>\n",
       "      <th rowspan=\"11\" valign=\"top\">[#6]-[#6](=[#8])-[#8]-[#6](-[#6])=[#8]</th>\n",
       "      <th>11305</th>\n",
       "      <td>C[C@]12CCCC(=O)[C@@H]1CC(=O)OC2=O</td>\n",
       "    </tr>\n",
       "    <tr>\n",
       "      <th>23173</th>\n",
       "      <td>CC(=O)OC(=O)c1ccc(C(=O)OC(C)=O)o1</td>\n",
       "    </tr>\n",
       "    <tr>\n",
       "      <th>34381</th>\n",
       "      <td>C[C@]12CC[C@H]3[C@@H](CC[C@H]4CC=CC[C@@]43C)[C...</td>\n",
       "    </tr>\n",
       "    <tr>\n",
       "      <th>36991</th>\n",
       "      <td>C[C@]12CC[C@H]3[C@@H](CC=C4C=CCC[C@@]43C)[C@@H...</td>\n",
       "    </tr>\n",
       "    <tr>\n",
       "      <th>38367</th>\n",
       "      <td>CC(=O)O[C@@H]1CC[C@]23C[C@@]1(C)CC[C@H]2C(C)(C...</td>\n",
       "    </tr>\n",
       "    <tr>\n",
       "      <th>...</th>\n",
       "      <td>...</td>\n",
       "    </tr>\n",
       "    <tr>\n",
       "      <th>32467478</th>\n",
       "      <td>CC(=O)Nc1sc(-c2ccc(C(=O)OC(C)=O)cc2)c(-c2cccc(...</td>\n",
       "    </tr>\n",
       "    <tr>\n",
       "      <th>32537675</th>\n",
       "      <td>CC(=O)OC(=O)CN(CCN(CC(=O)OC(C)=O)CC(=O)OC(C)=O...</td>\n",
       "    </tr>\n",
       "    <tr>\n",
       "      <th>32537675</th>\n",
       "      <td>CC(=O)OC(=O)CN(CCN(CC(=O)OC(C)=O)CC(=O)OC(C)=O...</td>\n",
       "    </tr>\n",
       "    <tr>\n",
       "      <th>32537675</th>\n",
       "      <td>CC(=O)OC(=O)CN(CCN(CC(=O)OC(C)=O)CC(=O)OC(C)=O...</td>\n",
       "    </tr>\n",
       "    <tr>\n",
       "      <th>32570467</th>\n",
       "      <td>CC(=O)OC(C)=O</td>\n",
       "    </tr>\n",
       "  </tbody>\n",
       "</table>\n",
       "<p>252 rows × 1 columns</p>\n",
       "</div>"
      ],
      "text/plain": [
       "                                                                                               Smiles\n",
       "CarrierFragments                       SubstanceID                                                   \n",
       "[#6]-[#6](=[#8])-[#8]-[#6](-[#6])=[#8] 11305                        C[C@]12CCCC(=O)[C@@H]1CC(=O)OC2=O\n",
       "                                       23173                        CC(=O)OC(=O)c1ccc(C(=O)OC(C)=O)o1\n",
       "                                       34381        C[C@]12CC[C@H]3[C@@H](CC[C@H]4CC=CC[C@@]43C)[C...\n",
       "                                       36991        C[C@]12CC[C@H]3[C@@H](CC=C4C=CCC[C@@]43C)[C@@H...\n",
       "                                       38367        CC(=O)O[C@@H]1CC[C@]23C[C@@]1(C)CC[C@H]2C(C)(C...\n",
       "...                                                                                               ...\n",
       "                                       32467478     CC(=O)Nc1sc(-c2ccc(C(=O)OC(C)=O)cc2)c(-c2cccc(...\n",
       "                                       32537675     CC(=O)OC(=O)CN(CCN(CC(=O)OC(C)=O)CC(=O)OC(C)=O...\n",
       "                                       32537675     CC(=O)OC(=O)CN(CCN(CC(=O)OC(C)=O)CC(=O)OC(C)=O...\n",
       "                                       32537675     CC(=O)OC(=O)CN(CCN(CC(=O)OC(C)=O)CC(=O)OC(C)=O...\n",
       "                                       32570467                                         CC(=O)OC(C)=O\n",
       "\n",
       "[252 rows x 1 columns]"
      ]
     },
     "execution_count": 21,
     "metadata": {},
     "output_type": "execute_result"
    }
   ],
   "source": [
    "CarrierFragmentDB.xs(11305,level=1,drop_level=False)\n",
    "CarrierFragmentDB.xs('[#6]-[#6](=[#8])-[#8]-[#6](-[#6])=[#8]',drop_level=False)"
   ]
  },
  {
   "cell_type": "code",
   "execution_count": 20,
   "metadata": {
    "ExecuteTime": {
     "end_time": "2021-01-29T16:59:26.771439Z",
     "start_time": "2021-01-29T16:59:26.390101Z"
    }
   },
   "outputs": [
    {
     "data": {
      "image/png": "[encoded data removed]",
      "text/plain": [
       "<rdkit.Chem.rdchem.Mol at 0x7fb430465210>"
      ]
     },
     "execution_count": 20,
     "metadata": {},
     "output_type": "execute_result"
    }
   ],
   "source": [
    "Chem.MolFromSmiles('Nc1ccc2[nH]cnc2c1')"
   ]
  },
  {
   "cell_type": "markdown",
   "metadata": {},
   "source": [
    "### SQL Database"
   ]
  },
  {
   "cell_type": "markdown",
   "metadata": {},
   "source": [
    "Very slow write speed (>15 mins for 65 million rows). Only benefit is compatibility outside python, and reading from disk due to memory constraints. It is interestingly quite fast (1 second), and at most half a minute. See https://pandas.pydata.org/pandas-docs/version/0.15.0/io.html#sql-queries. Obviously it cannot compare to in-memory pandas which when indexed properly takes less than a second. However, this could be useful in cases where memory is scarce or the database is far too large to load in memory. "
   ]
  },
  {
   "cell_type": "code",
   "execution_count": 10,
   "metadata": {
    "ExecuteTime": {
     "end_time": "2021-02-01T15:51:04.794304Z",
     "start_time": "2021-02-01T15:51:04.789770Z"
    }
   },
   "outputs": [],
   "source": [
    "import sqlite3\n",
    "import os"
   ]
  },
  {
   "cell_type": "code",
   "execution_count": 7,
   "metadata": {
    "ExecuteTime": {
     "end_time": "2021-02-01T15:50:39.291174Z",
     "start_time": "2021-02-01T15:50:36.283705Z"
    }
   },
   "outputs": [],
   "source": [
    "CarrierFragmentDB.reset_index(inplace=True)"
   ]
  },
  {
   "cell_type": "code",
   "execution_count": 22,
   "metadata": {
    "ExecuteTime": {
     "end_time": "2021-02-01T16:24:52.938745Z",
     "start_time": "2021-02-01T16:24:52.933688Z"
    }
   },
   "outputs": [],
   "source": [
    "db2=sqlite3.connect(\"/home/aa2133/Impurity-Project/Reaxys_Data/SQL/Reaxys_Data.db\")"
   ]
  },
  {
   "cell_type": "code",
   "execution_count": 14,
   "metadata": {
    "ExecuteTime": {
     "end_time": "2021-02-01T16:07:58.031285Z",
     "start_time": "2021-02-01T16:07:56.527901Z"
    }
   },
   "outputs": [],
   "source": [
    "CarrierFragmentDB.set_index('CarrierFragments',inplace=True)"
   ]
  },
  {
   "cell_type": "code",
   "execution_count": 16,
   "metadata": {
    "ExecuteTime": {
     "end_time": "2021-02-01T16:22:55.781769Z",
     "start_time": "2021-02-01T16:08:20.694193Z"
    }
   },
   "outputs": [],
   "source": [
    "CarrierFragmentDB.to_sql(\"CarrierFragment(n=6)\",db,if_exists=\"replace\")"
   ]
  },
  {
   "cell_type": "code",
   "execution_count": 76,
   "metadata": {
    "ExecuteTime": {
     "end_time": "2021-02-02T05:33:22.946237Z",
     "start_time": "2021-02-02T05:30:09.992455Z"
    }
   },
   "outputs": [],
   "source": [
    "cursor = db2.cursor()\n",
    "df = pd.read_sql_query('''select * from [CarrierFragment(n=6)]''', db2)"
   ]
  },
  {
   "cell_type": "code",
   "execution_count": 77,
   "metadata": {
    "ExecuteTime": {
     "end_time": "2021-02-02T05:34:38.814077Z",
     "start_time": "2021-02-02T05:34:38.658735Z"
    }
   },
   "outputs": [
    {
     "name": "stdout",
     "output_type": "stream",
     "text": [
      "<class 'pandas.core.frame.DataFrame'>\n",
      "RangeIndex: 64549677 entries, 0 to 64549676\n",
      "Data columns (total 3 columns):\n",
      " #   Column            Dtype \n",
      "---  ------            ----- \n",
      " 0   CarrierFragments  object\n",
      " 1   SubstanceID       int64 \n",
      " 2   Smiles            object\n",
      "dtypes: int64(1), object(2)\n",
      "memory usage: 1.4+ GB\n"
     ]
    }
   ],
   "source": [
    "df.info()"
   ]
  },
  {
   "cell_type": "code",
   "execution_count": 29,
   "metadata": {
    "ExecuteTime": {
     "end_time": "2021-02-01T16:31:37.728334Z",
     "start_time": "2021-02-01T16:31:37.719654Z"
    }
   },
   "outputs": [
    {
     "data": {
      "text/plain": [
       "<sqlite3.Cursor at 0x7ff539743f10>"
      ]
     },
     "execution_count": 29,
     "metadata": {},
     "output_type": "execute_result"
    }
   ],
   "source": [
    "cursor.execute(\"SELECT name FROM sqlite_master WHERE type='table';\")\n",
    "tables = cursor.fetchall()\n",
    "for table_name in tables:\n",
    "    table_name = table_name[0]"
   ]
  },
  {
   "cell_type": "code",
   "execution_count": 70,
   "metadata": {
    "ExecuteTime": {
     "end_time": "2021-02-02T05:07:44.243532Z",
     "start_time": "2021-02-02T05:06:00.960603Z"
    }
   },
   "outputs": [
    {
     "data": {
      "text/plain": [
       "<sqlite3.Cursor at 0x7ff2af7fb180>"
      ]
     },
     "execution_count": 70,
     "metadata": {},
     "output_type": "execute_result"
    }
   ],
   "source": [
    "cursor.execute('''CREATE INDEX CarrierFragments ON [CarrierFragment(n=6)] (CarrierFragments);''')"
   ]
  },
  {
   "cell_type": "code",
   "execution_count": 71,
   "metadata": {
    "ExecuteTime": {
     "end_time": "2021-02-02T05:09:18.452064Z",
     "start_time": "2021-02-02T05:09:18.196011Z"
    }
   },
   "outputs": [
    {
     "data": {
      "text/html": [
       "<div>\n",
       "<style scoped>\n",
       "    .dataframe tbody tr th:only-of-type {\n",
       "        vertical-align: middle;\n",
       "    }\n",
       "\n",
       "    .dataframe tbody tr th {\n",
       "        vertical-align: top;\n",
       "    }\n",
       "\n",
       "    .dataframe thead th {\n",
       "        text-align: right;\n",
       "    }\n",
       "</style>\n",
       "<table border=\"1\" class=\"dataframe\">\n",
       "  <thead>\n",
       "    <tr style=\"text-align: right;\">\n",
       "      <th></th>\n",
       "      <th>CarrierFragments</th>\n",
       "      <th>SubstanceID</th>\n",
       "      <th>Smiles</th>\n",
       "    </tr>\n",
       "  </thead>\n",
       "  <tbody>\n",
       "    <tr>\n",
       "      <th>0</th>\n",
       "      <td>[#6]-[#6](=[#8])-[#8]-[#6](-[#6])=[#8]</td>\n",
       "      <td>11305</td>\n",
       "      <td>C[C@]12CCCC(=O)[C@@H]1CC(=O)OC2=O</td>\n",
       "    </tr>\n",
       "    <tr>\n",
       "      <th>1</th>\n",
       "      <td>[#6]-[#6](=[#8])-[#8]-[#6](-[#6])=[#8]</td>\n",
       "      <td>23173</td>\n",
       "      <td>CC(=O)OC(=O)c1ccc(C(=O)OC(C)=O)o1</td>\n",
       "    </tr>\n",
       "    <tr>\n",
       "      <th>2</th>\n",
       "      <td>[#6]-[#6](=[#8])-[#8]-[#6](-[#6])=[#8]</td>\n",
       "      <td>34381</td>\n",
       "      <td>C[C@]12CC[C@H]3[C@@H](CC[C@H]4CC=CC[C@@]43C)[C...</td>\n",
       "    </tr>\n",
       "    <tr>\n",
       "      <th>3</th>\n",
       "      <td>[#6]-[#6](=[#8])-[#8]-[#6](-[#6])=[#8]</td>\n",
       "      <td>36991</td>\n",
       "      <td>C[C@]12CC[C@H]3[C@@H](CC=C4C=CCC[C@@]43C)[C@@H...</td>\n",
       "    </tr>\n",
       "    <tr>\n",
       "      <th>4</th>\n",
       "      <td>[#6]-[#6](=[#8])-[#8]-[#6](-[#6])=[#8]</td>\n",
       "      <td>38367</td>\n",
       "      <td>CC(=O)O[C@@H]1CC[C@]23C[C@@]1(C)CC[C@H]2C(C)(C...</td>\n",
       "    </tr>\n",
       "    <tr>\n",
       "      <th>...</th>\n",
       "      <td>...</td>\n",
       "      <td>...</td>\n",
       "      <td>...</td>\n",
       "    </tr>\n",
       "    <tr>\n",
       "      <th>247</th>\n",
       "      <td>[#6]-[#6](=[#8])-[#8]-[#6](-[#6])=[#8]</td>\n",
       "      <td>32467478</td>\n",
       "      <td>CC(=O)Nc1sc(-c2ccc(C(=O)OC(C)=O)cc2)c(-c2cccc(...</td>\n",
       "    </tr>\n",
       "    <tr>\n",
       "      <th>248</th>\n",
       "      <td>[#6]-[#6](=[#8])-[#8]-[#6](-[#6])=[#8]</td>\n",
       "      <td>32537675</td>\n",
       "      <td>CC(=O)OC(=O)CN(CCN(CC(=O)OC(C)=O)CC(=O)OC(C)=O...</td>\n",
       "    </tr>\n",
       "    <tr>\n",
       "      <th>249</th>\n",
       "      <td>[#6]-[#6](=[#8])-[#8]-[#6](-[#6])=[#8]</td>\n",
       "      <td>32537675</td>\n",
       "      <td>CC(=O)OC(=O)CN(CCN(CC(=O)OC(C)=O)CC(=O)OC(C)=O...</td>\n",
       "    </tr>\n",
       "    <tr>\n",
       "      <th>250</th>\n",
       "      <td>[#6]-[#6](=[#8])-[#8]-[#6](-[#6])=[#8]</td>\n",
       "      <td>32537675</td>\n",
       "      <td>CC(=O)OC(=O)CN(CCN(CC(=O)OC(C)=O)CC(=O)OC(C)=O...</td>\n",
       "    </tr>\n",
       "    <tr>\n",
       "      <th>251</th>\n",
       "      <td>[#6]-[#6](=[#8])-[#8]-[#6](-[#6])=[#8]</td>\n",
       "      <td>32570467</td>\n",
       "      <td>CC(=O)OC(C)=O</td>\n",
       "    </tr>\n",
       "  </tbody>\n",
       "</table>\n",
       "<p>252 rows × 3 columns</p>\n",
       "</div>"
      ],
      "text/plain": [
       "                           CarrierFragments  SubstanceID  \\\n",
       "0    [#6]-[#6](=[#8])-[#8]-[#6](-[#6])=[#8]        11305   \n",
       "1    [#6]-[#6](=[#8])-[#8]-[#6](-[#6])=[#8]        23173   \n",
       "2    [#6]-[#6](=[#8])-[#8]-[#6](-[#6])=[#8]        34381   \n",
       "3    [#6]-[#6](=[#8])-[#8]-[#6](-[#6])=[#8]        36991   \n",
       "4    [#6]-[#6](=[#8])-[#8]-[#6](-[#6])=[#8]        38367   \n",
       "..                                      ...          ...   \n",
       "247  [#6]-[#6](=[#8])-[#8]-[#6](-[#6])=[#8]     32467478   \n",
       "248  [#6]-[#6](=[#8])-[#8]-[#6](-[#6])=[#8]     32537675   \n",
       "249  [#6]-[#6](=[#8])-[#8]-[#6](-[#6])=[#8]     32537675   \n",
       "250  [#6]-[#6](=[#8])-[#8]-[#6](-[#6])=[#8]     32537675   \n",
       "251  [#6]-[#6](=[#8])-[#8]-[#6](-[#6])=[#8]     32570467   \n",
       "\n",
       "                                                Smiles  \n",
       "0                    C[C@]12CCCC(=O)[C@@H]1CC(=O)OC2=O  \n",
       "1                    CC(=O)OC(=O)c1ccc(C(=O)OC(C)=O)o1  \n",
       "2    C[C@]12CC[C@H]3[C@@H](CC[C@H]4CC=CC[C@@]43C)[C...  \n",
       "3    C[C@]12CC[C@H]3[C@@H](CC=C4C=CCC[C@@]43C)[C@@H...  \n",
       "4    CC(=O)O[C@@H]1CC[C@]23C[C@@]1(C)CC[C@H]2C(C)(C...  \n",
       "..                                                 ...  \n",
       "247  CC(=O)Nc1sc(-c2ccc(C(=O)OC(C)=O)cc2)c(-c2cccc(...  \n",
       "248  CC(=O)OC(=O)CN(CCN(CC(=O)OC(C)=O)CC(=O)OC(C)=O...  \n",
       "249  CC(=O)OC(=O)CN(CCN(CC(=O)OC(C)=O)CC(=O)OC(C)=O...  \n",
       "250  CC(=O)OC(=O)CN(CCN(CC(=O)OC(C)=O)CC(=O)OC(C)=O...  \n",
       "251                                      CC(=O)OC(C)=O  \n",
       "\n",
       "[252 rows x 3 columns]"
      ]
     },
     "execution_count": 71,
     "metadata": {},
     "output_type": "execute_result"
    }
   ],
   "source": [
    "pd.read_sql_query('''SELECT * from [CarrierFragment(n=6)] Where CarrierFragments=\"[#6]-[#6](=[#8])-[#8]-[#6](-[#6])=[#8]\"''',db2)"
   ]
  },
  {
   "cell_type": "code",
   "execution_count": 72,
   "metadata": {
    "ExecuteTime": {
     "end_time": "2021-02-02T05:10:31.913430Z",
     "start_time": "2021-02-02T05:09:32.049876Z"
    }
   },
   "outputs": [
    {
     "data": {
      "text/html": [
       "<div>\n",
       "<style scoped>\n",
       "    .dataframe tbody tr th:only-of-type {\n",
       "        vertical-align: middle;\n",
       "    }\n",
       "\n",
       "    .dataframe tbody tr th {\n",
       "        vertical-align: top;\n",
       "    }\n",
       "\n",
       "    .dataframe thead th {\n",
       "        text-align: right;\n",
       "    }\n",
       "</style>\n",
       "<table border=\"1\" class=\"dataframe\">\n",
       "  <thead>\n",
       "    <tr style=\"text-align: right;\">\n",
       "      <th></th>\n",
       "      <th>CarrierFragments</th>\n",
       "      <th>SubstanceID</th>\n",
       "      <th>Smiles</th>\n",
       "    </tr>\n",
       "  </thead>\n",
       "  <tbody>\n",
       "    <tr>\n",
       "      <th>0</th>\n",
       "      <td>[#6]:[#6](:[#6](-[#8]-[H]):[#6](:[#6])-[H])-[H]</td>\n",
       "      <td>2208089</td>\n",
       "      <td>CC(=O)Nc1ccc(O)cc1</td>\n",
       "    </tr>\n",
       "    <tr>\n",
       "      <th>1</th>\n",
       "      <td>[#6]-[#6](=[#8])-[#7](-[#6])-[H]</td>\n",
       "      <td>2208089</td>\n",
       "      <td>CC(=O)Nc1ccc(O)cc1</td>\n",
       "    </tr>\n",
       "    <tr>\n",
       "      <th>2</th>\n",
       "      <td>[#6]:[#6](:[#6](-[#8]-[H]):[#6](:[#6])-[H])-[H]</td>\n",
       "      <td>27422539</td>\n",
       "      <td>CC(=O)Nc1ccc(O)cc1</td>\n",
       "    </tr>\n",
       "    <tr>\n",
       "      <th>3</th>\n",
       "      <td>[#6]-[#6](=[#8])-[#7](-[#6])-[H]</td>\n",
       "      <td>27422539</td>\n",
       "      <td>CC(=O)Nc1ccc(O)cc1</td>\n",
       "    </tr>\n",
       "  </tbody>\n",
       "</table>\n",
       "</div>"
      ],
      "text/plain": [
       "                                  CarrierFragments  SubstanceID  \\\n",
       "0  [#6]:[#6](:[#6](-[#8]-[H]):[#6](:[#6])-[H])-[H]      2208089   \n",
       "1                 [#6]-[#6](=[#8])-[#7](-[#6])-[H]      2208089   \n",
       "2  [#6]:[#6](:[#6](-[#8]-[H]):[#6](:[#6])-[H])-[H]     27422539   \n",
       "3                 [#6]-[#6](=[#8])-[#7](-[#6])-[H]     27422539   \n",
       "\n",
       "               Smiles  \n",
       "0  CC(=O)Nc1ccc(O)cc1  \n",
       "1  CC(=O)Nc1ccc(O)cc1  \n",
       "2  CC(=O)Nc1ccc(O)cc1  \n",
       "3  CC(=O)Nc1ccc(O)cc1  "
      ]
     },
     "execution_count": 72,
     "metadata": {},
     "output_type": "execute_result"
    }
   ],
   "source": [
    "pd.read_sql_query('''SELECT * from [CarrierFragment(n=6)] Where Smiles=\"CC(=O)Nc1ccc(O)cc1\"''',db2)"
   ]
  },
  {
   "cell_type": "code",
   "execution_count": 74,
   "metadata": {
    "ExecuteTime": {
     "end_time": "2021-02-02T05:11:34.185243Z",
     "start_time": "2021-02-02T05:11:25.869377Z"
    }
   },
   "outputs": [
    {
     "data": {
      "text/html": [
       "<div>\n",
       "<style scoped>\n",
       "    .dataframe tbody tr th:only-of-type {\n",
       "        vertical-align: middle;\n",
       "    }\n",
       "\n",
       "    .dataframe tbody tr th {\n",
       "        vertical-align: top;\n",
       "    }\n",
       "\n",
       "    .dataframe thead th {\n",
       "        text-align: right;\n",
       "    }\n",
       "</style>\n",
       "<table border=\"1\" class=\"dataframe\">\n",
       "  <thead>\n",
       "    <tr style=\"text-align: right;\">\n",
       "      <th></th>\n",
       "      <th>CarrierFragments</th>\n",
       "      <th>SubstanceID</th>\n",
       "      <th>Smiles</th>\n",
       "    </tr>\n",
       "  </thead>\n",
       "  <tbody>\n",
       "    <tr>\n",
       "      <th>0</th>\n",
       "      <td>[#6]-[#6](=[#8])-[#8]-[#6](=[#8])-[#6]</td>\n",
       "      <td>23173</td>\n",
       "      <td>CC(=O)OC(=O)c1ccc(C(=O)OC(C)=O)o1</td>\n",
       "    </tr>\n",
       "    <tr>\n",
       "      <th>1</th>\n",
       "      <td>[#6]-[#6](=[#8])-[#8]-[#6](-[#6])=[#8]</td>\n",
       "      <td>23173</td>\n",
       "      <td>CC(=O)OC(=O)c1ccc(C(=O)OC(C)=O)o1</td>\n",
       "    </tr>\n",
       "    <tr>\n",
       "      <th>2</th>\n",
       "      <td>[#6]-[#6]1:[#6]:[#6]:[#6](-[#6]):[#8]:1</td>\n",
       "      <td>23173</td>\n",
       "      <td>CC(=O)OC(=O)c1ccc(C(=O)OC(C)=O)o1</td>\n",
       "    </tr>\n",
       "  </tbody>\n",
       "</table>\n",
       "</div>"
      ],
      "text/plain": [
       "                          CarrierFragments  SubstanceID  \\\n",
       "0   [#6]-[#6](=[#8])-[#8]-[#6](=[#8])-[#6]        23173   \n",
       "1   [#6]-[#6](=[#8])-[#8]-[#6](-[#6])=[#8]        23173   \n",
       "2  [#6]-[#6]1:[#6]:[#6]:[#6](-[#6]):[#8]:1        23173   \n",
       "\n",
       "                              Smiles  \n",
       "0  CC(=O)OC(=O)c1ccc(C(=O)OC(C)=O)o1  \n",
       "1  CC(=O)OC(=O)c1ccc(C(=O)OC(C)=O)o1  \n",
       "2  CC(=O)OC(=O)c1ccc(C(=O)OC(C)=O)o1  "
      ]
     },
     "execution_count": 74,
     "metadata": {},
     "output_type": "execute_result"
    }
   ],
   "source": [
    "pd.read_sql_query('''SELECT * from [CarrierFragment(n=6)] Where Smiles=\"CC(=O)OC(=O)c1ccc(C(=O)OC(C)=O)o1\"''',db2)"
   ]
  },
  {
   "cell_type": "code",
   "execution_count": 48,
   "metadata": {
    "ExecuteTime": {
     "end_time": "2021-02-01T16:56:44.546703Z",
     "start_time": "2021-02-01T16:56:44.337825Z"
    }
   },
   "outputs": [
    {
     "data": {
      "text/plain": [
       "'CC(=O)Nc1ccc(O)cc1'"
      ]
     },
     "execution_count": 48,
     "metadata": {},
     "output_type": "execute_result"
    }
   ],
   "source": [
    "Chem.MolToSmiles(Chem.MolFromSmiles('CC(=O)NC1=CC=C(C=C1)O'))"
   ]
  },
  {
   "cell_type": "code",
   "execution_count": 52,
   "metadata": {
    "ExecuteTime": {
     "end_time": "2021-02-01T17:09:46.892023Z",
     "start_time": "2021-02-01T17:09:46.873081Z"
    }
   },
   "outputs": [
    {
     "data": {
      "image/png": "[encoded data removed]",
      "text/plain": [
       "<rdkit.Chem.rdchem.Mol at 0x7ff367a2aee0>"
      ]
     },
     "execution_count": 52,
     "metadata": {},
     "output_type": "execute_result"
    }
   ],
   "source": [
    "Chem.MolFromSmarts('[#6]-[#6](=[#8])-[#7](-[#6])-[H]')"
   ]
  },
  {
   "cell_type": "code",
   "execution_count": 53,
   "metadata": {
    "ExecuteTime": {
     "end_time": "2021-02-01T17:10:44.556822Z",
     "start_time": "2021-02-01T17:10:44.358705Z"
    },
    "scrolled": true
   },
   "outputs": [
    {
     "data": {
      "image/png": "[encoded data removed]",
      "text/plain": [
       "<rdkit.Chem.rdchem.Mol at 0x7ff3327dc300>"
      ]
     },
     "execution_count": 53,
     "metadata": {},
     "output_type": "execute_result"
    }
   ],
   "source": [
    "Chem.MolFromSmiles('CC(=O)Nc1ccc(O)cc1')"
   ]
  },
  {
   "cell_type": "markdown",
   "metadata": {},
   "source": [
    "## Active Fragment Database (n=0)"
   ]
  },
  {
   "cell_type": "markdown",
   "metadata": {},
   "source": [
    "### Dask dataframe"
   ]
  },
  {
   "cell_type": "code",
   "execution_count": 46,
   "metadata": {
    "ExecuteTime": {
     "end_time": "2021-01-29T17:39:53.801299Z",
     "start_time": "2021-01-29T17:39:53.448312Z"
    }
   },
   "outputs": [],
   "source": [
    "ActiveFragmentDBDask=dd.read_parquet('/home/aa2133/Impurity-Project/Reaxys_Data/ActiveFragmentDBDask')\n",
    "ActiveFragmentDBDask=client.persist(ActiveFragmentDBDask)"
   ]
  },
  {
   "cell_type": "code",
   "execution_count": 52,
   "metadata": {
    "ExecuteTime": {
     "end_time": "2021-01-29T17:45:51.323764Z",
     "start_time": "2021-01-29T17:45:48.812747Z"
    }
   },
   "outputs": [
    {
     "data": {
      "text/html": [
       "<div>\n",
       "<style scoped>\n",
       "    .dataframe tbody tr th:only-of-type {\n",
       "        vertical-align: middle;\n",
       "    }\n",
       "\n",
       "    .dataframe tbody tr th {\n",
       "        vertical-align: top;\n",
       "    }\n",
       "\n",
       "    .dataframe thead th {\n",
       "        text-align: right;\n",
       "    }\n",
       "</style>\n",
       "<table border=\"1\" class=\"dataframe\">\n",
       "  <thead>\n",
       "    <tr style=\"text-align: right;\">\n",
       "      <th></th>\n",
       "      <th>ActiveFragments</th>\n",
       "      <th>Smiles</th>\n",
       "    </tr>\n",
       "    <tr>\n",
       "      <th>SubstanceID</th>\n",
       "      <th></th>\n",
       "      <th></th>\n",
       "    </tr>\n",
       "  </thead>\n",
       "  <tbody>\n",
       "    <tr>\n",
       "      <th>33195</th>\n",
       "      <td>[#8]-[Si]</td>\n",
       "      <td>CO[C@@H]1O[C@@H]2[C@H](O[Si](C)(C)C)C(=O)O[C@@...</td>\n",
       "    </tr>\n",
       "    <tr>\n",
       "      <th>33195</th>\n",
       "      <td>[#8]-[Si]</td>\n",
       "      <td>CO[C@@H]1O[C@@H]2[C@H](O[Si](C)(C)C)C(=O)O[C@@...</td>\n",
       "    </tr>\n",
       "    <tr>\n",
       "      <th>41874</th>\n",
       "      <td>[#8]-[Si]</td>\n",
       "      <td>C[Si](C)(C)OC1O[C@@H]2[C@H](O[Si](C)(C)C)C(=O)...</td>\n",
       "    </tr>\n",
       "    <tr>\n",
       "      <th>41874</th>\n",
       "      <td>[#8]-[Si]</td>\n",
       "      <td>C[Si](C)(C)OC1O[C@@H]2[C@H](O[Si](C)(C)C)C(=O)...</td>\n",
       "    </tr>\n",
       "    <tr>\n",
       "      <th>47408</th>\n",
       "      <td>[#8]-[Si]</td>\n",
       "      <td>C[Si](C)(C)OC[C@@H](O[Si](C)(C)C)[C@@H]1O[C@H]...</td>\n",
       "    </tr>\n",
       "    <tr>\n",
       "      <th>...</th>\n",
       "      <td>...</td>\n",
       "      <td>...</td>\n",
       "    </tr>\n",
       "    <tr>\n",
       "      <th>32975456</th>\n",
       "      <td>[#8]-[Si]</td>\n",
       "      <td>CCCCCC(=O)C=C[C@@H]1[C@H](O[Si](C)(C)C(C)(C)C)...</td>\n",
       "    </tr>\n",
       "    <tr>\n",
       "      <th>32983795</th>\n",
       "      <td>[#8]-[Si]</td>\n",
       "      <td>CC(C)(C)C(=O)O[C@@H]1[C@H](O[Si](C)(C)C(C)(C)C...</td>\n",
       "    </tr>\n",
       "    <tr>\n",
       "      <th>32983795</th>\n",
       "      <td>[#8]-[Si]</td>\n",
       "      <td>CC(C)(C)C(=O)O[C@@H]1[C@H](O[Si](C)(C)C(C)(C)C...</td>\n",
       "    </tr>\n",
       "    <tr>\n",
       "      <th>32983884</th>\n",
       "      <td>[#8]-[Si]</td>\n",
       "      <td>C=C(CO[Si](C)(C)C(C)(C)C)[C@@H]1[C@@H]2CC[C@@]...</td>\n",
       "    </tr>\n",
       "    <tr>\n",
       "      <th>32983885</th>\n",
       "      <td>[#8]-[Si]</td>\n",
       "      <td>C=C(CO[Si](C)(C)C(C)(C)C)[C@@H]1[C@@H]2CC[C@H]...</td>\n",
       "    </tr>\n",
       "  </tbody>\n",
       "</table>\n",
       "<p>489890 rows × 2 columns</p>\n",
       "</div>"
      ],
      "text/plain": [
       "            ActiveFragments                                             Smiles\n",
       "SubstanceID                                                                   \n",
       "33195             [#8]-[Si]  CO[C@@H]1O[C@@H]2[C@H](O[Si](C)(C)C)C(=O)O[C@@...\n",
       "33195             [#8]-[Si]  CO[C@@H]1O[C@@H]2[C@H](O[Si](C)(C)C)C(=O)O[C@@...\n",
       "41874             [#8]-[Si]  C[Si](C)(C)OC1O[C@@H]2[C@H](O[Si](C)(C)C)C(=O)...\n",
       "41874             [#8]-[Si]  C[Si](C)(C)OC1O[C@@H]2[C@H](O[Si](C)(C)C)C(=O)...\n",
       "47408             [#8]-[Si]  C[Si](C)(C)OC[C@@H](O[Si](C)(C)C)[C@@H]1O[C@H]...\n",
       "...                     ...                                                ...\n",
       "32975456          [#8]-[Si]  CCCCCC(=O)C=C[C@@H]1[C@H](O[Si](C)(C)C(C)(C)C)...\n",
       "32983795          [#8]-[Si]  CC(C)(C)C(=O)O[C@@H]1[C@H](O[Si](C)(C)C(C)(C)C...\n",
       "32983795          [#8]-[Si]  CC(C)(C)C(=O)O[C@@H]1[C@H](O[Si](C)(C)C(C)(C)C...\n",
       "32983884          [#8]-[Si]  C=C(CO[Si](C)(C)C(C)(C)C)[C@@H]1[C@@H]2CC[C@@]...\n",
       "32983885          [#8]-[Si]  C=C(CO[Si](C)(C)C(C)(C)C)[C@@H]1[C@@H]2CC[C@H]...\n",
       "\n",
       "[489890 rows x 2 columns]"
      ]
     },
     "execution_count": 52,
     "metadata": {},
     "output_type": "execute_result"
    },
    {
     "data": {
      "text/html": [
       "<div>\n",
       "<style scoped>\n",
       "    .dataframe tbody tr th:only-of-type {\n",
       "        vertical-align: middle;\n",
       "    }\n",
       "\n",
       "    .dataframe tbody tr th {\n",
       "        vertical-align: top;\n",
       "    }\n",
       "\n",
       "    .dataframe thead th {\n",
       "        text-align: right;\n",
       "    }\n",
       "</style>\n",
       "<table border=\"1\" class=\"dataframe\">\n",
       "  <thead>\n",
       "    <tr style=\"text-align: right;\">\n",
       "      <th></th>\n",
       "      <th>ActiveFragments</th>\n",
       "      <th>Smiles</th>\n",
       "    </tr>\n",
       "    <tr>\n",
       "      <th>SubstanceID</th>\n",
       "      <th></th>\n",
       "      <th></th>\n",
       "    </tr>\n",
       "  </thead>\n",
       "  <tbody>\n",
       "    <tr>\n",
       "      <th>1112</th>\n",
       "      <td>[Si]-[#8]</td>\n",
       "      <td>C[Si]1(C)CCCO1</td>\n",
       "    </tr>\n",
       "    <tr>\n",
       "      <th>1132</th>\n",
       "      <td>[Si]-[#8]</td>\n",
       "      <td>C[Si]1(C)CCCCO1</td>\n",
       "    </tr>\n",
       "    <tr>\n",
       "      <th>1181</th>\n",
       "      <td>[Si]-[#8]</td>\n",
       "      <td>C[Si]1(C)COCCO1</td>\n",
       "    </tr>\n",
       "    <tr>\n",
       "      <th>1193</th>\n",
       "      <td>[Si]-[#8]</td>\n",
       "      <td>C[Si]1(C)CCCCCO1</td>\n",
       "    </tr>\n",
       "    <tr>\n",
       "      <th>47408</th>\n",
       "      <td>[Si]-[#8]</td>\n",
       "      <td>C[Si](C)(C)OC[C@@H](O[Si](C)(C)C)[C@@H]1O[C@H]...</td>\n",
       "    </tr>\n",
       "    <tr>\n",
       "      <th>...</th>\n",
       "      <td>...</td>\n",
       "      <td>...</td>\n",
       "    </tr>\n",
       "    <tr>\n",
       "      <th>32931896</th>\n",
       "      <td>[Si]-[#8]</td>\n",
       "      <td>CC(C)(C)[Si](C)(C)OCC[C@@H](CCC[C@@H](O)CO)O[S...</td>\n",
       "    </tr>\n",
       "    <tr>\n",
       "      <th>32942630</th>\n",
       "      <td>[Si]-[#8]</td>\n",
       "      <td>CC(C)(C)[Si](C)(C)OCCCCC(O)[C@]1(C)C=C[C@@H](C...</td>\n",
       "    </tr>\n",
       "    <tr>\n",
       "      <th>32948180</th>\n",
       "      <td>[Si]-[#8]</td>\n",
       "      <td>CC(C)(C)[Si](C)(C)OC[C@H]1O[C@@H](n2ccc(NC(=O)...</td>\n",
       "    </tr>\n",
       "    <tr>\n",
       "      <th>32952992</th>\n",
       "      <td>[Si]-[#8]</td>\n",
       "      <td>CC(C)(C)[Si](C)(C)O[C@H]1[C@H]2O[C@]3(C)O[C@@H...</td>\n",
       "    </tr>\n",
       "    <tr>\n",
       "      <th>32967863</th>\n",
       "      <td>[Si]-[#8]</td>\n",
       "      <td>CC(C)C(C)(C)[Si](C)(C)OC[C@H]1O[C@@H](OC[C@H]2...</td>\n",
       "    </tr>\n",
       "  </tbody>\n",
       "</table>\n",
       "<p>113371 rows × 2 columns</p>\n",
       "</div>"
      ],
      "text/plain": [
       "            ActiveFragments                                             Smiles\n",
       "SubstanceID                                                                   \n",
       "1112              [Si]-[#8]                                     C[Si]1(C)CCCO1\n",
       "1132              [Si]-[#8]                                    C[Si]1(C)CCCCO1\n",
       "1181              [Si]-[#8]                                    C[Si]1(C)COCCO1\n",
       "1193              [Si]-[#8]                                   C[Si]1(C)CCCCCO1\n",
       "47408             [Si]-[#8]  C[Si](C)(C)OC[C@@H](O[Si](C)(C)C)[C@@H]1O[C@H]...\n",
       "...                     ...                                                ...\n",
       "32931896          [Si]-[#8]  CC(C)(C)[Si](C)(C)OCC[C@@H](CCC[C@@H](O)CO)O[S...\n",
       "32942630          [Si]-[#8]  CC(C)(C)[Si](C)(C)OCCCCC(O)[C@]1(C)C=C[C@@H](C...\n",
       "32948180          [Si]-[#8]  CC(C)(C)[Si](C)(C)OC[C@H]1O[C@@H](n2ccc(NC(=O)...\n",
       "32952992          [Si]-[#8]  CC(C)(C)[Si](C)(C)O[C@H]1[C@H]2O[C@]3(C)O[C@@H...\n",
       "32967863          [Si]-[#8]  CC(C)C(C)(C)[Si](C)(C)OC[C@H]1O[C@@H](OC[C@H]2...\n",
       "\n",
       "[113371 rows x 2 columns]"
      ]
     },
     "execution_count": 52,
     "metadata": {},
     "output_type": "execute_result"
    },
    {
     "data": {
      "text/html": [
       "<div>\n",
       "<style scoped>\n",
       "    .dataframe tbody tr th:only-of-type {\n",
       "        vertical-align: middle;\n",
       "    }\n",
       "\n",
       "    .dataframe tbody tr th {\n",
       "        vertical-align: top;\n",
       "    }\n",
       "\n",
       "    .dataframe thead th {\n",
       "        text-align: right;\n",
       "    }\n",
       "</style>\n",
       "<table border=\"1\" class=\"dataframe\">\n",
       "  <thead>\n",
       "    <tr style=\"text-align: right;\">\n",
       "      <th></th>\n",
       "      <th>ActiveFragments</th>\n",
       "      <th>Smiles</th>\n",
       "    </tr>\n",
       "    <tr>\n",
       "      <th>SubstanceID</th>\n",
       "      <th></th>\n",
       "      <th></th>\n",
       "    </tr>\n",
       "  </thead>\n",
       "  <tbody>\n",
       "    <tr>\n",
       "      <th>71120</th>\n",
       "      <td>Error</td>\n",
       "      <td>C=Cc1cc(OC)c(OC)c2c1/c=c\\c1ccc(cc1)-o-c1c(c(C=...</td>\n",
       "    </tr>\n",
       "    <tr>\n",
       "      <th>2642603</th>\n",
       "      <td>Error</td>\n",
       "      <td>c1=c\\c2ccc(cc2)-c2ccccc2-c2ccc/1cc2</td>\n",
       "    </tr>\n",
       "    <tr>\n",
       "      <th>3191701</th>\n",
       "      <td>Error</td>\n",
       "      <td>O=c1c2c(c(=O)c3c1c1c4cccc5cccc(c54)c1c1c4cccc5...</td>\n",
       "    </tr>\n",
       "    <tr>\n",
       "      <th>3894775</th>\n",
       "      <td>Error</td>\n",
       "      <td>COc1cc(CC[N+](C)(C)C)c2c(c1OC)-o-c1ccc(cc1)/c=...</td>\n",
       "    </tr>\n",
       "    <tr>\n",
       "      <th>3957813</th>\n",
       "      <td>Error</td>\n",
       "      <td>[Na+].c1ccc([GeH2-](c2ccccc2)c2ccccc2)cc1</td>\n",
       "    </tr>\n",
       "    <tr>\n",
       "      <th>...</th>\n",
       "      <td>...</td>\n",
       "      <td>...</td>\n",
       "    </tr>\n",
       "    <tr>\n",
       "      <th>32826420</th>\n",
       "      <td>Error</td>\n",
       "      <td>C1CCOC1.C[Si](C)(C)[GeH2-]([Si](C)(C)C)[Si](C)...</td>\n",
       "    </tr>\n",
       "    <tr>\n",
       "      <th>32826421</th>\n",
       "      <td>Error</td>\n",
       "      <td>C1CCOC1.C[Si](C)(C)[GeH2-]([Si](C)(C)C)[Si](C)...</td>\n",
       "    </tr>\n",
       "    <tr>\n",
       "      <th>32826422</th>\n",
       "      <td>Error</td>\n",
       "      <td>CN(C)CCN(C)C.C[Si](C)(C)[GeH2-]([Si](C)(C)C)[S...</td>\n",
       "    </tr>\n",
       "    <tr>\n",
       "      <th>32839723</th>\n",
       "      <td>Error</td>\n",
       "      <td>CC(C)(C)C1=[GeH2-]C=CC=C1.[Li+]</td>\n",
       "    </tr>\n",
       "    <tr>\n",
       "      <th>32839724</th>\n",
       "      <td>Error</td>\n",
       "      <td>CC(C)(C)C1=[GeH2-]C=CC=C1.[Na+]</td>\n",
       "    </tr>\n",
       "  </tbody>\n",
       "</table>\n",
       "<p>238 rows × 2 columns</p>\n",
       "</div>"
      ],
      "text/plain": [
       "            ActiveFragments                                             Smiles\n",
       "SubstanceID                                                                   \n",
       "71120                 Error  C=Cc1cc(OC)c(OC)c2c1/c=c\\c1ccc(cc1)-o-c1c(c(C=...\n",
       "2642603               Error                c1=c\\c2ccc(cc2)-c2ccccc2-c2ccc/1cc2\n",
       "3191701               Error  O=c1c2c(c(=O)c3c1c1c4cccc5cccc(c54)c1c1c4cccc5...\n",
       "3894775               Error  COc1cc(CC[N+](C)(C)C)c2c(c1OC)-o-c1ccc(cc1)/c=...\n",
       "3957813               Error          [Na+].c1ccc([GeH2-](c2ccccc2)c2ccccc2)cc1\n",
       "...                     ...                                                ...\n",
       "32826420              Error  C1CCOC1.C[Si](C)(C)[GeH2-]([Si](C)(C)C)[Si](C)...\n",
       "32826421              Error  C1CCOC1.C[Si](C)(C)[GeH2-]([Si](C)(C)C)[Si](C)...\n",
       "32826422              Error  CN(C)CCN(C)C.C[Si](C)(C)[GeH2-]([Si](C)(C)C)[S...\n",
       "32839723              Error                    CC(C)(C)C1=[GeH2-]C=CC=C1.[Li+]\n",
       "32839724              Error                    CC(C)(C)C1=[GeH2-]C=CC=C1.[Na+]\n",
       "\n",
       "[238 rows x 2 columns]"
      ]
     },
     "execution_count": 52,
     "metadata": {},
     "output_type": "execute_result"
    }
   ],
   "source": [
    "ActiveFragmentDBDask.loc[ActiveFragmentDBDask['ActiveFragments']=='[#8]-[Si]'].compute()\n",
    "ActiveFragmentDBDask.loc[ActiveFragmentDBDask['ActiveFragments']=='[Si]-[#8]'].compute()\n",
    "ActiveFragmentDBDask.loc[ActiveFragmentDBDask['ActiveFragments']=='Error'].compute()"
   ]
  },
  {
   "cell_type": "markdown",
   "metadata": {},
   "source": [
    "### Pandas dataframe"
   ]
  },
  {
   "cell_type": "code",
   "execution_count": 11,
   "metadata": {
    "ExecuteTime": {
     "end_time": "2021-01-30T12:47:46.136432Z",
     "start_time": "2021-01-30T12:47:36.658261Z"
    }
   },
   "outputs": [],
   "source": [
    "ActiveFragmentDB=openpickle(\"/home/aa2133/Impurity-Project/Reaxys_Data/ActiveFragmentDB.pickle\")"
   ]
  },
  {
   "cell_type": "code",
   "execution_count": 15,
   "metadata": {
    "ExecuteTime": {
     "end_time": "2021-01-30T12:48:27.693414Z",
     "start_time": "2021-01-30T12:48:27.614734Z"
    }
   },
   "outputs": [
    {
     "data": {
      "text/html": [
       "<div>\n",
       "<style scoped>\n",
       "    .dataframe tbody tr th:only-of-type {\n",
       "        vertical-align: middle;\n",
       "    }\n",
       "\n",
       "    .dataframe tbody tr th {\n",
       "        vertical-align: top;\n",
       "    }\n",
       "\n",
       "    .dataframe thead th {\n",
       "        text-align: right;\n",
       "    }\n",
       "</style>\n",
       "<table border=\"1\" class=\"dataframe\">\n",
       "  <thead>\n",
       "    <tr style=\"text-align: right;\">\n",
       "      <th></th>\n",
       "      <th></th>\n",
       "      <th>Smiles</th>\n",
       "    </tr>\n",
       "    <tr>\n",
       "      <th>ActiveFragments</th>\n",
       "      <th>SubstanceID</th>\n",
       "      <th></th>\n",
       "    </tr>\n",
       "  </thead>\n",
       "  <tbody>\n",
       "    <tr>\n",
       "      <th>[#6](=[#8])-[#8]</th>\n",
       "      <th>925</th>\n",
       "      <td>CC(=O)OCC1(COC(C)=O)Nc2cccc3cccc(c23)N1</td>\n",
       "    </tr>\n",
       "    <tr>\n",
       "      <th>[#6](-[#7])-[#7]</th>\n",
       "      <th>925</th>\n",
       "      <td>CC(=O)OCC1(COC(C)=O)Nc2cccc3cccc(c23)N1</td>\n",
       "    </tr>\n",
       "    <tr>\n",
       "      <th>[#8]-[#6]=[#8]</th>\n",
       "      <th>925</th>\n",
       "      <td>CC(=O)OCC1(COC(C)=O)Nc2cccc3cccc(c23)N1</td>\n",
       "    </tr>\n",
       "    <tr>\n",
       "      <th>[#6](=[#8])-[#8]</th>\n",
       "      <th>929</th>\n",
       "      <td>CCCCCC(=O)OCC1(COC(=O)CCCCC)Nc2cccc3ccc(C4C(=O...</td>\n",
       "    </tr>\n",
       "    <tr>\n",
       "      <th>[#6](-[#7])-[#7]</th>\n",
       "      <th>929</th>\n",
       "      <td>CCCCCC(=O)OCC1(COC(=O)CCCCC)Nc2cccc3ccc(C4C(=O...</td>\n",
       "    </tr>\n",
       "    <tr>\n",
       "      <th>...</th>\n",
       "      <th>...</th>\n",
       "      <td>...</td>\n",
       "    </tr>\n",
       "    <tr>\n",
       "      <th>[#8]-[Si]</th>\n",
       "      <th>32983885</th>\n",
       "      <td>C=C(CO[Si](C)(C)C(C)(C)C)[C@@H]1[C@@H]2CC[C@H]...</td>\n",
       "    </tr>\n",
       "    <tr>\n",
       "      <th>[#6](=[#8])-[#8]</th>\n",
       "      <th>32983885</th>\n",
       "      <td>C=C(CO[Si](C)(C)C(C)(C)C)[C@@H]1[C@@H]2CC[C@H]...</td>\n",
       "    </tr>\n",
       "    <tr>\n",
       "      <th>[#35]</th>\n",
       "      <th>32984157</th>\n",
       "      <td>Brc1ccc2ncccc2c1.Cl</td>\n",
       "    </tr>\n",
       "    <tr>\n",
       "      <th>[#17]</th>\n",
       "      <th>32984157</th>\n",
       "      <td>Brc1ccc2ncccc2c1.Cl</td>\n",
       "    </tr>\n",
       "    <tr>\n",
       "      <th>[#7]</th>\n",
       "      <th>32984157</th>\n",
       "      <td>Brc1ccc2ncccc2c1.Cl</td>\n",
       "    </tr>\n",
       "  </tbody>\n",
       "</table>\n",
       "<p>67269451 rows × 1 columns</p>\n",
       "</div>"
      ],
      "text/plain": [
       "                                                                         Smiles\n",
       "ActiveFragments  SubstanceID                                                   \n",
       "[#6](=[#8])-[#8] 925                    CC(=O)OCC1(COC(C)=O)Nc2cccc3cccc(c23)N1\n",
       "[#6](-[#7])-[#7] 925                    CC(=O)OCC1(COC(C)=O)Nc2cccc3cccc(c23)N1\n",
       "[#8]-[#6]=[#8]   925                    CC(=O)OCC1(COC(C)=O)Nc2cccc3cccc(c23)N1\n",
       "[#6](=[#8])-[#8] 929          CCCCCC(=O)OCC1(COC(=O)CCCCC)Nc2cccc3ccc(C4C(=O...\n",
       "[#6](-[#7])-[#7] 929          CCCCCC(=O)OCC1(COC(=O)CCCCC)Nc2cccc3ccc(C4C(=O...\n",
       "...                                                                         ...\n",
       "[#8]-[Si]        32983885     C=C(CO[Si](C)(C)C(C)(C)C)[C@@H]1[C@@H]2CC[C@H]...\n",
       "[#6](=[#8])-[#8] 32983885     C=C(CO[Si](C)(C)C(C)(C)C)[C@@H]1[C@@H]2CC[C@H]...\n",
       "[#35]            32984157                                   Brc1ccc2ncccc2c1.Cl\n",
       "[#17]            32984157                                   Brc1ccc2ncccc2c1.Cl\n",
       "[#7]             32984157                                   Brc1ccc2ncccc2c1.Cl\n",
       "\n",
       "[67269451 rows x 1 columns]"
      ]
     },
     "execution_count": 15,
     "metadata": {},
     "output_type": "execute_result"
    },
    {
     "name": "stderr",
     "output_type": "stream",
     "text": [
      "distributed.client - ERROR - Failed to reconnect to scheduler after 10.00 seconds, closing client\n",
      "_GatheringFuture exception was never retrieved\n",
      "future: <_GatheringFuture finished exception=CancelledError()>\n",
      "asyncio.exceptions.CancelledError\n"
     ]
    }
   ],
   "source": [
    "ActiveFragmentDB"
   ]
  },
  {
   "cell_type": "code",
   "execution_count": 14,
   "metadata": {
    "ExecuteTime": {
     "end_time": "2021-01-30T12:48:06.824390Z",
     "start_time": "2021-01-30T12:48:06.025191Z"
    }
   },
   "outputs": [
    {
     "data": {
      "text/html": [
       "<div>\n",
       "<style scoped>\n",
       "    .dataframe tbody tr th:only-of-type {\n",
       "        vertical-align: middle;\n",
       "    }\n",
       "\n",
       "    .dataframe tbody tr th {\n",
       "        vertical-align: top;\n",
       "    }\n",
       "\n",
       "    .dataframe thead th {\n",
       "        text-align: right;\n",
       "    }\n",
       "</style>\n",
       "<table border=\"1\" class=\"dataframe\">\n",
       "  <thead>\n",
       "    <tr style=\"text-align: right;\">\n",
       "      <th></th>\n",
       "      <th>Smiles</th>\n",
       "    </tr>\n",
       "    <tr>\n",
       "      <th>SubstanceID</th>\n",
       "      <th></th>\n",
       "    </tr>\n",
       "  </thead>\n",
       "  <tbody>\n",
       "    <tr>\n",
       "      <th>33195</th>\n",
       "      <td>CO[C@@H]1O[C@@H]2[C@H](O[Si](C)(C)C)C(=O)O[C@@...</td>\n",
       "    </tr>\n",
       "    <tr>\n",
       "      <th>33195</th>\n",
       "      <td>CO[C@@H]1O[C@@H]2[C@H](O[Si](C)(C)C)C(=O)O[C@@...</td>\n",
       "    </tr>\n",
       "    <tr>\n",
       "      <th>41874</th>\n",
       "      <td>C[Si](C)(C)OC1O[C@@H]2[C@H](O[Si](C)(C)C)C(=O)...</td>\n",
       "    </tr>\n",
       "    <tr>\n",
       "      <th>41874</th>\n",
       "      <td>C[Si](C)(C)OC1O[C@@H]2[C@H](O[Si](C)(C)C)C(=O)...</td>\n",
       "    </tr>\n",
       "    <tr>\n",
       "      <th>47408</th>\n",
       "      <td>C[Si](C)(C)OC[C@@H](O[Si](C)(C)C)[C@@H]1O[C@H]...</td>\n",
       "    </tr>\n",
       "    <tr>\n",
       "      <th>...</th>\n",
       "      <td>...</td>\n",
       "    </tr>\n",
       "    <tr>\n",
       "      <th>32975456</th>\n",
       "      <td>CCCCCC(=O)C=C[C@@H]1[C@H](O[Si](C)(C)C(C)(C)C)...</td>\n",
       "    </tr>\n",
       "    <tr>\n",
       "      <th>32983795</th>\n",
       "      <td>CC(C)(C)C(=O)O[C@@H]1[C@H](O[Si](C)(C)C(C)(C)C...</td>\n",
       "    </tr>\n",
       "    <tr>\n",
       "      <th>32983795</th>\n",
       "      <td>CC(C)(C)C(=O)O[C@@H]1[C@H](O[Si](C)(C)C(C)(C)C...</td>\n",
       "    </tr>\n",
       "    <tr>\n",
       "      <th>32983884</th>\n",
       "      <td>C=C(CO[Si](C)(C)C(C)(C)C)[C@@H]1[C@@H]2CC[C@@]...</td>\n",
       "    </tr>\n",
       "    <tr>\n",
       "      <th>32983885</th>\n",
       "      <td>C=C(CO[Si](C)(C)C(C)(C)C)[C@@H]1[C@@H]2CC[C@H]...</td>\n",
       "    </tr>\n",
       "  </tbody>\n",
       "</table>\n",
       "<p>489890 rows × 1 columns</p>\n",
       "</div>"
      ],
      "text/plain": [
       "                                                        Smiles\n",
       "SubstanceID                                                   \n",
       "33195        CO[C@@H]1O[C@@H]2[C@H](O[Si](C)(C)C)C(=O)O[C@@...\n",
       "33195        CO[C@@H]1O[C@@H]2[C@H](O[Si](C)(C)C)C(=O)O[C@@...\n",
       "41874        C[Si](C)(C)OC1O[C@@H]2[C@H](O[Si](C)(C)C)C(=O)...\n",
       "41874        C[Si](C)(C)OC1O[C@@H]2[C@H](O[Si](C)(C)C)C(=O)...\n",
       "47408        C[Si](C)(C)OC[C@@H](O[Si](C)(C)C)[C@@H]1O[C@H]...\n",
       "...                                                        ...\n",
       "32975456     CCCCCC(=O)C=C[C@@H]1[C@H](O[Si](C)(C)C(C)(C)C)...\n",
       "32983795     CC(C)(C)C(=O)O[C@@H]1[C@H](O[Si](C)(C)C(C)(C)C...\n",
       "32983795     CC(C)(C)C(=O)O[C@@H]1[C@H](O[Si](C)(C)C(C)(C)C...\n",
       "32983884     C=C(CO[Si](C)(C)C(C)(C)C)[C@@H]1[C@@H]2CC[C@@]...\n",
       "32983885     C=C(CO[Si](C)(C)C(C)(C)C)[C@@H]1[C@@H]2CC[C@H]...\n",
       "\n",
       "[489890 rows x 1 columns]"
      ]
     },
     "execution_count": 14,
     "metadata": {},
     "output_type": "execute_result"
    },
    {
     "data": {
      "text/html": [
       "<div>\n",
       "<style scoped>\n",
       "    .dataframe tbody tr th:only-of-type {\n",
       "        vertical-align: middle;\n",
       "    }\n",
       "\n",
       "    .dataframe tbody tr th {\n",
       "        vertical-align: top;\n",
       "    }\n",
       "\n",
       "    .dataframe thead th {\n",
       "        text-align: right;\n",
       "    }\n",
       "</style>\n",
       "<table border=\"1\" class=\"dataframe\">\n",
       "  <thead>\n",
       "    <tr style=\"text-align: right;\">\n",
       "      <th></th>\n",
       "      <th>Smiles</th>\n",
       "    </tr>\n",
       "    <tr>\n",
       "      <th>SubstanceID</th>\n",
       "      <th></th>\n",
       "    </tr>\n",
       "  </thead>\n",
       "  <tbody>\n",
       "    <tr>\n",
       "      <th>1112</th>\n",
       "      <td>C[Si]1(C)CCCO1</td>\n",
       "    </tr>\n",
       "    <tr>\n",
       "      <th>1132</th>\n",
       "      <td>C[Si]1(C)CCCCO1</td>\n",
       "    </tr>\n",
       "    <tr>\n",
       "      <th>1181</th>\n",
       "      <td>C[Si]1(C)COCCO1</td>\n",
       "    </tr>\n",
       "    <tr>\n",
       "      <th>1193</th>\n",
       "      <td>C[Si]1(C)CCCCCO1</td>\n",
       "    </tr>\n",
       "    <tr>\n",
       "      <th>47408</th>\n",
       "      <td>C[Si](C)(C)OC[C@@H](O[Si](C)(C)C)[C@@H]1O[C@H]...</td>\n",
       "    </tr>\n",
       "    <tr>\n",
       "      <th>...</th>\n",
       "      <td>...</td>\n",
       "    </tr>\n",
       "    <tr>\n",
       "      <th>32931896</th>\n",
       "      <td>CC(C)(C)[Si](C)(C)OCC[C@@H](CCC[C@@H](O)CO)O[S...</td>\n",
       "    </tr>\n",
       "    <tr>\n",
       "      <th>32942630</th>\n",
       "      <td>CC(C)(C)[Si](C)(C)OCCCCC(O)[C@]1(C)C=C[C@@H](C...</td>\n",
       "    </tr>\n",
       "    <tr>\n",
       "      <th>32948180</th>\n",
       "      <td>CC(C)(C)[Si](C)(C)OC[C@H]1O[C@@H](n2ccc(NC(=O)...</td>\n",
       "    </tr>\n",
       "    <tr>\n",
       "      <th>32952992</th>\n",
       "      <td>CC(C)(C)[Si](C)(C)O[C@H]1[C@H]2O[C@]3(C)O[C@@H...</td>\n",
       "    </tr>\n",
       "    <tr>\n",
       "      <th>32967863</th>\n",
       "      <td>CC(C)C(C)(C)[Si](C)(C)OC[C@H]1O[C@@H](OC[C@H]2...</td>\n",
       "    </tr>\n",
       "  </tbody>\n",
       "</table>\n",
       "<p>113371 rows × 1 columns</p>\n",
       "</div>"
      ],
      "text/plain": [
       "                                                        Smiles\n",
       "SubstanceID                                                   \n",
       "1112                                            C[Si]1(C)CCCO1\n",
       "1132                                           C[Si]1(C)CCCCO1\n",
       "1181                                           C[Si]1(C)COCCO1\n",
       "1193                                          C[Si]1(C)CCCCCO1\n",
       "47408        C[Si](C)(C)OC[C@@H](O[Si](C)(C)C)[C@@H]1O[C@H]...\n",
       "...                                                        ...\n",
       "32931896     CC(C)(C)[Si](C)(C)OCC[C@@H](CCC[C@@H](O)CO)O[S...\n",
       "32942630     CC(C)(C)[Si](C)(C)OCCCCC(O)[C@]1(C)C=C[C@@H](C...\n",
       "32948180     CC(C)(C)[Si](C)(C)OC[C@H]1O[C@@H](n2ccc(NC(=O)...\n",
       "32952992     CC(C)(C)[Si](C)(C)O[C@H]1[C@H]2O[C@]3(C)O[C@@H...\n",
       "32967863     CC(C)C(C)(C)[Si](C)(C)OC[C@H]1O[C@@H](OC[C@H]2...\n",
       "\n",
       "[113371 rows x 1 columns]"
      ]
     },
     "execution_count": 14,
     "metadata": {},
     "output_type": "execute_result"
    },
    {
     "data": {
      "text/html": [
       "<div>\n",
       "<style scoped>\n",
       "    .dataframe tbody tr th:only-of-type {\n",
       "        vertical-align: middle;\n",
       "    }\n",
       "\n",
       "    .dataframe tbody tr th {\n",
       "        vertical-align: top;\n",
       "    }\n",
       "\n",
       "    .dataframe thead th {\n",
       "        text-align: right;\n",
       "    }\n",
       "</style>\n",
       "<table border=\"1\" class=\"dataframe\">\n",
       "  <thead>\n",
       "    <tr style=\"text-align: right;\">\n",
       "      <th></th>\n",
       "      <th>Smiles</th>\n",
       "    </tr>\n",
       "    <tr>\n",
       "      <th>SubstanceID</th>\n",
       "      <th></th>\n",
       "    </tr>\n",
       "  </thead>\n",
       "  <tbody>\n",
       "    <tr>\n",
       "      <th>71120</th>\n",
       "      <td>C=Cc1cc(OC)c(OC)c2c1/c=c\\c1ccc(cc1)-o-c1c(c(C=...</td>\n",
       "    </tr>\n",
       "    <tr>\n",
       "      <th>2642603</th>\n",
       "      <td>c1=c\\c2ccc(cc2)-c2ccccc2-c2ccc/1cc2</td>\n",
       "    </tr>\n",
       "    <tr>\n",
       "      <th>3191701</th>\n",
       "      <td>O=c1c2c(c(=O)c3c1c1c4cccc5cccc(c54)c1c1c4cccc5...</td>\n",
       "    </tr>\n",
       "    <tr>\n",
       "      <th>3894775</th>\n",
       "      <td>COc1cc(CC[N+](C)(C)C)c2c(c1OC)-o-c1ccc(cc1)/c=...</td>\n",
       "    </tr>\n",
       "    <tr>\n",
       "      <th>3957813</th>\n",
       "      <td>[Na+].c1ccc([GeH2-](c2ccccc2)c2ccccc2)cc1</td>\n",
       "    </tr>\n",
       "    <tr>\n",
       "      <th>...</th>\n",
       "      <td>...</td>\n",
       "    </tr>\n",
       "    <tr>\n",
       "      <th>32826420</th>\n",
       "      <td>C1CCOC1.C[Si](C)(C)[GeH2-]([Si](C)(C)C)[Si](C)...</td>\n",
       "    </tr>\n",
       "    <tr>\n",
       "      <th>32826421</th>\n",
       "      <td>C1CCOC1.C[Si](C)(C)[GeH2-]([Si](C)(C)C)[Si](C)...</td>\n",
       "    </tr>\n",
       "    <tr>\n",
       "      <th>32826422</th>\n",
       "      <td>CN(C)CCN(C)C.C[Si](C)(C)[GeH2-]([Si](C)(C)C)[S...</td>\n",
       "    </tr>\n",
       "    <tr>\n",
       "      <th>32839723</th>\n",
       "      <td>CC(C)(C)C1=[GeH2-]C=CC=C1.[Li+]</td>\n",
       "    </tr>\n",
       "    <tr>\n",
       "      <th>32839724</th>\n",
       "      <td>CC(C)(C)C1=[GeH2-]C=CC=C1.[Na+]</td>\n",
       "    </tr>\n",
       "  </tbody>\n",
       "</table>\n",
       "<p>238 rows × 1 columns</p>\n",
       "</div>"
      ],
      "text/plain": [
       "                                                        Smiles\n",
       "SubstanceID                                                   \n",
       "71120        C=Cc1cc(OC)c(OC)c2c1/c=c\\c1ccc(cc1)-o-c1c(c(C=...\n",
       "2642603                    c1=c\\c2ccc(cc2)-c2ccccc2-c2ccc/1cc2\n",
       "3191701      O=c1c2c(c(=O)c3c1c1c4cccc5cccc(c54)c1c1c4cccc5...\n",
       "3894775      COc1cc(CC[N+](C)(C)C)c2c(c1OC)-o-c1ccc(cc1)/c=...\n",
       "3957813              [Na+].c1ccc([GeH2-](c2ccccc2)c2ccccc2)cc1\n",
       "...                                                        ...\n",
       "32826420     C1CCOC1.C[Si](C)(C)[GeH2-]([Si](C)(C)C)[Si](C)...\n",
       "32826421     C1CCOC1.C[Si](C)(C)[GeH2-]([Si](C)(C)C)[Si](C)...\n",
       "32826422     CN(C)CCN(C)C.C[Si](C)(C)[GeH2-]([Si](C)(C)C)[S...\n",
       "32839723                       CC(C)(C)C1=[GeH2-]C=CC=C1.[Li+]\n",
       "32839724                       CC(C)(C)C1=[GeH2-]C=CC=C1.[Na+]\n",
       "\n",
       "[238 rows x 1 columns]"
      ]
     },
     "execution_count": 14,
     "metadata": {},
     "output_type": "execute_result"
    }
   ],
   "source": [
    "ActiveFragmentDB.loc['[#8]-[Si]']\n",
    "ActiveFragmentDB.loc['[Si]-[#8]']\n",
    "ActiveFragmentDB.loc['Error']"
   ]
  },
  {
   "cell_type": "markdown",
   "metadata": {},
   "source": [
    "As shown above, it is possible to group compounds and their smiles based on active fragment. Some records encountered errors (238). This is because of incorrect RDKit translation of molfile to smiles strings. Whilst the issue is resolved by reading smarts instead of smiles, the carrierfrags function will need to be adapted."
   ]
  },
  {
   "cell_type": "code",
   "execution_count": 157,
   "metadata": {
    "ExecuteTime": {
     "end_time": "2021-01-28T05:26:07.086341Z",
     "start_time": "2021-01-28T05:26:07.066682Z"
    }
   },
   "outputs": [
    {
     "data": {
      "image/png": "[encoded data removed]",
      "text/plain": [
       "<rdkit.Chem.rdchem.Mol at 0x7fb3d535a080>"
      ]
     },
     "execution_count": 157,
     "metadata": {},
     "output_type": "execute_result"
    },
    {
     "name": "stderr",
     "output_type": "stream",
     "text": [
      "RDKit ERROR: [05:26:07] Can't kekulize mol.  Unkekulized atoms: 2 3 4 7 10 11 12 13 14 15 16 17 18 19 21 22 23 26 27 30 33 34 35 36 37 38 39 40\n",
      "RDKit ERROR: \n",
      "RDKit ERROR: [05:26:07] Can't kekulize mol.  Unkekulized atoms: 2 3 4 7 10 11 12 13 14 15 16 17 18 19 21 22 23 26 27 30 33 34 35 36 37 38 39 40\n",
      "RDKit ERROR: \n"
     ]
    }
   ],
   "source": [
    "errormol=Chem.MolFromMolFile(substancedb.loc[71120,'MolFileAddress'])\n",
    "errormol\n",
    "Chem.MolFromSmiles(Chem.MolToSmiles(errormol))\n",
    "Chem.MolFromSmiles('C=Cc1cc(OC)c(OC)c2c1/c=c\\\\c1ccc(cc1)-o-c1c(c(C=C)cc(OC)c1OC)/c=c\\\\c1ccc(cc1)-o-2')"
   ]
  },
  {
   "cell_type": "code",
   "execution_count": 196,
   "metadata": {
    "ExecuteTime": {
     "end_time": "2021-01-28T06:45:42.259791Z",
     "start_time": "2021-01-28T06:45:42.241915Z"
    }
   },
   "outputs": [
    {
     "data": {
      "text/plain": [
       "rdkit.Chem.rdmolops.SanitizeFlags.SANITIZE_NONE"
      ]
     },
     "execution_count": 196,
     "metadata": {},
     "output_type": "execute_result"
    },
    {
     "data": {
      "text/plain": [
       "[IFG(atomIds=(36,), atoms='O', type='cOC'),\n",
       " IFG(atomIds=(6,), atoms='O', type='cOC'),\n",
       " IFG(atomIds=(38,), atoms='O', type='cOC'),\n",
       " IFG(atomIds=(8,), atoms='O', type='cOC'),\n",
       " IFG(atomIds=(40, 41), atoms='C=C', type='cC=C'),\n",
       " IFG(atomIds=(10, 11), atoms='C=C', type='cC=C'),\n",
       " IFG(atomIds=(20,), atoms='o', type='c-o-c'),\n",
       " IFG(atomIds=(29,), atoms='o', type='c-o-c')]"
      ]
     },
     "execution_count": 196,
     "metadata": {},
     "output_type": "execute_result"
    }
   ],
   "source": [
    "deem=Chem.MolFromSmarts(Chem.MolToSmarts(errormol))\n",
    "Chem.SanitizeMol(deem)\n",
    "deem.UpdatePropertyCache(strict=False)\n",
    "deem=Chem.rdmolops.AddHs(deem)\n",
    "IFG(deem)"
   ]
  },
  {
   "cell_type": "markdown",
   "metadata": {},
   "source": [
    "Two cells below check whether it is faster to load a mol from molfile, or generating it from smiles. The latter is slightly faster, but the former is useful in cases where the smiles is incorrect as is the case above."
   ]
  },
  {
   "cell_type": "code",
   "execution_count": 189,
   "metadata": {
    "ExecuteTime": {
     "end_time": "2021-01-28T06:39:51.538152Z",
     "start_time": "2021-01-28T06:39:51.530269Z"
    }
   },
   "outputs": [
    {
     "name": "stdout",
     "output_type": "stream",
     "text": [
      "1.2 ms ± 0 ns per loop (mean ± std. dev. of 1 run, 1 loop each)\n"
     ]
    }
   ],
   "source": [
    "%%timeit -n 1 -r 1\n",
    "Chem.MolFromMolFile(substancedb.loc[47408,'MolFileAddress'])"
   ]
  },
  {
   "cell_type": "code",
   "execution_count": 190,
   "metadata": {
    "ExecuteTime": {
     "end_time": "2021-01-28T06:39:53.531232Z",
     "start_time": "2021-01-28T06:39:53.525669Z"
    }
   },
   "outputs": [
    {
     "name": "stdout",
     "output_type": "stream",
     "text": [
      "533 µs ± 0 ns per loop (mean ± std. dev. of 1 run, 1 loop each)\n"
     ]
    }
   ],
   "source": [
    "%%timeit -n 1 -r 1\n",
    "Chem.MolFromSmiles(substancedb.loc[47408,'Smiles'])"
   ]
  },
  {
   "cell_type": "code",
   "execution_count": 167,
   "metadata": {
    "ExecuteTime": {
     "end_time": "2021-01-28T06:21:27.644928Z",
     "start_time": "2021-01-28T06:21:27.640198Z"
    }
   },
   "outputs": [
    {
     "data": {
      "text/plain": [
       "'[#6]12:[#6](:[#6](:[#6]:[#6](:[#6]:1-[#8]-[#6])-[#8]-[#6])-[#6]=[#6])/[#6]=[#6]\\\\[#6]1:[#6]:[#6]:[#6](:[#6]:[#6]:1)-[#8]-[#6]1:[#6](/[#6]=[#6]\\\\[#6]3:[#6]:[#6]:[#6](-[#8]-2):[#6]:[#6]:3):[#6](:[#6]:[#6](:[#6]:1-[#8]-[#6])-[#8]-[#6])-[#6]=[#6]'"
      ]
     },
     "execution_count": 167,
     "metadata": {},
     "output_type": "execute_result"
    }
   ],
   "source": [
    "Chem.MolToSmarts(errormol)"
   ]
  },
  {
   "cell_type": "code",
   "execution_count": 117,
   "metadata": {
    "ExecuteTime": {
     "end_time": "2021-01-28T04:56:16.139575Z",
     "start_time": "2021-01-28T04:56:14.337898Z"
    }
   },
   "outputs": [
    {
     "data": {
      "text/plain": [
       "489890"
      ]
     },
     "execution_count": 117,
     "metadata": {},
     "output_type": "execute_result"
    }
   ],
   "source": [
    "len(ActiveFragmentDB.loc['[#8]-[Si]','Smiles'].values)"
   ]
  },
  {
   "cell_type": "code",
   "execution_count": 121,
   "metadata": {
    "ExecuteTime": {
     "end_time": "2021-01-28T04:58:00.133655Z",
     "start_time": "2021-01-28T04:57:52.302519Z"
    }
   },
   "outputs": [
    {
     "data": {
      "text/plain": [
       "Index(['[#6](=[#8])-[#8]', '[#6](-[#7])-[#7]', '[#8]-[#6]=[#8]', '[#6]=[#8]',\n",
       "       '[#7]-[#6]-[#7]', '[#8]=[#6]-[#8]', '[#8]-[#6](-[#8])-[#6]=[#8]',\n",
       "       '[#8]', '[#8]-[#6](-[#8])-[#6](-[#8])-[#8]',\n",
       "       '[#8]-[#6](=[#8])-[#6](-[#8])-[#7]-[#6](-[#7]-[#6](-[#8])-[#6](=[#8])-[#8])=[#8]',\n",
       "       ...\n",
       "       '[#7](-[#6]=[#8])-[#6](-[#7]-[#6]=[#8])=[#6]-[#15]',\n",
       "       '[#8]-[#6](=[#8])-[#6]1=[#6]-[#6](-[#6]=[#8])=[#6]-[#6]-1=[#6]-[#7]',\n",
       "       '[Ni].[Ni].[Zn].[Zn].[Zn].[Zn].[Zn].[Zn]',\n",
       "       '[#6]-[#6](-[#6])-[#6]1:[#6]:[#6]:[#6]:[#6](-[#6](-[#6])-[#6]):[#6]:1-[#7]=[#6](-[#6]=[#6](-[#7-]-[#6]1:[#6](-[#6](-[#6])-[#6]):[#6]:[#6]:[#6]:[#6]:1-[#6](-[#6])-[#6])-[#6](-[#6])(-[#6])-[#6])-[#6](-[#6])(-[#6])-[#6].[#8]=[#6](-[#8-])-[#8-].[Li+].[Ni+2]',\n",
       "       '[#17-]-[Pd+2](-[#17-])(-[#17-])-[#17-].[#6H]1(-[#6])-[#6]-[#6]-[#6H](-[#6](-[#6])-[#6])-[#6H](-[#8]-[#6]-[#7]2:[#6]:[#6]:[#7+](-[#6]-[#8]-[#6H]3-[#6]-[#6H](-[#6])-[#6]-[#6]-[#6H]-3-[#6](-[#6])-[#6]):[#6]:2)-[#6]-1',\n",
       "       '[#8]-[#6](=[#8])-[#7]-[#6](=[#16])-[#7-]',\n",
       "       '[#6]-[#7](-[#6])-[#6]-[#6]-[#7](-[#6])-[#6].[Fe+2].[Li]-[#6-]1:[#6]:[#6]:[#6]:[#6]:1',\n",
       "       '[#15]-[Fe+2](-[Si-])(-[#15])-[#15]',\n",
       "       '[#8]-[Si-]-[Fe+2](-[#15])(-[#15])-[#15]',\n",
       "       '[#6]1:[#6]:[#6]:[#6](-[#6]2:[#6]:[#6]:[#6]3:[#6]4:[#6](:[#6]:[#6]:[#6]:[#6]:2:4)-[#6]-[#6]2:[#6]:[#6]:[#6]:[#6]:[#6]:2-3):[#6]:[#6]:1'],\n",
       "      dtype='object', name='ActiveFragments', length=465395)"
      ]
     },
     "execution_count": 121,
     "metadata": {},
     "output_type": "execute_result"
    }
   ],
   "source": [
    "ActiveFragmentDB.index.unique()"
   ]
  },
  {
   "cell_type": "code",
   "execution_count": 107,
   "metadata": {
    "ExecuteTime": {
     "end_time": "2021-01-27T18:37:21.694365Z",
     "start_time": "2021-01-27T18:37:21.510919Z"
    }
   },
   "outputs": [
    {
     "data": {
      "text/plain": [
       "ActiveFragments\n",
       "[#8]-[#6]-[#8]      CO[C@@H]1O[C@@H]2[C@H](O[Si](C)(C)C)C(=O)O[C@@...\n",
       "[#8]-[Si]           CO[C@@H]1O[C@@H]2[C@H](O[Si](C)(C)C)C(=O)O[C@@...\n",
       "[#6](=[#8])-[#8]    CO[C@@H]1O[C@@H]2[C@H](O[Si](C)(C)C)C(=O)O[C@@...\n",
       "[#8]-[Si]           CO[C@@H]1O[C@@H]2[C@H](O[Si](C)(C)C)C(=O)O[C@@...\n",
       "Name: Smiles, dtype: object"
      ]
     },
     "execution_count": 107,
     "metadata": {},
     "output_type": "execute_result"
    }
   ],
   "source": [
    "ActiveFragmentDB.loc[ActiveFragmentDB['SubstanceID']==33195,'Smiles']"
   ]
  },
  {
   "cell_type": "code",
   "execution_count": 118,
   "metadata": {
    "ExecuteTime": {
     "end_time": "2021-01-28T04:56:24.722122Z",
     "start_time": "2021-01-28T04:56:24.703538Z"
    }
   },
   "outputs": [
    {
     "data": {
      "image/png": "[encoded data removed]",
      "text/plain": [
       "<rdkit.Chem.rdchem.Mol at 0x7fb8016e0300>"
      ]
     },
     "execution_count": 118,
     "metadata": {},
     "output_type": "execute_result"
    },
    {
     "data": {
      "text/plain": [
       "['[#8]-[#6]-[#8]', '[#8]-[Si]', '[#6](=[#8])-[#8]', '[#8]-[Si]']"
      ]
     },
     "execution_count": 118,
     "metadata": {},
     "output_type": "execute_result"
    }
   ],
   "source": [
    "Chem.MolFromSmiles('CO[C@@H]1O[C@@H]2[C@H](O[Si](C)(C)C)C(=O)O[C@@H]2[C@H]1O[Si](C)(C)C')\n",
    "getCarrierFrags('CO[C@@H]1O[C@@H]2[C@H](O[Si](C)(C)C)C(=O)O[C@@H]2[C@H]1O[Si](C)(C)C',0)"
   ]
  },
  {
   "cell_type": "code",
   "execution_count": 110,
   "metadata": {
    "ExecuteTime": {
     "end_time": "2021-01-28T03:47:47.022436Z",
     "start_time": "2021-01-28T03:47:47.010076Z"
    }
   },
   "outputs": [
    {
     "data": {
      "image/png": "[encoded data removed]",
      "text/plain": [
       "<rdkit.Chem.rdchem.Mol at 0x7fb8017273a0>"
      ]
     },
     "execution_count": 110,
     "metadata": {},
     "output_type": "execute_result"
    }
   ],
   "source": [
    "Chem.MolFromSmiles('C[Si]1(C)CCCO1')"
   ]
  },
  {
   "cell_type": "code",
   "execution_count": 111,
   "metadata": {
    "ExecuteTime": {
     "end_time": "2021-01-28T03:50:09.474012Z",
     "start_time": "2021-01-28T03:50:09.405672Z"
    }
   },
   "outputs": [
    {
     "data": {
      "text/plain": [
       "'O[SiH3]'"
      ]
     },
     "execution_count": 111,
     "metadata": {},
     "output_type": "execute_result"
    }
   ],
   "source": [
    "Chem.MolToSmiles(Chem.MolFromSmarts('[Si]-[#8]'))"
   ]
  },
  {
   "cell_type": "code",
   "execution_count": 113,
   "metadata": {
    "ExecuteTime": {
     "end_time": "2021-01-28T03:51:15.841959Z",
     "start_time": "2021-01-28T03:51:15.832865Z"
    }
   },
   "outputs": [
    {
     "data": {
      "text/plain": [
       "[IFG(atomIds=(1, 6), atoms='O[Si]', type='CO[Si](C)(C)C')]"
      ]
     },
     "execution_count": 113,
     "metadata": {},
     "output_type": "execute_result"
    },
    {
     "data": {
      "text/plain": [
       "[IFG(atomIds=(1, 2, 3), atoms='OCO', type='CO[C@@H](C)OC'),\n",
       " IFG(atomIds=(6, 7), atoms='O[Si]', type='C[Si](C)(C)OC'),\n",
       " IFG(atomIds=(11, 12, 13), atoms='O=CO', type='COC(C)=O'),\n",
       " IFG(atomIds=(16, 17), atoms='O[Si]', type='C[Si](C)(C)OC')]"
      ]
     },
     "execution_count": 113,
     "metadata": {},
     "output_type": "execute_result"
    }
   ],
   "source": [
    "IFG(Chem.MolFromSmiles('C[Si]1(C)CCCO1'))\n",
    "IFG(Chem.MolFromSmiles('CO[C@@H]1O[C@@H]2[C@H](O[Si](C)(C)C)C(=O)O[C@@H]2[C@H]1O[Si](C)(C)C'))"
   ]
  },
  {
   "cell_type": "code",
   "execution_count": 114,
   "metadata": {
    "ExecuteTime": {
     "end_time": "2021-01-28T03:53:43.039256Z",
     "start_time": "2021-01-28T03:53:43.032263Z"
    }
   },
   "outputs": [
    {
     "data": {
      "text/plain": [
       "['[Si]-[#8]']"
      ]
     },
     "execution_count": 114,
     "metadata": {},
     "output_type": "execute_result"
    }
   ],
   "source": [
    "getCarrierFrags('C[Si]1(C)CCCO1',0)"
   ]
  },
  {
   "cell_type": "code",
   "execution_count": 73,
   "metadata": {
    "ExecuteTime": {
     "end_time": "2021-01-27T18:05:16.475253Z",
     "start_time": "2021-01-27T18:05:16.470811Z"
    }
   },
   "outputs": [
    {
     "data": {
      "text/plain": [
       "['[#17]', '[#6]#[#7]']"
      ]
     },
     "execution_count": 73,
     "metadata": {},
     "output_type": "execute_result"
    }
   ],
   "source": [
    "ActiveFragmentDB.loc[1000001,'ActiveFragments']"
   ]
  },
  {
   "cell_type": "code",
   "execution_count": 80,
   "metadata": {
    "ExecuteTime": {
     "end_time": "2021-01-27T18:06:55.730369Z",
     "start_time": "2021-01-27T18:06:55.722270Z"
    }
   },
   "outputs": [
    {
     "data": {
      "text/plain": [
       "'Cc1cc(C#N)c(C)cc1Cl'"
      ]
     },
     "execution_count": 80,
     "metadata": {},
     "output_type": "execute_result"
    },
    {
     "data": {
      "text/plain": [
       "2613840"
      ]
     },
     "execution_count": 80,
     "metadata": {},
     "output_type": "execute_result"
    }
   ],
   "source": [
    "ActiveFragmentDB.loc[1000001,'Smiles']\n",
    "ActiveFragmentDB.loc[1000001,'SubstanceID']"
   ]
  },
  {
   "cell_type": "code",
   "execution_count": 75,
   "metadata": {
    "ExecuteTime": {
     "end_time": "2021-01-27T18:05:36.499522Z",
     "start_time": "2021-01-27T18:05:36.491435Z"
    }
   },
   "outputs": [
    {
     "data": {
      "text/plain": [
       "['[#17]', '[#6]#[#7]']"
      ]
     },
     "execution_count": 75,
     "metadata": {},
     "output_type": "execute_result"
    }
   ],
   "source": [
    "getCarrierFrags(ActiveFragmentDB.loc[1000001,'Smiles'],0)"
   ]
  },
  {
   "cell_type": "code",
   "execution_count": 47,
   "metadata": {
    "ExecuteTime": {
     "end_time": "2021-01-27T17:43:14.860072Z",
     "start_time": "2021-01-27T17:43:14.832573Z"
    }
   },
   "outputs": [
    {
     "data": {
      "text/plain": [
       "['[#8]',\n",
       " '[#8]=[#6]-[#8]',\n",
       " '[#6](=[#8])-[#8]',\n",
       " '[#7]',\n",
       " '[#6](=[#8])-[#8-]',\n",
       " '[Co+2]']"
      ]
     },
     "execution_count": 47,
     "metadata": {},
     "output_type": "execute_result"
    }
   ],
   "source": [
    "getCarrierFrags(testset.loc[testset['SubstanceID']==28713377,'Smiles'][0],0)"
   ]
  },
  {
   "cell_type": "code",
   "execution_count": 48,
   "metadata": {
    "ExecuteTime": {
     "end_time": "2021-01-27T17:50:11.881699Z",
     "start_time": "2021-01-27T17:50:11.868422Z"
    }
   },
   "outputs": [
    {
     "data": {
      "text/html": [
       "<div>\n",
       "<style scoped>\n",
       "    .dataframe tbody tr th:only-of-type {\n",
       "        vertical-align: middle;\n",
       "    }\n",
       "\n",
       "    .dataframe tbody tr th {\n",
       "        vertical-align: top;\n",
       "    }\n",
       "\n",
       "    .dataframe thead th {\n",
       "        text-align: right;\n",
       "    }\n",
       "</style>\n",
       "<table border=\"1\" class=\"dataframe\">\n",
       "  <thead>\n",
       "    <tr style=\"text-align: right;\">\n",
       "      <th></th>\n",
       "      <th>ActiveFragments</th>\n",
       "    </tr>\n",
       "  </thead>\n",
       "  <tbody>\n",
       "    <tr>\n",
       "      <th>0</th>\n",
       "      <td>[[#6](=[#8])-[#8], [#6](-[#7])-[#7], [#8]-[#6]...</td>\n",
       "    </tr>\n",
       "    <tr>\n",
       "      <th>1</th>\n",
       "      <td>[[#6](=[#8])-[#8], [#6](-[#7])-[#7], [#8]-[#6]...</td>\n",
       "    </tr>\n",
       "    <tr>\n",
       "      <th>2</th>\n",
       "      <td>[[#6](=[#8])-[#8], [#6](-[#7])-[#7], [#8]-[#6]...</td>\n",
       "    </tr>\n",
       "    <tr>\n",
       "      <th>3</th>\n",
       "      <td>[[#8]=[#6]-[#8], [#6](-[#7])-[#7], [#8]-[#6]=[...</td>\n",
       "    </tr>\n",
       "    <tr>\n",
       "      <th>4</th>\n",
       "      <td>[[#6](=[#8])-[#8], [#6](-[#7])-[#7], [#8]-[#6]...</td>\n",
       "    </tr>\n",
       "    <tr>\n",
       "      <th>...</th>\n",
       "      <td>...</td>\n",
       "    </tr>\n",
       "    <tr>\n",
       "      <th>1008081</th>\n",
       "      <td>[[#6](=[#8])-[#8], [#8], [#7], [#7+](=[#8])-[#...</td>\n",
       "    </tr>\n",
       "    <tr>\n",
       "      <th>1008082</th>\n",
       "      <td>[[#6](=[#8])-[#8], [#8]-[Si], [#8]-[#6]-[#8], ...</td>\n",
       "    </tr>\n",
       "    <tr>\n",
       "      <th>1008083</th>\n",
       "      <td>[[#6]=[#6], [#8]-[Si], [#16](=[#8])=[#8], [#6]...</td>\n",
       "    </tr>\n",
       "    <tr>\n",
       "      <th>1008084</th>\n",
       "      <td>[[#6]=[#6], [#8]-[Si], [#6](=[#8])-[#8]]</td>\n",
       "    </tr>\n",
       "    <tr>\n",
       "      <th>1008085</th>\n",
       "      <td>[[#35], [#17], [#7]]</td>\n",
       "    </tr>\n",
       "  </tbody>\n",
       "</table>\n",
       "<p>14848334 rows × 1 columns</p>\n",
       "</div>"
      ],
      "text/plain": [
       "                                           ActiveFragments\n",
       "0        [[#6](=[#8])-[#8], [#6](-[#7])-[#7], [#8]-[#6]...\n",
       "1        [[#6](=[#8])-[#8], [#6](-[#7])-[#7], [#8]-[#6]...\n",
       "2        [[#6](=[#8])-[#8], [#6](-[#7])-[#7], [#8]-[#6]...\n",
       "3        [[#8]=[#6]-[#8], [#6](-[#7])-[#7], [#8]-[#6]=[...\n",
       "4        [[#6](=[#8])-[#8], [#6](-[#7])-[#7], [#8]-[#6]...\n",
       "...                                                    ...\n",
       "1008081  [[#6](=[#8])-[#8], [#8], [#7], [#7+](=[#8])-[#...\n",
       "1008082  [[#6](=[#8])-[#8], [#8]-[Si], [#8]-[#6]-[#8], ...\n",
       "1008083  [[#6]=[#6], [#8]-[Si], [#16](=[#8])=[#8], [#6]...\n",
       "1008084           [[#6]=[#6], [#8]-[Si], [#6](=[#8])-[#8]]\n",
       "1008085                               [[#35], [#17], [#7]]\n",
       "\n",
       "[14848334 rows x 1 columns]"
      ]
     },
     "execution_count": 48,
     "metadata": {},
     "output_type": "execute_result"
    }
   ],
   "source": [
    "dfaf"
   ]
  },
  {
   "cell_type": "code",
   "execution_count": 18,
   "metadata": {
    "ExecuteTime": {
     "end_time": "2021-01-27T17:26:17.203656Z",
     "start_time": "2021-01-27T17:25:37.457536Z"
    }
   },
   "outputs": [],
   "source": [
    "dfafdask=dd.from_pandas(dfaf,npartitions=16)"
   ]
  },
  {
   "cell_type": "code",
   "execution_count": 61,
   "metadata": {
    "ExecuteTime": {
     "end_time": "2021-01-27T17:58:08.721682Z",
     "start_time": "2021-01-27T17:58:03.897254Z"
    }
   },
   "outputs": [
    {
     "data": {
      "text/plain": [
       "0    [[#6](=[#8])-[#8], [#6](-[#7])-[#7], [#8]-[#6]...\n",
       "0                         [[#8]=[#6]-[#7], [#7], [#9]]\n",
       "0               [[#6]=[#6], [#6]=[#6]-[Se], [#6]#[#7]]\n",
       "0                [[#6]=[#6], [#15](=[#8])(-[#8])-[#8]]\n",
       "0                   [[#8], [#6]=[#6], [#7], [#8]-[Si]]\n",
       "0                          [[#6]=[#6], [#8]-[#6]=[#8]]\n",
       "0    [[#6]=[#6], [#8]-[#6]=[#8], [#8]-[#6]-[#7], [#...\n",
       "0    [[#6]=[#6], [#7]-[#6](=[#8])-[#7]-[#6]-[#8], [...\n",
       "0    [[#8]-[#6]-[#8]-[#6]=[#8], [#8], [#6](-[#16])-...\n",
       "0    [[#6](=[#8])-[#8], [#8]-[#6]-[#8], [#6]=[#6], ...\n",
       "0                                    [[#7], [#6]=[#8]]\n",
       "0    [[#8], [#8]=[#6]-[#8], [#6](=[#8])-[#8], [#7],...\n",
       "0                          [[#7]-[#6]=[#8], [#6]=[#8]]\n",
       "0          [[#8], [#6]#[#6], [#7+], [#6]#[#6], [#35-]]\n",
       "Name: ActiveFragments, dtype: object"
      ]
     },
     "execution_count": 61,
     "metadata": {},
     "output_type": "execute_result"
    }
   ],
   "source": [
    "dfafdask.loc[0,'ActiveFragments'].compute()"
   ]
  },
  {
   "cell_type": "code",
   "execution_count": 406,
   "metadata": {
    "ExecuteTime": {
     "end_time": "2021-01-27T06:54:24.312014Z",
     "start_time": "2021-01-27T06:54:24.279936Z"
    }
   },
   "outputs": [
    {
     "data": {
      "text/plain": [
       "'CC(=O)OCC1(COC(C)=O)Nc2cccc3cccc(c23)N1'"
      ]
     },
     "execution_count": 406,
     "metadata": {},
     "output_type": "execute_result"
    }
   ],
   "source": [
    "testset.loc[0,'Smiles']"
   ]
  },
  {
   "cell_type": "code",
   "execution_count": 229,
   "metadata": {
    "ExecuteTime": {
     "end_time": "2021-01-28T16:01:24.384809Z",
     "start_time": "2021-01-28T16:01:24.089287Z"
    }
   },
   "outputs": [
    {
     "data": {
      "text/html": [
       "<div>\n",
       "<style scoped>\n",
       "    .dataframe tbody tr th:only-of-type {\n",
       "        vertical-align: middle;\n",
       "    }\n",
       "\n",
       "    .dataframe tbody tr th {\n",
       "        vertical-align: top;\n",
       "    }\n",
       "\n",
       "    .dataframe thead th {\n",
       "        text-align: right;\n",
       "    }\n",
       "</style>\n",
       "<table border=\"1\" class=\"dataframe\">\n",
       "  <thead>\n",
       "    <tr style=\"text-align: right;\">\n",
       "      <th></th>\n",
       "      <th>MolFileAddress</th>\n",
       "      <th>Smiles</th>\n",
       "      <th>Error</th>\n",
       "    </tr>\n",
       "    <tr>\n",
       "      <th>SubstanceID</th>\n",
       "      <th></th>\n",
       "      <th></th>\n",
       "      <th></th>\n",
       "    </tr>\n",
       "  </thead>\n",
       "  <tbody>\n",
       "    <tr>\n",
       "      <th>941</th>\n",
       "      <td>/home/projects/graph/data/batch_5000000/941</td>\n",
       "      <td>COC(OC)C(=O)COC(C)=O</td>\n",
       "      <td>No</td>\n",
       "    </tr>\n",
       "  </tbody>\n",
       "</table>\n",
       "</div>"
      ],
      "text/plain": [
       "                                          MolFileAddress  \\\n",
       "SubstanceID                                                \n",
       "941          /home/projects/graph/data/batch_5000000/941   \n",
       "\n",
       "                           Smiles Error  \n",
       "SubstanceID                              \n",
       "941          COC(OC)C(=O)COC(C)=O    No  "
      ]
     },
     "execution_count": 229,
     "metadata": {},
     "output_type": "execute_result"
    }
   ],
   "source": [
    "substancedbdask.loc[substancedbdask['Smiles']=='COC(OC)C(=O)COC(C)=O'].compute()"
   ]
  },
  {
   "cell_type": "code",
   "execution_count": 230,
   "metadata": {
    "ExecuteTime": {
     "end_time": "2021-01-28T16:01:49.385205Z",
     "start_time": "2021-01-28T16:01:47.629266Z"
    }
   },
   "outputs": [
    {
     "data": {
      "text/html": [
       "<div>\n",
       "<style scoped>\n",
       "    .dataframe tbody tr th:only-of-type {\n",
       "        vertical-align: middle;\n",
       "    }\n",
       "\n",
       "    .dataframe tbody tr th {\n",
       "        vertical-align: top;\n",
       "    }\n",
       "\n",
       "    .dataframe thead th {\n",
       "        text-align: right;\n",
       "    }\n",
       "</style>\n",
       "<table border=\"1\" class=\"dataframe\">\n",
       "  <thead>\n",
       "    <tr style=\"text-align: right;\">\n",
       "      <th></th>\n",
       "      <th>MolFileAddress</th>\n",
       "      <th>Smiles</th>\n",
       "      <th>Error</th>\n",
       "    </tr>\n",
       "    <tr>\n",
       "      <th>SubstanceID</th>\n",
       "      <th></th>\n",
       "      <th></th>\n",
       "      <th></th>\n",
       "    </tr>\n",
       "  </thead>\n",
       "  <tbody>\n",
       "    <tr>\n",
       "      <th>941</th>\n",
       "      <td>/home/projects/graph/data/batch_5000000/941</td>\n",
       "      <td>COC(OC)C(=O)COC(C)=O</td>\n",
       "      <td>No</td>\n",
       "    </tr>\n",
       "  </tbody>\n",
       "</table>\n",
       "</div>"
      ],
      "text/plain": [
       "                                          MolFileAddress  \\\n",
       "SubstanceID                                                \n",
       "941          /home/projects/graph/data/batch_5000000/941   \n",
       "\n",
       "                           Smiles Error  \n",
       "SubstanceID                              \n",
       "941          COC(OC)C(=O)COC(C)=O    No  "
      ]
     },
     "execution_count": 230,
     "metadata": {},
     "output_type": "execute_result"
    },
    {
     "name": "stderr",
     "output_type": "stream",
     "text": [
      "distributed.client - ERROR - Failed to reconnect to scheduler after 10.00 seconds, closing client\n",
      "_GatheringFuture exception was never retrieved\n",
      "future: <_GatheringFuture finished exception=CancelledError()>\n",
      "asyncio.exceptions.CancelledError\n"
     ]
    }
   ],
   "source": [
    "substancedb.loc[substancedb['Smiles']=='COC(OC)C(=O)COC(C)=O']"
   ]
  },
  {
   "cell_type": "markdown",
   "metadata": {},
   "source": [
    "# Conclusion"
   ]
  },
  {
   "cell_type": "markdown",
   "metadata": {},
   "source": [
    "Further results have been discussed/included in Preidct_Impurities.ipynb"
   ]
  },
  {
   "cell_type": "code",
   "execution_count": 12,
   "metadata": {
    "ExecuteTime": {
     "end_time": "2021-02-15T06:15:52.134808Z",
     "start_time": "2021-02-15T06:15:51.952275Z"
    },
    "scrolled": true
   },
   "outputs": [
    {
     "name": "stdout",
     "output_type": "stream",
     "text": [
      "Variable   Type      Data/Info\n",
      "------------------------------\n",
      "autopep8   module    <module 'autopep8' from '<...>te-packages/autopep8.py'>\n",
      "json       module    <module 'json' from '/hom<...>hon3.8/json/__init__.py'>\n"
     ]
    }
   ],
   "source": [
    "%whos"
   ]
  },
  {
   "cell_type": "code",
   "execution_count": 6,
   "metadata": {
    "ExecuteTime": {
     "end_time": "2021-02-18T13:11:24.179454Z",
     "start_time": "2021-02-18T13:11:24.128813Z"
    }
   },
   "outputs": [
    {
     "data": {
      "text/html": [
       "<div>\n",
       "<style scoped>\n",
       "    .dataframe tbody tr th:only-of-type {\n",
       "        vertical-align: middle;\n",
       "    }\n",
       "\n",
       "    .dataframe tbody tr th {\n",
       "        vertical-align: top;\n",
       "    }\n",
       "\n",
       "    .dataframe thead th {\n",
       "        text-align: right;\n",
       "    }\n",
       "</style>\n",
       "<table border=\"1\" class=\"dataframe\">\n",
       "  <thead>\n",
       "    <tr style=\"text-align: right;\">\n",
       "      <th></th>\n",
       "      <th></th>\n",
       "      <th>MolFileAddress</th>\n",
       "      <th>Error</th>\n",
       "      <th>&gt;1 Compound</th>\n",
       "    </tr>\n",
       "    <tr>\n",
       "      <th>Smiles</th>\n",
       "      <th>SubstanceID</th>\n",
       "      <th></th>\n",
       "      <th></th>\n",
       "      <th></th>\n",
       "    </tr>\n",
       "  </thead>\n",
       "  <tbody>\n",
       "    <tr>\n",
       "      <th>CC(C)(C)[C@@H]1CC[C@@](C)(F)[C@H](Br)C1</th>\n",
       "      <th>6890270</th>\n",
       "      <td>/home/projects/graph/data/batch_6500000/6890270</td>\n",
       "      <td>No</td>\n",
       "      <td>False</td>\n",
       "    </tr>\n",
       "    <tr>\n",
       "      <th>Cc1cc(-c2nc3cc(F)ccc3c3cc4c(cc23)OCO4)ccc1F</th>\n",
       "      <th>27615522</th>\n",
       "      <td>/home/projects/graph/data/batch_6500000/27615522</td>\n",
       "      <td>No</td>\n",
       "      <td>False</td>\n",
       "    </tr>\n",
       "    <tr>\n",
       "      <th>[Gd+3].[Na+].[O-]B([O-])[O-].[Tb+3]</th>\n",
       "      <th>29164535</th>\n",
       "      <td>/home/projects/graph/data/batch_6500000/29164535</td>\n",
       "      <td>No</td>\n",
       "      <td>True</td>\n",
       "    </tr>\n",
       "    <tr>\n",
       "      <th>Nc1cc(F)c(N2CC(F)C2)c(F)c1</th>\n",
       "      <th>11230426</th>\n",
       "      <td>/home/projects/graph/data/batch_6500000/11230426</td>\n",
       "      <td>No</td>\n",
       "      <td>False</td>\n",
       "    </tr>\n",
       "    <tr>\n",
       "      <th>CCCCOc1ccc(-c2nc(-c3ccc(Cl)cc3)[nH]c2-c2ccncc2)c(OCCCC)c1</th>\n",
       "      <th>9019791</th>\n",
       "      <td>/home/projects/graph/data/batch_6500000/9019791</td>\n",
       "      <td>No</td>\n",
       "      <td>False</td>\n",
       "    </tr>\n",
       "    <tr>\n",
       "      <th>...</th>\n",
       "      <th>...</th>\n",
       "      <td>...</td>\n",
       "      <td>...</td>\n",
       "      <td>...</td>\n",
       "    </tr>\n",
       "    <tr>\n",
       "      <th>CCOC(=O)C(CC)(CC)P(=O)(OCC)OCC</th>\n",
       "      <th>26761831</th>\n",
       "      <td>/home/projects/graph/data/batch_12600000/26761831</td>\n",
       "      <td>No</td>\n",
       "      <td>False</td>\n",
       "    </tr>\n",
       "    <tr>\n",
       "      <th>N#CC(COC(=O)c1ccccc1)OC(=O)c1ccccc1</th>\n",
       "      <th>3409746</th>\n",
       "      <td>/home/projects/graph/data/batch_12600000/3409746</td>\n",
       "      <td>No</td>\n",
       "      <td>False</td>\n",
       "    </tr>\n",
       "    <tr>\n",
       "      <th>CN(O)C(CCC(C)(C)O)C1=CCCCC1</th>\n",
       "      <th>6138726</th>\n",
       "      <td>/home/projects/graph/data/batch_12600000/6138726</td>\n",
       "      <td>No</td>\n",
       "      <td>False</td>\n",
       "    </tr>\n",
       "    <tr>\n",
       "      <th>CC(C)(C)c1ccc2c(c1)c1cc(C(C)(C)C)ccc1n2C(=O)[O-].[Li+]</th>\n",
       "      <th>22727365</th>\n",
       "      <td>/home/projects/graph/data/batch_12600000/22727365</td>\n",
       "      <td>No</td>\n",
       "      <td>True</td>\n",
       "    </tr>\n",
       "    <tr>\n",
       "      <th>COc1ccc(CCl)cc1OCc1ccc(C(F)(F)F)cc1</th>\n",
       "      <th>11404182</th>\n",
       "      <td>/home/projects/graph/data/batch_12600000/11404182</td>\n",
       "      <td>No</td>\n",
       "      <td>False</td>\n",
       "    </tr>\n",
       "  </tbody>\n",
       "</table>\n",
       "<p>16129451 rows × 3 columns</p>\n",
       "</div>"
      ],
      "text/plain": [
       "                                                                                                   MolFileAddress  \\\n",
       "Smiles                                             SubstanceID                                                      \n",
       "CC(C)(C)[C@@H]1CC[C@@](C)(F)[C@H](Br)C1            6890270        /home/projects/graph/data/batch_6500000/6890270   \n",
       "Cc1cc(-c2nc3cc(F)ccc3c3cc4c(cc23)OCO4)ccc1F        27615522      /home/projects/graph/data/batch_6500000/27615522   \n",
       "[Gd+3].[Na+].[O-]B([O-])[O-].[Tb+3]                29164535      /home/projects/graph/data/batch_6500000/29164535   \n",
       "Nc1cc(F)c(N2CC(F)C2)c(F)c1                         11230426      /home/projects/graph/data/batch_6500000/11230426   \n",
       "CCCCOc1ccc(-c2nc(-c3ccc(Cl)cc3)[nH]c2-c2ccncc2)... 9019791        /home/projects/graph/data/batch_6500000/9019791   \n",
       "...                                                                                                           ...   \n",
       "CCOC(=O)C(CC)(CC)P(=O)(OCC)OCC                     26761831     /home/projects/graph/data/batch_12600000/26761831   \n",
       "N#CC(COC(=O)c1ccccc1)OC(=O)c1ccccc1                3409746       /home/projects/graph/data/batch_12600000/3409746   \n",
       "CN(O)C(CCC(C)(C)O)C1=CCCCC1                        6138726       /home/projects/graph/data/batch_12600000/6138726   \n",
       "CC(C)(C)c1ccc2c(c1)c1cc(C(C)(C)C)ccc1n2C(=O)[O-... 22727365     /home/projects/graph/data/batch_12600000/22727365   \n",
       "COc1ccc(CCl)cc1OCc1ccc(C(F)(F)F)cc1                11404182     /home/projects/graph/data/batch_12600000/11404182   \n",
       "\n",
       "                                                               Error  \\\n",
       "Smiles                                             SubstanceID         \n",
       "CC(C)(C)[C@@H]1CC[C@@](C)(F)[C@H](Br)C1            6890270        No   \n",
       "Cc1cc(-c2nc3cc(F)ccc3c3cc4c(cc23)OCO4)ccc1F        27615522       No   \n",
       "[Gd+3].[Na+].[O-]B([O-])[O-].[Tb+3]                29164535       No   \n",
       "Nc1cc(F)c(N2CC(F)C2)c(F)c1                         11230426       No   \n",
       "CCCCOc1ccc(-c2nc(-c3ccc(Cl)cc3)[nH]c2-c2ccncc2)... 9019791        No   \n",
       "...                                                              ...   \n",
       "CCOC(=O)C(CC)(CC)P(=O)(OCC)OCC                     26761831       No   \n",
       "N#CC(COC(=O)c1ccccc1)OC(=O)c1ccccc1                3409746        No   \n",
       "CN(O)C(CCC(C)(C)O)C1=CCCCC1                        6138726        No   \n",
       "CC(C)(C)c1ccc2c(c1)c1cc(C(C)(C)C)ccc1n2C(=O)[O-... 22727365       No   \n",
       "COc1ccc(CCl)cc1OCc1ccc(C(F)(F)F)cc1                11404182       No   \n",
       "\n",
       "                                                               >1 Compound  \n",
       "Smiles                                             SubstanceID              \n",
       "CC(C)(C)[C@@H]1CC[C@@](C)(F)[C@H](Br)C1            6890270           False  \n",
       "Cc1cc(-c2nc3cc(F)ccc3c3cc4c(cc23)OCO4)ccc1F        27615522          False  \n",
       "[Gd+3].[Na+].[O-]B([O-])[O-].[Tb+3]                29164535           True  \n",
       "Nc1cc(F)c(N2CC(F)C2)c(F)c1                         11230426          False  \n",
       "CCCCOc1ccc(-c2nc(-c3ccc(Cl)cc3)[nH]c2-c2ccncc2)... 9019791           False  \n",
       "...                                                                    ...  \n",
       "CCOC(=O)C(CC)(CC)P(=O)(OCC)OCC                     26761831          False  \n",
       "N#CC(COC(=O)c1ccccc1)OC(=O)c1ccccc1                3409746           False  \n",
       "CN(O)C(CCC(C)(C)O)C1=CCCCC1                        6138726           False  \n",
       "CC(C)(C)c1ccc2c(c1)c1cc(C(C)(C)C)ccc1n2C(=O)[O-... 22727365           True  \n",
       "COc1ccc(CCl)cc1OCc1ccc(C(F)(F)F)cc1                11404182          False  \n",
       "\n",
       "[16129451 rows x 3 columns]"
      ]
     },
     "execution_count": 6,
     "metadata": {},
     "output_type": "execute_result"
    }
   ],
   "source": [
    "substancedb"
   ]
  },
  {
   "cell_type": "markdown",
   "metadata": {},
   "source": [
    "Finding an entry by Smiles and Reaxys ID"
   ]
  },
  {
   "cell_type": "code",
   "execution_count": 14,
   "metadata": {
    "ExecuteTime": {
     "end_time": "2021-02-18T13:14:58.714458Z",
     "start_time": "2021-02-18T13:14:58.651789Z"
    }
   },
   "outputs": [
    {
     "data": {
      "text/html": [
       "<div>\n",
       "<style scoped>\n",
       "    .dataframe tbody tr th:only-of-type {\n",
       "        vertical-align: middle;\n",
       "    }\n",
       "\n",
       "    .dataframe tbody tr th {\n",
       "        vertical-align: top;\n",
       "    }\n",
       "\n",
       "    .dataframe thead th {\n",
       "        text-align: right;\n",
       "    }\n",
       "</style>\n",
       "<table border=\"1\" class=\"dataframe\">\n",
       "  <thead>\n",
       "    <tr style=\"text-align: right;\">\n",
       "      <th></th>\n",
       "      <th>MolFileAddress</th>\n",
       "      <th>Error</th>\n",
       "      <th>&gt;1 Compound</th>\n",
       "    </tr>\n",
       "    <tr>\n",
       "      <th>SubstanceID</th>\n",
       "      <th></th>\n",
       "      <th></th>\n",
       "      <th></th>\n",
       "    </tr>\n",
       "  </thead>\n",
       "  <tbody>\n",
       "    <tr>\n",
       "      <th>22727365</th>\n",
       "      <td>/home/projects/graph/data/batch_12600000/22727365</td>\n",
       "      <td>No</td>\n",
       "      <td>True</td>\n",
       "    </tr>\n",
       "  </tbody>\n",
       "</table>\n",
       "</div>"
      ],
      "text/plain": [
       "                                                MolFileAddress Error  \\\n",
       "SubstanceID                                                            \n",
       "22727365     /home/projects/graph/data/batch_12600000/22727365    No   \n",
       "\n",
       "            >1 Compound  \n",
       "SubstanceID              \n",
       "22727365           True  "
      ]
     },
     "execution_count": 14,
     "metadata": {},
     "output_type": "execute_result"
    },
    {
     "data": {
      "text/plain": [
       "22727365"
      ]
     },
     "execution_count": 14,
     "metadata": {},
     "output_type": "execute_result"
    }
   ],
   "source": [
    "substancedb.xs('CC(C)(C)c1ccc2c(c1)c1cc(C(C)(C)C)ccc1n2C(=O)[O-].[Li+]')\n",
    "substancedb.xs('CC(C)(C)c1ccc2c(c1)c1cc(C(C)(C)C)ccc1n2C(=O)[O-].[Li+]').index[0]"
   ]
  },
  {
   "cell_type": "markdown",
   "metadata": {},
   "source": [
    "Finding an entry by Reaxys ID and Smiles"
   ]
  },
  {
   "cell_type": "code",
   "execution_count": 15,
   "metadata": {
    "ExecuteTime": {
     "end_time": "2021-02-18T13:15:26.470808Z",
     "start_time": "2021-02-18T13:15:26.404872Z"
    }
   },
   "outputs": [
    {
     "data": {
      "text/html": [
       "<div>\n",
       "<style scoped>\n",
       "    .dataframe tbody tr th:only-of-type {\n",
       "        vertical-align: middle;\n",
       "    }\n",
       "\n",
       "    .dataframe tbody tr th {\n",
       "        vertical-align: top;\n",
       "    }\n",
       "\n",
       "    .dataframe thead th {\n",
       "        text-align: right;\n",
       "    }\n",
       "</style>\n",
       "<table border=\"1\" class=\"dataframe\">\n",
       "  <thead>\n",
       "    <tr style=\"text-align: right;\">\n",
       "      <th></th>\n",
       "      <th>MolFileAddress</th>\n",
       "      <th>Error</th>\n",
       "      <th>&gt;1 Compound</th>\n",
       "    </tr>\n",
       "    <tr>\n",
       "      <th>Smiles</th>\n",
       "      <th></th>\n",
       "      <th></th>\n",
       "      <th></th>\n",
       "    </tr>\n",
       "  </thead>\n",
       "  <tbody>\n",
       "    <tr>\n",
       "      <th>CC(C)(C)c1ccc2c(c1)c1cc(C(C)(C)C)ccc1n2C(=O)[O-].[Li+]</th>\n",
       "      <td>/home/projects/graph/data/batch_12600000/22727365</td>\n",
       "      <td>No</td>\n",
       "      <td>True</td>\n",
       "    </tr>\n",
       "  </tbody>\n",
       "</table>\n",
       "</div>"
      ],
      "text/plain": [
       "                                                                                       MolFileAddress  \\\n",
       "Smiles                                                                                                  \n",
       "CC(C)(C)c1ccc2c(c1)c1cc(C(C)(C)C)ccc1n2C(=O)[O-...  /home/projects/graph/data/batch_12600000/22727365   \n",
       "\n",
       "                                                   Error >1 Compound  \n",
       "Smiles                                                                \n",
       "CC(C)(C)c1ccc2c(c1)c1cc(C(C)(C)C)ccc1n2C(=O)[O-...    No        True  "
      ]
     },
     "execution_count": 15,
     "metadata": {},
     "output_type": "execute_result"
    },
    {
     "data": {
      "text/plain": [
       "'CC(C)(C)c1ccc2c(c1)c1cc(C(C)(C)C)ccc1n2C(=O)[O-].[Li+]'"
      ]
     },
     "execution_count": 15,
     "metadata": {},
     "output_type": "execute_result"
    }
   ],
   "source": [
    "substancedb.xs(22727365,level=1)\n",
    "substancedb.xs(22727365,level=1).index[0]"
   ]
  }
 ],
 "metadata": {
  "kernelspec": {
   "display_name": "Python [conda env:impurityproject] *",
   "language": "python",
   "name": "conda-env-impurityproject-py"
  },
  "language_info": {
   "codemirror_mode": {
    "name": "ipython",
    "version": 3
   },
   "file_extension": ".py",
   "mimetype": "text/x-python",
   "name": "python",
   "nbconvert_exporter": "python",
   "pygments_lexer": "ipython3",
   "version": "3.8.5"
  },
  "toc": {
   "base_numbering": 1,
   "nav_menu": {},
   "number_sections": true,
   "sideBar": true,
   "skip_h1_title": false,
   "title_cell": "Table of Contents",
   "title_sidebar": "Contents",
   "toc_cell": false,
   "toc_position": {
    "height": "calc(100% - 180px)",
    "left": "10px",
    "top": "150px",
    "width": "218.641px"
   },
   "toc_section_display": true,
   "toc_window_display": true
  }
 },
 "nbformat": 4,
 "nbformat_minor": 4
}
