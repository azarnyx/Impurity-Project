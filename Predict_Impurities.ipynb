{
 "cells": [
  {
   "cell_type": "code",
   "execution_count": 2,
   "metadata": {},
   "outputs": [
    {
     "ename": "ModuleNotFoundError",
     "evalue": "No module named 'helpCompound'",
     "output_type": "error",
     "traceback": [
      "\u001b[0;31m---------------------------------------------------------------------------\u001b[0m",
      "\u001b[0;31mModuleNotFoundError\u001b[0m                       Traceback (most recent call last)",
      "\u001b[0;32m<ipython-input-2-78fb2c00eedc>\u001b[0m in \u001b[0;36m<module>\u001b[0;34m\u001b[0m\n\u001b[1;32m     27\u001b[0m \u001b[0;32mimport\u001b[0m \u001b[0mcopy\u001b[0m\u001b[0;34m,\u001b[0m \u001b[0mitertools\u001b[0m\u001b[0;34m,\u001b[0m\u001b[0mshutil\u001b[0m\u001b[0;34m\u001b[0m\u001b[0;34m\u001b[0m\u001b[0m\n\u001b[1;32m     28\u001b[0m \u001b[0;32mfrom\u001b[0m \u001b[0mcollections\u001b[0m \u001b[0;32mimport\u001b[0m \u001b[0mCounter\u001b[0m\u001b[0;34m\u001b[0m\u001b[0;34m\u001b[0m\u001b[0m\n\u001b[0;32m---> 29\u001b[0;31m \u001b[0;32mfrom\u001b[0m \u001b[0mhelpCompound\u001b[0m \u001b[0;32mimport\u001b[0m \u001b[0mhc_smilesDict\u001b[0m\u001b[0;34m,\u001b[0m \u001b[0mhc_molDict\u001b[0m\u001b[0;34m\u001b[0m\u001b[0;34m\u001b[0m\u001b[0m\n\u001b[0m\u001b[1;32m     30\u001b[0m \u001b[0;32mfrom\u001b[0m \u001b[0mFindFunctionalGroups\u001b[0m \u001b[0;32mimport\u001b[0m \u001b[0midentify_functional_groups\u001b[0m \u001b[0;32mas\u001b[0m \u001b[0mIFG\u001b[0m\u001b[0;34m\u001b[0m\u001b[0;34m\u001b[0m\u001b[0m\n",
      "\u001b[0;31mModuleNotFoundError\u001b[0m: No module named 'helpCompound'"
     ]
    }
   ],
   "source": [
    "from rdkit import Chem\n",
    "from rdkit.Chem import AllChem #Overall support\n",
    "from rdkit.Chem import FunctionalGroups\n",
    "from rdkit.Chem import PeriodicTable, GetPeriodicTable\n",
    "import cirpy\n",
    "from rdkit.Chem import RDConfig\n",
    "from rdkit.Chem import Draw #For drawing molecules/reactions\n",
    "from rdkit.Chem import rdChemReactions #Reaction processing\n",
    "from rdkit.Chem.Draw import rdMolDraw2D #Drawing 2D molecules/reactions\n",
    "from rdkit.Chem.Draw import IPythonConsole\n",
    "from IPython.display import display, Image\n",
    "from IPython.display import SVG  #For SVG support\n",
    "from PIL import Image #Working with images\n",
    "import matplotlib.pyplot as plt\n",
    "import io\n",
    "import os #Working with the OS\n",
    "from rxnmapper import RXNMapper #Importing RXNMapper for unsupervised atom mapping\n",
    "from ttictoc import tic,toc\n",
    "from rdkit.Chem import BRICS #For fragmenting\n",
    "from chempy import balance_stoichiometry\n",
    "import json\n",
    "try:\n",
    "    import pickle5 as pickle #Only if pickle doesn't work\n",
    "except Exception:\n",
    "    import pickle\n",
    "import cairosvg\n",
    "import copy, itertools,shutil\n",
    "from collections import Counter\n",
    "from helpCompound import hc_smilesDict, hc_molDict\n",
    "from FindFunctionalGroups import identify_functional_groups as IFG"
   ]
  },
  {
   "cell_type": "code",
   "execution_count": 4,
   "metadata": {},
   "outputs": [
    {
     "data": {
      "text/plain": [
       "'/home/aa2133/Impurity-Project/Jupyter-Notebook'"
      ]
     },
     "execution_count": 4,
     "metadata": {},
     "output_type": "execute_result"
    }
   ],
   "source": []
  }
 ],
 "metadata": {
  "kernelspec": {
   "display_name": "Python 3",
   "language": "python",
   "name": "python3"
  },
  "language_info": {
   "codemirror_mode": {
    "name": "ipython",
    "version": 3
   },
   "file_extension": ".py",
   "mimetype": "text/x-python",
   "name": "python",
   "nbconvert_exporter": "python",
   "pygments_lexer": "ipython3",
   "version": "3.8.5"
  }
 },
 "nbformat": 4,
 "nbformat_minor": 4
}
